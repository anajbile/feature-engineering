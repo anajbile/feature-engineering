{
 "cells": [
  {
   "cell_type": "markdown",
   "metadata": {
    "id": "cFKJuKwGgE7F"
   },
   "source": [
    "# Intro"
   ]
  },
  {
   "cell_type": "code",
   "execution_count": 110,
   "metadata": {
    "colab": {
     "base_uri": "https://localhost:8080/"
    },
    "id": "QVy1O86wZmnP",
    "outputId": "d7b8efca-a06d-4ee7-81fc-8e616814f8a2"
   },
   "outputs": [
    {
     "name": "stderr",
     "output_type": "stream",
     "text": [
      "[nltk_data] Downloading package punkt to\n",
      "[nltk_data]     C:\\Users\\abhis\\AppData\\Roaming\\nltk_data...\n",
      "[nltk_data]   Package punkt is already up-to-date!\n",
      "[nltk_data] Downloading package wordnet to\n",
      "[nltk_data]     C:\\Users\\abhis\\AppData\\Roaming\\nltk_data...\n",
      "[nltk_data]   Package wordnet is already up-to-date!\n",
      "[nltk_data] Downloading package stopwords to\n",
      "[nltk_data]     C:\\Users\\abhis\\AppData\\Roaming\\nltk_data...\n",
      "[nltk_data]   Package stopwords is already up-to-date!\n"
     ]
    }
   ],
   "source": [
    "#imports\n",
    "import pandas as pd\n",
    "import numpy as np\n",
    "import matplotlib.pyplot as plt\n",
    "import seaborn as sns\n",
    "import re, os, string\n",
    "import nltk\n",
    "nltk.download('punkt')\n",
    "nltk.download('wordnet')\n",
    "nltk.download('stopwords')\n",
    "from nltk import word_tokenize\n",
    "from nltk.corpus import stopwords\n",
    "from nltk.stem import WordNetLemmatizer\n",
    "import arrow\n",
    "from datetime import datetime"
   ]
  },
  {
   "cell_type": "code",
   "execution_count": 111,
   "metadata": {
    "colab": {
     "base_uri": "https://localhost:8080/",
     "height": 35
    },
    "id": "dFnqciNN1Yz9",
    "outputId": "bd605434-7741-4a1c-8176-f611bebf0cc7"
   },
   "outputs": [
    {
     "data": {
      "text/plain": [
       "'c:\\\\Users\\\\abhis\\\\Documents\\\\git_repo\\\\feature-engineering'"
      ]
     },
     "execution_count": 111,
     "metadata": {},
     "output_type": "execute_result"
    }
   ],
   "source": [
    "os.getcwd()"
   ]
  },
  {
   "cell_type": "code",
   "execution_count": 112,
   "metadata": {
    "colab": {
     "base_uri": "https://localhost:8080/"
    },
    "id": "Fk6Zh398c1QT",
    "outputId": "494a6e21-ed16-4968-86d0-35e5064b29eb"
   },
   "outputs": [],
   "source": [
    "# # access google drive\n",
    "# from google.colab import drive\n",
    "# drive.mount('/gdrive')\n",
    "# %cd /gdrive/My Drive/UFO"
   ]
  },
  {
   "cell_type": "code",
   "execution_count": 113,
   "metadata": {
    "colab": {
     "base_uri": "https://localhost:8080/"
    },
    "id": "1_yzOmQqdASt",
    "outputId": "e206383f-277a-4b91-aa9e-8a60c529869a"
   },
   "outputs": [],
   "source": [
    "# # change folder to UFO\n",
    "# %cd /gdrive/MyDrive/UFO/"
   ]
  },
  {
   "cell_type": "code",
   "execution_count": 114,
   "metadata": {},
   "outputs": [
    {
     "data": {
      "text/plain": [
       "'c:\\\\Users\\\\abhis\\\\Documents\\\\git_repo\\\\feature-engineering'"
      ]
     },
     "execution_count": 114,
     "metadata": {},
     "output_type": "execute_result"
    }
   ],
   "source": [
    "pwd()"
   ]
  },
  {
   "cell_type": "code",
   "execution_count": 115,
   "metadata": {
    "id": "9eckOgzQdiRV"
   },
   "outputs": [],
   "source": [
    "# read the csv datasets\n",
    "df = pd.read_csv('C:/Users/abhis\\Documents/feature-eng/data/UFO/ufo.csv')\n",
    "#df = pd.read_csv('/Users/rahimjiwa/Documents/Github/feature-engineering/data/UFO/ufo.csv')"
   ]
  },
  {
   "cell_type": "code",
   "execution_count": 116,
   "metadata": {
    "colab": {
     "base_uri": "https://localhost:8080/"
    },
    "id": "S1bcxf9JeRn_",
    "outputId": "a8caede5-1f01-4ca2-c3b9-8740fe75582c"
   },
   "outputs": [
    {
     "name": "stdout",
     "output_type": "stream",
     "text": [
      "<class 'pandas.core.frame.DataFrame'>\n",
      "RangeIndex: 88124 entries, 0 to 88123\n",
      "Data columns (total 13 columns):\n",
      " #   Column             Non-Null Count  Dtype  \n",
      "---  ------             --------------  -----  \n",
      " 0   Text_ID            88124 non-null  int64  \n",
      " 1   summary            88094 non-null  object \n",
      " 2   city               87890 non-null  object \n",
      " 3   state              82889 non-null  object \n",
      " 4   date_time          86938 non-null  object \n",
      " 5   shape              85626 non-null  object \n",
      " 6   stats              88087 non-null  object \n",
      " 7   report_link        88124 non-null  object \n",
      " 8   text               88069 non-null  object \n",
      " 9   posted             86938 non-null  object \n",
      " 10  city_latitude      72012 non-null  float64\n",
      " 11  city_longitude     72012 non-null  float64\n",
      " 12  Duration Category  88124 non-null  object \n",
      "dtypes: float64(2), int64(1), object(10)\n",
      "memory usage: 8.7+ MB\n"
     ]
    }
   ],
   "source": [
    "# check the info\n",
    "df.info()"
   ]
  },
  {
   "cell_type": "code",
   "execution_count": 117,
   "metadata": {
    "colab": {
     "base_uri": "https://localhost:8080/"
    },
    "id": "aMhdnHG8dRlz",
    "outputId": "9ea9b730-2aed-422b-db33-8cde026b896e"
   },
   "outputs": [
    {
     "data": {
      "text/plain": [
       "Text_ID              88124\n",
       "summary              86949\n",
       "city                 16915\n",
       "state                   65\n",
       "date_time            73122\n",
       "shape                   21\n",
       "stats                88071\n",
       "report_link          88124\n",
       "text                 87419\n",
       "posted                 387\n",
       "city_latitude        11208\n",
       "city_longitude       11388\n",
       "Duration Category        5\n",
       "dtype: int64"
      ]
     },
     "execution_count": 117,
     "metadata": {},
     "output_type": "execute_result"
    }
   ],
   "source": [
    "# check the number of unique instances\n",
    "df.nunique()"
   ]
  },
  {
   "cell_type": "code",
   "execution_count": 118,
   "metadata": {
    "id": "zT-dokVWefIU"
   },
   "outputs": [],
   "source": [
    "# it doesn't look like Text_ID will be useful, let's start by dropping that\n",
    "#df.drop(columns='Text_ID', inplace=True)"
   ]
  },
  {
   "cell_type": "code",
   "execution_count": 119,
   "metadata": {
    "colab": {
     "base_uri": "https://localhost:8080/"
    },
    "id": "5hQxB50LernY",
    "outputId": "e1715ca2-3d53-4c2e-945d-e843191d05bf"
   },
   "outputs": [
    {
     "data": {
      "text/plain": [
       "False    88124\n",
       "dtype: int64"
      ]
     },
     "execution_count": 119,
     "metadata": {},
     "output_type": "execute_result"
    }
   ],
   "source": [
    "# now let's check for and drop any duplicates\n",
    "df.duplicated().value_counts()\n",
    "# so according to this, there are no duplicates, maybe this is something we should check once all the preprocessing is done"
   ]
  },
  {
   "cell_type": "code",
   "execution_count": 120,
   "metadata": {
    "colab": {
     "base_uri": "https://localhost:8080/"
    },
    "id": "Ot4PcNxYppDt",
    "outputId": "40859593-b5f7-47ec-f7df-ea84389e4249"
   },
   "outputs": [
    {
     "data": {
      "text/plain": [
       "88124"
      ]
     },
     "execution_count": 120,
     "metadata": {},
     "output_type": "execute_result"
    }
   ],
   "source": [
    "# it is important to note, that the web links could be different for them\n",
    "df['report_link'].nunique()"
   ]
  },
  {
   "cell_type": "code",
   "execution_count": 121,
   "metadata": {
    "id": "YNdFCSqZqu4R"
   },
   "outputs": [],
   "source": [
    "# we are just renaming this for simplicity\n",
    "df.rename(columns={\"Duration Category\":\"Duration\"}, inplace=True)"
   ]
  },
  {
   "cell_type": "code",
   "execution_count": 122,
   "metadata": {
    "id": "v-PsB-0Kpzd-"
   },
   "outputs": [],
   "source": [
    "# this suggests that all web links are unique, this however gives you an issue of having duplicates\n",
    "# that are simply different links, for this, we will drop the duplicates ignoring this column\n",
    "# can we drop this column and then drop the duplicates?\n",
    "# if we don't use or plan to scrape the data then we should be able to\n",
    "#df.drop(columns=\"report_link\", inplace=True)\n",
    "df.drop_duplicates(subset=['summary','city','state','date_time','shape',\n",
    "                           'stats','text','posted','city_latitude','city_longitude','Duration'],inplace=True)"
   ]
  },
  {
   "cell_type": "code",
   "execution_count": 123,
   "metadata": {
    "colab": {
     "base_uri": "https://localhost:8080/"
    },
    "id": "sBorDVp0qOxX",
    "outputId": "ec58abc5-c7b5-42d8-daaf-e72cbaa81d4a"
   },
   "outputs": [
    {
     "name": "stdout",
     "output_type": "stream",
     "text": [
      "<class 'pandas.core.frame.DataFrame'>\n",
      "Int64Index: 88122 entries, 0 to 88123\n",
      "Data columns (total 13 columns):\n",
      " #   Column          Non-Null Count  Dtype  \n",
      "---  ------          --------------  -----  \n",
      " 0   Text_ID         88122 non-null  int64  \n",
      " 1   summary         88092 non-null  object \n",
      " 2   city            87888 non-null  object \n",
      " 3   state           82888 non-null  object \n",
      " 4   date_time       86936 non-null  object \n",
      " 5   shape           85624 non-null  object \n",
      " 6   stats           88085 non-null  object \n",
      " 7   report_link     88122 non-null  object \n",
      " 8   text            88067 non-null  object \n",
      " 9   posted          86936 non-null  object \n",
      " 10  city_latitude   72011 non-null  float64\n",
      " 11  city_longitude  72011 non-null  float64\n",
      " 12  Duration        88122 non-null  object \n",
      "dtypes: float64(2), int64(1), object(10)\n",
      "memory usage: 9.4+ MB\n"
     ]
    }
   ],
   "source": [
    "df.info()"
   ]
  },
  {
   "cell_type": "code",
   "execution_count": 124,
   "metadata": {
    "colab": {
     "base_uri": "https://localhost:8080/"
    },
    "id": "Z9qrVeZRfWEo",
    "outputId": "e8d2dad1-326d-4db8-abc7-b2384303bcfa"
   },
   "outputs": [
    {
     "name": "stdout",
     "output_type": "stream",
     "text": [
      "<class 'pandas.core.frame.DataFrame'>\n",
      "Int64Index: 18835 entries, 2 to 88123\n",
      "Data columns (total 13 columns):\n",
      " #   Column          Non-Null Count  Dtype  \n",
      "---  ------          --------------  -----  \n",
      " 0   Text_ID         18835 non-null  int64  \n",
      " 1   summary         18805 non-null  object \n",
      " 2   city            18601 non-null  object \n",
      " 3   state           13601 non-null  object \n",
      " 4   date_time       17649 non-null  object \n",
      " 5   shape           16337 non-null  object \n",
      " 6   stats           18798 non-null  object \n",
      " 7   report_link     18835 non-null  object \n",
      " 8   text            18780 non-null  object \n",
      " 9   posted          17649 non-null  object \n",
      " 10  city_latitude   2724 non-null   float64\n",
      " 11  city_longitude  2724 non-null   float64\n",
      " 12  Duration        18835 non-null  object \n",
      "dtypes: float64(2), int64(1), object(10)\n",
      "memory usage: 2.0+ MB\n"
     ]
    }
   ],
   "source": [
    "# how many columns have NaN\n",
    "is_nan = df.isnull()\n",
    "row_has_nan  = is_nan.any(axis=1)\n",
    "rows_with_nan = df[row_has_nan]\n",
    "# get info\n",
    "rows_with_nan.info()"
   ]
  },
  {
   "cell_type": "code",
   "execution_count": 125,
   "metadata": {
    "id": "9t7LxG4Vf3qG"
   },
   "outputs": [],
   "source": [
    "# we can see here, that we are missing quite a bit of data and will have to work to preprocess and enrich the dataset\n"
   ]
  },
  {
   "cell_type": "markdown",
   "metadata": {
    "id": "-Rx3FX2bgCyr"
   },
   "source": [
    "# Summary/Text"
   ]
  },
  {
   "cell_type": "code",
   "execution_count": 126,
   "metadata": {
    "colab": {
     "base_uri": "https://localhost:8080/"
    },
    "id": "Bn-IkfbEgSbp",
    "outputId": "57fca2f7-853e-4c01-c09b-6659c1f4542c"
   },
   "outputs": [
    {
     "data": {
      "text/plain": [
       "0        My wife was driving southeast on a fairly popu...\n",
       "1        I think that I may caught a UFO on the NBC Nig...\n",
       "2        I woke up late in the afternoon 3:30-4pm. I we...\n",
       "3        I was driving towards the intersection of fall...\n",
       "4        In Peoria Arizona, I saw a cigar shaped craft ...\n",
       "                               ...                        \n",
       "88119    4 lights in formation over Tempe appear while ...\n",
       "88120    2 bright star like lights in the NNW skys,  ((...\n",
       "88121    I just witnessed a ‘Phoenix Lights’ type of fo...\n",
       "88122    Witnessed an orange, slow moving light. Was lo...\n",
       "88123    Glowing lights in formation  just south of San...\n",
       "Name: summary, Length: 88122, dtype: object"
      ]
     },
     "execution_count": 126,
     "metadata": {},
     "output_type": "execute_result"
    }
   ],
   "source": [
    "# let's start by taking a look at the summary and text columns\n",
    "df['summary']"
   ]
  },
  {
   "cell_type": "code",
   "execution_count": 127,
   "metadata": {
    "colab": {
     "base_uri": "https://localhost:8080/"
    },
    "id": "EYSdyeiEg92-",
    "outputId": "747e93c7-4a83-46ef-a0fd-559b2688083d"
   },
   "outputs": [
    {
     "data": {
      "text/plain": [
       "0        My wife was driving southeast on a fairly popu...\n",
       "1        I think that I may caught a UFO on the NBC Nig...\n",
       "2        I woke up late in the afternoon 3:30-4pm.  I w...\n",
       "3        I was driving towards the intersection of fall...\n",
       "4        In Peoria, Arizona, I saw a cigar shaped craft...\n",
       "                               ...                        \n",
       "88119    4 lights in formation over Tempe appear while ...\n",
       "88120    2 bright star like lights in the NNW sky two b...\n",
       "88121    10/2/19 @ 8:03PM EST  UFO SIGHTING in the 3428...\n",
       "88122    Witnessed an orange, slow moving light. Was lo...\n",
       "88123    Glowing lights in formation  just south of San...\n",
       "Name: text, Length: 88122, dtype: object"
      ]
     },
     "execution_count": 127,
     "metadata": {},
     "output_type": "execute_result"
    }
   ],
   "source": [
    "# now lets look at text\n",
    "df['text']"
   ]
  },
  {
   "cell_type": "code",
   "execution_count": 128,
   "metadata": {
    "colab": {
     "base_uri": "https://localhost:8080/"
    },
    "id": "rRkja9tTg1QF",
    "outputId": "58477239-bd1b-4645-e8ee-2092231b4106"
   },
   "outputs": [
    {
     "name": "stdout",
     "output_type": "stream",
     "text": [
      "My wife was driving southeast on a fairly populated main side road, it was dark out side at about 6:43pm, And my wife exclaimed” fallin\n",
      "My wife was driving southeast on a fairly populated main side road, it was dark out side at about 6:43pm, And my wife exclaimed” falling star baby look quick!” When I looked up I saw not a falling star but a bright ball of light , one that was closer than any shooting star I have ever seen, it had a blue glow  changing into green colors of light as it fell from the sky. It fell as if falling from an invisible opening in the sky... the night was a crystal clear night sky  so no clouds or precipitation to obstruct our view and the object was closer than any I have ever witnessed before. The way the object fell was too slow to be a meteor or falling star, also noting that there was no “light trail” following behind the object as it fell. We watched it fall for about 5 seconds before it disappeared into the dark night sky somewhere close to the earth surface.  It was the strangest light; object; ufo... I have encountered and felt a duty to report it.\n",
      "In Peoria Arizona, I saw a cigar shaped craft floating above the neighborhood 500 feet up silent, emitted brilliant colors,\n",
      "In Peoria, Arizona, I saw a cigar shaped craft floating above the neighborhood 500 feet up silent, emitted brilliant colors, Peoria Arizona - 2009 - On my way home from work - normal evening - as I turned onto my home street i saw a huge huge craft floating above the neighborhood in front of me.  It was cigar shaped, but had a huge bulge in the middle (I used to call it a pregnant joint - if you are familiar with how that would look - skinny on the ends but bulging in the middle.  It made no noise at all and had circular shapes on the front which emitted different colored lights - like it pulsated the lights - orange to red to green to blue.  They were the most brilliant colors I’ve ever seen it’s hard to describe how perfect the colors were.  It was huge like an aircraft carrier in the sky.  It was floating and did not move at all.  I parked in my driveway and ran inside to tell my Roomate.  By the time I was outside, it was gone but there as a trail of haze.  I will never forget it. ((NUFORC Note:  Witness indicates that the date of the sighting is approximate.  PD)\n",
      "2 bright star like lights in the NNW skys,  ((anonymous report))\n",
      "2 bright star like lights in the NNW sky two bright star like lights appeared in the sky.  I witnessed them when letting my dogs out.  They were 2 or 3 times brighter than any other star in the sky.  they were in the Northern NNW sky.  They appeared to get a little closer to each other, then they faded away.  don't know how long they were in the sky before I saw them.  It was around 8:00PM\n"
     ]
    }
   ],
   "source": [
    "# taking a quick look, we can tell some preprocessing will need to be done\n",
    "# things to look out for\n",
    "# \"(())\", capitalization, punctuation\n",
    "# looking at just the snippets, i would hypothesize that a large number of the summaries are simple substrings of the text\n",
    "# furthermore it is likely that many do not add additional information\n",
    "# before we go ahead and simple drop the data, let's take a closer look\n",
    "\n",
    "# print out some instances\n",
    "print(df['summary'][0])\n",
    "print(df['text'][0])\n",
    "print(df['summary'][4])\n",
    "print(df['text'][4])\n",
    "print(df['summary'][88120])\n",
    "print(df['text'][88120])\n"
   ]
  },
  {
   "cell_type": "code",
   "execution_count": 129,
   "metadata": {
    "id": "XdIusK20iFxC"
   },
   "outputs": [],
   "source": [
    "# let's start by writing a function to extract the data from the (()) and remove it from the text, these seem to be internal notes\n",
    "def remove_notes(arg):\n",
    "  arg = re.findall('\\(\\(.*?\\)\\)', str(arg))\n",
    "  return arg\n",
    "\n",
    "# and we will write a separate function to strip out the notes from the data after\n",
    "def strip_notes(arg):\n",
    "  arg = re.sub('\\(\\(.*?\\)\\)','',str(arg))\n",
    "  return arg"
   ]
  },
  {
   "cell_type": "code",
   "execution_count": 130,
   "metadata": {
    "id": "eN5I3IT0jNI0"
   },
   "outputs": [],
   "source": [
    "# we can apply these to are data and to both the summary and the text columns\n",
    "df['summary_notes'] = df.apply(lambda row: remove_notes(row['summary']), axis=1)\n",
    "df['text_notes'] = df.apply(lambda row: remove_notes(row['text']), axis=1)\n",
    "# now let's use strip notes to strip the notes from the strings\n",
    "df['summary'] = df.apply(lambda row: strip_notes(row['summary']), axis=1)\n",
    "df['text'] = df.apply(lambda row: strip_notes(row['text']), axis=1)"
   ]
  },
  {
   "cell_type": "code",
   "execution_count": 131,
   "metadata": {
    "colab": {
     "base_uri": "https://localhost:8080/"
    },
    "id": "efTtammDj6lN",
    "outputId": "618de135-04bc-44ab-fff0-f27e7f7ae0ed"
   },
   "outputs": [
    {
     "data": {
      "text/plain": [
       "Text_ID                                                       88123\n",
       "summary           Witnessed an orange, slow moving light. Was lo...\n",
       "city                                                 Black Mountain\n",
       "state                                                            NC\n",
       "date_time                                       2019-10-02T22:00:00\n",
       "shape                                                      fireball\n",
       "stats             Occurred : 10/2/2019 22:00  (Entered as : 10/0...\n",
       "report_link       http://www.nuforc.org/webreports/149/S149447.html\n",
       "text              Witnessed an orange, slow moving light. Was lo...\n",
       "posted                                          2019-10-04T00:00:00\n",
       "city_latitude                                                35.605\n",
       "city_longitude                                             -82.3132\n",
       "Duration                                                    minutes\n",
       "summary_notes                                                    []\n",
       "text_notes                                                       []\n",
       "Name: 88122, dtype: object"
      ]
     },
     "execution_count": 131,
     "metadata": {},
     "output_type": "execute_result"
    }
   ],
   "source": [
    "#let's take a look at our data now, we can look at row 88120 because we know it has a (())\n",
    "df.iloc[88120,:]"
   ]
  },
  {
   "cell_type": "code",
   "execution_count": 132,
   "metadata": {
    "id": "pzGlxArkmPcn"
   },
   "outputs": [],
   "source": [
    "# we can see now, that our function extracted the note data, and remove the notes from the summary/text\n",
    "# now we can do other preprocessing like removing punctuation, lowercasing\n",
    "def basic_clean(arg):\n",
    "  # make all lowercase\n",
    "  arg = arg.lower()\n",
    "  # remove punctuation\n",
    "  arg = arg.translate(str.maketrans('','', string.punctuation))\n",
    "  # correct spacing issues\n",
    "  arg = \" \".join(arg.split())\n",
    "  return arg"
   ]
  },
  {
   "cell_type": "code",
   "execution_count": 133,
   "metadata": {
    "id": "zWGPj1Ugn9MV"
   },
   "outputs": [],
   "source": [
    "# let's use this on our textual data\n",
    "df['summary'] = df.apply(lambda row: basic_clean(row['summary']), axis=1)\n",
    "df['text'] = df.apply(lambda row: basic_clean(row['text']), axis=1)"
   ]
  },
  {
   "cell_type": "code",
   "execution_count": 134,
   "metadata": {
    "colab": {
     "base_uri": "https://localhost:8080/",
     "height": 206
    },
    "id": "pqhCOM_LoUXt",
    "outputId": "bbf3ce08-e11e-43e5-c4b9-2225dd1e74c7"
   },
   "outputs": [
    {
     "data": {
      "text/html": [
       "<div>\n",
       "<style scoped>\n",
       "    .dataframe tbody tr th:only-of-type {\n",
       "        vertical-align: middle;\n",
       "    }\n",
       "\n",
       "    .dataframe tbody tr th {\n",
       "        vertical-align: top;\n",
       "    }\n",
       "\n",
       "    .dataframe thead th {\n",
       "        text-align: right;\n",
       "    }\n",
       "</style>\n",
       "<table border=\"1\" class=\"dataframe\">\n",
       "  <thead>\n",
       "    <tr style=\"text-align: right;\">\n",
       "      <th></th>\n",
       "      <th>Text_ID</th>\n",
       "      <th>summary</th>\n",
       "      <th>city</th>\n",
       "      <th>state</th>\n",
       "      <th>date_time</th>\n",
       "      <th>shape</th>\n",
       "      <th>stats</th>\n",
       "      <th>report_link</th>\n",
       "      <th>text</th>\n",
       "      <th>posted</th>\n",
       "      <th>city_latitude</th>\n",
       "      <th>city_longitude</th>\n",
       "      <th>Duration</th>\n",
       "      <th>summary_notes</th>\n",
       "      <th>text_notes</th>\n",
       "    </tr>\n",
       "  </thead>\n",
       "  <tbody>\n",
       "    <tr>\n",
       "      <th>0</th>\n",
       "      <td>1</td>\n",
       "      <td>my wife was driving southeast on a fairly popu...</td>\n",
       "      <td>Chester</td>\n",
       "      <td>VA</td>\n",
       "      <td>2019-12-12T18:43:00</td>\n",
       "      <td>light</td>\n",
       "      <td>Occurred : 12/12/2019 18:43  (Entered as : 12/...</td>\n",
       "      <td>http://www.nuforc.org/webreports/151/S151739.html</td>\n",
       "      <td>my wife was driving southeast on a fairly popu...</td>\n",
       "      <td>2019-12-22T00:00:00</td>\n",
       "      <td>37.343152</td>\n",
       "      <td>-77.408582</td>\n",
       "      <td>seconds</td>\n",
       "      <td>[]</td>\n",
       "      <td>[]</td>\n",
       "    </tr>\n",
       "    <tr>\n",
       "      <th>1</th>\n",
       "      <td>2</td>\n",
       "      <td>i think that i may caught a ufo on the nbc nig...</td>\n",
       "      <td>Rocky Hill</td>\n",
       "      <td>CT</td>\n",
       "      <td>2019-03-22T18:30:00</td>\n",
       "      <td>circle</td>\n",
       "      <td>Occurred : 3/22/2019 18:30  (Entered as : 03/2...</td>\n",
       "      <td>http://www.nuforc.org/webreports/145/S145297.html</td>\n",
       "      <td>i think that i may caught a ufo on the nbc nig...</td>\n",
       "      <td>2019-03-29T00:00:00</td>\n",
       "      <td>41.664800</td>\n",
       "      <td>-72.639300</td>\n",
       "      <td>seconds</td>\n",
       "      <td>[]</td>\n",
       "      <td>[]</td>\n",
       "    </tr>\n",
       "    <tr>\n",
       "      <th>2</th>\n",
       "      <td>3</td>\n",
       "      <td>i woke up late in the afternoon 3304pm i went ...</td>\n",
       "      <td>NaN</td>\n",
       "      <td>NaN</td>\n",
       "      <td>NaN</td>\n",
       "      <td>NaN</td>\n",
       "      <td>Occurred : 4/1/2019 15:45  (Entered as : April...</td>\n",
       "      <td>http://www.nuforc.org/webreports/145/S145556.html</td>\n",
       "      <td>i woke up late in the afternoon 3304pm i went ...</td>\n",
       "      <td>NaN</td>\n",
       "      <td>NaN</td>\n",
       "      <td>NaN</td>\n",
       "      <td>Unknown</td>\n",
       "      <td>[]</td>\n",
       "      <td>[]</td>\n",
       "    </tr>\n",
       "  </tbody>\n",
       "</table>\n",
       "</div>"
      ],
      "text/plain": [
       "   Text_ID                                            summary        city  \\\n",
       "0        1  my wife was driving southeast on a fairly popu...     Chester   \n",
       "1        2  i think that i may caught a ufo on the nbc nig...  Rocky Hill   \n",
       "2        3  i woke up late in the afternoon 3304pm i went ...         NaN   \n",
       "\n",
       "  state            date_time   shape  \\\n",
       "0    VA  2019-12-12T18:43:00   light   \n",
       "1    CT  2019-03-22T18:30:00  circle   \n",
       "2   NaN                  NaN     NaN   \n",
       "\n",
       "                                               stats  \\\n",
       "0  Occurred : 12/12/2019 18:43  (Entered as : 12/...   \n",
       "1  Occurred : 3/22/2019 18:30  (Entered as : 03/2...   \n",
       "2  Occurred : 4/1/2019 15:45  (Entered as : April...   \n",
       "\n",
       "                                         report_link  \\\n",
       "0  http://www.nuforc.org/webreports/151/S151739.html   \n",
       "1  http://www.nuforc.org/webreports/145/S145297.html   \n",
       "2  http://www.nuforc.org/webreports/145/S145556.html   \n",
       "\n",
       "                                                text               posted  \\\n",
       "0  my wife was driving southeast on a fairly popu...  2019-12-22T00:00:00   \n",
       "1  i think that i may caught a ufo on the nbc nig...  2019-03-29T00:00:00   \n",
       "2  i woke up late in the afternoon 3304pm i went ...                  NaN   \n",
       "\n",
       "   city_latitude  city_longitude Duration summary_notes text_notes  \n",
       "0      37.343152      -77.408582  seconds            []         []  \n",
       "1      41.664800      -72.639300  seconds            []         []  \n",
       "2            NaN             NaN  Unknown            []         []  "
      ]
     },
     "execution_count": 134,
     "metadata": {},
     "output_type": "execute_result"
    }
   ],
   "source": [
    "# lets look at our data now\n",
    "df.head(3)"
   ]
  },
  {
   "cell_type": "code",
   "execution_count": 135,
   "metadata": {
    "colab": {
     "base_uri": "https://localhost:8080/"
    },
    "id": "OV3erbi8phMs",
    "outputId": "f1d2fce1-2e15-4d34-de9e-ec1db255a475"
   },
   "outputs": [
    {
     "data": {
      "text/plain": [
       "Text_ID                                                       88123\n",
       "summary           witnessed an orange slow moving light was look...\n",
       "city                                                 Black Mountain\n",
       "state                                                            NC\n",
       "date_time                                       2019-10-02T22:00:00\n",
       "shape                                                      fireball\n",
       "stats             Occurred : 10/2/2019 22:00  (Entered as : 10/0...\n",
       "report_link       http://www.nuforc.org/webreports/149/S149447.html\n",
       "text              witnessed an orange slow moving light was look...\n",
       "posted                                          2019-10-04T00:00:00\n",
       "city_latitude                                                35.605\n",
       "city_longitude                                             -82.3132\n",
       "Duration                                                    minutes\n",
       "summary_notes                                                    []\n",
       "text_notes                                                       []\n",
       "Name: 88122, dtype: object"
      ]
     },
     "execution_count": 135,
     "metadata": {},
     "output_type": "execute_result"
    }
   ],
   "source": [
    "df.iloc[88120,:]"
   ]
  },
  {
   "cell_type": "code",
   "execution_count": 136,
   "metadata": {
    "colab": {
     "base_uri": "https://localhost:8080/"
    },
    "id": "dw09HVoXqvem",
    "outputId": "00b4a45b-18ee-49b7-ca13-7c4969c575a3"
   },
   "outputs": [
    {
     "data": {
      "text/plain": [
       "True     81184\n",
       "False     6938\n",
       "Name: summary_in_text, dtype: int64"
      ]
     },
     "execution_count": 136,
     "metadata": {},
     "output_type": "execute_result"
    }
   ],
   "source": [
    "# okay, now we still have some minor issues here\n",
    "# let's look to see how many instances we have that are not clips\n",
    "# here we will look for if the str summary is in str text\n",
    "df['summary_in_text'] = df.apply(lambda row: row['summary'] in row['text'], axis=1)\n",
    "df['summary_in_text'].value_counts()"
   ]
  },
  {
   "cell_type": "code",
   "execution_count": 137,
   "metadata": {
    "colab": {
     "base_uri": "https://localhost:8080/",
     "height": 424
    },
    "id": "FGCWxV2vrK-9",
    "outputId": "f40641eb-3945-47b1-ded7-536c07a090e1"
   },
   "outputs": [
    {
     "data": {
      "text/html": [
       "<div>\n",
       "<style scoped>\n",
       "    .dataframe tbody tr th:only-of-type {\n",
       "        vertical-align: middle;\n",
       "    }\n",
       "\n",
       "    .dataframe tbody tr th {\n",
       "        vertical-align: top;\n",
       "    }\n",
       "\n",
       "    .dataframe thead th {\n",
       "        text-align: right;\n",
       "    }\n",
       "</style>\n",
       "<table border=\"1\" class=\"dataframe\">\n",
       "  <thead>\n",
       "    <tr style=\"text-align: right;\">\n",
       "      <th></th>\n",
       "      <th>summary</th>\n",
       "      <th>text</th>\n",
       "    </tr>\n",
       "  </thead>\n",
       "  <tbody>\n",
       "    <tr>\n",
       "      <th>11</th>\n",
       "      <td>2 tiny lights recorded for about a minute we w...</td>\n",
       "      <td>we think 2 ufos2 tiny lights recorded for abou...</td>\n",
       "    </tr>\n",
       "    <tr>\n",
       "      <th>26</th>\n",
       "      <td>spotted it behind my property next to rt 476 n...</td>\n",
       "      <td>spotted it behind my property next to rt 476 n...</td>\n",
       "    </tr>\n",
       "    <tr>\n",
       "      <th>79</th>\n",
       "      <td>white ball about the size of a kick ballhovers...</td>\n",
       "      <td>white ball about the size of a kick ball hover...</td>\n",
       "    </tr>\n",
       "    <tr>\n",
       "      <th>129</th>\n",
       "      <td>name</td>\n",
       "      <td>working the night shiftand always watching the...</td>\n",
       "    </tr>\n",
       "    <tr>\n",
       "      <th>142</th>\n",
       "      <td>this sighting took place in 1990 over in the m...</td>\n",
       "      <td>this sighting took place in 1990 over in the m...</td>\n",
       "    </tr>\n",
       "    <tr>\n",
       "      <th>...</th>\n",
       "      <td>...</td>\n",
       "      <td>...</td>\n",
       "    </tr>\n",
       "    <tr>\n",
       "      <th>88038</th>\n",
       "      <td>before sunsetin the sky we saw a tear drop sha...</td>\n",
       "      <td>before sunsetin the sky we saw a tear drop sha...</td>\n",
       "    </tr>\n",
       "    <tr>\n",
       "      <th>88046</th>\n",
       "      <td>three flying objects colored orange yellow lig...</td>\n",
       "      <td>three flying objects colored orangeyellow ligh...</td>\n",
       "    </tr>\n",
       "    <tr>\n",
       "      <th>88056</th>\n",
       "      <td>several large green orbs rotating in coordinat...</td>\n",
       "      <td>several large green orbs rotating in coordinat...</td>\n",
       "    </tr>\n",
       "    <tr>\n",
       "      <th>88067</th>\n",
       "      <td>my remote started glowing again and continued ...</td>\n",
       "      <td>my remote started glowing again and continued ...</td>\n",
       "    </tr>\n",
       "    <tr>\n",
       "      <th>88120</th>\n",
       "      <td>2 bright star like lights in the nnw skys</td>\n",
       "      <td>2 bright star like lights in the nnw sky two b...</td>\n",
       "    </tr>\n",
       "  </tbody>\n",
       "</table>\n",
       "<p>6938 rows × 2 columns</p>\n",
       "</div>"
      ],
      "text/plain": [
       "                                                 summary  \\\n",
       "11     2 tiny lights recorded for about a minute we w...   \n",
       "26     spotted it behind my property next to rt 476 n...   \n",
       "79     white ball about the size of a kick ballhovers...   \n",
       "129                                                 name   \n",
       "142    this sighting took place in 1990 over in the m...   \n",
       "...                                                  ...   \n",
       "88038  before sunsetin the sky we saw a tear drop sha...   \n",
       "88046  three flying objects colored orange yellow lig...   \n",
       "88056  several large green orbs rotating in coordinat...   \n",
       "88067  my remote started glowing again and continued ...   \n",
       "88120          2 bright star like lights in the nnw skys   \n",
       "\n",
       "                                                    text  \n",
       "11     we think 2 ufos2 tiny lights recorded for abou...  \n",
       "26     spotted it behind my property next to rt 476 n...  \n",
       "79     white ball about the size of a kick ball hover...  \n",
       "129    working the night shiftand always watching the...  \n",
       "142    this sighting took place in 1990 over in the m...  \n",
       "...                                                  ...  \n",
       "88038  before sunsetin the sky we saw a tear drop sha...  \n",
       "88046  three flying objects colored orangeyellow ligh...  \n",
       "88056  several large green orbs rotating in coordinat...  \n",
       "88067  my remote started glowing again and continued ...  \n",
       "88120  2 bright star like lights in the nnw sky two b...  \n",
       "\n",
       "[6938 rows x 2 columns]"
      ]
     },
     "execution_count": 137,
     "metadata": {},
     "output_type": "execute_result"
    }
   ],
   "source": [
    "# let's look at the instances that are False\n",
    "df.loc[df['summary_in_text'] == False,['summary','text']]"
   ]
  },
  {
   "cell_type": "code",
   "execution_count": 138,
   "metadata": {
    "colab": {
     "base_uri": "https://localhost:8080/"
    },
    "id": "xnaUOUDMsyW7",
    "outputId": "186275a8-bd7c-46ff-8c56-98362277b05f"
   },
   "outputs": [
    {
     "name": "stdout",
     "output_type": "stream",
     "text": [
      "before sunsetin the sky we saw a tear drop shaped shining bright white kind of resembling a huge hot air balloonnot moving at all\n",
      "before sunsetin the sky we saw a tear drop shaped shining bright white kind of resembling a huge hot air balloon not moving at all an airplane flew next to it and its size dwarfed the size of the airplane several neighbors outside and people pulling over in their cars to look at it after sunset it is no longer visible\n"
     ]
    }
   ],
   "source": [
    "print(df['summary'][88038])\n",
    "print(df['text'][88038])"
   ]
  },
  {
   "cell_type": "code",
   "execution_count": 139,
   "metadata": {
    "colab": {
     "base_uri": "https://localhost:8080/"
    },
    "id": "IAynXrFMsc_A",
    "outputId": "22e88a84-a9d0-466c-d469-b4fe8f7cdedc"
   },
   "outputs": [
    {
     "data": {
      "text/plain": [
       "False    88122\n",
       "Name: summary, dtype: int64"
      ]
     },
     "execution_count": 139,
     "metadata": {},
     "output_type": "execute_result"
    }
   ],
   "source": [
    "df['summary'].isnull().value_counts()"
   ]
  },
  {
   "cell_type": "code",
   "execution_count": 140,
   "metadata": {
    "id": "4b5VVfSPtCyP"
   },
   "outputs": [],
   "source": [
    "#it looks like a lot of the remaining instances have typos or have missing spaces, etc\n",
    "# there are ways we could solve this\n",
    "# we could just drop the summary figuring okay, we have only 7000/88000 that we haven't confirmed are essentially the same\n",
    "# we could also use the levenshtein distance or some fuzzy string matching and set a threashold to see how many are totally off\n",
    "# just looking at the dataframe, we can see that there is atleast one that is totally off base, most however seem to be minor error"
   ]
  },
  {
   "cell_type": "code",
   "execution_count": 141,
   "metadata": {
    "id": "KqkvdGd0tkbQ"
   },
   "outputs": [],
   "source": [
    "# install package\n",
    "# import module\n",
    "from fuzzywuzzy import fuzz\n",
    "# function that can be applied to df\n",
    "def fuzzy_ratio(summary, text):\n",
    "  ratio = fuzz.partial_ratio(summary, text)\n",
    "  return ratio"
   ]
  },
  {
   "cell_type": "code",
   "execution_count": 142,
   "metadata": {
    "id": "9qVaLkVxuTEm"
   },
   "outputs": [],
   "source": [
    "# let's apply the ratio to our df\n",
    "# we are going to overwrite the sum_in_text column\n",
    "# this is because, if already indicating true, it will yield 100 score\n",
    "df['summary_in_text'] = df.apply(lambda row: fuzzy_ratio(row['summary'], row['text']), axis=1)"
   ]
  },
  {
   "cell_type": "code",
   "execution_count": 143,
   "metadata": {
    "colab": {
     "base_uri": "https://localhost:8080/"
    },
    "id": "V4029fX5ykZc",
    "outputId": "9522d59c-78fb-4918-ce5d-f7759a8a845d"
   },
   "outputs": [
    {
     "data": {
      "text/plain": [
       "Text_ID            86136\n",
       "summary            86136\n",
       "city               85908\n",
       "state              81041\n",
       "date_time          84988\n",
       "shape              83721\n",
       "stats              86136\n",
       "report_link        86136\n",
       "text               86136\n",
       "posted             84988\n",
       "city_latitude      70451\n",
       "city_longitude     70451\n",
       "Duration           86136\n",
       "summary_notes      86136\n",
       "text_notes         86136\n",
       "summary_in_text    86136\n",
       "dtype: int64"
      ]
     },
     "execution_count": 143,
     "metadata": {},
     "output_type": "execute_result"
    }
   ],
   "source": [
    "df[df['summary_in_text'] > 90].count()"
   ]
  },
  {
   "cell_type": "code",
   "execution_count": 144,
   "metadata": {
    "colab": {
     "base_uri": "https://localhost:8080/"
    },
    "id": "xajIEZFnzQQ2",
    "outputId": "59b8fe00-65f1-419a-af81-8aa8fc3499bd"
   },
   "outputs": [
    {
     "name": "stdout",
     "output_type": "stream",
     "text": [
      "<class 'pandas.core.frame.DataFrame'>\n",
      "Int64Index: 86136 entries, 0 to 88123\n",
      "Data columns (total 14 columns):\n",
      " #   Column          Non-Null Count  Dtype  \n",
      "---  ------          --------------  -----  \n",
      " 0   Text_ID         86136 non-null  int64  \n",
      " 1   city            85908 non-null  object \n",
      " 2   state           81041 non-null  object \n",
      " 3   date_time       84988 non-null  object \n",
      " 4   shape           83721 non-null  object \n",
      " 5   stats           86136 non-null  object \n",
      " 6   report_link     86136 non-null  object \n",
      " 7   text            86136 non-null  object \n",
      " 8   posted          84988 non-null  object \n",
      " 9   city_latitude   70451 non-null  float64\n",
      " 10  city_longitude  70451 non-null  float64\n",
      " 11  Duration        86136 non-null  object \n",
      " 12  summary_notes   86136 non-null  object \n",
      " 13  text_notes      86136 non-null  object \n",
      "dtypes: float64(2), int64(1), object(11)\n",
      "memory usage: 9.9+ MB\n"
     ]
    }
   ],
   "source": [
    "# okay, if we use a 90% threshold, we've got 86716/88214 instances, thats good enough\n",
    "# we can now drop the summary and the summary_in_text columns\n",
    "df = df[df['summary_in_text'] > 90]\n",
    "df.drop(columns=['summary','summary_in_text'], inplace=True)\n",
    "df.info()"
   ]
  },
  {
   "cell_type": "code",
   "execution_count": 145,
   "metadata": {
    "id": "tAGv10y1gcy1"
   },
   "outputs": [],
   "source": [
    "lemmatizer = WordNetLemmatizer()\n",
    "stop_words = set(stopwords.words('english'))\n",
    "def lemmatize_removestop(str):\n",
    "  word_list = word_tokenize(str)\n",
    "  output = []\n",
    "  for i in word_list:\n",
    "    if i not in stop_words:\n",
    "      output.append(lemmatizer.lemmatize(i))\n",
    "  output = \" \".join(output)\n",
    "  return output"
   ]
  },
  {
   "cell_type": "code",
   "execution_count": 146,
   "metadata": {
    "id": "SVRwIJwehyGa"
   },
   "outputs": [],
   "source": [
    "df['text'] = df.apply(lambda row: lemmatize_removestop(row['text']),axis=1)"
   ]
  },
  {
   "cell_type": "code",
   "execution_count": 147,
   "metadata": {
    "colab": {
     "base_uri": "https://localhost:8080/"
    },
    "id": "D-qviqOVlrUa",
    "outputId": "1a16604b-9000-4381-e297-01854842d581"
   },
   "outputs": [
    {
     "data": {
      "text/plain": [
       "0    wife driving southeast fairly populated main s...\n",
       "1    think may caught ufo nbc nightly news aired ma...\n",
       "2    woke late afternoon 3304pm went bath shaving l...\n",
       "3    driving towards intersection fallowfield eagle...\n",
       "4    peoria arizona saw cigar shaped craft floating...\n",
       "5    object flashing light green blue red white lig...\n",
       "6    description washington dc event 50 ’ glitter t...\n",
       "7    apr 10th witnessed bright silvery round object...\n",
       "8    ufo report irving texas 2200 hr july 1973 1974...\n",
       "9    group light formation sweeping thru night sky ...\n",
       "Name: text, dtype: object"
      ]
     },
     "execution_count": 147,
     "metadata": {},
     "output_type": "execute_result"
    }
   ],
   "source": [
    "df['text'][0:10]"
   ]
  },
  {
   "cell_type": "markdown",
   "metadata": {
    "id": "S3rXxCMixyUL"
   },
   "source": [
    "# Stats"
   ]
  },
  {
   "cell_type": "code",
   "execution_count": 148,
   "metadata": {
    "colab": {
     "base_uri": "https://localhost:8080/"
    },
    "id": "jk1GW7OWxx-C",
    "outputId": "19e7cdb1-50b9-4ee7-974c-3f7510a73639"
   },
   "outputs": [
    {
     "name": "stdout",
     "output_type": "stream",
     "text": [
      "<class 'pandas.core.frame.DataFrame'>\n",
      "Int64Index: 86136 entries, 0 to 88123\n",
      "Data columns (total 14 columns):\n",
      " #   Column          Non-Null Count  Dtype  \n",
      "---  ------          --------------  -----  \n",
      " 0   Text_ID         86136 non-null  int64  \n",
      " 1   city            85908 non-null  object \n",
      " 2   state           81041 non-null  object \n",
      " 3   date_time       84988 non-null  object \n",
      " 4   shape           83721 non-null  object \n",
      " 5   stats           86136 non-null  object \n",
      " 6   report_link     86136 non-null  object \n",
      " 7   text            86136 non-null  object \n",
      " 8   posted          84988 non-null  object \n",
      " 9   city_latitude   70451 non-null  float64\n",
      " 10  city_longitude  70451 non-null  float64\n",
      " 11  Duration        86136 non-null  object \n",
      " 12  summary_notes   86136 non-null  object \n",
      " 13  text_notes      86136 non-null  object \n",
      "dtypes: float64(2), int64(1), object(11)\n",
      "memory usage: 9.9+ MB\n"
     ]
    }
   ],
   "source": [
    "df.info()"
   ]
  },
  {
   "cell_type": "code",
   "execution_count": 149,
   "metadata": {
    "id": "Q6sRX0gc-Lx3"
   },
   "outputs": [],
   "source": [
    "df['stats_duplicated'] = df['stats'].duplicated(keep=False)"
   ]
  },
  {
   "cell_type": "code",
   "execution_count": 150,
   "metadata": {
    "colab": {
     "base_uri": "https://localhost:8080/"
    },
    "id": "5Yzr3GGt-ZL1",
    "outputId": "e3a0021d-00e8-4d02-ee01-be24e9d43812"
   },
   "outputs": [
    {
     "data": {
      "text/plain": [
       "False    86112\n",
       "True        24\n",
       "Name: stats_duplicated, dtype: int64"
      ]
     },
     "execution_count": 150,
     "metadata": {},
     "output_type": "execute_result"
    }
   ],
   "source": [
    "df['stats_duplicated'].value_counts()"
   ]
  },
  {
   "cell_type": "code",
   "execution_count": 151,
   "metadata": {
    "id": "ILizfJV3SYAv"
   },
   "outputs": [],
   "source": [
    "def separate_stats(arg):\n",
    "  if isinstance(arg, float):\n",
    "    return arg\n",
    "  else:\n",
    "    #arg = arg.split(\" \", )\n",
    "    #print(arg)\n",
    "    arg = str(arg).replace(\"Duration:\", \"Duration: \")\n",
    "    arg = arg.split(\" \", )\n",
    "    #print(arg)\n",
    "    #print(arg)\n",
    "    merge_rules = [(arg.index(\"Occurred\"),arg.index(\"Reported:\")),(arg.index(\"Reported:\"),arg.index(\"Posted:\")),(arg.index(\"Posted:\"),arg.index(\"Location:\")),\n",
    "                 (arg.index(\"Location:\"),arg.index(\"Shape:\")),(arg.index(\"Shape:\"),arg.index(\"Duration:\")),(arg.index(\"Duration:\"),len(arg))]\n",
    "    result = []\n",
    "    index = 0\n",
    "    for start, end in merge_rules:\n",
    "      result += arg[index:start]\n",
    "      result.append(\" \".join(arg[start:end]))\n",
    "      index = end\n",
    "    return result"
   ]
  },
  {
   "cell_type": "code",
   "execution_count": 152,
   "metadata": {
    "colab": {
     "base_uri": "https://localhost:8080/",
     "height": 206
    },
    "id": "HfGZQyVVbV8m",
    "outputId": "52a16078-6ecc-4c30-bc00-14e34cd2d2f8"
   },
   "outputs": [
    {
     "data": {
      "text/html": [
       "<div>\n",
       "<style scoped>\n",
       "    .dataframe tbody tr th:only-of-type {\n",
       "        vertical-align: middle;\n",
       "    }\n",
       "\n",
       "    .dataframe tbody tr th {\n",
       "        vertical-align: top;\n",
       "    }\n",
       "\n",
       "    .dataframe thead th {\n",
       "        text-align: right;\n",
       "    }\n",
       "</style>\n",
       "<table border=\"1\" class=\"dataframe\">\n",
       "  <thead>\n",
       "    <tr style=\"text-align: right;\">\n",
       "      <th></th>\n",
       "      <th>Text_ID</th>\n",
       "      <th>city</th>\n",
       "      <th>state</th>\n",
       "      <th>date_time</th>\n",
       "      <th>shape</th>\n",
       "      <th>stats</th>\n",
       "      <th>report_link</th>\n",
       "      <th>text</th>\n",
       "      <th>posted</th>\n",
       "      <th>city_latitude</th>\n",
       "      <th>city_longitude</th>\n",
       "      <th>Duration</th>\n",
       "      <th>summary_notes</th>\n",
       "      <th>text_notes</th>\n",
       "      <th>stats_duplicated</th>\n",
       "    </tr>\n",
       "  </thead>\n",
       "  <tbody>\n",
       "    <tr>\n",
       "      <th>0</th>\n",
       "      <td>1</td>\n",
       "      <td>Chester</td>\n",
       "      <td>VA</td>\n",
       "      <td>2019-12-12T18:43:00</td>\n",
       "      <td>light</td>\n",
       "      <td>[Occurred : 12/12/2019 18:43  (Entered as : 12...</td>\n",
       "      <td>http://www.nuforc.org/webreports/151/S151739.html</td>\n",
       "      <td>wife driving southeast fairly populated main s...</td>\n",
       "      <td>2019-12-22T00:00:00</td>\n",
       "      <td>37.343152</td>\n",
       "      <td>-77.408582</td>\n",
       "      <td>seconds</td>\n",
       "      <td>[]</td>\n",
       "      <td>[]</td>\n",
       "      <td>False</td>\n",
       "    </tr>\n",
       "    <tr>\n",
       "      <th>1</th>\n",
       "      <td>2</td>\n",
       "      <td>Rocky Hill</td>\n",
       "      <td>CT</td>\n",
       "      <td>2019-03-22T18:30:00</td>\n",
       "      <td>circle</td>\n",
       "      <td>[Occurred : 3/22/2019 18:30  (Entered as : 03/...</td>\n",
       "      <td>http://www.nuforc.org/webreports/145/S145297.html</td>\n",
       "      <td>think may caught ufo nbc nightly news aired ma...</td>\n",
       "      <td>2019-03-29T00:00:00</td>\n",
       "      <td>41.664800</td>\n",
       "      <td>-72.639300</td>\n",
       "      <td>seconds</td>\n",
       "      <td>[]</td>\n",
       "      <td>[]</td>\n",
       "      <td>False</td>\n",
       "    </tr>\n",
       "  </tbody>\n",
       "</table>\n",
       "</div>"
      ],
      "text/plain": [
       "   Text_ID        city state            date_time   shape  \\\n",
       "0        1     Chester    VA  2019-12-12T18:43:00   light   \n",
       "1        2  Rocky Hill    CT  2019-03-22T18:30:00  circle   \n",
       "\n",
       "                                               stats  \\\n",
       "0  [Occurred : 12/12/2019 18:43  (Entered as : 12...   \n",
       "1  [Occurred : 3/22/2019 18:30  (Entered as : 03/...   \n",
       "\n",
       "                                         report_link  \\\n",
       "0  http://www.nuforc.org/webreports/151/S151739.html   \n",
       "1  http://www.nuforc.org/webreports/145/S145297.html   \n",
       "\n",
       "                                                text               posted  \\\n",
       "0  wife driving southeast fairly populated main s...  2019-12-22T00:00:00   \n",
       "1  think may caught ufo nbc nightly news aired ma...  2019-03-29T00:00:00   \n",
       "\n",
       "   city_latitude  city_longitude Duration summary_notes text_notes  \\\n",
       "0      37.343152      -77.408582  seconds            []         []   \n",
       "1      41.664800      -72.639300  seconds            []         []   \n",
       "\n",
       "   stats_duplicated  \n",
       "0             False  \n",
       "1             False  "
      ]
     },
     "execution_count": 152,
     "metadata": {},
     "output_type": "execute_result"
    }
   ],
   "source": [
    "df['stats'] = df.apply(lambda row: separate_stats(row['stats']), axis=1)\n",
    "df.head(2)"
   ]
  },
  {
   "cell_type": "code",
   "execution_count": 153,
   "metadata": {
    "colab": {
     "base_uri": "https://localhost:8080/",
     "height": 865
    },
    "id": "H463hep5dMnf",
    "outputId": "79fc7273-e54d-401f-bb03-b0220ae03278"
   },
   "outputs": [
    {
     "data": {
      "text/html": [
       "<div>\n",
       "<style scoped>\n",
       "    .dataframe tbody tr th:only-of-type {\n",
       "        vertical-align: middle;\n",
       "    }\n",
       "\n",
       "    .dataframe tbody tr th {\n",
       "        vertical-align: top;\n",
       "    }\n",
       "\n",
       "    .dataframe thead th {\n",
       "        text-align: right;\n",
       "    }\n",
       "</style>\n",
       "<table border=\"1\" class=\"dataframe\">\n",
       "  <thead>\n",
       "    <tr style=\"text-align: right;\">\n",
       "      <th></th>\n",
       "      <th>Text_ID</th>\n",
       "      <th>city</th>\n",
       "      <th>state</th>\n",
       "      <th>date_time</th>\n",
       "      <th>shape</th>\n",
       "      <th>stats</th>\n",
       "      <th>report_link</th>\n",
       "      <th>text</th>\n",
       "      <th>posted</th>\n",
       "      <th>city_latitude</th>\n",
       "      <th>city_longitude</th>\n",
       "      <th>Duration</th>\n",
       "      <th>summary_notes</th>\n",
       "      <th>text_notes</th>\n",
       "      <th>stats_duplicated</th>\n",
       "    </tr>\n",
       "  </thead>\n",
       "  <tbody>\n",
       "    <tr>\n",
       "      <th>15</th>\n",
       "      <td>16</td>\n",
       "      <td>Gray Court</td>\n",
       "      <td>SC</td>\n",
       "      <td>1975-07-17T00:00:00</td>\n",
       "      <td>light</td>\n",
       "      <td>[Occurred : 7/17/1975 00:00  (Entered as : 07/...</td>\n",
       "      <td>http://www.nuforc.org/webreports/147/S147117.html</td>\n",
       "      <td>strange bright light hovered mobile home nufor...</td>\n",
       "      <td>2019-07-05T00:00:00</td>\n",
       "      <td>34.578800</td>\n",
       "      <td>-82.114100</td>\n",
       "      <td>minutes</td>\n",
       "      <td>[]</td>\n",
       "      <td>[]</td>\n",
       "      <td>True</td>\n",
       "    </tr>\n",
       "    <tr>\n",
       "      <th>1409</th>\n",
       "      <td>1410</td>\n",
       "      <td>Carlsbad</td>\n",
       "      <td>NM</td>\n",
       "      <td>2006-05-11T20:30:00</td>\n",
       "      <td>light</td>\n",
       "      <td>[Occurred : 5/11/2006 20:30  (Entered as : 05/...</td>\n",
       "      <td>http://www.nuforc.org/webreports/050/S50526.html</td>\n",
       "      <td>strange light moving moon approx 830 pm evenin...</td>\n",
       "      <td>2006-05-15T00:00:00</td>\n",
       "      <td>32.301554</td>\n",
       "      <td>-104.286505</td>\n",
       "      <td>minutes</td>\n",
       "      <td>[((NUFORC Note:  International Space Station s...</td>\n",
       "      <td>[((NUFORC Note:  International Space Station s...</td>\n",
       "      <td>True</td>\n",
       "    </tr>\n",
       "  </tbody>\n",
       "</table>\n",
       "</div>"
      ],
      "text/plain": [
       "      Text_ID        city state            date_time  shape  \\\n",
       "15         16  Gray Court    SC  1975-07-17T00:00:00  light   \n",
       "1409     1410    Carlsbad    NM  2006-05-11T20:30:00  light   \n",
       "\n",
       "                                                  stats  \\\n",
       "15    [Occurred : 7/17/1975 00:00  (Entered as : 07/...   \n",
       "1409  [Occurred : 5/11/2006 20:30  (Entered as : 05/...   \n",
       "\n",
       "                                            report_link  \\\n",
       "15    http://www.nuforc.org/webreports/147/S147117.html   \n",
       "1409   http://www.nuforc.org/webreports/050/S50526.html   \n",
       "\n",
       "                                                   text               posted  \\\n",
       "15    strange bright light hovered mobile home nufor...  2019-07-05T00:00:00   \n",
       "1409  strange light moving moon approx 830 pm evenin...  2006-05-15T00:00:00   \n",
       "\n",
       "      city_latitude  city_longitude Duration  \\\n",
       "15        34.578800      -82.114100  minutes   \n",
       "1409      32.301554     -104.286505  minutes   \n",
       "\n",
       "                                          summary_notes  \\\n",
       "15                                                   []   \n",
       "1409  [((NUFORC Note:  International Space Station s...   \n",
       "\n",
       "                                             text_notes  stats_duplicated  \n",
       "15                                                   []              True  \n",
       "1409  [((NUFORC Note:  International Space Station s...              True  "
      ]
     },
     "execution_count": 153,
     "metadata": {},
     "output_type": "execute_result"
    }
   ],
   "source": [
    "df[df['stats_duplicated'] == True].head(2)"
   ]
  },
  {
   "cell_type": "code",
   "execution_count": 154,
   "metadata": {
    "colab": {
     "base_uri": "https://localhost:8080/",
     "height": 49
    },
    "id": "BrYocQK7t0dz",
    "outputId": "c18165b6-989d-4d13-c941-3fe57f4a18e2"
   },
   "outputs": [
    {
     "data": {
      "text/html": [
       "<div>\n",
       "<style scoped>\n",
       "    .dataframe tbody tr th:only-of-type {\n",
       "        vertical-align: middle;\n",
       "    }\n",
       "\n",
       "    .dataframe tbody tr th {\n",
       "        vertical-align: top;\n",
       "    }\n",
       "\n",
       "    .dataframe thead th {\n",
       "        text-align: right;\n",
       "    }\n",
       "</style>\n",
       "<table border=\"1\" class=\"dataframe\">\n",
       "  <thead>\n",
       "    <tr style=\"text-align: right;\">\n",
       "      <th></th>\n",
       "      <th>Text_ID</th>\n",
       "      <th>city</th>\n",
       "      <th>state</th>\n",
       "      <th>date_time</th>\n",
       "      <th>shape</th>\n",
       "      <th>stats</th>\n",
       "      <th>report_link</th>\n",
       "      <th>text</th>\n",
       "      <th>posted</th>\n",
       "      <th>city_latitude</th>\n",
       "      <th>city_longitude</th>\n",
       "      <th>Duration</th>\n",
       "      <th>summary_notes</th>\n",
       "      <th>text_notes</th>\n",
       "      <th>stats_duplicated</th>\n",
       "    </tr>\n",
       "  </thead>\n",
       "  <tbody>\n",
       "  </tbody>\n",
       "</table>\n",
       "</div>"
      ],
      "text/plain": [
       "Empty DataFrame\n",
       "Columns: [Text_ID, city, state, date_time, shape, stats, report_link, text, posted, city_latitude, city_longitude, Duration, summary_notes, text_notes, stats_duplicated]\n",
       "Index: []"
      ]
     },
     "execution_count": 154,
     "metadata": {},
     "output_type": "execute_result"
    }
   ],
   "source": [
    "df[df['stats'].isnull() == True]"
   ]
  },
  {
   "cell_type": "code",
   "execution_count": 155,
   "metadata": {
    "colab": {
     "base_uri": "https://localhost:8080/"
    },
    "id": "rZrZOATHtoI3",
    "outputId": "e64e8a26-a16d-4300-d0ea-e612e8a47ebf"
   },
   "outputs": [
    {
     "data": {
      "text/plain": [
       "['Occurred : 12/12/2019 12:32  (Entered as : 12/12/19 12:32)',\n",
       " 'Reported: 12/12/2019 10:45:11 PM 22:45',\n",
       " 'Posted: 12/19/2019',\n",
       " 'Location: Albany, OR',\n",
       " 'Shape: ',\n",
       " 'Duration: 1-2 seconds']"
      ]
     },
     "execution_count": 155,
     "metadata": {},
     "output_type": "execute_result"
    }
   ],
   "source": [
    "df['stats'][87600]"
   ]
  },
  {
   "cell_type": "code",
   "execution_count": 156,
   "metadata": {
    "colab": {
     "base_uri": "https://localhost:8080/"
    },
    "id": "NfueTAJZMTg6",
    "outputId": "78a73fd3-c01a-42df-d930-b78e3601db4d"
   },
   "outputs": [
    {
     "name": "stdout",
     "output_type": "stream",
     "text": [
      "<class 'pandas.core.frame.DataFrame'>\n",
      "Int64Index: 86136 entries, 0 to 88123\n",
      "Data columns (total 15 columns):\n",
      " #   Column            Non-Null Count  Dtype  \n",
      "---  ------            --------------  -----  \n",
      " 0   Text_ID           86136 non-null  int64  \n",
      " 1   city              85908 non-null  object \n",
      " 2   state             81041 non-null  object \n",
      " 3   date_time         84988 non-null  object \n",
      " 4   shape             83721 non-null  object \n",
      " 5   stats             86136 non-null  object \n",
      " 6   report_link       86136 non-null  object \n",
      " 7   text              86136 non-null  object \n",
      " 8   posted            84988 non-null  object \n",
      " 9   city_latitude     70451 non-null  float64\n",
      " 10  city_longitude    70451 non-null  float64\n",
      " 11  Duration          86136 non-null  object \n",
      " 12  summary_notes     86136 non-null  object \n",
      " 13  text_notes        86136 non-null  object \n",
      " 14  stats_duplicated  86136 non-null  bool   \n",
      "dtypes: bool(1), float64(2), int64(1), object(11)\n",
      "memory usage: 12.0+ MB\n"
     ]
    }
   ],
   "source": [
    "df.info()"
   ]
  },
  {
   "cell_type": "code",
   "execution_count": 157,
   "metadata": {
    "colab": {
     "base_uri": "https://localhost:8080/"
    },
    "id": "DPvJm9rNSJL4",
    "outputId": "08300868-baa1-4333-d7d2-35804e22818d"
   },
   "outputs": [
    {
     "name": "stdout",
     "output_type": "stream",
     "text": [
      "<class 'pandas.core.frame.DataFrame'>\n",
      "Int64Index: 86136 entries, 0 to 88123\n",
      "Data columns (total 15 columns):\n",
      " #   Column            Non-Null Count  Dtype  \n",
      "---  ------            --------------  -----  \n",
      " 0   Text_ID           86136 non-null  int64  \n",
      " 1   city              85908 non-null  object \n",
      " 2   state             81041 non-null  object \n",
      " 3   date_time         84988 non-null  object \n",
      " 4   shape             83721 non-null  object \n",
      " 5   stats             86136 non-null  object \n",
      " 6   report_link       86136 non-null  object \n",
      " 7   text              86136 non-null  object \n",
      " 8   posted            84988 non-null  object \n",
      " 9   city_latitude     70451 non-null  float64\n",
      " 10  city_longitude    70451 non-null  float64\n",
      " 11  Duration          86136 non-null  object \n",
      " 12  summary_notes     86136 non-null  object \n",
      " 13  text_notes        86136 non-null  object \n",
      " 14  stats_duplicated  86136 non-null  bool   \n",
      "dtypes: bool(1), float64(2), int64(1), object(11)\n",
      "memory usage: 9.9+ MB\n"
     ]
    }
   ],
   "source": [
    "df.dropna(subset=['stats'],inplace=True)\n",
    "df.info()"
   ]
  },
  {
   "cell_type": "code",
   "execution_count": 158,
   "metadata": {
    "id": "OFcqHaBsNaa5"
   },
   "outputs": [],
   "source": [
    "split_df = pd.DataFrame(df['stats'].to_list(), columns = ['Occurred_stats', 'Reported_stats', 'Posted_stats','Location_stats','Shape_stats','Duration_stats'])"
   ]
  },
  {
   "cell_type": "code",
   "execution_count": 159,
   "metadata": {
    "colab": {
     "base_uri": "https://localhost:8080/"
    },
    "id": "bnkOh7vVbSgQ",
    "outputId": "918db6de-8dd1-4a5c-e4ee-c651e19f49b2"
   },
   "outputs": [
    {
     "data": {
      "text/plain": [
       "0        Occurred : 12/12/2019 18:43  (Entered as : 12/...\n",
       "1        Occurred : 3/22/2019 18:30  (Entered as : 03/2...\n",
       "2        Occurred : 4/1/2019 15:45  (Entered as : April...\n",
       "3        Occurred : 4/17/2019 02:00  (Entered as : 04-1...\n",
       "4        Occurred : 3/15/2009 18:00  (Entered as : 03/1...\n",
       "                               ...                        \n",
       "86131    Occurred : 10/2/2019 20:00  (Entered as : 10/2...\n",
       "86132    Occurred : 10/2/2019 20:00  (Entered as : 10/0...\n",
       "86133    Occurred : 10/2/2019 20:03  (Entered as : 10/0...\n",
       "86134    Occurred : 10/2/2019 22:00  (Entered as : 10/0...\n",
       "86135    Occurred : 10/2/2019 22:00  (Entered as : 10-0...\n",
       "Name: Occurred_stats, Length: 86136, dtype: object"
      ]
     },
     "execution_count": 159,
     "metadata": {},
     "output_type": "execute_result"
    }
   ],
   "source": [
    "split_df['Occurred_stats']"
   ]
  },
  {
   "cell_type": "code",
   "execution_count": 160,
   "metadata": {},
   "outputs": [
    {
     "data": {
      "text/plain": [
       "0        Reported: 12/19/2019 7:19:31 PM 19:19\n",
       "1         Reported: 3/27/2019 4:10:19 PM 16:10\n",
       "2          Reported: 4/8/2019 9:42:31 PM 21:42\n",
       "3         Reported: 4/17/2019 8:41:25 AM 08:41\n",
       "4         Reported: 4/17/2019 6:30:52 PM 18:30\n",
       "                         ...                  \n",
       "86131    Reported: 10/3/2019 10:09:11 PM 22:09\n",
       "86132     Reported: 10/2/2019 7:35:17 AM 07:35\n",
       "86133     Reported: 10/2/2019 5:31:18 PM 17:31\n",
       "86134     Reported: 10/3/2019 7:00:19 AM 07:00\n",
       "86135     Reported: 10/3/2019 1:40:38 PM 13:40\n",
       "Name: Reported_stats, Length: 86136, dtype: object"
      ]
     },
     "execution_count": 160,
     "metadata": {},
     "output_type": "execute_result"
    }
   ],
   "source": [
    "split_df['Reported_stats']"
   ]
  },
  {
   "cell_type": "code",
   "execution_count": 161,
   "metadata": {
    "colab": {
     "base_uri": "https://localhost:8080/"
    },
    "id": "Ic_QPkMNS6Hv",
    "outputId": "a7d8e708-18b5-4f98-9cf8-19fca2aa779b"
   },
   "outputs": [
    {
     "name": "stdout",
     "output_type": "stream",
     "text": [
      "<class 'pandas.core.frame.DataFrame'>\n",
      "Int64Index: 88084 entries, 0 to 88123\n",
      "Data columns (total 17 columns):\n",
      " #   Column            Non-Null Count  Dtype  \n",
      "---  ------            --------------  -----  \n",
      " 0   Text_ID           86136 non-null  float64\n",
      " 1   city              85908 non-null  object \n",
      " 2   state             81041 non-null  object \n",
      " 3   date_time         84988 non-null  object \n",
      " 4   shape             83721 non-null  object \n",
      " 5   stats             86136 non-null  object \n",
      " 6   report_link       86136 non-null  object \n",
      " 7   text              86136 non-null  object \n",
      " 8   posted            84988 non-null  object \n",
      " 9   city_latitude     70451 non-null  float64\n",
      " 10  city_longitude    70451 non-null  float64\n",
      " 11  Duration          86136 non-null  object \n",
      " 12  summary_notes     86136 non-null  object \n",
      " 13  text_notes        86136 non-null  object \n",
      " 14  stats_duplicated  86136 non-null  object \n",
      " 15  Reported_stats    86136 non-null  object \n",
      " 16  Occurred_stats    86136 non-null  object \n",
      "dtypes: float64(3), object(14)\n",
      "memory usage: 12.1+ MB\n"
     ]
    }
   ],
   "source": [
    "df = pd.concat([df, split_df['Reported_stats']], axis=1)\n",
    "df = pd.concat([df, split_df['Occurred_stats']], axis=1)\n",
    "df.info()"
   ]
  },
  {
   "cell_type": "code",
   "execution_count": 162,
   "metadata": {
    "colab": {
     "base_uri": "https://localhost:8080/"
    },
    "id": "n_xhfXZ7THhG",
    "outputId": "3df44f0b-8caa-4315-91c1-6566e9b071ad"
   },
   "outputs": [
    {
     "data": {
      "text/plain": [
       "False    84988\n",
       "True      3096\n",
       "Name: posted, dtype: int64"
      ]
     },
     "execution_count": 162,
     "metadata": {},
     "output_type": "execute_result"
    }
   ],
   "source": [
    "df['posted'].isnull().value_counts()"
   ]
  },
  {
   "cell_type": "code",
   "execution_count": 182,
   "metadata": {
    "id": "mysyRG5-eywJ"
   },
   "outputs": [],
   "source": [
    "def clean_reported_stats(arg):\n",
    "    arg = str(arg).replace(\"Reported: \",\"\")\n",
    "    arg = arg.split()\n",
    "    if len(arg) == 4:\n",
    "        del arg[-1]\n",
    "        arg = \" \".join(arg)\n",
    "        arg = datetime.strptime(arg, '%m/%d/%Y %I:%M:%S %p')\n",
    "        return arg\n",
    "    else:\n",
    "        arg = \" \".join(arg)\n",
    "        return arg\n",
    "\n",
    "def clean_occurred_stats(arg):\n",
    "    arg = str(arg).replace(\"Occurred: \",\"\")\n",
    "    arg = arg.split()\n",
    "    if len(arg) > 1:\n",
    "        try:\n",
    "           \n",
    "            arg = \" \".join(arg[2:4])\n",
    "            arg = datetime.strptime(arg, '%m/%d/%Y %H:%M')\n",
    "            return arg\n",
    "        except:\n",
    "            return arg    \n",
    "    else:\n",
    "        arg = \" \".join(arg)\n",
    "        return arg"
   ]
  },
  {
   "cell_type": "code",
   "execution_count": 172,
   "metadata": {},
   "outputs": [],
   "source": [
    "test_df = df.copy(deep=True)\n",
    "test = test_df['Occurred_stats'][0]"
   ]
  },
  {
   "cell_type": "code",
   "execution_count": 180,
   "metadata": {},
   "outputs": [],
   "source": [
    "test_df['Occurred_stats_new'] = test_df.apply(lambda row: clean_occurred_stats(row['Occurred_stats']), axis=1)"
   ]
  },
  {
   "cell_type": "code",
   "execution_count": 181,
   "metadata": {},
   "outputs": [
    {
     "data": {
      "text/plain": [
       "0        2019-12-12 18:43:00\n",
       "1        2019-03-22 18:30:00\n",
       "2        2019-04-01 15:45:00\n",
       "3        2019-04-17 02:00:00\n",
       "4        2009-03-15 18:00:00\n",
       "                ...         \n",
       "88119                    nan\n",
       "88120                    nan\n",
       "88121                    nan\n",
       "88122                    nan\n",
       "88123                    nan\n",
       "Name: Occurred_stats_new, Length: 88084, dtype: object"
      ]
     },
     "execution_count": 181,
     "metadata": {},
     "output_type": "execute_result"
    }
   ],
   "source": [
    "test_df['Occurred_stats_new']"
   ]
  },
  {
   "cell_type": "code",
   "execution_count": 183,
   "metadata": {
    "id": "yIIs7_Bge9s0"
   },
   "outputs": [],
   "source": [
    "df['Reported_stats'] = df.apply(lambda row: clean_reported_stats(row['Reported_stats']), axis=1)\n",
    "df['Occurred_stats'] = df.apply(lambda row: clean_occurred_stats(row['Occurred_stats']), axis=1)"
   ]
  },
  {
   "cell_type": "code",
   "execution_count": 187,
   "metadata": {
    "colab": {
     "base_uri": "https://localhost:8080/"
    },
    "id": "uhvmppn_fWIu",
    "outputId": "1f82246f-12d6-4212-8118-ad2f1a988473"
   },
   "outputs": [
    {
     "data": {
      "text/plain": [
       "0        2019-12-12 18:43:00\n",
       "1        2019-03-22 18:30:00\n",
       "2        2019-04-01 15:45:00\n",
       "3        2019-04-17 02:00:00\n",
       "4        2009-03-15 18:00:00\n",
       "                ...         \n",
       "88119                    nan\n",
       "88120                    nan\n",
       "88121                    nan\n",
       "88122                    nan\n",
       "88123                    nan\n",
       "Name: Occurred_stats, Length: 88084, dtype: object"
      ]
     },
     "execution_count": 187,
     "metadata": {},
     "output_type": "execute_result"
    }
   ],
   "source": [
    "df['Occurred_stats']"
   ]
  },
  {
   "cell_type": "code",
   "execution_count": 185,
   "metadata": {},
   "outputs": [
    {
     "data": {
      "text/plain": [
       "datetime.datetime"
      ]
     },
     "execution_count": 185,
     "metadata": {},
     "output_type": "execute_result"
    }
   ],
   "source": [
    "type(df['Occurred_stats'][2])"
   ]
  },
  {
   "cell_type": "code",
   "execution_count": 188,
   "metadata": {},
   "outputs": [
    {
     "data": {
      "text/plain": [
       "Index(['Text_ID', 'city', 'state', 'date_time', 'shape', 'stats',\n",
       "       'report_link', 'text', 'posted', 'city_latitude', 'city_longitude',\n",
       "       'Duration', 'summary_notes', 'text_notes', 'stats_duplicated',\n",
       "       'Reported_stats', 'Occurred_stats'],\n",
       "      dtype='object')"
      ]
     },
     "execution_count": 188,
     "metadata": {},
     "output_type": "execute_result"
    }
   ],
   "source": [
    "df.columns"
   ]
  },
  {
   "cell_type": "code",
   "execution_count": 192,
   "metadata": {},
   "outputs": [
    {
     "data": {
      "text/html": [
       "<div>\n",
       "<style scoped>\n",
       "    .dataframe tbody tr th:only-of-type {\n",
       "        vertical-align: middle;\n",
       "    }\n",
       "\n",
       "    .dataframe tbody tr th {\n",
       "        vertical-align: top;\n",
       "    }\n",
       "\n",
       "    .dataframe thead th {\n",
       "        text-align: right;\n",
       "    }\n",
       "</style>\n",
       "<table border=\"1\" class=\"dataframe\">\n",
       "  <thead>\n",
       "    <tr style=\"text-align: right;\">\n",
       "      <th></th>\n",
       "      <th>Text_ID</th>\n",
       "      <th>city</th>\n",
       "      <th>state</th>\n",
       "      <th>date_time</th>\n",
       "      <th>shape</th>\n",
       "      <th>stats</th>\n",
       "      <th>report_link</th>\n",
       "      <th>text</th>\n",
       "      <th>posted</th>\n",
       "      <th>city_latitude</th>\n",
       "      <th>city_longitude</th>\n",
       "      <th>Duration</th>\n",
       "      <th>summary_notes</th>\n",
       "      <th>text_notes</th>\n",
       "      <th>stats_duplicated</th>\n",
       "      <th>Reported_stats</th>\n",
       "      <th>Occurred_stats</th>\n",
       "    </tr>\n",
       "  </thead>\n",
       "  <tbody>\n",
       "    <tr>\n",
       "      <th>2</th>\n",
       "      <td>3.0</td>\n",
       "      <td>NaN</td>\n",
       "      <td>NaN</td>\n",
       "      <td>NaN</td>\n",
       "      <td>NaN</td>\n",
       "      <td>[Occurred : 4/1/2019 15:45  (Entered as : Apri...</td>\n",
       "      <td>http://www.nuforc.org/webreports/145/S145556.html</td>\n",
       "      <td>woke late afternoon 3304pm went bath shaving l...</td>\n",
       "      <td>NaN</td>\n",
       "      <td>NaN</td>\n",
       "      <td>NaN</td>\n",
       "      <td>Unknown</td>\n",
       "      <td>[]</td>\n",
       "      <td>[]</td>\n",
       "      <td>False</td>\n",
       "      <td>2019-04-08 21:42:31</td>\n",
       "      <td>2019-04-01 15:45:00</td>\n",
       "    </tr>\n",
       "    <tr>\n",
       "      <th>32</th>\n",
       "      <td>33.0</td>\n",
       "      <td>New York</td>\n",
       "      <td>NY</td>\n",
       "      <td>NaN</td>\n",
       "      <td>cylinder</td>\n",
       "      <td>[Occurred : 8/20/1965 20:30  (Entered as : 08/...</td>\n",
       "      <td>http://www.nuforc.org/webreports/049/S49816.html</td>\n",
       "      <td>1965 dark grey cylinder ufo updated statement ...</td>\n",
       "      <td>NaN</td>\n",
       "      <td>40.744307</td>\n",
       "      <td>-73.987724</td>\n",
       "      <td>minutes</td>\n",
       "      <td>[]</td>\n",
       "      <td>[]</td>\n",
       "      <td>False</td>\n",
       "      <td>2006-03-25 18:33:21</td>\n",
       "      <td>1965-08-20 20:30:00</td>\n",
       "    </tr>\n",
       "    <tr>\n",
       "      <th>33</th>\n",
       "      <td>34.0</td>\n",
       "      <td>Bristol</td>\n",
       "      <td>PA</td>\n",
       "      <td>NaN</td>\n",
       "      <td>light</td>\n",
       "      <td>[Occurred :    (Entered as : unknown), Reporte...</td>\n",
       "      <td>http://www.nuforc.org/webreports/049/S49760.html</td>\n",
       "      <td>hi avid sky watcher usually notice little ball...</td>\n",
       "      <td>NaN</td>\n",
       "      <td>40.117200</td>\n",
       "      <td>-74.849500</td>\n",
       "      <td>minutes</td>\n",
       "      <td>[]</td>\n",
       "      <td>[((NUFORC Note:  Witness does not indicate dat...</td>\n",
       "      <td>False</td>\n",
       "      <td>2006-03-21 12:11:10</td>\n",
       "      <td>(Entered as</td>\n",
       "    </tr>\n",
       "  </tbody>\n",
       "</table>\n",
       "</div>"
      ],
      "text/plain": [
       "    Text_ID      city state date_time     shape  \\\n",
       "2       3.0       NaN   NaN       NaN       NaN   \n",
       "32     33.0  New York    NY       NaN  cylinder   \n",
       "33     34.0   Bristol    PA       NaN     light   \n",
       "\n",
       "                                                stats  \\\n",
       "2   [Occurred : 4/1/2019 15:45  (Entered as : Apri...   \n",
       "32  [Occurred : 8/20/1965 20:30  (Entered as : 08/...   \n",
       "33  [Occurred :    (Entered as : unknown), Reporte...   \n",
       "\n",
       "                                          report_link  \\\n",
       "2   http://www.nuforc.org/webreports/145/S145556.html   \n",
       "32   http://www.nuforc.org/webreports/049/S49816.html   \n",
       "33   http://www.nuforc.org/webreports/049/S49760.html   \n",
       "\n",
       "                                                 text posted  city_latitude  \\\n",
       "2   woke late afternoon 3304pm went bath shaving l...    NaN            NaN   \n",
       "32  1965 dark grey cylinder ufo updated statement ...    NaN      40.744307   \n",
       "33  hi avid sky watcher usually notice little ball...    NaN      40.117200   \n",
       "\n",
       "    city_longitude Duration summary_notes  \\\n",
       "2              NaN  Unknown            []   \n",
       "32      -73.987724  minutes            []   \n",
       "33      -74.849500  minutes            []   \n",
       "\n",
       "                                           text_notes stats_duplicated  \\\n",
       "2                                                  []            False   \n",
       "32                                                 []            False   \n",
       "33  [((NUFORC Note:  Witness does not indicate dat...            False   \n",
       "\n",
       "         Reported_stats       Occurred_stats  \n",
       "2   2019-04-08 21:42:31  2019-04-01 15:45:00  \n",
       "32  2006-03-25 18:33:21  1965-08-20 20:30:00  \n",
       "33  2006-03-21 12:11:10          (Entered as  "
      ]
     },
     "execution_count": 192,
     "metadata": {},
     "output_type": "execute_result"
    }
   ],
   "source": [
    "df[df['date_time'].isnull()].head(3)"
   ]
  },
  {
   "cell_type": "code",
   "execution_count": 195,
   "metadata": {},
   "outputs": [],
   "source": [
    "test_df = df.copy(deep=True)"
   ]
  },
  {
   "cell_type": "code",
   "execution_count": 199,
   "metadata": {},
   "outputs": [],
   "source": [
    "idx_null = test_df[test_df['date_time'].isnull()].index"
   ]
  },
  {
   "cell_type": "code",
   "execution_count": 201,
   "metadata": {},
   "outputs": [],
   "source": [
    "idx_null = idx_null.tolist()"
   ]
  },
  {
   "cell_type": "code",
   "execution_count": 204,
   "metadata": {},
   "outputs": [],
   "source": [
    "# Function to traverse a list and populate the null instances\n",
    "def fill_dates(df,column_to,column_from):\n",
    "    idx_null = df[df[column_to].isnull()].index\n",
    "    idx_null = idx_null.tolist()\n",
    "    for x in idx_null:\n",
    "        df[column_to][x] = df[column_from][x]\n",
    "\n",
    "    return df    "
   ]
  },
  {
   "cell_type": "code",
   "execution_count": 207,
   "metadata": {},
   "outputs": [],
   "source": [
    "test_df_new = fill_dates(test_df,'date_time','Occurred_stats')"
   ]
  },
  {
   "cell_type": "code",
   "execution_count": 208,
   "metadata": {},
   "outputs": [
    {
     "data": {
      "text/plain": [
       "2"
      ]
     },
     "execution_count": 208,
     "metadata": {},
     "output_type": "execute_result"
    }
   ],
   "source": [
    "idx_null[0]"
   ]
  },
  {
   "cell_type": "code",
   "execution_count": 209,
   "metadata": {},
   "outputs": [
    {
     "data": {
      "text/plain": [
       "datetime.datetime(2019, 4, 1, 15, 45)"
      ]
     },
     "execution_count": 209,
     "metadata": {},
     "output_type": "execute_result"
    }
   ],
   "source": [
    "test_df_new['date_time'][2]"
   ]
  },
  {
   "cell_type": "code",
   "execution_count": 211,
   "metadata": {},
   "outputs": [
    {
     "data": {
      "text/plain": [
       "88084"
      ]
     },
     "execution_count": 211,
     "metadata": {},
     "output_type": "execute_result"
    }
   ],
   "source": [
    "len(df)"
   ]
  },
  {
   "cell_type": "code",
   "execution_count": 212,
   "metadata": {},
   "outputs": [
    {
     "name": "stderr",
     "output_type": "stream",
     "text": [
      "C:\\Users\\abhis\\AppData\\Local\\Temp/ipykernel_16504/3972174133.py:6: SettingWithCopyWarning: \n",
      "A value is trying to be set on a copy of a slice from a DataFrame\n",
      "\n",
      "See the caveats in the documentation: https://pandas.pydata.org/pandas-docs/stable/user_guide/indexing.html#returning-a-view-versus-a-copy\n",
      "  df[column_to][x] = df[column_from][x]\n"
     ]
    }
   ],
   "source": [
    "df = fill_dates(df,'date_time','Occurred_stats')"
   ]
  },
  {
   "cell_type": "code",
   "execution_count": 215,
   "metadata": {},
   "outputs": [
    {
     "data": {
      "text/plain": [
       "'(Entered as'"
      ]
     },
     "execution_count": 215,
     "metadata": {},
     "output_type": "execute_result"
    }
   ],
   "source": [
    "#now lets drop the rows that are not dates\n",
    "df['date_time'][33]"
   ]
  },
  {
   "cell_type": "code",
   "execution_count": 222,
   "metadata": {},
   "outputs": [
    {
     "data": {
      "text/plain": [
       "88084"
      ]
     },
     "execution_count": 222,
     "metadata": {},
     "output_type": "execute_result"
    }
   ],
   "source": [
    "len(df)"
   ]
  },
  {
   "cell_type": "code",
   "execution_count": 216,
   "metadata": {},
   "outputs": [],
   "source": [
    "test_df = df.copy(deep=True)"
   ]
  },
  {
   "cell_type": "code",
   "execution_count": 217,
   "metadata": {},
   "outputs": [],
   "source": [
    "test_df['date_time'] = pd.to_datetime(test_df['date_time'], errors='coerce')\n",
    "test_df = test_df.dropna(subset=['date_time'])"
   ]
  },
  {
   "cell_type": "code",
   "execution_count": 225,
   "metadata": {},
   "outputs": [],
   "source": [
    "df['date_time'] = pd.to_datetime(df['date_time'], errors='coerce')\n",
    "df = df.dropna(subset=['date_time'])"
   ]
  },
  {
   "cell_type": "code",
   "execution_count": 227,
   "metadata": {},
   "outputs": [],
   "source": [
    "df['year'] = (df.date_time.dt.year).astype('Int64')\n",
    "df['hour'] = (df.date_time.dt.hour).astype('Int64')\n",
    "time_of_day_intervals = [0,4,8,12,16,20,24] ##we could decide on the bin size here\n",
    "time_of_day = ['LATE NIGHT', 'EARLY MORNING','MORNING','AFTERNOON','EVENING','NIGHT']\n",
    "df['time_of_day'] = pd.cut(df['hour'], bins=time_of_day_intervals, labels=time_of_day, include_lowest=True)"
   ]
  },
  {
   "cell_type": "code",
   "execution_count": 228,
   "metadata": {},
   "outputs": [
    {
     "data": {
      "text/html": [
       "<div>\n",
       "<style scoped>\n",
       "    .dataframe tbody tr th:only-of-type {\n",
       "        vertical-align: middle;\n",
       "    }\n",
       "\n",
       "    .dataframe tbody tr th {\n",
       "        vertical-align: top;\n",
       "    }\n",
       "\n",
       "    .dataframe thead th {\n",
       "        text-align: right;\n",
       "    }\n",
       "</style>\n",
       "<table border=\"1\" class=\"dataframe\">\n",
       "  <thead>\n",
       "    <tr style=\"text-align: right;\">\n",
       "      <th></th>\n",
       "      <th>Text_ID</th>\n",
       "      <th>city</th>\n",
       "      <th>state</th>\n",
       "      <th>date_time</th>\n",
       "      <th>shape</th>\n",
       "      <th>stats</th>\n",
       "      <th>report_link</th>\n",
       "      <th>text</th>\n",
       "      <th>posted</th>\n",
       "      <th>city_latitude</th>\n",
       "      <th>city_longitude</th>\n",
       "      <th>Duration</th>\n",
       "      <th>summary_notes</th>\n",
       "      <th>text_notes</th>\n",
       "      <th>stats_duplicated</th>\n",
       "      <th>Reported_stats</th>\n",
       "      <th>Occurred_stats</th>\n",
       "      <th>year</th>\n",
       "      <th>hour</th>\n",
       "      <th>time_of_day</th>\n",
       "    </tr>\n",
       "  </thead>\n",
       "  <tbody>\n",
       "    <tr>\n",
       "      <th>0</th>\n",
       "      <td>1.0</td>\n",
       "      <td>Chester</td>\n",
       "      <td>VA</td>\n",
       "      <td>2019-12-12 18:43:00</td>\n",
       "      <td>light</td>\n",
       "      <td>[Occurred : 12/12/2019 18:43  (Entered as : 12...</td>\n",
       "      <td>http://www.nuforc.org/webreports/151/S151739.html</td>\n",
       "      <td>wife driving southeast fairly populated main s...</td>\n",
       "      <td>2019-12-22T00:00:00</td>\n",
       "      <td>37.343152</td>\n",
       "      <td>-77.408582</td>\n",
       "      <td>seconds</td>\n",
       "      <td>[]</td>\n",
       "      <td>[]</td>\n",
       "      <td>False</td>\n",
       "      <td>2019-12-19 19:19:31</td>\n",
       "      <td>2019-12-12 18:43:00</td>\n",
       "      <td>2019</td>\n",
       "      <td>18</td>\n",
       "      <td>EVENING</td>\n",
       "    </tr>\n",
       "    <tr>\n",
       "      <th>1</th>\n",
       "      <td>2.0</td>\n",
       "      <td>Rocky Hill</td>\n",
       "      <td>CT</td>\n",
       "      <td>2019-03-22 18:30:00</td>\n",
       "      <td>circle</td>\n",
       "      <td>[Occurred : 3/22/2019 18:30  (Entered as : 03/...</td>\n",
       "      <td>http://www.nuforc.org/webreports/145/S145297.html</td>\n",
       "      <td>think may caught ufo nbc nightly news aired ma...</td>\n",
       "      <td>2019-03-29T00:00:00</td>\n",
       "      <td>41.664800</td>\n",
       "      <td>-72.639300</td>\n",
       "      <td>seconds</td>\n",
       "      <td>[]</td>\n",
       "      <td>[]</td>\n",
       "      <td>False</td>\n",
       "      <td>2019-03-27 16:10:19</td>\n",
       "      <td>2019-03-22 18:30:00</td>\n",
       "      <td>2019</td>\n",
       "      <td>18</td>\n",
       "      <td>EVENING</td>\n",
       "    </tr>\n",
       "    <tr>\n",
       "      <th>2</th>\n",
       "      <td>3.0</td>\n",
       "      <td>NaN</td>\n",
       "      <td>NaN</td>\n",
       "      <td>2019-04-01 15:45:00</td>\n",
       "      <td>NaN</td>\n",
       "      <td>[Occurred : 4/1/2019 15:45  (Entered as : Apri...</td>\n",
       "      <td>http://www.nuforc.org/webreports/145/S145556.html</td>\n",
       "      <td>woke late afternoon 3304pm went bath shaving l...</td>\n",
       "      <td>NaN</td>\n",
       "      <td>NaN</td>\n",
       "      <td>NaN</td>\n",
       "      <td>Unknown</td>\n",
       "      <td>[]</td>\n",
       "      <td>[]</td>\n",
       "      <td>False</td>\n",
       "      <td>2019-04-08 21:42:31</td>\n",
       "      <td>2019-04-01 15:45:00</td>\n",
       "      <td>2019</td>\n",
       "      <td>15</td>\n",
       "      <td>AFTERNOON</td>\n",
       "    </tr>\n",
       "  </tbody>\n",
       "</table>\n",
       "</div>"
      ],
      "text/plain": [
       "   Text_ID        city state           date_time   shape  \\\n",
       "0      1.0     Chester    VA 2019-12-12 18:43:00   light   \n",
       "1      2.0  Rocky Hill    CT 2019-03-22 18:30:00  circle   \n",
       "2      3.0         NaN   NaN 2019-04-01 15:45:00     NaN   \n",
       "\n",
       "                                               stats  \\\n",
       "0  [Occurred : 12/12/2019 18:43  (Entered as : 12...   \n",
       "1  [Occurred : 3/22/2019 18:30  (Entered as : 03/...   \n",
       "2  [Occurred : 4/1/2019 15:45  (Entered as : Apri...   \n",
       "\n",
       "                                         report_link  \\\n",
       "0  http://www.nuforc.org/webreports/151/S151739.html   \n",
       "1  http://www.nuforc.org/webreports/145/S145297.html   \n",
       "2  http://www.nuforc.org/webreports/145/S145556.html   \n",
       "\n",
       "                                                text               posted  \\\n",
       "0  wife driving southeast fairly populated main s...  2019-12-22T00:00:00   \n",
       "1  think may caught ufo nbc nightly news aired ma...  2019-03-29T00:00:00   \n",
       "2  woke late afternoon 3304pm went bath shaving l...                  NaN   \n",
       "\n",
       "   city_latitude  city_longitude Duration summary_notes text_notes  \\\n",
       "0      37.343152      -77.408582  seconds            []         []   \n",
       "1      41.664800      -72.639300  seconds            []         []   \n",
       "2            NaN             NaN  Unknown            []         []   \n",
       "\n",
       "  stats_duplicated       Reported_stats       Occurred_stats  year  hour  \\\n",
       "0            False  2019-12-19 19:19:31  2019-12-12 18:43:00  2019    18   \n",
       "1            False  2019-03-27 16:10:19  2019-03-22 18:30:00  2019    18   \n",
       "2            False  2019-04-08 21:42:31  2019-04-01 15:45:00  2019    15   \n",
       "\n",
       "  time_of_day  \n",
       "0     EVENING  \n",
       "1     EVENING  \n",
       "2   AFTERNOON  "
      ]
     },
     "execution_count": 228,
     "metadata": {},
     "output_type": "execute_result"
    }
   ],
   "source": []
  },
  {
   "cell_type": "markdown",
   "metadata": {
    "id": "74vuhuvHz1tW"
   },
   "source": [
    "# Geographic"
   ]
  },
  {
   "cell_type": "code",
   "execution_count": 229,
   "metadata": {
    "colab": {
     "base_uri": "https://localhost:8080/"
    },
    "id": "fcgaHomgz4XM",
    "outputId": "a43639d6-773e-43ee-9f6b-a628314169df"
   },
   "outputs": [
    {
     "name": "stdout",
     "output_type": "stream",
     "text": [
      "<class 'pandas.core.frame.DataFrame'>\n",
      "Int64Index: 88024 entries, 0 to 88123\n",
      "Data columns (total 20 columns):\n",
      " #   Column            Non-Null Count  Dtype         \n",
      "---  ------            --------------  -----         \n",
      " 0   Text_ID           86102 non-null  float64       \n",
      " 1   city              85874 non-null  object        \n",
      " 2   state             81012 non-null  object        \n",
      " 3   date_time         88024 non-null  datetime64[ns]\n",
      " 4   shape             83689 non-null  object        \n",
      " 5   stats             86102 non-null  object        \n",
      " 6   report_link       86102 non-null  object        \n",
      " 7   text              86102 non-null  object        \n",
      " 8   posted            84988 non-null  object        \n",
      " 9   city_latitude     70426 non-null  float64       \n",
      " 10  city_longitude    70426 non-null  float64       \n",
      " 11  Duration          86102 non-null  object        \n",
      " 12  summary_notes     86102 non-null  object        \n",
      " 13  text_notes        86102 non-null  object        \n",
      " 14  stats_duplicated  86102 non-null  object        \n",
      " 15  Reported_stats    88024 non-null  object        \n",
      " 16  Occurred_stats    88024 non-null  object        \n",
      " 17  year              88024 non-null  Int64         \n",
      " 18  hour              88024 non-null  Int64         \n",
      " 19  time_of_day       88024 non-null  category      \n",
      "dtypes: Int64(2), category(1), datetime64[ns](1), float64(3), object(13)\n",
      "memory usage: 13.7+ MB\n"
     ]
    }
   ],
   "source": [
    "# let's take a look at this data\n",
    "df.info()"
   ]
  },
  {
   "cell_type": "code",
   "execution_count": 230,
   "metadata": {
    "colab": {
     "base_uri": "https://localhost:8080/"
    },
    "id": "QmXaCFie0Tnv",
    "outputId": "490003c7-1f1e-49cc-b949-b36705873c93"
   },
   "outputs": [
    {
     "name": "stdout",
     "output_type": "stream",
     "text": [
      "False    85874\n",
      "True      2150\n",
      "Name: city, dtype: int64\n",
      "False    81012\n",
      "True      7012\n",
      "Name: state, dtype: int64\n"
     ]
    }
   ],
   "source": [
    "# we have a couple of geographic info columns: city, state, long and lat\n",
    "# some of this is redundant information\n",
    "# what we have to determine first, is what data is missing and to fill it in\n",
    "print(df['city'].isnull().value_counts())\n",
    "print(df['state'].isnull().value_counts())"
   ]
  },
  {
   "cell_type": "code",
   "execution_count": 231,
   "metadata": {
    "colab": {
     "base_uri": "https://localhost:8080/"
    },
    "id": "z1Tj5ZYJ0xJ2",
    "outputId": "4332bc13-e873-4d42-d66b-64e964f05fa9"
   },
   "outputs": [
    {
     "name": "stdout",
     "output_type": "stream",
     "text": [
      "False    70426\n",
      "True     17598\n",
      "Name: city_latitude, dtype: int64\n",
      "False    70426\n",
      "True     17598\n",
      "Name: city_longitude, dtype: int64\n"
     ]
    }
   ],
   "source": [
    "print(df['city_latitude'].isnull().value_counts())\n",
    "print(df['city_longitude'].isnull().value_counts())"
   ]
  },
  {
   "cell_type": "code",
   "execution_count": 232,
   "metadata": {
    "id": "AColAhye1MbB"
   },
   "outputs": [],
   "source": [
    "# we are missing more lat and long data than city data\n",
    "# so one option is to use geopy and nominatim\n",
    "# the challenge here, is we are missing significant data, and we have a rate limit\n",
    "# of one request per second, so it may be better to find alternate data for this\n"
   ]
  },
  {
   "cell_type": "code",
   "execution_count": 234,
   "metadata": {
    "id": "y4DuWJhP55zY"
   },
   "outputs": [],
   "source": [
    "# doing some research, we can import a dataset with the canadian and us cities with long at lat data\n",
    "# we downloaded data from: https://simplemaps.com/data/us-cities and https://simplemaps.com/data/canada-cities\n",
    "# lets bring this data in\n",
    "df_us_cities = pd.read_csv('C:/Users/abhis/Documents/feature-eng/data/UFO/uscities.csv')\n",
    "df_canada_cities = pd.read_csv('C:/Users/abhis/Documents/feature-eng/data/UFO/canadacities.csv')\n",
    "# df_us_cities = pd.read_csv('/Users/rahimjiwa/Documents/Github/feature-engineering/data/UFO/uscities.csv')\n",
    "# df_canada_cities = pd.read_csv('/Users/rahimjiwa/Documents/Github/feature-engineering/data/UFO/canadacities.csv')"
   ]
  },
  {
   "cell_type": "code",
   "execution_count": 235,
   "metadata": {
    "colab": {
     "base_uri": "https://localhost:8080/"
    },
    "id": "pzIy1Ygy6HnQ",
    "outputId": "f0c7bce1-e7ef-4810-a43d-2effbf833885"
   },
   "outputs": [
    {
     "name": "stdout",
     "output_type": "stream",
     "text": [
      "<class 'pandas.core.frame.DataFrame'>\n",
      "RangeIndex: 28338 entries, 0 to 28337\n",
      "Data columns (total 17 columns):\n",
      " #   Column        Non-Null Count  Dtype  \n",
      "---  ------        --------------  -----  \n",
      " 0   city          28338 non-null  object \n",
      " 1   city_ascii    28338 non-null  object \n",
      " 2   state_id      28338 non-null  object \n",
      " 3   state_name    28338 non-null  object \n",
      " 4   county_fips   28338 non-null  int64  \n",
      " 5   county_name   28338 non-null  object \n",
      " 6   lat           28338 non-null  float64\n",
      " 7   lng           28338 non-null  float64\n",
      " 8   population    28338 non-null  int64  \n",
      " 9   density       28338 non-null  int64  \n",
      " 10  source        28338 non-null  object \n",
      " 11  military      28338 non-null  bool   \n",
      " 12  incorporated  28338 non-null  bool   \n",
      " 13  timezone      28338 non-null  object \n",
      " 14  ranking       28338 non-null  int64  \n",
      " 15  zips          28337 non-null  object \n",
      " 16  id            28338 non-null  int64  \n",
      "dtypes: bool(2), float64(2), int64(5), object(8)\n",
      "memory usage: 3.3+ MB\n"
     ]
    }
   ],
   "source": [
    "df_us_cities.info()"
   ]
  },
  {
   "cell_type": "code",
   "execution_count": 236,
   "metadata": {
    "colab": {
     "base_uri": "https://localhost:8080/",
     "height": 206
    },
    "id": "Dt5KVTvl_4Ze",
    "outputId": "a73e9f0d-7b47-4074-9f50-632eddea63ec"
   },
   "outputs": [
    {
     "data": {
      "text/html": [
       "<div>\n",
       "<style scoped>\n",
       "    .dataframe tbody tr th:only-of-type {\n",
       "        vertical-align: middle;\n",
       "    }\n",
       "\n",
       "    .dataframe tbody tr th {\n",
       "        vertical-align: top;\n",
       "    }\n",
       "\n",
       "    .dataframe thead th {\n",
       "        text-align: right;\n",
       "    }\n",
       "</style>\n",
       "<table border=\"1\" class=\"dataframe\">\n",
       "  <thead>\n",
       "    <tr style=\"text-align: right;\">\n",
       "      <th></th>\n",
       "      <th>city</th>\n",
       "      <th>city_ascii</th>\n",
       "      <th>state_id</th>\n",
       "      <th>state_name</th>\n",
       "      <th>county_fips</th>\n",
       "      <th>county_name</th>\n",
       "      <th>lat</th>\n",
       "      <th>lng</th>\n",
       "      <th>population</th>\n",
       "      <th>density</th>\n",
       "      <th>source</th>\n",
       "      <th>military</th>\n",
       "      <th>incorporated</th>\n",
       "      <th>timezone</th>\n",
       "      <th>ranking</th>\n",
       "      <th>zips</th>\n",
       "      <th>id</th>\n",
       "    </tr>\n",
       "  </thead>\n",
       "  <tbody>\n",
       "    <tr>\n",
       "      <th>0</th>\n",
       "      <td>New York</td>\n",
       "      <td>New York</td>\n",
       "      <td>NY</td>\n",
       "      <td>New York</td>\n",
       "      <td>36061</td>\n",
       "      <td>New York</td>\n",
       "      <td>40.6943</td>\n",
       "      <td>-73.9249</td>\n",
       "      <td>18713220</td>\n",
       "      <td>10715</td>\n",
       "      <td>polygon</td>\n",
       "      <td>False</td>\n",
       "      <td>True</td>\n",
       "      <td>America/New_York</td>\n",
       "      <td>1</td>\n",
       "      <td>11229 11226 11225 11224 11222 11221 11220 1138...</td>\n",
       "      <td>1840034016</td>\n",
       "    </tr>\n",
       "    <tr>\n",
       "      <th>1</th>\n",
       "      <td>Los Angeles</td>\n",
       "      <td>Los Angeles</td>\n",
       "      <td>CA</td>\n",
       "      <td>California</td>\n",
       "      <td>6037</td>\n",
       "      <td>Los Angeles</td>\n",
       "      <td>34.1139</td>\n",
       "      <td>-118.4068</td>\n",
       "      <td>12750807</td>\n",
       "      <td>3276</td>\n",
       "      <td>polygon</td>\n",
       "      <td>False</td>\n",
       "      <td>True</td>\n",
       "      <td>America/Los_Angeles</td>\n",
       "      <td>1</td>\n",
       "      <td>90291 90293 90292 91316 91311 90037 90031 9000...</td>\n",
       "      <td>1840020491</td>\n",
       "    </tr>\n",
       "    <tr>\n",
       "      <th>2</th>\n",
       "      <td>Chicago</td>\n",
       "      <td>Chicago</td>\n",
       "      <td>IL</td>\n",
       "      <td>Illinois</td>\n",
       "      <td>17031</td>\n",
       "      <td>Cook</td>\n",
       "      <td>41.8373</td>\n",
       "      <td>-87.6862</td>\n",
       "      <td>8604203</td>\n",
       "      <td>4574</td>\n",
       "      <td>polygon</td>\n",
       "      <td>False</td>\n",
       "      <td>True</td>\n",
       "      <td>America/Chicago</td>\n",
       "      <td>1</td>\n",
       "      <td>60018 60649 60641 60640 60643 60642 60645 6064...</td>\n",
       "      <td>1840000494</td>\n",
       "    </tr>\n",
       "    <tr>\n",
       "      <th>3</th>\n",
       "      <td>Miami</td>\n",
       "      <td>Miami</td>\n",
       "      <td>FL</td>\n",
       "      <td>Florida</td>\n",
       "      <td>12086</td>\n",
       "      <td>Miami-Dade</td>\n",
       "      <td>25.7839</td>\n",
       "      <td>-80.2102</td>\n",
       "      <td>6445545</td>\n",
       "      <td>5019</td>\n",
       "      <td>polygon</td>\n",
       "      <td>False</td>\n",
       "      <td>True</td>\n",
       "      <td>America/New_York</td>\n",
       "      <td>1</td>\n",
       "      <td>33129 33125 33126 33127 33128 33149 33144 3314...</td>\n",
       "      <td>1840015149</td>\n",
       "    </tr>\n",
       "    <tr>\n",
       "      <th>4</th>\n",
       "      <td>Dallas</td>\n",
       "      <td>Dallas</td>\n",
       "      <td>TX</td>\n",
       "      <td>Texas</td>\n",
       "      <td>48113</td>\n",
       "      <td>Dallas</td>\n",
       "      <td>32.7936</td>\n",
       "      <td>-96.7662</td>\n",
       "      <td>5743938</td>\n",
       "      <td>1526</td>\n",
       "      <td>polygon</td>\n",
       "      <td>False</td>\n",
       "      <td>True</td>\n",
       "      <td>America/Chicago</td>\n",
       "      <td>1</td>\n",
       "      <td>75287 75098 75233 75254 75251 75252 75253 7503...</td>\n",
       "      <td>1840019440</td>\n",
       "    </tr>\n",
       "  </tbody>\n",
       "</table>\n",
       "</div>"
      ],
      "text/plain": [
       "          city   city_ascii state_id  state_name  county_fips  county_name  \\\n",
       "0     New York     New York       NY    New York        36061     New York   \n",
       "1  Los Angeles  Los Angeles       CA  California         6037  Los Angeles   \n",
       "2      Chicago      Chicago       IL    Illinois        17031         Cook   \n",
       "3        Miami        Miami       FL     Florida        12086   Miami-Dade   \n",
       "4       Dallas       Dallas       TX       Texas        48113       Dallas   \n",
       "\n",
       "       lat       lng  population  density   source  military  incorporated  \\\n",
       "0  40.6943  -73.9249    18713220    10715  polygon     False          True   \n",
       "1  34.1139 -118.4068    12750807     3276  polygon     False          True   \n",
       "2  41.8373  -87.6862     8604203     4574  polygon     False          True   \n",
       "3  25.7839  -80.2102     6445545     5019  polygon     False          True   \n",
       "4  32.7936  -96.7662     5743938     1526  polygon     False          True   \n",
       "\n",
       "              timezone  ranking  \\\n",
       "0     America/New_York        1   \n",
       "1  America/Los_Angeles        1   \n",
       "2      America/Chicago        1   \n",
       "3     America/New_York        1   \n",
       "4      America/Chicago        1   \n",
       "\n",
       "                                                zips          id  \n",
       "0  11229 11226 11225 11224 11222 11221 11220 1138...  1840034016  \n",
       "1  90291 90293 90292 91316 91311 90037 90031 9000...  1840020491  \n",
       "2  60018 60649 60641 60640 60643 60642 60645 6064...  1840000494  \n",
       "3  33129 33125 33126 33127 33128 33149 33144 3314...  1840015149  \n",
       "4  75287 75098 75233 75254 75251 75252 75253 7503...  1840019440  "
      ]
     },
     "execution_count": 236,
     "metadata": {},
     "output_type": "execute_result"
    }
   ],
   "source": [
    "df_us_cities.head()"
   ]
  },
  {
   "cell_type": "code",
   "execution_count": 237,
   "metadata": {
    "colab": {
     "base_uri": "https://localhost:8080/"
    },
    "id": "mzdYrzx__6yt",
    "outputId": "ee083a78-4cb3-427b-944f-70e0adda00ab"
   },
   "outputs": [
    {
     "name": "stdout",
     "output_type": "stream",
     "text": [
      "<class 'pandas.core.frame.DataFrame'>\n",
      "RangeIndex: 1738 entries, 0 to 1737\n",
      "Data columns (total 12 columns):\n",
      " #   Column         Non-Null Count  Dtype  \n",
      "---  ------         --------------  -----  \n",
      " 0   city           1738 non-null   object \n",
      " 1   city_ascii     1738 non-null   object \n",
      " 2   province_id    1738 non-null   object \n",
      " 3   province_name  1738 non-null   object \n",
      " 4   lat            1738 non-null   float64\n",
      " 5   lng            1738 non-null   float64\n",
      " 6   population     1738 non-null   float64\n",
      " 7   density        1738 non-null   float64\n",
      " 8   timezone       1738 non-null   object \n",
      " 9   ranking        1738 non-null   int64  \n",
      " 10  postal         1738 non-null   object \n",
      " 11  id             1738 non-null   int64  \n",
      "dtypes: float64(4), int64(2), object(6)\n",
      "memory usage: 163.1+ KB\n"
     ]
    }
   ],
   "source": [
    "df_canada_cities.info()"
   ]
  },
  {
   "cell_type": "code",
   "execution_count": 238,
   "metadata": {
    "colab": {
     "base_uri": "https://localhost:8080/",
     "height": 206
    },
    "id": "335uomH5__iB",
    "outputId": "9453e1a3-5279-4d52-bdb2-04ecc55826e9"
   },
   "outputs": [
    {
     "data": {
      "text/html": [
       "<div>\n",
       "<style scoped>\n",
       "    .dataframe tbody tr th:only-of-type {\n",
       "        vertical-align: middle;\n",
       "    }\n",
       "\n",
       "    .dataframe tbody tr th {\n",
       "        vertical-align: top;\n",
       "    }\n",
       "\n",
       "    .dataframe thead th {\n",
       "        text-align: right;\n",
       "    }\n",
       "</style>\n",
       "<table border=\"1\" class=\"dataframe\">\n",
       "  <thead>\n",
       "    <tr style=\"text-align: right;\">\n",
       "      <th></th>\n",
       "      <th>city</th>\n",
       "      <th>city_ascii</th>\n",
       "      <th>province_id</th>\n",
       "      <th>province_name</th>\n",
       "      <th>lat</th>\n",
       "      <th>lng</th>\n",
       "      <th>population</th>\n",
       "      <th>density</th>\n",
       "      <th>timezone</th>\n",
       "      <th>ranking</th>\n",
       "      <th>postal</th>\n",
       "      <th>id</th>\n",
       "    </tr>\n",
       "  </thead>\n",
       "  <tbody>\n",
       "    <tr>\n",
       "      <th>0</th>\n",
       "      <td>Toronto</td>\n",
       "      <td>Toronto</td>\n",
       "      <td>ON</td>\n",
       "      <td>Ontario</td>\n",
       "      <td>43.7417</td>\n",
       "      <td>-79.3733</td>\n",
       "      <td>5429524.0</td>\n",
       "      <td>4334.4</td>\n",
       "      <td>America/Toronto</td>\n",
       "      <td>1</td>\n",
       "      <td>M5T M5V M5P M5S M5R M5E M5G M5A M5C M5B M5M M5...</td>\n",
       "      <td>1124279679</td>\n",
       "    </tr>\n",
       "    <tr>\n",
       "      <th>1</th>\n",
       "      <td>Montréal</td>\n",
       "      <td>Montreal</td>\n",
       "      <td>QC</td>\n",
       "      <td>Quebec</td>\n",
       "      <td>45.5089</td>\n",
       "      <td>-73.5617</td>\n",
       "      <td>3519595.0</td>\n",
       "      <td>3889.0</td>\n",
       "      <td>America/Montreal</td>\n",
       "      <td>1</td>\n",
       "      <td>H1X H1Y H1Z H1P H1R H1S H1T H1V H1W H1H H1J H1...</td>\n",
       "      <td>1124586170</td>\n",
       "    </tr>\n",
       "    <tr>\n",
       "      <th>2</th>\n",
       "      <td>Vancouver</td>\n",
       "      <td>Vancouver</td>\n",
       "      <td>BC</td>\n",
       "      <td>British Columbia</td>\n",
       "      <td>49.2500</td>\n",
       "      <td>-123.1000</td>\n",
       "      <td>2264823.0</td>\n",
       "      <td>5492.6</td>\n",
       "      <td>America/Vancouver</td>\n",
       "      <td>1</td>\n",
       "      <td>V6Z V6S V6R V6P V6N V6M V6L V6K V6J V6H V6G V6...</td>\n",
       "      <td>1124825478</td>\n",
       "    </tr>\n",
       "    <tr>\n",
       "      <th>3</th>\n",
       "      <td>Calgary</td>\n",
       "      <td>Calgary</td>\n",
       "      <td>AB</td>\n",
       "      <td>Alberta</td>\n",
       "      <td>51.0500</td>\n",
       "      <td>-114.0667</td>\n",
       "      <td>1239220.0</td>\n",
       "      <td>1501.1</td>\n",
       "      <td>America/Edmonton</td>\n",
       "      <td>1</td>\n",
       "      <td>T1Y T2H T2K T2J T2L T2N T2A T2C T2B T2E T2G T2...</td>\n",
       "      <td>1124690423</td>\n",
       "    </tr>\n",
       "    <tr>\n",
       "      <th>4</th>\n",
       "      <td>Edmonton</td>\n",
       "      <td>Edmonton</td>\n",
       "      <td>AB</td>\n",
       "      <td>Alberta</td>\n",
       "      <td>53.5344</td>\n",
       "      <td>-113.4903</td>\n",
       "      <td>1062643.0</td>\n",
       "      <td>1360.9</td>\n",
       "      <td>America/Edmonton</td>\n",
       "      <td>1</td>\n",
       "      <td>T5X T5Y T5Z T5P T5R T5S T5T T5V T5W T5H T5J T5...</td>\n",
       "      <td>1124290735</td>\n",
       "    </tr>\n",
       "  </tbody>\n",
       "</table>\n",
       "</div>"
      ],
      "text/plain": [
       "        city city_ascii province_id     province_name      lat       lng  \\\n",
       "0    Toronto    Toronto          ON           Ontario  43.7417  -79.3733   \n",
       "1   Montréal   Montreal          QC            Quebec  45.5089  -73.5617   \n",
       "2  Vancouver  Vancouver          BC  British Columbia  49.2500 -123.1000   \n",
       "3    Calgary    Calgary          AB           Alberta  51.0500 -114.0667   \n",
       "4   Edmonton   Edmonton          AB           Alberta  53.5344 -113.4903   \n",
       "\n",
       "   population  density           timezone  ranking  \\\n",
       "0   5429524.0   4334.4    America/Toronto        1   \n",
       "1   3519595.0   3889.0   America/Montreal        1   \n",
       "2   2264823.0   5492.6  America/Vancouver        1   \n",
       "3   1239220.0   1501.1   America/Edmonton        1   \n",
       "4   1062643.0   1360.9   America/Edmonton        1   \n",
       "\n",
       "                                              postal          id  \n",
       "0  M5T M5V M5P M5S M5R M5E M5G M5A M5C M5B M5M M5...  1124279679  \n",
       "1  H1X H1Y H1Z H1P H1R H1S H1T H1V H1W H1H H1J H1...  1124586170  \n",
       "2  V6Z V6S V6R V6P V6N V6M V6L V6K V6J V6H V6G V6...  1124825478  \n",
       "3  T1Y T2H T2K T2J T2L T2N T2A T2C T2B T2E T2G T2...  1124690423  \n",
       "4  T5X T5Y T5Z T5P T5R T5S T5T T5V T5W T5H T5J T5...  1124290735  "
      ]
     },
     "execution_count": 238,
     "metadata": {},
     "output_type": "execute_result"
    }
   ],
   "source": [
    "df_canada_cities.head()"
   ]
  },
  {
   "cell_type": "code",
   "execution_count": 239,
   "metadata": {
    "id": "cm41rR258mLK"
   },
   "outputs": [],
   "source": [
    "# we can combine the two, however, we should rename the columns for the province and state so they are the same. since there are more us, we will just call them state id, this will also match the ufo dataset\n",
    "df_canada_cities.rename(columns={\"province_id\":\"state_id\",\"province_name\":\"state_name\"}, inplace=True)"
   ]
  },
  {
   "cell_type": "code",
   "execution_count": 240,
   "metadata": {
    "colab": {
     "base_uri": "https://localhost:8080/"
    },
    "id": "qwRZLvUTABcC",
    "outputId": "db17d248-2886-45ff-c241-9f9209f7af8b"
   },
   "outputs": [
    {
     "name": "stdout",
     "output_type": "stream",
     "text": [
      "<class 'pandas.core.frame.DataFrame'>\n",
      "Int64Index: 30076 entries, 0 to 1737\n",
      "Data columns (total 11 columns):\n",
      " #   Column      Non-Null Count  Dtype  \n",
      "---  ------      --------------  -----  \n",
      " 0   city        30076 non-null  object \n",
      " 1   city_ascii  30076 non-null  object \n",
      " 2   state_id    30076 non-null  object \n",
      " 3   state_name  30076 non-null  object \n",
      " 4   lat         30076 non-null  float64\n",
      " 5   lng         30076 non-null  float64\n",
      " 6   population  30076 non-null  float64\n",
      " 7   density     30076 non-null  float64\n",
      " 8   timezone    30076 non-null  object \n",
      " 9   ranking     30076 non-null  int64  \n",
      " 10  id          30076 non-null  int64  \n",
      "dtypes: float64(4), int64(2), object(5)\n",
      "memory usage: 2.8+ MB\n"
     ]
    }
   ],
   "source": [
    "# okay, now we have some supporting data, we would now have to create a function to help us fill what is missing\n",
    "df_cities = pd.concat([df_us_cities,df_canada_cities], join='inner')\n",
    "df_cities.info()"
   ]
  },
  {
   "cell_type": "code",
   "execution_count": 241,
   "metadata": {
    "colab": {
     "base_uri": "https://localhost:8080/"
    },
    "id": "wMZGoL7D8gbE",
    "outputId": "2f4b3962-c921-4b5d-a379-55bcb9e2fc07"
   },
   "outputs": [
    {
     "name": "stdout",
     "output_type": "stream",
     "text": [
      "<class 'pandas.core.frame.DataFrame'>\n",
      "Int64Index: 88024 entries, 0 to 88123\n",
      "Data columns (total 20 columns):\n",
      " #   Column            Non-Null Count  Dtype         \n",
      "---  ------            --------------  -----         \n",
      " 0   Text_ID           86102 non-null  float64       \n",
      " 1   city              85874 non-null  object        \n",
      " 2   state             81012 non-null  object        \n",
      " 3   date_time         88024 non-null  datetime64[ns]\n",
      " 4   shape             83689 non-null  object        \n",
      " 5   stats             86102 non-null  object        \n",
      " 6   report_link       86102 non-null  object        \n",
      " 7   text              86102 non-null  object        \n",
      " 8   posted            84988 non-null  object        \n",
      " 9   city_latitude     70426 non-null  float64       \n",
      " 10  city_longitude    70426 non-null  float64       \n",
      " 11  Duration          86102 non-null  object        \n",
      " 12  summary_notes     86102 non-null  object        \n",
      " 13  text_notes        86102 non-null  object        \n",
      " 14  stats_duplicated  86102 non-null  object        \n",
      " 15  Reported_stats    88024 non-null  object        \n",
      " 16  Occurred_stats    88024 non-null  object        \n",
      " 17  year              88024 non-null  Int64         \n",
      " 18  hour              88024 non-null  Int64         \n",
      " 19  time_of_day       88024 non-null  category      \n",
      "dtypes: Int64(2), category(1), datetime64[ns](1), float64(3), object(13)\n",
      "memory usage: 13.7+ MB\n"
     ]
    }
   ],
   "source": [
    "# okay, so we have data that we can use. now we need to essentially map the data so that all the data in our original df is correct and not missing\n",
    "df.info()"
   ]
  },
  {
   "cell_type": "code",
   "execution_count": 73,
   "metadata": {
    "id": "5_3azjG-UOBV"
   },
   "outputs": [],
   "source": [
    "#def impute_geographic(city, state, long, lat, reference_table):\n",
    "#  if city is None:\n",
    "    \n"
   ]
  },
  {
   "cell_type": "code",
   "execution_count": 242,
   "metadata": {
    "colab": {
     "base_uri": "https://localhost:8080/"
    },
    "id": "nmSOf6HyU7i5",
    "outputId": "879b882b-6e69-4d95-9bfc-b9c0f7316965"
   },
   "outputs": [
    {
     "data": {
      "text/plain": [
       "45.5333    13\n",
       "45.4500    11\n",
       "45.4833    10\n",
       "45.0833    10\n",
       "45.8500     9\n",
       "           ..\n",
       "41.8753     1\n",
       "39.8772     1\n",
       "41.5102     1\n",
       "34.8389     1\n",
       "51.3522     1\n",
       "Name: lat, Length: 27299, dtype: int64"
      ]
     },
     "execution_count": 242,
     "metadata": {},
     "output_type": "execute_result"
    }
   ],
   "source": [
    "df_cities['lat'].value_counts()"
   ]
  },
  {
   "cell_type": "code",
   "execution_count": 243,
   "metadata": {
    "colab": {
     "base_uri": "https://localhost:8080/",
     "height": 206
    },
    "id": "_56Kib-9V1UH",
    "outputId": "170e57ff-4c8e-454b-81fd-d12dd5843bde"
   },
   "outputs": [
    {
     "data": {
      "text/html": [
       "<div>\n",
       "<style scoped>\n",
       "    .dataframe tbody tr th:only-of-type {\n",
       "        vertical-align: middle;\n",
       "    }\n",
       "\n",
       "    .dataframe tbody tr th {\n",
       "        vertical-align: top;\n",
       "    }\n",
       "\n",
       "    .dataframe thead th {\n",
       "        text-align: right;\n",
       "    }\n",
       "</style>\n",
       "<table border=\"1\" class=\"dataframe\">\n",
       "  <thead>\n",
       "    <tr style=\"text-align: right;\">\n",
       "      <th></th>\n",
       "      <th>city</th>\n",
       "      <th>city_ascii</th>\n",
       "      <th>state_id</th>\n",
       "      <th>state_name</th>\n",
       "      <th>lat</th>\n",
       "      <th>lng</th>\n",
       "      <th>population</th>\n",
       "      <th>density</th>\n",
       "      <th>timezone</th>\n",
       "      <th>ranking</th>\n",
       "      <th>id</th>\n",
       "      <th>coord</th>\n",
       "    </tr>\n",
       "  </thead>\n",
       "  <tbody>\n",
       "    <tr>\n",
       "      <th>0</th>\n",
       "      <td>New York</td>\n",
       "      <td>New York</td>\n",
       "      <td>NY</td>\n",
       "      <td>New York</td>\n",
       "      <td>40.6943</td>\n",
       "      <td>-73.9249</td>\n",
       "      <td>18713220.0</td>\n",
       "      <td>10715.0</td>\n",
       "      <td>America/New_York</td>\n",
       "      <td>1</td>\n",
       "      <td>1840034016</td>\n",
       "      <td>(40.6943, -73.9249)</td>\n",
       "    </tr>\n",
       "    <tr>\n",
       "      <th>1</th>\n",
       "      <td>Los Angeles</td>\n",
       "      <td>Los Angeles</td>\n",
       "      <td>CA</td>\n",
       "      <td>California</td>\n",
       "      <td>34.1139</td>\n",
       "      <td>-118.4068</td>\n",
       "      <td>12750807.0</td>\n",
       "      <td>3276.0</td>\n",
       "      <td>America/Los_Angeles</td>\n",
       "      <td>1</td>\n",
       "      <td>1840020491</td>\n",
       "      <td>(34.1139, -118.4068)</td>\n",
       "    </tr>\n",
       "    <tr>\n",
       "      <th>2</th>\n",
       "      <td>Chicago</td>\n",
       "      <td>Chicago</td>\n",
       "      <td>IL</td>\n",
       "      <td>Illinois</td>\n",
       "      <td>41.8373</td>\n",
       "      <td>-87.6862</td>\n",
       "      <td>8604203.0</td>\n",
       "      <td>4574.0</td>\n",
       "      <td>America/Chicago</td>\n",
       "      <td>1</td>\n",
       "      <td>1840000494</td>\n",
       "      <td>(41.8373, -87.6862)</td>\n",
       "    </tr>\n",
       "    <tr>\n",
       "      <th>3</th>\n",
       "      <td>Miami</td>\n",
       "      <td>Miami</td>\n",
       "      <td>FL</td>\n",
       "      <td>Florida</td>\n",
       "      <td>25.7839</td>\n",
       "      <td>-80.2102</td>\n",
       "      <td>6445545.0</td>\n",
       "      <td>5019.0</td>\n",
       "      <td>America/New_York</td>\n",
       "      <td>1</td>\n",
       "      <td>1840015149</td>\n",
       "      <td>(25.7839, -80.2102)</td>\n",
       "    </tr>\n",
       "    <tr>\n",
       "      <th>4</th>\n",
       "      <td>Dallas</td>\n",
       "      <td>Dallas</td>\n",
       "      <td>TX</td>\n",
       "      <td>Texas</td>\n",
       "      <td>32.7936</td>\n",
       "      <td>-96.7662</td>\n",
       "      <td>5743938.0</td>\n",
       "      <td>1526.0</td>\n",
       "      <td>America/Chicago</td>\n",
       "      <td>1</td>\n",
       "      <td>1840019440</td>\n",
       "      <td>(32.7936, -96.7662)</td>\n",
       "    </tr>\n",
       "  </tbody>\n",
       "</table>\n",
       "</div>"
      ],
      "text/plain": [
       "          city   city_ascii state_id  state_name      lat       lng  \\\n",
       "0     New York     New York       NY    New York  40.6943  -73.9249   \n",
       "1  Los Angeles  Los Angeles       CA  California  34.1139 -118.4068   \n",
       "2      Chicago      Chicago       IL    Illinois  41.8373  -87.6862   \n",
       "3        Miami        Miami       FL     Florida  25.7839  -80.2102   \n",
       "4       Dallas       Dallas       TX       Texas  32.7936  -96.7662   \n",
       "\n",
       "   population  density             timezone  ranking          id  \\\n",
       "0  18713220.0  10715.0     America/New_York        1  1840034016   \n",
       "1  12750807.0   3276.0  America/Los_Angeles        1  1840020491   \n",
       "2   8604203.0   4574.0      America/Chicago        1  1840000494   \n",
       "3   6445545.0   5019.0     America/New_York        1  1840015149   \n",
       "4   5743938.0   1526.0      America/Chicago        1  1840019440   \n",
       "\n",
       "                  coord  \n",
       "0   (40.6943, -73.9249)  \n",
       "1  (34.1139, -118.4068)  \n",
       "2   (41.8373, -87.6862)  \n",
       "3   (25.7839, -80.2102)  \n",
       "4   (32.7936, -96.7662)  "
      ]
     },
     "execution_count": 243,
     "metadata": {},
     "output_type": "execute_result"
    }
   ],
   "source": [
    "def create_coord(arg1, arg2):\n",
    "  x = (arg1, arg2)\n",
    "  return x\n",
    "\n",
    "df_cities['coord'] = df_cities.apply(lambda row: create_coord(row['lat'], row['lng']), axis=1)\n",
    "df_cities.head()"
   ]
  },
  {
   "cell_type": "code",
   "execution_count": 244,
   "metadata": {
    "id": "bgQvDw-iXEJb"
   },
   "outputs": [],
   "source": [
    "df_cities['duplicate_coord'] = df_cities['coord'].duplicated(keep=False)"
   ]
  },
  {
   "cell_type": "code",
   "execution_count": 245,
   "metadata": {
    "colab": {
     "base_uri": "https://localhost:8080/",
     "height": 300
    },
    "id": "MCwiaM7HciJA",
    "outputId": "4e5ecb4c-7a99-4fae-eadd-72f26939afed"
   },
   "outputs": [
    {
     "data": {
      "text/html": [
       "<div>\n",
       "<style scoped>\n",
       "    .dataframe tbody tr th:only-of-type {\n",
       "        vertical-align: middle;\n",
       "    }\n",
       "\n",
       "    .dataframe tbody tr th {\n",
       "        vertical-align: top;\n",
       "    }\n",
       "\n",
       "    .dataframe thead th {\n",
       "        text-align: right;\n",
       "    }\n",
       "</style>\n",
       "<table border=\"1\" class=\"dataframe\">\n",
       "  <thead>\n",
       "    <tr style=\"text-align: right;\">\n",
       "      <th></th>\n",
       "      <th>city</th>\n",
       "      <th>city_ascii</th>\n",
       "      <th>state_id</th>\n",
       "      <th>state_name</th>\n",
       "      <th>lat</th>\n",
       "      <th>lng</th>\n",
       "      <th>population</th>\n",
       "      <th>density</th>\n",
       "      <th>timezone</th>\n",
       "      <th>ranking</th>\n",
       "      <th>id</th>\n",
       "      <th>coord</th>\n",
       "      <th>duplicate_coord</th>\n",
       "    </tr>\n",
       "  </thead>\n",
       "  <tbody>\n",
       "    <tr>\n",
       "      <th>99</th>\n",
       "      <td>Beloeil</td>\n",
       "      <td>Beloeil</td>\n",
       "      <td>QC</td>\n",
       "      <td>Quebec</td>\n",
       "      <td>45.5667</td>\n",
       "      <td>-73.2000</td>\n",
       "      <td>50796.0</td>\n",
       "      <td>862.8</td>\n",
       "      <td>America/Montreal</td>\n",
       "      <td>3</td>\n",
       "      <td>1124469084</td>\n",
       "      <td>(45.5667, -73.2)</td>\n",
       "      <td>True</td>\n",
       "    </tr>\n",
       "    <tr>\n",
       "      <th>125</th>\n",
       "      <td>Vaudreuil-Dorion</td>\n",
       "      <td>Vaudreuil-Dorion</td>\n",
       "      <td>QC</td>\n",
       "      <td>Quebec</td>\n",
       "      <td>45.4000</td>\n",
       "      <td>-74.0333</td>\n",
       "      <td>38117.0</td>\n",
       "      <td>524.1</td>\n",
       "      <td>America/Montreal</td>\n",
       "      <td>3</td>\n",
       "      <td>1124618618</td>\n",
       "      <td>(45.4, -74.0333)</td>\n",
       "      <td>True</td>\n",
       "    </tr>\n",
       "    <tr>\n",
       "      <th>760</th>\n",
       "      <td>De Salaberry</td>\n",
       "      <td>De Salaberry</td>\n",
       "      <td>MB</td>\n",
       "      <td>Manitoba</td>\n",
       "      <td>49.4403</td>\n",
       "      <td>-96.9844</td>\n",
       "      <td>3580.0</td>\n",
       "      <td>5.3</td>\n",
       "      <td>America/Winnipeg</td>\n",
       "      <td>3</td>\n",
       "      <td>1124001664</td>\n",
       "      <td>(49.4403, -96.9844)</td>\n",
       "      <td>True</td>\n",
       "    </tr>\n",
       "    <tr>\n",
       "      <th>864</th>\n",
       "      <td>Sainte-Marie-Madeleine</td>\n",
       "      <td>Sainte-Marie-Madeleine</td>\n",
       "      <td>QC</td>\n",
       "      <td>Quebec</td>\n",
       "      <td>45.6000</td>\n",
       "      <td>-73.1000</td>\n",
       "      <td>2935.0</td>\n",
       "      <td>57.7</td>\n",
       "      <td>America/Montreal</td>\n",
       "      <td>4</td>\n",
       "      <td>1124000666</td>\n",
       "      <td>(45.6, -73.1)</td>\n",
       "      <td>True</td>\n",
       "    </tr>\n",
       "    <tr>\n",
       "      <th>934</th>\n",
       "      <td>Saint-Mathieu-de-Beloeil</td>\n",
       "      <td>Saint-Mathieu-de-Beloeil</td>\n",
       "      <td>QC</td>\n",
       "      <td>Quebec</td>\n",
       "      <td>45.5667</td>\n",
       "      <td>-73.2000</td>\n",
       "      <td>2624.0</td>\n",
       "      <td>65.8</td>\n",
       "      <td>America/Montreal</td>\n",
       "      <td>3</td>\n",
       "      <td>1124000340</td>\n",
       "      <td>(45.5667, -73.2)</td>\n",
       "      <td>True</td>\n",
       "    </tr>\n",
       "    <tr>\n",
       "      <th>1003</th>\n",
       "      <td>Sainte-Madeleine</td>\n",
       "      <td>Sainte-Madeleine</td>\n",
       "      <td>QC</td>\n",
       "      <td>Quebec</td>\n",
       "      <td>45.6000</td>\n",
       "      <td>-73.1000</td>\n",
       "      <td>2356.0</td>\n",
       "      <td>439.8</td>\n",
       "      <td>America/Montreal</td>\n",
       "      <td>3</td>\n",
       "      <td>1124000679</td>\n",
       "      <td>(45.6, -73.1)</td>\n",
       "      <td>True</td>\n",
       "    </tr>\n",
       "    <tr>\n",
       "      <th>1450</th>\n",
       "      <td>Vaudreuil-sur-le-Lac</td>\n",
       "      <td>Vaudreuil-sur-le-Lac</td>\n",
       "      <td>QC</td>\n",
       "      <td>Quebec</td>\n",
       "      <td>45.4000</td>\n",
       "      <td>-74.0333</td>\n",
       "      <td>1359.0</td>\n",
       "      <td>989.2</td>\n",
       "      <td>America/Montreal</td>\n",
       "      <td>3</td>\n",
       "      <td>1124001806</td>\n",
       "      <td>(45.4, -74.0333)</td>\n",
       "      <td>True</td>\n",
       "    </tr>\n",
       "    <tr>\n",
       "      <th>1581</th>\n",
       "      <td>St-Pierre-Jolys</td>\n",
       "      <td>St-Pierre-Jolys</td>\n",
       "      <td>MB</td>\n",
       "      <td>Manitoba</td>\n",
       "      <td>49.4403</td>\n",
       "      <td>-96.9844</td>\n",
       "      <td>1170.0</td>\n",
       "      <td>440.5</td>\n",
       "      <td>America/Winnipeg</td>\n",
       "      <td>3</td>\n",
       "      <td>1124001013</td>\n",
       "      <td>(49.4403, -96.9844)</td>\n",
       "      <td>True</td>\n",
       "    </tr>\n",
       "  </tbody>\n",
       "</table>\n",
       "</div>"
      ],
      "text/plain": [
       "                          city                city_ascii state_id state_name  \\\n",
       "99                     Beloeil                   Beloeil       QC     Quebec   \n",
       "125           Vaudreuil-Dorion          Vaudreuil-Dorion       QC     Quebec   \n",
       "760               De Salaberry              De Salaberry       MB   Manitoba   \n",
       "864     Sainte-Marie-Madeleine    Sainte-Marie-Madeleine       QC     Quebec   \n",
       "934   Saint-Mathieu-de-Beloeil  Saint-Mathieu-de-Beloeil       QC     Quebec   \n",
       "1003          Sainte-Madeleine          Sainte-Madeleine       QC     Quebec   \n",
       "1450      Vaudreuil-sur-le-Lac      Vaudreuil-sur-le-Lac       QC     Quebec   \n",
       "1581           St-Pierre-Jolys           St-Pierre-Jolys       MB   Manitoba   \n",
       "\n",
       "          lat      lng  population  density          timezone  ranking  \\\n",
       "99    45.5667 -73.2000     50796.0    862.8  America/Montreal        3   \n",
       "125   45.4000 -74.0333     38117.0    524.1  America/Montreal        3   \n",
       "760   49.4403 -96.9844      3580.0      5.3  America/Winnipeg        3   \n",
       "864   45.6000 -73.1000      2935.0     57.7  America/Montreal        4   \n",
       "934   45.5667 -73.2000      2624.0     65.8  America/Montreal        3   \n",
       "1003  45.6000 -73.1000      2356.0    439.8  America/Montreal        3   \n",
       "1450  45.4000 -74.0333      1359.0    989.2  America/Montreal        3   \n",
       "1581  49.4403 -96.9844      1170.0    440.5  America/Winnipeg        3   \n",
       "\n",
       "              id                coord  duplicate_coord  \n",
       "99    1124469084     (45.5667, -73.2)             True  \n",
       "125   1124618618     (45.4, -74.0333)             True  \n",
       "760   1124001664  (49.4403, -96.9844)             True  \n",
       "864   1124000666        (45.6, -73.1)             True  \n",
       "934   1124000340     (45.5667, -73.2)             True  \n",
       "1003  1124000679        (45.6, -73.1)             True  \n",
       "1450  1124001806     (45.4, -74.0333)             True  \n",
       "1581  1124001013  (49.4403, -96.9844)             True  "
      ]
     },
     "execution_count": 245,
     "metadata": {},
     "output_type": "execute_result"
    }
   ],
   "source": [
    "df_cities[df_cities['duplicate_coord'] == True]"
   ]
  },
  {
   "cell_type": "code",
   "execution_count": 246,
   "metadata": {
    "id": "VWE8Tp_ceW1B"
   },
   "outputs": [],
   "source": [
    "# okay we can see some duplicated values, thankfully there aren't that many\n",
    "# having duplicated lat, lng would suggest that they are effectively the same\n",
    "# manually querying them in google maps, we can see that in our dataframe,\n",
    "# the first instance of each duplicate essentially encompasses the second instance\n",
    "# as some of of these are essentially municipalities. \n",
    "# saint-mathieu-de-beloeil is in/next to beloeil, st pierre jolys is in de salaberry,\n",
    "# vaudreuil-sur-le-lac is in vaudreuil-dorion, and sainte-marie-madeleine and saint-madeleine seem to be same on the map\n",
    "# that means for our purposes we can remove the duplicates giving us a each city haivng a unique lat lng pairing\n",
    "# that means, that even with a duplicate city name, we should be able to determine the instance\n",
    "# assuming that there are no duplicates with the same city name, state name in our df"
   ]
  },
  {
   "cell_type": "code",
   "execution_count": 247,
   "metadata": {
    "colab": {
     "base_uri": "https://localhost:8080/",
     "height": 175
    },
    "id": "3UtyGi3DfoX6",
    "outputId": "6e626929-25d8-4e07-d4ce-e0db5bd971ce"
   },
   "outputs": [
    {
     "data": {
      "text/html": [
       "<div>\n",
       "<style scoped>\n",
       "    .dataframe tbody tr th:only-of-type {\n",
       "        vertical-align: middle;\n",
       "    }\n",
       "\n",
       "    .dataframe tbody tr th {\n",
       "        vertical-align: top;\n",
       "    }\n",
       "\n",
       "    .dataframe thead th {\n",
       "        text-align: right;\n",
       "    }\n",
       "</style>\n",
       "<table border=\"1\" class=\"dataframe\">\n",
       "  <thead>\n",
       "    <tr style=\"text-align: right;\">\n",
       "      <th></th>\n",
       "      <th>city</th>\n",
       "      <th>city_ascii</th>\n",
       "      <th>state_id</th>\n",
       "      <th>state_name</th>\n",
       "      <th>lat</th>\n",
       "      <th>lng</th>\n",
       "      <th>population</th>\n",
       "      <th>density</th>\n",
       "      <th>timezone</th>\n",
       "      <th>ranking</th>\n",
       "      <th>id</th>\n",
       "      <th>coord</th>\n",
       "      <th>duplicate_coord</th>\n",
       "    </tr>\n",
       "  </thead>\n",
       "  <tbody>\n",
       "    <tr>\n",
       "      <th>934</th>\n",
       "      <td>Saint-Mathieu-de-Beloeil</td>\n",
       "      <td>Saint-Mathieu-de-Beloeil</td>\n",
       "      <td>QC</td>\n",
       "      <td>Quebec</td>\n",
       "      <td>45.5667</td>\n",
       "      <td>-73.2000</td>\n",
       "      <td>2624.0</td>\n",
       "      <td>65.8</td>\n",
       "      <td>America/Montreal</td>\n",
       "      <td>3</td>\n",
       "      <td>1124000340</td>\n",
       "      <td>(45.5667, -73.2)</td>\n",
       "      <td>True</td>\n",
       "    </tr>\n",
       "    <tr>\n",
       "      <th>1003</th>\n",
       "      <td>Sainte-Madeleine</td>\n",
       "      <td>Sainte-Madeleine</td>\n",
       "      <td>QC</td>\n",
       "      <td>Quebec</td>\n",
       "      <td>45.6000</td>\n",
       "      <td>-73.1000</td>\n",
       "      <td>2356.0</td>\n",
       "      <td>439.8</td>\n",
       "      <td>America/Montreal</td>\n",
       "      <td>3</td>\n",
       "      <td>1124000679</td>\n",
       "      <td>(45.6, -73.1)</td>\n",
       "      <td>True</td>\n",
       "    </tr>\n",
       "    <tr>\n",
       "      <th>1450</th>\n",
       "      <td>Vaudreuil-sur-le-Lac</td>\n",
       "      <td>Vaudreuil-sur-le-Lac</td>\n",
       "      <td>QC</td>\n",
       "      <td>Quebec</td>\n",
       "      <td>45.4000</td>\n",
       "      <td>-74.0333</td>\n",
       "      <td>1359.0</td>\n",
       "      <td>989.2</td>\n",
       "      <td>America/Montreal</td>\n",
       "      <td>3</td>\n",
       "      <td>1124001806</td>\n",
       "      <td>(45.4, -74.0333)</td>\n",
       "      <td>True</td>\n",
       "    </tr>\n",
       "    <tr>\n",
       "      <th>1581</th>\n",
       "      <td>St-Pierre-Jolys</td>\n",
       "      <td>St-Pierre-Jolys</td>\n",
       "      <td>MB</td>\n",
       "      <td>Manitoba</td>\n",
       "      <td>49.4403</td>\n",
       "      <td>-96.9844</td>\n",
       "      <td>1170.0</td>\n",
       "      <td>440.5</td>\n",
       "      <td>America/Winnipeg</td>\n",
       "      <td>3</td>\n",
       "      <td>1124001013</td>\n",
       "      <td>(49.4403, -96.9844)</td>\n",
       "      <td>True</td>\n",
       "    </tr>\n",
       "  </tbody>\n",
       "</table>\n",
       "</div>"
      ],
      "text/plain": [
       "                          city                city_ascii state_id state_name  \\\n",
       "934   Saint-Mathieu-de-Beloeil  Saint-Mathieu-de-Beloeil       QC     Quebec   \n",
       "1003          Sainte-Madeleine          Sainte-Madeleine       QC     Quebec   \n",
       "1450      Vaudreuil-sur-le-Lac      Vaudreuil-sur-le-Lac       QC     Quebec   \n",
       "1581           St-Pierre-Jolys           St-Pierre-Jolys       MB   Manitoba   \n",
       "\n",
       "          lat      lng  population  density          timezone  ranking  \\\n",
       "934   45.5667 -73.2000      2624.0     65.8  America/Montreal        3   \n",
       "1003  45.6000 -73.1000      2356.0    439.8  America/Montreal        3   \n",
       "1450  45.4000 -74.0333      1359.0    989.2  America/Montreal        3   \n",
       "1581  49.4403 -96.9844      1170.0    440.5  America/Winnipeg        3   \n",
       "\n",
       "              id                coord  duplicate_coord  \n",
       "934   1124000340     (45.5667, -73.2)             True  \n",
       "1003  1124000679        (45.6, -73.1)             True  \n",
       "1450  1124001806     (45.4, -74.0333)             True  \n",
       "1581  1124001013  (49.4403, -96.9844)             True  "
      ]
     },
     "execution_count": 247,
     "metadata": {},
     "output_type": "execute_result"
    }
   ],
   "source": [
    "df_cities['duplicate_coord'] = df_cities['coord'].duplicated(keep='first')\n",
    "df_cities[df_cities['duplicate_coord'] == True]"
   ]
  },
  {
   "cell_type": "code",
   "execution_count": 248,
   "metadata": {
    "colab": {
     "base_uri": "https://localhost:8080/",
     "height": 49
    },
    "id": "Ewpd31x8f5GP",
    "outputId": "8e4e3c5c-e7b0-4977-f74d-203926485894"
   },
   "outputs": [
    {
     "data": {
      "text/html": [
       "<div>\n",
       "<style scoped>\n",
       "    .dataframe tbody tr th:only-of-type {\n",
       "        vertical-align: middle;\n",
       "    }\n",
       "\n",
       "    .dataframe tbody tr th {\n",
       "        vertical-align: top;\n",
       "    }\n",
       "\n",
       "    .dataframe thead th {\n",
       "        text-align: right;\n",
       "    }\n",
       "</style>\n",
       "<table border=\"1\" class=\"dataframe\">\n",
       "  <thead>\n",
       "    <tr style=\"text-align: right;\">\n",
       "      <th></th>\n",
       "      <th>city</th>\n",
       "      <th>city_ascii</th>\n",
       "      <th>state_id</th>\n",
       "      <th>state_name</th>\n",
       "      <th>lat</th>\n",
       "      <th>lng</th>\n",
       "      <th>population</th>\n",
       "      <th>density</th>\n",
       "      <th>timezone</th>\n",
       "      <th>ranking</th>\n",
       "      <th>id</th>\n",
       "      <th>coord</th>\n",
       "      <th>duplicate_coord</th>\n",
       "    </tr>\n",
       "  </thead>\n",
       "  <tbody>\n",
       "  </tbody>\n",
       "</table>\n",
       "</div>"
      ],
      "text/plain": [
       "Empty DataFrame\n",
       "Columns: [city, city_ascii, state_id, state_name, lat, lng, population, density, timezone, ranking, id, coord, duplicate_coord]\n",
       "Index: []"
      ]
     },
     "execution_count": 248,
     "metadata": {},
     "output_type": "execute_result"
    }
   ],
   "source": [
    "# so the ones marked true are the instances we want to drop\n",
    "df_cities.drop([934,1003,1450,1581], inplace=True)\n",
    "df_cities[df_cities['duplicate_coord'] == True]"
   ]
  },
  {
   "cell_type": "code",
   "execution_count": 249,
   "metadata": {
    "id": "L9-uOfGCgSwj"
   },
   "outputs": [],
   "source": [
    "# our drop of observations worked, let's delete the column since we no longer need it\n",
    "df_cities.drop(columns=['duplicate_coord'], inplace=True)"
   ]
  },
  {
   "cell_type": "code",
   "execution_count": 250,
   "metadata": {
    "colab": {
     "base_uri": "https://localhost:8080/",
     "height": 990
    },
    "id": "B_APoHIzg-pm",
    "outputId": "b2c19ca5-42ab-4378-b825-0399be801f85"
   },
   "outputs": [
    {
     "data": {
      "text/html": [
       "<div>\n",
       "<style scoped>\n",
       "    .dataframe tbody tr th:only-of-type {\n",
       "        vertical-align: middle;\n",
       "    }\n",
       "\n",
       "    .dataframe tbody tr th {\n",
       "        vertical-align: top;\n",
       "    }\n",
       "\n",
       "    .dataframe thead th {\n",
       "        text-align: right;\n",
       "    }\n",
       "</style>\n",
       "<table border=\"1\" class=\"dataframe\">\n",
       "  <thead>\n",
       "    <tr style=\"text-align: right;\">\n",
       "      <th></th>\n",
       "      <th>city</th>\n",
       "      <th>city_ascii</th>\n",
       "      <th>state_id</th>\n",
       "      <th>state_name</th>\n",
       "      <th>lat</th>\n",
       "      <th>lng</th>\n",
       "      <th>population</th>\n",
       "      <th>density</th>\n",
       "      <th>timezone</th>\n",
       "      <th>ranking</th>\n",
       "      <th>id</th>\n",
       "      <th>coord</th>\n",
       "      <th>city_state</th>\n",
       "      <th>duplicate_city_state</th>\n",
       "    </tr>\n",
       "  </thead>\n",
       "  <tbody>\n",
       "    <tr>\n",
       "      <th>2652</th>\n",
       "      <td>Midway</td>\n",
       "      <td>Midway</td>\n",
       "      <td>FL</td>\n",
       "      <td>Florida</td>\n",
       "      <td>30.4138</td>\n",
       "      <td>-87.0261</td>\n",
       "      <td>17760.0</td>\n",
       "      <td>571.0</td>\n",
       "      <td>America/Chicago</td>\n",
       "      <td>3</td>\n",
       "      <td>1840143881</td>\n",
       "      <td>(30.4138, -87.0261)</td>\n",
       "      <td>(Midway, FL)</td>\n",
       "      <td>True</td>\n",
       "    </tr>\n",
       "    <tr>\n",
       "      <th>3871</th>\n",
       "      <td>Woodbury</td>\n",
       "      <td>Woodbury</td>\n",
       "      <td>NY</td>\n",
       "      <td>New York</td>\n",
       "      <td>41.3284</td>\n",
       "      <td>-74.1004</td>\n",
       "      <td>11089.0</td>\n",
       "      <td>120.0</td>\n",
       "      <td>America/New_York</td>\n",
       "      <td>3</td>\n",
       "      <td>1840004883</td>\n",
       "      <td>(41.3284, -74.1004)</td>\n",
       "      <td>(Woodbury, NY)</td>\n",
       "      <td>True</td>\n",
       "    </tr>\n",
       "    <tr>\n",
       "      <th>4290</th>\n",
       "      <td>Middletown</td>\n",
       "      <td>Middletown</td>\n",
       "      <td>PA</td>\n",
       "      <td>Pennsylvania</td>\n",
       "      <td>40.2010</td>\n",
       "      <td>-76.7289</td>\n",
       "      <td>9594.0</td>\n",
       "      <td>1824.0</td>\n",
       "      <td>America/New_York</td>\n",
       "      <td>3</td>\n",
       "      <td>1840001291</td>\n",
       "      <td>(40.201, -76.7289)</td>\n",
       "      <td>(Middletown, PA)</td>\n",
       "      <td>True</td>\n",
       "    </tr>\n",
       "    <tr>\n",
       "      <th>4525</th>\n",
       "      <td>Oakwood</td>\n",
       "      <td>Oakwood</td>\n",
       "      <td>OH</td>\n",
       "      <td>Ohio</td>\n",
       "      <td>39.7202</td>\n",
       "      <td>-84.1733</td>\n",
       "      <td>8936.0</td>\n",
       "      <td>1571.0</td>\n",
       "      <td>America/New_York</td>\n",
       "      <td>3</td>\n",
       "      <td>1840003785</td>\n",
       "      <td>(39.7202, -84.1733)</td>\n",
       "      <td>(Oakwood, OH)</td>\n",
       "      <td>True</td>\n",
       "    </tr>\n",
       "    <tr>\n",
       "      <th>4553</th>\n",
       "      <td>Woodbury</td>\n",
       "      <td>Woodbury</td>\n",
       "      <td>NY</td>\n",
       "      <td>New York</td>\n",
       "      <td>40.8177</td>\n",
       "      <td>-73.4703</td>\n",
       "      <td>8852.0</td>\n",
       "      <td>682.0</td>\n",
       "      <td>America/New_York</td>\n",
       "      <td>3</td>\n",
       "      <td>1840150821</td>\n",
       "      <td>(40.8177, -73.4703)</td>\n",
       "      <td>(Woodbury, NY)</td>\n",
       "      <td>True</td>\n",
       "    </tr>\n",
       "    <tr>\n",
       "      <th>4570</th>\n",
       "      <td>Franklin</td>\n",
       "      <td>Franklin</td>\n",
       "      <td>PA</td>\n",
       "      <td>Pennsylvania</td>\n",
       "      <td>41.3936</td>\n",
       "      <td>-79.8425</td>\n",
       "      <td>8802.0</td>\n",
       "      <td>496.0</td>\n",
       "      <td>America/New_York</td>\n",
       "      <td>3</td>\n",
       "      <td>1840003425</td>\n",
       "      <td>(41.3936, -79.8425)</td>\n",
       "      <td>(Franklin, PA)</td>\n",
       "      <td>True</td>\n",
       "    </tr>\n",
       "    <tr>\n",
       "      <th>5079</th>\n",
       "      <td>San Antonio</td>\n",
       "      <td>San Antonio</td>\n",
       "      <td>PR</td>\n",
       "      <td>Puerto Rico</td>\n",
       "      <td>18.4468</td>\n",
       "      <td>-66.3002</td>\n",
       "      <td>7655.0</td>\n",
       "      <td>1680.0</td>\n",
       "      <td>America/Puerto_Rico</td>\n",
       "      <td>3</td>\n",
       "      <td>1630023733</td>\n",
       "      <td>(18.4468, -66.3002)</td>\n",
       "      <td>(San Antonio, PR)</td>\n",
       "      <td>True</td>\n",
       "    </tr>\n",
       "    <tr>\n",
       "      <th>5301</th>\n",
       "      <td>Middletown</td>\n",
       "      <td>Middletown</td>\n",
       "      <td>PA</td>\n",
       "      <td>Pennsylvania</td>\n",
       "      <td>40.6441</td>\n",
       "      <td>-75.3244</td>\n",
       "      <td>7212.0</td>\n",
       "      <td>1063.0</td>\n",
       "      <td>America/New_York</td>\n",
       "      <td>3</td>\n",
       "      <td>1840145547</td>\n",
       "      <td>(40.6441, -75.3244)</td>\n",
       "      <td>(Middletown, PA)</td>\n",
       "      <td>True</td>\n",
       "    </tr>\n",
       "    <tr>\n",
       "      <th>6853</th>\n",
       "      <td>Chula Vista</td>\n",
       "      <td>Chula Vista</td>\n",
       "      <td>TX</td>\n",
       "      <td>Texas</td>\n",
       "      <td>28.6573</td>\n",
       "      <td>-100.4220</td>\n",
       "      <td>4722.0</td>\n",
       "      <td>550.0</td>\n",
       "      <td>America/Chicago</td>\n",
       "      <td>3</td>\n",
       "      <td>1840073267</td>\n",
       "      <td>(28.6573, -100.422)</td>\n",
       "      <td>(Chula Vista, TX)</td>\n",
       "      <td>True</td>\n",
       "    </tr>\n",
       "    <tr>\n",
       "      <th>8018</th>\n",
       "      <td>Oakwood</td>\n",
       "      <td>Oakwood</td>\n",
       "      <td>OH</td>\n",
       "      <td>Ohio</td>\n",
       "      <td>41.3668</td>\n",
       "      <td>-81.5036</td>\n",
       "      <td>3624.0</td>\n",
       "      <td>408.0</td>\n",
       "      <td>America/New_York</td>\n",
       "      <td>3</td>\n",
       "      <td>1840144439</td>\n",
       "      <td>(41.3668, -81.5036)</td>\n",
       "      <td>(Oakwood, OH)</td>\n",
       "      <td>True</td>\n",
       "    </tr>\n",
       "    <tr>\n",
       "      <th>8908</th>\n",
       "      <td>Midway</td>\n",
       "      <td>Midway</td>\n",
       "      <td>FL</td>\n",
       "      <td>Florida</td>\n",
       "      <td>30.4993</td>\n",
       "      <td>-84.4583</td>\n",
       "      <td>3000.0</td>\n",
       "      <td>118.0</td>\n",
       "      <td>America/New_York</td>\n",
       "      <td>3</td>\n",
       "      <td>1840015021</td>\n",
       "      <td>(30.4993, -84.4583)</td>\n",
       "      <td>(Midway, FL)</td>\n",
       "      <td>True</td>\n",
       "    </tr>\n",
       "    <tr>\n",
       "      <th>9868</th>\n",
       "      <td>Liberty</td>\n",
       "      <td>Liberty</td>\n",
       "      <td>PA</td>\n",
       "      <td>Pennsylvania</td>\n",
       "      <td>40.3244</td>\n",
       "      <td>-79.8589</td>\n",
       "      <td>2454.0</td>\n",
       "      <td>662.0</td>\n",
       "      <td>America/New_York</td>\n",
       "      <td>3</td>\n",
       "      <td>1840001241</td>\n",
       "      <td>(40.3244, -79.8589)</td>\n",
       "      <td>(Liberty, PA)</td>\n",
       "      <td>True</td>\n",
       "    </tr>\n",
       "    <tr>\n",
       "      <th>10276</th>\n",
       "      <td>Newtown</td>\n",
       "      <td>Newtown</td>\n",
       "      <td>PA</td>\n",
       "      <td>Pennsylvania</td>\n",
       "      <td>40.2290</td>\n",
       "      <td>-74.9324</td>\n",
       "      <td>2240.0</td>\n",
       "      <td>1562.0</td>\n",
       "      <td>America/New_York</td>\n",
       "      <td>3</td>\n",
       "      <td>1840001329</td>\n",
       "      <td>(40.229, -74.9324)</td>\n",
       "      <td>(Newtown, PA)</td>\n",
       "      <td>True</td>\n",
       "    </tr>\n",
       "    <tr>\n",
       "      <th>11041</th>\n",
       "      <td>Georgetown</td>\n",
       "      <td>Georgetown</td>\n",
       "      <td>PA</td>\n",
       "      <td>Pennsylvania</td>\n",
       "      <td>41.2267</td>\n",
       "      <td>-75.8719</td>\n",
       "      <td>1909.0</td>\n",
       "      <td>984.0</td>\n",
       "      <td>America/New_York</td>\n",
       "      <td>3</td>\n",
       "      <td>1840144823</td>\n",
       "      <td>(41.2267, -75.8719)</td>\n",
       "      <td>(Georgetown, PA)</td>\n",
       "      <td>True</td>\n",
       "    </tr>\n",
       "    <tr>\n",
       "      <th>11916</th>\n",
       "      <td>San Antonio</td>\n",
       "      <td>San Antonio</td>\n",
       "      <td>PR</td>\n",
       "      <td>Puerto Rico</td>\n",
       "      <td>18.4931</td>\n",
       "      <td>-67.0998</td>\n",
       "      <td>1625.0</td>\n",
       "      <td>1297.0</td>\n",
       "      <td>America/Puerto_Rico</td>\n",
       "      <td>3</td>\n",
       "      <td>1630149533</td>\n",
       "      <td>(18.4931, -67.0998)</td>\n",
       "      <td>(San Antonio, PR)</td>\n",
       "      <td>True</td>\n",
       "    </tr>\n",
       "    <tr>\n",
       "      <th>12023</th>\n",
       "      <td>Midway</td>\n",
       "      <td>Midway</td>\n",
       "      <td>FL</td>\n",
       "      <td>Florida</td>\n",
       "      <td>28.7924</td>\n",
       "      <td>-81.2314</td>\n",
       "      <td>1592.0</td>\n",
       "      <td>833.0</td>\n",
       "      <td>America/New_York</td>\n",
       "      <td>3</td>\n",
       "      <td>1840148976</td>\n",
       "      <td>(28.7924, -81.2314)</td>\n",
       "      <td>(Midway, FL)</td>\n",
       "      <td>True</td>\n",
       "    </tr>\n",
       "    <tr>\n",
       "      <th>12070</th>\n",
       "      <td>Oakland</td>\n",
       "      <td>Oakland</td>\n",
       "      <td>PA</td>\n",
       "      <td>Pennsylvania</td>\n",
       "      <td>40.9915</td>\n",
       "      <td>-80.3671</td>\n",
       "      <td>1579.0</td>\n",
       "      <td>664.0</td>\n",
       "      <td>America/New_York</td>\n",
       "      <td>3</td>\n",
       "      <td>1840149256</td>\n",
       "      <td>(40.9915, -80.3671)</td>\n",
       "      <td>(Oakland, PA)</td>\n",
       "      <td>True</td>\n",
       "    </tr>\n",
       "    <tr>\n",
       "      <th>12633</th>\n",
       "      <td>Oakland</td>\n",
       "      <td>Oakland</td>\n",
       "      <td>PA</td>\n",
       "      <td>Pennsylvania</td>\n",
       "      <td>40.3055</td>\n",
       "      <td>-78.8819</td>\n",
       "      <td>1422.0</td>\n",
       "      <td>387.0</td>\n",
       "      <td>America/New_York</td>\n",
       "      <td>3</td>\n",
       "      <td>1840144363</td>\n",
       "      <td>(40.3055, -78.8819)</td>\n",
       "      <td>(Oakland, PA)</td>\n",
       "      <td>True</td>\n",
       "    </tr>\n",
       "    <tr>\n",
       "      <th>12648</th>\n",
       "      <td>San Antonio</td>\n",
       "      <td>San Antonio</td>\n",
       "      <td>PR</td>\n",
       "      <td>Puerto Rico</td>\n",
       "      <td>18.4382</td>\n",
       "      <td>-66.9362</td>\n",
       "      <td>1419.0</td>\n",
       "      <td>839.0</td>\n",
       "      <td>America/Puerto_Rico</td>\n",
       "      <td>3</td>\n",
       "      <td>1630146624</td>\n",
       "      <td>(18.4382, -66.9362)</td>\n",
       "      <td>(San Antonio, PR)</td>\n",
       "      <td>True</td>\n",
       "    </tr>\n",
       "    <tr>\n",
       "      <th>13691</th>\n",
       "      <td>Georgetown</td>\n",
       "      <td>Georgetown</td>\n",
       "      <td>PA</td>\n",
       "      <td>Pennsylvania</td>\n",
       "      <td>39.9426</td>\n",
       "      <td>-76.0789</td>\n",
       "      <td>1182.0</td>\n",
       "      <td>111.0</td>\n",
       "      <td>America/New_York</td>\n",
       "      <td>3</td>\n",
       "      <td>1840146109</td>\n",
       "      <td>(39.9426, -76.0789)</td>\n",
       "      <td>(Georgetown, PA)</td>\n",
       "      <td>True</td>\n",
       "    </tr>\n",
       "    <tr>\n",
       "      <th>15813</th>\n",
       "      <td>Chula Vista</td>\n",
       "      <td>Chula Vista</td>\n",
       "      <td>TX</td>\n",
       "      <td>Texas</td>\n",
       "      <td>28.6563</td>\n",
       "      <td>-99.8077</td>\n",
       "      <td>829.0</td>\n",
       "      <td>604.0</td>\n",
       "      <td>America/Chicago</td>\n",
       "      <td>3</td>\n",
       "      <td>1840142314</td>\n",
       "      <td>(28.6563, -99.8077)</td>\n",
       "      <td>(Chula Vista, TX)</td>\n",
       "      <td>True</td>\n",
       "    </tr>\n",
       "    <tr>\n",
       "      <th>16599</th>\n",
       "      <td>Jefferson</td>\n",
       "      <td>Jefferson</td>\n",
       "      <td>PA</td>\n",
       "      <td>Pennsylvania</td>\n",
       "      <td>39.8156</td>\n",
       "      <td>-76.8410</td>\n",
       "      <td>732.0</td>\n",
       "      <td>466.0</td>\n",
       "      <td>America/New_York</td>\n",
       "      <td>3</td>\n",
       "      <td>1840001452</td>\n",
       "      <td>(39.8156, -76.841)</td>\n",
       "      <td>(Jefferson, PA)</td>\n",
       "      <td>True</td>\n",
       "    </tr>\n",
       "    <tr>\n",
       "      <th>17912</th>\n",
       "      <td>Oakwood</td>\n",
       "      <td>Oakwood</td>\n",
       "      <td>OH</td>\n",
       "      <td>Ohio</td>\n",
       "      <td>41.0927</td>\n",
       "      <td>-84.3747</td>\n",
       "      <td>587.0</td>\n",
       "      <td>322.0</td>\n",
       "      <td>America/New_York</td>\n",
       "      <td>3</td>\n",
       "      <td>1840144033</td>\n",
       "      <td>(41.0927, -84.3747)</td>\n",
       "      <td>(Oakwood, OH)</td>\n",
       "      <td>True</td>\n",
       "    </tr>\n",
       "    <tr>\n",
       "      <th>18157</th>\n",
       "      <td>Oakland</td>\n",
       "      <td>Oakland</td>\n",
       "      <td>PA</td>\n",
       "      <td>Pennsylvania</td>\n",
       "      <td>41.9506</td>\n",
       "      <td>-75.6095</td>\n",
       "      <td>562.0</td>\n",
       "      <td>486.0</td>\n",
       "      <td>America/New_York</td>\n",
       "      <td>3</td>\n",
       "      <td>1840003327</td>\n",
       "      <td>(41.9506, -75.6095)</td>\n",
       "      <td>(Oakland, PA)</td>\n",
       "      <td>True</td>\n",
       "    </tr>\n",
       "    <tr>\n",
       "      <th>21873</th>\n",
       "      <td>Franklin</td>\n",
       "      <td>Franklin</td>\n",
       "      <td>PA</td>\n",
       "      <td>Pennsylvania</td>\n",
       "      <td>40.3417</td>\n",
       "      <td>-78.8846</td>\n",
       "      <td>293.0</td>\n",
       "      <td>204.0</td>\n",
       "      <td>America/New_York</td>\n",
       "      <td>3</td>\n",
       "      <td>1840144444</td>\n",
       "      <td>(40.3417, -78.8846)</td>\n",
       "      <td>(Franklin, PA)</td>\n",
       "      <td>True</td>\n",
       "    </tr>\n",
       "    <tr>\n",
       "      <th>22175</th>\n",
       "      <td>Chula Vista</td>\n",
       "      <td>Chula Vista</td>\n",
       "      <td>TX</td>\n",
       "      <td>Texas</td>\n",
       "      <td>26.0739</td>\n",
       "      <td>-97.4397</td>\n",
       "      <td>276.0</td>\n",
       "      <td>582.0</td>\n",
       "      <td>America/Chicago</td>\n",
       "      <td>3</td>\n",
       "      <td>1840143770</td>\n",
       "      <td>(26.0739, -97.4397)</td>\n",
       "      <td>(Chula Vista, TX)</td>\n",
       "      <td>True</td>\n",
       "    </tr>\n",
       "    <tr>\n",
       "      <th>22614</th>\n",
       "      <td>Jefferson</td>\n",
       "      <td>Jefferson</td>\n",
       "      <td>PA</td>\n",
       "      <td>Pennsylvania</td>\n",
       "      <td>39.9305</td>\n",
       "      <td>-80.0578</td>\n",
       "      <td>253.0</td>\n",
       "      <td>519.0</td>\n",
       "      <td>America/New_York</td>\n",
       "      <td>3</td>\n",
       "      <td>1840146258</td>\n",
       "      <td>(39.9305, -80.0578)</td>\n",
       "      <td>(Jefferson, PA)</td>\n",
       "      <td>True</td>\n",
       "    </tr>\n",
       "    <tr>\n",
       "      <th>22935</th>\n",
       "      <td>Newtown</td>\n",
       "      <td>Newtown</td>\n",
       "      <td>PA</td>\n",
       "      <td>Pennsylvania</td>\n",
       "      <td>40.6529</td>\n",
       "      <td>-76.3461</td>\n",
       "      <td>236.0</td>\n",
       "      <td>142.0</td>\n",
       "      <td>America/New_York</td>\n",
       "      <td>3</td>\n",
       "      <td>1840151703</td>\n",
       "      <td>(40.6529, -76.3461)</td>\n",
       "      <td>(Newtown, PA)</td>\n",
       "      <td>True</td>\n",
       "    </tr>\n",
       "    <tr>\n",
       "      <th>22963</th>\n",
       "      <td>Liberty</td>\n",
       "      <td>Liberty</td>\n",
       "      <td>PA</td>\n",
       "      <td>Pennsylvania</td>\n",
       "      <td>41.5585</td>\n",
       "      <td>-77.1054</td>\n",
       "      <td>234.0</td>\n",
       "      <td>189.0</td>\n",
       "      <td>America/New_York</td>\n",
       "      <td>3</td>\n",
       "      <td>1840145063</td>\n",
       "      <td>(41.5585, -77.1054)</td>\n",
       "      <td>(Liberty, PA)</td>\n",
       "      <td>True</td>\n",
       "    </tr>\n",
       "    <tr>\n",
       "      <th>24586</th>\n",
       "      <td>Georgetown</td>\n",
       "      <td>Georgetown</td>\n",
       "      <td>PA</td>\n",
       "      <td>Pennsylvania</td>\n",
       "      <td>40.6417</td>\n",
       "      <td>-80.4994</td>\n",
       "      <td>162.0</td>\n",
       "      <td>357.0</td>\n",
       "      <td>America/New_York</td>\n",
       "      <td>3</td>\n",
       "      <td>1840001023</td>\n",
       "      <td>(40.6417, -80.4994)</td>\n",
       "      <td>(Georgetown, PA)</td>\n",
       "      <td>True</td>\n",
       "    </tr>\n",
       "  </tbody>\n",
       "</table>\n",
       "</div>"
      ],
      "text/plain": [
       "              city   city_ascii state_id    state_name      lat       lng  \\\n",
       "2652        Midway       Midway       FL       Florida  30.4138  -87.0261   \n",
       "3871      Woodbury     Woodbury       NY      New York  41.3284  -74.1004   \n",
       "4290    Middletown   Middletown       PA  Pennsylvania  40.2010  -76.7289   \n",
       "4525       Oakwood      Oakwood       OH          Ohio  39.7202  -84.1733   \n",
       "4553      Woodbury     Woodbury       NY      New York  40.8177  -73.4703   \n",
       "4570      Franklin     Franklin       PA  Pennsylvania  41.3936  -79.8425   \n",
       "5079   San Antonio  San Antonio       PR   Puerto Rico  18.4468  -66.3002   \n",
       "5301    Middletown   Middletown       PA  Pennsylvania  40.6441  -75.3244   \n",
       "6853   Chula Vista  Chula Vista       TX         Texas  28.6573 -100.4220   \n",
       "8018       Oakwood      Oakwood       OH          Ohio  41.3668  -81.5036   \n",
       "8908        Midway       Midway       FL       Florida  30.4993  -84.4583   \n",
       "9868       Liberty      Liberty       PA  Pennsylvania  40.3244  -79.8589   \n",
       "10276      Newtown      Newtown       PA  Pennsylvania  40.2290  -74.9324   \n",
       "11041   Georgetown   Georgetown       PA  Pennsylvania  41.2267  -75.8719   \n",
       "11916  San Antonio  San Antonio       PR   Puerto Rico  18.4931  -67.0998   \n",
       "12023       Midway       Midway       FL       Florida  28.7924  -81.2314   \n",
       "12070      Oakland      Oakland       PA  Pennsylvania  40.9915  -80.3671   \n",
       "12633      Oakland      Oakland       PA  Pennsylvania  40.3055  -78.8819   \n",
       "12648  San Antonio  San Antonio       PR   Puerto Rico  18.4382  -66.9362   \n",
       "13691   Georgetown   Georgetown       PA  Pennsylvania  39.9426  -76.0789   \n",
       "15813  Chula Vista  Chula Vista       TX         Texas  28.6563  -99.8077   \n",
       "16599    Jefferson    Jefferson       PA  Pennsylvania  39.8156  -76.8410   \n",
       "17912      Oakwood      Oakwood       OH          Ohio  41.0927  -84.3747   \n",
       "18157      Oakland      Oakland       PA  Pennsylvania  41.9506  -75.6095   \n",
       "21873     Franklin     Franklin       PA  Pennsylvania  40.3417  -78.8846   \n",
       "22175  Chula Vista  Chula Vista       TX         Texas  26.0739  -97.4397   \n",
       "22614    Jefferson    Jefferson       PA  Pennsylvania  39.9305  -80.0578   \n",
       "22935      Newtown      Newtown       PA  Pennsylvania  40.6529  -76.3461   \n",
       "22963      Liberty      Liberty       PA  Pennsylvania  41.5585  -77.1054   \n",
       "24586   Georgetown   Georgetown       PA  Pennsylvania  40.6417  -80.4994   \n",
       "\n",
       "       population  density             timezone  ranking          id  \\\n",
       "2652      17760.0    571.0      America/Chicago        3  1840143881   \n",
       "3871      11089.0    120.0     America/New_York        3  1840004883   \n",
       "4290       9594.0   1824.0     America/New_York        3  1840001291   \n",
       "4525       8936.0   1571.0     America/New_York        3  1840003785   \n",
       "4553       8852.0    682.0     America/New_York        3  1840150821   \n",
       "4570       8802.0    496.0     America/New_York        3  1840003425   \n",
       "5079       7655.0   1680.0  America/Puerto_Rico        3  1630023733   \n",
       "5301       7212.0   1063.0     America/New_York        3  1840145547   \n",
       "6853       4722.0    550.0      America/Chicago        3  1840073267   \n",
       "8018       3624.0    408.0     America/New_York        3  1840144439   \n",
       "8908       3000.0    118.0     America/New_York        3  1840015021   \n",
       "9868       2454.0    662.0     America/New_York        3  1840001241   \n",
       "10276      2240.0   1562.0     America/New_York        3  1840001329   \n",
       "11041      1909.0    984.0     America/New_York        3  1840144823   \n",
       "11916      1625.0   1297.0  America/Puerto_Rico        3  1630149533   \n",
       "12023      1592.0    833.0     America/New_York        3  1840148976   \n",
       "12070      1579.0    664.0     America/New_York        3  1840149256   \n",
       "12633      1422.0    387.0     America/New_York        3  1840144363   \n",
       "12648      1419.0    839.0  America/Puerto_Rico        3  1630146624   \n",
       "13691      1182.0    111.0     America/New_York        3  1840146109   \n",
       "15813       829.0    604.0      America/Chicago        3  1840142314   \n",
       "16599       732.0    466.0     America/New_York        3  1840001452   \n",
       "17912       587.0    322.0     America/New_York        3  1840144033   \n",
       "18157       562.0    486.0     America/New_York        3  1840003327   \n",
       "21873       293.0    204.0     America/New_York        3  1840144444   \n",
       "22175       276.0    582.0      America/Chicago        3  1840143770   \n",
       "22614       253.0    519.0     America/New_York        3  1840146258   \n",
       "22935       236.0    142.0     America/New_York        3  1840151703   \n",
       "22963       234.0    189.0     America/New_York        3  1840145063   \n",
       "24586       162.0    357.0     America/New_York        3  1840001023   \n",
       "\n",
       "                     coord         city_state  duplicate_city_state  \n",
       "2652   (30.4138, -87.0261)       (Midway, FL)                  True  \n",
       "3871   (41.3284, -74.1004)     (Woodbury, NY)                  True  \n",
       "4290    (40.201, -76.7289)   (Middletown, PA)                  True  \n",
       "4525   (39.7202, -84.1733)      (Oakwood, OH)                  True  \n",
       "4553   (40.8177, -73.4703)     (Woodbury, NY)                  True  \n",
       "4570   (41.3936, -79.8425)     (Franklin, PA)                  True  \n",
       "5079   (18.4468, -66.3002)  (San Antonio, PR)                  True  \n",
       "5301   (40.6441, -75.3244)   (Middletown, PA)                  True  \n",
       "6853   (28.6573, -100.422)  (Chula Vista, TX)                  True  \n",
       "8018   (41.3668, -81.5036)      (Oakwood, OH)                  True  \n",
       "8908   (30.4993, -84.4583)       (Midway, FL)                  True  \n",
       "9868   (40.3244, -79.8589)      (Liberty, PA)                  True  \n",
       "10276   (40.229, -74.9324)      (Newtown, PA)                  True  \n",
       "11041  (41.2267, -75.8719)   (Georgetown, PA)                  True  \n",
       "11916  (18.4931, -67.0998)  (San Antonio, PR)                  True  \n",
       "12023  (28.7924, -81.2314)       (Midway, FL)                  True  \n",
       "12070  (40.9915, -80.3671)      (Oakland, PA)                  True  \n",
       "12633  (40.3055, -78.8819)      (Oakland, PA)                  True  \n",
       "12648  (18.4382, -66.9362)  (San Antonio, PR)                  True  \n",
       "13691  (39.9426, -76.0789)   (Georgetown, PA)                  True  \n",
       "15813  (28.6563, -99.8077)  (Chula Vista, TX)                  True  \n",
       "16599   (39.8156, -76.841)    (Jefferson, PA)                  True  \n",
       "17912  (41.0927, -84.3747)      (Oakwood, OH)                  True  \n",
       "18157  (41.9506, -75.6095)      (Oakland, PA)                  True  \n",
       "21873  (40.3417, -78.8846)     (Franklin, PA)                  True  \n",
       "22175  (26.0739, -97.4397)  (Chula Vista, TX)                  True  \n",
       "22614  (39.9305, -80.0578)    (Jefferson, PA)                  True  \n",
       "22935  (40.6529, -76.3461)      (Newtown, PA)                  True  \n",
       "22963  (41.5585, -77.1054)      (Liberty, PA)                  True  \n",
       "24586  (40.6417, -80.4994)   (Georgetown, PA)                  True  "
      ]
     },
     "execution_count": 250,
     "metadata": {},
     "output_type": "execute_result"
    }
   ],
   "source": [
    "# we have an assumption that no city and state pairing is duplicate\n",
    "# lets test this quickly\n",
    "df_cities['city_state'] = df_cities.apply(lambda row: create_coord(row['city'], row['state_id']), axis=1)\n",
    "df_cities['duplicate_city_state'] = df_cities['city_state'].duplicated(keep=False)\n",
    "df_cities[df_cities['duplicate_city_state'] == True]"
   ]
  },
  {
   "cell_type": "code",
   "execution_count": 251,
   "metadata": {
    "id": "DsBXQ4_FiTFM"
   },
   "outputs": [],
   "source": [
    "# so this is possibly cause a problem, the best thing to do here, is to deal with it so we have only one instance\n",
    "# we could make a couple of decisions here, the first is we could just use the first instance\n",
    "# another would be to find another data source that we could use in order to overwrite\n",
    "# third would be, we could average out each of the instances\n",
    "# the reality is, within a close proximity, it should be okay if we just pick one, so let's keep the first instance with the highest population\n"
   ]
  },
  {
   "cell_type": "code",
   "execution_count": 252,
   "metadata": {
    "colab": {
     "base_uri": "https://localhost:8080/",
     "height": 49
    },
    "id": "_X6wAirqRNHt",
    "outputId": "23dcfe7b-b055-4dff-c7cd-1b92fe8ac309"
   },
   "outputs": [
    {
     "data": {
      "text/html": [
       "<div>\n",
       "<style scoped>\n",
       "    .dataframe tbody tr th:only-of-type {\n",
       "        vertical-align: middle;\n",
       "    }\n",
       "\n",
       "    .dataframe tbody tr th {\n",
       "        vertical-align: top;\n",
       "    }\n",
       "\n",
       "    .dataframe thead th {\n",
       "        text-align: right;\n",
       "    }\n",
       "</style>\n",
       "<table border=\"1\" class=\"dataframe\">\n",
       "  <thead>\n",
       "    <tr style=\"text-align: right;\">\n",
       "      <th></th>\n",
       "      <th>city</th>\n",
       "      <th>city_ascii</th>\n",
       "      <th>state_id</th>\n",
       "      <th>state_name</th>\n",
       "      <th>lat</th>\n",
       "      <th>lng</th>\n",
       "      <th>population</th>\n",
       "      <th>density</th>\n",
       "      <th>timezone</th>\n",
       "      <th>ranking</th>\n",
       "      <th>id</th>\n",
       "      <th>coord</th>\n",
       "      <th>city_state</th>\n",
       "      <th>duplicate_city_state</th>\n",
       "    </tr>\n",
       "  </thead>\n",
       "  <tbody>\n",
       "  </tbody>\n",
       "</table>\n",
       "</div>"
      ],
      "text/plain": [
       "Empty DataFrame\n",
       "Columns: [city, city_ascii, state_id, state_name, lat, lng, population, density, timezone, ranking, id, coord, city_state, duplicate_city_state]\n",
       "Index: []"
      ]
     },
     "execution_count": 252,
     "metadata": {},
     "output_type": "execute_result"
    }
   ],
   "source": [
    "df_cities.drop_duplicates(subset='city_state', keep='first', inplace=True)\n",
    "df_cities['duplicate_city_state'] = df_cities['city_state'].duplicated(keep=False)\n",
    "df_cities[df_cities['duplicate_city_state'] == True]"
   ]
  },
  {
   "cell_type": "code",
   "execution_count": 253,
   "metadata": {
    "colab": {
     "base_uri": "https://localhost:8080/"
    },
    "id": "ibdSsY4iR9VC",
    "outputId": "c0e580d1-66ad-416e-844e-b9833de2d066"
   },
   "outputs": [
    {
     "name": "stdout",
     "output_type": "stream",
     "text": [
      "<class 'pandas.core.frame.DataFrame'>\n",
      "Int64Index: 30050 entries, 0 to 1737\n",
      "Data columns (total 13 columns):\n",
      " #   Column      Non-Null Count  Dtype  \n",
      "---  ------      --------------  -----  \n",
      " 0   city        30050 non-null  object \n",
      " 1   city_ascii  30050 non-null  object \n",
      " 2   state_id    30050 non-null  object \n",
      " 3   state_name  30050 non-null  object \n",
      " 4   lat         30050 non-null  float64\n",
      " 5   lng         30050 non-null  float64\n",
      " 6   population  30050 non-null  float64\n",
      " 7   density     30050 non-null  float64\n",
      " 8   timezone    30050 non-null  object \n",
      " 9   ranking     30050 non-null  int64  \n",
      " 10  id          30050 non-null  int64  \n",
      " 11  coord       30050 non-null  object \n",
      " 12  city_state  30050 non-null  object \n",
      "dtypes: float64(4), int64(2), object(7)\n",
      "memory usage: 3.2+ MB\n"
     ]
    }
   ],
   "source": [
    "# looks like we've got this done, let's drop the extra columns\n",
    "df_cities.drop(columns='duplicate_city_state', inplace=True)\n",
    "df_cities.info()"
   ]
  },
  {
   "cell_type": "code",
   "execution_count": 254,
   "metadata": {
    "colab": {
     "base_uri": "https://localhost:8080/"
    },
    "id": "1ggDLA5jntwS",
    "outputId": "ac31e44f-c92d-4057-fd50-cf61dbbdde7f"
   },
   "outputs": [
    {
     "data": {
      "text/plain": [
       "False    85874\n",
       "True      2150\n",
       "Name: city, dtype: int64"
      ]
     },
     "execution_count": 254,
     "metadata": {},
     "output_type": "execute_result"
    }
   ],
   "source": [
    "df['city'].isnull().value_counts()"
   ]
  },
  {
   "cell_type": "code",
   "execution_count": 255,
   "metadata": {
    "colab": {
     "base_uri": "https://localhost:8080/"
    },
    "id": "5T-dORkvoBN-",
    "outputId": "9aa92fb2-f396-496c-86cd-c4e12f223fa5"
   },
   "outputs": [
    {
     "data": {
      "text/plain": [
       "False    81012\n",
       "True      7012\n",
       "Name: state, dtype: int64"
      ]
     },
     "execution_count": 255,
     "metadata": {},
     "output_type": "execute_result"
    }
   ],
   "source": [
    "df['state'].isnull().value_counts()"
   ]
  },
  {
   "cell_type": "code",
   "execution_count": 256,
   "metadata": {
    "id": "1Tz3KUhen9l-"
   },
   "outputs": [],
   "source": [
    "# so we have 234 cities that don't have names "
   ]
  },
  {
   "cell_type": "code",
   "execution_count": 257,
   "metadata": {
    "id": "KyagNJ4mtfM8"
   },
   "outputs": [],
   "source": [
    "df_test = df[df['city'].isnull() == True]"
   ]
  },
  {
   "cell_type": "code",
   "execution_count": 258,
   "metadata": {
    "colab": {
     "base_uri": "https://localhost:8080/"
    },
    "id": "f6Kc4Nw6xoGY",
    "outputId": "74952432-7a89-435c-a61e-4c046aa48f35"
   },
   "outputs": [
    {
     "data": {
      "text/plain": [
       "0"
      ]
     },
     "execution_count": 258,
     "metadata": {},
     "output_type": "execute_result"
    }
   ],
   "source": [
    "df_test['city_latitude'].nunique()"
   ]
  },
  {
   "cell_type": "code",
   "execution_count": 259,
   "metadata": {
    "colab": {
     "base_uri": "https://localhost:8080/"
    },
    "id": "tuIiG-Eix7CC",
    "outputId": "463066b6-c3b5-48f9-b653-214be33b99ea"
   },
   "outputs": [
    {
     "data": {
      "text/plain": [
       "0"
      ]
     },
     "execution_count": 259,
     "metadata": {},
     "output_type": "execute_result"
    }
   ],
   "source": [
    "df_test['city_longitude'].nunique()"
   ]
  },
  {
   "cell_type": "code",
   "execution_count": 260,
   "metadata": {
    "colab": {
     "base_uri": "https://localhost:8080/"
    },
    "id": "sY-G5jrAyB3w",
    "outputId": "aca2bca7-f918-45ea-84af-eba8e4feb6a5"
   },
   "outputs": [
    {
     "name": "stdout",
     "output_type": "stream",
     "text": [
      "<class 'pandas.core.frame.DataFrame'>\n",
      "Int64Index: 85874 entries, 0 to 88123\n",
      "Data columns (total 20 columns):\n",
      " #   Column            Non-Null Count  Dtype         \n",
      "---  ------            --------------  -----         \n",
      " 0   Text_ID           85874 non-null  float64       \n",
      " 1   city              85874 non-null  object        \n",
      " 2   state             80897 non-null  object        \n",
      " 3   date_time         85874 non-null  datetime64[ns]\n",
      " 4   shape             83556 non-null  object        \n",
      " 5   stats             85874 non-null  object        \n",
      " 6   report_link       85874 non-null  object        \n",
      " 7   text              85874 non-null  object        \n",
      " 8   posted            84786 non-null  object        \n",
      " 9   city_latitude     70426 non-null  float64       \n",
      " 10  city_longitude    70426 non-null  float64       \n",
      " 11  Duration          85874 non-null  object        \n",
      " 12  summary_notes     85874 non-null  object        \n",
      " 13  text_notes        85874 non-null  object        \n",
      " 14  stats_duplicated  85874 non-null  object        \n",
      " 15  Reported_stats    85874 non-null  object        \n",
      " 16  Occurred_stats    85874 non-null  object        \n",
      " 17  year              85874 non-null  Int64         \n",
      " 18  hour              85874 non-null  Int64         \n",
      " 19  time_of_day       85874 non-null  category      \n",
      "dtypes: Int64(2), category(1), datetime64[ns](1), float64(3), object(13)\n",
      "memory usage: 13.3+ MB\n"
     ]
    }
   ],
   "source": [
    "# so, the ones with the city name as null, also have long and lat as null, these rows are useless, we don't have geographic data, which we have deemed is critical to our analysis\n",
    "# the lack of info also suggests this data is not reliable\n",
    "# let's drop this data\n",
    "df.dropna(subset=['city'],inplace=True)\n",
    "df.info()"
   ]
  },
  {
   "cell_type": "code",
   "execution_count": 261,
   "metadata": {
    "colab": {
     "base_uri": "https://localhost:8080/"
    },
    "id": "CiZbDbhWzkEF",
    "outputId": "7a1f752e-7a31-441f-d245-1ced1737c51d"
   },
   "outputs": [
    {
     "name": "stdout",
     "output_type": "stream",
     "text": [
      "<class 'pandas.core.frame.DataFrame'>\n",
      "Int64Index: 0 entries\n",
      "Data columns (total 20 columns):\n",
      " #   Column            Non-Null Count  Dtype         \n",
      "---  ------            --------------  -----         \n",
      " 0   Text_ID           0 non-null      float64       \n",
      " 1   city              0 non-null      object        \n",
      " 2   state             0 non-null      object        \n",
      " 3   date_time         0 non-null      datetime64[ns]\n",
      " 4   shape             0 non-null      object        \n",
      " 5   stats             0 non-null      object        \n",
      " 6   report_link       0 non-null      object        \n",
      " 7   text              0 non-null      object        \n",
      " 8   posted            0 non-null      object        \n",
      " 9   city_latitude     0 non-null      float64       \n",
      " 10  city_longitude    0 non-null      float64       \n",
      " 11  Duration          0 non-null      object        \n",
      " 12  summary_notes     0 non-null      object        \n",
      " 13  text_notes        0 non-null      object        \n",
      " 14  stats_duplicated  0 non-null      object        \n",
      " 15  Reported_stats    0 non-null      object        \n",
      " 16  Occurred_stats    0 non-null      object        \n",
      " 17  year              0 non-null      Int64         \n",
      " 18  hour              0 non-null      Int64         \n",
      " 19  time_of_day       0 non-null      category      \n",
      "dtypes: Int64(2), category(1), datetime64[ns](1), float64(3), object(13)\n",
      "memory usage: 220.0+ bytes\n"
     ]
    }
   ],
   "source": [
    "df_test = df[df['city'].isnull() == True]\n",
    "df_test.info()"
   ]
  },
  {
   "cell_type": "code",
   "execution_count": 262,
   "metadata": {
    "id": "wRzfPYDKzqXN"
   },
   "outputs": [],
   "source": [
    "#okay, so we got rid of those values\n",
    "# now, we can use the city name, state, lat and long to fill out the rest\n",
    "# the most important is city, because we know that each of those values is there\n",
    "# so our function should take city, and check what others are missing and fill them if necessary"
   ]
  },
  {
   "cell_type": "code",
   "execution_count": 263,
   "metadata": {
    "colab": {
     "base_uri": "https://localhost:8080/"
    },
    "id": "7h5_6vdNz6c4",
    "outputId": "ab50ea3e-a13e-47aa-abb9-fc968a517323"
   },
   "outputs": [
    {
     "data": {
      "text/plain": [
       "False    80897\n",
       "True      4977\n",
       "Name: state, dtype: int64"
      ]
     },
     "execution_count": 263,
     "metadata": {},
     "output_type": "execute_result"
    }
   ],
   "source": [
    "df['state'].isnull().value_counts()"
   ]
  },
  {
   "cell_type": "code",
   "execution_count": 264,
   "metadata": {
    "id": "VkJFR3531M_2"
   },
   "outputs": [],
   "source": [
    "df_test = df[df['state'].isnull() == True]"
   ]
  },
  {
   "cell_type": "code",
   "execution_count": 265,
   "metadata": {
    "colab": {
     "base_uri": "https://localhost:8080/"
    },
    "id": "ROPyUZJX14vs",
    "outputId": "27f801ec-6363-4db7-86f4-4ddce7a02107"
   },
   "outputs": [
    {
     "data": {
      "text/plain": [
       "Series([], Name: city_latitude, dtype: int64)"
      ]
     },
     "execution_count": 265,
     "metadata": {},
     "output_type": "execute_result"
    }
   ],
   "source": [
    "df_test['city_latitude'].value_counts()"
   ]
  },
  {
   "cell_type": "code",
   "execution_count": 266,
   "metadata": {
    "colab": {
     "base_uri": "https://localhost:8080/"
    },
    "id": "ZHIbn1uN19dQ",
    "outputId": "2a00c3c7-6da5-4e43-946a-e7c21ccf2cb4"
   },
   "outputs": [
    {
     "data": {
      "text/plain": [
       "0"
      ]
     },
     "execution_count": 266,
     "metadata": {},
     "output_type": "execute_result"
    }
   ],
   "source": [
    "df_test['city_longitude'].nunique()\n"
   ]
  },
  {
   "cell_type": "code",
   "execution_count": 267,
   "metadata": {
    "colab": {
     "base_uri": "https://localhost:8080/"
    },
    "id": "Qvo7ozCH1roa",
    "outputId": "c21d3126-2e51-44ab-f73d-64cd958dbe64"
   },
   "outputs": [
    {
     "data": {
      "text/plain": [
       "9       NaN\n",
       "29      NaN\n",
       "34      NaN\n",
       "52      NaN\n",
       "66      NaN\n",
       "         ..\n",
       "88009   NaN\n",
       "88036   NaN\n",
       "88062   NaN\n",
       "88067   NaN\n",
       "88077   NaN\n",
       "Name: city_latitude, Length: 4977, dtype: float64"
      ]
     },
     "execution_count": 267,
     "metadata": {},
     "output_type": "execute_result"
    }
   ],
   "source": [
    "df_test['city_latitude']"
   ]
  },
  {
   "cell_type": "code",
   "execution_count": 268,
   "metadata": {
    "colab": {
     "base_uri": "https://localhost:8080/"
    },
    "id": "Ht258z-u2Bgs",
    "outputId": "f346055b-f9e8-47d0-ca6e-6e77b69c3b9f"
   },
   "outputs": [
    {
     "data": {
      "text/plain": [
       "Series([], Name: city_longitude, dtype: int64)"
      ]
     },
     "execution_count": 268,
     "metadata": {},
     "output_type": "execute_result"
    }
   ],
   "source": [
    "df_test['city_longitude'].value_counts()"
   ]
  },
  {
   "cell_type": "code",
   "execution_count": 269,
   "metadata": {
    "colab": {
     "base_uri": "https://localhost:8080/"
    },
    "id": "HmxuOo4O10Y4",
    "outputId": "379063b1-9ddc-4b0b-f9aa-ce0c617c6c10"
   },
   "outputs": [
    {
     "data": {
      "text/plain": [
       "0"
      ]
     },
     "execution_count": 269,
     "metadata": {},
     "output_type": "execute_result"
    }
   ],
   "source": [
    "df_test['city_longitude'].nunique()"
   ]
  },
  {
   "cell_type": "code",
   "execution_count": 270,
   "metadata": {
    "colab": {
     "base_uri": "https://localhost:8080/"
    },
    "id": "oHARm88u2Kne",
    "outputId": "6e073008-4b4e-4336-cfea-02b9d412e424"
   },
   "outputs": [
    {
     "data": {
      "text/plain": [
       "9       NaN\n",
       "29      NaN\n",
       "34      NaN\n",
       "52      NaN\n",
       "66      NaN\n",
       "         ..\n",
       "88009   NaN\n",
       "88036   NaN\n",
       "88062   NaN\n",
       "88067   NaN\n",
       "88077   NaN\n",
       "Name: city_longitude, Length: 4977, dtype: float64"
      ]
     },
     "execution_count": 270,
     "metadata": {},
     "output_type": "execute_result"
    }
   ],
   "source": [
    "df_test['city_longitude']"
   ]
  },
  {
   "cell_type": "code",
   "execution_count": 271,
   "metadata": {
    "id": "bZ80DkfL2NC3"
   },
   "outputs": [],
   "source": [
    "# this tells us that if the state is missing, we are also missing the lat and long\n",
    "# what this means, is for the geographic, we will have the pairing of city state to get the lat and long\n",
    "# we can also drop the instances if the state is missing\n",
    "# this is a shame because we are dropping a lot of data, but we can't do much about it at this point\n",
    "df.dropna(subset=['state'],inplace=True)"
   ]
  },
  {
   "cell_type": "code",
   "execution_count": 272,
   "metadata": {
    "colab": {
     "base_uri": "https://localhost:8080/"
    },
    "id": "27xyO35b2m6l",
    "outputId": "5776ec7b-48bc-4885-9c15-312a0ef04c08"
   },
   "outputs": [
    {
     "data": {
      "text/plain": [
       "False    80897\n",
       "Name: state, dtype: int64"
      ]
     },
     "execution_count": 272,
     "metadata": {},
     "output_type": "execute_result"
    }
   ],
   "source": [
    "df['state'].isnull().value_counts()"
   ]
  },
  {
   "cell_type": "code",
   "execution_count": 273,
   "metadata": {
    "colab": {
     "base_uri": "https://localhost:8080/"
    },
    "id": "JxS4Rh9E8ScR",
    "outputId": "d0fc788f-3a2f-4289-9fa4-5f99ea630ba4"
   },
   "outputs": [
    {
     "name": "stdout",
     "output_type": "stream",
     "text": [
      "<class 'pandas.core.frame.DataFrame'>\n",
      "Int64Index: 80897 entries, 0 to 88123\n",
      "Data columns (total 20 columns):\n",
      " #   Column            Non-Null Count  Dtype         \n",
      "---  ------            --------------  -----         \n",
      " 0   Text_ID           80897 non-null  float64       \n",
      " 1   city              80897 non-null  object        \n",
      " 2   state             80897 non-null  object        \n",
      " 3   date_time         80897 non-null  datetime64[ns]\n",
      " 4   shape             78773 non-null  object        \n",
      " 5   stats             80897 non-null  object        \n",
      " 6   report_link       80897 non-null  object        \n",
      " 7   text              80897 non-null  object        \n",
      " 8   posted            79899 non-null  object        \n",
      " 9   city_latitude     70426 non-null  float64       \n",
      " 10  city_longitude    70426 non-null  float64       \n",
      " 11  Duration          80897 non-null  object        \n",
      " 12  summary_notes     80897 non-null  object        \n",
      " 13  text_notes        80897 non-null  object        \n",
      " 14  stats_duplicated  80897 non-null  object        \n",
      " 15  Reported_stats    80897 non-null  object        \n",
      " 16  Occurred_stats    80897 non-null  object        \n",
      " 17  year              80897 non-null  Int64         \n",
      " 18  hour              80897 non-null  Int64         \n",
      " 19  time_of_day       80897 non-null  category      \n",
      "dtypes: Int64(2), category(1), datetime64[ns](1), float64(3), object(13)\n",
      "memory usage: 12.6+ MB\n"
     ]
    }
   ],
   "source": [
    "df.info()"
   ]
  },
  {
   "cell_type": "code",
   "execution_count": 274,
   "metadata": {
    "colab": {
     "base_uri": "https://localhost:8080/",
     "height": 206
    },
    "id": "N_9FjtTn_Az4",
    "outputId": "c766f3b3-fa1b-4193-caed-609e56be856f"
   },
   "outputs": [
    {
     "data": {
      "text/html": [
       "<div>\n",
       "<style scoped>\n",
       "    .dataframe tbody tr th:only-of-type {\n",
       "        vertical-align: middle;\n",
       "    }\n",
       "\n",
       "    .dataframe tbody tr th {\n",
       "        vertical-align: top;\n",
       "    }\n",
       "\n",
       "    .dataframe thead th {\n",
       "        text-align: right;\n",
       "    }\n",
       "</style>\n",
       "<table border=\"1\" class=\"dataframe\">\n",
       "  <thead>\n",
       "    <tr style=\"text-align: right;\">\n",
       "      <th></th>\n",
       "      <th>city</th>\n",
       "      <th>city_ascii</th>\n",
       "      <th>state_id</th>\n",
       "      <th>state_name</th>\n",
       "      <th>lat</th>\n",
       "      <th>lng</th>\n",
       "      <th>population</th>\n",
       "      <th>density</th>\n",
       "      <th>timezone</th>\n",
       "      <th>ranking</th>\n",
       "      <th>id</th>\n",
       "      <th>coord</th>\n",
       "      <th>city_state</th>\n",
       "    </tr>\n",
       "  </thead>\n",
       "  <tbody>\n",
       "    <tr>\n",
       "      <th>0</th>\n",
       "      <td>New York</td>\n",
       "      <td>New York</td>\n",
       "      <td>NY</td>\n",
       "      <td>New York</td>\n",
       "      <td>40.6943</td>\n",
       "      <td>-73.9249</td>\n",
       "      <td>18713220.0</td>\n",
       "      <td>10715.0</td>\n",
       "      <td>America/New_York</td>\n",
       "      <td>1</td>\n",
       "      <td>1840034016</td>\n",
       "      <td>(40.6943, -73.9249)</td>\n",
       "      <td>(New York, NY)</td>\n",
       "    </tr>\n",
       "    <tr>\n",
       "      <th>1</th>\n",
       "      <td>Los Angeles</td>\n",
       "      <td>Los Angeles</td>\n",
       "      <td>CA</td>\n",
       "      <td>California</td>\n",
       "      <td>34.1139</td>\n",
       "      <td>-118.4068</td>\n",
       "      <td>12750807.0</td>\n",
       "      <td>3276.0</td>\n",
       "      <td>America/Los_Angeles</td>\n",
       "      <td>1</td>\n",
       "      <td>1840020491</td>\n",
       "      <td>(34.1139, -118.4068)</td>\n",
       "      <td>(Los Angeles, CA)</td>\n",
       "    </tr>\n",
       "    <tr>\n",
       "      <th>2</th>\n",
       "      <td>Chicago</td>\n",
       "      <td>Chicago</td>\n",
       "      <td>IL</td>\n",
       "      <td>Illinois</td>\n",
       "      <td>41.8373</td>\n",
       "      <td>-87.6862</td>\n",
       "      <td>8604203.0</td>\n",
       "      <td>4574.0</td>\n",
       "      <td>America/Chicago</td>\n",
       "      <td>1</td>\n",
       "      <td>1840000494</td>\n",
       "      <td>(41.8373, -87.6862)</td>\n",
       "      <td>(Chicago, IL)</td>\n",
       "    </tr>\n",
       "    <tr>\n",
       "      <th>3</th>\n",
       "      <td>Miami</td>\n",
       "      <td>Miami</td>\n",
       "      <td>FL</td>\n",
       "      <td>Florida</td>\n",
       "      <td>25.7839</td>\n",
       "      <td>-80.2102</td>\n",
       "      <td>6445545.0</td>\n",
       "      <td>5019.0</td>\n",
       "      <td>America/New_York</td>\n",
       "      <td>1</td>\n",
       "      <td>1840015149</td>\n",
       "      <td>(25.7839, -80.2102)</td>\n",
       "      <td>(Miami, FL)</td>\n",
       "    </tr>\n",
       "    <tr>\n",
       "      <th>4</th>\n",
       "      <td>Dallas</td>\n",
       "      <td>Dallas</td>\n",
       "      <td>TX</td>\n",
       "      <td>Texas</td>\n",
       "      <td>32.7936</td>\n",
       "      <td>-96.7662</td>\n",
       "      <td>5743938.0</td>\n",
       "      <td>1526.0</td>\n",
       "      <td>America/Chicago</td>\n",
       "      <td>1</td>\n",
       "      <td>1840019440</td>\n",
       "      <td>(32.7936, -96.7662)</td>\n",
       "      <td>(Dallas, TX)</td>\n",
       "    </tr>\n",
       "  </tbody>\n",
       "</table>\n",
       "</div>"
      ],
      "text/plain": [
       "          city   city_ascii state_id  state_name      lat       lng  \\\n",
       "0     New York     New York       NY    New York  40.6943  -73.9249   \n",
       "1  Los Angeles  Los Angeles       CA  California  34.1139 -118.4068   \n",
       "2      Chicago      Chicago       IL    Illinois  41.8373  -87.6862   \n",
       "3        Miami        Miami       FL     Florida  25.7839  -80.2102   \n",
       "4       Dallas       Dallas       TX       Texas  32.7936  -96.7662   \n",
       "\n",
       "   population  density             timezone  ranking          id  \\\n",
       "0  18713220.0  10715.0     America/New_York        1  1840034016   \n",
       "1  12750807.0   3276.0  America/Los_Angeles        1  1840020491   \n",
       "2   8604203.0   4574.0      America/Chicago        1  1840000494   \n",
       "3   6445545.0   5019.0     America/New_York        1  1840015149   \n",
       "4   5743938.0   1526.0      America/Chicago        1  1840019440   \n",
       "\n",
       "                  coord         city_state  \n",
       "0   (40.6943, -73.9249)     (New York, NY)  \n",
       "1  (34.1139, -118.4068)  (Los Angeles, CA)  \n",
       "2   (41.8373, -87.6862)      (Chicago, IL)  \n",
       "3   (25.7839, -80.2102)        (Miami, FL)  \n",
       "4   (32.7936, -96.7662)       (Dallas, TX)  "
      ]
     },
     "execution_count": 274,
     "metadata": {},
     "output_type": "execute_result"
    }
   ],
   "source": [
    "df_cities.head()"
   ]
  },
  {
   "cell_type": "code",
   "execution_count": 275,
   "metadata": {
    "id": "1QQhVl3w8X5n"
   },
   "outputs": [],
   "source": [
    "# okay, so now we are missing date_time, shape, some stats, some posted, city_lat and long\n",
    "# let's try to solve the city lat and long\n",
    "#df_coord_null = df[df['city_latitude'].isnull() == True]\n",
    "#df_coord_null"
   ]
  },
  {
   "cell_type": "code",
   "execution_count": 276,
   "metadata": {
    "id": "tKTk0vVC8wW4"
   },
   "outputs": [],
   "source": [
    "#df_coord_null['city_state'] = df_coord_null.apply(lambda row: create_coord(row['city'], row['state']), axis=1)\n",
    "#df_coord_null"
   ]
  },
  {
   "cell_type": "code",
   "execution_count": 277,
   "metadata": {
    "id": "dy3fxC6c99x4"
   },
   "outputs": [],
   "source": [
    "df_temp = df_cities[['city_state','coord']]"
   ]
  },
  {
   "cell_type": "code",
   "execution_count": 278,
   "metadata": {
    "id": "yaLL2-f5mRxJ"
   },
   "outputs": [],
   "source": [
    "#df_test"
   ]
  },
  {
   "cell_type": "code",
   "execution_count": 279,
   "metadata": {
    "id": "sJoif6eR_YiL"
   },
   "outputs": [],
   "source": [
    "city_lookup = df_temp.set_index('city_state').to_dict()\n",
    "#city_lookup['coord'][('Toronto','ON')]"
   ]
  },
  {
   "cell_type": "code",
   "execution_count": 280,
   "metadata": {
    "id": "H7ci_nlRnqgx"
   },
   "outputs": [],
   "source": [
    "#df_coord_null.head()"
   ]
  },
  {
   "cell_type": "code",
   "execution_count": 281,
   "metadata": {
    "id": "RTvvAhDEVqf-"
   },
   "outputs": [],
   "source": [
    "city_lookup = city_lookup['coord']"
   ]
  },
  {
   "cell_type": "code",
   "execution_count": 282,
   "metadata": {
    "id": "ZjP2QTkeVHbI"
   },
   "outputs": [],
   "source": [
    "def lookup(arg):\n",
    "  try:\n",
    "    coord = city_lookup[arg]\n",
    "    return coord\n",
    "  except KeyError:\n",
    "    return None"
   ]
  },
  {
   "cell_type": "code",
   "execution_count": 283,
   "metadata": {
    "id": "j9KEmAr5VnXh"
   },
   "outputs": [],
   "source": [
    "#lookup(('Marin County','CA'))"
   ]
  },
  {
   "cell_type": "code",
   "execution_count": 284,
   "metadata": {
    "id": "tpk9Q5O5WmrV"
   },
   "outputs": [],
   "source": [
    "#df_coord_null['coord'] = df_coord_null.apply(lambda row: lookup(row['city_state']), axis=1)"
   ]
  },
  {
   "cell_type": "code",
   "execution_count": 285,
   "metadata": {
    "id": "ueaMoUeWbqw1"
   },
   "outputs": [],
   "source": [
    "#df_coord_null[df_coord_null['coord'].isnull() == True]['city_state'].value_counts()"
   ]
  },
  {
   "cell_type": "code",
   "execution_count": 286,
   "metadata": {
    "id": "lELsjCrxh63a"
   },
   "outputs": [],
   "source": [
    "# okay, so we filled in less than we expected we would get\n",
    "# there are some noted errors:\n",
    "# saint catharines is in the canadian cities data, only as St. Catherines\n",
    "# we have instances of counties being useful rather than cities\n",
    "# there are instances where we could approximately closer West Hollywood could be subbed for hollywood\n",
    "# we have ones that the data is bad, for example with instance (Peoria, NY), is looks like it is actually talking about Peoria, AZ"
   ]
  },
  {
   "cell_type": "code",
   "execution_count": 287,
   "metadata": {
    "id": "sQQUs08JnewT"
   },
   "outputs": [],
   "source": [
    "def which_coord(lat, long, city_state):\n",
    "  if lat == None:\n",
    "    return lookup(city_state)\n",
    "  else:\n",
    "    return create_coord(lat, long)"
   ]
  },
  {
   "cell_type": "code",
   "execution_count": 288,
   "metadata": {
    "colab": {
     "base_uri": "https://localhost:8080/"
    },
    "id": "dLpuHClom5ma",
    "outputId": "773574f1-a032-4cc6-d040-32b6c8fc5373"
   },
   "outputs": [
    {
     "name": "stdout",
     "output_type": "stream",
     "text": [
      "<class 'pandas.core.frame.DataFrame'>\n",
      "Int64Index: 80897 entries, 0 to 88123\n",
      "Data columns (total 22 columns):\n",
      " #   Column            Non-Null Count  Dtype         \n",
      "---  ------            --------------  -----         \n",
      " 0   Text_ID           80897 non-null  float64       \n",
      " 1   city              80897 non-null  object        \n",
      " 2   state             80897 non-null  object        \n",
      " 3   date_time         80897 non-null  datetime64[ns]\n",
      " 4   shape             78773 non-null  object        \n",
      " 5   stats             80897 non-null  object        \n",
      " 6   report_link       80897 non-null  object        \n",
      " 7   text              80897 non-null  object        \n",
      " 8   posted            79899 non-null  object        \n",
      " 9   city_latitude     70426 non-null  float64       \n",
      " 10  city_longitude    70426 non-null  float64       \n",
      " 11  Duration          80897 non-null  object        \n",
      " 12  summary_notes     80897 non-null  object        \n",
      " 13  text_notes        80897 non-null  object        \n",
      " 14  stats_duplicated  80897 non-null  object        \n",
      " 15  Reported_stats    80897 non-null  object        \n",
      " 16  Occurred_stats    80897 non-null  object        \n",
      " 17  year              80897 non-null  Int64         \n",
      " 18  hour              80897 non-null  Int64         \n",
      " 19  time_of_day       80897 non-null  category      \n",
      " 20  city_state        80897 non-null  object        \n",
      " 21  coord             80897 non-null  object        \n",
      "dtypes: Int64(2), category(1), datetime64[ns](1), float64(3), object(15)\n",
      "memory usage: 13.8+ MB\n"
     ]
    }
   ],
   "source": [
    "# okay let's apply this to our original dataframe and refactor some steps\n",
    "df['city_state'] = df.apply(lambda row: create_coord(row['city'], row['state']), axis=1)\n",
    "df['coord'] = df.apply(lambda row: which_coord(row['city_latitude'], row['city_longitude'],row['city_state']), axis=1)\n",
    "df.info()"
   ]
  },
  {
   "cell_type": "code",
   "execution_count": 292,
   "metadata": {
    "colab": {
     "base_uri": "https://localhost:8080/"
    },
    "id": "iaRYJLUAogaP",
    "outputId": "b2184a3e-e835-428a-fc89-19de1fac2ed4"
   },
   "outputs": [
    {
     "name": "stdout",
     "output_type": "stream",
     "text": [
      "<class 'pandas.core.frame.DataFrame'>\n",
      "Int64Index: 80897 entries, 0 to 88123\n",
      "Data columns (total 21 columns):\n",
      " #   Column          Non-Null Count  Dtype         \n",
      "---  ------          --------------  -----         \n",
      " 0   Text_ID         80897 non-null  float64       \n",
      " 1   city            80897 non-null  object        \n",
      " 2   state           80897 non-null  object        \n",
      " 3   date_time       80897 non-null  datetime64[ns]\n",
      " 4   shape           78773 non-null  object        \n",
      " 5   stats           80897 non-null  object        \n",
      " 6   report_link     80897 non-null  object        \n",
      " 7   text            80897 non-null  object        \n",
      " 8   posted          79899 non-null  object        \n",
      " 9   city_latitude   70426 non-null  float64       \n",
      " 10  city_longitude  70426 non-null  float64       \n",
      " 11  Duration        80897 non-null  object        \n",
      " 12  summary_notes   80897 non-null  object        \n",
      " 13  text_notes      80897 non-null  object        \n",
      " 14  Reported_stats  80897 non-null  object        \n",
      " 15  Occurred_stats  80897 non-null  object        \n",
      " 16  year            80897 non-null  Int64         \n",
      " 17  hour            80897 non-null  Int64         \n",
      " 18  time_of_day     80897 non-null  category      \n",
      " 19  city_state      80897 non-null  object        \n",
      " 20  coord           80897 non-null  object        \n",
      "dtypes: Int64(2), category(1), datetime64[ns](1), float64(3), object(14)\n",
      "memory usage: 13.2+ MB\n"
     ]
    }
   ],
   "source": [
    "# let's drop some columns that we don't need\n",
    "#df.drop(columns='stats_duplicated', inplace=True,axis=1)\n",
    "# we also are really focused on using the geographic data, so maybe we should also drop ones with a null coord\n",
    "df.dropna(subset=['coord'], inplace=True)\n",
    "df.info()"
   ]
  },
  {
   "cell_type": "code",
   "execution_count": 122,
   "metadata": {
    "colab": {
     "base_uri": "https://localhost:8080/"
    },
    "id": "GvyJH8A8pAve",
    "outputId": "4bb107b6-cbd5-41d5-848c-c650bb8b386b"
   },
   "outputs": [],
   "source": [
    "# for all intents are purposes, you could probably remove the city_latitude and city_longitude now as well\n",
    "# this we might have to undo later, pending on how the geographic detail needs to be parsed, but let's drop it and we can correct if need be\n",
    "#df.drop(columns=['city_latitude','city_longitude'], inplace=True)\n",
    "#df.info()"
   ]
  },
  {
   "cell_type": "code",
   "execution_count": 123,
   "metadata": {
    "id": "EratjVd_rInz"
   },
   "outputs": [],
   "source": [
    "# so we now are only missing info in date_time, shape, stats, and posted. some of this we should be able to parse out of stats"
   ]
  },
  {
   "cell_type": "markdown",
   "metadata": {},
   "source": [
    "# Time"
   ]
  },
  {
   "cell_type": "code",
   "execution_count": 124,
   "metadata": {},
   "outputs": [],
   "source": [
    "# one of the thing that we will need to do is format the times,\n",
    "# this way we can get the delta between the time occurred and the time reported\n",
    "# this will act as a proxy for reliability, because as time passes,\n",
    "# the reporters memory of the event will degrade\n",
    "# right now, the times are strings, so we need to get them into datetime"
   ]
  },
  {
   "cell_type": "code",
   "execution_count": 125,
   "metadata": {},
   "outputs": [],
   "source": [
    "# we can start by convert the date_time into a naive datetime category\n",
    "# we are going to use naive, because we don't really want to deal with\n",
    "# having to determine the time zones and shifting all of them to UTC\n",
    "# really, as long as we are comparing times within the same time zone\n",
    "# it shouldn't matter the difference between 12 am and 2 pm is the same\n",
    "# regardless if it is UTC or EST or PST"
   ]
  },
  {
   "cell_type": "code",
   "execution_count": 301,
   "metadata": {},
   "outputs": [
    {
     "data": {
      "text/plain": [
       "Timestamp('2019-12-12 18:43:00')"
      ]
     },
     "execution_count": 301,
     "metadata": {},
     "output_type": "execute_result"
    }
   ],
   "source": [
    "df['date_time'][0]"
   ]
  },
  {
   "cell_type": "code",
   "execution_count": null,
   "metadata": {},
   "outputs": [],
   "source": [
    "# arrow.get(df['date_time'][0], 'YYYY-M-DTHH:mm:ss').naive"
   ]
  },
  {
   "cell_type": "code",
   "execution_count": 128,
   "metadata": {},
   "outputs": [],
   "source": [
    "# def get_datetime_naive(arg):\n",
    "#     try:\n",
    "#         arg = arrow.get(arg,'YYYY-M-DTHH:mm:ss').naive\n",
    "#         return arg\n",
    "#     except TypeError:\n",
    "#         return None"
   ]
  },
  {
   "cell_type": "code",
   "execution_count": 129,
   "metadata": {},
   "outputs": [
    {
     "data": {
      "text/plain": [
       "0   2019-12-12 18:43:00\n",
       "1   2019-03-22 18:30:00\n",
       "3   2019-04-17 02:00:00\n",
       "4   2009-03-15 18:00:00\n",
       "5   2019-04-02 20:25:00\n",
       "Name: date_time_2, dtype: datetime64[ns]"
      ]
     },
     "execution_count": 129,
     "metadata": {},
     "output_type": "execute_result"
    }
   ],
   "source": [
    "# df['date_time_2'] = df.apply(lambda row: get_datetime_naive(row['date_time']), axis=1)\n",
    "# df['date_time_2'].head()"
   ]
  },
  {
   "cell_type": "code",
   "execution_count": 305,
   "metadata": {},
   "outputs": [
    {
     "data": {
      "text/plain": [
       "0    2019-12-19 19:19:31\n",
       "1    2019-03-27 16:10:19\n",
       "3    2019-04-17 08:41:25\n",
       "4    2019-04-17 18:30:52\n",
       "5    2019-04-03 18:36:52\n",
       "Name: Reported_stats, dtype: object"
      ]
     },
     "execution_count": 305,
     "metadata": {},
     "output_type": "execute_result"
    }
   ],
   "source": [
    "df['Reported_stats'].head()"
   ]
  },
  {
   "cell_type": "code",
   "execution_count": 306,
   "metadata": {},
   "outputs": [
    {
     "data": {
      "text/plain": [
       "Timedelta('7 days 00:36:31')"
      ]
     },
     "execution_count": 306,
     "metadata": {},
     "output_type": "execute_result"
    }
   ],
   "source": [
    "df['Reported_stats'][0] - df['date_time'][0]"
   ]
  },
  {
   "cell_type": "code",
   "execution_count": 307,
   "metadata": {},
   "outputs": [],
   "source": [
    "def get_time_difference(datetime, reported):\n",
    "    try:\n",
    "        # added in correction for negative values\n",
    "        x = abs(reported - datetime)\n",
    "        return x\n",
    "    except TypeError:\n",
    "        return None\n",
    "        "
   ]
  },
  {
   "cell_type": "code",
   "execution_count": 309,
   "metadata": {},
   "outputs": [],
   "source": [
    "df['time_difference'] = df.apply(lambda row: get_time_difference(row['date_time'],row['Reported_stats']), axis=1)"
   ]
  },
  {
   "cell_type": "code",
   "execution_count": 311,
   "metadata": {},
   "outputs": [
    {
     "data": {
      "text/html": [
       "<div>\n",
       "<style scoped>\n",
       "    .dataframe tbody tr th:only-of-type {\n",
       "        vertical-align: middle;\n",
       "    }\n",
       "\n",
       "    .dataframe tbody tr th {\n",
       "        vertical-align: top;\n",
       "    }\n",
       "\n",
       "    .dataframe thead th {\n",
       "        text-align: right;\n",
       "    }\n",
       "</style>\n",
       "<table border=\"1\" class=\"dataframe\">\n",
       "  <thead>\n",
       "    <tr style=\"text-align: right;\">\n",
       "      <th></th>\n",
       "      <th>Text_ID</th>\n",
       "      <th>city</th>\n",
       "      <th>state</th>\n",
       "      <th>date_time</th>\n",
       "      <th>shape</th>\n",
       "      <th>stats</th>\n",
       "      <th>report_link</th>\n",
       "      <th>text</th>\n",
       "      <th>posted</th>\n",
       "      <th>city_latitude</th>\n",
       "      <th>...</th>\n",
       "      <th>summary_notes</th>\n",
       "      <th>text_notes</th>\n",
       "      <th>Reported_stats</th>\n",
       "      <th>Occurred_stats</th>\n",
       "      <th>year</th>\n",
       "      <th>hour</th>\n",
       "      <th>time_of_day</th>\n",
       "      <th>city_state</th>\n",
       "      <th>coord</th>\n",
       "      <th>time_difference</th>\n",
       "    </tr>\n",
       "  </thead>\n",
       "  <tbody>\n",
       "    <tr>\n",
       "      <th>0</th>\n",
       "      <td>1.0</td>\n",
       "      <td>Chester</td>\n",
       "      <td>VA</td>\n",
       "      <td>2019-12-12 18:43:00</td>\n",
       "      <td>light</td>\n",
       "      <td>[Occurred : 12/12/2019 18:43  (Entered as : 12...</td>\n",
       "      <td>http://www.nuforc.org/webreports/151/S151739.html</td>\n",
       "      <td>wife driving southeast fairly populated main s...</td>\n",
       "      <td>2019-12-22T00:00:00</td>\n",
       "      <td>37.343152</td>\n",
       "      <td>...</td>\n",
       "      <td>[]</td>\n",
       "      <td>[]</td>\n",
       "      <td>2019-12-19 19:19:31</td>\n",
       "      <td>2019-12-12 18:43:00</td>\n",
       "      <td>2019</td>\n",
       "      <td>18</td>\n",
       "      <td>EVENING</td>\n",
       "      <td>(Chester, VA)</td>\n",
       "      <td>(37.34315152, -77.40858182)</td>\n",
       "      <td>7 days 00:36:31</td>\n",
       "    </tr>\n",
       "    <tr>\n",
       "      <th>1</th>\n",
       "      <td>2.0</td>\n",
       "      <td>Rocky Hill</td>\n",
       "      <td>CT</td>\n",
       "      <td>2019-03-22 18:30:00</td>\n",
       "      <td>circle</td>\n",
       "      <td>[Occurred : 3/22/2019 18:30  (Entered as : 03/...</td>\n",
       "      <td>http://www.nuforc.org/webreports/145/S145297.html</td>\n",
       "      <td>think may caught ufo nbc nightly news aired ma...</td>\n",
       "      <td>2019-03-29T00:00:00</td>\n",
       "      <td>41.664800</td>\n",
       "      <td>...</td>\n",
       "      <td>[]</td>\n",
       "      <td>[]</td>\n",
       "      <td>2019-03-27 16:10:19</td>\n",
       "      <td>2019-03-22 18:30:00</td>\n",
       "      <td>2019</td>\n",
       "      <td>18</td>\n",
       "      <td>EVENING</td>\n",
       "      <td>(Rocky Hill, CT)</td>\n",
       "      <td>(41.6648, -72.6393)</td>\n",
       "      <td>4 days 21:40:19</td>\n",
       "    </tr>\n",
       "    <tr>\n",
       "      <th>3</th>\n",
       "      <td>4.0</td>\n",
       "      <td>Ottawa</td>\n",
       "      <td>ON</td>\n",
       "      <td>2019-04-17 02:00:00</td>\n",
       "      <td>teardrop</td>\n",
       "      <td>[Occurred : 4/17/2019 02:00  (Entered as : 04-...</td>\n",
       "      <td>http://www.nuforc.org/webreports/145/S145697.html</td>\n",
       "      <td>driving towards intersection fallowfield eagle...</td>\n",
       "      <td>2019-04-18T00:00:00</td>\n",
       "      <td>45.381383</td>\n",
       "      <td>...</td>\n",
       "      <td>[]</td>\n",
       "      <td>[]</td>\n",
       "      <td>2019-04-17 08:41:25</td>\n",
       "      <td>2019-04-17 02:00:00</td>\n",
       "      <td>2019</td>\n",
       "      <td>2</td>\n",
       "      <td>LATE NIGHT</td>\n",
       "      <td>(Ottawa, ON)</td>\n",
       "      <td>(45.3813825, -75.70850071)</td>\n",
       "      <td>0 days 06:41:25</td>\n",
       "    </tr>\n",
       "    <tr>\n",
       "      <th>4</th>\n",
       "      <td>5.0</td>\n",
       "      <td>Peoria</td>\n",
       "      <td>NY</td>\n",
       "      <td>2009-03-15 18:00:00</td>\n",
       "      <td>cigar</td>\n",
       "      <td>[Occurred : 3/15/2009 18:00  (Entered as : 03/...</td>\n",
       "      <td>http://www.nuforc.org/webreports/145/S145723.html</td>\n",
       "      <td>peoria arizona saw cigar shaped craft floating...</td>\n",
       "      <td>2019-04-18T00:00:00</td>\n",
       "      <td>NaN</td>\n",
       "      <td>...</td>\n",
       "      <td>[]</td>\n",
       "      <td>[]</td>\n",
       "      <td>2019-04-17 18:30:52</td>\n",
       "      <td>2009-03-15 18:00:00</td>\n",
       "      <td>2009</td>\n",
       "      <td>18</td>\n",
       "      <td>EVENING</td>\n",
       "      <td>(Peoria, NY)</td>\n",
       "      <td>(nan, nan)</td>\n",
       "      <td>3685 days 00:30:52</td>\n",
       "    </tr>\n",
       "    <tr>\n",
       "      <th>5</th>\n",
       "      <td>6.0</td>\n",
       "      <td>Kirbyville</td>\n",
       "      <td>TX</td>\n",
       "      <td>2019-04-02 20:25:00</td>\n",
       "      <td>disk</td>\n",
       "      <td>[Occurred : 4/2/2019 20:25  (Entered as : 04/0...</td>\n",
       "      <td>http://www.nuforc.org/webreports/145/S145476.html</td>\n",
       "      <td>object flashing light green blue red white lig...</td>\n",
       "      <td>2019-04-08T00:00:00</td>\n",
       "      <td>30.677200</td>\n",
       "      <td>...</td>\n",
       "      <td>[]</td>\n",
       "      <td>[((ADDENDUM FROM WITNESS)), ((END ADDENDUM)), ...</td>\n",
       "      <td>2019-04-03 18:36:52</td>\n",
       "      <td>2019-04-02 20:25:00</td>\n",
       "      <td>2019</td>\n",
       "      <td>20</td>\n",
       "      <td>EVENING</td>\n",
       "      <td>(Kirbyville, TX)</td>\n",
       "      <td>(30.6772, -94.0052)</td>\n",
       "      <td>0 days 22:11:52</td>\n",
       "    </tr>\n",
       "  </tbody>\n",
       "</table>\n",
       "<p>5 rows × 22 columns</p>\n",
       "</div>"
      ],
      "text/plain": [
       "   Text_ID        city state           date_time     shape  \\\n",
       "0      1.0     Chester    VA 2019-12-12 18:43:00     light   \n",
       "1      2.0  Rocky Hill    CT 2019-03-22 18:30:00    circle   \n",
       "3      4.0      Ottawa    ON 2019-04-17 02:00:00  teardrop   \n",
       "4      5.0      Peoria    NY 2009-03-15 18:00:00     cigar   \n",
       "5      6.0  Kirbyville    TX 2019-04-02 20:25:00      disk   \n",
       "\n",
       "                                               stats  \\\n",
       "0  [Occurred : 12/12/2019 18:43  (Entered as : 12...   \n",
       "1  [Occurred : 3/22/2019 18:30  (Entered as : 03/...   \n",
       "3  [Occurred : 4/17/2019 02:00  (Entered as : 04-...   \n",
       "4  [Occurred : 3/15/2009 18:00  (Entered as : 03/...   \n",
       "5  [Occurred : 4/2/2019 20:25  (Entered as : 04/0...   \n",
       "\n",
       "                                         report_link  \\\n",
       "0  http://www.nuforc.org/webreports/151/S151739.html   \n",
       "1  http://www.nuforc.org/webreports/145/S145297.html   \n",
       "3  http://www.nuforc.org/webreports/145/S145697.html   \n",
       "4  http://www.nuforc.org/webreports/145/S145723.html   \n",
       "5  http://www.nuforc.org/webreports/145/S145476.html   \n",
       "\n",
       "                                                text               posted  \\\n",
       "0  wife driving southeast fairly populated main s...  2019-12-22T00:00:00   \n",
       "1  think may caught ufo nbc nightly news aired ma...  2019-03-29T00:00:00   \n",
       "3  driving towards intersection fallowfield eagle...  2019-04-18T00:00:00   \n",
       "4  peoria arizona saw cigar shaped craft floating...  2019-04-18T00:00:00   \n",
       "5  object flashing light green blue red white lig...  2019-04-08T00:00:00   \n",
       "\n",
       "   city_latitude  ...  summary_notes  \\\n",
       "0      37.343152  ...             []   \n",
       "1      41.664800  ...             []   \n",
       "3      45.381383  ...             []   \n",
       "4            NaN  ...             []   \n",
       "5      30.677200  ...             []   \n",
       "\n",
       "                                          text_notes       Reported_stats  \\\n",
       "0                                                 []  2019-12-19 19:19:31   \n",
       "1                                                 []  2019-03-27 16:10:19   \n",
       "3                                                 []  2019-04-17 08:41:25   \n",
       "4                                                 []  2019-04-17 18:30:52   \n",
       "5  [((ADDENDUM FROM WITNESS)), ((END ADDENDUM)), ...  2019-04-03 18:36:52   \n",
       "\n",
       "        Occurred_stats  year hour  time_of_day        city_state  \\\n",
       "0  2019-12-12 18:43:00  2019   18      EVENING     (Chester, VA)   \n",
       "1  2019-03-22 18:30:00  2019   18      EVENING  (Rocky Hill, CT)   \n",
       "3  2019-04-17 02:00:00  2019    2   LATE NIGHT      (Ottawa, ON)   \n",
       "4  2009-03-15 18:00:00  2009   18      EVENING      (Peoria, NY)   \n",
       "5  2019-04-02 20:25:00  2019   20      EVENING  (Kirbyville, TX)   \n",
       "\n",
       "                         coord    time_difference  \n",
       "0  (37.34315152, -77.40858182)    7 days 00:36:31  \n",
       "1          (41.6648, -72.6393)    4 days 21:40:19  \n",
       "3   (45.3813825, -75.70850071)    0 days 06:41:25  \n",
       "4                   (nan, nan) 3685 days 00:30:52  \n",
       "5          (30.6772, -94.0052)    0 days 22:11:52  \n",
       "\n",
       "[5 rows x 22 columns]"
      ]
     },
     "execution_count": 311,
     "metadata": {},
     "output_type": "execute_result"
    }
   ],
   "source": [
    "df.head()"
   ]
  },
  {
   "cell_type": "code",
   "execution_count": 134,
   "metadata": {},
   "outputs": [
    {
     "data": {
      "text/html": [
       "<div>\n",
       "<style scoped>\n",
       "    .dataframe tbody tr th:only-of-type {\n",
       "        vertical-align: middle;\n",
       "    }\n",
       "\n",
       "    .dataframe tbody tr th {\n",
       "        vertical-align: top;\n",
       "    }\n",
       "\n",
       "    .dataframe thead th {\n",
       "        text-align: right;\n",
       "    }\n",
       "</style>\n",
       "<table border=\"1\" class=\"dataframe\">\n",
       "  <thead>\n",
       "    <tr style=\"text-align: right;\">\n",
       "      <th></th>\n",
       "      <th>Text_ID</th>\n",
       "      <th>city</th>\n",
       "      <th>state</th>\n",
       "      <th>date_time</th>\n",
       "      <th>shape</th>\n",
       "      <th>stats</th>\n",
       "      <th>report_link</th>\n",
       "      <th>text</th>\n",
       "      <th>posted</th>\n",
       "      <th>city_latitude</th>\n",
       "      <th>city_longitude</th>\n",
       "      <th>Duration</th>\n",
       "      <th>summary_notes</th>\n",
       "      <th>text_notes</th>\n",
       "      <th>Reported_stats</th>\n",
       "      <th>city_state</th>\n",
       "      <th>coord</th>\n",
       "      <th>date_time_2</th>\n",
       "      <th>time_difference</th>\n",
       "    </tr>\n",
       "  </thead>\n",
       "  <tbody>\n",
       "    <tr>\n",
       "      <th>0</th>\n",
       "      <td>1.0</td>\n",
       "      <td>Chester</td>\n",
       "      <td>VA</td>\n",
       "      <td>2019-12-12T18:43:00</td>\n",
       "      <td>light</td>\n",
       "      <td>[Occurred : 12/12/2019 18:43  (Entered as : 12...</td>\n",
       "      <td>http://www.nuforc.org/webreports/151/S151739.html</td>\n",
       "      <td>wife driving southeast fairly populated main s...</td>\n",
       "      <td>2019-12-22T00:00:00</td>\n",
       "      <td>37.343152</td>\n",
       "      <td>-77.408582</td>\n",
       "      <td>seconds</td>\n",
       "      <td>[]</td>\n",
       "      <td>[]</td>\n",
       "      <td>2019-12-19 19:19:31</td>\n",
       "      <td>(Chester, VA)</td>\n",
       "      <td>(37.34315152, -77.40858182)</td>\n",
       "      <td>2019-12-12 18:43:00</td>\n",
       "      <td>7 days 00:36:31</td>\n",
       "    </tr>\n",
       "    <tr>\n",
       "      <th>1</th>\n",
       "      <td>2.0</td>\n",
       "      <td>Rocky Hill</td>\n",
       "      <td>CT</td>\n",
       "      <td>2019-03-22T18:30:00</td>\n",
       "      <td>circle</td>\n",
       "      <td>[Occurred : 3/22/2019 18:30  (Entered as : 03/...</td>\n",
       "      <td>http://www.nuforc.org/webreports/145/S145297.html</td>\n",
       "      <td>think may caught ufo nbc nightly news aired ma...</td>\n",
       "      <td>2019-03-29T00:00:00</td>\n",
       "      <td>41.664800</td>\n",
       "      <td>-72.639300</td>\n",
       "      <td>seconds</td>\n",
       "      <td>[]</td>\n",
       "      <td>[]</td>\n",
       "      <td>2019-03-27 16:10:19</td>\n",
       "      <td>(Rocky Hill, CT)</td>\n",
       "      <td>(41.6648, -72.6393)</td>\n",
       "      <td>2019-03-22 18:30:00</td>\n",
       "      <td>4 days 21:40:19</td>\n",
       "    </tr>\n",
       "    <tr>\n",
       "      <th>3</th>\n",
       "      <td>4.0</td>\n",
       "      <td>Ottawa</td>\n",
       "      <td>ON</td>\n",
       "      <td>2019-04-17T02:00:00</td>\n",
       "      <td>teardrop</td>\n",
       "      <td>[Occurred : 4/17/2019 02:00  (Entered as : 04-...</td>\n",
       "      <td>http://www.nuforc.org/webreports/145/S145697.html</td>\n",
       "      <td>driving towards intersection fallowfield eagle...</td>\n",
       "      <td>2019-04-18T00:00:00</td>\n",
       "      <td>45.381383</td>\n",
       "      <td>-75.708501</td>\n",
       "      <td>seconds</td>\n",
       "      <td>[]</td>\n",
       "      <td>[]</td>\n",
       "      <td>2019-04-17 08:41:25</td>\n",
       "      <td>(Ottawa, ON)</td>\n",
       "      <td>(45.3813825, -75.70850071)</td>\n",
       "      <td>2019-04-17 02:00:00</td>\n",
       "      <td>0 days 06:41:25</td>\n",
       "    </tr>\n",
       "    <tr>\n",
       "      <th>4</th>\n",
       "      <td>5.0</td>\n",
       "      <td>Peoria</td>\n",
       "      <td>NY</td>\n",
       "      <td>2009-03-15T18:00:00</td>\n",
       "      <td>cigar</td>\n",
       "      <td>[Occurred : 3/15/2009 18:00  (Entered as : 03/...</td>\n",
       "      <td>http://www.nuforc.org/webreports/145/S145723.html</td>\n",
       "      <td>peoria arizona saw cigar shaped craft floating...</td>\n",
       "      <td>2019-04-18T00:00:00</td>\n",
       "      <td>NaN</td>\n",
       "      <td>NaN</td>\n",
       "      <td>minutes</td>\n",
       "      <td>[]</td>\n",
       "      <td>[]</td>\n",
       "      <td>2019-04-17 18:30:52</td>\n",
       "      <td>(Peoria, NY)</td>\n",
       "      <td>(nan, nan)</td>\n",
       "      <td>2009-03-15 18:00:00</td>\n",
       "      <td>3685 days 00:30:52</td>\n",
       "    </tr>\n",
       "    <tr>\n",
       "      <th>5</th>\n",
       "      <td>6.0</td>\n",
       "      <td>Kirbyville</td>\n",
       "      <td>TX</td>\n",
       "      <td>2019-04-02T20:25:00</td>\n",
       "      <td>disk</td>\n",
       "      <td>[Occurred : 4/2/2019 20:25  (Entered as : 04/0...</td>\n",
       "      <td>http://www.nuforc.org/webreports/145/S145476.html</td>\n",
       "      <td>object flashing light green blue red white lig...</td>\n",
       "      <td>2019-04-08T00:00:00</td>\n",
       "      <td>30.677200</td>\n",
       "      <td>-94.005200</td>\n",
       "      <td>minutes</td>\n",
       "      <td>[]</td>\n",
       "      <td>[((ADDENDUM FROM WITNESS)), ((END ADDENDUM)), ...</td>\n",
       "      <td>2019-04-03 18:36:52</td>\n",
       "      <td>(Kirbyville, TX)</td>\n",
       "      <td>(30.6772, -94.0052)</td>\n",
       "      <td>2019-04-02 20:25:00</td>\n",
       "      <td>0 days 22:11:52</td>\n",
       "    </tr>\n",
       "  </tbody>\n",
       "</table>\n",
       "</div>"
      ],
      "text/plain": [
       "   Text_ID        city state            date_time     shape  \\\n",
       "0      1.0     Chester    VA  2019-12-12T18:43:00     light   \n",
       "1      2.0  Rocky Hill    CT  2019-03-22T18:30:00    circle   \n",
       "3      4.0      Ottawa    ON  2019-04-17T02:00:00  teardrop   \n",
       "4      5.0      Peoria    NY  2009-03-15T18:00:00     cigar   \n",
       "5      6.0  Kirbyville    TX  2019-04-02T20:25:00      disk   \n",
       "\n",
       "                                               stats  \\\n",
       "0  [Occurred : 12/12/2019 18:43  (Entered as : 12...   \n",
       "1  [Occurred : 3/22/2019 18:30  (Entered as : 03/...   \n",
       "3  [Occurred : 4/17/2019 02:00  (Entered as : 04-...   \n",
       "4  [Occurred : 3/15/2009 18:00  (Entered as : 03/...   \n",
       "5  [Occurred : 4/2/2019 20:25  (Entered as : 04/0...   \n",
       "\n",
       "                                         report_link  \\\n",
       "0  http://www.nuforc.org/webreports/151/S151739.html   \n",
       "1  http://www.nuforc.org/webreports/145/S145297.html   \n",
       "3  http://www.nuforc.org/webreports/145/S145697.html   \n",
       "4  http://www.nuforc.org/webreports/145/S145723.html   \n",
       "5  http://www.nuforc.org/webreports/145/S145476.html   \n",
       "\n",
       "                                                text               posted  \\\n",
       "0  wife driving southeast fairly populated main s...  2019-12-22T00:00:00   \n",
       "1  think may caught ufo nbc nightly news aired ma...  2019-03-29T00:00:00   \n",
       "3  driving towards intersection fallowfield eagle...  2019-04-18T00:00:00   \n",
       "4  peoria arizona saw cigar shaped craft floating...  2019-04-18T00:00:00   \n",
       "5  object flashing light green blue red white lig...  2019-04-08T00:00:00   \n",
       "\n",
       "   city_latitude  city_longitude Duration summary_notes  \\\n",
       "0      37.343152      -77.408582  seconds            []   \n",
       "1      41.664800      -72.639300  seconds            []   \n",
       "3      45.381383      -75.708501  seconds            []   \n",
       "4            NaN             NaN  minutes            []   \n",
       "5      30.677200      -94.005200  minutes            []   \n",
       "\n",
       "                                          text_notes       Reported_stats  \\\n",
       "0                                                 []  2019-12-19 19:19:31   \n",
       "1                                                 []  2019-03-27 16:10:19   \n",
       "3                                                 []  2019-04-17 08:41:25   \n",
       "4                                                 []  2019-04-17 18:30:52   \n",
       "5  [((ADDENDUM FROM WITNESS)), ((END ADDENDUM)), ...  2019-04-03 18:36:52   \n",
       "\n",
       "         city_state                        coord         date_time_2  \\\n",
       "0     (Chester, VA)  (37.34315152, -77.40858182) 2019-12-12 18:43:00   \n",
       "1  (Rocky Hill, CT)          (41.6648, -72.6393) 2019-03-22 18:30:00   \n",
       "3      (Ottawa, ON)   (45.3813825, -75.70850071) 2019-04-17 02:00:00   \n",
       "4      (Peoria, NY)                   (nan, nan) 2009-03-15 18:00:00   \n",
       "5  (Kirbyville, TX)          (30.6772, -94.0052) 2019-04-02 20:25:00   \n",
       "\n",
       "     time_difference  \n",
       "0    7 days 00:36:31  \n",
       "1    4 days 21:40:19  \n",
       "3    0 days 06:41:25  \n",
       "4 3685 days 00:30:52  \n",
       "5    0 days 22:11:52  "
      ]
     },
     "execution_count": 134,
     "metadata": {},
     "output_type": "execute_result"
    }
   ],
   "source": [
    "df.head()"
   ]
  },
  {
   "cell_type": "code",
   "execution_count": 312,
   "metadata": {},
   "outputs": [],
   "source": [
    "# now we want to determine what bins we can put them in\n",
    "# the general idea is that the longer it takes, the less reliable\n",
    "# therefore, if it is less than a day its pretty good\n",
    "# if in a couple days good\n",
    "# if in a couple months okay\n",
    "# if in a couple years skeptical\n",
    "# "
   ]
  },
  {
   "cell_type": "code",
   "execution_count": 313,
   "metadata": {},
   "outputs": [
    {
     "data": {
      "text/plain": [
       "count                           79005\n",
       "mean      756 days 03:34:29.159977216\n",
       "std      2254 days 23:15:48.872130016\n",
       "min                   0 days 00:00:53\n",
       "25%                  57 days 14:09:16\n",
       "50%                 142 days 22:12:27\n",
       "75%                 286 days 06:47:39\n",
       "max               25443 days 21:53:56\n",
       "Name: time_difference, dtype: object"
      ]
     },
     "execution_count": 313,
     "metadata": {},
     "output_type": "execute_result"
    }
   ],
   "source": [
    "df['time_difference'].describe()"
   ]
  },
  {
   "cell_type": "code",
   "execution_count": 314,
   "metadata": {},
   "outputs": [],
   "source": [
    "# interesting, we have some that are below 0\n",
    "# this is odd because reported should be after the incident occurred\n",
    "# we also have some NaNs, maybe that is having an impact\n",
    "#df_time_difference = df['time_difference'].copy()\n",
    "#df_time_difference"
   ]
  },
  {
   "cell_type": "code",
   "execution_count": 315,
   "metadata": {},
   "outputs": [],
   "source": [
    "#df_time_difference.value_counts()"
   ]
  },
  {
   "cell_type": "code",
   "execution_count": 316,
   "metadata": {},
   "outputs": [
    {
     "data": {
      "text/html": [
       "<div>\n",
       "<style scoped>\n",
       "    .dataframe tbody tr th:only-of-type {\n",
       "        vertical-align: middle;\n",
       "    }\n",
       "\n",
       "    .dataframe tbody tr th {\n",
       "        vertical-align: top;\n",
       "    }\n",
       "\n",
       "    .dataframe thead th {\n",
       "        text-align: right;\n",
       "    }\n",
       "</style>\n",
       "<table border=\"1\" class=\"dataframe\">\n",
       "  <thead>\n",
       "    <tr style=\"text-align: right;\">\n",
       "      <th></th>\n",
       "      <th>Text_ID</th>\n",
       "      <th>city</th>\n",
       "      <th>state</th>\n",
       "      <th>date_time</th>\n",
       "      <th>shape</th>\n",
       "      <th>stats</th>\n",
       "      <th>report_link</th>\n",
       "      <th>text</th>\n",
       "      <th>posted</th>\n",
       "      <th>city_latitude</th>\n",
       "      <th>...</th>\n",
       "      <th>summary_notes</th>\n",
       "      <th>text_notes</th>\n",
       "      <th>Reported_stats</th>\n",
       "      <th>Occurred_stats</th>\n",
       "      <th>year</th>\n",
       "      <th>hour</th>\n",
       "      <th>time_of_day</th>\n",
       "      <th>city_state</th>\n",
       "      <th>coord</th>\n",
       "      <th>time_difference</th>\n",
       "    </tr>\n",
       "  </thead>\n",
       "  <tbody>\n",
       "  </tbody>\n",
       "</table>\n",
       "<p>0 rows × 22 columns</p>\n",
       "</div>"
      ],
      "text/plain": [
       "Empty DataFrame\n",
       "Columns: [Text_ID, city, state, date_time, shape, stats, report_link, text, posted, city_latitude, city_longitude, Duration, summary_notes, text_notes, Reported_stats, Occurred_stats, year, hour, time_of_day, city_state, coord, time_difference]\n",
       "Index: []\n",
       "\n",
       "[0 rows x 22 columns]"
      ]
     },
     "execution_count": 316,
     "metadata": {},
     "output_type": "execute_result"
    }
   ],
   "source": [
    "from datetime import timedelta\n",
    "df[df['time_difference'] <= timedelta(days=0,seconds=0,minutes=0,hours=0)]"
   ]
  },
  {
   "cell_type": "code",
   "execution_count": 317,
   "metadata": {},
   "outputs": [],
   "source": [
    "# okay, so looking at the instances, it is clearly possible that reported before datetime\n",
    "# we have a decision to make, we could either ignore those instances\n",
    "# or we can use the absolute value, this would give us time without direction\n",
    "# this could be helpful, because it guages the difference and allows for some errors in time entering\n",
    "# if say the difference between the occurred and reported is an hour and it's negative\n",
    "# then its hard to say that its automatically incorrect, for all we know the times could be entered in the wrong spot\n",
    "#df_time_difference = abs(df_time_difference)\n",
    "#df_time_difference.describe()"
   ]
  },
  {
   "cell_type": "code",
   "execution_count": 318,
   "metadata": {},
   "outputs": [],
   "source": [
    "bins = [\n",
    "    pd.Timedelta(hours=0),\n",
    "    pd.Timedelta(hours=24),\n",
    "    pd.Timedelta(days=7),\n",
    "    pd.Timedelta(days=31),\n",
    "    pd.Timedelta(days=365),\n",
    "    pd.Timedelta(days=20000)\n",
    "]\n"
   ]
  },
  {
   "cell_type": "code",
   "execution_count": 319,
   "metadata": {},
   "outputs": [],
   "source": [
    "labels = ['hours','days','weeks','months','years']"
   ]
  },
  {
   "cell_type": "code",
   "execution_count": 320,
   "metadata": {},
   "outputs": [
    {
     "data": {
      "text/plain": [
       "0        weeks\n",
       "1         days\n",
       "3        hours\n",
       "4        years\n",
       "5        hours\n",
       "         ...  \n",
       "88119      NaN\n",
       "88120      NaN\n",
       "88121      NaN\n",
       "88122      NaN\n",
       "88123      NaN\n",
       "Name: reporting_lag, Length: 80897, dtype: category\n",
       "Categories (5, object): ['hours' < 'days' < 'weeks' < 'months' < 'years']"
      ]
     },
     "execution_count": 320,
     "metadata": {},
     "output_type": "execute_result"
    }
   ],
   "source": [
    "df['reporting_lag'] = pd.cut(df['time_difference'], bins, labels=labels)\n",
    "df['reporting_lag']"
   ]
  },
  {
   "cell_type": "code",
   "execution_count": 321,
   "metadata": {},
   "outputs": [
    {
     "data": {
      "text/plain": [
       "0          7 days 00:36:31\n",
       "1          4 days 21:40:19\n",
       "3          0 days 06:41:25\n",
       "4       3685 days 00:30:52\n",
       "5          0 days 22:11:52\n",
       "               ...        \n",
       "88119                  NaT\n",
       "88120                  NaT\n",
       "88121                  NaT\n",
       "88122                  NaT\n",
       "88123                  NaT\n",
       "Name: time_difference, Length: 80897, dtype: timedelta64[ns]"
      ]
     },
     "execution_count": 321,
     "metadata": {},
     "output_type": "execute_result"
    }
   ],
   "source": [
    "df['time_difference']"
   ]
  },
  {
   "cell_type": "code",
   "execution_count": 145,
   "metadata": {},
   "outputs": [],
   "source": [
    "# we have our bins for reliability"
   ]
  },
  {
   "cell_type": "code",
   "execution_count": 322,
   "metadata": {},
   "outputs": [
    {
     "data": {
      "text/html": [
       "<div>\n",
       "<style scoped>\n",
       "    .dataframe tbody tr th:only-of-type {\n",
       "        vertical-align: middle;\n",
       "    }\n",
       "\n",
       "    .dataframe tbody tr th {\n",
       "        vertical-align: top;\n",
       "    }\n",
       "\n",
       "    .dataframe thead th {\n",
       "        text-align: right;\n",
       "    }\n",
       "</style>\n",
       "<table border=\"1\" class=\"dataframe\">\n",
       "  <thead>\n",
       "    <tr style=\"text-align: right;\">\n",
       "      <th></th>\n",
       "      <th>Text_ID</th>\n",
       "      <th>city</th>\n",
       "      <th>state</th>\n",
       "      <th>date_time</th>\n",
       "      <th>shape</th>\n",
       "      <th>stats</th>\n",
       "      <th>report_link</th>\n",
       "      <th>text</th>\n",
       "      <th>posted</th>\n",
       "      <th>city_latitude</th>\n",
       "      <th>...</th>\n",
       "      <th>text_notes</th>\n",
       "      <th>Reported_stats</th>\n",
       "      <th>Occurred_stats</th>\n",
       "      <th>year</th>\n",
       "      <th>hour</th>\n",
       "      <th>time_of_day</th>\n",
       "      <th>city_state</th>\n",
       "      <th>coord</th>\n",
       "      <th>time_difference</th>\n",
       "      <th>reporting_lag</th>\n",
       "    </tr>\n",
       "  </thead>\n",
       "  <tbody>\n",
       "    <tr>\n",
       "      <th>0</th>\n",
       "      <td>1.0</td>\n",
       "      <td>Chester</td>\n",
       "      <td>VA</td>\n",
       "      <td>2019-12-12 18:43:00</td>\n",
       "      <td>light</td>\n",
       "      <td>[Occurred : 12/12/2019 18:43  (Entered as : 12...</td>\n",
       "      <td>http://www.nuforc.org/webreports/151/S151739.html</td>\n",
       "      <td>wife driving southeast fairly populated main s...</td>\n",
       "      <td>2019-12-22T00:00:00</td>\n",
       "      <td>37.343152</td>\n",
       "      <td>...</td>\n",
       "      <td>[]</td>\n",
       "      <td>2019-12-19 19:19:31</td>\n",
       "      <td>2019-12-12 18:43:00</td>\n",
       "      <td>2019</td>\n",
       "      <td>18</td>\n",
       "      <td>EVENING</td>\n",
       "      <td>(Chester, VA)</td>\n",
       "      <td>(37.34315152, -77.40858182)</td>\n",
       "      <td>7 days 00:36:31</td>\n",
       "      <td>weeks</td>\n",
       "    </tr>\n",
       "    <tr>\n",
       "      <th>1</th>\n",
       "      <td>2.0</td>\n",
       "      <td>Rocky Hill</td>\n",
       "      <td>CT</td>\n",
       "      <td>2019-03-22 18:30:00</td>\n",
       "      <td>circle</td>\n",
       "      <td>[Occurred : 3/22/2019 18:30  (Entered as : 03/...</td>\n",
       "      <td>http://www.nuforc.org/webreports/145/S145297.html</td>\n",
       "      <td>think may caught ufo nbc nightly news aired ma...</td>\n",
       "      <td>2019-03-29T00:00:00</td>\n",
       "      <td>41.664800</td>\n",
       "      <td>...</td>\n",
       "      <td>[]</td>\n",
       "      <td>2019-03-27 16:10:19</td>\n",
       "      <td>2019-03-22 18:30:00</td>\n",
       "      <td>2019</td>\n",
       "      <td>18</td>\n",
       "      <td>EVENING</td>\n",
       "      <td>(Rocky Hill, CT)</td>\n",
       "      <td>(41.6648, -72.6393)</td>\n",
       "      <td>4 days 21:40:19</td>\n",
       "      <td>days</td>\n",
       "    </tr>\n",
       "    <tr>\n",
       "      <th>3</th>\n",
       "      <td>4.0</td>\n",
       "      <td>Ottawa</td>\n",
       "      <td>ON</td>\n",
       "      <td>2019-04-17 02:00:00</td>\n",
       "      <td>teardrop</td>\n",
       "      <td>[Occurred : 4/17/2019 02:00  (Entered as : 04-...</td>\n",
       "      <td>http://www.nuforc.org/webreports/145/S145697.html</td>\n",
       "      <td>driving towards intersection fallowfield eagle...</td>\n",
       "      <td>2019-04-18T00:00:00</td>\n",
       "      <td>45.381383</td>\n",
       "      <td>...</td>\n",
       "      <td>[]</td>\n",
       "      <td>2019-04-17 08:41:25</td>\n",
       "      <td>2019-04-17 02:00:00</td>\n",
       "      <td>2019</td>\n",
       "      <td>2</td>\n",
       "      <td>LATE NIGHT</td>\n",
       "      <td>(Ottawa, ON)</td>\n",
       "      <td>(45.3813825, -75.70850071)</td>\n",
       "      <td>0 days 06:41:25</td>\n",
       "      <td>hours</td>\n",
       "    </tr>\n",
       "    <tr>\n",
       "      <th>4</th>\n",
       "      <td>5.0</td>\n",
       "      <td>Peoria</td>\n",
       "      <td>NY</td>\n",
       "      <td>2009-03-15 18:00:00</td>\n",
       "      <td>cigar</td>\n",
       "      <td>[Occurred : 3/15/2009 18:00  (Entered as : 03/...</td>\n",
       "      <td>http://www.nuforc.org/webreports/145/S145723.html</td>\n",
       "      <td>peoria arizona saw cigar shaped craft floating...</td>\n",
       "      <td>2019-04-18T00:00:00</td>\n",
       "      <td>NaN</td>\n",
       "      <td>...</td>\n",
       "      <td>[]</td>\n",
       "      <td>2019-04-17 18:30:52</td>\n",
       "      <td>2009-03-15 18:00:00</td>\n",
       "      <td>2009</td>\n",
       "      <td>18</td>\n",
       "      <td>EVENING</td>\n",
       "      <td>(Peoria, NY)</td>\n",
       "      <td>(nan, nan)</td>\n",
       "      <td>3685 days 00:30:52</td>\n",
       "      <td>years</td>\n",
       "    </tr>\n",
       "    <tr>\n",
       "      <th>5</th>\n",
       "      <td>6.0</td>\n",
       "      <td>Kirbyville</td>\n",
       "      <td>TX</td>\n",
       "      <td>2019-04-02 20:25:00</td>\n",
       "      <td>disk</td>\n",
       "      <td>[Occurred : 4/2/2019 20:25  (Entered as : 04/0...</td>\n",
       "      <td>http://www.nuforc.org/webreports/145/S145476.html</td>\n",
       "      <td>object flashing light green blue red white lig...</td>\n",
       "      <td>2019-04-08T00:00:00</td>\n",
       "      <td>30.677200</td>\n",
       "      <td>...</td>\n",
       "      <td>[((ADDENDUM FROM WITNESS)), ((END ADDENDUM)), ...</td>\n",
       "      <td>2019-04-03 18:36:52</td>\n",
       "      <td>2019-04-02 20:25:00</td>\n",
       "      <td>2019</td>\n",
       "      <td>20</td>\n",
       "      <td>EVENING</td>\n",
       "      <td>(Kirbyville, TX)</td>\n",
       "      <td>(30.6772, -94.0052)</td>\n",
       "      <td>0 days 22:11:52</td>\n",
       "      <td>hours</td>\n",
       "    </tr>\n",
       "  </tbody>\n",
       "</table>\n",
       "<p>5 rows × 23 columns</p>\n",
       "</div>"
      ],
      "text/plain": [
       "   Text_ID        city state           date_time     shape  \\\n",
       "0      1.0     Chester    VA 2019-12-12 18:43:00     light   \n",
       "1      2.0  Rocky Hill    CT 2019-03-22 18:30:00    circle   \n",
       "3      4.0      Ottawa    ON 2019-04-17 02:00:00  teardrop   \n",
       "4      5.0      Peoria    NY 2009-03-15 18:00:00     cigar   \n",
       "5      6.0  Kirbyville    TX 2019-04-02 20:25:00      disk   \n",
       "\n",
       "                                               stats  \\\n",
       "0  [Occurred : 12/12/2019 18:43  (Entered as : 12...   \n",
       "1  [Occurred : 3/22/2019 18:30  (Entered as : 03/...   \n",
       "3  [Occurred : 4/17/2019 02:00  (Entered as : 04-...   \n",
       "4  [Occurred : 3/15/2009 18:00  (Entered as : 03/...   \n",
       "5  [Occurred : 4/2/2019 20:25  (Entered as : 04/0...   \n",
       "\n",
       "                                         report_link  \\\n",
       "0  http://www.nuforc.org/webreports/151/S151739.html   \n",
       "1  http://www.nuforc.org/webreports/145/S145297.html   \n",
       "3  http://www.nuforc.org/webreports/145/S145697.html   \n",
       "4  http://www.nuforc.org/webreports/145/S145723.html   \n",
       "5  http://www.nuforc.org/webreports/145/S145476.html   \n",
       "\n",
       "                                                text               posted  \\\n",
       "0  wife driving southeast fairly populated main s...  2019-12-22T00:00:00   \n",
       "1  think may caught ufo nbc nightly news aired ma...  2019-03-29T00:00:00   \n",
       "3  driving towards intersection fallowfield eagle...  2019-04-18T00:00:00   \n",
       "4  peoria arizona saw cigar shaped craft floating...  2019-04-18T00:00:00   \n",
       "5  object flashing light green blue red white lig...  2019-04-08T00:00:00   \n",
       "\n",
       "   city_latitude  ...                                         text_notes  \\\n",
       "0      37.343152  ...                                                 []   \n",
       "1      41.664800  ...                                                 []   \n",
       "3      45.381383  ...                                                 []   \n",
       "4            NaN  ...                                                 []   \n",
       "5      30.677200  ...  [((ADDENDUM FROM WITNESS)), ((END ADDENDUM)), ...   \n",
       "\n",
       "        Reported_stats       Occurred_stats  year hour time_of_day  \\\n",
       "0  2019-12-19 19:19:31  2019-12-12 18:43:00  2019   18     EVENING   \n",
       "1  2019-03-27 16:10:19  2019-03-22 18:30:00  2019   18     EVENING   \n",
       "3  2019-04-17 08:41:25  2019-04-17 02:00:00  2019    2  LATE NIGHT   \n",
       "4  2019-04-17 18:30:52  2009-03-15 18:00:00  2009   18     EVENING   \n",
       "5  2019-04-03 18:36:52  2019-04-02 20:25:00  2019   20     EVENING   \n",
       "\n",
       "         city_state                        coord    time_difference  \\\n",
       "0     (Chester, VA)  (37.34315152, -77.40858182)    7 days 00:36:31   \n",
       "1  (Rocky Hill, CT)          (41.6648, -72.6393)    4 days 21:40:19   \n",
       "3      (Ottawa, ON)   (45.3813825, -75.70850071)    0 days 06:41:25   \n",
       "4      (Peoria, NY)                   (nan, nan) 3685 days 00:30:52   \n",
       "5  (Kirbyville, TX)          (30.6772, -94.0052)    0 days 22:11:52   \n",
       "\n",
       "  reporting_lag  \n",
       "0         weeks  \n",
       "1          days  \n",
       "3         hours  \n",
       "4         years  \n",
       "5         hours  \n",
       "\n",
       "[5 rows x 23 columns]"
      ]
     },
     "execution_count": 322,
     "metadata": {},
     "output_type": "execute_result"
    }
   ],
   "source": [
    "df.head()"
   ]
  },
  {
   "cell_type": "markdown",
   "metadata": {
    "id": "o3vW14mSc6q_"
   },
   "source": [
    "# Shape"
   ]
  },
  {
   "cell_type": "code",
   "execution_count": 324,
   "metadata": {
    "id": "yn63w4Hoc94Y"
   },
   "outputs": [],
   "source": [
    "test_df = df.copy(deep=True)"
   ]
  },
  {
   "cell_type": "code",
   "execution_count": 325,
   "metadata": {
    "colab": {
     "base_uri": "https://localhost:8080/",
     "height": 206
    },
    "id": "37VFy2VQdlyW",
    "outputId": "57e74084-951a-4117-afef-c81d37ea4a9f"
   },
   "outputs": [
    {
     "data": {
      "text/plain": [
       "light        16793\n",
       "circle        9265\n",
       "triangle      7363\n",
       "fireball      6604\n",
       "unknown       5729\n",
       "sphere        5568\n",
       "other         5235\n",
       "disk          4040\n",
       "oval          3546\n",
       "formation     2644\n",
       "changing      1960\n",
       "cigar         1826\n",
       "flash         1544\n",
       "rectangle     1468\n",
       "cylinder      1265\n",
       "diamond       1155\n",
       "chevron        897\n",
       "teardrop       705\n",
       "egg            589\n",
       "cone           309\n",
       "cross          268\n",
       "Name: shape, dtype: int64"
      ]
     },
     "execution_count": 325,
     "metadata": {},
     "output_type": "execute_result"
    }
   ],
   "source": [
    "test_df['shape'].value_counts()"
   ]
  },
  {
   "cell_type": "code",
   "execution_count": 326,
   "metadata": {
    "colab": {
     "base_uri": "https://localhost:8080/"
    },
    "id": "QgpLy_rxdOsZ",
    "outputId": "7c314fcd-42df-45b2-8307-416a21f318fa"
   },
   "outputs": [],
   "source": [
    "# Looking at the various shapes we have we can bin them to reduce the number of variations. There are 24 different shapes here so we can certainly group them.\n",
    "\n",
    "def getShapeBins(shape):\n",
    "\n",
    "  if (pd.isnull(shape)):\n",
    "    return \"Unknown\"\n",
    "\n",
    "  shape_light = ['light','fireball','flash', 'lights','flashing','streak','bright', 'trail', 'lightning', 'star', 'comet', 'lighted']\n",
    "  shape_circular = ['circle','sphere','disk','oval','egg', 'cigar','cylindar','spherical','circular']\n",
    "  shape_changing = ['formation','changing']\n",
    "  shape_rectangular = ['rectangular','square','rectangle']\n",
    "  shape_triangle = ['triangle', 'triangular']\n",
    "  sound_all = ['explode', 'explosion', 'thunder', 'sound', 'heard', 'noise']\n",
    "\n",
    "  if any(substring in shape for substring in shape_light):\n",
    "    return 'light'\n",
    "  elif any(substring in shape for substring in shape_circular):\n",
    "    return 'circular'\n",
    "  elif any(substring in shape for substring in shape_changing):\n",
    "    return 'changing'      \n",
    "  elif any(substring in shape for substring in shape_triangle):\n",
    "    return 'triangle'\n",
    "  elif any(substring in shape for substring in shape_rectangular):\n",
    "    return 'rectangle'\n",
    "  elif any(substring in shape for substring in sound_all):\n",
    "    return 'sound'\n",
    "  elif (shape == 'Unknown'):\n",
    "    return 'Unknown'\n",
    "  elif (shape == 'madar'):\n",
    "    return 'madar'\n",
    "  else:\n",
    "    return 'other'"
   ]
  },
  {
   "cell_type": "code",
   "execution_count": 327,
   "metadata": {},
   "outputs": [],
   "source": [
    "test_df['shape_binned'] = test_df['shape'].apply(getShapeBins)"
   ]
  },
  {
   "cell_type": "code",
   "execution_count": 328,
   "metadata": {},
   "outputs": [
    {
     "data": {
      "text/html": [
       "<div>\n",
       "<style scoped>\n",
       "    .dataframe tbody tr th:only-of-type {\n",
       "        vertical-align: middle;\n",
       "    }\n",
       "\n",
       "    .dataframe tbody tr th {\n",
       "        vertical-align: top;\n",
       "    }\n",
       "\n",
       "    .dataframe thead th {\n",
       "        text-align: right;\n",
       "    }\n",
       "</style>\n",
       "<table border=\"1\" class=\"dataframe\">\n",
       "  <thead>\n",
       "    <tr style=\"text-align: right;\">\n",
       "      <th></th>\n",
       "      <th>shape</th>\n",
       "      <th>shape_binned</th>\n",
       "    </tr>\n",
       "  </thead>\n",
       "  <tbody>\n",
       "    <tr>\n",
       "      <th>0</th>\n",
       "      <td>light</td>\n",
       "      <td>light</td>\n",
       "    </tr>\n",
       "    <tr>\n",
       "      <th>1</th>\n",
       "      <td>circle</td>\n",
       "      <td>circular</td>\n",
       "    </tr>\n",
       "    <tr>\n",
       "      <th>3</th>\n",
       "      <td>teardrop</td>\n",
       "      <td>other</td>\n",
       "    </tr>\n",
       "    <tr>\n",
       "      <th>4</th>\n",
       "      <td>cigar</td>\n",
       "      <td>circular</td>\n",
       "    </tr>\n",
       "    <tr>\n",
       "      <th>5</th>\n",
       "      <td>disk</td>\n",
       "      <td>circular</td>\n",
       "    </tr>\n",
       "    <tr>\n",
       "      <th>...</th>\n",
       "      <td>...</td>\n",
       "      <td>...</td>\n",
       "    </tr>\n",
       "    <tr>\n",
       "      <th>88119</th>\n",
       "      <td>formation</td>\n",
       "      <td>changing</td>\n",
       "    </tr>\n",
       "    <tr>\n",
       "      <th>88120</th>\n",
       "      <td>light</td>\n",
       "      <td>light</td>\n",
       "    </tr>\n",
       "    <tr>\n",
       "      <th>88121</th>\n",
       "      <td>formation</td>\n",
       "      <td>changing</td>\n",
       "    </tr>\n",
       "    <tr>\n",
       "      <th>88122</th>\n",
       "      <td>fireball</td>\n",
       "      <td>light</td>\n",
       "    </tr>\n",
       "    <tr>\n",
       "      <th>88123</th>\n",
       "      <td>sphere</td>\n",
       "      <td>circular</td>\n",
       "    </tr>\n",
       "  </tbody>\n",
       "</table>\n",
       "<p>80897 rows × 2 columns</p>\n",
       "</div>"
      ],
      "text/plain": [
       "           shape shape_binned\n",
       "0          light        light\n",
       "1         circle     circular\n",
       "3       teardrop        other\n",
       "4          cigar     circular\n",
       "5           disk     circular\n",
       "...          ...          ...\n",
       "88119  formation     changing\n",
       "88120      light        light\n",
       "88121  formation     changing\n",
       "88122   fireball        light\n",
       "88123     sphere     circular\n",
       "\n",
       "[80897 rows x 2 columns]"
      ]
     },
     "execution_count": 328,
     "metadata": {},
     "output_type": "execute_result"
    }
   ],
   "source": [
    "test_df[['shape','shape_binned']]"
   ]
  },
  {
   "cell_type": "code",
   "execution_count": 329,
   "metadata": {},
   "outputs": [],
   "source": [
    "df['shape_binned'] = df['shape'].apply(getShapeBins)"
   ]
  },
  {
   "cell_type": "code",
   "execution_count": 149,
   "metadata": {
    "id": "fIwd9qXimOT3"
   },
   "outputs": [],
   "source": [
    "# looks like if we are missing the shape there isn't much we can do about it\n",
    "# one option is to see if the shape is in the text and pull it out?"
   ]
  },
  {
   "cell_type": "markdown",
   "metadata": {
    "id": "1zpZMUskp04c"
   },
   "source": [
    "# Air Bases"
   ]
  },
  {
   "cell_type": "code",
   "execution_count": 330,
   "metadata": {
    "id": "gHHsU9JM-CZd"
   },
   "outputs": [],
   "source": [
    "#Lets add some air base data for US\n",
    "air_bases = pd.read_csv(\"C:/Users/abhis\\Documents/feature-eng/data/UFO/airforce_bases_usa.csv\")\n",
    "# air_bases = pd.read_csv(\"/Users/rahimjiwa/Documents/Github/feature-engineering/data/UFO/airforce_bases_usa.csv\")\n",
    "# This data is for getting the state codes added to the air bases file\n",
    "state_code_names = pd.read_csv(\"C:/Users/abhis/Documents/feature-eng/data/UFO/state_code_names.csv\")\n",
    "# state_code_names = pd.read_csv(\"/Users/rahimjiwa/Documents/Github/feature-engineering/data/UFO/state_code_names.csv\")"
   ]
  },
  {
   "cell_type": "code",
   "execution_count": 331,
   "metadata": {
    "colab": {
     "base_uri": "https://localhost:8080/",
     "height": 206
    },
    "id": "o0vrHXBO-F6y",
    "outputId": "3743da2b-fe49-4016-a777-c6da66ea4b93"
   },
   "outputs": [
    {
     "data": {
      "text/html": [
       "<div>\n",
       "<style scoped>\n",
       "    .dataframe tbody tr th:only-of-type {\n",
       "        vertical-align: middle;\n",
       "    }\n",
       "\n",
       "    .dataframe tbody tr th {\n",
       "        vertical-align: top;\n",
       "    }\n",
       "\n",
       "    .dataframe thead th {\n",
       "        text-align: right;\n",
       "    }\n",
       "</style>\n",
       "<table border=\"1\" class=\"dataframe\">\n",
       "  <thead>\n",
       "    <tr style=\"text-align: right;\">\n",
       "      <th></th>\n",
       "      <th>NAME</th>\n",
       "      <th>LOCATION</th>\n",
       "      <th>STATE</th>\n",
       "      <th>COORDINATES</th>\n",
       "      <th>Unnamed: 4</th>\n",
       "    </tr>\n",
       "  </thead>\n",
       "  <tbody>\n",
       "    <tr>\n",
       "      <th>0</th>\n",
       "      <td>Abston Air National Guard Station</td>\n",
       "      <td>Montgomery</td>\n",
       "      <td>Alabama</td>\n",
       "      <td>32°21′22″N 086°20′48″W</td>\n",
       "      <td>NaN</td>\n",
       "    </tr>\n",
       "    <tr>\n",
       "      <th>1</th>\n",
       "      <td>Atlantic City Air National Guard Base</td>\n",
       "      <td>Atlantic City</td>\n",
       "      <td>New Jersey</td>\n",
       "      <td>39°26′53″N 074°34′54″W</td>\n",
       "      <td>NaN</td>\n",
       "    </tr>\n",
       "    <tr>\n",
       "      <th>2</th>\n",
       "      <td>Bangor Air National Guard Base</td>\n",
       "      <td>Bangor</td>\n",
       "      <td>Maine</td>\n",
       "      <td>44°48′51″N 068°49′51″W</td>\n",
       "      <td>NaN</td>\n",
       "    </tr>\n",
       "    <tr>\n",
       "      <th>3</th>\n",
       "      <td>Barnes Air National Guard Base</td>\n",
       "      <td>Westfield</td>\n",
       "      <td>Massachusetts</td>\n",
       "      <td>42°09′56″N 072°43′14″W</td>\n",
       "      <td>NaN</td>\n",
       "    </tr>\n",
       "    <tr>\n",
       "      <th>4</th>\n",
       "      <td>Battle Creek Air National Guard Base</td>\n",
       "      <td>Springfield</td>\n",
       "      <td>Michigan</td>\n",
       "      <td>42°18′26.2″N 85°15′05.3″W</td>\n",
       "      <td>NaN</td>\n",
       "    </tr>\n",
       "  </tbody>\n",
       "</table>\n",
       "</div>"
      ],
      "text/plain": [
       "                                    NAME       LOCATION          STATE  \\\n",
       "0      Abston Air National Guard Station     Montgomery        Alabama   \n",
       "1  Atlantic City Air National Guard Base  Atlantic City     New Jersey   \n",
       "2         Bangor Air National Guard Base         Bangor          Maine   \n",
       "3         Barnes Air National Guard Base      Westfield  Massachusetts   \n",
       "4   Battle Creek Air National Guard Base    Springfield       Michigan   \n",
       "\n",
       "                 COORDINATES  Unnamed: 4  \n",
       "0     32°21′22″N 086°20′48″W         NaN  \n",
       "1     39°26′53″N 074°34′54″W         NaN  \n",
       "2     44°48′51″N 068°49′51″W         NaN  \n",
       "3     42°09′56″N 072°43′14″W         NaN  \n",
       "4  42°18′26.2″N 85°15′05.3″W         NaN  "
      ]
     },
     "execution_count": 331,
     "metadata": {},
     "output_type": "execute_result"
    }
   ],
   "source": [
    "air_bases.head()"
   ]
  },
  {
   "cell_type": "code",
   "execution_count": 332,
   "metadata": {
    "colab": {
     "base_uri": "https://localhost:8080/",
     "height": 206
    },
    "id": "K18bw-lmAGgX",
    "outputId": "f5e3084d-80c0-4463-acdf-9858b7f5fdb7"
   },
   "outputs": [
    {
     "data": {
      "text/html": [
       "<div>\n",
       "<style scoped>\n",
       "    .dataframe tbody tr th:only-of-type {\n",
       "        vertical-align: middle;\n",
       "    }\n",
       "\n",
       "    .dataframe tbody tr th {\n",
       "        vertical-align: top;\n",
       "    }\n",
       "\n",
       "    .dataframe thead th {\n",
       "        text-align: right;\n",
       "    }\n",
       "</style>\n",
       "<table border=\"1\" class=\"dataframe\">\n",
       "  <thead>\n",
       "    <tr style=\"text-align: right;\">\n",
       "      <th></th>\n",
       "      <th>state_cd</th>\n",
       "      <th>name</th>\n",
       "    </tr>\n",
       "  </thead>\n",
       "  <tbody>\n",
       "    <tr>\n",
       "      <th>0</th>\n",
       "      <td>AA</td>\n",
       "      <td>Armed Forces America</td>\n",
       "    </tr>\n",
       "    <tr>\n",
       "      <th>1</th>\n",
       "      <td>AE</td>\n",
       "      <td>Armed Forces</td>\n",
       "    </tr>\n",
       "    <tr>\n",
       "      <th>2</th>\n",
       "      <td>AK</td>\n",
       "      <td>Alaska</td>\n",
       "    </tr>\n",
       "    <tr>\n",
       "      <th>3</th>\n",
       "      <td>AL</td>\n",
       "      <td>Alabama</td>\n",
       "    </tr>\n",
       "    <tr>\n",
       "      <th>4</th>\n",
       "      <td>AP</td>\n",
       "      <td>Armed Forces Pacific</td>\n",
       "    </tr>\n",
       "  </tbody>\n",
       "</table>\n",
       "</div>"
      ],
      "text/plain": [
       "  state_cd                  name\n",
       "0       AA  Armed Forces America\n",
       "1       AE          Armed Forces\n",
       "2       AK                Alaska\n",
       "3       AL               Alabama\n",
       "4       AP  Armed Forces Pacific"
      ]
     },
     "execution_count": 332,
     "metadata": {},
     "output_type": "execute_result"
    }
   ],
   "source": [
    "state_code_names.head()"
   ]
  },
  {
   "cell_type": "code",
   "execution_count": 333,
   "metadata": {
    "id": "NSW1mck_EFQG"
   },
   "outputs": [],
   "source": [
    "state_code_names = state_code_names.rename(columns={'name': 'state'})"
   ]
  },
  {
   "cell_type": "code",
   "execution_count": 334,
   "metadata": {
    "id": "v1IRawF1JmrY"
   },
   "outputs": [],
   "source": [
    "air_bases = air_bases.rename(columns={'STATE': 'state'})"
   ]
  },
  {
   "cell_type": "code",
   "execution_count": 335,
   "metadata": {
    "colab": {
     "base_uri": "https://localhost:8080/",
     "height": 206
    },
    "id": "3v_6wN2rJxt8",
    "outputId": "5accc4ad-4ad6-4846-e47a-cf12d34b407a"
   },
   "outputs": [
    {
     "data": {
      "text/html": [
       "<div>\n",
       "<style scoped>\n",
       "    .dataframe tbody tr th:only-of-type {\n",
       "        vertical-align: middle;\n",
       "    }\n",
       "\n",
       "    .dataframe tbody tr th {\n",
       "        vertical-align: top;\n",
       "    }\n",
       "\n",
       "    .dataframe thead th {\n",
       "        text-align: right;\n",
       "    }\n",
       "</style>\n",
       "<table border=\"1\" class=\"dataframe\">\n",
       "  <thead>\n",
       "    <tr style=\"text-align: right;\">\n",
       "      <th></th>\n",
       "      <th>NAME</th>\n",
       "      <th>LOCATION</th>\n",
       "      <th>state</th>\n",
       "      <th>COORDINATES</th>\n",
       "      <th>Unnamed: 4</th>\n",
       "    </tr>\n",
       "  </thead>\n",
       "  <tbody>\n",
       "    <tr>\n",
       "      <th>0</th>\n",
       "      <td>Abston Air National Guard Station</td>\n",
       "      <td>Montgomery</td>\n",
       "      <td>Alabama</td>\n",
       "      <td>32°21′22″N 086°20′48″W</td>\n",
       "      <td>NaN</td>\n",
       "    </tr>\n",
       "    <tr>\n",
       "      <th>1</th>\n",
       "      <td>Atlantic City Air National Guard Base</td>\n",
       "      <td>Atlantic City</td>\n",
       "      <td>New Jersey</td>\n",
       "      <td>39°26′53″N 074°34′54″W</td>\n",
       "      <td>NaN</td>\n",
       "    </tr>\n",
       "    <tr>\n",
       "      <th>2</th>\n",
       "      <td>Bangor Air National Guard Base</td>\n",
       "      <td>Bangor</td>\n",
       "      <td>Maine</td>\n",
       "      <td>44°48′51″N 068°49′51″W</td>\n",
       "      <td>NaN</td>\n",
       "    </tr>\n",
       "    <tr>\n",
       "      <th>3</th>\n",
       "      <td>Barnes Air National Guard Base</td>\n",
       "      <td>Westfield</td>\n",
       "      <td>Massachusetts</td>\n",
       "      <td>42°09′56″N 072°43′14″W</td>\n",
       "      <td>NaN</td>\n",
       "    </tr>\n",
       "    <tr>\n",
       "      <th>4</th>\n",
       "      <td>Battle Creek Air National Guard Base</td>\n",
       "      <td>Springfield</td>\n",
       "      <td>Michigan</td>\n",
       "      <td>42°18′26.2″N 85°15′05.3″W</td>\n",
       "      <td>NaN</td>\n",
       "    </tr>\n",
       "  </tbody>\n",
       "</table>\n",
       "</div>"
      ],
      "text/plain": [
       "                                    NAME       LOCATION          state  \\\n",
       "0      Abston Air National Guard Station     Montgomery        Alabama   \n",
       "1  Atlantic City Air National Guard Base  Atlantic City     New Jersey   \n",
       "2         Bangor Air National Guard Base         Bangor          Maine   \n",
       "3         Barnes Air National Guard Base      Westfield  Massachusetts   \n",
       "4   Battle Creek Air National Guard Base    Springfield       Michigan   \n",
       "\n",
       "                 COORDINATES  Unnamed: 4  \n",
       "0     32°21′22″N 086°20′48″W         NaN  \n",
       "1     39°26′53″N 074°34′54″W         NaN  \n",
       "2     44°48′51″N 068°49′51″W         NaN  \n",
       "3     42°09′56″N 072°43′14″W         NaN  \n",
       "4  42°18′26.2″N 85°15′05.3″W         NaN  "
      ]
     },
     "execution_count": 335,
     "metadata": {},
     "output_type": "execute_result"
    }
   ],
   "source": [
    "air_bases.head()"
   ]
  },
  {
   "cell_type": "code",
   "execution_count": 336,
   "metadata": {
    "colab": {
     "base_uri": "https://localhost:8080/",
     "height": 206
    },
    "id": "wQwXwvtUIoCy",
    "outputId": "70531944-ce65-42bc-8e0b-a6f3261236b8"
   },
   "outputs": [
    {
     "data": {
      "text/html": [
       "<div>\n",
       "<style scoped>\n",
       "    .dataframe tbody tr th:only-of-type {\n",
       "        vertical-align: middle;\n",
       "    }\n",
       "\n",
       "    .dataframe tbody tr th {\n",
       "        vertical-align: top;\n",
       "    }\n",
       "\n",
       "    .dataframe thead th {\n",
       "        text-align: right;\n",
       "    }\n",
       "</style>\n",
       "<table border=\"1\" class=\"dataframe\">\n",
       "  <thead>\n",
       "    <tr style=\"text-align: right;\">\n",
       "      <th></th>\n",
       "      <th>state_cd</th>\n",
       "      <th>state</th>\n",
       "    </tr>\n",
       "  </thead>\n",
       "  <tbody>\n",
       "    <tr>\n",
       "      <th>0</th>\n",
       "      <td>AA</td>\n",
       "      <td>Armed Forces America</td>\n",
       "    </tr>\n",
       "    <tr>\n",
       "      <th>1</th>\n",
       "      <td>AE</td>\n",
       "      <td>Armed Forces</td>\n",
       "    </tr>\n",
       "    <tr>\n",
       "      <th>2</th>\n",
       "      <td>AK</td>\n",
       "      <td>Alaska</td>\n",
       "    </tr>\n",
       "    <tr>\n",
       "      <th>3</th>\n",
       "      <td>AL</td>\n",
       "      <td>Alabama</td>\n",
       "    </tr>\n",
       "    <tr>\n",
       "      <th>4</th>\n",
       "      <td>AP</td>\n",
       "      <td>Armed Forces Pacific</td>\n",
       "    </tr>\n",
       "  </tbody>\n",
       "</table>\n",
       "</div>"
      ],
      "text/plain": [
       "  state_cd                 state\n",
       "0       AA  Armed Forces America\n",
       "1       AE          Armed Forces\n",
       "2       AK                Alaska\n",
       "3       AL               Alabama\n",
       "4       AP  Armed Forces Pacific"
      ]
     },
     "execution_count": 336,
     "metadata": {},
     "output_type": "execute_result"
    }
   ],
   "source": [
    "state_code_names.head()"
   ]
  },
  {
   "cell_type": "code",
   "execution_count": 337,
   "metadata": {
    "colab": {
     "base_uri": "https://localhost:8080/"
    },
    "id": "8rpPo0YCJHv3",
    "outputId": "3691117c-f2b9-4057-a439-d1fbd690b240"
   },
   "outputs": [
    {
     "data": {
      "text/plain": [
       "98"
      ]
     },
     "execution_count": 337,
     "metadata": {},
     "output_type": "execute_result"
    }
   ],
   "source": [
    "len(air_bases)"
   ]
  },
  {
   "cell_type": "code",
   "execution_count": 338,
   "metadata": {
    "id": "pMucnbn0EnJx"
   },
   "outputs": [],
   "source": [
    "air_bases_codes = pd.merge(air_bases,state_code_names,on='state',how='left')"
   ]
  },
  {
   "cell_type": "code",
   "execution_count": 339,
   "metadata": {
    "colab": {
     "base_uri": "https://localhost:8080/",
     "height": 206
    },
    "id": "EbDLzvmiJTW2",
    "outputId": "a65cd310-a241-4dd6-dfd5-061fe629367a"
   },
   "outputs": [
    {
     "data": {
      "text/html": [
       "<div>\n",
       "<style scoped>\n",
       "    .dataframe tbody tr th:only-of-type {\n",
       "        vertical-align: middle;\n",
       "    }\n",
       "\n",
       "    .dataframe tbody tr th {\n",
       "        vertical-align: top;\n",
       "    }\n",
       "\n",
       "    .dataframe thead th {\n",
       "        text-align: right;\n",
       "    }\n",
       "</style>\n",
       "<table border=\"1\" class=\"dataframe\">\n",
       "  <thead>\n",
       "    <tr style=\"text-align: right;\">\n",
       "      <th></th>\n",
       "      <th>NAME</th>\n",
       "      <th>LOCATION</th>\n",
       "      <th>state</th>\n",
       "      <th>COORDINATES</th>\n",
       "      <th>Unnamed: 4</th>\n",
       "      <th>state_cd</th>\n",
       "    </tr>\n",
       "  </thead>\n",
       "  <tbody>\n",
       "    <tr>\n",
       "      <th>0</th>\n",
       "      <td>Abston Air National Guard Station</td>\n",
       "      <td>Montgomery</td>\n",
       "      <td>Alabama</td>\n",
       "      <td>32°21′22″N 086°20′48″W</td>\n",
       "      <td>NaN</td>\n",
       "      <td>AL</td>\n",
       "    </tr>\n",
       "    <tr>\n",
       "      <th>1</th>\n",
       "      <td>Atlantic City Air National Guard Base</td>\n",
       "      <td>Atlantic City</td>\n",
       "      <td>New Jersey</td>\n",
       "      <td>39°26′53″N 074°34′54″W</td>\n",
       "      <td>NaN</td>\n",
       "      <td>NJ</td>\n",
       "    </tr>\n",
       "    <tr>\n",
       "      <th>2</th>\n",
       "      <td>Bangor Air National Guard Base</td>\n",
       "      <td>Bangor</td>\n",
       "      <td>Maine</td>\n",
       "      <td>44°48′51″N 068°49′51″W</td>\n",
       "      <td>NaN</td>\n",
       "      <td>ME</td>\n",
       "    </tr>\n",
       "    <tr>\n",
       "      <th>3</th>\n",
       "      <td>Barnes Air National Guard Base</td>\n",
       "      <td>Westfield</td>\n",
       "      <td>Massachusetts</td>\n",
       "      <td>42°09′56″N 072°43′14″W</td>\n",
       "      <td>NaN</td>\n",
       "      <td>MA</td>\n",
       "    </tr>\n",
       "    <tr>\n",
       "      <th>4</th>\n",
       "      <td>Battle Creek Air National Guard Base</td>\n",
       "      <td>Springfield</td>\n",
       "      <td>Michigan</td>\n",
       "      <td>42°18′26.2″N 85°15′05.3″W</td>\n",
       "      <td>NaN</td>\n",
       "      <td>MI</td>\n",
       "    </tr>\n",
       "  </tbody>\n",
       "</table>\n",
       "</div>"
      ],
      "text/plain": [
       "                                    NAME       LOCATION          state  \\\n",
       "0      Abston Air National Guard Station     Montgomery        Alabama   \n",
       "1  Atlantic City Air National Guard Base  Atlantic City     New Jersey   \n",
       "2         Bangor Air National Guard Base         Bangor          Maine   \n",
       "3         Barnes Air National Guard Base      Westfield  Massachusetts   \n",
       "4   Battle Creek Air National Guard Base    Springfield       Michigan   \n",
       "\n",
       "                 COORDINATES  Unnamed: 4 state_cd  \n",
       "0     32°21′22″N 086°20′48″W         NaN       AL  \n",
       "1     39°26′53″N 074°34′54″W         NaN       NJ  \n",
       "2     44°48′51″N 068°49′51″W         NaN       ME  \n",
       "3     42°09′56″N 072°43′14″W         NaN       MA  \n",
       "4  42°18′26.2″N 85°15′05.3″W         NaN       MI  "
      ]
     },
     "execution_count": 339,
     "metadata": {},
     "output_type": "execute_result"
    }
   ],
   "source": [
    "air_bases_codes.head()"
   ]
  },
  {
   "cell_type": "code",
   "execution_count": 340,
   "metadata": {
    "colab": {
     "base_uri": "https://localhost:8080/"
    },
    "id": "7Ma27MJ6KB90",
    "outputId": "be0c0032-7399-4fb5-be44-ef60eb9500f3"
   },
   "outputs": [
    {
     "data": {
      "text/plain": [
       "98"
      ]
     },
     "execution_count": 340,
     "metadata": {},
     "output_type": "execute_result"
    }
   ],
   "source": [
    "len(air_bases_codes)"
   ]
  },
  {
   "cell_type": "code",
   "execution_count": 341,
   "metadata": {
    "colab": {
     "base_uri": "https://localhost:8080/",
     "height": 206
    },
    "id": "vzO8kvbAK2TW",
    "outputId": "d060991d-51a0-4ba6-d478-886ea5bf320e"
   },
   "outputs": [
    {
     "data": {
      "text/html": [
       "<div>\n",
       "<style scoped>\n",
       "    .dataframe tbody tr th:only-of-type {\n",
       "        vertical-align: middle;\n",
       "    }\n",
       "\n",
       "    .dataframe tbody tr th {\n",
       "        vertical-align: top;\n",
       "    }\n",
       "\n",
       "    .dataframe thead th {\n",
       "        text-align: right;\n",
       "    }\n",
       "</style>\n",
       "<table border=\"1\" class=\"dataframe\">\n",
       "  <thead>\n",
       "    <tr style=\"text-align: right;\">\n",
       "      <th></th>\n",
       "      <th>NAME</th>\n",
       "      <th>LOCATION</th>\n",
       "      <th>state</th>\n",
       "      <th>COORDINATES</th>\n",
       "      <th>Unnamed: 4</th>\n",
       "      <th>state_cd</th>\n",
       "    </tr>\n",
       "  </thead>\n",
       "  <tbody>\n",
       "    <tr>\n",
       "      <th>0</th>\n",
       "      <td>Abston Air National Guard Station</td>\n",
       "      <td>Montgomery</td>\n",
       "      <td>Alabama</td>\n",
       "      <td>32°21′22″N 086°20′48″W</td>\n",
       "      <td>NaN</td>\n",
       "      <td>AL</td>\n",
       "    </tr>\n",
       "    <tr>\n",
       "      <th>1</th>\n",
       "      <td>Atlantic City Air National Guard Base</td>\n",
       "      <td>Atlantic City</td>\n",
       "      <td>New Jersey</td>\n",
       "      <td>39°26′53″N 074°34′54″W</td>\n",
       "      <td>NaN</td>\n",
       "      <td>NJ</td>\n",
       "    </tr>\n",
       "    <tr>\n",
       "      <th>2</th>\n",
       "      <td>Bangor Air National Guard Base</td>\n",
       "      <td>Bangor</td>\n",
       "      <td>Maine</td>\n",
       "      <td>44°48′51″N 068°49′51″W</td>\n",
       "      <td>NaN</td>\n",
       "      <td>ME</td>\n",
       "    </tr>\n",
       "    <tr>\n",
       "      <th>3</th>\n",
       "      <td>Barnes Air National Guard Base</td>\n",
       "      <td>Westfield</td>\n",
       "      <td>Massachusetts</td>\n",
       "      <td>42°09′56″N 072°43′14″W</td>\n",
       "      <td>NaN</td>\n",
       "      <td>MA</td>\n",
       "    </tr>\n",
       "    <tr>\n",
       "      <th>4</th>\n",
       "      <td>Battle Creek Air National Guard Base</td>\n",
       "      <td>Springfield</td>\n",
       "      <td>Michigan</td>\n",
       "      <td>42°18′26.2″N 85°15′05.3″W</td>\n",
       "      <td>NaN</td>\n",
       "      <td>MI</td>\n",
       "    </tr>\n",
       "  </tbody>\n",
       "</table>\n",
       "</div>"
      ],
      "text/plain": [
       "                                    NAME       LOCATION          state  \\\n",
       "0      Abston Air National Guard Station     Montgomery        Alabama   \n",
       "1  Atlantic City Air National Guard Base  Atlantic City     New Jersey   \n",
       "2         Bangor Air National Guard Base         Bangor          Maine   \n",
       "3         Barnes Air National Guard Base      Westfield  Massachusetts   \n",
       "4   Battle Creek Air National Guard Base    Springfield       Michigan   \n",
       "\n",
       "                 COORDINATES  Unnamed: 4 state_cd  \n",
       "0     32°21′22″N 086°20′48″W         NaN       AL  \n",
       "1     39°26′53″N 074°34′54″W         NaN       NJ  \n",
       "2     44°48′51″N 068°49′51″W         NaN       ME  \n",
       "3     42°09′56″N 072°43′14″W         NaN       MA  \n",
       "4  42°18′26.2″N 85°15′05.3″W         NaN       MI  "
      ]
     },
     "execution_count": 341,
     "metadata": {},
     "output_type": "execute_result"
    }
   ],
   "source": [
    "#Lets create a variable in our data for air bases.This will be a True False boolean variable.\n",
    "air_bases_codes.head()"
   ]
  },
  {
   "cell_type": "code",
   "execution_count": 342,
   "metadata": {
    "id": "Klh-VRgBs2Il"
   },
   "outputs": [],
   "source": [
    "air_bases_codes = air_bases_codes.drop(['Unnamed: 4'],axis=1)"
   ]
  },
  {
   "cell_type": "code",
   "execution_count": 369,
   "metadata": {
    "id": "yzrecVTvtFs_"
   },
   "outputs": [],
   "source": [
    "df_new = pd.merge(df,air_bases_codes,left_on=['city','state'],right_on=['LOCATION','state_cd'],how='left')"
   ]
  },
  {
   "cell_type": "code",
   "execution_count": 370,
   "metadata": {
    "id": "dGkHkw_6zsjB"
   },
   "outputs": [],
   "source": [
    "df_new = df_new.rename(columns={'NAME': 'airbase_name','state_x':'state','state_y':'state_name'})"
   ]
  },
  {
   "cell_type": "code",
   "execution_count": 371,
   "metadata": {
    "id": "77RWZ34Y15Px"
   },
   "outputs": [],
   "source": [
    "df_new = df_new.drop(['LOCATION','state_cd','COORDINATES'],axis=1)"
   ]
  },
  {
   "cell_type": "code",
   "execution_count": 372,
   "metadata": {
    "id": "kcFY-ys63nzH"
   },
   "outputs": [],
   "source": [
    "df_new['airbase'] = [0 if pd.isnull(x) else 1 for x in df_new['airbase_name']] "
   ]
  },
  {
   "cell_type": "code",
   "execution_count": 375,
   "metadata": {
    "id": "R-sSjDGa5sJ9"
   },
   "outputs": [],
   "source": [
    "from sklearn.feature_extraction.text import TfidfVectorizer"
   ]
  },
  {
   "cell_type": "code",
   "execution_count": 376,
   "metadata": {
    "id": "0jAnf57QvW70"
   },
   "outputs": [],
   "source": [
    "#Just get the names and codes of the states\n",
    "state_names = air_bases_codes.drop(['NAME','LOCATION','COORDINATES'],axis=1)\n"
   ]
  },
  {
   "cell_type": "code",
   "execution_count": 377,
   "metadata": {
    "id": "-U6oUmEyQL-6"
   },
   "outputs": [],
   "source": [
    "state_names = state_names.rename(columns={'state':'state_name','state_cd':'state'})"
   ]
  },
  {
   "cell_type": "code",
   "execution_count": 378,
   "metadata": {
    "id": "BFf6iOaXQdC4"
   },
   "outputs": [],
   "source": [
    "state_names = state_names.drop_duplicates().reset_index()"
   ]
  },
  {
   "cell_type": "code",
   "execution_count": 379,
   "metadata": {
    "id": "iWQ2D4rFPPk-"
   },
   "outputs": [],
   "source": [
    "#Lets create some features out of text data. Start with word count\n",
    "df_new['text_word_count'] = df_new['text'].apply(lambda x:len(str(x).split(\" \")))"
   ]
  },
  {
   "cell_type": "code",
   "execution_count": 380,
   "metadata": {
    "colab": {
     "base_uri": "https://localhost:8080/",
     "height": 363
    },
    "id": "P6qjh8rzP8TY",
    "outputId": "f5a5a02a-37a0-4366-8752-0bdc8c16a8c7"
   },
   "outputs": [
    {
     "data": {
      "text/html": [
       "<div>\n",
       "<style scoped>\n",
       "    .dataframe tbody tr th:only-of-type {\n",
       "        vertical-align: middle;\n",
       "    }\n",
       "\n",
       "    .dataframe tbody tr th {\n",
       "        vertical-align: top;\n",
       "    }\n",
       "\n",
       "    .dataframe thead th {\n",
       "        text-align: right;\n",
       "    }\n",
       "</style>\n",
       "<table border=\"1\" class=\"dataframe\">\n",
       "  <thead>\n",
       "    <tr style=\"text-align: right;\">\n",
       "      <th></th>\n",
       "      <th>text</th>\n",
       "      <th>text_word_count</th>\n",
       "    </tr>\n",
       "  </thead>\n",
       "  <tbody>\n",
       "    <tr>\n",
       "      <th>56575</th>\n",
       "      <td>close encounter 5th kind ce5 completely true a...</td>\n",
       "      <td>2748</td>\n",
       "    </tr>\n",
       "    <tr>\n",
       "      <th>14132</th>\n",
       "      <td>go detail experience would like preface accoun...</td>\n",
       "      <td>2296</td>\n",
       "    </tr>\n",
       "    <tr>\n",
       "      <th>56725</th>\n",
       "      <td>lighted craft hovered 3minutes dove 1mile 5sec...</td>\n",
       "      <td>2208</td>\n",
       "    </tr>\n",
       "    <tr>\n",
       "      <th>16475</th>\n",
       "      <td>abducted child tampa fl 1960s sleeping element...</td>\n",
       "      <td>2106</td>\n",
       "    </tr>\n",
       "    <tr>\n",
       "      <th>12884</th>\n",
       "      <td>one ufo sighted west melbourn floirda feb 24 2...</td>\n",
       "      <td>1983</td>\n",
       "    </tr>\n",
       "    <tr>\n",
       "      <th>...</th>\n",
       "      <td>...</td>\n",
       "      <td>...</td>\n",
       "    </tr>\n",
       "    <tr>\n",
       "      <th>53670</th>\n",
       "      <td>brilliantly lit cigar shaped vessel 40 foot lo...</td>\n",
       "      <td>806</td>\n",
       "    </tr>\n",
       "    <tr>\n",
       "      <th>71585</th>\n",
       "      <td>spotted black hovering ufo unusualhard disting...</td>\n",
       "      <td>798</td>\n",
       "    </tr>\n",
       "    <tr>\n",
       "      <th>65648</th>\n",
       "      <td>ufo take 10 minuteman icbm alert incident prev...</td>\n",
       "      <td>792</td>\n",
       "    </tr>\n",
       "    <tr>\n",
       "      <th>49852</th>\n",
       "      <td>hovering solid pulsing white light pulsing whi...</td>\n",
       "      <td>791</td>\n",
       "    </tr>\n",
       "    <tr>\n",
       "      <th>68848</th>\n",
       "      <td>saw large long object orangish light bottom mo...</td>\n",
       "      <td>789</td>\n",
       "    </tr>\n",
       "  </tbody>\n",
       "</table>\n",
       "<p>100 rows × 2 columns</p>\n",
       "</div>"
      ],
      "text/plain": [
       "                                                    text  text_word_count\n",
       "56575  close encounter 5th kind ce5 completely true a...             2748\n",
       "14132  go detail experience would like preface accoun...             2296\n",
       "56725  lighted craft hovered 3minutes dove 1mile 5sec...             2208\n",
       "16475  abducted child tampa fl 1960s sleeping element...             2106\n",
       "12884  one ufo sighted west melbourn floirda feb 24 2...             1983\n",
       "...                                                  ...              ...\n",
       "53670  brilliantly lit cigar shaped vessel 40 foot lo...              806\n",
       "71585  spotted black hovering ufo unusualhard disting...              798\n",
       "65648  ufo take 10 minuteman icbm alert incident prev...              792\n",
       "49852  hovering solid pulsing white light pulsing whi...              791\n",
       "68848  saw large long object orangish light bottom mo...              789\n",
       "\n",
       "[100 rows x 2 columns]"
      ]
     },
     "execution_count": 380,
     "metadata": {},
     "output_type": "execute_result"
    }
   ],
   "source": [
    "df_new[['text','text_word_count']].sort_values(by='text_word_count', ascending= False).head(100)"
   ]
  },
  {
   "cell_type": "code",
   "execution_count": 381,
   "metadata": {
    "colab": {
     "base_uri": "https://localhost:8080/",
     "height": 49
    },
    "id": "y8ICM0voQvVw",
    "outputId": "d7005b06-68e3-4eb1-9193-3eee18302800"
   },
   "outputs": [
    {
     "name": "stderr",
     "output_type": "stream",
     "text": [
      "c:\\Users\\abhis\\Documents\\feature-eng\\lib\\site-packages\\seaborn\\distributions.py:2619: FutureWarning: `distplot` is a deprecated function and will be removed in a future version. Please adapt your code to use either `displot` (a figure-level function with similar flexibility) or `histplot` (an axes-level function for histograms).\n",
      "  warnings.warn(msg, FutureWarning)\n"
     ]
    },
    {
     "data": {
      "text/plain": [
       "<AxesSubplot:xlabel='text_word_count', ylabel='Density'>"
      ]
     },
     "execution_count": 381,
     "metadata": {},
     "output_type": "execute_result"
    },
    {
     "data": {
      "image/png": "[encoded data removed]",
      "text/plain": [
       "<Figure size 432x288 with 1 Axes>"
      ]
     },
     "metadata": {
      "needs_background": "light"
     },
     "output_type": "display_data"
    }
   ],
   "source": [
    "#Looks like the data is skewed to the right. We can transform this data using log transformation techniques\n",
    "sns.distplot(df_new['text_word_count'])"
   ]
  },
  {
   "cell_type": "code",
   "execution_count": 382,
   "metadata": {
    "colab": {
     "base_uri": "https://localhost:8080/"
    },
    "id": "RD1m8FVtXHC1",
    "outputId": "c63db581-4bbf-4a9b-8cfd-863438838684"
   },
   "outputs": [],
   "source": [
    "df_new['text_word_count_log'] = np.log(df_new['text_word_count'])"
   ]
  },
  {
   "cell_type": "code",
   "execution_count": 383,
   "metadata": {
    "id": "HFbl4T7sa9Y5"
   },
   "outputs": [
    {
     "name": "stderr",
     "output_type": "stream",
     "text": [
      "c:\\Users\\abhis\\Documents\\feature-eng\\lib\\site-packages\\seaborn\\distributions.py:2619: FutureWarning: `distplot` is a deprecated function and will be removed in a future version. Please adapt your code to use either `displot` (a figure-level function with similar flexibility) or `histplot` (an axes-level function for histograms).\n",
      "  warnings.warn(msg, FutureWarning)\n"
     ]
    },
    {
     "data": {
      "text/plain": [
       "<AxesSubplot:xlabel='text_word_count_log', ylabel='Density'>"
      ]
     },
     "execution_count": 383,
     "metadata": {},
     "output_type": "execute_result"
    },
    {
     "data": {
      "image/png": "[encoded data removed]",
      "text/plain": [
       "<Figure size 432x288 with 1 Axes>"
      ]
     },
     "metadata": {
      "needs_background": "light"
     },
     "output_type": "display_data"
    }
   ],
   "source": [
    "#Data for word count looks much better and centered now\n",
    "sns.distplot(df_new['text_word_count_log'])"
   ]
  },
  {
   "cell_type": "code",
   "execution_count": 384,
   "metadata": {},
   "outputs": [
    {
     "name": "stderr",
     "output_type": "stream",
     "text": [
      "c:\\Users\\abhis\\Documents\\feature-eng\\lib\\site-packages\\pandas\\core\\arraylike.py:364: RuntimeWarning: divide by zero encountered in log\n",
      "  result = getattr(ufunc, method)(*inputs, **kwargs)\n"
     ]
    }
   ],
   "source": [
    "#Lets get how many characters we have for each text\n",
    "df_new['text_char_count'] = df_new['text'].apply(lambda x:sum(len(word) for word in str(x).split(\" \")))\n",
    "df_new['text_char_log'] = np.log(df_new['text_char_count'])"
   ]
  },
  {
   "cell_type": "code",
   "execution_count": 385,
   "metadata": {},
   "outputs": [
    {
     "name": "stderr",
     "output_type": "stream",
     "text": [
      "c:\\Users\\abhis\\Documents\\feature-eng\\lib\\site-packages\\seaborn\\distributions.py:2619: FutureWarning: `distplot` is a deprecated function and will be removed in a future version. Please adapt your code to use either `displot` (a figure-level function with similar flexibility) or `histplot` (an axes-level function for histograms).\n",
      "  warnings.warn(msg, FutureWarning)\n"
     ]
    },
    {
     "data": {
      "text/plain": [
       "<AxesSubplot:xlabel='text_char_count', ylabel='Density'>"
      ]
     },
     "execution_count": 385,
     "metadata": {},
     "output_type": "execute_result"
    },
    {
     "data": {
      "image/png": "[encoded data removed]",
      "text/plain": [
       "<Figure size 432x288 with 1 Axes>"
      ]
     },
     "metadata": {
      "needs_background": "light"
     },
     "output_type": "display_data"
    }
   ],
   "source": [
    "# Right skewed data again in char count\n",
    "sns.distplot(df_new['text_char_count'])"
   ]
  },
  {
   "cell_type": "code",
   "execution_count": 364,
   "metadata": {},
   "outputs": [],
   "source": [
    "# Log transformation for the character count to center the data\n",
    "# sns.distplot(df_new['text_char_log'])"
   ]
  },
  {
   "cell_type": "code",
   "execution_count": 386,
   "metadata": {},
   "outputs": [],
   "source": [
    "#Average word count\n",
    "df_new['avg_word_cnt'] = df_new['text_char_count']/df_new['text_word_count']"
   ]
  },
  {
   "cell_type": "code",
   "execution_count": 387,
   "metadata": {},
   "outputs": [],
   "source": [
    "#Unique words\n",
    "df_new['unq_words'] = df_new['text'].str.lower().str.split().apply(set).str.len()"
   ]
  },
  {
   "cell_type": "code",
   "execution_count": 406,
   "metadata": {},
   "outputs": [
    {
     "name": "stderr",
     "output_type": "stream",
     "text": [
      "c:\\Users\\abhis\\Documents\\feature-eng\\lib\\site-packages\\seaborn\\distributions.py:2619: FutureWarning: `distplot` is a deprecated function and will be removed in a future version. Please adapt your code to use either `displot` (a figure-level function with similar flexibility) or `histplot` (an axes-level function for histograms).\n",
      "  warnings.warn(msg, FutureWarning)\n"
     ]
    },
    {
     "data": {
      "text/plain": [
       "<AxesSubplot:xlabel='unq_words', ylabel='Density'>"
      ]
     },
     "execution_count": 406,
     "metadata": {},
     "output_type": "execute_result"
    },
    {
     "data": {
      "image/png": "[encoded data removed]",
      "text/plain": [
       "<Figure size 432x288 with 1 Axes>"
      ]
     },
     "metadata": {
      "needs_background": "light"
     },
     "output_type": "display_data"
    }
   ],
   "source": [
    "sns.distplot(df_new['unq_words'])"
   ]
  },
  {
   "cell_type": "code",
   "execution_count": 407,
   "metadata": {},
   "outputs": [
    {
     "name": "stderr",
     "output_type": "stream",
     "text": [
      "c:\\Users\\abhis\\Documents\\feature-eng\\lib\\site-packages\\pandas\\core\\arraylike.py:364: RuntimeWarning: divide by zero encountered in log\n",
      "  result = getattr(ufunc, method)(*inputs, **kwargs)\n"
     ]
    }
   ],
   "source": [
    "df_new['unq_words_log'] = np.log(df_new['unq_words'])"
   ]
  },
  {
   "cell_type": "code",
   "execution_count": 409,
   "metadata": {},
   "outputs": [
    {
     "data": {
      "text/plain": [
       "0    4.234107\n",
       "1    3.637586\n",
       "2    3.091042\n",
       "3    4.394449\n",
       "4    4.430817\n",
       "Name: unq_words_log, dtype: float64"
      ]
     },
     "execution_count": 409,
     "metadata": {},
     "output_type": "execute_result"
    }
   ],
   "source": [
    "df_new['unq_words_log'].head()"
   ]
  },
  {
   "cell_type": "code",
   "execution_count": 388,
   "metadata": {},
   "outputs": [
    {
     "data": {
      "text/html": [
       "<div>\n",
       "<style scoped>\n",
       "    .dataframe tbody tr th:only-of-type {\n",
       "        vertical-align: middle;\n",
       "    }\n",
       "\n",
       "    .dataframe tbody tr th {\n",
       "        vertical-align: top;\n",
       "    }\n",
       "\n",
       "    .dataframe thead th {\n",
       "        text-align: right;\n",
       "    }\n",
       "</style>\n",
       "<table border=\"1\" class=\"dataframe\">\n",
       "  <thead>\n",
       "    <tr style=\"text-align: right;\">\n",
       "      <th></th>\n",
       "      <th>Text_ID</th>\n",
       "      <th>city</th>\n",
       "      <th>state</th>\n",
       "      <th>date_time</th>\n",
       "      <th>shape</th>\n",
       "      <th>stats</th>\n",
       "      <th>report_link</th>\n",
       "      <th>text</th>\n",
       "      <th>posted</th>\n",
       "      <th>city_latitude</th>\n",
       "      <th>...</th>\n",
       "      <th>shape_binned</th>\n",
       "      <th>airbase_name</th>\n",
       "      <th>state_name</th>\n",
       "      <th>airbase</th>\n",
       "      <th>text_word_count</th>\n",
       "      <th>text_word_count_log</th>\n",
       "      <th>text_char_count</th>\n",
       "      <th>text_char_log</th>\n",
       "      <th>avg_word_cnt</th>\n",
       "      <th>unq_words</th>\n",
       "    </tr>\n",
       "  </thead>\n",
       "  <tbody>\n",
       "    <tr>\n",
       "      <th>0</th>\n",
       "      <td>1.0</td>\n",
       "      <td>Chester</td>\n",
       "      <td>VA</td>\n",
       "      <td>2019-12-12 18:43:00</td>\n",
       "      <td>light</td>\n",
       "      <td>[Occurred : 12/12/2019 18:43  (Entered as : 12...</td>\n",
       "      <td>http://www.nuforc.org/webreports/151/S151739.html</td>\n",
       "      <td>wife driving southeast fairly populated main s...</td>\n",
       "      <td>2019-12-22T00:00:00</td>\n",
       "      <td>37.343152</td>\n",
       "      <td>...</td>\n",
       "      <td>light</td>\n",
       "      <td>NaN</td>\n",
       "      <td>NaN</td>\n",
       "      <td>0</td>\n",
       "      <td>96</td>\n",
       "      <td>4.564348</td>\n",
       "      <td>507</td>\n",
       "      <td>6.228511</td>\n",
       "      <td>5.281250</td>\n",
       "      <td>69</td>\n",
       "    </tr>\n",
       "    <tr>\n",
       "      <th>1</th>\n",
       "      <td>2.0</td>\n",
       "      <td>Rocky Hill</td>\n",
       "      <td>CT</td>\n",
       "      <td>2019-03-22 18:30:00</td>\n",
       "      <td>circle</td>\n",
       "      <td>[Occurred : 3/22/2019 18:30  (Entered as : 03/...</td>\n",
       "      <td>http://www.nuforc.org/webreports/145/S145297.html</td>\n",
       "      <td>think may caught ufo nbc nightly news aired ma...</td>\n",
       "      <td>2019-03-29T00:00:00</td>\n",
       "      <td>41.664800</td>\n",
       "      <td>...</td>\n",
       "      <td>circular</td>\n",
       "      <td>NaN</td>\n",
       "      <td>NaN</td>\n",
       "      <td>0</td>\n",
       "      <td>39</td>\n",
       "      <td>3.663562</td>\n",
       "      <td>192</td>\n",
       "      <td>5.257495</td>\n",
       "      <td>4.923077</td>\n",
       "      <td>38</td>\n",
       "    </tr>\n",
       "    <tr>\n",
       "      <th>2</th>\n",
       "      <td>4.0</td>\n",
       "      <td>Ottawa</td>\n",
       "      <td>ON</td>\n",
       "      <td>2019-04-17 02:00:00</td>\n",
       "      <td>teardrop</td>\n",
       "      <td>[Occurred : 4/17/2019 02:00  (Entered as : 04-...</td>\n",
       "      <td>http://www.nuforc.org/webreports/145/S145697.html</td>\n",
       "      <td>driving towards intersection fallowfield eagle...</td>\n",
       "      <td>2019-04-18T00:00:00</td>\n",
       "      <td>45.381383</td>\n",
       "      <td>...</td>\n",
       "      <td>other</td>\n",
       "      <td>NaN</td>\n",
       "      <td>NaN</td>\n",
       "      <td>0</td>\n",
       "      <td>23</td>\n",
       "      <td>3.135494</td>\n",
       "      <td>146</td>\n",
       "      <td>4.983607</td>\n",
       "      <td>6.347826</td>\n",
       "      <td>22</td>\n",
       "    </tr>\n",
       "    <tr>\n",
       "      <th>3</th>\n",
       "      <td>5.0</td>\n",
       "      <td>Peoria</td>\n",
       "      <td>NY</td>\n",
       "      <td>2009-03-15 18:00:00</td>\n",
       "      <td>cigar</td>\n",
       "      <td>[Occurred : 3/15/2009 18:00  (Entered as : 03/...</td>\n",
       "      <td>http://www.nuforc.org/webreports/145/S145723.html</td>\n",
       "      <td>peoria arizona saw cigar shaped craft floating...</td>\n",
       "      <td>2019-04-18T00:00:00</td>\n",
       "      <td>NaN</td>\n",
       "      <td>...</td>\n",
       "      <td>circular</td>\n",
       "      <td>NaN</td>\n",
       "      <td>NaN</td>\n",
       "      <td>0</td>\n",
       "      <td>103</td>\n",
       "      <td>4.634729</td>\n",
       "      <td>570</td>\n",
       "      <td>6.345636</td>\n",
       "      <td>5.533981</td>\n",
       "      <td>81</td>\n",
       "    </tr>\n",
       "    <tr>\n",
       "      <th>4</th>\n",
       "      <td>6.0</td>\n",
       "      <td>Kirbyville</td>\n",
       "      <td>TX</td>\n",
       "      <td>2019-04-02 20:25:00</td>\n",
       "      <td>disk</td>\n",
       "      <td>[Occurred : 4/2/2019 20:25  (Entered as : 04/0...</td>\n",
       "      <td>http://www.nuforc.org/webreports/145/S145476.html</td>\n",
       "      <td>object flashing light green blue red white lig...</td>\n",
       "      <td>2019-04-08T00:00:00</td>\n",
       "      <td>30.677200</td>\n",
       "      <td>...</td>\n",
       "      <td>circular</td>\n",
       "      <td>NaN</td>\n",
       "      <td>NaN</td>\n",
       "      <td>0</td>\n",
       "      <td>124</td>\n",
       "      <td>4.820282</td>\n",
       "      <td>711</td>\n",
       "      <td>6.566672</td>\n",
       "      <td>5.733871</td>\n",
       "      <td>84</td>\n",
       "    </tr>\n",
       "  </tbody>\n",
       "</table>\n",
       "<p>5 rows × 33 columns</p>\n",
       "</div>"
      ],
      "text/plain": [
       "   Text_ID        city state           date_time     shape  \\\n",
       "0      1.0     Chester    VA 2019-12-12 18:43:00     light   \n",
       "1      2.0  Rocky Hill    CT 2019-03-22 18:30:00    circle   \n",
       "2      4.0      Ottawa    ON 2019-04-17 02:00:00  teardrop   \n",
       "3      5.0      Peoria    NY 2009-03-15 18:00:00     cigar   \n",
       "4      6.0  Kirbyville    TX 2019-04-02 20:25:00      disk   \n",
       "\n",
       "                                               stats  \\\n",
       "0  [Occurred : 12/12/2019 18:43  (Entered as : 12...   \n",
       "1  [Occurred : 3/22/2019 18:30  (Entered as : 03/...   \n",
       "2  [Occurred : 4/17/2019 02:00  (Entered as : 04-...   \n",
       "3  [Occurred : 3/15/2009 18:00  (Entered as : 03/...   \n",
       "4  [Occurred : 4/2/2019 20:25  (Entered as : 04/0...   \n",
       "\n",
       "                                         report_link  \\\n",
       "0  http://www.nuforc.org/webreports/151/S151739.html   \n",
       "1  http://www.nuforc.org/webreports/145/S145297.html   \n",
       "2  http://www.nuforc.org/webreports/145/S145697.html   \n",
       "3  http://www.nuforc.org/webreports/145/S145723.html   \n",
       "4  http://www.nuforc.org/webreports/145/S145476.html   \n",
       "\n",
       "                                                text               posted  \\\n",
       "0  wife driving southeast fairly populated main s...  2019-12-22T00:00:00   \n",
       "1  think may caught ufo nbc nightly news aired ma...  2019-03-29T00:00:00   \n",
       "2  driving towards intersection fallowfield eagle...  2019-04-18T00:00:00   \n",
       "3  peoria arizona saw cigar shaped craft floating...  2019-04-18T00:00:00   \n",
       "4  object flashing light green blue red white lig...  2019-04-08T00:00:00   \n",
       "\n",
       "   city_latitude  ...  shape_binned airbase_name state_name airbase  \\\n",
       "0      37.343152  ...         light          NaN        NaN       0   \n",
       "1      41.664800  ...      circular          NaN        NaN       0   \n",
       "2      45.381383  ...         other          NaN        NaN       0   \n",
       "3            NaN  ...      circular          NaN        NaN       0   \n",
       "4      30.677200  ...      circular          NaN        NaN       0   \n",
       "\n",
       "  text_word_count text_word_count_log  text_char_count  text_char_log  \\\n",
       "0              96            4.564348              507       6.228511   \n",
       "1              39            3.663562              192       5.257495   \n",
       "2              23            3.135494              146       4.983607   \n",
       "3             103            4.634729              570       6.345636   \n",
       "4             124            4.820282              711       6.566672   \n",
       "\n",
       "  avg_word_cnt unq_words  \n",
       "0     5.281250        69  \n",
       "1     4.923077        38  \n",
       "2     6.347826        22  \n",
       "3     5.533981        81  \n",
       "4     5.733871        84  \n",
       "\n",
       "[5 rows x 33 columns]"
      ]
     },
     "execution_count": 388,
     "metadata": {},
     "output_type": "execute_result"
    }
   ],
   "source": [
    "df_new.head()"
   ]
  },
  {
   "cell_type": "markdown",
   "metadata": {},
   "source": [
    "# Satellites"
   ]
  },
  {
   "cell_type": "markdown",
   "metadata": {},
   "source": [
    "One of the interesting elements within this data is that some of the sightings are likely to be other objects such as: planes, meteors or satellites. Our group was interested in determining whether or not we could bring in data regarding satellites and meteors into our analysis. To do this, we focused on the International Space Station (ISS). Our preprocessing is within another notebook called Feature_Engineering_Project_ISS.ipynb.\n",
    "\n",
    "\n",
    "Our process to pull in the data was to obtain the TLE (Two Line Elements) data for the ISS and then to process that information using a package called Skyfield, which can be used to estimate the position of the ISS. Getting this data in, we can then identify whether or not the ISS is nearby for observations that are after 1998 (when the ISS was launched). The data for the TLEs was obtained via http://celestrak.com."
   ]
  },
  {
   "cell_type": "code",
   "execution_count": 190,
   "metadata": {},
   "outputs": [],
   "source": [
    "# from skyfield.api import load, wgs84, EarthSatellite\n",
    "# import pickle\n",
    "# import timezonefinder\n",
    "# import dateutil"
   ]
  },
  {
   "cell_type": "code",
   "execution_count": 191,
   "metadata": {},
   "outputs": [],
   "source": [
    "# # here let's open the space station data\n",
    "# with open('/Users/rahimjiwa/Documents/Github/feature-engineering/data/UFO/zarya.txt', 'rb') as file:\n",
    "#     zarya = pickle.load(file)"
   ]
  },
  {
   "cell_type": "code",
   "execution_count": 192,
   "metadata": {},
   "outputs": [
    {
     "data": {
      "text/plain": [
       "['1 25544U 98067A   98324.28472222 -.00003657  11563-4  00000+0 0    10',\n",
       " '2 25544  51.5908 168.3788 0125362  86.4185 359.7454 16.05064833    05',\n",
       " '1 25544U 98067A   98324.33235038  .11839616  11568-4  57349-2 0    28',\n",
       " '2 25544  51.6173 168.1099 0123410  88.0187 273.4932 16.04971811    11',\n",
       " '1 25544U 98067A   98324.45674522 -.00043259  11566-4 -18040-4 0    32']"
      ]
     },
     "execution_count": 192,
     "metadata": {},
     "output_type": "execute_result"
    }
   ],
   "source": [
    "# # we can take a look\n",
    "# zarya[0:5]"
   ]
  },
  {
   "cell_type": "code",
   "execution_count": 193,
   "metadata": {},
   "outputs": [
    {
     "data": {
      "text/plain": [
       "[['1 25544U 98067A   98324.28472222 -.00003657  11563-4  00000+0 0    10',\n",
       "  '2 25544  51.5908 168.3788 0125362  86.4185 359.7454 16.05064833    05'],\n",
       " ['1 25544U 98067A   98324.33235038  .11839616  11568-4  57349-2 0    28',\n",
       "  '2 25544  51.6173 168.1099 0123410  88.0187 273.4932 16.04971811    11'],\n",
       " ['1 25544U 98067A   98324.45674522 -.00043259  11566-4 -18040-4 0    32',\n",
       "  '2 25544  51.5914 167.4317 0125858  91.3429 269.4598 16.05134416    30'],\n",
       " ['1 25544U 98067A   98324.51913017  .00713053  11562-4  34316-3 0    48',\n",
       "  '2 25544  51.5959 167.1152 0123861  87.8179 273.5890 16.05002967    44'],\n",
       " ['1 25544U 98067A   98324.58140904  .00632617  11564-4  30202-3 0    62',\n",
       "  '2 25544  51.5951 166.7799 0123964  88.1727 273.3425 16.05074568    54'],\n",
       " ['1 25544U 98067A   98324.64367013  .00537185  11565-4  25489-3 0    78',\n",
       "  '2 25544  51.5937 166.4421 0124158  88.3525 273.1690 16.05111828    65']]"
      ]
     },
     "execution_count": 193,
     "metadata": {},
     "output_type": "execute_result"
    }
   ],
   "source": [
    "# # since we have tle, we need zarya to be split in the tle records\n",
    "# N = 2\n",
    "# zarya = [zarya[n:n+N] for n in range(0, len(zarya), N)]\n",
    "# zarya[:6] "
   ]
  },
  {
   "cell_type": "code",
   "execution_count": 194,
   "metadata": {},
   "outputs": [
    {
     "data": {
      "text/html": [
       "<div>\n",
       "<style scoped>\n",
       "    .dataframe tbody tr th:only-of-type {\n",
       "        vertical-align: middle;\n",
       "    }\n",
       "\n",
       "    .dataframe tbody tr th {\n",
       "        vertical-align: top;\n",
       "    }\n",
       "\n",
       "    .dataframe thead th {\n",
       "        text-align: right;\n",
       "    }\n",
       "</style>\n",
       "<table border=\"1\" class=\"dataframe\">\n",
       "  <thead>\n",
       "    <tr style=\"text-align: right;\">\n",
       "      <th></th>\n",
       "      <th>Text_ID</th>\n",
       "      <th>city</th>\n",
       "      <th>state</th>\n",
       "      <th>date_time</th>\n",
       "      <th>shape</th>\n",
       "      <th>stats</th>\n",
       "      <th>report_link</th>\n",
       "      <th>text</th>\n",
       "      <th>posted</th>\n",
       "      <th>city_latitude</th>\n",
       "      <th>city_longitude</th>\n",
       "      <th>Duration</th>\n",
       "      <th>summary_notes</th>\n",
       "      <th>text_notes</th>\n",
       "      <th>Reported_stats</th>\n",
       "      <th>city_state</th>\n",
       "      <th>coord</th>\n",
       "      <th>date_time_2</th>\n",
       "      <th>time_difference</th>\n",
       "      <th>reporting_lag</th>\n",
       "    </tr>\n",
       "  </thead>\n",
       "  <tbody>\n",
       "    <tr>\n",
       "      <th>0</th>\n",
       "      <td>1.0</td>\n",
       "      <td>Chester</td>\n",
       "      <td>VA</td>\n",
       "      <td>2019-12-12T18:43:00</td>\n",
       "      <td>light</td>\n",
       "      <td>[Occurred : 12/12/2019 18:43  (Entered as : 12...</td>\n",
       "      <td>http://www.nuforc.org/webreports/151/S151739.html</td>\n",
       "      <td>wife driving southeast fairly populated main s...</td>\n",
       "      <td>2019-12-22T00:00:00</td>\n",
       "      <td>37.343152</td>\n",
       "      <td>-77.408582</td>\n",
       "      <td>seconds</td>\n",
       "      <td>[]</td>\n",
       "      <td>[]</td>\n",
       "      <td>2019-12-19 19:19:31</td>\n",
       "      <td>(Chester, VA)</td>\n",
       "      <td>(37.34315152, -77.40858182)</td>\n",
       "      <td>2019-12-12 18:43:00</td>\n",
       "      <td>7 days 00:36:31</td>\n",
       "      <td>weeks</td>\n",
       "    </tr>\n",
       "    <tr>\n",
       "      <th>1</th>\n",
       "      <td>2.0</td>\n",
       "      <td>Rocky Hill</td>\n",
       "      <td>CT</td>\n",
       "      <td>2019-03-22T18:30:00</td>\n",
       "      <td>circle</td>\n",
       "      <td>[Occurred : 3/22/2019 18:30  (Entered as : 03/...</td>\n",
       "      <td>http://www.nuforc.org/webreports/145/S145297.html</td>\n",
       "      <td>think may caught ufo nbc nightly news aired ma...</td>\n",
       "      <td>2019-03-29T00:00:00</td>\n",
       "      <td>41.664800</td>\n",
       "      <td>-72.639300</td>\n",
       "      <td>seconds</td>\n",
       "      <td>[]</td>\n",
       "      <td>[]</td>\n",
       "      <td>2019-03-27 16:10:19</td>\n",
       "      <td>(Rocky Hill, CT)</td>\n",
       "      <td>(41.6648, -72.6393)</td>\n",
       "      <td>2019-03-22 18:30:00</td>\n",
       "      <td>4 days 21:40:19</td>\n",
       "      <td>days</td>\n",
       "    </tr>\n",
       "    <tr>\n",
       "      <th>3</th>\n",
       "      <td>4.0</td>\n",
       "      <td>Ottawa</td>\n",
       "      <td>ON</td>\n",
       "      <td>2019-04-17T02:00:00</td>\n",
       "      <td>teardrop</td>\n",
       "      <td>[Occurred : 4/17/2019 02:00  (Entered as : 04-...</td>\n",
       "      <td>http://www.nuforc.org/webreports/145/S145697.html</td>\n",
       "      <td>driving towards intersection fallowfield eagle...</td>\n",
       "      <td>2019-04-18T00:00:00</td>\n",
       "      <td>45.381383</td>\n",
       "      <td>-75.708501</td>\n",
       "      <td>seconds</td>\n",
       "      <td>[]</td>\n",
       "      <td>[]</td>\n",
       "      <td>2019-04-17 08:41:25</td>\n",
       "      <td>(Ottawa, ON)</td>\n",
       "      <td>(45.3813825, -75.70850071)</td>\n",
       "      <td>2019-04-17 02:00:00</td>\n",
       "      <td>0 days 06:41:25</td>\n",
       "      <td>hours</td>\n",
       "    </tr>\n",
       "    <tr>\n",
       "      <th>4</th>\n",
       "      <td>5.0</td>\n",
       "      <td>Peoria</td>\n",
       "      <td>NY</td>\n",
       "      <td>2009-03-15T18:00:00</td>\n",
       "      <td>cigar</td>\n",
       "      <td>[Occurred : 3/15/2009 18:00  (Entered as : 03/...</td>\n",
       "      <td>http://www.nuforc.org/webreports/145/S145723.html</td>\n",
       "      <td>peoria arizona saw cigar shaped craft floating...</td>\n",
       "      <td>2019-04-18T00:00:00</td>\n",
       "      <td>NaN</td>\n",
       "      <td>NaN</td>\n",
       "      <td>minutes</td>\n",
       "      <td>[]</td>\n",
       "      <td>[]</td>\n",
       "      <td>2019-04-17 18:30:52</td>\n",
       "      <td>(Peoria, NY)</td>\n",
       "      <td>(nan, nan)</td>\n",
       "      <td>2009-03-15 18:00:00</td>\n",
       "      <td>3685 days 00:30:52</td>\n",
       "      <td>years</td>\n",
       "    </tr>\n",
       "    <tr>\n",
       "      <th>5</th>\n",
       "      <td>6.0</td>\n",
       "      <td>Kirbyville</td>\n",
       "      <td>TX</td>\n",
       "      <td>2019-04-02T20:25:00</td>\n",
       "      <td>disk</td>\n",
       "      <td>[Occurred : 4/2/2019 20:25  (Entered as : 04/0...</td>\n",
       "      <td>http://www.nuforc.org/webreports/145/S145476.html</td>\n",
       "      <td>object flashing light green blue red white lig...</td>\n",
       "      <td>2019-04-08T00:00:00</td>\n",
       "      <td>30.677200</td>\n",
       "      <td>-94.005200</td>\n",
       "      <td>minutes</td>\n",
       "      <td>[]</td>\n",
       "      <td>[((ADDENDUM FROM WITNESS)), ((END ADDENDUM)), ...</td>\n",
       "      <td>2019-04-03 18:36:52</td>\n",
       "      <td>(Kirbyville, TX)</td>\n",
       "      <td>(30.6772, -94.0052)</td>\n",
       "      <td>2019-04-02 20:25:00</td>\n",
       "      <td>0 days 22:11:52</td>\n",
       "      <td>hours</td>\n",
       "    </tr>\n",
       "  </tbody>\n",
       "</table>\n",
       "</div>"
      ],
      "text/plain": [
       "   Text_ID        city state            date_time     shape  \\\n",
       "0      1.0     Chester    VA  2019-12-12T18:43:00     light   \n",
       "1      2.0  Rocky Hill    CT  2019-03-22T18:30:00    circle   \n",
       "3      4.0      Ottawa    ON  2019-04-17T02:00:00  teardrop   \n",
       "4      5.0      Peoria    NY  2009-03-15T18:00:00     cigar   \n",
       "5      6.0  Kirbyville    TX  2019-04-02T20:25:00      disk   \n",
       "\n",
       "                                               stats  \\\n",
       "0  [Occurred : 12/12/2019 18:43  (Entered as : 12...   \n",
       "1  [Occurred : 3/22/2019 18:30  (Entered as : 03/...   \n",
       "3  [Occurred : 4/17/2019 02:00  (Entered as : 04-...   \n",
       "4  [Occurred : 3/15/2009 18:00  (Entered as : 03/...   \n",
       "5  [Occurred : 4/2/2019 20:25  (Entered as : 04/0...   \n",
       "\n",
       "                                         report_link  \\\n",
       "0  http://www.nuforc.org/webreports/151/S151739.html   \n",
       "1  http://www.nuforc.org/webreports/145/S145297.html   \n",
       "3  http://www.nuforc.org/webreports/145/S145697.html   \n",
       "4  http://www.nuforc.org/webreports/145/S145723.html   \n",
       "5  http://www.nuforc.org/webreports/145/S145476.html   \n",
       "\n",
       "                                                text               posted  \\\n",
       "0  wife driving southeast fairly populated main s...  2019-12-22T00:00:00   \n",
       "1  think may caught ufo nbc nightly news aired ma...  2019-03-29T00:00:00   \n",
       "3  driving towards intersection fallowfield eagle...  2019-04-18T00:00:00   \n",
       "4  peoria arizona saw cigar shaped craft floating...  2019-04-18T00:00:00   \n",
       "5  object flashing light green blue red white lig...  2019-04-08T00:00:00   \n",
       "\n",
       "   city_latitude  city_longitude Duration summary_notes  \\\n",
       "0      37.343152      -77.408582  seconds            []   \n",
       "1      41.664800      -72.639300  seconds            []   \n",
       "3      45.381383      -75.708501  seconds            []   \n",
       "4            NaN             NaN  minutes            []   \n",
       "5      30.677200      -94.005200  minutes            []   \n",
       "\n",
       "                                          text_notes       Reported_stats  \\\n",
       "0                                                 []  2019-12-19 19:19:31   \n",
       "1                                                 []  2019-03-27 16:10:19   \n",
       "3                                                 []  2019-04-17 08:41:25   \n",
       "4                                                 []  2019-04-17 18:30:52   \n",
       "5  [((ADDENDUM FROM WITNESS)), ((END ADDENDUM)), ...  2019-04-03 18:36:52   \n",
       "\n",
       "         city_state                        coord         date_time_2  \\\n",
       "0     (Chester, VA)  (37.34315152, -77.40858182) 2019-12-12 18:43:00   \n",
       "1  (Rocky Hill, CT)          (41.6648, -72.6393) 2019-03-22 18:30:00   \n",
       "3      (Ottawa, ON)   (45.3813825, -75.70850071) 2019-04-17 02:00:00   \n",
       "4      (Peoria, NY)                   (nan, nan) 2009-03-15 18:00:00   \n",
       "5  (Kirbyville, TX)          (30.6772, -94.0052) 2019-04-02 20:25:00   \n",
       "\n",
       "     time_difference reporting_lag  \n",
       "0    7 days 00:36:31         weeks  \n",
       "1    4 days 21:40:19          days  \n",
       "3    0 days 06:41:25         hours  \n",
       "4 3685 days 00:30:52         years  \n",
       "5    0 days 22:11:52         hours  "
      ]
     },
     "execution_count": 194,
     "metadata": {},
     "output_type": "execute_result"
    }
   ],
   "source": [
    "# # lets make a copy of our dataframe\n",
    "# df_iss = df.copy()\n",
    "# df_iss.head()"
   ]
  },
  {
   "cell_type": "code",
   "execution_count": 195,
   "metadata": {},
   "outputs": [],
   "source": [
    "# # for the purpose of our analysis, we won't need some of these columns\n",
    "# df_iss.drop(columns=['shape','report_link','text','posted','Duration','summary_notes','text_notes'],inplace=True)"
   ]
  },
  {
   "cell_type": "code",
   "execution_count": 196,
   "metadata": {},
   "outputs": [
    {
     "name": "stdout",
     "output_type": "stream",
     "text": [
      "<class 'pandas.core.frame.DataFrame'>\n",
      "Int64Index: 81460 entries, 0 to 88123\n",
      "Data columns (total 13 columns):\n",
      " #   Column           Non-Null Count  Dtype          \n",
      "---  ------           --------------  -----          \n",
      " 0   Text_ID          81460 non-null  float64        \n",
      " 1   city             81460 non-null  object         \n",
      " 2   state            81460 non-null  object         \n",
      " 3   date_time        80429 non-null  object         \n",
      " 4   stats            81460 non-null  object         \n",
      " 5   city_latitude    70907 non-null  float64        \n",
      " 6   city_longitude   70907 non-null  float64        \n",
      " 7   Reported_stats   81460 non-null  object         \n",
      " 8   city_state       81460 non-null  object         \n",
      " 9   coord            81460 non-null  object         \n",
      " 10  date_time_2      80429 non-null  datetime64[ns] \n",
      " 11  time_difference  79092 non-null  timedelta64[ns]\n",
      " 12  reporting_lag    79092 non-null  category       \n",
      "dtypes: category(1), datetime64[ns](1), float64(3), object(7), timedelta64[ns](1)\n",
      "memory usage: 10.2+ MB\n"
     ]
    }
   ],
   "source": [
    "# df_iss.info()"
   ]
  },
  {
   "cell_type": "code",
   "execution_count": 197,
   "metadata": {},
   "outputs": [
    {
     "name": "stdout",
     "output_type": "stream",
     "text": [
      "<class 'pandas.core.frame.DataFrame'>\n",
      "Int64Index: 68969 entries, 0 to 86713\n",
      "Data columns (total 13 columns):\n",
      " #   Column           Non-Null Count  Dtype          \n",
      "---  ------           --------------  -----          \n",
      " 0   Text_ID          68969 non-null  float64        \n",
      " 1   city             68969 non-null  object         \n",
      " 2   state            68969 non-null  object         \n",
      " 3   date_time        68969 non-null  object         \n",
      " 4   stats            68969 non-null  object         \n",
      " 5   city_latitude    68969 non-null  float64        \n",
      " 6   city_longitude   68969 non-null  float64        \n",
      " 7   Reported_stats   68969 non-null  object         \n",
      " 8   city_state       68969 non-null  object         \n",
      " 9   coord            68969 non-null  object         \n",
      " 10  date_time_2      68969 non-null  datetime64[ns] \n",
      " 11  time_difference  68969 non-null  timedelta64[ns]\n",
      " 12  reporting_lag    68969 non-null  category       \n",
      "dtypes: category(1), datetime64[ns](1), float64(3), object(7), timedelta64[ns](1)\n",
      "memory usage: 6.9+ MB\n"
     ]
    }
   ],
   "source": [
    "# # for simplicity, let's get rid of the NaNs\n",
    "# df_iss.dropna(inplace=True)\n",
    "# df_iss.info()"
   ]
  },
  {
   "cell_type": "code",
   "execution_count": 198,
   "metadata": {},
   "outputs": [],
   "source": [
    "# # let's start by adding in the timezone from the coordinates\n",
    "# tf = timezonefinder.TimezoneFinder()\n",
    "# def get_timezone(lat, lon):\n",
    "#   timezone_str = tf.certain_timezone_at(lat=lat, lng=lon)\n",
    "#   return timezone_str"
   ]
  },
  {
   "cell_type": "code",
   "execution_count": 199,
   "metadata": {},
   "outputs": [],
   "source": [
    "# # this will get the timezones for all the instances\n",
    "# df_iss['timezone'] = df_iss.apply(lambda row: get_timezone(row['city_latitude'], row['city_longitude']), axis=1)"
   ]
  },
  {
   "cell_type": "code",
   "execution_count": 200,
   "metadata": {},
   "outputs": [
    {
     "data": {
      "text/html": [
       "<div>\n",
       "<style scoped>\n",
       "    .dataframe tbody tr th:only-of-type {\n",
       "        vertical-align: middle;\n",
       "    }\n",
       "\n",
       "    .dataframe tbody tr th {\n",
       "        vertical-align: top;\n",
       "    }\n",
       "\n",
       "    .dataframe thead th {\n",
       "        text-align: right;\n",
       "    }\n",
       "</style>\n",
       "<table border=\"1\" class=\"dataframe\">\n",
       "  <thead>\n",
       "    <tr style=\"text-align: right;\">\n",
       "      <th></th>\n",
       "      <th>Text_ID</th>\n",
       "      <th>city</th>\n",
       "      <th>state</th>\n",
       "      <th>date_time</th>\n",
       "      <th>stats</th>\n",
       "      <th>city_latitude</th>\n",
       "      <th>city_longitude</th>\n",
       "      <th>Reported_stats</th>\n",
       "      <th>city_state</th>\n",
       "      <th>coord</th>\n",
       "      <th>date_time_2</th>\n",
       "      <th>time_difference</th>\n",
       "      <th>reporting_lag</th>\n",
       "      <th>timezone</th>\n",
       "    </tr>\n",
       "  </thead>\n",
       "  <tbody>\n",
       "    <tr>\n",
       "      <th>0</th>\n",
       "      <td>1.0</td>\n",
       "      <td>Chester</td>\n",
       "      <td>VA</td>\n",
       "      <td>2019-12-12T18:43:00</td>\n",
       "      <td>[Occurred : 12/12/2019 18:43  (Entered as : 12...</td>\n",
       "      <td>37.343152</td>\n",
       "      <td>-77.408582</td>\n",
       "      <td>2019-12-19 19:19:31</td>\n",
       "      <td>(Chester, VA)</td>\n",
       "      <td>(37.34315152, -77.40858182)</td>\n",
       "      <td>2019-12-12 18:43:00</td>\n",
       "      <td>7 days 00:36:31</td>\n",
       "      <td>weeks</td>\n",
       "      <td>America/New_York</td>\n",
       "    </tr>\n",
       "    <tr>\n",
       "      <th>1</th>\n",
       "      <td>2.0</td>\n",
       "      <td>Rocky Hill</td>\n",
       "      <td>CT</td>\n",
       "      <td>2019-03-22T18:30:00</td>\n",
       "      <td>[Occurred : 3/22/2019 18:30  (Entered as : 03/...</td>\n",
       "      <td>41.664800</td>\n",
       "      <td>-72.639300</td>\n",
       "      <td>2019-03-27 16:10:19</td>\n",
       "      <td>(Rocky Hill, CT)</td>\n",
       "      <td>(41.6648, -72.6393)</td>\n",
       "      <td>2019-03-22 18:30:00</td>\n",
       "      <td>4 days 21:40:19</td>\n",
       "      <td>days</td>\n",
       "      <td>America/New_York</td>\n",
       "    </tr>\n",
       "    <tr>\n",
       "      <th>3</th>\n",
       "      <td>4.0</td>\n",
       "      <td>Ottawa</td>\n",
       "      <td>ON</td>\n",
       "      <td>2019-04-17T02:00:00</td>\n",
       "      <td>[Occurred : 4/17/2019 02:00  (Entered as : 04-...</td>\n",
       "      <td>45.381383</td>\n",
       "      <td>-75.708501</td>\n",
       "      <td>2019-04-17 08:41:25</td>\n",
       "      <td>(Ottawa, ON)</td>\n",
       "      <td>(45.3813825, -75.70850071)</td>\n",
       "      <td>2019-04-17 02:00:00</td>\n",
       "      <td>0 days 06:41:25</td>\n",
       "      <td>hours</td>\n",
       "      <td>America/Toronto</td>\n",
       "    </tr>\n",
       "    <tr>\n",
       "      <th>5</th>\n",
       "      <td>6.0</td>\n",
       "      <td>Kirbyville</td>\n",
       "      <td>TX</td>\n",
       "      <td>2019-04-02T20:25:00</td>\n",
       "      <td>[Occurred : 4/2/2019 20:25  (Entered as : 04/0...</td>\n",
       "      <td>30.677200</td>\n",
       "      <td>-94.005200</td>\n",
       "      <td>2019-04-03 18:36:52</td>\n",
       "      <td>(Kirbyville, TX)</td>\n",
       "      <td>(30.6772, -94.0052)</td>\n",
       "      <td>2019-04-02 20:25:00</td>\n",
       "      <td>0 days 22:11:52</td>\n",
       "      <td>hours</td>\n",
       "      <td>America/Chicago</td>\n",
       "    </tr>\n",
       "    <tr>\n",
       "      <th>6</th>\n",
       "      <td>7.0</td>\n",
       "      <td>Tucson</td>\n",
       "      <td>AZ</td>\n",
       "      <td>2019-05-01T11:00:00</td>\n",
       "      <td>[Occurred : 5/1/2019 11:00  (Entered as : 5/1/...</td>\n",
       "      <td>32.259941</td>\n",
       "      <td>-110.927542</td>\n",
       "      <td>2019-05-01 11:26:56</td>\n",
       "      <td>(Tucson, AZ)</td>\n",
       "      <td>(32.25994076, -110.9275423)</td>\n",
       "      <td>2019-05-01 11:00:00</td>\n",
       "      <td>0 days 00:26:56</td>\n",
       "      <td>hours</td>\n",
       "      <td>America/Phoenix</td>\n",
       "    </tr>\n",
       "  </tbody>\n",
       "</table>\n",
       "</div>"
      ],
      "text/plain": [
       "   Text_ID        city state            date_time  \\\n",
       "0      1.0     Chester    VA  2019-12-12T18:43:00   \n",
       "1      2.0  Rocky Hill    CT  2019-03-22T18:30:00   \n",
       "3      4.0      Ottawa    ON  2019-04-17T02:00:00   \n",
       "5      6.0  Kirbyville    TX  2019-04-02T20:25:00   \n",
       "6      7.0      Tucson    AZ  2019-05-01T11:00:00   \n",
       "\n",
       "                                               stats  city_latitude  \\\n",
       "0  [Occurred : 12/12/2019 18:43  (Entered as : 12...      37.343152   \n",
       "1  [Occurred : 3/22/2019 18:30  (Entered as : 03/...      41.664800   \n",
       "3  [Occurred : 4/17/2019 02:00  (Entered as : 04-...      45.381383   \n",
       "5  [Occurred : 4/2/2019 20:25  (Entered as : 04/0...      30.677200   \n",
       "6  [Occurred : 5/1/2019 11:00  (Entered as : 5/1/...      32.259941   \n",
       "\n",
       "   city_longitude       Reported_stats        city_state  \\\n",
       "0      -77.408582  2019-12-19 19:19:31     (Chester, VA)   \n",
       "1      -72.639300  2019-03-27 16:10:19  (Rocky Hill, CT)   \n",
       "3      -75.708501  2019-04-17 08:41:25      (Ottawa, ON)   \n",
       "5      -94.005200  2019-04-03 18:36:52  (Kirbyville, TX)   \n",
       "6     -110.927542  2019-05-01 11:26:56      (Tucson, AZ)   \n",
       "\n",
       "                         coord         date_time_2 time_difference  \\\n",
       "0  (37.34315152, -77.40858182) 2019-12-12 18:43:00 7 days 00:36:31   \n",
       "1          (41.6648, -72.6393) 2019-03-22 18:30:00 4 days 21:40:19   \n",
       "3   (45.3813825, -75.70850071) 2019-04-17 02:00:00 0 days 06:41:25   \n",
       "5          (30.6772, -94.0052) 2019-04-02 20:25:00 0 days 22:11:52   \n",
       "6  (32.25994076, -110.9275423) 2019-05-01 11:00:00 0 days 00:26:56   \n",
       "\n",
       "  reporting_lag          timezone  \n",
       "0         weeks  America/New_York  \n",
       "1          days  America/New_York  \n",
       "3         hours   America/Toronto  \n",
       "5         hours   America/Chicago  \n",
       "6         hours   America/Phoenix  "
      ]
     },
     "execution_count": 200,
     "metadata": {},
     "output_type": "execute_result"
    }
   ],
   "source": [
    "# df_iss.head()"
   ]
  },
  {
   "cell_type": "code",
   "execution_count": 201,
   "metadata": {},
   "outputs": [],
   "source": [
    "# # we need to convert time to utc\n",
    "# def time_to_utc(time, timezone):\n",
    "#     x = arrow.get(time, 'YYYY-M-DTHH:mm:ss').replace(tzinfo=dateutil.tz.gettz(timezone))\n",
    "#     x = x.to('utc')\n",
    "#     #x = x.naive\n",
    "#     x = x.datetime\n",
    "#     return x"
   ]
  },
  {
   "cell_type": "code",
   "execution_count": 202,
   "metadata": {},
   "outputs": [
    {
     "data": {
      "text/html": [
       "<div>\n",
       "<style scoped>\n",
       "    .dataframe tbody tr th:only-of-type {\n",
       "        vertical-align: middle;\n",
       "    }\n",
       "\n",
       "    .dataframe tbody tr th {\n",
       "        vertical-align: top;\n",
       "    }\n",
       "\n",
       "    .dataframe thead th {\n",
       "        text-align: right;\n",
       "    }\n",
       "</style>\n",
       "<table border=\"1\" class=\"dataframe\">\n",
       "  <thead>\n",
       "    <tr style=\"text-align: right;\">\n",
       "      <th></th>\n",
       "      <th>Text_ID</th>\n",
       "      <th>city</th>\n",
       "      <th>state</th>\n",
       "      <th>date_time</th>\n",
       "      <th>stats</th>\n",
       "      <th>city_latitude</th>\n",
       "      <th>city_longitude</th>\n",
       "      <th>Reported_stats</th>\n",
       "      <th>city_state</th>\n",
       "      <th>coord</th>\n",
       "      <th>date_time_2</th>\n",
       "      <th>time_difference</th>\n",
       "      <th>reporting_lag</th>\n",
       "      <th>timezone</th>\n",
       "      <th>utc</th>\n",
       "    </tr>\n",
       "  </thead>\n",
       "  <tbody>\n",
       "    <tr>\n",
       "      <th>0</th>\n",
       "      <td>1.0</td>\n",
       "      <td>Chester</td>\n",
       "      <td>VA</td>\n",
       "      <td>2019-12-12T18:43:00</td>\n",
       "      <td>[Occurred : 12/12/2019 18:43  (Entered as : 12...</td>\n",
       "      <td>37.343152</td>\n",
       "      <td>-77.408582</td>\n",
       "      <td>2019-12-19 19:19:31</td>\n",
       "      <td>(Chester, VA)</td>\n",
       "      <td>(37.34315152, -77.40858182)</td>\n",
       "      <td>2019-12-12 18:43:00</td>\n",
       "      <td>7 days 00:36:31</td>\n",
       "      <td>weeks</td>\n",
       "      <td>America/New_York</td>\n",
       "      <td>2019-12-12 23:43:00+00:00</td>\n",
       "    </tr>\n",
       "    <tr>\n",
       "      <th>1</th>\n",
       "      <td>2.0</td>\n",
       "      <td>Rocky Hill</td>\n",
       "      <td>CT</td>\n",
       "      <td>2019-03-22T18:30:00</td>\n",
       "      <td>[Occurred : 3/22/2019 18:30  (Entered as : 03/...</td>\n",
       "      <td>41.664800</td>\n",
       "      <td>-72.639300</td>\n",
       "      <td>2019-03-27 16:10:19</td>\n",
       "      <td>(Rocky Hill, CT)</td>\n",
       "      <td>(41.6648, -72.6393)</td>\n",
       "      <td>2019-03-22 18:30:00</td>\n",
       "      <td>4 days 21:40:19</td>\n",
       "      <td>days</td>\n",
       "      <td>America/New_York</td>\n",
       "      <td>2019-03-22 22:30:00+00:00</td>\n",
       "    </tr>\n",
       "    <tr>\n",
       "      <th>3</th>\n",
       "      <td>4.0</td>\n",
       "      <td>Ottawa</td>\n",
       "      <td>ON</td>\n",
       "      <td>2019-04-17T02:00:00</td>\n",
       "      <td>[Occurred : 4/17/2019 02:00  (Entered as : 04-...</td>\n",
       "      <td>45.381383</td>\n",
       "      <td>-75.708501</td>\n",
       "      <td>2019-04-17 08:41:25</td>\n",
       "      <td>(Ottawa, ON)</td>\n",
       "      <td>(45.3813825, -75.70850071)</td>\n",
       "      <td>2019-04-17 02:00:00</td>\n",
       "      <td>0 days 06:41:25</td>\n",
       "      <td>hours</td>\n",
       "      <td>America/Toronto</td>\n",
       "      <td>2019-04-17 06:00:00+00:00</td>\n",
       "    </tr>\n",
       "    <tr>\n",
       "      <th>5</th>\n",
       "      <td>6.0</td>\n",
       "      <td>Kirbyville</td>\n",
       "      <td>TX</td>\n",
       "      <td>2019-04-02T20:25:00</td>\n",
       "      <td>[Occurred : 4/2/2019 20:25  (Entered as : 04/0...</td>\n",
       "      <td>30.677200</td>\n",
       "      <td>-94.005200</td>\n",
       "      <td>2019-04-03 18:36:52</td>\n",
       "      <td>(Kirbyville, TX)</td>\n",
       "      <td>(30.6772, -94.0052)</td>\n",
       "      <td>2019-04-02 20:25:00</td>\n",
       "      <td>0 days 22:11:52</td>\n",
       "      <td>hours</td>\n",
       "      <td>America/Chicago</td>\n",
       "      <td>2019-04-03 01:25:00+00:00</td>\n",
       "    </tr>\n",
       "    <tr>\n",
       "      <th>6</th>\n",
       "      <td>7.0</td>\n",
       "      <td>Tucson</td>\n",
       "      <td>AZ</td>\n",
       "      <td>2019-05-01T11:00:00</td>\n",
       "      <td>[Occurred : 5/1/2019 11:00  (Entered as : 5/1/...</td>\n",
       "      <td>32.259941</td>\n",
       "      <td>-110.927542</td>\n",
       "      <td>2019-05-01 11:26:56</td>\n",
       "      <td>(Tucson, AZ)</td>\n",
       "      <td>(32.25994076, -110.9275423)</td>\n",
       "      <td>2019-05-01 11:00:00</td>\n",
       "      <td>0 days 00:26:56</td>\n",
       "      <td>hours</td>\n",
       "      <td>America/Phoenix</td>\n",
       "      <td>2019-05-01 18:00:00+00:00</td>\n",
       "    </tr>\n",
       "  </tbody>\n",
       "</table>\n",
       "</div>"
      ],
      "text/plain": [
       "   Text_ID        city state            date_time  \\\n",
       "0      1.0     Chester    VA  2019-12-12T18:43:00   \n",
       "1      2.0  Rocky Hill    CT  2019-03-22T18:30:00   \n",
       "3      4.0      Ottawa    ON  2019-04-17T02:00:00   \n",
       "5      6.0  Kirbyville    TX  2019-04-02T20:25:00   \n",
       "6      7.0      Tucson    AZ  2019-05-01T11:00:00   \n",
       "\n",
       "                                               stats  city_latitude  \\\n",
       "0  [Occurred : 12/12/2019 18:43  (Entered as : 12...      37.343152   \n",
       "1  [Occurred : 3/22/2019 18:30  (Entered as : 03/...      41.664800   \n",
       "3  [Occurred : 4/17/2019 02:00  (Entered as : 04-...      45.381383   \n",
       "5  [Occurred : 4/2/2019 20:25  (Entered as : 04/0...      30.677200   \n",
       "6  [Occurred : 5/1/2019 11:00  (Entered as : 5/1/...      32.259941   \n",
       "\n",
       "   city_longitude       Reported_stats        city_state  \\\n",
       "0      -77.408582  2019-12-19 19:19:31     (Chester, VA)   \n",
       "1      -72.639300  2019-03-27 16:10:19  (Rocky Hill, CT)   \n",
       "3      -75.708501  2019-04-17 08:41:25      (Ottawa, ON)   \n",
       "5      -94.005200  2019-04-03 18:36:52  (Kirbyville, TX)   \n",
       "6     -110.927542  2019-05-01 11:26:56      (Tucson, AZ)   \n",
       "\n",
       "                         coord         date_time_2 time_difference  \\\n",
       "0  (37.34315152, -77.40858182) 2019-12-12 18:43:00 7 days 00:36:31   \n",
       "1          (41.6648, -72.6393) 2019-03-22 18:30:00 4 days 21:40:19   \n",
       "3   (45.3813825, -75.70850071) 2019-04-17 02:00:00 0 days 06:41:25   \n",
       "5          (30.6772, -94.0052) 2019-04-02 20:25:00 0 days 22:11:52   \n",
       "6  (32.25994076, -110.9275423) 2019-05-01 11:00:00 0 days 00:26:56   \n",
       "\n",
       "  reporting_lag          timezone                       utc  \n",
       "0         weeks  America/New_York 2019-12-12 23:43:00+00:00  \n",
       "1          days  America/New_York 2019-03-22 22:30:00+00:00  \n",
       "3         hours   America/Toronto 2019-04-17 06:00:00+00:00  \n",
       "5         hours   America/Chicago 2019-04-03 01:25:00+00:00  \n",
       "6         hours   America/Phoenix 2019-05-01 18:00:00+00:00  "
      ]
     },
     "execution_count": 202,
     "metadata": {},
     "output_type": "execute_result"
    }
   ],
   "source": [
    "# df_iss['utc'] = df_iss.apply(lambda row: time_to_utc(row['date_time'], row['timezone']), axis=1)\n",
    "# df_iss.head()"
   ]
  },
  {
   "cell_type": "code",
   "execution_count": 203,
   "metadata": {},
   "outputs": [
    {
     "data": {
      "text/html": [
       "<div>\n",
       "<style scoped>\n",
       "    .dataframe tbody tr th:only-of-type {\n",
       "        vertical-align: middle;\n",
       "    }\n",
       "\n",
       "    .dataframe tbody tr th {\n",
       "        vertical-align: top;\n",
       "    }\n",
       "\n",
       "    .dataframe thead th {\n",
       "        text-align: right;\n",
       "    }\n",
       "</style>\n",
       "<table border=\"1\" class=\"dataframe\">\n",
       "  <thead>\n",
       "    <tr style=\"text-align: right;\">\n",
       "      <th></th>\n",
       "      <th>tle</th>\n",
       "    </tr>\n",
       "  </thead>\n",
       "  <tbody>\n",
       "    <tr>\n",
       "      <th>0</th>\n",
       "      <td>[1 25544U 98067A   98324.28472222 -.00003657  ...</td>\n",
       "    </tr>\n",
       "    <tr>\n",
       "      <th>1</th>\n",
       "      <td>[1 25544U 98067A   98324.33235038  .11839616  ...</td>\n",
       "    </tr>\n",
       "    <tr>\n",
       "      <th>2</th>\n",
       "      <td>[1 25544U 98067A   98324.45674522 -.00043259  ...</td>\n",
       "    </tr>\n",
       "    <tr>\n",
       "      <th>3</th>\n",
       "      <td>[1 25544U 98067A   98324.51913017  .00713053  ...</td>\n",
       "    </tr>\n",
       "    <tr>\n",
       "      <th>4</th>\n",
       "      <td>[1 25544U 98067A   98324.58140904  .00632617  ...</td>\n",
       "    </tr>\n",
       "  </tbody>\n",
       "</table>\n",
       "</div>"
      ],
      "text/plain": [
       "                                                 tle\n",
       "0  [1 25544U 98067A   98324.28472222 -.00003657  ...\n",
       "1  [1 25544U 98067A   98324.33235038  .11839616  ...\n",
       "2  [1 25544U 98067A   98324.45674522 -.00043259  ...\n",
       "3  [1 25544U 98067A   98324.51913017  .00713053  ...\n",
       "4  [1 25544U 98067A   98324.58140904  .00632617  ..."
      ]
     },
     "execution_count": 203,
     "metadata": {},
     "output_type": "execute_result"
    }
   ],
   "source": [
    "# # okay let's get the zarya epochs and figure out how to compare them\n",
    "# df_zarya = pd.DataFrame({'tle':zarya})\n",
    "# df_zarya.head()"
   ]
  },
  {
   "cell_type": "code",
   "execution_count": 204,
   "metadata": {},
   "outputs": [],
   "source": [
    "# # this function will go through the tle data, and will return us with the data the epoch is for\n",
    "# def get_time_epoch(tle):\n",
    "#     ts = load.timescale()\n",
    "#     line1 = tle[0]\n",
    "#     line2 = tle[1]\n",
    "#     satellite = EarthSatellite(line1, line2, 'ISS (ZARYA)', ts)\n",
    "#     time = satellite.epoch.utc_datetime()\n",
    "#     #time = time.replace(tzinfo=None)\n",
    "#     return time"
   ]
  },
  {
   "cell_type": "code",
   "execution_count": 205,
   "metadata": {},
   "outputs": [
    {
     "data": {
      "text/html": [
       "<div>\n",
       "<style scoped>\n",
       "    .dataframe tbody tr th:only-of-type {\n",
       "        vertical-align: middle;\n",
       "    }\n",
       "\n",
       "    .dataframe tbody tr th {\n",
       "        vertical-align: top;\n",
       "    }\n",
       "\n",
       "    .dataframe thead th {\n",
       "        text-align: right;\n",
       "    }\n",
       "</style>\n",
       "<table border=\"1\" class=\"dataframe\">\n",
       "  <thead>\n",
       "    <tr style=\"text-align: right;\">\n",
       "      <th></th>\n",
       "      <th>tle</th>\n",
       "      <th>epoch_time</th>\n",
       "    </tr>\n",
       "  </thead>\n",
       "  <tbody>\n",
       "    <tr>\n",
       "      <th>0</th>\n",
       "      <td>[1 25544U 98067A   98324.28472222 -.00003657  ...</td>\n",
       "      <td>1998-11-20 06:49:59.999817+00:00</td>\n",
       "    </tr>\n",
       "    <tr>\n",
       "      <th>1</th>\n",
       "      <td>[1 25544U 98067A   98324.33235038  .11839616  ...</td>\n",
       "      <td>1998-11-20 07:58:35.072815+00:00</td>\n",
       "    </tr>\n",
       "    <tr>\n",
       "      <th>2</th>\n",
       "      <td>[1 25544U 98067A   98324.45674522 -.00043259  ...</td>\n",
       "      <td>1998-11-20 10:57:42.786987+00:00</td>\n",
       "    </tr>\n",
       "    <tr>\n",
       "      <th>3</th>\n",
       "      <td>[1 25544U 98067A   98324.51913017  .00713053  ...</td>\n",
       "      <td>1998-11-20 12:27:32.846680+00:00</td>\n",
       "    </tr>\n",
       "    <tr>\n",
       "      <th>4</th>\n",
       "      <td>[1 25544U 98067A   98324.58140904  .00632617  ...</td>\n",
       "      <td>1998-11-20 13:57:13.741058+00:00</td>\n",
       "    </tr>\n",
       "  </tbody>\n",
       "</table>\n",
       "</div>"
      ],
      "text/plain": [
       "                                                 tle  \\\n",
       "0  [1 25544U 98067A   98324.28472222 -.00003657  ...   \n",
       "1  [1 25544U 98067A   98324.33235038  .11839616  ...   \n",
       "2  [1 25544U 98067A   98324.45674522 -.00043259  ...   \n",
       "3  [1 25544U 98067A   98324.51913017  .00713053  ...   \n",
       "4  [1 25544U 98067A   98324.58140904  .00632617  ...   \n",
       "\n",
       "                        epoch_time  \n",
       "0 1998-11-20 06:49:59.999817+00:00  \n",
       "1 1998-11-20 07:58:35.072815+00:00  \n",
       "2 1998-11-20 10:57:42.786987+00:00  \n",
       "3 1998-11-20 12:27:32.846680+00:00  \n",
       "4 1998-11-20 13:57:13.741058+00:00  "
      ]
     },
     "execution_count": 205,
     "metadata": {},
     "output_type": "execute_result"
    }
   ],
   "source": [
    "# # lets create a column with the times\n",
    "# df_zarya['epoch_time'] = df_zarya.apply(lambda row: get_time_epoch(row ['tle']), axis=1)\n",
    "# df_zarya.head()"
   ]
  },
  {
   "cell_type": "code",
   "execution_count": 206,
   "metadata": {},
   "outputs": [
    {
     "data": {
      "text/html": [
       "<div>\n",
       "<style scoped>\n",
       "    .dataframe tbody tr th:only-of-type {\n",
       "        vertical-align: middle;\n",
       "    }\n",
       "\n",
       "    .dataframe tbody tr th {\n",
       "        vertical-align: top;\n",
       "    }\n",
       "\n",
       "    .dataframe thead th {\n",
       "        text-align: right;\n",
       "    }\n",
       "</style>\n",
       "<table border=\"1\" class=\"dataframe\">\n",
       "  <thead>\n",
       "    <tr style=\"text-align: right;\">\n",
       "      <th></th>\n",
       "      <th>tle</th>\n",
       "      <th>epoch_time</th>\n",
       "      <th>date</th>\n",
       "    </tr>\n",
       "  </thead>\n",
       "  <tbody>\n",
       "    <tr>\n",
       "      <th>0</th>\n",
       "      <td>[1 25544U 98067A   98324.28472222 -.00003657  ...</td>\n",
       "      <td>1998-11-20 06:49:59.999817+00:00</td>\n",
       "      <td>1998-11-20</td>\n",
       "    </tr>\n",
       "    <tr>\n",
       "      <th>1</th>\n",
       "      <td>[1 25544U 98067A   98324.33235038  .11839616  ...</td>\n",
       "      <td>1998-11-20 07:58:35.072815+00:00</td>\n",
       "      <td>1998-11-20</td>\n",
       "    </tr>\n",
       "    <tr>\n",
       "      <th>2</th>\n",
       "      <td>[1 25544U 98067A   98324.45674522 -.00043259  ...</td>\n",
       "      <td>1998-11-20 10:57:42.786987+00:00</td>\n",
       "      <td>1998-11-20</td>\n",
       "    </tr>\n",
       "    <tr>\n",
       "      <th>3</th>\n",
       "      <td>[1 25544U 98067A   98324.51913017  .00713053  ...</td>\n",
       "      <td>1998-11-20 12:27:32.846680+00:00</td>\n",
       "      <td>1998-11-20</td>\n",
       "    </tr>\n",
       "    <tr>\n",
       "      <th>4</th>\n",
       "      <td>[1 25544U 98067A   98324.58140904  .00632617  ...</td>\n",
       "      <td>1998-11-20 13:57:13.741058+00:00</td>\n",
       "      <td>1998-11-20</td>\n",
       "    </tr>\n",
       "  </tbody>\n",
       "</table>\n",
       "</div>"
      ],
      "text/plain": [
       "                                                 tle  \\\n",
       "0  [1 25544U 98067A   98324.28472222 -.00003657  ...   \n",
       "1  [1 25544U 98067A   98324.33235038  .11839616  ...   \n",
       "2  [1 25544U 98067A   98324.45674522 -.00043259  ...   \n",
       "3  [1 25544U 98067A   98324.51913017  .00713053  ...   \n",
       "4  [1 25544U 98067A   98324.58140904  .00632617  ...   \n",
       "\n",
       "                        epoch_time        date  \n",
       "0 1998-11-20 06:49:59.999817+00:00  1998-11-20  \n",
       "1 1998-11-20 07:58:35.072815+00:00  1998-11-20  \n",
       "2 1998-11-20 10:57:42.786987+00:00  1998-11-20  \n",
       "3 1998-11-20 12:27:32.846680+00:00  1998-11-20  \n",
       "4 1998-11-20 13:57:13.741058+00:00  1998-11-20  "
      ]
     },
     "execution_count": 206,
     "metadata": {},
     "output_type": "execute_result"
    }
   ],
   "source": [
    "# # lets get the date from the times\n",
    "# df_zarya['date'] = df_zarya.apply(lambda row: row['epoch_time'].date(), axis=1)\n",
    "# df_zarya.head()"
   ]
  },
  {
   "cell_type": "code",
   "execution_count": 207,
   "metadata": {},
   "outputs": [
    {
     "name": "stdout",
     "output_type": "stream",
     "text": [
      "<class 'pandas.core.frame.DataFrame'>\n",
      "Int64Index: 8399 entries, 6 to 41844\n",
      "Data columns (total 3 columns):\n",
      " #   Column      Non-Null Count  Dtype              \n",
      "---  ------      --------------  -----              \n",
      " 0   tle         8399 non-null   object             \n",
      " 1   epoch_time  8399 non-null   datetime64[ns, UTC]\n",
      " 2   date        8399 non-null   object             \n",
      "dtypes: datetime64[ns, UTC](1), object(2)\n",
      "memory usage: 262.5+ KB\n"
     ]
    }
   ],
   "source": [
    "# here, we are dropping the duplicate dates and only keeping the last one\n",
    "# the reason is, the dates can be used to estimate the epochs nearby,\n",
    "# we are assuming the last one is the most accurate\n",
    "# furthermore, it would be expensive to try to match, each instance with the epochs and find the closest one\n",
    "# by limiting to one per day, we'll speed this up\n",
    "# df_zarya.drop_duplicates(subset='date', keep='last', inplace=True)\n",
    "# df_zarya.info()"
   ]
  },
  {
   "cell_type": "code",
   "execution_count": 208,
   "metadata": {},
   "outputs": [],
   "source": [
    "# # lets get the time of the first epoch\n",
    "# first_epoch = df_zarya['epoch_time'].to_list()\n",
    "# first_epoch = first_epoch[0]"
   ]
  },
  {
   "cell_type": "code",
   "execution_count": 209,
   "metadata": {},
   "outputs": [
    {
     "data": {
      "text/html": [
       "<div>\n",
       "<style scoped>\n",
       "    .dataframe tbody tr th:only-of-type {\n",
       "        vertical-align: middle;\n",
       "    }\n",
       "\n",
       "    .dataframe tbody tr th {\n",
       "        vertical-align: top;\n",
       "    }\n",
       "\n",
       "    .dataframe thead th {\n",
       "        text-align: right;\n",
       "    }\n",
       "</style>\n",
       "<table border=\"1\" class=\"dataframe\">\n",
       "  <thead>\n",
       "    <tr style=\"text-align: right;\">\n",
       "      <th></th>\n",
       "      <th>Text_ID</th>\n",
       "      <th>city</th>\n",
       "      <th>state</th>\n",
       "      <th>date_time</th>\n",
       "      <th>stats</th>\n",
       "      <th>city_latitude</th>\n",
       "      <th>city_longitude</th>\n",
       "      <th>Reported_stats</th>\n",
       "      <th>city_state</th>\n",
       "      <th>coord</th>\n",
       "      <th>date_time_2</th>\n",
       "      <th>time_difference</th>\n",
       "      <th>reporting_lag</th>\n",
       "      <th>timezone</th>\n",
       "      <th>utc</th>\n",
       "    </tr>\n",
       "  </thead>\n",
       "  <tbody>\n",
       "    <tr>\n",
       "      <th>58577</th>\n",
       "      <td>58578.0</td>\n",
       "      <td>Dillsburg</td>\n",
       "      <td>PA</td>\n",
       "      <td>1998-11-20T20:00:00</td>\n",
       "      <td>[Occurred : 11/20/1998 20:00  (Entered as : 11...</td>\n",
       "      <td>40.081100</td>\n",
       "      <td>-77.031400</td>\n",
       "      <td>2014-08-28 14:59:20</td>\n",
       "      <td>(Dillsburg, PA)</td>\n",
       "      <td>(40.0811, -77.0314)</td>\n",
       "      <td>1998-11-20 20:00:00</td>\n",
       "      <td>5759 days 18:59:20</td>\n",
       "      <td>years</td>\n",
       "      <td>America/New_York</td>\n",
       "      <td>1998-11-21 01:00:00+00:00</td>\n",
       "    </tr>\n",
       "    <tr>\n",
       "      <th>81934</th>\n",
       "      <td>81935.0</td>\n",
       "      <td>Point Pleasant</td>\n",
       "      <td>WV</td>\n",
       "      <td>1998-11-24T16:00:00</td>\n",
       "      <td>[Occurred : 11/24/1998 16:00  (Entered as : 11...</td>\n",
       "      <td>38.861900</td>\n",
       "      <td>-82.073000</td>\n",
       "      <td>2018-08-20 18:54:19</td>\n",
       "      <td>(Point Pleasant, WV)</td>\n",
       "      <td>(38.8619, -82.073)</td>\n",
       "      <td>1998-11-24 16:00:00</td>\n",
       "      <td>7209 days 02:54:19</td>\n",
       "      <td>years</td>\n",
       "      <td>America/New_York</td>\n",
       "      <td>1998-11-24 21:00:00+00:00</td>\n",
       "    </tr>\n",
       "    <tr>\n",
       "      <th>5538</th>\n",
       "      <td>5539.0</td>\n",
       "      <td>Waterford</td>\n",
       "      <td>WI</td>\n",
       "      <td>1998-12-15T00:00:00</td>\n",
       "      <td>[Occurred : 12/15/1998 00:00  (Entered as : 00...</td>\n",
       "      <td>42.787000</td>\n",
       "      <td>-88.209100</td>\n",
       "      <td>2007-06-26 17:12:52</td>\n",
       "      <td>(Waterford, WI)</td>\n",
       "      <td>(42.787, -88.2091)</td>\n",
       "      <td>1998-12-15 00:00:00</td>\n",
       "      <td>3115 days 17:12:52</td>\n",
       "      <td>years</td>\n",
       "      <td>America/Chicago</td>\n",
       "      <td>1998-12-15 06:00:00+00:00</td>\n",
       "    </tr>\n",
       "    <tr>\n",
       "      <th>15667</th>\n",
       "      <td>15668.0</td>\n",
       "      <td>Fairbanks</td>\n",
       "      <td>AK</td>\n",
       "      <td>1998-12-15T20:00:00</td>\n",
       "      <td>[Occurred : 12/15/1998 20:00  (Entered as : 98...</td>\n",
       "      <td>64.845276</td>\n",
       "      <td>-147.834739</td>\n",
       "      <td>2009-09-05 23:35:51</td>\n",
       "      <td>(Fairbanks, AK)</td>\n",
       "      <td>(64.84527636, -147.8347388)</td>\n",
       "      <td>1998-12-15 20:00:00</td>\n",
       "      <td>3917 days 03:35:51</td>\n",
       "      <td>years</td>\n",
       "      <td>America/Anchorage</td>\n",
       "      <td>1998-12-16 05:00:00+00:00</td>\n",
       "    </tr>\n",
       "    <tr>\n",
       "      <th>306</th>\n",
       "      <td>307.0</td>\n",
       "      <td>Boca Grande</td>\n",
       "      <td>FL</td>\n",
       "      <td>1998-12-18T22:00:00</td>\n",
       "      <td>[Occurred : 12/18/1998 22:00  (Entered as : 12...</td>\n",
       "      <td>26.764100</td>\n",
       "      <td>-82.264300</td>\n",
       "      <td>2006-03-17 19:29:11</td>\n",
       "      <td>(Boca Grande, FL)</td>\n",
       "      <td>(26.7641, -82.2643)</td>\n",
       "      <td>1998-12-18 22:00:00</td>\n",
       "      <td>2645 days 21:29:11</td>\n",
       "      <td>years</td>\n",
       "      <td>America/New_York</td>\n",
       "      <td>1998-12-19 03:00:00+00:00</td>\n",
       "    </tr>\n",
       "    <tr>\n",
       "      <th>...</th>\n",
       "      <td>...</td>\n",
       "      <td>...</td>\n",
       "      <td>...</td>\n",
       "      <td>...</td>\n",
       "      <td>...</td>\n",
       "      <td>...</td>\n",
       "      <td>...</td>\n",
       "      <td>...</td>\n",
       "      <td>...</td>\n",
       "      <td>...</td>\n",
       "      <td>...</td>\n",
       "      <td>...</td>\n",
       "      <td>...</td>\n",
       "      <td>...</td>\n",
       "      <td>...</td>\n",
       "    </tr>\n",
       "    <tr>\n",
       "      <th>3899</th>\n",
       "      <td>3900.0</td>\n",
       "      <td>Salinas</td>\n",
       "      <td>CA</td>\n",
       "      <td>2019-12-22T18:00:00</td>\n",
       "      <td>[Occurred : 12/22/2019 18:00  (Entered as : 12...</td>\n",
       "      <td>36.688525</td>\n",
       "      <td>-121.628455</td>\n",
       "      <td>2007-09-02 23:30:25</td>\n",
       "      <td>(Salinas, CA)</td>\n",
       "      <td>(36.68852458, -121.6284548)</td>\n",
       "      <td>2019-12-22 18:00:00</td>\n",
       "      <td>4493 days 18:29:35</td>\n",
       "      <td>years</td>\n",
       "      <td>America/Los_Angeles</td>\n",
       "      <td>2019-12-23 02:00:00+00:00</td>\n",
       "    </tr>\n",
       "    <tr>\n",
       "      <th>3900</th>\n",
       "      <td>3901.0</td>\n",
       "      <td>Castro Valley</td>\n",
       "      <td>CA</td>\n",
       "      <td>2019-12-22T18:10:00</td>\n",
       "      <td>[Occurred : 12/22/2019 18:10  (Entered as : 12...</td>\n",
       "      <td>37.705756</td>\n",
       "      <td>-122.069713</td>\n",
       "      <td>2007-08-19 13:25:49</td>\n",
       "      <td>(Castro Valley, CA)</td>\n",
       "      <td>(37.70575633, -122.0697127)</td>\n",
       "      <td>2019-12-22 18:10:00</td>\n",
       "      <td>4508 days 04:44:11</td>\n",
       "      <td>years</td>\n",
       "      <td>America/Los_Angeles</td>\n",
       "      <td>2019-12-23 02:10:00+00:00</td>\n",
       "    </tr>\n",
       "    <tr>\n",
       "      <th>3940</th>\n",
       "      <td>3941.0</td>\n",
       "      <td>Kennett Square</td>\n",
       "      <td>PA</td>\n",
       "      <td>2019-12-22T22:15:00</td>\n",
       "      <td>[Occurred : 12/22/2019 22:15  (Entered as : 12...</td>\n",
       "      <td>39.846800</td>\n",
       "      <td>-75.711600</td>\n",
       "      <td>2006-08-03 13:54:48</td>\n",
       "      <td>(Kennett Square, PA)</td>\n",
       "      <td>(39.8468, -75.7116)</td>\n",
       "      <td>2019-12-22 22:15:00</td>\n",
       "      <td>4889 days 08:20:12</td>\n",
       "      <td>years</td>\n",
       "      <td>America/New_York</td>\n",
       "      <td>2019-12-23 03:15:00+00:00</td>\n",
       "    </tr>\n",
       "    <tr>\n",
       "      <th>3941</th>\n",
       "      <td>3942.0</td>\n",
       "      <td>Clarkston</td>\n",
       "      <td>MI</td>\n",
       "      <td>2019-12-22T23:00:00</td>\n",
       "      <td>[Occurred : 12/22/2019 23:00  (Entered as : 12...</td>\n",
       "      <td>42.739865</td>\n",
       "      <td>-83.417150</td>\n",
       "      <td>2006-08-11 12:30:29</td>\n",
       "      <td>(Clarkston, MI)</td>\n",
       "      <td>(42.73986514, -83.41715029)</td>\n",
       "      <td>2019-12-22 23:00:00</td>\n",
       "      <td>4881 days 10:29:31</td>\n",
       "      <td>years</td>\n",
       "      <td>America/Detroit</td>\n",
       "      <td>2019-12-23 04:00:00+00:00</td>\n",
       "    </tr>\n",
       "    <tr>\n",
       "      <th>85713</th>\n",
       "      <td>85714.0</td>\n",
       "      <td>Wilmington</td>\n",
       "      <td>NC</td>\n",
       "      <td>2019-12-29T20:40:00</td>\n",
       "      <td>[Occurred : 11/29/2019 20:40  (Entered as : 12...</td>\n",
       "      <td>34.238375</td>\n",
       "      <td>-77.878468</td>\n",
       "      <td>2019-11-18 16:21:49</td>\n",
       "      <td>(Wilmington, NC)</td>\n",
       "      <td>(34.23837495, -77.87846769)</td>\n",
       "      <td>2019-12-29 20:40:00</td>\n",
       "      <td>41 days 04:18:11</td>\n",
       "      <td>months</td>\n",
       "      <td>America/New_York</td>\n",
       "      <td>2019-12-30 01:40:00+00:00</td>\n",
       "    </tr>\n",
       "  </tbody>\n",
       "</table>\n",
       "<p>65865 rows × 15 columns</p>\n",
       "</div>"
      ],
      "text/plain": [
       "       Text_ID            city state            date_time  \\\n",
       "58577  58578.0       Dillsburg    PA  1998-11-20T20:00:00   \n",
       "81934  81935.0  Point Pleasant    WV  1998-11-24T16:00:00   \n",
       "5538    5539.0       Waterford    WI  1998-12-15T00:00:00   \n",
       "15667  15668.0       Fairbanks    AK  1998-12-15T20:00:00   \n",
       "306      307.0     Boca Grande    FL  1998-12-18T22:00:00   \n",
       "...        ...             ...   ...                  ...   \n",
       "3899    3900.0         Salinas    CA  2019-12-22T18:00:00   \n",
       "3900    3901.0   Castro Valley    CA  2019-12-22T18:10:00   \n",
       "3940    3941.0  Kennett Square    PA  2019-12-22T22:15:00   \n",
       "3941    3942.0       Clarkston    MI  2019-12-22T23:00:00   \n",
       "85713  85714.0      Wilmington    NC  2019-12-29T20:40:00   \n",
       "\n",
       "                                                   stats  city_latitude  \\\n",
       "58577  [Occurred : 11/20/1998 20:00  (Entered as : 11...      40.081100   \n",
       "81934  [Occurred : 11/24/1998 16:00  (Entered as : 11...      38.861900   \n",
       "5538   [Occurred : 12/15/1998 00:00  (Entered as : 00...      42.787000   \n",
       "15667  [Occurred : 12/15/1998 20:00  (Entered as : 98...      64.845276   \n",
       "306    [Occurred : 12/18/1998 22:00  (Entered as : 12...      26.764100   \n",
       "...                                                  ...            ...   \n",
       "3899   [Occurred : 12/22/2019 18:00  (Entered as : 12...      36.688525   \n",
       "3900   [Occurred : 12/22/2019 18:10  (Entered as : 12...      37.705756   \n",
       "3940   [Occurred : 12/22/2019 22:15  (Entered as : 12...      39.846800   \n",
       "3941   [Occurred : 12/22/2019 23:00  (Entered as : 12...      42.739865   \n",
       "85713  [Occurred : 11/29/2019 20:40  (Entered as : 12...      34.238375   \n",
       "\n",
       "       city_longitude       Reported_stats            city_state  \\\n",
       "58577      -77.031400  2014-08-28 14:59:20       (Dillsburg, PA)   \n",
       "81934      -82.073000  2018-08-20 18:54:19  (Point Pleasant, WV)   \n",
       "5538       -88.209100  2007-06-26 17:12:52       (Waterford, WI)   \n",
       "15667     -147.834739  2009-09-05 23:35:51       (Fairbanks, AK)   \n",
       "306        -82.264300  2006-03-17 19:29:11     (Boca Grande, FL)   \n",
       "...               ...                  ...                   ...   \n",
       "3899      -121.628455  2007-09-02 23:30:25         (Salinas, CA)   \n",
       "3900      -122.069713  2007-08-19 13:25:49   (Castro Valley, CA)   \n",
       "3940       -75.711600  2006-08-03 13:54:48  (Kennett Square, PA)   \n",
       "3941       -83.417150  2006-08-11 12:30:29       (Clarkston, MI)   \n",
       "85713      -77.878468  2019-11-18 16:21:49      (Wilmington, NC)   \n",
       "\n",
       "                             coord         date_time_2    time_difference  \\\n",
       "58577          (40.0811, -77.0314) 1998-11-20 20:00:00 5759 days 18:59:20   \n",
       "81934           (38.8619, -82.073) 1998-11-24 16:00:00 7209 days 02:54:19   \n",
       "5538            (42.787, -88.2091) 1998-12-15 00:00:00 3115 days 17:12:52   \n",
       "15667  (64.84527636, -147.8347388) 1998-12-15 20:00:00 3917 days 03:35:51   \n",
       "306            (26.7641, -82.2643) 1998-12-18 22:00:00 2645 days 21:29:11   \n",
       "...                            ...                 ...                ...   \n",
       "3899   (36.68852458, -121.6284548) 2019-12-22 18:00:00 4493 days 18:29:35   \n",
       "3900   (37.70575633, -122.0697127) 2019-12-22 18:10:00 4508 days 04:44:11   \n",
       "3940           (39.8468, -75.7116) 2019-12-22 22:15:00 4889 days 08:20:12   \n",
       "3941   (42.73986514, -83.41715029) 2019-12-22 23:00:00 4881 days 10:29:31   \n",
       "85713  (34.23837495, -77.87846769) 2019-12-29 20:40:00   41 days 04:18:11   \n",
       "\n",
       "      reporting_lag             timezone                       utc  \n",
       "58577         years     America/New_York 1998-11-21 01:00:00+00:00  \n",
       "81934         years     America/New_York 1998-11-24 21:00:00+00:00  \n",
       "5538          years      America/Chicago 1998-12-15 06:00:00+00:00  \n",
       "15667         years    America/Anchorage 1998-12-16 05:00:00+00:00  \n",
       "306           years     America/New_York 1998-12-19 03:00:00+00:00  \n",
       "...             ...                  ...                       ...  \n",
       "3899          years  America/Los_Angeles 2019-12-23 02:00:00+00:00  \n",
       "3900          years  America/Los_Angeles 2019-12-23 02:10:00+00:00  \n",
       "3940          years     America/New_York 2019-12-23 03:15:00+00:00  \n",
       "3941          years      America/Detroit 2019-12-23 04:00:00+00:00  \n",
       "85713        months     America/New_York 2019-12-30 01:40:00+00:00  \n",
       "\n",
       "[65865 rows x 15 columns]"
      ]
     },
     "execution_count": 209,
     "metadata": {},
     "output_type": "execute_result"
    }
   ],
   "source": [
    "# # now the iss information really doesn't help for instances where the\n",
    "# df_iss = df_iss[df_iss['utc'] > first_epoch]\n",
    "# df_iss.sort_values(by='utc')"
   ]
  },
  {
   "cell_type": "code",
   "execution_count": 210,
   "metadata": {},
   "outputs": [
    {
     "data": {
      "text/html": [
       "<div>\n",
       "<style scoped>\n",
       "    .dataframe tbody tr th:only-of-type {\n",
       "        vertical-align: middle;\n",
       "    }\n",
       "\n",
       "    .dataframe tbody tr th {\n",
       "        vertical-align: top;\n",
       "    }\n",
       "\n",
       "    .dataframe thead th {\n",
       "        text-align: right;\n",
       "    }\n",
       "</style>\n",
       "<table border=\"1\" class=\"dataframe\">\n",
       "  <thead>\n",
       "    <tr style=\"text-align: right;\">\n",
       "      <th></th>\n",
       "      <th>Text_ID</th>\n",
       "      <th>city</th>\n",
       "      <th>state</th>\n",
       "      <th>date_time</th>\n",
       "      <th>stats</th>\n",
       "      <th>city_latitude</th>\n",
       "      <th>city_longitude</th>\n",
       "      <th>Reported_stats</th>\n",
       "      <th>city_state</th>\n",
       "      <th>coord</th>\n",
       "      <th>date_time_2</th>\n",
       "      <th>time_difference</th>\n",
       "      <th>reporting_lag</th>\n",
       "      <th>timezone</th>\n",
       "      <th>utc</th>\n",
       "      <th>date</th>\n",
       "    </tr>\n",
       "  </thead>\n",
       "  <tbody>\n",
       "    <tr>\n",
       "      <th>0</th>\n",
       "      <td>1.0</td>\n",
       "      <td>Chester</td>\n",
       "      <td>VA</td>\n",
       "      <td>2019-12-12T18:43:00</td>\n",
       "      <td>[Occurred : 12/12/2019 18:43  (Entered as : 12...</td>\n",
       "      <td>37.343152</td>\n",
       "      <td>-77.408582</td>\n",
       "      <td>2019-12-19 19:19:31</td>\n",
       "      <td>(Chester, VA)</td>\n",
       "      <td>(37.34315152, -77.40858182)</td>\n",
       "      <td>2019-12-12 18:43:00</td>\n",
       "      <td>7 days 00:36:31</td>\n",
       "      <td>weeks</td>\n",
       "      <td>America/New_York</td>\n",
       "      <td>2019-12-12 23:43:00+00:00</td>\n",
       "      <td>2019-12-12</td>\n",
       "    </tr>\n",
       "    <tr>\n",
       "      <th>1</th>\n",
       "      <td>2.0</td>\n",
       "      <td>Rocky Hill</td>\n",
       "      <td>CT</td>\n",
       "      <td>2019-03-22T18:30:00</td>\n",
       "      <td>[Occurred : 3/22/2019 18:30  (Entered as : 03/...</td>\n",
       "      <td>41.664800</td>\n",
       "      <td>-72.639300</td>\n",
       "      <td>2019-03-27 16:10:19</td>\n",
       "      <td>(Rocky Hill, CT)</td>\n",
       "      <td>(41.6648, -72.6393)</td>\n",
       "      <td>2019-03-22 18:30:00</td>\n",
       "      <td>4 days 21:40:19</td>\n",
       "      <td>days</td>\n",
       "      <td>America/New_York</td>\n",
       "      <td>2019-03-22 22:30:00+00:00</td>\n",
       "      <td>2019-03-22</td>\n",
       "    </tr>\n",
       "    <tr>\n",
       "      <th>3</th>\n",
       "      <td>4.0</td>\n",
       "      <td>Ottawa</td>\n",
       "      <td>ON</td>\n",
       "      <td>2019-04-17T02:00:00</td>\n",
       "      <td>[Occurred : 4/17/2019 02:00  (Entered as : 04-...</td>\n",
       "      <td>45.381383</td>\n",
       "      <td>-75.708501</td>\n",
       "      <td>2019-04-17 08:41:25</td>\n",
       "      <td>(Ottawa, ON)</td>\n",
       "      <td>(45.3813825, -75.70850071)</td>\n",
       "      <td>2019-04-17 02:00:00</td>\n",
       "      <td>0 days 06:41:25</td>\n",
       "      <td>hours</td>\n",
       "      <td>America/Toronto</td>\n",
       "      <td>2019-04-17 06:00:00+00:00</td>\n",
       "      <td>2019-04-17</td>\n",
       "    </tr>\n",
       "    <tr>\n",
       "      <th>5</th>\n",
       "      <td>6.0</td>\n",
       "      <td>Kirbyville</td>\n",
       "      <td>TX</td>\n",
       "      <td>2019-04-02T20:25:00</td>\n",
       "      <td>[Occurred : 4/2/2019 20:25  (Entered as : 04/0...</td>\n",
       "      <td>30.677200</td>\n",
       "      <td>-94.005200</td>\n",
       "      <td>2019-04-03 18:36:52</td>\n",
       "      <td>(Kirbyville, TX)</td>\n",
       "      <td>(30.6772, -94.0052)</td>\n",
       "      <td>2019-04-02 20:25:00</td>\n",
       "      <td>0 days 22:11:52</td>\n",
       "      <td>hours</td>\n",
       "      <td>America/Chicago</td>\n",
       "      <td>2019-04-03 01:25:00+00:00</td>\n",
       "      <td>2019-04-03</td>\n",
       "    </tr>\n",
       "    <tr>\n",
       "      <th>6</th>\n",
       "      <td>7.0</td>\n",
       "      <td>Tucson</td>\n",
       "      <td>AZ</td>\n",
       "      <td>2019-05-01T11:00:00</td>\n",
       "      <td>[Occurred : 5/1/2019 11:00  (Entered as : 5/1/...</td>\n",
       "      <td>32.259941</td>\n",
       "      <td>-110.927542</td>\n",
       "      <td>2019-05-01 11:26:56</td>\n",
       "      <td>(Tucson, AZ)</td>\n",
       "      <td>(32.25994076, -110.9275423)</td>\n",
       "      <td>2019-05-01 11:00:00</td>\n",
       "      <td>0 days 00:26:56</td>\n",
       "      <td>hours</td>\n",
       "      <td>America/Phoenix</td>\n",
       "      <td>2019-05-01 18:00:00+00:00</td>\n",
       "      <td>2019-05-01</td>\n",
       "    </tr>\n",
       "  </tbody>\n",
       "</table>\n",
       "</div>"
      ],
      "text/plain": [
       "   Text_ID        city state            date_time  \\\n",
       "0      1.0     Chester    VA  2019-12-12T18:43:00   \n",
       "1      2.0  Rocky Hill    CT  2019-03-22T18:30:00   \n",
       "3      4.0      Ottawa    ON  2019-04-17T02:00:00   \n",
       "5      6.0  Kirbyville    TX  2019-04-02T20:25:00   \n",
       "6      7.0      Tucson    AZ  2019-05-01T11:00:00   \n",
       "\n",
       "                                               stats  city_latitude  \\\n",
       "0  [Occurred : 12/12/2019 18:43  (Entered as : 12...      37.343152   \n",
       "1  [Occurred : 3/22/2019 18:30  (Entered as : 03/...      41.664800   \n",
       "3  [Occurred : 4/17/2019 02:00  (Entered as : 04-...      45.381383   \n",
       "5  [Occurred : 4/2/2019 20:25  (Entered as : 04/0...      30.677200   \n",
       "6  [Occurred : 5/1/2019 11:00  (Entered as : 5/1/...      32.259941   \n",
       "\n",
       "   city_longitude       Reported_stats        city_state  \\\n",
       "0      -77.408582  2019-12-19 19:19:31     (Chester, VA)   \n",
       "1      -72.639300  2019-03-27 16:10:19  (Rocky Hill, CT)   \n",
       "3      -75.708501  2019-04-17 08:41:25      (Ottawa, ON)   \n",
       "5      -94.005200  2019-04-03 18:36:52  (Kirbyville, TX)   \n",
       "6     -110.927542  2019-05-01 11:26:56      (Tucson, AZ)   \n",
       "\n",
       "                         coord         date_time_2 time_difference  \\\n",
       "0  (37.34315152, -77.40858182) 2019-12-12 18:43:00 7 days 00:36:31   \n",
       "1          (41.6648, -72.6393) 2019-03-22 18:30:00 4 days 21:40:19   \n",
       "3   (45.3813825, -75.70850071) 2019-04-17 02:00:00 0 days 06:41:25   \n",
       "5          (30.6772, -94.0052) 2019-04-02 20:25:00 0 days 22:11:52   \n",
       "6  (32.25994076, -110.9275423) 2019-05-01 11:00:00 0 days 00:26:56   \n",
       "\n",
       "  reporting_lag          timezone                       utc        date  \n",
       "0         weeks  America/New_York 2019-12-12 23:43:00+00:00  2019-12-12  \n",
       "1          days  America/New_York 2019-03-22 22:30:00+00:00  2019-03-22  \n",
       "3         hours   America/Toronto 2019-04-17 06:00:00+00:00  2019-04-17  \n",
       "5         hours   America/Chicago 2019-04-03 01:25:00+00:00  2019-04-03  \n",
       "6         hours   America/Phoenix 2019-05-01 18:00:00+00:00  2019-05-01  "
      ]
     },
     "execution_count": 210,
     "metadata": {},
     "output_type": "execute_result"
    }
   ],
   "source": [
    "# # lets get the date info here, we can then use this to join our data\n",
    "# df_iss['date'] = df_iss.apply(lambda row: row['utc'].date(), axis=1)\n",
    "# df_iss.head()"
   ]
  },
  {
   "cell_type": "code",
   "execution_count": 211,
   "metadata": {
    "scrolled": true
   },
   "outputs": [
    {
     "data": {
      "text/html": [
       "<div>\n",
       "<style scoped>\n",
       "    .dataframe tbody tr th:only-of-type {\n",
       "        vertical-align: middle;\n",
       "    }\n",
       "\n",
       "    .dataframe tbody tr th {\n",
       "        vertical-align: top;\n",
       "    }\n",
       "\n",
       "    .dataframe thead th {\n",
       "        text-align: right;\n",
       "    }\n",
       "</style>\n",
       "<table border=\"1\" class=\"dataframe\">\n",
       "  <thead>\n",
       "    <tr style=\"text-align: right;\">\n",
       "      <th></th>\n",
       "      <th>Text_ID</th>\n",
       "      <th>city</th>\n",
       "      <th>state</th>\n",
       "      <th>date_time</th>\n",
       "      <th>stats</th>\n",
       "      <th>city_latitude</th>\n",
       "      <th>city_longitude</th>\n",
       "      <th>Reported_stats</th>\n",
       "      <th>city_state</th>\n",
       "      <th>coord</th>\n",
       "      <th>date_time_2</th>\n",
       "      <th>time_difference</th>\n",
       "      <th>reporting_lag</th>\n",
       "      <th>timezone</th>\n",
       "      <th>utc</th>\n",
       "      <th>date</th>\n",
       "      <th>tle</th>\n",
       "      <th>epoch_time</th>\n",
       "    </tr>\n",
       "  </thead>\n",
       "  <tbody>\n",
       "    <tr>\n",
       "      <th>0</th>\n",
       "      <td>1.0</td>\n",
       "      <td>Chester</td>\n",
       "      <td>VA</td>\n",
       "      <td>2019-12-12T18:43:00</td>\n",
       "      <td>[Occurred : 12/12/2019 18:43  (Entered as : 12...</td>\n",
       "      <td>37.343152</td>\n",
       "      <td>-77.408582</td>\n",
       "      <td>2019-12-19 19:19:31</td>\n",
       "      <td>(Chester, VA)</td>\n",
       "      <td>(37.34315152, -77.40858182)</td>\n",
       "      <td>2019-12-12 18:43:00</td>\n",
       "      <td>7 days 00:36:31</td>\n",
       "      <td>weeks</td>\n",
       "      <td>America/New_York</td>\n",
       "      <td>2019-12-12 23:43:00+00:00</td>\n",
       "      <td>2019-12-12</td>\n",
       "      <td>[1 25544U 98067A   19346.93506944 -.00000088  ...</td>\n",
       "      <td>2019-12-12 22:26:29.999603+00:00</td>\n",
       "    </tr>\n",
       "    <tr>\n",
       "      <th>1</th>\n",
       "      <td>3824.0</td>\n",
       "      <td>Waldorf</td>\n",
       "      <td>MD</td>\n",
       "      <td>2019-12-12T18:30:00</td>\n",
       "      <td>[Occurred : 12/12/2019 18:30  (Entered as : 12...</td>\n",
       "      <td>38.611997</td>\n",
       "      <td>-76.906551</td>\n",
       "      <td>2019-12-21 18:11:11</td>\n",
       "      <td>(Waldorf, MD)</td>\n",
       "      <td>(38.61199693, -76.90655119)</td>\n",
       "      <td>2019-12-12 18:30:00</td>\n",
       "      <td>8 days 23:41:11</td>\n",
       "      <td>weeks</td>\n",
       "      <td>America/New_York</td>\n",
       "      <td>2019-12-12 23:30:00+00:00</td>\n",
       "      <td>2019-12-12</td>\n",
       "      <td>[1 25544U 98067A   19346.93506944 -.00000088  ...</td>\n",
       "      <td>2019-12-12 22:26:29.999603+00:00</td>\n",
       "    </tr>\n",
       "    <tr>\n",
       "      <th>2</th>\n",
       "      <td>2.0</td>\n",
       "      <td>Rocky Hill</td>\n",
       "      <td>CT</td>\n",
       "      <td>2019-03-22T18:30:00</td>\n",
       "      <td>[Occurred : 3/22/2019 18:30  (Entered as : 03/...</td>\n",
       "      <td>41.664800</td>\n",
       "      <td>-72.639300</td>\n",
       "      <td>2019-03-27 16:10:19</td>\n",
       "      <td>(Rocky Hill, CT)</td>\n",
       "      <td>(41.6648, -72.6393)</td>\n",
       "      <td>2019-03-22 18:30:00</td>\n",
       "      <td>4 days 21:40:19</td>\n",
       "      <td>days</td>\n",
       "      <td>America/New_York</td>\n",
       "      <td>2019-03-22 22:30:00+00:00</td>\n",
       "      <td>2019-03-22</td>\n",
       "      <td>[1 25544U 98067A   19081.91354657  .00001745  ...</td>\n",
       "      <td>2019-03-22 21:55:30.423645+00:00</td>\n",
       "    </tr>\n",
       "    <tr>\n",
       "      <th>3</th>\n",
       "      <td>3413.0</td>\n",
       "      <td>Windsor</td>\n",
       "      <td>CA</td>\n",
       "      <td>2019-03-21T23:00:00</td>\n",
       "      <td>[Occurred : 3/21/2019 23:00  (Entered as : 3/2...</td>\n",
       "      <td>38.536900</td>\n",
       "      <td>-122.812300</td>\n",
       "      <td>2019-03-31 08:34:56</td>\n",
       "      <td>(Windsor, CA)</td>\n",
       "      <td>(38.5369, -122.8123)</td>\n",
       "      <td>2019-03-21 23:00:00</td>\n",
       "      <td>9 days 09:34:56</td>\n",
       "      <td>weeks</td>\n",
       "      <td>America/Los_Angeles</td>\n",
       "      <td>2019-03-22 06:00:00+00:00</td>\n",
       "      <td>2019-03-22</td>\n",
       "      <td>[1 25544U 98067A   19081.91354657  .00001745  ...</td>\n",
       "      <td>2019-03-22 21:55:30.423645+00:00</td>\n",
       "    </tr>\n",
       "    <tr>\n",
       "      <th>4</th>\n",
       "      <td>3728.0</td>\n",
       "      <td>Nampa</td>\n",
       "      <td>ID</td>\n",
       "      <td>2019-03-21T19:30:00</td>\n",
       "      <td>[Occurred : 3/21/2019 19:30  (Entered as : 03/...</td>\n",
       "      <td>43.568919</td>\n",
       "      <td>-116.561976</td>\n",
       "      <td>2019-03-29 04:26:59</td>\n",
       "      <td>(Nampa, ID)</td>\n",
       "      <td>(43.56891901, -116.5619761)</td>\n",
       "      <td>2019-03-21 19:30:00</td>\n",
       "      <td>7 days 08:56:59</td>\n",
       "      <td>weeks</td>\n",
       "      <td>America/Boise</td>\n",
       "      <td>2019-03-22 01:30:00+00:00</td>\n",
       "      <td>2019-03-22</td>\n",
       "      <td>[1 25544U 98067A   19081.91354657  .00001745  ...</td>\n",
       "      <td>2019-03-22 21:55:30.423645+00:00</td>\n",
       "    </tr>\n",
       "  </tbody>\n",
       "</table>\n",
       "</div>"
      ],
      "text/plain": [
       "   Text_ID        city state            date_time  \\\n",
       "0      1.0     Chester    VA  2019-12-12T18:43:00   \n",
       "1   3824.0     Waldorf    MD  2019-12-12T18:30:00   \n",
       "2      2.0  Rocky Hill    CT  2019-03-22T18:30:00   \n",
       "3   3413.0     Windsor    CA  2019-03-21T23:00:00   \n",
       "4   3728.0       Nampa    ID  2019-03-21T19:30:00   \n",
       "\n",
       "                                               stats  city_latitude  \\\n",
       "0  [Occurred : 12/12/2019 18:43  (Entered as : 12...      37.343152   \n",
       "1  [Occurred : 12/12/2019 18:30  (Entered as : 12...      38.611997   \n",
       "2  [Occurred : 3/22/2019 18:30  (Entered as : 03/...      41.664800   \n",
       "3  [Occurred : 3/21/2019 23:00  (Entered as : 3/2...      38.536900   \n",
       "4  [Occurred : 3/21/2019 19:30  (Entered as : 03/...      43.568919   \n",
       "\n",
       "   city_longitude       Reported_stats        city_state  \\\n",
       "0      -77.408582  2019-12-19 19:19:31     (Chester, VA)   \n",
       "1      -76.906551  2019-12-21 18:11:11     (Waldorf, MD)   \n",
       "2      -72.639300  2019-03-27 16:10:19  (Rocky Hill, CT)   \n",
       "3     -122.812300  2019-03-31 08:34:56     (Windsor, CA)   \n",
       "4     -116.561976  2019-03-29 04:26:59       (Nampa, ID)   \n",
       "\n",
       "                         coord         date_time_2 time_difference  \\\n",
       "0  (37.34315152, -77.40858182) 2019-12-12 18:43:00 7 days 00:36:31   \n",
       "1  (38.61199693, -76.90655119) 2019-12-12 18:30:00 8 days 23:41:11   \n",
       "2          (41.6648, -72.6393) 2019-03-22 18:30:00 4 days 21:40:19   \n",
       "3         (38.5369, -122.8123) 2019-03-21 23:00:00 9 days 09:34:56   \n",
       "4  (43.56891901, -116.5619761) 2019-03-21 19:30:00 7 days 08:56:59   \n",
       "\n",
       "  reporting_lag             timezone                       utc        date  \\\n",
       "0         weeks     America/New_York 2019-12-12 23:43:00+00:00  2019-12-12   \n",
       "1         weeks     America/New_York 2019-12-12 23:30:00+00:00  2019-12-12   \n",
       "2          days     America/New_York 2019-03-22 22:30:00+00:00  2019-03-22   \n",
       "3         weeks  America/Los_Angeles 2019-03-22 06:00:00+00:00  2019-03-22   \n",
       "4         weeks        America/Boise 2019-03-22 01:30:00+00:00  2019-03-22   \n",
       "\n",
       "                                                 tle  \\\n",
       "0  [1 25544U 98067A   19346.93506944 -.00000088  ...   \n",
       "1  [1 25544U 98067A   19346.93506944 -.00000088  ...   \n",
       "2  [1 25544U 98067A   19081.91354657  .00001745  ...   \n",
       "3  [1 25544U 98067A   19081.91354657  .00001745  ...   \n",
       "4  [1 25544U 98067A   19081.91354657  .00001745  ...   \n",
       "\n",
       "                        epoch_time  \n",
       "0 2019-12-12 22:26:29.999603+00:00  \n",
       "1 2019-12-12 22:26:29.999603+00:00  \n",
       "2 2019-03-22 21:55:30.423645+00:00  \n",
       "3 2019-03-22 21:55:30.423645+00:00  \n",
       "4 2019-03-22 21:55:30.423645+00:00  "
      ]
     },
     "execution_count": 211,
     "metadata": {},
     "output_type": "execute_result"
    }
   ],
   "source": [
    "# # merged df\n",
    "# merged_df = pd.merge(df_iss, df_zarya, on='date')\n",
    "# merged_df.head()"
   ]
  },
  {
   "cell_type": "code",
   "execution_count": 212,
   "metadata": {},
   "outputs": [
    {
     "name": "stdout",
     "output_type": "stream",
     "text": [
      "<class 'pandas.core.frame.DataFrame'>\n",
      "Int64Index: 65698 entries, 0 to 65697\n",
      "Data columns (total 18 columns):\n",
      " #   Column           Non-Null Count  Dtype                  \n",
      "---  ------           --------------  -----                  \n",
      " 0   Text_ID          65698 non-null  float64                \n",
      " 1   city             65698 non-null  object                 \n",
      " 2   state            65698 non-null  object                 \n",
      " 3   date_time        65698 non-null  object                 \n",
      " 4   stats            65698 non-null  object                 \n",
      " 5   city_latitude    65698 non-null  float64                \n",
      " 6   city_longitude   65698 non-null  float64                \n",
      " 7   Reported_stats   65698 non-null  object                 \n",
      " 8   city_state       65698 non-null  object                 \n",
      " 9   coord            65698 non-null  object                 \n",
      " 10  date_time_2      65698 non-null  datetime64[ns]         \n",
      " 11  time_difference  65698 non-null  timedelta64[ns]        \n",
      " 12  reporting_lag    65698 non-null  category               \n",
      " 13  timezone         65698 non-null  object                 \n",
      " 14  utc              65698 non-null  datetime64[ns, tzutc()]\n",
      " 15  date             65698 non-null  object                 \n",
      " 16  tle              65698 non-null  object                 \n",
      " 17  epoch_time       65698 non-null  datetime64[ns, UTC]    \n",
      "dtypes: category(1), datetime64[ns, UTC](1), datetime64[ns, tzutc()](1), datetime64[ns](1), float64(3), object(10), timedelta64[ns](1)\n",
      "memory usage: 9.1+ MB\n"
     ]
    }
   ],
   "source": [
    "# merged_df.info()"
   ]
  },
  {
   "cell_type": "code",
   "execution_count": 213,
   "metadata": {},
   "outputs": [
    {
     "data": {
      "text/plain": [
       "['1 25544U 98067A   19346.93506944 -.00000088  00000-0  64965-5 0  9995',\n",
       " '2 25544  51.6425 195.1413 0007371  28.2970 176.8850 15.50119535202986']"
      ]
     },
     "execution_count": 213,
     "metadata": {},
     "output_type": "execute_result"
    }
   ],
   "source": [
    "# # look at tle data\n",
    "# merged_df['tle'][0]"
   ]
  },
  {
   "cell_type": "code",
   "execution_count": 214,
   "metadata": {},
   "outputs": [
    {
     "data": {
      "text/plain": [
       "Timestamp('2019-12-12 23:43:00+0000', tz='tzutc()')"
      ]
     },
     "execution_count": 214,
     "metadata": {},
     "output_type": "execute_result"
    }
   ],
   "source": [
    "# # check the time\n",
    "# merged_df['utc'][0]"
   ]
  },
  {
   "cell_type": "code",
   "execution_count": 215,
   "metadata": {},
   "outputs": [],
   "source": [
    "# # function to get us the iss coord from the tle data\n",
    "# def iss_cord(tle, utc):\n",
    "#     ts=load.timescale()\n",
    "#     line1 = tle[0]\n",
    "#     line2 = tle[1]\n",
    "#     satellite = EarthSatellite(line1, line2, 'ISS (ZARYA)', ts)\n",
    "#     t = ts.from_datetime(utc)\n",
    "#     geocentric = satellite.at(t)\n",
    "#     lat, lon = wgs84.latlon_of(geocentric)\n",
    "#     coord = ('{:.4f}'.format(lat.degrees),'{:.4f}'.format(lon.degrees))\n",
    "#     return coord\n"
   ]
  },
  {
   "cell_type": "code",
   "execution_count": 216,
   "metadata": {},
   "outputs": [
    {
     "data": {
      "text/plain": [
       "('29.0182', '-88.1384')"
      ]
     },
     "execution_count": 216,
     "metadata": {},
     "output_type": "execute_result"
    }
   ],
   "source": [
    "# #test\n",
    "# iss_cord(merged_df['tle'][0], merged_df['utc'][0])"
   ]
  },
  {
   "cell_type": "code",
   "execution_count": 217,
   "metadata": {},
   "outputs": [],
   "source": [
    "# # lets apply our function to the dataframe\n",
    "# merged_df['iss_cord'] = merged_df.apply(lambda row: iss_cord(row['tle'], row['utc']), axis=1)"
   ]
  },
  {
   "cell_type": "code",
   "execution_count": 218,
   "metadata": {},
   "outputs": [],
   "source": [
    "#merged_df['coords'] = merged_df.apply(lambda row: create_coord(row['city_latitude'], row['city_longitude']), axis=1)\n",
    "#merged_df.head()"
   ]
  },
  {
   "cell_type": "code",
   "execution_count": 219,
   "metadata": {},
   "outputs": [],
   "source": [
    "# identify if the iss is flying overhead nearby\n",
    "# here we made assumptions about 3 degrees each way\n",
    "# the reality now that we have learned more about space is that it is a little more\n",
    "# complicated than that\n",
    "# def iss_nearby(arg1, arg2):\n",
    "#     if abs(float(arg1[0]) - float(arg2[0])) <= 3:\n",
    "#         if abs(float(arg1[1]) - float(arg2[1])) <= 3:\n",
    "#             return True\n",
    "#         else:\n",
    "#             return False\n",
    "#     else:\n",
    "#         return False"
   ]
  },
  {
   "cell_type": "code",
   "execution_count": 220,
   "metadata": {},
   "outputs": [
    {
     "data": {
      "text/html": [
       "<div>\n",
       "<style scoped>\n",
       "    .dataframe tbody tr th:only-of-type {\n",
       "        vertical-align: middle;\n",
       "    }\n",
       "\n",
       "    .dataframe tbody tr th {\n",
       "        vertical-align: top;\n",
       "    }\n",
       "\n",
       "    .dataframe thead th {\n",
       "        text-align: right;\n",
       "    }\n",
       "</style>\n",
       "<table border=\"1\" class=\"dataframe\">\n",
       "  <thead>\n",
       "    <tr style=\"text-align: right;\">\n",
       "      <th></th>\n",
       "      <th>Text_ID</th>\n",
       "      <th>city</th>\n",
       "      <th>state</th>\n",
       "      <th>date_time</th>\n",
       "      <th>stats</th>\n",
       "      <th>city_latitude</th>\n",
       "      <th>city_longitude</th>\n",
       "      <th>Reported_stats</th>\n",
       "      <th>city_state</th>\n",
       "      <th>coord</th>\n",
       "      <th>date_time_2</th>\n",
       "      <th>time_difference</th>\n",
       "      <th>reporting_lag</th>\n",
       "      <th>timezone</th>\n",
       "      <th>utc</th>\n",
       "      <th>date</th>\n",
       "      <th>tle</th>\n",
       "      <th>epoch_time</th>\n",
       "      <th>iss_cord</th>\n",
       "      <th>iss_nearby</th>\n",
       "    </tr>\n",
       "  </thead>\n",
       "  <tbody>\n",
       "    <tr>\n",
       "      <th>0</th>\n",
       "      <td>1.0</td>\n",
       "      <td>Chester</td>\n",
       "      <td>VA</td>\n",
       "      <td>2019-12-12T18:43:00</td>\n",
       "      <td>[Occurred : 12/12/2019 18:43  (Entered as : 12...</td>\n",
       "      <td>37.343152</td>\n",
       "      <td>-77.408582</td>\n",
       "      <td>2019-12-19 19:19:31</td>\n",
       "      <td>(Chester, VA)</td>\n",
       "      <td>(37.34315152, -77.40858182)</td>\n",
       "      <td>2019-12-12 18:43:00</td>\n",
       "      <td>7 days 00:36:31</td>\n",
       "      <td>weeks</td>\n",
       "      <td>America/New_York</td>\n",
       "      <td>2019-12-12 23:43:00+00:00</td>\n",
       "      <td>2019-12-12</td>\n",
       "      <td>[1 25544U 98067A   19346.93506944 -.00000088  ...</td>\n",
       "      <td>2019-12-12 22:26:29.999603+00:00</td>\n",
       "      <td>(29.0182, -88.1384)</td>\n",
       "      <td>False</td>\n",
       "    </tr>\n",
       "    <tr>\n",
       "      <th>1</th>\n",
       "      <td>3824.0</td>\n",
       "      <td>Waldorf</td>\n",
       "      <td>MD</td>\n",
       "      <td>2019-12-12T18:30:00</td>\n",
       "      <td>[Occurred : 12/12/2019 18:30  (Entered as : 12...</td>\n",
       "      <td>38.611997</td>\n",
       "      <td>-76.906551</td>\n",
       "      <td>2019-12-21 18:11:11</td>\n",
       "      <td>(Waldorf, MD)</td>\n",
       "      <td>(38.61199693, -76.90655119)</td>\n",
       "      <td>2019-12-12 18:30:00</td>\n",
       "      <td>8 days 23:41:11</td>\n",
       "      <td>weeks</td>\n",
       "      <td>America/New_York</td>\n",
       "      <td>2019-12-12 23:30:00+00:00</td>\n",
       "      <td>2019-12-12</td>\n",
       "      <td>[1 25544U 98067A   19346.93506944 -.00000088  ...</td>\n",
       "      <td>2019-12-12 22:26:29.999603+00:00</td>\n",
       "      <td>(51.7733, -146.5292)</td>\n",
       "      <td>False</td>\n",
       "    </tr>\n",
       "    <tr>\n",
       "      <th>2</th>\n",
       "      <td>2.0</td>\n",
       "      <td>Rocky Hill</td>\n",
       "      <td>CT</td>\n",
       "      <td>2019-03-22T18:30:00</td>\n",
       "      <td>[Occurred : 3/22/2019 18:30  (Entered as : 03/...</td>\n",
       "      <td>41.664800</td>\n",
       "      <td>-72.639300</td>\n",
       "      <td>2019-03-27 16:10:19</td>\n",
       "      <td>(Rocky Hill, CT)</td>\n",
       "      <td>(41.6648, -72.6393)</td>\n",
       "      <td>2019-03-22 18:30:00</td>\n",
       "      <td>4 days 21:40:19</td>\n",
       "      <td>days</td>\n",
       "      <td>America/New_York</td>\n",
       "      <td>2019-03-22 22:30:00+00:00</td>\n",
       "      <td>2019-03-22</td>\n",
       "      <td>[1 25544U 98067A   19081.91354657  .00001745  ...</td>\n",
       "      <td>2019-03-22 21:55:30.423645+00:00</td>\n",
       "      <td>(-38.9642, 131.8882)</td>\n",
       "      <td>False</td>\n",
       "    </tr>\n",
       "    <tr>\n",
       "      <th>3</th>\n",
       "      <td>3413.0</td>\n",
       "      <td>Windsor</td>\n",
       "      <td>CA</td>\n",
       "      <td>2019-03-21T23:00:00</td>\n",
       "      <td>[Occurred : 3/21/2019 23:00  (Entered as : 3/2...</td>\n",
       "      <td>38.536900</td>\n",
       "      <td>-122.812300</td>\n",
       "      <td>2019-03-31 08:34:56</td>\n",
       "      <td>(Windsor, CA)</td>\n",
       "      <td>(38.5369, -122.8123)</td>\n",
       "      <td>2019-03-21 23:00:00</td>\n",
       "      <td>9 days 09:34:56</td>\n",
       "      <td>weeks</td>\n",
       "      <td>America/Los_Angeles</td>\n",
       "      <td>2019-03-22 06:00:00+00:00</td>\n",
       "      <td>2019-03-22</td>\n",
       "      <td>[1 25544U 98067A   19081.91354657  .00001745  ...</td>\n",
       "      <td>2019-03-22 21:55:30.423645+00:00</td>\n",
       "      <td>(-10.2320, 155.7894)</td>\n",
       "      <td>False</td>\n",
       "    </tr>\n",
       "    <tr>\n",
       "      <th>4</th>\n",
       "      <td>3728.0</td>\n",
       "      <td>Nampa</td>\n",
       "      <td>ID</td>\n",
       "      <td>2019-03-21T19:30:00</td>\n",
       "      <td>[Occurred : 3/21/2019 19:30  (Entered as : 03/...</td>\n",
       "      <td>43.568919</td>\n",
       "      <td>-116.561976</td>\n",
       "      <td>2019-03-29 04:26:59</td>\n",
       "      <td>(Nampa, ID)</td>\n",
       "      <td>(43.56891901, -116.5619761)</td>\n",
       "      <td>2019-03-21 19:30:00</td>\n",
       "      <td>7 days 08:56:59</td>\n",
       "      <td>weeks</td>\n",
       "      <td>America/Boise</td>\n",
       "      <td>2019-03-22 01:30:00+00:00</td>\n",
       "      <td>2019-03-22</td>\n",
       "      <td>[1 25544U 98067A   19081.91354657  .00001745  ...</td>\n",
       "      <td>2019-03-22 21:55:30.423645+00:00</td>\n",
       "      <td>(14.1956, -115.9423)</td>\n",
       "      <td>False</td>\n",
       "    </tr>\n",
       "  </tbody>\n",
       "</table>\n",
       "</div>"
      ],
      "text/plain": [
       "   Text_ID        city state            date_time  \\\n",
       "0      1.0     Chester    VA  2019-12-12T18:43:00   \n",
       "1   3824.0     Waldorf    MD  2019-12-12T18:30:00   \n",
       "2      2.0  Rocky Hill    CT  2019-03-22T18:30:00   \n",
       "3   3413.0     Windsor    CA  2019-03-21T23:00:00   \n",
       "4   3728.0       Nampa    ID  2019-03-21T19:30:00   \n",
       "\n",
       "                                               stats  city_latitude  \\\n",
       "0  [Occurred : 12/12/2019 18:43  (Entered as : 12...      37.343152   \n",
       "1  [Occurred : 12/12/2019 18:30  (Entered as : 12...      38.611997   \n",
       "2  [Occurred : 3/22/2019 18:30  (Entered as : 03/...      41.664800   \n",
       "3  [Occurred : 3/21/2019 23:00  (Entered as : 3/2...      38.536900   \n",
       "4  [Occurred : 3/21/2019 19:30  (Entered as : 03/...      43.568919   \n",
       "\n",
       "   city_longitude       Reported_stats        city_state  \\\n",
       "0      -77.408582  2019-12-19 19:19:31     (Chester, VA)   \n",
       "1      -76.906551  2019-12-21 18:11:11     (Waldorf, MD)   \n",
       "2      -72.639300  2019-03-27 16:10:19  (Rocky Hill, CT)   \n",
       "3     -122.812300  2019-03-31 08:34:56     (Windsor, CA)   \n",
       "4     -116.561976  2019-03-29 04:26:59       (Nampa, ID)   \n",
       "\n",
       "                         coord         date_time_2 time_difference  \\\n",
       "0  (37.34315152, -77.40858182) 2019-12-12 18:43:00 7 days 00:36:31   \n",
       "1  (38.61199693, -76.90655119) 2019-12-12 18:30:00 8 days 23:41:11   \n",
       "2          (41.6648, -72.6393) 2019-03-22 18:30:00 4 days 21:40:19   \n",
       "3         (38.5369, -122.8123) 2019-03-21 23:00:00 9 days 09:34:56   \n",
       "4  (43.56891901, -116.5619761) 2019-03-21 19:30:00 7 days 08:56:59   \n",
       "\n",
       "  reporting_lag             timezone                       utc        date  \\\n",
       "0         weeks     America/New_York 2019-12-12 23:43:00+00:00  2019-12-12   \n",
       "1         weeks     America/New_York 2019-12-12 23:30:00+00:00  2019-12-12   \n",
       "2          days     America/New_York 2019-03-22 22:30:00+00:00  2019-03-22   \n",
       "3         weeks  America/Los_Angeles 2019-03-22 06:00:00+00:00  2019-03-22   \n",
       "4         weeks        America/Boise 2019-03-22 01:30:00+00:00  2019-03-22   \n",
       "\n",
       "                                                 tle  \\\n",
       "0  [1 25544U 98067A   19346.93506944 -.00000088  ...   \n",
       "1  [1 25544U 98067A   19346.93506944 -.00000088  ...   \n",
       "2  [1 25544U 98067A   19081.91354657  .00001745  ...   \n",
       "3  [1 25544U 98067A   19081.91354657  .00001745  ...   \n",
       "4  [1 25544U 98067A   19081.91354657  .00001745  ...   \n",
       "\n",
       "                        epoch_time              iss_cord  iss_nearby  \n",
       "0 2019-12-12 22:26:29.999603+00:00   (29.0182, -88.1384)       False  \n",
       "1 2019-12-12 22:26:29.999603+00:00  (51.7733, -146.5292)       False  \n",
       "2 2019-03-22 21:55:30.423645+00:00  (-38.9642, 131.8882)       False  \n",
       "3 2019-03-22 21:55:30.423645+00:00  (-10.2320, 155.7894)       False  \n",
       "4 2019-03-22 21:55:30.423645+00:00  (14.1956, -115.9423)       False  "
      ]
     },
     "execution_count": 220,
     "metadata": {},
     "output_type": "execute_result"
    }
   ],
   "source": [
    "# # apply the iss nearby function\n",
    "# merged_df['iss_nearby'] = merged_df.apply(lambda row: iss_nearby(row['coord'], row['iss_cord']), axis=1)\n",
    "# merged_df.head()"
   ]
  },
  {
   "cell_type": "code",
   "execution_count": 221,
   "metadata": {},
   "outputs": [
    {
     "data": {
      "text/plain": [
       "False    65544\n",
       "True       154\n",
       "Name: iss_nearby, dtype: int64"
      ]
     },
     "execution_count": 221,
     "metadata": {},
     "output_type": "execute_result"
    }
   ],
   "source": [
    "# # how many instances have the iss nearby\n",
    "# merged_df['iss_nearby'].value_counts()"
   ]
  },
  {
   "cell_type": "code",
   "execution_count": 224,
   "metadata": {},
   "outputs": [],
   "source": [
    "# merged_df.to_csv('/Users/rahimjiwa/Documents/Github/feature-engineering/data/UFO/data_with_iss.csv')"
   ]
  },
  {
   "cell_type": "code",
   "execution_count": 389,
   "metadata": {},
   "outputs": [],
   "source": [
    "# to not have to run all the above you can get the data using\n",
    "df_iss = pd.read_csv('data_with_iss.csv')\n"
   ]
  },
  {
   "cell_type": "code",
   "execution_count": 395,
   "metadata": {},
   "outputs": [
    {
     "data": {
      "text/html": [
       "<div>\n",
       "<style scoped>\n",
       "    .dataframe tbody tr th:only-of-type {\n",
       "        vertical-align: middle;\n",
       "    }\n",
       "\n",
       "    .dataframe tbody tr th {\n",
       "        vertical-align: top;\n",
       "    }\n",
       "\n",
       "    .dataframe thead th {\n",
       "        text-align: right;\n",
       "    }\n",
       "</style>\n",
       "<table border=\"1\" class=\"dataframe\">\n",
       "  <thead>\n",
       "    <tr style=\"text-align: right;\">\n",
       "      <th></th>\n",
       "      <th>Unnamed: 0</th>\n",
       "      <th>Text_ID</th>\n",
       "      <th>city</th>\n",
       "      <th>state</th>\n",
       "      <th>date_time</th>\n",
       "      <th>stats</th>\n",
       "      <th>city_latitude</th>\n",
       "      <th>city_longitude</th>\n",
       "      <th>Reported_stats</th>\n",
       "      <th>city_state</th>\n",
       "      <th>...</th>\n",
       "      <th>date_time_2</th>\n",
       "      <th>time_difference</th>\n",
       "      <th>reporting_lag</th>\n",
       "      <th>timezone</th>\n",
       "      <th>utc</th>\n",
       "      <th>date</th>\n",
       "      <th>tle</th>\n",
       "      <th>epoch_time</th>\n",
       "      <th>iss_cord</th>\n",
       "      <th>iss_nearby</th>\n",
       "    </tr>\n",
       "  </thead>\n",
       "  <tbody>\n",
       "    <tr>\n",
       "      <th>0</th>\n",
       "      <td>0</td>\n",
       "      <td>1.0</td>\n",
       "      <td>Chester</td>\n",
       "      <td>VA</td>\n",
       "      <td>2019-12-12T18:43:00</td>\n",
       "      <td>['Occurred : 12/12/2019 18:43  (Entered as : 1...</td>\n",
       "      <td>37.343152</td>\n",
       "      <td>-77.408582</td>\n",
       "      <td>2019-12-19 19:19:31</td>\n",
       "      <td>('Chester', 'VA')</td>\n",
       "      <td>...</td>\n",
       "      <td>2019-12-12 18:43:00</td>\n",
       "      <td>7 days 00:36:31</td>\n",
       "      <td>weeks</td>\n",
       "      <td>America/New_York</td>\n",
       "      <td>2019-12-12 23:43:00+00:00</td>\n",
       "      <td>2019-12-12</td>\n",
       "      <td>['1 25544U 98067A   19346.93506944 -.00000088 ...</td>\n",
       "      <td>2019-12-12 22:26:29.999603+00:00</td>\n",
       "      <td>('29.0182', '-88.1384')</td>\n",
       "      <td>False</td>\n",
       "    </tr>\n",
       "    <tr>\n",
       "      <th>1</th>\n",
       "      <td>1</td>\n",
       "      <td>3824.0</td>\n",
       "      <td>Waldorf</td>\n",
       "      <td>MD</td>\n",
       "      <td>2019-12-12T18:30:00</td>\n",
       "      <td>['Occurred : 12/12/2019 18:30  (Entered as : 1...</td>\n",
       "      <td>38.611997</td>\n",
       "      <td>-76.906551</td>\n",
       "      <td>2019-12-21 18:11:11</td>\n",
       "      <td>('Waldorf', 'MD')</td>\n",
       "      <td>...</td>\n",
       "      <td>2019-12-12 18:30:00</td>\n",
       "      <td>8 days 23:41:11</td>\n",
       "      <td>weeks</td>\n",
       "      <td>America/New_York</td>\n",
       "      <td>2019-12-12 23:30:00+00:00</td>\n",
       "      <td>2019-12-12</td>\n",
       "      <td>['1 25544U 98067A   19346.93506944 -.00000088 ...</td>\n",
       "      <td>2019-12-12 22:26:29.999603+00:00</td>\n",
       "      <td>('51.7733', '-146.5292')</td>\n",
       "      <td>False</td>\n",
       "    </tr>\n",
       "    <tr>\n",
       "      <th>2</th>\n",
       "      <td>2</td>\n",
       "      <td>2.0</td>\n",
       "      <td>Rocky Hill</td>\n",
       "      <td>CT</td>\n",
       "      <td>2019-03-22T18:30:00</td>\n",
       "      <td>['Occurred : 3/22/2019 18:30  (Entered as : 03...</td>\n",
       "      <td>41.664800</td>\n",
       "      <td>-72.639300</td>\n",
       "      <td>2019-03-27 16:10:19</td>\n",
       "      <td>('Rocky Hill', 'CT')</td>\n",
       "      <td>...</td>\n",
       "      <td>2019-03-22 18:30:00</td>\n",
       "      <td>4 days 21:40:19</td>\n",
       "      <td>days</td>\n",
       "      <td>America/New_York</td>\n",
       "      <td>2019-03-22 22:30:00+00:00</td>\n",
       "      <td>2019-03-22</td>\n",
       "      <td>['1 25544U 98067A   19081.91354657  .00001745 ...</td>\n",
       "      <td>2019-03-22 21:55:30.423645+00:00</td>\n",
       "      <td>('-38.9642', '131.8882')</td>\n",
       "      <td>False</td>\n",
       "    </tr>\n",
       "    <tr>\n",
       "      <th>3</th>\n",
       "      <td>3</td>\n",
       "      <td>3413.0</td>\n",
       "      <td>Windsor</td>\n",
       "      <td>CA</td>\n",
       "      <td>2019-03-21T23:00:00</td>\n",
       "      <td>['Occurred : 3/21/2019 23:00  (Entered as : 3/...</td>\n",
       "      <td>38.536900</td>\n",
       "      <td>-122.812300</td>\n",
       "      <td>2019-03-31 08:34:56</td>\n",
       "      <td>('Windsor', 'CA')</td>\n",
       "      <td>...</td>\n",
       "      <td>2019-03-21 23:00:00</td>\n",
       "      <td>9 days 09:34:56</td>\n",
       "      <td>weeks</td>\n",
       "      <td>America/Los_Angeles</td>\n",
       "      <td>2019-03-22 06:00:00+00:00</td>\n",
       "      <td>2019-03-22</td>\n",
       "      <td>['1 25544U 98067A   19081.91354657  .00001745 ...</td>\n",
       "      <td>2019-03-22 21:55:30.423645+00:00</td>\n",
       "      <td>('-10.2320', '155.7894')</td>\n",
       "      <td>False</td>\n",
       "    </tr>\n",
       "    <tr>\n",
       "      <th>4</th>\n",
       "      <td>4</td>\n",
       "      <td>3728.0</td>\n",
       "      <td>Nampa</td>\n",
       "      <td>ID</td>\n",
       "      <td>2019-03-21T19:30:00</td>\n",
       "      <td>['Occurred : 3/21/2019 19:30  (Entered as : 03...</td>\n",
       "      <td>43.568919</td>\n",
       "      <td>-116.561976</td>\n",
       "      <td>2019-03-29 04:26:59</td>\n",
       "      <td>('Nampa', 'ID')</td>\n",
       "      <td>...</td>\n",
       "      <td>2019-03-21 19:30:00</td>\n",
       "      <td>7 days 08:56:59</td>\n",
       "      <td>weeks</td>\n",
       "      <td>America/Boise</td>\n",
       "      <td>2019-03-22 01:30:00+00:00</td>\n",
       "      <td>2019-03-22</td>\n",
       "      <td>['1 25544U 98067A   19081.91354657  .00001745 ...</td>\n",
       "      <td>2019-03-22 21:55:30.423645+00:00</td>\n",
       "      <td>('14.1956', '-115.9423')</td>\n",
       "      <td>False</td>\n",
       "    </tr>\n",
       "    <tr>\n",
       "      <th>5</th>\n",
       "      <td>5</td>\n",
       "      <td>3729.0</td>\n",
       "      <td>Memphis</td>\n",
       "      <td>TN</td>\n",
       "      <td>2019-03-21T22:28:00</td>\n",
       "      <td>['Occurred : 3/21/2019 22:28  (Entered as : 03...</td>\n",
       "      <td>35.125473</td>\n",
       "      <td>-89.926925</td>\n",
       "      <td>2019-12-21 20:49:14</td>\n",
       "      <td>('Memphis', 'TN')</td>\n",
       "      <td>...</td>\n",
       "      <td>2019-03-21 22:28:00</td>\n",
       "      <td>274 days 22:21:14</td>\n",
       "      <td>months</td>\n",
       "      <td>America/Chicago</td>\n",
       "      <td>2019-03-22 03:28:00+00:00</td>\n",
       "      <td>2019-03-22</td>\n",
       "      <td>['1 25544U 98067A   19081.91354657  .00001745 ...</td>\n",
       "      <td>2019-03-22 21:55:30.423645+00:00</td>\n",
       "      <td>('44.6451', '-28.4298')</td>\n",
       "      <td>False</td>\n",
       "    </tr>\n",
       "    <tr>\n",
       "      <th>6</th>\n",
       "      <td>6</td>\n",
       "      <td>3730.0</td>\n",
       "      <td>Elizabeth</td>\n",
       "      <td>IN</td>\n",
       "      <td>2019-03-22T00:00:00</td>\n",
       "      <td>['Occurred : 3/22/2019   (Entered as : 3/22/19...</td>\n",
       "      <td>38.104700</td>\n",
       "      <td>-85.986400</td>\n",
       "      <td>2019-12-18 22:24:17</td>\n",
       "      <td>('Elizabeth', 'IN')</td>\n",
       "      <td>...</td>\n",
       "      <td>2019-03-22 00:00:00</td>\n",
       "      <td>271 days 22:24:17</td>\n",
       "      <td>months</td>\n",
       "      <td>America/Kentucky/Louisville</td>\n",
       "      <td>2019-03-22 04:00:00+00:00</td>\n",
       "      <td>2019-03-22</td>\n",
       "      <td>['1 25544U 98067A   19081.91354657  .00001745 ...</td>\n",
       "      <td>2019-03-22 21:55:30.423645+00:00</td>\n",
       "      <td>('-43.4881', '62.7452')</td>\n",
       "      <td>False</td>\n",
       "    </tr>\n",
       "    <tr>\n",
       "      <th>7</th>\n",
       "      <td>7</td>\n",
       "      <td>4.0</td>\n",
       "      <td>Ottawa</td>\n",
       "      <td>ON</td>\n",
       "      <td>2019-04-17T02:00:00</td>\n",
       "      <td>['Occurred : 4/17/2019 02:00  (Entered as : 04...</td>\n",
       "      <td>45.381383</td>\n",
       "      <td>-75.708501</td>\n",
       "      <td>2019-04-17 08:41:25</td>\n",
       "      <td>('Ottawa', 'ON')</td>\n",
       "      <td>...</td>\n",
       "      <td>2019-04-17 02:00:00</td>\n",
       "      <td>0 days 06:41:25</td>\n",
       "      <td>hours</td>\n",
       "      <td>America/Toronto</td>\n",
       "      <td>2019-04-17 06:00:00+00:00</td>\n",
       "      <td>2019-04-17</td>\n",
       "      <td>['1 25544U 98067A   19107.92643309  .00001649 ...</td>\n",
       "      <td>2019-04-17 22:14:03.819000+00:00</td>\n",
       "      <td>('-31.8150', '-20.1877')</td>\n",
       "      <td>False</td>\n",
       "    </tr>\n",
       "    <tr>\n",
       "      <th>8</th>\n",
       "      <td>8</td>\n",
       "      <td>3172.0</td>\n",
       "      <td>Kingwood</td>\n",
       "      <td>TX</td>\n",
       "      <td>2019-04-16T20:30:00</td>\n",
       "      <td>['Occurred : 4/16/2019 20:30  (Entered as : 04...</td>\n",
       "      <td>30.033600</td>\n",
       "      <td>-95.261000</td>\n",
       "      <td>2019-04-21 19:45:47</td>\n",
       "      <td>('Kingwood', 'TX')</td>\n",
       "      <td>...</td>\n",
       "      <td>2019-04-16 20:30:00</td>\n",
       "      <td>4 days 23:15:47</td>\n",
       "      <td>days</td>\n",
       "      <td>America/Chicago</td>\n",
       "      <td>2019-04-17 01:30:00+00:00</td>\n",
       "      <td>2019-04-17</td>\n",
       "      <td>['1 25544U 98067A   19107.92643309  .00001649 ...</td>\n",
       "      <td>2019-04-17 22:14:03.819000+00:00</td>\n",
       "      <td>('-8.4394', '70.9485')</td>\n",
       "      <td>False</td>\n",
       "    </tr>\n",
       "    <tr>\n",
       "      <th>9</th>\n",
       "      <td>9</td>\n",
       "      <td>3173.0</td>\n",
       "      <td>Watsonville</td>\n",
       "      <td>CA</td>\n",
       "      <td>2019-04-17T14:44:00</td>\n",
       "      <td>['Occurred : 4/17/2019 14:44  (Entered as : 04...</td>\n",
       "      <td>36.950275</td>\n",
       "      <td>-121.724742</td>\n",
       "      <td>2019-04-22 11:34:04</td>\n",
       "      <td>('Watsonville', 'CA')</td>\n",
       "      <td>...</td>\n",
       "      <td>2019-04-17 14:44:00</td>\n",
       "      <td>4 days 20:50:04</td>\n",
       "      <td>days</td>\n",
       "      <td>America/Los_Angeles</td>\n",
       "      <td>2019-04-17 21:44:00+00:00</td>\n",
       "      <td>2019-04-17</td>\n",
       "      <td>['1 25544U 98067A   19107.92643309  .00001649 ...</td>\n",
       "      <td>2019-04-17 22:14:03.819000+00:00</td>\n",
       "      <td>('19.0266', '144.8748')</td>\n",
       "      <td>False</td>\n",
       "    </tr>\n",
       "  </tbody>\n",
       "</table>\n",
       "<p>10 rows × 21 columns</p>\n",
       "</div>"
      ],
      "text/plain": [
       "   Unnamed: 0  Text_ID         city state            date_time  \\\n",
       "0           0      1.0      Chester    VA  2019-12-12T18:43:00   \n",
       "1           1   3824.0      Waldorf    MD  2019-12-12T18:30:00   \n",
       "2           2      2.0   Rocky Hill    CT  2019-03-22T18:30:00   \n",
       "3           3   3413.0      Windsor    CA  2019-03-21T23:00:00   \n",
       "4           4   3728.0        Nampa    ID  2019-03-21T19:30:00   \n",
       "5           5   3729.0      Memphis    TN  2019-03-21T22:28:00   \n",
       "6           6   3730.0    Elizabeth    IN  2019-03-22T00:00:00   \n",
       "7           7      4.0       Ottawa    ON  2019-04-17T02:00:00   \n",
       "8           8   3172.0     Kingwood    TX  2019-04-16T20:30:00   \n",
       "9           9   3173.0  Watsonville    CA  2019-04-17T14:44:00   \n",
       "\n",
       "                                               stats  city_latitude  \\\n",
       "0  ['Occurred : 12/12/2019 18:43  (Entered as : 1...      37.343152   \n",
       "1  ['Occurred : 12/12/2019 18:30  (Entered as : 1...      38.611997   \n",
       "2  ['Occurred : 3/22/2019 18:30  (Entered as : 03...      41.664800   \n",
       "3  ['Occurred : 3/21/2019 23:00  (Entered as : 3/...      38.536900   \n",
       "4  ['Occurred : 3/21/2019 19:30  (Entered as : 03...      43.568919   \n",
       "5  ['Occurred : 3/21/2019 22:28  (Entered as : 03...      35.125473   \n",
       "6  ['Occurred : 3/22/2019   (Entered as : 3/22/19...      38.104700   \n",
       "7  ['Occurred : 4/17/2019 02:00  (Entered as : 04...      45.381383   \n",
       "8  ['Occurred : 4/16/2019 20:30  (Entered as : 04...      30.033600   \n",
       "9  ['Occurred : 4/17/2019 14:44  (Entered as : 04...      36.950275   \n",
       "\n",
       "   city_longitude       Reported_stats             city_state  ...  \\\n",
       "0      -77.408582  2019-12-19 19:19:31      ('Chester', 'VA')  ...   \n",
       "1      -76.906551  2019-12-21 18:11:11      ('Waldorf', 'MD')  ...   \n",
       "2      -72.639300  2019-03-27 16:10:19   ('Rocky Hill', 'CT')  ...   \n",
       "3     -122.812300  2019-03-31 08:34:56      ('Windsor', 'CA')  ...   \n",
       "4     -116.561976  2019-03-29 04:26:59        ('Nampa', 'ID')  ...   \n",
       "5      -89.926925  2019-12-21 20:49:14      ('Memphis', 'TN')  ...   \n",
       "6      -85.986400  2019-12-18 22:24:17    ('Elizabeth', 'IN')  ...   \n",
       "7      -75.708501  2019-04-17 08:41:25       ('Ottawa', 'ON')  ...   \n",
       "8      -95.261000  2019-04-21 19:45:47     ('Kingwood', 'TX')  ...   \n",
       "9     -121.724742  2019-04-22 11:34:04  ('Watsonville', 'CA')  ...   \n",
       "\n",
       "           date_time_2    time_difference reporting_lag  \\\n",
       "0  2019-12-12 18:43:00    7 days 00:36:31         weeks   \n",
       "1  2019-12-12 18:30:00    8 days 23:41:11         weeks   \n",
       "2  2019-03-22 18:30:00    4 days 21:40:19          days   \n",
       "3  2019-03-21 23:00:00    9 days 09:34:56         weeks   \n",
       "4  2019-03-21 19:30:00    7 days 08:56:59         weeks   \n",
       "5  2019-03-21 22:28:00  274 days 22:21:14        months   \n",
       "6  2019-03-22 00:00:00  271 days 22:24:17        months   \n",
       "7  2019-04-17 02:00:00    0 days 06:41:25         hours   \n",
       "8  2019-04-16 20:30:00    4 days 23:15:47          days   \n",
       "9  2019-04-17 14:44:00    4 days 20:50:04          days   \n",
       "\n",
       "                      timezone                        utc        date  \\\n",
       "0             America/New_York  2019-12-12 23:43:00+00:00  2019-12-12   \n",
       "1             America/New_York  2019-12-12 23:30:00+00:00  2019-12-12   \n",
       "2             America/New_York  2019-03-22 22:30:00+00:00  2019-03-22   \n",
       "3          America/Los_Angeles  2019-03-22 06:00:00+00:00  2019-03-22   \n",
       "4                America/Boise  2019-03-22 01:30:00+00:00  2019-03-22   \n",
       "5              America/Chicago  2019-03-22 03:28:00+00:00  2019-03-22   \n",
       "6  America/Kentucky/Louisville  2019-03-22 04:00:00+00:00  2019-03-22   \n",
       "7              America/Toronto  2019-04-17 06:00:00+00:00  2019-04-17   \n",
       "8              America/Chicago  2019-04-17 01:30:00+00:00  2019-04-17   \n",
       "9          America/Los_Angeles  2019-04-17 21:44:00+00:00  2019-04-17   \n",
       "\n",
       "                                                 tle  \\\n",
       "0  ['1 25544U 98067A   19346.93506944 -.00000088 ...   \n",
       "1  ['1 25544U 98067A   19346.93506944 -.00000088 ...   \n",
       "2  ['1 25544U 98067A   19081.91354657  .00001745 ...   \n",
       "3  ['1 25544U 98067A   19081.91354657  .00001745 ...   \n",
       "4  ['1 25544U 98067A   19081.91354657  .00001745 ...   \n",
       "5  ['1 25544U 98067A   19081.91354657  .00001745 ...   \n",
       "6  ['1 25544U 98067A   19081.91354657  .00001745 ...   \n",
       "7  ['1 25544U 98067A   19107.92643309  .00001649 ...   \n",
       "8  ['1 25544U 98067A   19107.92643309  .00001649 ...   \n",
       "9  ['1 25544U 98067A   19107.92643309  .00001649 ...   \n",
       "\n",
       "                         epoch_time                  iss_cord iss_nearby  \n",
       "0  2019-12-12 22:26:29.999603+00:00   ('29.0182', '-88.1384')      False  \n",
       "1  2019-12-12 22:26:29.999603+00:00  ('51.7733', '-146.5292')      False  \n",
       "2  2019-03-22 21:55:30.423645+00:00  ('-38.9642', '131.8882')      False  \n",
       "3  2019-03-22 21:55:30.423645+00:00  ('-10.2320', '155.7894')      False  \n",
       "4  2019-03-22 21:55:30.423645+00:00  ('14.1956', '-115.9423')      False  \n",
       "5  2019-03-22 21:55:30.423645+00:00   ('44.6451', '-28.4298')      False  \n",
       "6  2019-03-22 21:55:30.423645+00:00   ('-43.4881', '62.7452')      False  \n",
       "7  2019-04-17 22:14:03.819000+00:00  ('-31.8150', '-20.1877')      False  \n",
       "8  2019-04-17 22:14:03.819000+00:00    ('-8.4394', '70.9485')      False  \n",
       "9  2019-04-17 22:14:03.819000+00:00   ('19.0266', '144.8748')      False  \n",
       "\n",
       "[10 rows x 21 columns]"
      ]
     },
     "execution_count": 395,
     "metadata": {},
     "output_type": "execute_result"
    }
   ],
   "source": [
    "df_iss.head(10)"
   ]
  },
  {
   "cell_type": "code",
   "execution_count": 399,
   "metadata": {},
   "outputs": [
    {
     "data": {
      "text/html": [
       "<div>\n",
       "<style scoped>\n",
       "    .dataframe tbody tr th:only-of-type {\n",
       "        vertical-align: middle;\n",
       "    }\n",
       "\n",
       "    .dataframe tbody tr th {\n",
       "        vertical-align: top;\n",
       "    }\n",
       "\n",
       "    .dataframe thead th {\n",
       "        text-align: right;\n",
       "    }\n",
       "</style>\n",
       "<table border=\"1\" class=\"dataframe\">\n",
       "  <thead>\n",
       "    <tr style=\"text-align: right;\">\n",
       "      <th></th>\n",
       "      <th>Unnamed: 0</th>\n",
       "      <th>Text_ID</th>\n",
       "      <th>city</th>\n",
       "      <th>state</th>\n",
       "      <th>date_time</th>\n",
       "      <th>stats</th>\n",
       "      <th>city_latitude</th>\n",
       "      <th>city_longitude</th>\n",
       "      <th>Reported_stats</th>\n",
       "      <th>city_state</th>\n",
       "      <th>...</th>\n",
       "      <th>date_time_2</th>\n",
       "      <th>time_difference</th>\n",
       "      <th>reporting_lag</th>\n",
       "      <th>timezone</th>\n",
       "      <th>utc</th>\n",
       "      <th>date</th>\n",
       "      <th>tle</th>\n",
       "      <th>epoch_time</th>\n",
       "      <th>iss_cord</th>\n",
       "      <th>iss_nearby</th>\n",
       "    </tr>\n",
       "  </thead>\n",
       "  <tbody>\n",
       "  </tbody>\n",
       "</table>\n",
       "<p>0 rows × 21 columns</p>\n",
       "</div>"
      ],
      "text/plain": [
       "Empty DataFrame\n",
       "Columns: [Unnamed: 0, Text_ID, city, state, date_time, stats, city_latitude, city_longitude, Reported_stats, city_state, coord, date_time_2, time_difference, reporting_lag, timezone, utc, date, tle, epoch_time, iss_cord, iss_nearby]\n",
       "Index: []\n",
       "\n",
       "[0 rows x 21 columns]"
      ]
     },
     "execution_count": 399,
     "metadata": {},
     "output_type": "execute_result"
    }
   ],
   "source": [
    "df_iss[df_iss['Text_ID']=='88121.0']"
   ]
  },
  {
   "cell_type": "code",
   "execution_count": 392,
   "metadata": {},
   "outputs": [],
   "source": [
    "test_df = df_new.copy(deep=True)"
   ]
  },
  {
   "cell_type": "code",
   "execution_count": 393,
   "metadata": {},
   "outputs": [],
   "source": [
    "test_df = pd.merge(test_df,df_iss[['Text_ID','iss_nearby']],on='Text_ID',how='left')"
   ]
  },
  {
   "cell_type": "code",
   "execution_count": 400,
   "metadata": {},
   "outputs": [],
   "source": [
    "test_df['iss_nearby'].fillna(False, inplace = True)"
   ]
  },
  {
   "cell_type": "code",
   "execution_count": 403,
   "metadata": {},
   "outputs": [],
   "source": [
    "df_new = pd.merge(df_new,df_iss[['Text_ID','iss_nearby']],on='Text_ID',how='left')"
   ]
  },
  {
   "cell_type": "code",
   "execution_count": 404,
   "metadata": {},
   "outputs": [],
   "source": [
    "df_new['iss_nearby'].fillna(False, inplace = True)"
   ]
  },
  {
   "cell_type": "code",
   "execution_count": 410,
   "metadata": {},
   "outputs": [
    {
     "data": {
      "text/html": [
       "<div>\n",
       "<style scoped>\n",
       "    .dataframe tbody tr th:only-of-type {\n",
       "        vertical-align: middle;\n",
       "    }\n",
       "\n",
       "    .dataframe tbody tr th {\n",
       "        vertical-align: top;\n",
       "    }\n",
       "\n",
       "    .dataframe thead th {\n",
       "        text-align: right;\n",
       "    }\n",
       "</style>\n",
       "<table border=\"1\" class=\"dataframe\">\n",
       "  <thead>\n",
       "    <tr style=\"text-align: right;\">\n",
       "      <th></th>\n",
       "      <th>Text_ID</th>\n",
       "      <th>city</th>\n",
       "      <th>state</th>\n",
       "      <th>date_time</th>\n",
       "      <th>shape</th>\n",
       "      <th>stats</th>\n",
       "      <th>report_link</th>\n",
       "      <th>text</th>\n",
       "      <th>posted</th>\n",
       "      <th>city_latitude</th>\n",
       "      <th>...</th>\n",
       "      <th>state_name</th>\n",
       "      <th>airbase</th>\n",
       "      <th>text_word_count</th>\n",
       "      <th>text_word_count_log</th>\n",
       "      <th>text_char_count</th>\n",
       "      <th>text_char_log</th>\n",
       "      <th>avg_word_cnt</th>\n",
       "      <th>unq_words</th>\n",
       "      <th>iss_nearby</th>\n",
       "      <th>unq_words_log</th>\n",
       "    </tr>\n",
       "  </thead>\n",
       "  <tbody>\n",
       "    <tr>\n",
       "      <th>0</th>\n",
       "      <td>1.0</td>\n",
       "      <td>Chester</td>\n",
       "      <td>VA</td>\n",
       "      <td>2019-12-12 18:43:00</td>\n",
       "      <td>light</td>\n",
       "      <td>[Occurred : 12/12/2019 18:43  (Entered as : 12...</td>\n",
       "      <td>http://www.nuforc.org/webreports/151/S151739.html</td>\n",
       "      <td>wife driving southeast fairly populated main s...</td>\n",
       "      <td>2019-12-22T00:00:00</td>\n",
       "      <td>37.343152</td>\n",
       "      <td>...</td>\n",
       "      <td>NaN</td>\n",
       "      <td>0</td>\n",
       "      <td>96</td>\n",
       "      <td>4.564348</td>\n",
       "      <td>507</td>\n",
       "      <td>6.228511</td>\n",
       "      <td>5.281250</td>\n",
       "      <td>69</td>\n",
       "      <td>False</td>\n",
       "      <td>4.234107</td>\n",
       "    </tr>\n",
       "    <tr>\n",
       "      <th>1</th>\n",
       "      <td>2.0</td>\n",
       "      <td>Rocky Hill</td>\n",
       "      <td>CT</td>\n",
       "      <td>2019-03-22 18:30:00</td>\n",
       "      <td>circle</td>\n",
       "      <td>[Occurred : 3/22/2019 18:30  (Entered as : 03/...</td>\n",
       "      <td>http://www.nuforc.org/webreports/145/S145297.html</td>\n",
       "      <td>think may caught ufo nbc nightly news aired ma...</td>\n",
       "      <td>2019-03-29T00:00:00</td>\n",
       "      <td>41.664800</td>\n",
       "      <td>...</td>\n",
       "      <td>NaN</td>\n",
       "      <td>0</td>\n",
       "      <td>39</td>\n",
       "      <td>3.663562</td>\n",
       "      <td>192</td>\n",
       "      <td>5.257495</td>\n",
       "      <td>4.923077</td>\n",
       "      <td>38</td>\n",
       "      <td>False</td>\n",
       "      <td>3.637586</td>\n",
       "    </tr>\n",
       "    <tr>\n",
       "      <th>2</th>\n",
       "      <td>4.0</td>\n",
       "      <td>Ottawa</td>\n",
       "      <td>ON</td>\n",
       "      <td>2019-04-17 02:00:00</td>\n",
       "      <td>teardrop</td>\n",
       "      <td>[Occurred : 4/17/2019 02:00  (Entered as : 04-...</td>\n",
       "      <td>http://www.nuforc.org/webreports/145/S145697.html</td>\n",
       "      <td>driving towards intersection fallowfield eagle...</td>\n",
       "      <td>2019-04-18T00:00:00</td>\n",
       "      <td>45.381383</td>\n",
       "      <td>...</td>\n",
       "      <td>NaN</td>\n",
       "      <td>0</td>\n",
       "      <td>23</td>\n",
       "      <td>3.135494</td>\n",
       "      <td>146</td>\n",
       "      <td>4.983607</td>\n",
       "      <td>6.347826</td>\n",
       "      <td>22</td>\n",
       "      <td>False</td>\n",
       "      <td>3.091042</td>\n",
       "    </tr>\n",
       "    <tr>\n",
       "      <th>3</th>\n",
       "      <td>5.0</td>\n",
       "      <td>Peoria</td>\n",
       "      <td>NY</td>\n",
       "      <td>2009-03-15 18:00:00</td>\n",
       "      <td>cigar</td>\n",
       "      <td>[Occurred : 3/15/2009 18:00  (Entered as : 03/...</td>\n",
       "      <td>http://www.nuforc.org/webreports/145/S145723.html</td>\n",
       "      <td>peoria arizona saw cigar shaped craft floating...</td>\n",
       "      <td>2019-04-18T00:00:00</td>\n",
       "      <td>NaN</td>\n",
       "      <td>...</td>\n",
       "      <td>NaN</td>\n",
       "      <td>0</td>\n",
       "      <td>103</td>\n",
       "      <td>4.634729</td>\n",
       "      <td>570</td>\n",
       "      <td>6.345636</td>\n",
       "      <td>5.533981</td>\n",
       "      <td>81</td>\n",
       "      <td>False</td>\n",
       "      <td>4.394449</td>\n",
       "    </tr>\n",
       "    <tr>\n",
       "      <th>4</th>\n",
       "      <td>6.0</td>\n",
       "      <td>Kirbyville</td>\n",
       "      <td>TX</td>\n",
       "      <td>2019-04-02 20:25:00</td>\n",
       "      <td>disk</td>\n",
       "      <td>[Occurred : 4/2/2019 20:25  (Entered as : 04/0...</td>\n",
       "      <td>http://www.nuforc.org/webreports/145/S145476.html</td>\n",
       "      <td>object flashing light green blue red white lig...</td>\n",
       "      <td>2019-04-08T00:00:00</td>\n",
       "      <td>30.677200</td>\n",
       "      <td>...</td>\n",
       "      <td>NaN</td>\n",
       "      <td>0</td>\n",
       "      <td>124</td>\n",
       "      <td>4.820282</td>\n",
       "      <td>711</td>\n",
       "      <td>6.566672</td>\n",
       "      <td>5.733871</td>\n",
       "      <td>84</td>\n",
       "      <td>False</td>\n",
       "      <td>4.430817</td>\n",
       "    </tr>\n",
       "  </tbody>\n",
       "</table>\n",
       "<p>5 rows × 35 columns</p>\n",
       "</div>"
      ],
      "text/plain": [
       "   Text_ID        city state           date_time     shape  \\\n",
       "0      1.0     Chester    VA 2019-12-12 18:43:00     light   \n",
       "1      2.0  Rocky Hill    CT 2019-03-22 18:30:00    circle   \n",
       "2      4.0      Ottawa    ON 2019-04-17 02:00:00  teardrop   \n",
       "3      5.0      Peoria    NY 2009-03-15 18:00:00     cigar   \n",
       "4      6.0  Kirbyville    TX 2019-04-02 20:25:00      disk   \n",
       "\n",
       "                                               stats  \\\n",
       "0  [Occurred : 12/12/2019 18:43  (Entered as : 12...   \n",
       "1  [Occurred : 3/22/2019 18:30  (Entered as : 03/...   \n",
       "2  [Occurred : 4/17/2019 02:00  (Entered as : 04-...   \n",
       "3  [Occurred : 3/15/2009 18:00  (Entered as : 03/...   \n",
       "4  [Occurred : 4/2/2019 20:25  (Entered as : 04/0...   \n",
       "\n",
       "                                         report_link  \\\n",
       "0  http://www.nuforc.org/webreports/151/S151739.html   \n",
       "1  http://www.nuforc.org/webreports/145/S145297.html   \n",
       "2  http://www.nuforc.org/webreports/145/S145697.html   \n",
       "3  http://www.nuforc.org/webreports/145/S145723.html   \n",
       "4  http://www.nuforc.org/webreports/145/S145476.html   \n",
       "\n",
       "                                                text               posted  \\\n",
       "0  wife driving southeast fairly populated main s...  2019-12-22T00:00:00   \n",
       "1  think may caught ufo nbc nightly news aired ma...  2019-03-29T00:00:00   \n",
       "2  driving towards intersection fallowfield eagle...  2019-04-18T00:00:00   \n",
       "3  peoria arizona saw cigar shaped craft floating...  2019-04-18T00:00:00   \n",
       "4  object flashing light green blue red white lig...  2019-04-08T00:00:00   \n",
       "\n",
       "   city_latitude  ...  state_name airbase text_word_count text_word_count_log  \\\n",
       "0      37.343152  ...         NaN       0              96            4.564348   \n",
       "1      41.664800  ...         NaN       0              39            3.663562   \n",
       "2      45.381383  ...         NaN       0              23            3.135494   \n",
       "3            NaN  ...         NaN       0             103            4.634729   \n",
       "4      30.677200  ...         NaN       0             124            4.820282   \n",
       "\n",
       "  text_char_count text_char_log  avg_word_cnt  unq_words iss_nearby  \\\n",
       "0             507      6.228511      5.281250         69      False   \n",
       "1             192      5.257495      4.923077         38      False   \n",
       "2             146      4.983607      6.347826         22      False   \n",
       "3             570      6.345636      5.533981         81      False   \n",
       "4             711      6.566672      5.733871         84      False   \n",
       "\n",
       "  unq_words_log  \n",
       "0      4.234107  \n",
       "1      3.637586  \n",
       "2      3.091042  \n",
       "3      4.394449  \n",
       "4      4.430817  \n",
       "\n",
       "[5 rows x 35 columns]"
      ]
     },
     "execution_count": 410,
     "metadata": {},
     "output_type": "execute_result"
    }
   ],
   "source": [
    "df_new.head()"
   ]
  },
  {
   "cell_type": "code",
   "execution_count": 413,
   "metadata": {},
   "outputs": [
    {
     "data": {
      "text/plain": [
       "0    2019\n",
       "1    2019\n",
       "2    2019\n",
       "3    2009\n",
       "4    2019\n",
       "Name: year, dtype: Int64"
      ]
     },
     "execution_count": 413,
     "metadata": {},
     "output_type": "execute_result"
    }
   ],
   "source": [
    "df_new['year'].head()"
   ]
  },
  {
   "cell_type": "markdown",
   "metadata": {},
   "source": [
    "With our analysis, we can see that the ISS isn't nearby in many of the sightings. While this is disappointing as a results, as the expectation is that it would be able to explain more of the instances, it is possible that there are other space objects that could explain the sightings (ex: comets, meteors, stars, other satellites). We could extend what we have done here, to work with additional data from Celestrak containing other astrological phenomemon. This would be a next step. Another next step would be to take the sightings data and further it, by looking at visibility conditions, trying to determine a more precise estimation of location and come up with a better range for where it would be visibile nearby. Ideally, you would just like to have a column that identifies whether their are visible space objects near a given location, which we could then feed into a model."
   ]
  },
  {
   "cell_type": "markdown",
   "metadata": {},
   "source": [
    "# Alcohol Data"
   ]
  },
  {
   "cell_type": "code",
   "execution_count": 414,
   "metadata": {},
   "outputs": [],
   "source": [
    "us_states = pd.read_csv('C:/Users/abhis/Documents/git_repo/feature-engineering/data/UFO/us_states.csv')"
   ]
  },
  {
   "cell_type": "code",
   "execution_count": 416,
   "metadata": {},
   "outputs": [],
   "source": [
    "us_states = us_states.drop(['usa_state_latitude','usa_state_longitude'],axis=1)"
   ]
  },
  {
   "cell_type": "code",
   "execution_count": 420,
   "metadata": {},
   "outputs": [
    {
     "data": {
      "text/plain": [
       "Index(['usa_state_code', 'usa_state'], dtype='object')"
      ]
     },
     "execution_count": 420,
     "metadata": {},
     "output_type": "execute_result"
    }
   ],
   "source": [
    "us_states.columns"
   ]
  },
  {
   "cell_type": "code",
   "execution_count": 424,
   "metadata": {},
   "outputs": [],
   "source": [
    "us_states = us_states.rename(columns = {'usa_state_code':'state'})"
   ]
  },
  {
   "cell_type": "code",
   "execution_count": 425,
   "metadata": {},
   "outputs": [
    {
     "data": {
      "text/plain": [
       "Index(['state', 'usa_state'], dtype='object')"
      ]
     },
     "execution_count": 425,
     "metadata": {},
     "output_type": "execute_result"
    }
   ],
   "source": [
    "us_states.columns"
   ]
  },
  {
   "cell_type": "code",
   "execution_count": 419,
   "metadata": {},
   "outputs": [],
   "source": [
    "test_df = df_new.copy(deep=True)"
   ]
  },
  {
   "cell_type": "code",
   "execution_count": 426,
   "metadata": {},
   "outputs": [],
   "source": [
    "test_df = pd.merge(test_df,us_states[['state','usa_state']],on='state',how='left')"
   ]
  },
  {
   "cell_type": "code",
   "execution_count": 427,
   "metadata": {},
   "outputs": [
    {
     "data": {
      "text/html": [
       "<div>\n",
       "<style scoped>\n",
       "    .dataframe tbody tr th:only-of-type {\n",
       "        vertical-align: middle;\n",
       "    }\n",
       "\n",
       "    .dataframe tbody tr th {\n",
       "        vertical-align: top;\n",
       "    }\n",
       "\n",
       "    .dataframe thead th {\n",
       "        text-align: right;\n",
       "    }\n",
       "</style>\n",
       "<table border=\"1\" class=\"dataframe\">\n",
       "  <thead>\n",
       "    <tr style=\"text-align: right;\">\n",
       "      <th></th>\n",
       "      <th>Text_ID</th>\n",
       "      <th>city</th>\n",
       "      <th>state</th>\n",
       "      <th>date_time</th>\n",
       "      <th>shape</th>\n",
       "      <th>stats</th>\n",
       "      <th>report_link</th>\n",
       "      <th>text</th>\n",
       "      <th>posted</th>\n",
       "      <th>city_latitude</th>\n",
       "      <th>...</th>\n",
       "      <th>airbase</th>\n",
       "      <th>text_word_count</th>\n",
       "      <th>text_word_count_log</th>\n",
       "      <th>text_char_count</th>\n",
       "      <th>text_char_log</th>\n",
       "      <th>avg_word_cnt</th>\n",
       "      <th>unq_words</th>\n",
       "      <th>iss_nearby</th>\n",
       "      <th>unq_words_log</th>\n",
       "      <th>usa_state</th>\n",
       "    </tr>\n",
       "  </thead>\n",
       "  <tbody>\n",
       "    <tr>\n",
       "      <th>0</th>\n",
       "      <td>1.0</td>\n",
       "      <td>Chester</td>\n",
       "      <td>VA</td>\n",
       "      <td>2019-12-12 18:43:00</td>\n",
       "      <td>light</td>\n",
       "      <td>[Occurred : 12/12/2019 18:43  (Entered as : 12...</td>\n",
       "      <td>http://www.nuforc.org/webreports/151/S151739.html</td>\n",
       "      <td>wife driving southeast fairly populated main s...</td>\n",
       "      <td>2019-12-22T00:00:00</td>\n",
       "      <td>37.343152</td>\n",
       "      <td>...</td>\n",
       "      <td>0</td>\n",
       "      <td>96</td>\n",
       "      <td>4.564348</td>\n",
       "      <td>507</td>\n",
       "      <td>6.228511</td>\n",
       "      <td>5.281250</td>\n",
       "      <td>69</td>\n",
       "      <td>False</td>\n",
       "      <td>4.234107</td>\n",
       "      <td>Virginia</td>\n",
       "    </tr>\n",
       "    <tr>\n",
       "      <th>1</th>\n",
       "      <td>2.0</td>\n",
       "      <td>Rocky Hill</td>\n",
       "      <td>CT</td>\n",
       "      <td>2019-03-22 18:30:00</td>\n",
       "      <td>circle</td>\n",
       "      <td>[Occurred : 3/22/2019 18:30  (Entered as : 03/...</td>\n",
       "      <td>http://www.nuforc.org/webreports/145/S145297.html</td>\n",
       "      <td>think may caught ufo nbc nightly news aired ma...</td>\n",
       "      <td>2019-03-29T00:00:00</td>\n",
       "      <td>41.664800</td>\n",
       "      <td>...</td>\n",
       "      <td>0</td>\n",
       "      <td>39</td>\n",
       "      <td>3.663562</td>\n",
       "      <td>192</td>\n",
       "      <td>5.257495</td>\n",
       "      <td>4.923077</td>\n",
       "      <td>38</td>\n",
       "      <td>False</td>\n",
       "      <td>3.637586</td>\n",
       "      <td>Connecticut</td>\n",
       "    </tr>\n",
       "    <tr>\n",
       "      <th>2</th>\n",
       "      <td>4.0</td>\n",
       "      <td>Ottawa</td>\n",
       "      <td>ON</td>\n",
       "      <td>2019-04-17 02:00:00</td>\n",
       "      <td>teardrop</td>\n",
       "      <td>[Occurred : 4/17/2019 02:00  (Entered as : 04-...</td>\n",
       "      <td>http://www.nuforc.org/webreports/145/S145697.html</td>\n",
       "      <td>driving towards intersection fallowfield eagle...</td>\n",
       "      <td>2019-04-18T00:00:00</td>\n",
       "      <td>45.381383</td>\n",
       "      <td>...</td>\n",
       "      <td>0</td>\n",
       "      <td>23</td>\n",
       "      <td>3.135494</td>\n",
       "      <td>146</td>\n",
       "      <td>4.983607</td>\n",
       "      <td>6.347826</td>\n",
       "      <td>22</td>\n",
       "      <td>False</td>\n",
       "      <td>3.091042</td>\n",
       "      <td>NaN</td>\n",
       "    </tr>\n",
       "    <tr>\n",
       "      <th>3</th>\n",
       "      <td>5.0</td>\n",
       "      <td>Peoria</td>\n",
       "      <td>NY</td>\n",
       "      <td>2009-03-15 18:00:00</td>\n",
       "      <td>cigar</td>\n",
       "      <td>[Occurred : 3/15/2009 18:00  (Entered as : 03/...</td>\n",
       "      <td>http://www.nuforc.org/webreports/145/S145723.html</td>\n",
       "      <td>peoria arizona saw cigar shaped craft floating...</td>\n",
       "      <td>2019-04-18T00:00:00</td>\n",
       "      <td>NaN</td>\n",
       "      <td>...</td>\n",
       "      <td>0</td>\n",
       "      <td>103</td>\n",
       "      <td>4.634729</td>\n",
       "      <td>570</td>\n",
       "      <td>6.345636</td>\n",
       "      <td>5.533981</td>\n",
       "      <td>81</td>\n",
       "      <td>False</td>\n",
       "      <td>4.394449</td>\n",
       "      <td>New York</td>\n",
       "    </tr>\n",
       "    <tr>\n",
       "      <th>4</th>\n",
       "      <td>6.0</td>\n",
       "      <td>Kirbyville</td>\n",
       "      <td>TX</td>\n",
       "      <td>2019-04-02 20:25:00</td>\n",
       "      <td>disk</td>\n",
       "      <td>[Occurred : 4/2/2019 20:25  (Entered as : 04/0...</td>\n",
       "      <td>http://www.nuforc.org/webreports/145/S145476.html</td>\n",
       "      <td>object flashing light green blue red white lig...</td>\n",
       "      <td>2019-04-08T00:00:00</td>\n",
       "      <td>30.677200</td>\n",
       "      <td>...</td>\n",
       "      <td>0</td>\n",
       "      <td>124</td>\n",
       "      <td>4.820282</td>\n",
       "      <td>711</td>\n",
       "      <td>6.566672</td>\n",
       "      <td>5.733871</td>\n",
       "      <td>84</td>\n",
       "      <td>False</td>\n",
       "      <td>4.430817</td>\n",
       "      <td>Texas</td>\n",
       "    </tr>\n",
       "  </tbody>\n",
       "</table>\n",
       "<p>5 rows × 36 columns</p>\n",
       "</div>"
      ],
      "text/plain": [
       "   Text_ID        city state           date_time     shape  \\\n",
       "0      1.0     Chester    VA 2019-12-12 18:43:00     light   \n",
       "1      2.0  Rocky Hill    CT 2019-03-22 18:30:00    circle   \n",
       "2      4.0      Ottawa    ON 2019-04-17 02:00:00  teardrop   \n",
       "3      5.0      Peoria    NY 2009-03-15 18:00:00     cigar   \n",
       "4      6.0  Kirbyville    TX 2019-04-02 20:25:00      disk   \n",
       "\n",
       "                                               stats  \\\n",
       "0  [Occurred : 12/12/2019 18:43  (Entered as : 12...   \n",
       "1  [Occurred : 3/22/2019 18:30  (Entered as : 03/...   \n",
       "2  [Occurred : 4/17/2019 02:00  (Entered as : 04-...   \n",
       "3  [Occurred : 3/15/2009 18:00  (Entered as : 03/...   \n",
       "4  [Occurred : 4/2/2019 20:25  (Entered as : 04/0...   \n",
       "\n",
       "                                         report_link  \\\n",
       "0  http://www.nuforc.org/webreports/151/S151739.html   \n",
       "1  http://www.nuforc.org/webreports/145/S145297.html   \n",
       "2  http://www.nuforc.org/webreports/145/S145697.html   \n",
       "3  http://www.nuforc.org/webreports/145/S145723.html   \n",
       "4  http://www.nuforc.org/webreports/145/S145476.html   \n",
       "\n",
       "                                                text               posted  \\\n",
       "0  wife driving southeast fairly populated main s...  2019-12-22T00:00:00   \n",
       "1  think may caught ufo nbc nightly news aired ma...  2019-03-29T00:00:00   \n",
       "2  driving towards intersection fallowfield eagle...  2019-04-18T00:00:00   \n",
       "3  peoria arizona saw cigar shaped craft floating...  2019-04-18T00:00:00   \n",
       "4  object flashing light green blue red white lig...  2019-04-08T00:00:00   \n",
       "\n",
       "   city_latitude  ...  airbase text_word_count text_word_count_log  \\\n",
       "0      37.343152  ...        0              96            4.564348   \n",
       "1      41.664800  ...        0              39            3.663562   \n",
       "2      45.381383  ...        0              23            3.135494   \n",
       "3            NaN  ...        0             103            4.634729   \n",
       "4      30.677200  ...        0             124            4.820282   \n",
       "\n",
       "  text_char_count text_char_log avg_word_cnt  unq_words  iss_nearby  \\\n",
       "0             507      6.228511     5.281250         69       False   \n",
       "1             192      5.257495     4.923077         38       False   \n",
       "2             146      4.983607     6.347826         22       False   \n",
       "3             570      6.345636     5.533981         81       False   \n",
       "4             711      6.566672     5.733871         84       False   \n",
       "\n",
       "  unq_words_log    usa_state  \n",
       "0      4.234107     Virginia  \n",
       "1      3.637586  Connecticut  \n",
       "2      3.091042          NaN  \n",
       "3      4.394449     New York  \n",
       "4      4.430817        Texas  \n",
       "\n",
       "[5 rows x 36 columns]"
      ]
     },
     "execution_count": 427,
     "metadata": {},
     "output_type": "execute_result"
    }
   ],
   "source": [
    "test_df.head()"
   ]
  },
  {
   "cell_type": "code",
   "execution_count": 428,
   "metadata": {},
   "outputs": [],
   "source": [
    "df_new = pd.merge(df_new,us_states[['state','usa_state']],on='state',how='left')"
   ]
  },
  {
   "cell_type": "code",
   "execution_count": 447,
   "metadata": {},
   "outputs": [],
   "source": [
    "#import the alcohol dataset\n",
    "alcohol_data = pd.read_csv('C:/Users/abhis\\Documents/git_repo/feature-engineering/data/UFO/per_capita_alc.csv',encoding='ISO-8859-1')"
   ]
  },
  {
   "cell_type": "code",
   "execution_count": 448,
   "metadata": {},
   "outputs": [],
   "source": [
    "alcohol_data['year'] = alcohol_data['year'].astype(int)"
   ]
  },
  {
   "cell_type": "code",
   "execution_count": 452,
   "metadata": {},
   "outputs": [],
   "source": [
    "alcohol_data = alcohol_data.rename(columns={'state':'usa_state'})"
   ]
  },
  {
   "cell_type": "code",
   "execution_count": 461,
   "metadata": {},
   "outputs": [],
   "source": [
    "test_df = df_new.copy(deep=True)"
   ]
  },
  {
   "cell_type": "code",
   "execution_count": 469,
   "metadata": {},
   "outputs": [],
   "source": [
    "df_new['usa_state'] = df_new['usa_state'].str.lower()"
   ]
  },
  {
   "cell_type": "code",
   "execution_count": 471,
   "metadata": {},
   "outputs": [],
   "source": [
    "df_new = pd.merge(df_new,alcohol_data[['year','usa_state','number_of_drinks_total']],on=['year','usa_state'],how='left')"
   ]
  },
  {
   "cell_type": "code",
   "execution_count": 474,
   "metadata": {},
   "outputs": [
    {
     "data": {
      "text/plain": [
       "Index(['Text_ID', 'city', 'state', 'date_time', 'shape', 'stats',\n",
       "       'report_link', 'text', 'posted', 'city_latitude', 'city_longitude',\n",
       "       'Duration', 'summary_notes', 'text_notes', 'Reported_stats',\n",
       "       'Occurred_stats', 'year', 'hour', 'time_of_day', 'city_state', 'coord',\n",
       "       'time_difference', 'reporting_lag', 'shape_binned', 'airbase_name',\n",
       "       'state_name', 'airbase', 'text_word_count', 'text_word_count_log',\n",
       "       'text_char_count', 'text_char_log', 'avg_word_cnt', 'unq_words',\n",
       "       'iss_nearby', 'unq_words_log', 'usa_state', 'number_of_drinks_total_x',\n",
       "       'number_of_drinks_total_y'],\n",
       "      dtype='object')"
      ]
     },
     "execution_count": 474,
     "metadata": {},
     "output_type": "execute_result"
    }
   ],
   "source": [
    "df_new.columns"
   ]
  },
  {
   "cell_type": "code",
   "execution_count": 475,
   "metadata": {},
   "outputs": [],
   "source": [
    "df_new = df_new.drop(['number_of_drinks_total_x'],axis=1)"
   ]
  },
  {
   "cell_type": "markdown",
   "metadata": {},
   "source": [
    "# Final dataframe with the engineered columns"
   ]
  },
  {
   "cell_type": "code",
   "execution_count": 617,
   "metadata": {},
   "outputs": [],
   "source": [
    "df_final = df_new[['Duration','state','hour','time_of_day','reporting_lag','shape_binned','airbase','text_word_count','text_char_count',\n",
    "                    'text_word_count_log','text_char_log','avg_word_cnt','unq_words','unq_words_log','iss_nearby','number_of_drinks_total_y','year']]"
   ]
  },
  {
   "cell_type": "code",
   "execution_count": 618,
   "metadata": {},
   "outputs": [
    {
     "name": "stderr",
     "output_type": "stream",
     "text": [
      "c:\\Users\\abhis\\Documents\\feature-eng\\lib\\site-packages\\pandas\\core\\generic.py:6392: SettingWithCopyWarning: \n",
      "A value is trying to be set on a copy of a slice from a DataFrame\n",
      "\n",
      "See the caveats in the documentation: https://pandas.pydata.org/pandas-docs/stable/user_guide/indexing.html#returning-a-view-versus-a-copy\n",
      "  return self._update_inplace(result)\n"
     ]
    }
   ],
   "source": [
    "df_final['number_of_drinks_total_y'].fillna(df_final['number_of_drinks_total_y'].median(),inplace=True)"
   ]
  },
  {
   "cell_type": "code",
   "execution_count": 619,
   "metadata": {},
   "outputs": [
    {
     "data": {
      "text/html": [
       "<div>\n",
       "<style scoped>\n",
       "    .dataframe tbody tr th:only-of-type {\n",
       "        vertical-align: middle;\n",
       "    }\n",
       "\n",
       "    .dataframe tbody tr th {\n",
       "        vertical-align: top;\n",
       "    }\n",
       "\n",
       "    .dataframe thead th {\n",
       "        text-align: right;\n",
       "    }\n",
       "</style>\n",
       "<table border=\"1\" class=\"dataframe\">\n",
       "  <thead>\n",
       "    <tr style=\"text-align: right;\">\n",
       "      <th></th>\n",
       "      <th>Duration</th>\n",
       "      <th>state</th>\n",
       "      <th>hour</th>\n",
       "      <th>time_of_day</th>\n",
       "      <th>reporting_lag</th>\n",
       "      <th>shape_binned</th>\n",
       "      <th>airbase</th>\n",
       "      <th>text_word_count</th>\n",
       "      <th>text_char_count</th>\n",
       "      <th>text_word_count_log</th>\n",
       "      <th>text_char_log</th>\n",
       "      <th>avg_word_cnt</th>\n",
       "      <th>unq_words</th>\n",
       "      <th>unq_words_log</th>\n",
       "      <th>iss_nearby</th>\n",
       "      <th>number_of_drinks_total_y</th>\n",
       "      <th>year</th>\n",
       "    </tr>\n",
       "  </thead>\n",
       "  <tbody>\n",
       "    <tr>\n",
       "      <th>0</th>\n",
       "      <td>seconds</td>\n",
       "      <td>VA</td>\n",
       "      <td>18</td>\n",
       "      <td>EVENING</td>\n",
       "      <td>weeks</td>\n",
       "      <td>light</td>\n",
       "      <td>0</td>\n",
       "      <td>96</td>\n",
       "      <td>507</td>\n",
       "      <td>4.564348</td>\n",
       "      <td>6.228511</td>\n",
       "      <td>5.281250</td>\n",
       "      <td>69</td>\n",
       "      <td>4.234107</td>\n",
       "      <td>False</td>\n",
       "      <td>492.800000</td>\n",
       "      <td>2019</td>\n",
       "    </tr>\n",
       "    <tr>\n",
       "      <th>1</th>\n",
       "      <td>seconds</td>\n",
       "      <td>CT</td>\n",
       "      <td>18</td>\n",
       "      <td>EVENING</td>\n",
       "      <td>days</td>\n",
       "      <td>circular</td>\n",
       "      <td>0</td>\n",
       "      <td>39</td>\n",
       "      <td>192</td>\n",
       "      <td>3.663562</td>\n",
       "      <td>5.257495</td>\n",
       "      <td>4.923077</td>\n",
       "      <td>38</td>\n",
       "      <td>3.637586</td>\n",
       "      <td>False</td>\n",
       "      <td>492.800000</td>\n",
       "      <td>2019</td>\n",
       "    </tr>\n",
       "    <tr>\n",
       "      <th>2</th>\n",
       "      <td>seconds</td>\n",
       "      <td>ON</td>\n",
       "      <td>2</td>\n",
       "      <td>LATE NIGHT</td>\n",
       "      <td>hours</td>\n",
       "      <td>other</td>\n",
       "      <td>0</td>\n",
       "      <td>23</td>\n",
       "      <td>146</td>\n",
       "      <td>3.135494</td>\n",
       "      <td>4.983607</td>\n",
       "      <td>6.347826</td>\n",
       "      <td>22</td>\n",
       "      <td>3.091042</td>\n",
       "      <td>False</td>\n",
       "      <td>492.800000</td>\n",
       "      <td>2019</td>\n",
       "    </tr>\n",
       "    <tr>\n",
       "      <th>3</th>\n",
       "      <td>minutes</td>\n",
       "      <td>NY</td>\n",
       "      <td>18</td>\n",
       "      <td>EVENING</td>\n",
       "      <td>years</td>\n",
       "      <td>circular</td>\n",
       "      <td>0</td>\n",
       "      <td>103</td>\n",
       "      <td>570</td>\n",
       "      <td>4.634729</td>\n",
       "      <td>6.345636</td>\n",
       "      <td>5.533981</td>\n",
       "      <td>81</td>\n",
       "      <td>4.394449</td>\n",
       "      <td>False</td>\n",
       "      <td>443.733333</td>\n",
       "      <td>2009</td>\n",
       "    </tr>\n",
       "    <tr>\n",
       "      <th>4</th>\n",
       "      <td>minutes</td>\n",
       "      <td>TX</td>\n",
       "      <td>20</td>\n",
       "      <td>EVENING</td>\n",
       "      <td>hours</td>\n",
       "      <td>circular</td>\n",
       "      <td>0</td>\n",
       "      <td>124</td>\n",
       "      <td>711</td>\n",
       "      <td>4.820282</td>\n",
       "      <td>6.566672</td>\n",
       "      <td>5.733871</td>\n",
       "      <td>84</td>\n",
       "      <td>4.430817</td>\n",
       "      <td>False</td>\n",
       "      <td>492.800000</td>\n",
       "      <td>2019</td>\n",
       "    </tr>\n",
       "  </tbody>\n",
       "</table>\n",
       "</div>"
      ],
      "text/plain": [
       "  Duration state  hour time_of_day reporting_lag shape_binned  airbase  \\\n",
       "0  seconds    VA    18     EVENING         weeks        light        0   \n",
       "1  seconds    CT    18     EVENING          days     circular        0   \n",
       "2  seconds    ON     2  LATE NIGHT         hours        other        0   \n",
       "3  minutes    NY    18     EVENING         years     circular        0   \n",
       "4  minutes    TX    20     EVENING         hours     circular        0   \n",
       "\n",
       "   text_word_count  text_char_count  text_word_count_log  text_char_log  \\\n",
       "0               96              507             4.564348       6.228511   \n",
       "1               39              192             3.663562       5.257495   \n",
       "2               23              146             3.135494       4.983607   \n",
       "3              103              570             4.634729       6.345636   \n",
       "4              124              711             4.820282       6.566672   \n",
       "\n",
       "   avg_word_cnt  unq_words  unq_words_log  iss_nearby  \\\n",
       "0      5.281250         69       4.234107       False   \n",
       "1      4.923077         38       3.637586       False   \n",
       "2      6.347826         22       3.091042       False   \n",
       "3      5.533981         81       4.394449       False   \n",
       "4      5.733871         84       4.430817       False   \n",
       "\n",
       "   number_of_drinks_total_y  year  \n",
       "0                492.800000  2019  \n",
       "1                492.800000  2019  \n",
       "2                492.800000  2019  \n",
       "3                443.733333  2009  \n",
       "4                492.800000  2019  "
      ]
     },
     "execution_count": 619,
     "metadata": {},
     "output_type": "execute_result"
    }
   ],
   "source": [
    "df_final.head()"
   ]
  },
  {
   "cell_type": "code",
   "execution_count": 630,
   "metadata": {},
   "outputs": [
    {
     "name": "stderr",
     "output_type": "stream",
     "text": [
      "c:\\Users\\abhis\\Documents\\feature-eng\\lib\\site-packages\\pandas\\core\\frame.py:5238: SettingWithCopyWarning: \n",
      "A value is trying to be set on a copy of a slice from a DataFrame\n",
      "\n",
      "See the caveats in the documentation: https://pandas.pydata.org/pandas-docs/stable/user_guide/indexing.html#returning-a-view-versus-a-copy\n",
      "  return super().replace(\n"
     ]
    }
   ],
   "source": [
    "df_final.replace([np.inf,-np.inf],np.nan,inplace=True)"
   ]
  },
  {
   "cell_type": "markdown",
   "metadata": {},
   "source": [
    "# Model"
   ]
  },
  {
   "cell_type": "code",
   "execution_count": 631,
   "metadata": {},
   "outputs": [],
   "source": [
    "TARGET = \"Duration\" \n",
    "columns_predictors = [col for col in df_final.columns if col not in [TARGET]]\n"
   ]
  },
  {
   "cell_type": "code",
   "execution_count": 632,
   "metadata": {},
   "outputs": [
    {
     "data": {
      "text/plain": [
       "Duration                       0\n",
       "state                          0\n",
       "hour                           0\n",
       "time_of_day                    0\n",
       "reporting_lag               1899\n",
       "shape_binned                   0\n",
       "airbase                        0\n",
       "text_word_count                0\n",
       "text_char_count                0\n",
       "text_word_count_log            0\n",
       "text_char_log                187\n",
       "avg_word_cnt                   0\n",
       "unq_words                      0\n",
       "unq_words_log                187\n",
       "iss_nearby                     0\n",
       "number_of_drinks_total_y       0\n",
       "year                           0\n",
       "dtype: int64"
      ]
     },
     "execution_count": 632,
     "metadata": {},
     "output_type": "execute_result"
    }
   ],
   "source": [
    "df_final.isnull().sum()"
   ]
  },
  {
   "cell_type": "code",
   "execution_count": 633,
   "metadata": {},
   "outputs": [
    {
     "name": "stderr",
     "output_type": "stream",
     "text": [
      "C:\\Users\\abhis\\AppData\\Local\\Temp/ipykernel_16504/828332901.py:2: SettingWithCopyWarning: \n",
      "A value is trying to be set on a copy of a slice from a DataFrame.\n",
      "Try using .loc[row_indexer,col_indexer] = value instead\n",
      "\n",
      "See the caveats in the documentation: https://pandas.pydata.org/pandas-docs/stable/user_guide/indexing.html#returning-a-view-versus-a-copy\n",
      "  df_final['reporting_lag'] = df_final['reporting_lag'].cat.add_categories('unknown')\n"
     ]
    }
   ],
   "source": [
    "# we have around 1899 values that are null for \n",
    "df_final['reporting_lag'] = df_final['reporting_lag'].cat.add_categories('unknown')"
   ]
  },
  {
   "cell_type": "code",
   "execution_count": 634,
   "metadata": {},
   "outputs": [
    {
     "name": "stderr",
     "output_type": "stream",
     "text": [
      "c:\\Users\\abhis\\Documents\\feature-eng\\lib\\site-packages\\pandas\\core\\generic.py:6392: SettingWithCopyWarning: \n",
      "A value is trying to be set on a copy of a slice from a DataFrame\n",
      "\n",
      "See the caveats in the documentation: https://pandas.pydata.org/pandas-docs/stable/user_guide/indexing.html#returning-a-view-versus-a-copy\n",
      "  return self._update_inplace(result)\n"
     ]
    }
   ],
   "source": [
    "df_final['reporting_lag'].fillna('unknown',inplace=True)"
   ]
  },
  {
   "cell_type": "code",
   "execution_count": 636,
   "metadata": {},
   "outputs": [
    {
     "data": {
      "text/plain": [
       "Duration                      0\n",
       "state                         0\n",
       "hour                          0\n",
       "time_of_day                   0\n",
       "reporting_lag                 0\n",
       "shape_binned                  0\n",
       "airbase                       0\n",
       "text_word_count               0\n",
       "text_char_count               0\n",
       "text_word_count_log           0\n",
       "text_char_log               187\n",
       "avg_word_cnt                  0\n",
       "unq_words                     0\n",
       "unq_words_log               187\n",
       "iss_nearby                    0\n",
       "number_of_drinks_total_y      0\n",
       "year                          0\n",
       "dtype: int64"
      ]
     },
     "execution_count": 636,
     "metadata": {},
     "output_type": "execute_result"
    }
   ],
   "source": [
    "df_final.isnull().sum()"
   ]
  },
  {
   "cell_type": "code",
   "execution_count": 637,
   "metadata": {},
   "outputs": [
    {
     "name": "stderr",
     "output_type": "stream",
     "text": [
      "C:\\Users\\abhis\\AppData\\Local\\Temp/ipykernel_16504/2389642793.py:1: FutureWarning: Dropping of nuisance columns in DataFrame reductions (with 'numeric_only=None') is deprecated; in a future version this will raise TypeError.  Select only valid columns before calling the reduction.\n",
      "  df_final.fillna(df_final.median(),inplace=True)\n",
      "c:\\Users\\abhis\\Documents\\feature-eng\\lib\\site-packages\\pandas\\core\\generic.py:6392: SettingWithCopyWarning: \n",
      "A value is trying to be set on a copy of a slice from a DataFrame\n",
      "\n",
      "See the caveats in the documentation: https://pandas.pydata.org/pandas-docs/stable/user_guide/indexing.html#returning-a-view-versus-a-copy\n",
      "  return self._update_inplace(result)\n"
     ]
    }
   ],
   "source": [
    "df_final.fillna(df_final.median(),inplace=True)"
   ]
  },
  {
   "cell_type": "code",
   "execution_count": 640,
   "metadata": {},
   "outputs": [
    {
     "data": {
      "text/plain": [
       "Duration                    0\n",
       "state                       0\n",
       "hour                        0\n",
       "time_of_day                 0\n",
       "reporting_lag               0\n",
       "shape_binned                0\n",
       "airbase                     0\n",
       "text_word_count             0\n",
       "text_char_count             0\n",
       "text_word_count_log         0\n",
       "text_char_log               0\n",
       "avg_word_cnt                0\n",
       "unq_words                   0\n",
       "unq_words_log               0\n",
       "iss_nearby                  0\n",
       "number_of_drinks_total_y    0\n",
       "year                        0\n",
       "dtype: int64"
      ]
     },
     "execution_count": 640,
     "metadata": {},
     "output_type": "execute_result"
    }
   ],
   "source": [
    "df_final.isnull().sum()"
   ]
  },
  {
   "cell_type": "code",
   "execution_count": 660,
   "metadata": {},
   "outputs": [],
   "source": [
    "df_final = df_final.drop('state',axis=1)"
   ]
  },
  {
   "cell_type": "code",
   "execution_count": 661,
   "metadata": {},
   "outputs": [],
   "source": [
    "X = df_final.drop('Duration',axis=1)"
   ]
  },
  {
   "cell_type": "code",
   "execution_count": 662,
   "metadata": {},
   "outputs": [
    {
     "data": {
      "text/plain": [
       "hour                        0\n",
       "time_of_day                 0\n",
       "reporting_lag               0\n",
       "shape_binned                0\n",
       "airbase                     0\n",
       "text_word_count             0\n",
       "text_char_count             0\n",
       "text_word_count_log         0\n",
       "text_char_log               0\n",
       "avg_word_cnt                0\n",
       "unq_words                   0\n",
       "unq_words_log               0\n",
       "iss_nearby                  0\n",
       "number_of_drinks_total_y    0\n",
       "year                        0\n",
       "dtype: int64"
      ]
     },
     "execution_count": 662,
     "metadata": {},
     "output_type": "execute_result"
    }
   ],
   "source": [
    "X.isnull().sum()"
   ]
  },
  {
   "cell_type": "code",
   "execution_count": 663,
   "metadata": {},
   "outputs": [],
   "source": [
    "y = df_final[TARGET]"
   ]
  },
  {
   "cell_type": "code",
   "execution_count": 664,
   "metadata": {},
   "outputs": [],
   "source": [
    "# Using Skicit-learn to split data into training and testing sets\n",
    "from sklearn.model_selection import train_test_split\n",
    "\n",
    "\n",
    "\n",
    "X_train, X_test, y_train, y_test = train_test_split(X, y, test_size=0.2, random_state=42, stratify=y)"
   ]
  },
  {
   "cell_type": "code",
   "execution_count": 666,
   "metadata": {},
   "outputs": [
    {
     "data": {
      "text/html": [
       "<div>\n",
       "<style scoped>\n",
       "    .dataframe tbody tr th:only-of-type {\n",
       "        vertical-align: middle;\n",
       "    }\n",
       "\n",
       "    .dataframe tbody tr th {\n",
       "        vertical-align: top;\n",
       "    }\n",
       "\n",
       "    .dataframe thead th {\n",
       "        text-align: right;\n",
       "    }\n",
       "</style>\n",
       "<table border=\"1\" class=\"dataframe\">\n",
       "  <thead>\n",
       "    <tr style=\"text-align: right;\">\n",
       "      <th></th>\n",
       "      <th>hour</th>\n",
       "      <th>time_of_day</th>\n",
       "      <th>reporting_lag</th>\n",
       "      <th>shape_binned</th>\n",
       "      <th>airbase</th>\n",
       "      <th>text_word_count</th>\n",
       "      <th>text_char_count</th>\n",
       "      <th>text_word_count_log</th>\n",
       "      <th>text_char_log</th>\n",
       "      <th>avg_word_cnt</th>\n",
       "      <th>unq_words</th>\n",
       "      <th>unq_words_log</th>\n",
       "      <th>iss_nearby</th>\n",
       "      <th>number_of_drinks_total_y</th>\n",
       "      <th>year</th>\n",
       "    </tr>\n",
       "  </thead>\n",
       "  <tbody>\n",
       "  </tbody>\n",
       "</table>\n",
       "</div>"
      ],
      "text/plain": [
       "Empty DataFrame\n",
       "Columns: [hour, time_of_day, reporting_lag, shape_binned, airbase, text_word_count, text_char_count, text_word_count_log, text_char_log, avg_word_cnt, unq_words, unq_words_log, iss_nearby, number_of_drinks_total_y, year]\n",
       "Index: []"
      ]
     },
     "execution_count": 666,
     "metadata": {},
     "output_type": "execute_result"
    }
   ],
   "source": [
    "X_test[np.isfinite(X_test['text_word_count_log'])==False]"
   ]
  },
  {
   "cell_type": "code",
   "execution_count": 677,
   "metadata": {},
   "outputs": [
    {
     "data": {
      "text/plain": [
       "minutes    38687\n",
       "seconds    16835\n",
       "Unknown     4598\n",
       "hours       3855\n",
       "nights       757\n",
       "Name: Duration, dtype: int64"
      ]
     },
     "execution_count": 677,
     "metadata": {},
     "output_type": "execute_result"
    }
   ],
   "source": [
    "y_train.value_counts()"
   ]
  },
  {
   "cell_type": "code",
   "execution_count": 667,
   "metadata": {},
   "outputs": [],
   "source": [
    "categorical_predictors = ['time_of_day','reporting_lag','shape_binned']"
   ]
  },
  {
   "cell_type": "code",
   "execution_count": 694,
   "metadata": {},
   "outputs": [],
   "source": [
    "from sklearn.ensemble import RandomForestClassifier\n",
    "from sklearn.preprocessing import LabelEncoder,OrdinalEncoder\n",
    "from sklearn.pipeline import Pipeline\n",
    "from sklearn.compose import ColumnTransformer\n",
    "from sklearn.model_selection import GridSearchCV\n",
    "from sklearn.metrics import accuracy_score,precision_score, recall_score, f1_score"
   ]
  },
  {
   "cell_type": "code",
   "execution_count": 669,
   "metadata": {},
   "outputs": [],
   "source": [
    "categorical_transformer = Pipeline(steps=[\n",
    "('imput', OrdinalEncoder())\n",
    "])\n",
    "preprocessor = ColumnTransformer(\n",
    "transformers=[\n",
    "('cat', categorical_transformer, categorical_predictors)\n",
    "],  remainder ='passthrough')"
   ]
  },
  {
   "cell_type": "code",
   "execution_count": 735,
   "metadata": {},
   "outputs": [],
   "source": [
    "rnd_clf = RandomForestClassifier(max_depth=200,n_estimators=10000,random_state=0,n_jobs=-1)"
   ]
  },
  {
   "cell_type": "code",
   "execution_count": 736,
   "metadata": {},
   "outputs": [
    {
     "data": {
      "text/plain": [
       "Pipeline(steps=[('preprocessor',\n",
       "                 ColumnTransformer(remainder='passthrough',\n",
       "                                   transformers=[('cat',\n",
       "                                                  Pipeline(steps=[('imput',\n",
       "                                                                   OrdinalEncoder())]),\n",
       "                                                  ['time_of_day',\n",
       "                                                   'reporting_lag',\n",
       "                                                   'shape_binned'])])),\n",
       "                ('model',\n",
       "                 RandomForestClassifier(max_depth=200, n_estimators=10000,\n",
       "                                        n_jobs=-1, random_state=0))])"
      ]
     },
     "execution_count": 736,
     "metadata": {},
     "output_type": "execute_result"
    }
   ],
   "source": [
    "my_pipeline = Pipeline(steps=[('preprocessor', preprocessor),\n",
    "('model', rnd_clf)\n",
    "])\n",
    "my_pipeline.fit(X_train,y_train)"
   ]
  },
  {
   "cell_type": "code",
   "execution_count": 737,
   "metadata": {},
   "outputs": [],
   "source": [
    "predictions = my_pipeline.predict(X_test)"
   ]
  },
  {
   "cell_type": "code",
   "execution_count": 738,
   "metadata": {},
   "outputs": [
    {
     "data": {
      "text/plain": [
       "array(['Unknown', 'hours', 'minutes', 'nights', 'seconds'], dtype=object)"
      ]
     },
     "execution_count": 738,
     "metadata": {},
     "output_type": "execute_result"
    }
   ],
   "source": [
    "np.unique(predictions)"
   ]
  },
  {
   "cell_type": "code",
   "execution_count": 696,
   "metadata": {},
   "outputs": [],
   "source": [
    "# param_grid = {'model__bootstrap': [True, False],\n",
    "#  'model__max_depth': [10, 20, 30, 40, 50, 60, 70, 80, 90, 100],\n",
    "# 'model__max_features': ['auto', 'sqrt'],\n",
    "# 'model__min_samples_leaf':  [2,4],\n",
    "# 'model__min_samples_split': [2, 5],\n",
    "# 'model__n_estimators': [200]}"
   ]
  },
  {
   "cell_type": "code",
   "execution_count": 739,
   "metadata": {},
   "outputs": [
    {
     "name": "stdout",
     "output_type": "stream",
     "text": [
      "accuracy: 0.5963047642587901\n",
      "f1 score: 0.49396949817650493\n"
     ]
    }
   ],
   "source": [
    "# #lets go a Grid search to find the best model\n",
    "# grid_search = GridSearchCV(estimator = my_pipeline, param_grid = param_grid, \n",
    "#                          cv = 3, verbose = 3)\n",
    "# grid_search.fit(X_train, y_train)\n",
    "# #evaluate the model\n",
    "# preds = my_pipeline.predict(X_test)\n",
    "score = accuracy_score(y_test, predictions)\n",
    "print('accuracy:', score)\n",
    "score = f1_score(y_test, predictions, average='weighted')\n",
    "print('f1 score:', score)"
   ]
  },
  {
   "cell_type": "code",
   "execution_count": 740,
   "metadata": {},
   "outputs": [],
   "source": [
    "from sklearn.metrics import classification_report\n",
    "\n",
    "report = classification_report(y_test,predictions)"
   ]
  },
  {
   "cell_type": "code",
   "execution_count": 741,
   "metadata": {},
   "outputs": [
    {
     "name": "stdout",
     "output_type": "stream",
     "text": [
      "              precision    recall  f1-score   support\n",
      "\n",
      "     Unknown       0.82      0.14      0.24      1149\n",
      "       hours       0.50      0.01      0.01       964\n",
      "     minutes       0.61      0.95      0.74      9672\n",
      "      nights       0.25      0.01      0.01       189\n",
      "     seconds       0.35      0.08      0.13      4209\n",
      "\n",
      "    accuracy                           0.60     16183\n",
      "   macro avg       0.51      0.23      0.23     16183\n",
      "weighted avg       0.55      0.60      0.49     16183\n",
      "\n"
     ]
    }
   ],
   "source": [
    "print(report)"
   ]
  },
  {
   "cell_type": "code",
   "execution_count": 742,
   "metadata": {},
   "outputs": [
    {
     "data": {
      "image/png": "[encoded data removed]",
      "text/plain": [
       "<Figure size 576x432 with 1 Axes>"
      ]
     },
     "metadata": {
      "needs_background": "light"
     },
     "output_type": "display_data"
    }
   ],
   "source": [
    "feat_importances = pd.Series(rnd_clf.feature_importances_, index=X_train.columns)\n",
    "\n",
    "plt.figure(figsize=(8,6))\n",
    "feat_importances.nlargest(20).plot(kind='barh')\n",
    "plt.gca().invert_yaxis()\n",
    "plt.title(\"Top 20 important features (Random Forest)\")\n",
    "plt.show()"
   ]
  },
  {
   "cell_type": "code",
   "execution_count": 743,
   "metadata": {},
   "outputs": [],
   "source": [
    "df_final.to_csv('final_features.csv',index=False)"
   ]
  },
  {
   "cell_type": "code",
   "execution_count": null,
   "metadata": {},
   "outputs": [],
   "source": []
  }
 ],
 "metadata": {
  "colab": {
   "collapsed_sections": [],
   "name": "Feature_Engineering_Project.ipynb",
   "provenance": []
  },
  "kernelspec": {
   "display_name": "Python 3",
   "language": "python",
   "name": "python3"
  },
  "language_info": {
   "codemirror_mode": {
    "name": "ipython",
    "version": 3
   },
   "file_extension": ".py",
   "mimetype": "text/x-python",
   "name": "python",
   "nbconvert_exporter": "python",
   "pygments_lexer": "ipython3",
   "version": "3.9.5"
  },
  "toc": {
   "base_numbering": 1,
   "nav_menu": {},
   "number_sections": true,
   "sideBar": true,
   "skip_h1_title": false,
   "title_cell": "Table of Contents",
   "title_sidebar": "Contents",
   "toc_cell": false,
   "toc_position": {},
   "toc_section_display": true,
   "toc_window_display": false
  }
 },
 "nbformat": 4,
 "nbformat_minor": 1
}
