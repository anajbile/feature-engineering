{
 "cells": [
  {
   "cell_type": "markdown",
   "metadata": {
    "id": "cFKJuKwGgE7F"
   },
   "source": [
    "# Intro"
   ]
  },
  {
   "cell_type": "code",
   "execution_count": 1,
   "metadata": {
    "colab": {
     "base_uri": "https://localhost:8080/"
    },
    "id": "QVy1O86wZmnP",
    "outputId": "d7b8efca-a06d-4ee7-81fc-8e616814f8a2"
   },
   "outputs": [
    {
     "name": "stderr",
     "output_type": "stream",
     "text": [
      "/opt/anaconda3/lib/python3.7/site-packages/statsmodels/tools/_testing.py:19: FutureWarning: pandas.util.testing is deprecated. Use the functions in the public API at pandas.testing instead.\n",
      "  import pandas.util.testing as tm\n",
      "[nltk_data] Downloading package punkt to /Users/rahimjiwa/nltk_data...\n",
      "[nltk_data]   Package punkt is already up-to-date!\n",
      "[nltk_data] Downloading package wordnet to\n",
      "[nltk_data]     /Users/rahimjiwa/nltk_data...\n",
      "[nltk_data]   Package wordnet is already up-to-date!\n",
      "[nltk_data] Downloading package stopwords to\n",
      "[nltk_data]     /Users/rahimjiwa/nltk_data...\n",
      "[nltk_data]   Package stopwords is already up-to-date!\n"
     ]
    }
   ],
   "source": [
    "#imports\n",
    "import pandas as pd\n",
    "import numpy as np\n",
    "import matplotlib.pyplot as plt\n",
    "import seaborn as sns\n",
    "import re, os, string\n",
    "import nltk\n",
    "nltk.download('punkt')\n",
    "nltk.download('wordnet')\n",
    "nltk.download('stopwords')\n",
    "from nltk import word_tokenize\n",
    "from nltk.corpus import stopwords\n",
    "from nltk.stem import WordNetLemmatizer\n",
    "import arrow\n",
    "from datetime import datetime"
   ]
  },
  {
   "cell_type": "code",
   "execution_count": 2,
   "metadata": {
    "colab": {
     "base_uri": "https://localhost:8080/",
     "height": 35
    },
    "id": "dFnqciNN1Yz9",
    "outputId": "bd605434-7741-4a1c-8176-f611bebf0cc7"
   },
   "outputs": [
    {
     "data": {
      "text/plain": [
       "'/Users/rahimjiwa/Documents/Github/feature-engineering'"
      ]
     },
     "execution_count": 2,
     "metadata": {},
     "output_type": "execute_result"
    }
   ],
   "source": [
    "os.getcwd()"
   ]
  },
  {
   "cell_type": "code",
   "execution_count": 3,
   "metadata": {
    "colab": {
     "base_uri": "https://localhost:8080/"
    },
    "id": "Fk6Zh398c1QT",
    "outputId": "494a6e21-ed16-4968-86d0-35e5064b29eb"
   },
   "outputs": [],
   "source": [
    "# # access google drive\n",
    "# from google.colab import drive\n",
    "# drive.mount('/gdrive')\n",
    "# %cd /gdrive/My Drive/UFO"
   ]
  },
  {
   "cell_type": "code",
   "execution_count": 4,
   "metadata": {
    "colab": {
     "base_uri": "https://localhost:8080/"
    },
    "id": "1_yzOmQqdASt",
    "outputId": "e206383f-277a-4b91-aa9e-8a60c529869a"
   },
   "outputs": [],
   "source": [
    "# # change folder to UFO\n",
    "# %cd /gdrive/MyDrive/UFO/"
   ]
  },
  {
   "cell_type": "code",
   "execution_count": 5,
   "metadata": {},
   "outputs": [
    {
     "data": {
      "text/plain": [
       "'/Users/rahimjiwa/Documents/Github/feature-engineering'"
      ]
     },
     "execution_count": 5,
     "metadata": {},
     "output_type": "execute_result"
    }
   ],
   "source": [
    "pwd()"
   ]
  },
  {
   "cell_type": "code",
   "execution_count": 6,
   "metadata": {
    "id": "9eckOgzQdiRV"
   },
   "outputs": [],
   "source": [
    "# read the csv datasets\n",
    "#df = pd.read_csv('C:/Users/abhis\\Documents/feature-eng/data/UFO/ufo.csv')\n",
    "df = pd.read_csv('/Users/rahimjiwa/Documents/Github/feature-engineering/data/UFO/ufo.csv')"
   ]
  },
  {
   "cell_type": "code",
   "execution_count": 7,
   "metadata": {
    "colab": {
     "base_uri": "https://localhost:8080/"
    },
    "id": "S1bcxf9JeRn_",
    "outputId": "a8caede5-1f01-4ca2-c3b9-8740fe75582c"
   },
   "outputs": [
    {
     "name": "stdout",
     "output_type": "stream",
     "text": [
      "<class 'pandas.core.frame.DataFrame'>\n",
      "RangeIndex: 88124 entries, 0 to 88123\n",
      "Data columns (total 13 columns):\n",
      " #   Column             Non-Null Count  Dtype  \n",
      "---  ------             --------------  -----  \n",
      " 0   Text_ID            88124 non-null  int64  \n",
      " 1   summary            88094 non-null  object \n",
      " 2   city               87890 non-null  object \n",
      " 3   state              82889 non-null  object \n",
      " 4   date_time          86938 non-null  object \n",
      " 5   shape              85626 non-null  object \n",
      " 6   stats              88087 non-null  object \n",
      " 7   report_link        88124 non-null  object \n",
      " 8   text               88069 non-null  object \n",
      " 9   posted             86938 non-null  object \n",
      " 10  city_latitude      72012 non-null  float64\n",
      " 11  city_longitude     72012 non-null  float64\n",
      " 12  Duration Category  88124 non-null  object \n",
      "dtypes: float64(2), int64(1), object(10)\n",
      "memory usage: 8.7+ MB\n"
     ]
    }
   ],
   "source": [
    "# check the info\n",
    "df.info()"
   ]
  },
  {
   "cell_type": "code",
   "execution_count": 8,
   "metadata": {
    "colab": {
     "base_uri": "https://localhost:8080/"
    },
    "id": "aMhdnHG8dRlz",
    "outputId": "9ea9b730-2aed-422b-db33-8cde026b896e"
   },
   "outputs": [
    {
     "data": {
      "text/plain": [
       "Text_ID              88124\n",
       "summary              86949\n",
       "city                 16915\n",
       "state                   65\n",
       "date_time            73122\n",
       "shape                   21\n",
       "stats                88071\n",
       "report_link          88124\n",
       "text                 87419\n",
       "posted                 387\n",
       "city_latitude        11208\n",
       "city_longitude       11388\n",
       "Duration Category        5\n",
       "dtype: int64"
      ]
     },
     "execution_count": 8,
     "metadata": {},
     "output_type": "execute_result"
    }
   ],
   "source": [
    "# check the number of unique instances\n",
    "df.nunique()"
   ]
  },
  {
   "cell_type": "code",
   "execution_count": 9,
   "metadata": {
    "id": "zT-dokVWefIU"
   },
   "outputs": [],
   "source": [
    "# it doesn't look like Text_ID will be useful, let's start by dropping that\n",
    "#df.drop(columns='Text_ID', inplace=True)"
   ]
  },
  {
   "cell_type": "code",
   "execution_count": 10,
   "metadata": {
    "colab": {
     "base_uri": "https://localhost:8080/"
    },
    "id": "5hQxB50LernY",
    "outputId": "e1715ca2-3d53-4c2e-945d-e843191d05bf"
   },
   "outputs": [
    {
     "data": {
      "text/plain": [
       "False    88124\n",
       "dtype: int64"
      ]
     },
     "execution_count": 10,
     "metadata": {},
     "output_type": "execute_result"
    }
   ],
   "source": [
    "# now let's check for and drop any duplicates\n",
    "df.duplicated().value_counts()\n",
    "# so according to this, there are no duplicates, maybe this is something we should check once all the preprocessing is done"
   ]
  },
  {
   "cell_type": "code",
   "execution_count": 11,
   "metadata": {
    "colab": {
     "base_uri": "https://localhost:8080/"
    },
    "id": "Ot4PcNxYppDt",
    "outputId": "40859593-b5f7-47ec-f7df-ea84389e4249"
   },
   "outputs": [
    {
     "data": {
      "text/plain": [
       "88124"
      ]
     },
     "execution_count": 11,
     "metadata": {},
     "output_type": "execute_result"
    }
   ],
   "source": [
    "# it is important to note, that the web links could be different for them\n",
    "df['report_link'].nunique()"
   ]
  },
  {
   "cell_type": "code",
   "execution_count": 12,
   "metadata": {
    "id": "YNdFCSqZqu4R"
   },
   "outputs": [],
   "source": [
    "# we are just renaming this for simplicity\n",
    "df.rename(columns={\"Duration Category\":\"Duration\"}, inplace=True)"
   ]
  },
  {
   "cell_type": "code",
   "execution_count": 13,
   "metadata": {
    "id": "v-PsB-0Kpzd-"
   },
   "outputs": [],
   "source": [
    "# this suggests that all web links are unique, this however gives you an issue of having duplicates\n",
    "# that are simply different links, for this, we will drop the duplicates ignoring this column\n",
    "# can we drop this column and then drop the duplicates?\n",
    "# if we don't use or plan to scrape the data then we should be able to\n",
    "#df.drop(columns=\"report_link\", inplace=True)\n",
    "df.drop_duplicates(subset=['summary','city','state','date_time','shape',\n",
    "                           'stats','text','posted','city_latitude','city_longitude','Duration'],inplace=True)"
   ]
  },
  {
   "cell_type": "code",
   "execution_count": 14,
   "metadata": {
    "colab": {
     "base_uri": "https://localhost:8080/"
    },
    "id": "sBorDVp0qOxX",
    "outputId": "ec58abc5-c7b5-42d8-daaf-e72cbaa81d4a"
   },
   "outputs": [
    {
     "name": "stdout",
     "output_type": "stream",
     "text": [
      "<class 'pandas.core.frame.DataFrame'>\n",
      "Int64Index: 88122 entries, 0 to 88123\n",
      "Data columns (total 13 columns):\n",
      " #   Column          Non-Null Count  Dtype  \n",
      "---  ------          --------------  -----  \n",
      " 0   Text_ID         88122 non-null  int64  \n",
      " 1   summary         88092 non-null  object \n",
      " 2   city            87888 non-null  object \n",
      " 3   state           82888 non-null  object \n",
      " 4   date_time       86936 non-null  object \n",
      " 5   shape           85624 non-null  object \n",
      " 6   stats           88085 non-null  object \n",
      " 7   report_link     88122 non-null  object \n",
      " 8   text            88067 non-null  object \n",
      " 9   posted          86936 non-null  object \n",
      " 10  city_latitude   72011 non-null  float64\n",
      " 11  city_longitude  72011 non-null  float64\n",
      " 12  Duration        88122 non-null  object \n",
      "dtypes: float64(2), int64(1), object(10)\n",
      "memory usage: 9.4+ MB\n"
     ]
    }
   ],
   "source": [
    "df.info()"
   ]
  },
  {
   "cell_type": "code",
   "execution_count": 15,
   "metadata": {
    "colab": {
     "base_uri": "https://localhost:8080/"
    },
    "id": "Z9qrVeZRfWEo",
    "outputId": "e8d2dad1-326d-4db8-abc7-b2384303bcfa"
   },
   "outputs": [
    {
     "name": "stdout",
     "output_type": "stream",
     "text": [
      "<class 'pandas.core.frame.DataFrame'>\n",
      "Int64Index: 18835 entries, 2 to 88123\n",
      "Data columns (total 13 columns):\n",
      " #   Column          Non-Null Count  Dtype  \n",
      "---  ------          --------------  -----  \n",
      " 0   Text_ID         18835 non-null  int64  \n",
      " 1   summary         18805 non-null  object \n",
      " 2   city            18601 non-null  object \n",
      " 3   state           13601 non-null  object \n",
      " 4   date_time       17649 non-null  object \n",
      " 5   shape           16337 non-null  object \n",
      " 6   stats           18798 non-null  object \n",
      " 7   report_link     18835 non-null  object \n",
      " 8   text            18780 non-null  object \n",
      " 9   posted          17649 non-null  object \n",
      " 10  city_latitude   2724 non-null   float64\n",
      " 11  city_longitude  2724 non-null   float64\n",
      " 12  Duration        18835 non-null  object \n",
      "dtypes: float64(2), int64(1), object(10)\n",
      "memory usage: 2.0+ MB\n"
     ]
    }
   ],
   "source": [
    "# how many columns have NaN\n",
    "is_nan = df.isnull()\n",
    "row_has_nan  = is_nan.any(axis=1)\n",
    "rows_with_nan = df[row_has_nan]\n",
    "# get info\n",
    "rows_with_nan.info()"
   ]
  },
  {
   "cell_type": "code",
   "execution_count": 16,
   "metadata": {
    "id": "9t7LxG4Vf3qG"
   },
   "outputs": [],
   "source": [
    "# we can see here, that we are missing quite a bit of data and will have to work to preprocess and enrich the dataset\n"
   ]
  },
  {
   "cell_type": "markdown",
   "metadata": {
    "id": "-Rx3FX2bgCyr"
   },
   "source": [
    "# Summary/Text"
   ]
  },
  {
   "cell_type": "code",
   "execution_count": 17,
   "metadata": {
    "colab": {
     "base_uri": "https://localhost:8080/"
    },
    "id": "Bn-IkfbEgSbp",
    "outputId": "57fca2f7-853e-4c01-c09b-6659c1f4542c"
   },
   "outputs": [
    {
     "data": {
      "text/plain": [
       "0        My wife was driving southeast on a fairly popu...\n",
       "1        I think that I may caught a UFO on the NBC Nig...\n",
       "2        I woke up late in the afternoon 3:30-4pm. I we...\n",
       "3        I was driving towards the intersection of fall...\n",
       "4        In Peoria Arizona, I saw a cigar shaped craft ...\n",
       "                               ...                        \n",
       "88119    4 lights in formation over Tempe appear while ...\n",
       "88120    2 bright star like lights in the NNW skys,  ((...\n",
       "88121    I just witnessed a ‘Phoenix Lights’ type of fo...\n",
       "88122    Witnessed an orange, slow moving light. Was lo...\n",
       "88123    Glowing lights in formation  just south of San...\n",
       "Name: summary, Length: 88122, dtype: object"
      ]
     },
     "execution_count": 17,
     "metadata": {},
     "output_type": "execute_result"
    }
   ],
   "source": [
    "# let's start by taking a look at the summary and text columns\n",
    "df['summary']"
   ]
  },
  {
   "cell_type": "code",
   "execution_count": 18,
   "metadata": {
    "colab": {
     "base_uri": "https://localhost:8080/"
    },
    "id": "EYSdyeiEg92-",
    "outputId": "747e93c7-4a83-46ef-a0fd-559b2688083d"
   },
   "outputs": [
    {
     "data": {
      "text/plain": [
       "0        My wife was driving southeast on a fairly popu...\n",
       "1        I think that I may caught a UFO on the NBC Nig...\n",
       "2        I woke up late in the afternoon 3:30-4pm.  I w...\n",
       "3        I was driving towards the intersection of fall...\n",
       "4        In Peoria, Arizona, I saw a cigar shaped craft...\n",
       "                               ...                        \n",
       "88119    4 lights in formation over Tempe appear while ...\n",
       "88120    2 bright star like lights in the NNW sky two b...\n",
       "88121    10/2/19 @ 8:03PM EST  UFO SIGHTING in the 3428...\n",
       "88122    Witnessed an orange, slow moving light. Was lo...\n",
       "88123    Glowing lights in formation  just south of San...\n",
       "Name: text, Length: 88122, dtype: object"
      ]
     },
     "execution_count": 18,
     "metadata": {},
     "output_type": "execute_result"
    }
   ],
   "source": [
    "# now lets look at text\n",
    "df['text']"
   ]
  },
  {
   "cell_type": "code",
   "execution_count": 19,
   "metadata": {
    "colab": {
     "base_uri": "https://localhost:8080/"
    },
    "id": "rRkja9tTg1QF",
    "outputId": "58477239-bd1b-4645-e8ee-2092231b4106"
   },
   "outputs": [
    {
     "name": "stdout",
     "output_type": "stream",
     "text": [
      "My wife was driving southeast on a fairly populated main side road, it was dark out side at about 6:43pm, And my wife exclaimed” fallin\n",
      "My wife was driving southeast on a fairly populated main side road, it was dark out side at about 6:43pm, And my wife exclaimed” falling star baby look quick!” When I looked up I saw not a falling star but a bright ball of light , one that was closer than any shooting star I have ever seen, it had a blue glow  changing into green colors of light as it fell from the sky. It fell as if falling from an invisible opening in the sky... the night was a crystal clear night sky  so no clouds or precipitation to obstruct our view and the object was closer than any I have ever witnessed before. The way the object fell was too slow to be a meteor or falling star, also noting that there was no “light trail” following behind the object as it fell. We watched it fall for about 5 seconds before it disappeared into the dark night sky somewhere close to the earth surface.  It was the strangest light; object; ufo... I have encountered and felt a duty to report it.\n",
      "In Peoria Arizona, I saw a cigar shaped craft floating above the neighborhood 500 feet up silent, emitted brilliant colors,\n",
      "In Peoria, Arizona, I saw a cigar shaped craft floating above the neighborhood 500 feet up silent, emitted brilliant colors, Peoria Arizona - 2009 - On my way home from work - normal evening - as I turned onto my home street i saw a huge huge craft floating above the neighborhood in front of me.  It was cigar shaped, but had a huge bulge in the middle (I used to call it a pregnant joint - if you are familiar with how that would look - skinny on the ends but bulging in the middle.  It made no noise at all and had circular shapes on the front which emitted different colored lights - like it pulsated the lights - orange to red to green to blue.  They were the most brilliant colors I’ve ever seen it’s hard to describe how perfect the colors were.  It was huge like an aircraft carrier in the sky.  It was floating and did not move at all.  I parked in my driveway and ran inside to tell my Roomate.  By the time I was outside, it was gone but there as a trail of haze.  I will never forget it. ((NUFORC Note:  Witness indicates that the date of the sighting is approximate.  PD)\n",
      "2 bright star like lights in the NNW skys,  ((anonymous report))\n",
      "2 bright star like lights in the NNW sky two bright star like lights appeared in the sky.  I witnessed them when letting my dogs out.  They were 2 or 3 times brighter than any other star in the sky.  they were in the Northern NNW sky.  They appeared to get a little closer to each other, then they faded away.  don't know how long they were in the sky before I saw them.  It was around 8:00PM\n"
     ]
    }
   ],
   "source": [
    "# taking a quick look, we can tell some preprocessing will need to be done\n",
    "# things to look out for\n",
    "# \"(())\", capitalization, punctuation\n",
    "# looking at just the snippets, i would hypothesize that a large number of the summaries are simple substrings of the text\n",
    "# furthermore it is likely that many do not add additional information\n",
    "# before we go ahead and simple drop the data, let's take a closer look\n",
    "\n",
    "# print out some instances\n",
    "print(df['summary'][0])\n",
    "print(df['text'][0])\n",
    "print(df['summary'][4])\n",
    "print(df['text'][4])\n",
    "print(df['summary'][88120])\n",
    "print(df['text'][88120])\n"
   ]
  },
  {
   "cell_type": "code",
   "execution_count": 20,
   "metadata": {
    "id": "XdIusK20iFxC"
   },
   "outputs": [],
   "source": [
    "# let's start by writing a function to extract the data from the (()) and remove it from the text, these seem to be internal notes\n",
    "def remove_notes(arg):\n",
    "  arg = re.findall('\\(\\(.*?\\)\\)', str(arg))\n",
    "  return arg\n",
    "\n",
    "# and we will write a separate function to strip out the notes from the data after\n",
    "def strip_notes(arg):\n",
    "  arg = re.sub('\\(\\(.*?\\)\\)','',str(arg))\n",
    "  return arg"
   ]
  },
  {
   "cell_type": "code",
   "execution_count": 21,
   "metadata": {
    "id": "eN5I3IT0jNI0"
   },
   "outputs": [],
   "source": [
    "# we can apply these to are data and to both the summary and the text columns\n",
    "df['summary_notes'] = df.apply(lambda row: remove_notes(row['summary']), axis=1)\n",
    "df['text_notes'] = df.apply(lambda row: remove_notes(row['text']), axis=1)\n",
    "# now let's use strip notes to strip the notes from the strings\n",
    "df['summary'] = df.apply(lambda row: strip_notes(row['summary']), axis=1)\n",
    "df['text'] = df.apply(lambda row: strip_notes(row['text']), axis=1)"
   ]
  },
  {
   "cell_type": "code",
   "execution_count": 22,
   "metadata": {
    "colab": {
     "base_uri": "https://localhost:8080/"
    },
    "id": "efTtammDj6lN",
    "outputId": "618de135-04bc-44ab-fff0-f27e7f7ae0ed"
   },
   "outputs": [
    {
     "data": {
      "text/plain": [
       "Text_ID                                                       88123\n",
       "summary           Witnessed an orange, slow moving light. Was lo...\n",
       "city                                                 Black Mountain\n",
       "state                                                            NC\n",
       "date_time                                       2019-10-02T22:00:00\n",
       "shape                                                      fireball\n",
       "stats             Occurred : 10/2/2019 22:00  (Entered as : 10/0...\n",
       "report_link       http://www.nuforc.org/webreports/149/S149447.html\n",
       "text              Witnessed an orange, slow moving light. Was lo...\n",
       "posted                                          2019-10-04T00:00:00\n",
       "city_latitude                                                35.605\n",
       "city_longitude                                             -82.3132\n",
       "Duration                                                    minutes\n",
       "summary_notes                                                    []\n",
       "text_notes                                                       []\n",
       "Name: 88122, dtype: object"
      ]
     },
     "execution_count": 22,
     "metadata": {},
     "output_type": "execute_result"
    }
   ],
   "source": [
    "#let's take a look at our data now, we can look at row 88120 because we know it has a (())\n",
    "df.iloc[88120,:]"
   ]
  },
  {
   "cell_type": "code",
   "execution_count": 23,
   "metadata": {
    "id": "pzGlxArkmPcn"
   },
   "outputs": [],
   "source": [
    "# we can see now, that our function extracted the note data, and remove the notes from the summary/text\n",
    "# now we can do other preprocessing like removing punctuation, lowercasing\n",
    "def basic_clean(arg):\n",
    "  # make all lowercase\n",
    "  arg = arg.lower()\n",
    "  # remove punctuation\n",
    "  arg = arg.translate(str.maketrans('','', string.punctuation))\n",
    "  # correct spacing issues\n",
    "  arg = \" \".join(arg.split())\n",
    "  return arg"
   ]
  },
  {
   "cell_type": "code",
   "execution_count": 24,
   "metadata": {
    "id": "zWGPj1Ugn9MV"
   },
   "outputs": [],
   "source": [
    "# let's use this on our textual data\n",
    "df['summary'] = df.apply(lambda row: basic_clean(row['summary']), axis=1)\n",
    "df['text'] = df.apply(lambda row: basic_clean(row['text']), axis=1)"
   ]
  },
  {
   "cell_type": "code",
   "execution_count": 25,
   "metadata": {
    "colab": {
     "base_uri": "https://localhost:8080/",
     "height": 206
    },
    "id": "pqhCOM_LoUXt",
    "outputId": "bbf3ce08-e11e-43e5-c4b9-2225dd1e74c7"
   },
   "outputs": [
    {
     "data": {
      "text/html": [
       "<div>\n",
       "<style scoped>\n",
       "    .dataframe tbody tr th:only-of-type {\n",
       "        vertical-align: middle;\n",
       "    }\n",
       "\n",
       "    .dataframe tbody tr th {\n",
       "        vertical-align: top;\n",
       "    }\n",
       "\n",
       "    .dataframe thead th {\n",
       "        text-align: right;\n",
       "    }\n",
       "</style>\n",
       "<table border=\"1\" class=\"dataframe\">\n",
       "  <thead>\n",
       "    <tr style=\"text-align: right;\">\n",
       "      <th></th>\n",
       "      <th>Text_ID</th>\n",
       "      <th>summary</th>\n",
       "      <th>city</th>\n",
       "      <th>state</th>\n",
       "      <th>date_time</th>\n",
       "      <th>shape</th>\n",
       "      <th>stats</th>\n",
       "      <th>report_link</th>\n",
       "      <th>text</th>\n",
       "      <th>posted</th>\n",
       "      <th>city_latitude</th>\n",
       "      <th>city_longitude</th>\n",
       "      <th>Duration</th>\n",
       "      <th>summary_notes</th>\n",
       "      <th>text_notes</th>\n",
       "    </tr>\n",
       "  </thead>\n",
       "  <tbody>\n",
       "    <tr>\n",
       "      <th>0</th>\n",
       "      <td>1</td>\n",
       "      <td>my wife was driving southeast on a fairly popu...</td>\n",
       "      <td>Chester</td>\n",
       "      <td>VA</td>\n",
       "      <td>2019-12-12T18:43:00</td>\n",
       "      <td>light</td>\n",
       "      <td>Occurred : 12/12/2019 18:43  (Entered as : 12/...</td>\n",
       "      <td>http://www.nuforc.org/webreports/151/S151739.html</td>\n",
       "      <td>my wife was driving southeast on a fairly popu...</td>\n",
       "      <td>2019-12-22T00:00:00</td>\n",
       "      <td>37.343152</td>\n",
       "      <td>-77.408582</td>\n",
       "      <td>seconds</td>\n",
       "      <td>[]</td>\n",
       "      <td>[]</td>\n",
       "    </tr>\n",
       "    <tr>\n",
       "      <th>1</th>\n",
       "      <td>2</td>\n",
       "      <td>i think that i may caught a ufo on the nbc nig...</td>\n",
       "      <td>Rocky Hill</td>\n",
       "      <td>CT</td>\n",
       "      <td>2019-03-22T18:30:00</td>\n",
       "      <td>circle</td>\n",
       "      <td>Occurred : 3/22/2019 18:30  (Entered as : 03/2...</td>\n",
       "      <td>http://www.nuforc.org/webreports/145/S145297.html</td>\n",
       "      <td>i think that i may caught a ufo on the nbc nig...</td>\n",
       "      <td>2019-03-29T00:00:00</td>\n",
       "      <td>41.664800</td>\n",
       "      <td>-72.639300</td>\n",
       "      <td>seconds</td>\n",
       "      <td>[]</td>\n",
       "      <td>[]</td>\n",
       "    </tr>\n",
       "    <tr>\n",
       "      <th>2</th>\n",
       "      <td>3</td>\n",
       "      <td>i woke up late in the afternoon 3304pm i went ...</td>\n",
       "      <td>NaN</td>\n",
       "      <td>NaN</td>\n",
       "      <td>NaN</td>\n",
       "      <td>NaN</td>\n",
       "      <td>Occurred : 4/1/2019 15:45  (Entered as : April...</td>\n",
       "      <td>http://www.nuforc.org/webreports/145/S145556.html</td>\n",
       "      <td>i woke up late in the afternoon 3304pm i went ...</td>\n",
       "      <td>NaN</td>\n",
       "      <td>NaN</td>\n",
       "      <td>NaN</td>\n",
       "      <td>Unknown</td>\n",
       "      <td>[]</td>\n",
       "      <td>[]</td>\n",
       "    </tr>\n",
       "    <tr>\n",
       "      <th>3</th>\n",
       "      <td>4</td>\n",
       "      <td>i was driving towards the intersection of fall...</td>\n",
       "      <td>Ottawa</td>\n",
       "      <td>ON</td>\n",
       "      <td>2019-04-17T02:00:00</td>\n",
       "      <td>teardrop</td>\n",
       "      <td>Occurred : 4/17/2019 02:00  (Entered as : 04-1...</td>\n",
       "      <td>http://www.nuforc.org/webreports/145/S145697.html</td>\n",
       "      <td>i was driving towards the intersection of fall...</td>\n",
       "      <td>2019-04-18T00:00:00</td>\n",
       "      <td>45.381383</td>\n",
       "      <td>-75.708501</td>\n",
       "      <td>seconds</td>\n",
       "      <td>[]</td>\n",
       "      <td>[]</td>\n",
       "    </tr>\n",
       "    <tr>\n",
       "      <th>4</th>\n",
       "      <td>5</td>\n",
       "      <td>in peoria arizona i saw a cigar shaped craft f...</td>\n",
       "      <td>Peoria</td>\n",
       "      <td>NY</td>\n",
       "      <td>2009-03-15T18:00:00</td>\n",
       "      <td>cigar</td>\n",
       "      <td>Occurred : 3/15/2009 18:00  (Entered as : 03/1...</td>\n",
       "      <td>http://www.nuforc.org/webreports/145/S145723.html</td>\n",
       "      <td>in peoria arizona i saw a cigar shaped craft f...</td>\n",
       "      <td>2019-04-18T00:00:00</td>\n",
       "      <td>NaN</td>\n",
       "      <td>NaN</td>\n",
       "      <td>minutes</td>\n",
       "      <td>[]</td>\n",
       "      <td>[]</td>\n",
       "    </tr>\n",
       "  </tbody>\n",
       "</table>\n",
       "</div>"
      ],
      "text/plain": [
       "   Text_ID                                            summary        city  \\\n",
       "0        1  my wife was driving southeast on a fairly popu...     Chester   \n",
       "1        2  i think that i may caught a ufo on the nbc nig...  Rocky Hill   \n",
       "2        3  i woke up late in the afternoon 3304pm i went ...         NaN   \n",
       "3        4  i was driving towards the intersection of fall...      Ottawa   \n",
       "4        5  in peoria arizona i saw a cigar shaped craft f...      Peoria   \n",
       "\n",
       "  state            date_time     shape  \\\n",
       "0    VA  2019-12-12T18:43:00     light   \n",
       "1    CT  2019-03-22T18:30:00    circle   \n",
       "2   NaN                  NaN       NaN   \n",
       "3    ON  2019-04-17T02:00:00  teardrop   \n",
       "4    NY  2009-03-15T18:00:00     cigar   \n",
       "\n",
       "                                               stats  \\\n",
       "0  Occurred : 12/12/2019 18:43  (Entered as : 12/...   \n",
       "1  Occurred : 3/22/2019 18:30  (Entered as : 03/2...   \n",
       "2  Occurred : 4/1/2019 15:45  (Entered as : April...   \n",
       "3  Occurred : 4/17/2019 02:00  (Entered as : 04-1...   \n",
       "4  Occurred : 3/15/2009 18:00  (Entered as : 03/1...   \n",
       "\n",
       "                                         report_link  \\\n",
       "0  http://www.nuforc.org/webreports/151/S151739.html   \n",
       "1  http://www.nuforc.org/webreports/145/S145297.html   \n",
       "2  http://www.nuforc.org/webreports/145/S145556.html   \n",
       "3  http://www.nuforc.org/webreports/145/S145697.html   \n",
       "4  http://www.nuforc.org/webreports/145/S145723.html   \n",
       "\n",
       "                                                text               posted  \\\n",
       "0  my wife was driving southeast on a fairly popu...  2019-12-22T00:00:00   \n",
       "1  i think that i may caught a ufo on the nbc nig...  2019-03-29T00:00:00   \n",
       "2  i woke up late in the afternoon 3304pm i went ...                  NaN   \n",
       "3  i was driving towards the intersection of fall...  2019-04-18T00:00:00   \n",
       "4  in peoria arizona i saw a cigar shaped craft f...  2019-04-18T00:00:00   \n",
       "\n",
       "   city_latitude  city_longitude Duration summary_notes text_notes  \n",
       "0      37.343152      -77.408582  seconds            []         []  \n",
       "1      41.664800      -72.639300  seconds            []         []  \n",
       "2            NaN             NaN  Unknown            []         []  \n",
       "3      45.381383      -75.708501  seconds            []         []  \n",
       "4            NaN             NaN  minutes            []         []  "
      ]
     },
     "execution_count": 25,
     "metadata": {},
     "output_type": "execute_result"
    }
   ],
   "source": [
    "# lets look at our data now\n",
    "df.head()"
   ]
  },
  {
   "cell_type": "code",
   "execution_count": 26,
   "metadata": {
    "colab": {
     "base_uri": "https://localhost:8080/"
    },
    "id": "OV3erbi8phMs",
    "outputId": "f1d2fce1-2e15-4d34-de9e-ec1db255a475"
   },
   "outputs": [
    {
     "data": {
      "text/plain": [
       "Text_ID                                                       88123\n",
       "summary           witnessed an orange slow moving light was look...\n",
       "city                                                 Black Mountain\n",
       "state                                                            NC\n",
       "date_time                                       2019-10-02T22:00:00\n",
       "shape                                                      fireball\n",
       "stats             Occurred : 10/2/2019 22:00  (Entered as : 10/0...\n",
       "report_link       http://www.nuforc.org/webreports/149/S149447.html\n",
       "text              witnessed an orange slow moving light was look...\n",
       "posted                                          2019-10-04T00:00:00\n",
       "city_latitude                                                35.605\n",
       "city_longitude                                             -82.3132\n",
       "Duration                                                    minutes\n",
       "summary_notes                                                    []\n",
       "text_notes                                                       []\n",
       "Name: 88122, dtype: object"
      ]
     },
     "execution_count": 26,
     "metadata": {},
     "output_type": "execute_result"
    }
   ],
   "source": [
    "df.iloc[88120,:]"
   ]
  },
  {
   "cell_type": "code",
   "execution_count": 27,
   "metadata": {
    "colab": {
     "base_uri": "https://localhost:8080/"
    },
    "id": "dw09HVoXqvem",
    "outputId": "00b4a45b-18ee-49b7-ca13-7c4969c575a3"
   },
   "outputs": [
    {
     "data": {
      "text/plain": [
       "True     81184\n",
       "False     6938\n",
       "Name: summary_in_text, dtype: int64"
      ]
     },
     "execution_count": 27,
     "metadata": {},
     "output_type": "execute_result"
    }
   ],
   "source": [
    "# okay, now we still have some minor issues here\n",
    "# let's look to see how many instances we have that are not clips\n",
    "# here we will look for if the str summary is in str text\n",
    "df['summary_in_text'] = df.apply(lambda row: row['summary'] in row['text'], axis=1)\n",
    "df['summary_in_text'].value_counts()"
   ]
  },
  {
   "cell_type": "code",
   "execution_count": 28,
   "metadata": {
    "colab": {
     "base_uri": "https://localhost:8080/",
     "height": 424
    },
    "id": "FGCWxV2vrK-9",
    "outputId": "f40641eb-3945-47b1-ded7-536c07a090e1"
   },
   "outputs": [
    {
     "data": {
      "text/html": [
       "<div>\n",
       "<style scoped>\n",
       "    .dataframe tbody tr th:only-of-type {\n",
       "        vertical-align: middle;\n",
       "    }\n",
       "\n",
       "    .dataframe tbody tr th {\n",
       "        vertical-align: top;\n",
       "    }\n",
       "\n",
       "    .dataframe thead th {\n",
       "        text-align: right;\n",
       "    }\n",
       "</style>\n",
       "<table border=\"1\" class=\"dataframe\">\n",
       "  <thead>\n",
       "    <tr style=\"text-align: right;\">\n",
       "      <th></th>\n",
       "      <th>summary</th>\n",
       "      <th>text</th>\n",
       "    </tr>\n",
       "  </thead>\n",
       "  <tbody>\n",
       "    <tr>\n",
       "      <th>11</th>\n",
       "      <td>2 tiny lights recorded for about a minute we w...</td>\n",
       "      <td>we think 2 ufos2 tiny lights recorded for abou...</td>\n",
       "    </tr>\n",
       "    <tr>\n",
       "      <th>26</th>\n",
       "      <td>spotted it behind my property next to rt 476 n...</td>\n",
       "      <td>spotted it behind my property next to rt 476 n...</td>\n",
       "    </tr>\n",
       "    <tr>\n",
       "      <th>79</th>\n",
       "      <td>white ball about the size of a kick ballhovers...</td>\n",
       "      <td>white ball about the size of a kick ball hover...</td>\n",
       "    </tr>\n",
       "    <tr>\n",
       "      <th>129</th>\n",
       "      <td>name</td>\n",
       "      <td>working the night shiftand always watching the...</td>\n",
       "    </tr>\n",
       "    <tr>\n",
       "      <th>142</th>\n",
       "      <td>this sighting took place in 1990 over in the m...</td>\n",
       "      <td>this sighting took place in 1990 over in the m...</td>\n",
       "    </tr>\n",
       "    <tr>\n",
       "      <th>...</th>\n",
       "      <td>...</td>\n",
       "      <td>...</td>\n",
       "    </tr>\n",
       "    <tr>\n",
       "      <th>88038</th>\n",
       "      <td>before sunsetin the sky we saw a tear drop sha...</td>\n",
       "      <td>before sunsetin the sky we saw a tear drop sha...</td>\n",
       "    </tr>\n",
       "    <tr>\n",
       "      <th>88046</th>\n",
       "      <td>three flying objects colored orange yellow lig...</td>\n",
       "      <td>three flying objects colored orangeyellow ligh...</td>\n",
       "    </tr>\n",
       "    <tr>\n",
       "      <th>88056</th>\n",
       "      <td>several large green orbs rotating in coordinat...</td>\n",
       "      <td>several large green orbs rotating in coordinat...</td>\n",
       "    </tr>\n",
       "    <tr>\n",
       "      <th>88067</th>\n",
       "      <td>my remote started glowing again and continued ...</td>\n",
       "      <td>my remote started glowing again and continued ...</td>\n",
       "    </tr>\n",
       "    <tr>\n",
       "      <th>88120</th>\n",
       "      <td>2 bright star like lights in the nnw skys</td>\n",
       "      <td>2 bright star like lights in the nnw sky two b...</td>\n",
       "    </tr>\n",
       "  </tbody>\n",
       "</table>\n",
       "<p>6938 rows × 2 columns</p>\n",
       "</div>"
      ],
      "text/plain": [
       "                                                 summary  \\\n",
       "11     2 tiny lights recorded for about a minute we w...   \n",
       "26     spotted it behind my property next to rt 476 n...   \n",
       "79     white ball about the size of a kick ballhovers...   \n",
       "129                                                 name   \n",
       "142    this sighting took place in 1990 over in the m...   \n",
       "...                                                  ...   \n",
       "88038  before sunsetin the sky we saw a tear drop sha...   \n",
       "88046  three flying objects colored orange yellow lig...   \n",
       "88056  several large green orbs rotating in coordinat...   \n",
       "88067  my remote started glowing again and continued ...   \n",
       "88120          2 bright star like lights in the nnw skys   \n",
       "\n",
       "                                                    text  \n",
       "11     we think 2 ufos2 tiny lights recorded for abou...  \n",
       "26     spotted it behind my property next to rt 476 n...  \n",
       "79     white ball about the size of a kick ball hover...  \n",
       "129    working the night shiftand always watching the...  \n",
       "142    this sighting took place in 1990 over in the m...  \n",
       "...                                                  ...  \n",
       "88038  before sunsetin the sky we saw a tear drop sha...  \n",
       "88046  three flying objects colored orangeyellow ligh...  \n",
       "88056  several large green orbs rotating in coordinat...  \n",
       "88067  my remote started glowing again and continued ...  \n",
       "88120  2 bright star like lights in the nnw sky two b...  \n",
       "\n",
       "[6938 rows x 2 columns]"
      ]
     },
     "execution_count": 28,
     "metadata": {},
     "output_type": "execute_result"
    }
   ],
   "source": [
    "# let's look at the instances that are False\n",
    "df.loc[df['summary_in_text'] == False,['summary','text']]"
   ]
  },
  {
   "cell_type": "code",
   "execution_count": 29,
   "metadata": {
    "colab": {
     "base_uri": "https://localhost:8080/"
    },
    "id": "xnaUOUDMsyW7",
    "outputId": "186275a8-bd7c-46ff-8c56-98362277b05f"
   },
   "outputs": [
    {
     "name": "stdout",
     "output_type": "stream",
     "text": [
      "before sunsetin the sky we saw a tear drop shaped shining bright white kind of resembling a huge hot air balloonnot moving at all\n",
      "before sunsetin the sky we saw a tear drop shaped shining bright white kind of resembling a huge hot air balloon not moving at all an airplane flew next to it and its size dwarfed the size of the airplane several neighbors outside and people pulling over in their cars to look at it after sunset it is no longer visible\n"
     ]
    }
   ],
   "source": [
    "print(df['summary'][88038])\n",
    "print(df['text'][88038])"
   ]
  },
  {
   "cell_type": "code",
   "execution_count": 30,
   "metadata": {
    "colab": {
     "base_uri": "https://localhost:8080/"
    },
    "id": "IAynXrFMsc_A",
    "outputId": "22e88a84-a9d0-466c-d469-b4fe8f7cdedc"
   },
   "outputs": [
    {
     "data": {
      "text/plain": [
       "False    88122\n",
       "Name: summary, dtype: int64"
      ]
     },
     "execution_count": 30,
     "metadata": {},
     "output_type": "execute_result"
    }
   ],
   "source": [
    "df['summary'].isnull().value_counts()"
   ]
  },
  {
   "cell_type": "code",
   "execution_count": 31,
   "metadata": {
    "id": "4b5VVfSPtCyP"
   },
   "outputs": [],
   "source": [
    "#it looks like a lot of the remaining instances have typos or have missing spaces, etc\n",
    "# there are ways we could solve this\n",
    "# we could just drop the summary figuring okay, we have only 7000/88000 that we haven't confirmed are essentially the same\n",
    "# we could also use the levenshtein distance or some fuzzy string matching and set a threashold to see how many are totally off\n",
    "# just looking at the dataframe, we can see that there is atleast one that is totally off base, most however seem to be minor error"
   ]
  },
  {
   "cell_type": "code",
   "execution_count": 32,
   "metadata": {
    "id": "KqkvdGd0tkbQ"
   },
   "outputs": [],
   "source": [
    "# install package\n",
    "# import module\n",
    "from fuzzywuzzy import fuzz\n",
    "# function that can be applied to df\n",
    "def fuzzy_ratio(summary, text):\n",
    "  ratio = fuzz.partial_ratio(summary, text)\n",
    "  return ratio"
   ]
  },
  {
   "cell_type": "code",
   "execution_count": 33,
   "metadata": {
    "id": "9qVaLkVxuTEm"
   },
   "outputs": [],
   "source": [
    "# let's apply the ratio to our df\n",
    "# we are going to overwrite the sum_in_text column\n",
    "# this is because, if already indicating true, it will yield 100 score\n",
    "df['summary_in_text'] = df.apply(lambda row: fuzzy_ratio(row['summary'], row['text']), axis=1)"
   ]
  },
  {
   "cell_type": "code",
   "execution_count": 34,
   "metadata": {
    "colab": {
     "base_uri": "https://localhost:8080/"
    },
    "id": "V4029fX5ykZc",
    "outputId": "9522d59c-78fb-4918-ce5d-f7759a8a845d"
   },
   "outputs": [
    {
     "data": {
      "text/plain": [
       "Text_ID            86714\n",
       "summary            86714\n",
       "city               86483\n",
       "state              81577\n",
       "date_time          85560\n",
       "shape              84276\n",
       "stats              86714\n",
       "report_link        86714\n",
       "text               86714\n",
       "posted             85560\n",
       "city_latitude      70907\n",
       "city_longitude     70907\n",
       "Duration           86714\n",
       "summary_notes      86714\n",
       "text_notes         86714\n",
       "summary_in_text    86714\n",
       "dtype: int64"
      ]
     },
     "execution_count": 34,
     "metadata": {},
     "output_type": "execute_result"
    }
   ],
   "source": [
    "df[df['summary_in_text'] > 90].count()"
   ]
  },
  {
   "cell_type": "code",
   "execution_count": 35,
   "metadata": {
    "colab": {
     "base_uri": "https://localhost:8080/"
    },
    "id": "xajIEZFnzQQ2",
    "outputId": "59b8fe00-65f1-419a-af81-8aa8fc3499bd"
   },
   "outputs": [
    {
     "name": "stdout",
     "output_type": "stream",
     "text": [
      "<class 'pandas.core.frame.DataFrame'>\n",
      "Int64Index: 86714 entries, 0 to 88123\n",
      "Data columns (total 14 columns):\n",
      " #   Column          Non-Null Count  Dtype  \n",
      "---  ------          --------------  -----  \n",
      " 0   Text_ID         86714 non-null  int64  \n",
      " 1   city            86483 non-null  object \n",
      " 2   state           81577 non-null  object \n",
      " 3   date_time       85560 non-null  object \n",
      " 4   shape           84276 non-null  object \n",
      " 5   stats           86714 non-null  object \n",
      " 6   report_link     86714 non-null  object \n",
      " 7   text            86714 non-null  object \n",
      " 8   posted          85560 non-null  object \n",
      " 9   city_latitude   70907 non-null  float64\n",
      " 10  city_longitude  70907 non-null  float64\n",
      " 11  Duration        86714 non-null  object \n",
      " 12  summary_notes   86714 non-null  object \n",
      " 13  text_notes      86714 non-null  object \n",
      "dtypes: float64(2), int64(1), object(11)\n",
      "memory usage: 9.9+ MB\n"
     ]
    }
   ],
   "source": [
    "# okay, if we use a 90% threshold, we've got 86716/88214 instances, thats good enough\n",
    "# we can now drop the summary and the summary_in_text columns\n",
    "df = df[df['summary_in_text'] > 90]\n",
    "df.drop(columns=['summary','summary_in_text'], inplace=True)\n",
    "df.info()"
   ]
  },
  {
   "cell_type": "code",
   "execution_count": 36,
   "metadata": {
    "id": "tAGv10y1gcy1"
   },
   "outputs": [],
   "source": [
    "lemmatizer = WordNetLemmatizer()\n",
    "stop_words = set(stopwords.words('english'))\n",
    "def lemmatize_removestop(str):\n",
    "  word_list = word_tokenize(str)\n",
    "  output = []\n",
    "  for i in word_list:\n",
    "    if i not in stop_words:\n",
    "      output.append(lemmatizer.lemmatize(i))\n",
    "  output = \" \".join(output)\n",
    "  return output"
   ]
  },
  {
   "cell_type": "code",
   "execution_count": 37,
   "metadata": {
    "id": "SVRwIJwehyGa"
   },
   "outputs": [],
   "source": [
    "df['text'] = df.apply(lambda row: lemmatize_removestop(row['text']),axis=1)"
   ]
  },
  {
   "cell_type": "code",
   "execution_count": 38,
   "metadata": {
    "colab": {
     "base_uri": "https://localhost:8080/"
    },
    "id": "D-qviqOVlrUa",
    "outputId": "1a16604b-9000-4381-e297-01854842d581"
   },
   "outputs": [
    {
     "data": {
      "text/plain": [
       "0    wife driving southeast fairly populated main s...\n",
       "1    think may caught ufo nbc nightly news aired ma...\n",
       "2    woke late afternoon 3304pm went bath shaving l...\n",
       "3    driving towards intersection fallowfield eagle...\n",
       "4    peoria arizona saw cigar shaped craft floating...\n",
       "5    object flashing light green blue red white lig...\n",
       "6    description washington dc event 50 ’ glitter t...\n",
       "7    apr 10th witnessed bright silvery round object...\n",
       "8    ufo report irving texas 2200 hr july 1973 1974...\n",
       "9    group light formation sweeping thru night sky ...\n",
       "Name: text, dtype: object"
      ]
     },
     "execution_count": 38,
     "metadata": {},
     "output_type": "execute_result"
    }
   ],
   "source": [
    "df['text'][0:10]"
   ]
  },
  {
   "cell_type": "markdown",
   "metadata": {
    "id": "S3rXxCMixyUL"
   },
   "source": [
    "# Stats"
   ]
  },
  {
   "cell_type": "code",
   "execution_count": 39,
   "metadata": {
    "colab": {
     "base_uri": "https://localhost:8080/"
    },
    "id": "jk1GW7OWxx-C",
    "outputId": "19e7cdb1-50b9-4ee7-974c-3f7510a73639"
   },
   "outputs": [
    {
     "name": "stdout",
     "output_type": "stream",
     "text": [
      "<class 'pandas.core.frame.DataFrame'>\n",
      "Int64Index: 86714 entries, 0 to 88123\n",
      "Data columns (total 14 columns):\n",
      " #   Column          Non-Null Count  Dtype  \n",
      "---  ------          --------------  -----  \n",
      " 0   Text_ID         86714 non-null  int64  \n",
      " 1   city            86483 non-null  object \n",
      " 2   state           81577 non-null  object \n",
      " 3   date_time       85560 non-null  object \n",
      " 4   shape           84276 non-null  object \n",
      " 5   stats           86714 non-null  object \n",
      " 6   report_link     86714 non-null  object \n",
      " 7   text            86714 non-null  object \n",
      " 8   posted          85560 non-null  object \n",
      " 9   city_latitude   70907 non-null  float64\n",
      " 10  city_longitude  70907 non-null  float64\n",
      " 11  Duration        86714 non-null  object \n",
      " 12  summary_notes   86714 non-null  object \n",
      " 13  text_notes      86714 non-null  object \n",
      "dtypes: float64(2), int64(1), object(11)\n",
      "memory usage: 9.9+ MB\n"
     ]
    }
   ],
   "source": [
    "df.info()"
   ]
  },
  {
   "cell_type": "code",
   "execution_count": 40,
   "metadata": {
    "colab": {
     "base_uri": "https://localhost:8080/",
     "height": 35
    },
    "id": "iayRXy-Gx2Jn",
    "outputId": "7e8a15c7-b997-4701-d296-07ad1ce4e158"
   },
   "outputs": [
    {
     "data": {
      "text/plain": [
       "'Occurred : 12/12/2019 18:43  (Entered as : 12/12/19 18:43) Reported: 12/19/2019 7:19:31 PM 19:19 Posted: 12/22/2019 Location: Chester, VA Shape: Light Duration:5 seconds'"
      ]
     },
     "execution_count": 40,
     "metadata": {},
     "output_type": "execute_result"
    }
   ],
   "source": [
    "df['stats'][0]"
   ]
  },
  {
   "cell_type": "code",
   "execution_count": 41,
   "metadata": {
    "colab": {
     "base_uri": "https://localhost:8080/",
     "height": 35
    },
    "id": "-EhoFVc9x5vP",
    "outputId": "d516f972-0515-4fc0-c0cb-af026855868f"
   },
   "outputs": [
    {
     "data": {
      "text/plain": [
       "'Occurred : 3/22/2019 18:30  (Entered as : 03/22/19 18:30) Reported: 3/27/2019 4:10:19 PM 16:10 Posted: 3/29/2019 Location: Rocky Hill, CT Shape: Circle Duration:3-5 seconds'"
      ]
     },
     "execution_count": 41,
     "metadata": {},
     "output_type": "execute_result"
    }
   ],
   "source": [
    "df['stats'][1]"
   ]
  },
  {
   "cell_type": "code",
   "execution_count": 42,
   "metadata": {
    "colab": {
     "base_uri": "https://localhost:8080/",
     "height": 35
    },
    "id": "9FUtODvIx7pB",
    "outputId": "baea35e6-ce5a-441c-ed98-e14eceb73bc6"
   },
   "outputs": [
    {
     "data": {
      "text/plain": [
       "'Occurred : 4/1/2019 15:45  (Entered as : April01.19) Reported: 4/8/2019 9:42:31 PM 21:42 Posted: 4/12/2019 Location: Winnipeg (Canada),  Shape:  Duration:'"
      ]
     },
     "execution_count": 42,
     "metadata": {},
     "output_type": "execute_result"
    }
   ],
   "source": [
    "df['stats'][2]"
   ]
  },
  {
   "cell_type": "code",
   "execution_count": 43,
   "metadata": {
    "id": "Q6sRX0gc-Lx3"
   },
   "outputs": [],
   "source": [
    "df['stats_duplicated'] = df['stats'].duplicated(keep=False)"
   ]
  },
  {
   "cell_type": "code",
   "execution_count": 44,
   "metadata": {
    "colab": {
     "base_uri": "https://localhost:8080/"
    },
    "id": "5Yzr3GGt-ZL1",
    "outputId": "e3a0021d-00e8-4d02-ee01-be24e9d43812"
   },
   "outputs": [
    {
     "data": {
      "text/plain": [
       "False    86688\n",
       "True        26\n",
       "Name: stats_duplicated, dtype: int64"
      ]
     },
     "execution_count": 44,
     "metadata": {},
     "output_type": "execute_result"
    }
   ],
   "source": [
    "df['stats_duplicated'].value_counts()"
   ]
  },
  {
   "cell_type": "code",
   "execution_count": 45,
   "metadata": {
    "id": "ILizfJV3SYAv"
   },
   "outputs": [],
   "source": [
    "def separate_stats(arg):\n",
    "  if isinstance(arg, float):\n",
    "    return arg\n",
    "  else:\n",
    "    #arg = arg.split(\" \", )\n",
    "    #print(arg)\n",
    "    arg = str(arg).replace(\"Duration:\", \"Duration: \")\n",
    "    arg = arg.split(\" \", )\n",
    "    #print(arg)\n",
    "    #print(arg)\n",
    "    merge_rules = [(arg.index(\"Occurred\"),arg.index(\"Reported:\")),(arg.index(\"Reported:\"),arg.index(\"Posted:\")),(arg.index(\"Posted:\"),arg.index(\"Location:\")),\n",
    "                 (arg.index(\"Location:\"),arg.index(\"Shape:\")),(arg.index(\"Shape:\"),arg.index(\"Duration:\")),(arg.index(\"Duration:\"),len(arg))]\n",
    "    result = []\n",
    "    index = 0\n",
    "    for start, end in merge_rules:\n",
    "      result += arg[index:start]\n",
    "      result.append(\" \".join(arg[start:end]))\n",
    "      index = end\n",
    "    return result"
   ]
  },
  {
   "cell_type": "code",
   "execution_count": 46,
   "metadata": {
    "colab": {
     "base_uri": "https://localhost:8080/",
     "height": 206
    },
    "id": "HfGZQyVVbV8m",
    "outputId": "52a16078-6ecc-4c30-bc00-14e34cd2d2f8"
   },
   "outputs": [
    {
     "data": {
      "text/html": [
       "<div>\n",
       "<style scoped>\n",
       "    .dataframe tbody tr th:only-of-type {\n",
       "        vertical-align: middle;\n",
       "    }\n",
       "\n",
       "    .dataframe tbody tr th {\n",
       "        vertical-align: top;\n",
       "    }\n",
       "\n",
       "    .dataframe thead th {\n",
       "        text-align: right;\n",
       "    }\n",
       "</style>\n",
       "<table border=\"1\" class=\"dataframe\">\n",
       "  <thead>\n",
       "    <tr style=\"text-align: right;\">\n",
       "      <th></th>\n",
       "      <th>Text_ID</th>\n",
       "      <th>city</th>\n",
       "      <th>state</th>\n",
       "      <th>date_time</th>\n",
       "      <th>shape</th>\n",
       "      <th>stats</th>\n",
       "      <th>report_link</th>\n",
       "      <th>text</th>\n",
       "      <th>posted</th>\n",
       "      <th>city_latitude</th>\n",
       "      <th>city_longitude</th>\n",
       "      <th>Duration</th>\n",
       "      <th>summary_notes</th>\n",
       "      <th>text_notes</th>\n",
       "      <th>stats_duplicated</th>\n",
       "    </tr>\n",
       "  </thead>\n",
       "  <tbody>\n",
       "    <tr>\n",
       "      <th>0</th>\n",
       "      <td>1</td>\n",
       "      <td>Chester</td>\n",
       "      <td>VA</td>\n",
       "      <td>2019-12-12T18:43:00</td>\n",
       "      <td>light</td>\n",
       "      <td>[Occurred : 12/12/2019 18:43  (Entered as : 12...</td>\n",
       "      <td>http://www.nuforc.org/webreports/151/S151739.html</td>\n",
       "      <td>wife driving southeast fairly populated main s...</td>\n",
       "      <td>2019-12-22T00:00:00</td>\n",
       "      <td>37.343152</td>\n",
       "      <td>-77.408582</td>\n",
       "      <td>seconds</td>\n",
       "      <td>[]</td>\n",
       "      <td>[]</td>\n",
       "      <td>False</td>\n",
       "    </tr>\n",
       "    <tr>\n",
       "      <th>1</th>\n",
       "      <td>2</td>\n",
       "      <td>Rocky Hill</td>\n",
       "      <td>CT</td>\n",
       "      <td>2019-03-22T18:30:00</td>\n",
       "      <td>circle</td>\n",
       "      <td>[Occurred : 3/22/2019 18:30  (Entered as : 03/...</td>\n",
       "      <td>http://www.nuforc.org/webreports/145/S145297.html</td>\n",
       "      <td>think may caught ufo nbc nightly news aired ma...</td>\n",
       "      <td>2019-03-29T00:00:00</td>\n",
       "      <td>41.664800</td>\n",
       "      <td>-72.639300</td>\n",
       "      <td>seconds</td>\n",
       "      <td>[]</td>\n",
       "      <td>[]</td>\n",
       "      <td>False</td>\n",
       "    </tr>\n",
       "    <tr>\n",
       "      <th>2</th>\n",
       "      <td>3</td>\n",
       "      <td>NaN</td>\n",
       "      <td>NaN</td>\n",
       "      <td>NaN</td>\n",
       "      <td>NaN</td>\n",
       "      <td>[Occurred : 4/1/2019 15:45  (Entered as : Apri...</td>\n",
       "      <td>http://www.nuforc.org/webreports/145/S145556.html</td>\n",
       "      <td>woke late afternoon 3304pm went bath shaving l...</td>\n",
       "      <td>NaN</td>\n",
       "      <td>NaN</td>\n",
       "      <td>NaN</td>\n",
       "      <td>Unknown</td>\n",
       "      <td>[]</td>\n",
       "      <td>[]</td>\n",
       "      <td>False</td>\n",
       "    </tr>\n",
       "    <tr>\n",
       "      <th>3</th>\n",
       "      <td>4</td>\n",
       "      <td>Ottawa</td>\n",
       "      <td>ON</td>\n",
       "      <td>2019-04-17T02:00:00</td>\n",
       "      <td>teardrop</td>\n",
       "      <td>[Occurred : 4/17/2019 02:00  (Entered as : 04-...</td>\n",
       "      <td>http://www.nuforc.org/webreports/145/S145697.html</td>\n",
       "      <td>driving towards intersection fallowfield eagle...</td>\n",
       "      <td>2019-04-18T00:00:00</td>\n",
       "      <td>45.381383</td>\n",
       "      <td>-75.708501</td>\n",
       "      <td>seconds</td>\n",
       "      <td>[]</td>\n",
       "      <td>[]</td>\n",
       "      <td>False</td>\n",
       "    </tr>\n",
       "    <tr>\n",
       "      <th>4</th>\n",
       "      <td>5</td>\n",
       "      <td>Peoria</td>\n",
       "      <td>NY</td>\n",
       "      <td>2009-03-15T18:00:00</td>\n",
       "      <td>cigar</td>\n",
       "      <td>[Occurred : 3/15/2009 18:00  (Entered as : 03/...</td>\n",
       "      <td>http://www.nuforc.org/webreports/145/S145723.html</td>\n",
       "      <td>peoria arizona saw cigar shaped craft floating...</td>\n",
       "      <td>2019-04-18T00:00:00</td>\n",
       "      <td>NaN</td>\n",
       "      <td>NaN</td>\n",
       "      <td>minutes</td>\n",
       "      <td>[]</td>\n",
       "      <td>[]</td>\n",
       "      <td>False</td>\n",
       "    </tr>\n",
       "  </tbody>\n",
       "</table>\n",
       "</div>"
      ],
      "text/plain": [
       "   Text_ID        city state            date_time     shape  \\\n",
       "0        1     Chester    VA  2019-12-12T18:43:00     light   \n",
       "1        2  Rocky Hill    CT  2019-03-22T18:30:00    circle   \n",
       "2        3         NaN   NaN                  NaN       NaN   \n",
       "3        4      Ottawa    ON  2019-04-17T02:00:00  teardrop   \n",
       "4        5      Peoria    NY  2009-03-15T18:00:00     cigar   \n",
       "\n",
       "                                               stats  \\\n",
       "0  [Occurred : 12/12/2019 18:43  (Entered as : 12...   \n",
       "1  [Occurred : 3/22/2019 18:30  (Entered as : 03/...   \n",
       "2  [Occurred : 4/1/2019 15:45  (Entered as : Apri...   \n",
       "3  [Occurred : 4/17/2019 02:00  (Entered as : 04-...   \n",
       "4  [Occurred : 3/15/2009 18:00  (Entered as : 03/...   \n",
       "\n",
       "                                         report_link  \\\n",
       "0  http://www.nuforc.org/webreports/151/S151739.html   \n",
       "1  http://www.nuforc.org/webreports/145/S145297.html   \n",
       "2  http://www.nuforc.org/webreports/145/S145556.html   \n",
       "3  http://www.nuforc.org/webreports/145/S145697.html   \n",
       "4  http://www.nuforc.org/webreports/145/S145723.html   \n",
       "\n",
       "                                                text               posted  \\\n",
       "0  wife driving southeast fairly populated main s...  2019-12-22T00:00:00   \n",
       "1  think may caught ufo nbc nightly news aired ma...  2019-03-29T00:00:00   \n",
       "2  woke late afternoon 3304pm went bath shaving l...                  NaN   \n",
       "3  driving towards intersection fallowfield eagle...  2019-04-18T00:00:00   \n",
       "4  peoria arizona saw cigar shaped craft floating...  2019-04-18T00:00:00   \n",
       "\n",
       "   city_latitude  city_longitude Duration summary_notes text_notes  \\\n",
       "0      37.343152      -77.408582  seconds            []         []   \n",
       "1      41.664800      -72.639300  seconds            []         []   \n",
       "2            NaN             NaN  Unknown            []         []   \n",
       "3      45.381383      -75.708501  seconds            []         []   \n",
       "4            NaN             NaN  minutes            []         []   \n",
       "\n",
       "   stats_duplicated  \n",
       "0             False  \n",
       "1             False  \n",
       "2             False  \n",
       "3             False  \n",
       "4             False  "
      ]
     },
     "execution_count": 46,
     "metadata": {},
     "output_type": "execute_result"
    }
   ],
   "source": [
    "df['stats'] = df.apply(lambda row: separate_stats(row['stats']), axis=1)\n",
    "df.head()"
   ]
  },
  {
   "cell_type": "code",
   "execution_count": 47,
   "metadata": {
    "colab": {
     "base_uri": "https://localhost:8080/",
     "height": 865
    },
    "id": "H463hep5dMnf",
    "outputId": "79fc7273-e54d-401f-bb03-b0220ae03278"
   },
   "outputs": [
    {
     "data": {
      "text/html": [
       "<div>\n",
       "<style scoped>\n",
       "    .dataframe tbody tr th:only-of-type {\n",
       "        vertical-align: middle;\n",
       "    }\n",
       "\n",
       "    .dataframe tbody tr th {\n",
       "        vertical-align: top;\n",
       "    }\n",
       "\n",
       "    .dataframe thead th {\n",
       "        text-align: right;\n",
       "    }\n",
       "</style>\n",
       "<table border=\"1\" class=\"dataframe\">\n",
       "  <thead>\n",
       "    <tr style=\"text-align: right;\">\n",
       "      <th></th>\n",
       "      <th>Text_ID</th>\n",
       "      <th>city</th>\n",
       "      <th>state</th>\n",
       "      <th>date_time</th>\n",
       "      <th>shape</th>\n",
       "      <th>stats</th>\n",
       "      <th>report_link</th>\n",
       "      <th>text</th>\n",
       "      <th>posted</th>\n",
       "      <th>city_latitude</th>\n",
       "      <th>city_longitude</th>\n",
       "      <th>Duration</th>\n",
       "      <th>summary_notes</th>\n",
       "      <th>text_notes</th>\n",
       "      <th>stats_duplicated</th>\n",
       "    </tr>\n",
       "  </thead>\n",
       "  <tbody>\n",
       "    <tr>\n",
       "      <th>15</th>\n",
       "      <td>16</td>\n",
       "      <td>Gray Court</td>\n",
       "      <td>SC</td>\n",
       "      <td>1975-07-17T00:00:00</td>\n",
       "      <td>light</td>\n",
       "      <td>[Occurred : 7/17/1975 00:00  (Entered as : 07/...</td>\n",
       "      <td>http://www.nuforc.org/webreports/147/S147117.html</td>\n",
       "      <td>strange bright light hovered mobile home nufor...</td>\n",
       "      <td>2019-07-05T00:00:00</td>\n",
       "      <td>34.578800</td>\n",
       "      <td>-82.114100</td>\n",
       "      <td>minutes</td>\n",
       "      <td>[]</td>\n",
       "      <td>[]</td>\n",
       "      <td>True</td>\n",
       "    </tr>\n",
       "    <tr>\n",
       "      <th>1409</th>\n",
       "      <td>1410</td>\n",
       "      <td>Carlsbad</td>\n",
       "      <td>NM</td>\n",
       "      <td>2006-05-11T20:30:00</td>\n",
       "      <td>light</td>\n",
       "      <td>[Occurred : 5/11/2006 20:30  (Entered as : 05/...</td>\n",
       "      <td>http://www.nuforc.org/webreports/050/S50526.html</td>\n",
       "      <td>strange light moving moon approx 830 pm evenin...</td>\n",
       "      <td>2006-05-15T00:00:00</td>\n",
       "      <td>32.301554</td>\n",
       "      <td>-104.286505</td>\n",
       "      <td>minutes</td>\n",
       "      <td>[((NUFORC Note:  International Space Station s...</td>\n",
       "      <td>[((NUFORC Note:  International Space Station s...</td>\n",
       "      <td>True</td>\n",
       "    </tr>\n",
       "    <tr>\n",
       "      <th>1410</th>\n",
       "      <td>1411</td>\n",
       "      <td>Carlsbad</td>\n",
       "      <td>NM</td>\n",
       "      <td>2006-05-11T20:30:00</td>\n",
       "      <td>light</td>\n",
       "      <td>[Occurred : 5/11/2006 20:30  (Entered as : 05/...</td>\n",
       "      <td>http://www.nuforc.org/webreports/050/S50524.html</td>\n",
       "      <td>strange light moving moon approx 830 pm evenin...</td>\n",
       "      <td>2006-05-15T00:00:00</td>\n",
       "      <td>32.301554</td>\n",
       "      <td>-104.286505</td>\n",
       "      <td>minutes</td>\n",
       "      <td>[((NUFORC Note:  Space Station flew over Carls...</td>\n",
       "      <td>[((NUFORC Note:  Space Station flew over Carls...</td>\n",
       "      <td>True</td>\n",
       "    </tr>\n",
       "    <tr>\n",
       "      <th>2026</th>\n",
       "      <td>2027</td>\n",
       "      <td>Gray Court</td>\n",
       "      <td>SC</td>\n",
       "      <td>1975-07-17T00:00:00</td>\n",
       "      <td>light</td>\n",
       "      <td>[Occurred : 7/17/1975 00:00  (Entered as : 07/...</td>\n",
       "      <td>http://www.nuforc.org/webreports/147/S147119.html</td>\n",
       "      <td>strange bright light hovered mobile home</td>\n",
       "      <td>2019-07-05T00:00:00</td>\n",
       "      <td>34.578800</td>\n",
       "      <td>-82.114100</td>\n",
       "      <td>minutes</td>\n",
       "      <td>[]</td>\n",
       "      <td>[]</td>\n",
       "      <td>True</td>\n",
       "    </tr>\n",
       "    <tr>\n",
       "      <th>2398</th>\n",
       "      <td>2399</td>\n",
       "      <td>Marietta</td>\n",
       "      <td>GA</td>\n",
       "      <td>2019-06-27T22:20:00</td>\n",
       "      <td>triangle</td>\n",
       "      <td>[Occurred : 6/27/2019 22:20  (Entered as : 06/...</td>\n",
       "      <td>http://www.nuforc.org/webreports/147/S147118.html</td>\n",
       "      <td>slowmoving triangle aircraft visible night sky...</td>\n",
       "      <td>2019-07-05T00:00:00</td>\n",
       "      <td>33.961887</td>\n",
       "      <td>-84.510213</td>\n",
       "      <td>minutes</td>\n",
       "      <td>[]</td>\n",
       "      <td>[]</td>\n",
       "      <td>True</td>\n",
       "    </tr>\n",
       "    <tr>\n",
       "      <th>2399</th>\n",
       "      <td>2400</td>\n",
       "      <td>Marietta</td>\n",
       "      <td>GA</td>\n",
       "      <td>2019-06-27T22:20:00</td>\n",
       "      <td>triangle</td>\n",
       "      <td>[Occurred : 6/27/2019 22:20  (Entered as : 06/...</td>\n",
       "      <td>http://www.nuforc.org/webreports/147/S147116.html</td>\n",
       "      <td>slowmoving triangle aircraft visible night sky...</td>\n",
       "      <td>2019-07-05T00:00:00</td>\n",
       "      <td>33.961887</td>\n",
       "      <td>-84.510213</td>\n",
       "      <td>minutes</td>\n",
       "      <td>[((anonymous report))]</td>\n",
       "      <td>[((NUFORC Note:  Witness elects to remain tota...</td>\n",
       "      <td>True</td>\n",
       "    </tr>\n",
       "    <tr>\n",
       "      <th>3176</th>\n",
       "      <td>3177</td>\n",
       "      <td>Bloomington</td>\n",
       "      <td>MN</td>\n",
       "      <td>2019-04-17T21:30:00</td>\n",
       "      <td>oval</td>\n",
       "      <td>[Occurred : 4/17/2019 21:30  (Entered as : 04/...</td>\n",
       "      <td>http://www.nuforc.org/webreports/145/S145813.html</td>\n",
       "      <td>happened bloomington mn driving hwy 77 going n...</td>\n",
       "      <td>2019-04-25T00:00:00</td>\n",
       "      <td>NaN</td>\n",
       "      <td>NaN</td>\n",
       "      <td>seconds</td>\n",
       "      <td>[]</td>\n",
       "      <td>[]</td>\n",
       "      <td>True</td>\n",
       "    </tr>\n",
       "    <tr>\n",
       "      <th>3177</th>\n",
       "      <td>3178</td>\n",
       "      <td>Bloomington</td>\n",
       "      <td>MN</td>\n",
       "      <td>2019-04-17T21:30:00</td>\n",
       "      <td>oval</td>\n",
       "      <td>[Occurred : 4/17/2019 21:30  (Entered as : 04/...</td>\n",
       "      <td>http://www.nuforc.org/webreports/145/S145829.html</td>\n",
       "      <td>happened bloomington mn driving hwy 77 going n...</td>\n",
       "      <td>2019-04-25T00:00:00</td>\n",
       "      <td>NaN</td>\n",
       "      <td>NaN</td>\n",
       "      <td>seconds</td>\n",
       "      <td>[]</td>\n",
       "      <td>[]</td>\n",
       "      <td>True</td>\n",
       "    </tr>\n",
       "    <tr>\n",
       "      <th>34857</th>\n",
       "      <td>34858</td>\n",
       "      <td>Memphis</td>\n",
       "      <td>TN</td>\n",
       "      <td>2011-07-26T19:50:00</td>\n",
       "      <td>cigar</td>\n",
       "      <td>[Occurred : 7/26/2011 19:50  (Entered as : 07/...</td>\n",
       "      <td>http://www.nuforc.org/webreports/082/S82738.html</td>\n",
       "      <td>10 unknown object memphis saw 10 tonight 75082...</td>\n",
       "      <td>2011-08-07T00:00:00</td>\n",
       "      <td>35.125473</td>\n",
       "      <td>-89.926925</td>\n",
       "      <td>minutes</td>\n",
       "      <td>[((NUFORC Note:  Student report.  One of sever...</td>\n",
       "      <td>[((NUFORC Note:  Student report.  One of sever...</td>\n",
       "      <td>True</td>\n",
       "    </tr>\n",
       "    <tr>\n",
       "      <th>34858</th>\n",
       "      <td>34859</td>\n",
       "      <td>Memphis</td>\n",
       "      <td>TN</td>\n",
       "      <td>2011-07-26T19:50:00</td>\n",
       "      <td>cigar</td>\n",
       "      <td>[Occurred : 7/26/2011 19:50  (Entered as : 07/...</td>\n",
       "      <td>http://www.nuforc.org/webreports/082/S82737.html</td>\n",
       "      <td>10 unknown object memphis saw 10 tonight 75082...</td>\n",
       "      <td>2011-08-07T00:00:00</td>\n",
       "      <td>35.125473</td>\n",
       "      <td>-89.926925</td>\n",
       "      <td>minutes</td>\n",
       "      <td>[((NUFORC Note:  Student report.  One of sever...</td>\n",
       "      <td>[((NUFORC Note:  Student report.  One of sever...</td>\n",
       "      <td>True</td>\n",
       "    </tr>\n",
       "    <tr>\n",
       "      <th>41029</th>\n",
       "      <td>41030</td>\n",
       "      <td>Miami</td>\n",
       "      <td>FL</td>\n",
       "      <td>2012-11-02T07:00:00</td>\n",
       "      <td>unknown</td>\n",
       "      <td>[Occurred : 11/2/2012 07:00  (Entered as : 11/...</td>\n",
       "      <td>http://www.nuforc.org/webreports/094/S94041.html</td>\n",
       "      <td>bright light couldnt real tell shape pretty co...</td>\n",
       "      <td>2012-11-04T00:00:00</td>\n",
       "      <td>25.774143</td>\n",
       "      <td>-80.289518</td>\n",
       "      <td>Unknown</td>\n",
       "      <td>[((HOAX??  Time and date are flawed.))]</td>\n",
       "      <td>[((NUFORC Note:  Witness elects to remain tota...</td>\n",
       "      <td>True</td>\n",
       "    </tr>\n",
       "    <tr>\n",
       "      <th>41030</th>\n",
       "      <td>41031</td>\n",
       "      <td>Miami</td>\n",
       "      <td>FL</td>\n",
       "      <td>2012-11-02T07:00:00</td>\n",
       "      <td>unknown</td>\n",
       "      <td>[Occurred : 11/2/2012 07:00  (Entered as : 11/...</td>\n",
       "      <td>http://www.nuforc.org/webreports/094/S94029.html</td>\n",
       "      <td>bright light couldnt real tell shape pretty co...</td>\n",
       "      <td>2012-11-04T00:00:00</td>\n",
       "      <td>25.774143</td>\n",
       "      <td>-80.289518</td>\n",
       "      <td>Unknown</td>\n",
       "      <td>[((HOAX??))]</td>\n",
       "      <td>[((NUFORC Note:  We suspect a hoax because of ...</td>\n",
       "      <td>True</td>\n",
       "    </tr>\n",
       "    <tr>\n",
       "      <th>56218</th>\n",
       "      <td>56219</td>\n",
       "      <td>Austin</td>\n",
       "      <td>TX</td>\n",
       "      <td>2014-06-19T23:00:00</td>\n",
       "      <td>cylinder</td>\n",
       "      <td>[Occurred : 6/19/2014 23:00  (Entered as : 06/...</td>\n",
       "      <td>http://www.nuforc.org/webreports/110/S110645.html</td>\n",
       "      <td>redbluegreen cylinder eggshaped craft directly...</td>\n",
       "      <td>2014-06-27T00:00:00</td>\n",
       "      <td>30.308469</td>\n",
       "      <td>-97.760112</td>\n",
       "      <td>minutes</td>\n",
       "      <td>[]</td>\n",
       "      <td>[]</td>\n",
       "      <td>True</td>\n",
       "    </tr>\n",
       "    <tr>\n",
       "      <th>56219</th>\n",
       "      <td>56220</td>\n",
       "      <td>Austin</td>\n",
       "      <td>TX</td>\n",
       "      <td>2014-06-19T23:00:00</td>\n",
       "      <td>cylinder</td>\n",
       "      <td>[Occurred : 6/19/2014 23:00  (Entered as : 06/...</td>\n",
       "      <td>http://www.nuforc.org/webreports/110/S110629.html</td>\n",
       "      <td>redbluegreen cylinder eggshaped craft directly...</td>\n",
       "      <td>2014-06-27T00:00:00</td>\n",
       "      <td>30.308469</td>\n",
       "      <td>-97.760112</td>\n",
       "      <td>minutes</td>\n",
       "      <td>[]</td>\n",
       "      <td>[]</td>\n",
       "      <td>True</td>\n",
       "    </tr>\n",
       "    <tr>\n",
       "      <th>64015</th>\n",
       "      <td>64016</td>\n",
       "      <td>Mastic Beach</td>\n",
       "      <td>NY</td>\n",
       "      <td>2015-07-10T21:00:00</td>\n",
       "      <td>circle</td>\n",
       "      <td>[Occurred : 7/10/2015 21:00  (Entered as : 07/...</td>\n",
       "      <td>http://www.nuforc.org/webreports/120/S120298.html</td>\n",
       "      <td>approximately 9pm spotted reddish orange ball ...</td>\n",
       "      <td>2015-07-17T00:00:00</td>\n",
       "      <td>40.766200</td>\n",
       "      <td>-72.837700</td>\n",
       "      <td>minutes</td>\n",
       "      <td>[]</td>\n",
       "      <td>[((NUFORC Note:  Witness elects to remain tota...</td>\n",
       "      <td>True</td>\n",
       "    </tr>\n",
       "    <tr>\n",
       "      <th>64016</th>\n",
       "      <td>64017</td>\n",
       "      <td>Mastic Beach</td>\n",
       "      <td>NY</td>\n",
       "      <td>2015-07-10T21:00:00</td>\n",
       "      <td>circle</td>\n",
       "      <td>[Occurred : 7/10/2015 21:00  (Entered as : 07/...</td>\n",
       "      <td>http://www.nuforc.org/webreports/120/S120302.html</td>\n",
       "      <td>approximately 9 pm spotted reddish orange ball...</td>\n",
       "      <td>2015-07-17T00:00:00</td>\n",
       "      <td>40.766200</td>\n",
       "      <td>-72.837700</td>\n",
       "      <td>minutes</td>\n",
       "      <td>[]</td>\n",
       "      <td>[((NUFORC Note:  Witness elects to remain tota...</td>\n",
       "      <td>True</td>\n",
       "    </tr>\n",
       "    <tr>\n",
       "      <th>65384</th>\n",
       "      <td>65385</td>\n",
       "      <td>Amissville</td>\n",
       "      <td>VA</td>\n",
       "      <td>2015-05-17T21:00:00</td>\n",
       "      <td>oval</td>\n",
       "      <td>[Occurred : 5/17/2015 21:00  (Entered as : 05/...</td>\n",
       "      <td>http://www.nuforc.org/webreports/119/S119011.html</td>\n",
       "      <td>medium blue oval light covering large area nor...</td>\n",
       "      <td>2015-05-22T00:00:00</td>\n",
       "      <td>38.701600</td>\n",
       "      <td>-78.000900</td>\n",
       "      <td>seconds</td>\n",
       "      <td>[]</td>\n",
       "      <td>[]</td>\n",
       "      <td>True</td>\n",
       "    </tr>\n",
       "    <tr>\n",
       "      <th>65386</th>\n",
       "      <td>65387</td>\n",
       "      <td>Amissville</td>\n",
       "      <td>VA</td>\n",
       "      <td>2015-05-17T21:00:00</td>\n",
       "      <td>oval</td>\n",
       "      <td>[Occurred : 5/17/2015 21:00  (Entered as : 05/...</td>\n",
       "      <td>http://www.nuforc.org/webreports/119/S119010.html</td>\n",
       "      <td>medium blue oval light covering large area nor...</td>\n",
       "      <td>2015-05-22T00:00:00</td>\n",
       "      <td>38.701600</td>\n",
       "      <td>-78.000900</td>\n",
       "      <td>seconds</td>\n",
       "      <td>[]</td>\n",
       "      <td>[]</td>\n",
       "      <td>True</td>\n",
       "    </tr>\n",
       "    <tr>\n",
       "      <th>80621</th>\n",
       "      <td>80622</td>\n",
       "      <td>Roanoke</td>\n",
       "      <td>VA</td>\n",
       "      <td>2017-09-29T21:45:00</td>\n",
       "      <td>unknown</td>\n",
       "      <td>[Occurred : 9/29/2017 21:45  (Entered as : 09/...</td>\n",
       "      <td>http://www.nuforc.org/webreports/136/S136466.html</td>\n",
       "      <td>light airport hover second took due north sigh...</td>\n",
       "      <td>2017-10-05T00:00:00</td>\n",
       "      <td>37.275004</td>\n",
       "      <td>-79.970725</td>\n",
       "      <td>seconds</td>\n",
       "      <td>[((anonymous report))]</td>\n",
       "      <td>[((NUFORC Note:  Witness elects to remain tota...</td>\n",
       "      <td>True</td>\n",
       "    </tr>\n",
       "    <tr>\n",
       "      <th>80622</th>\n",
       "      <td>80623</td>\n",
       "      <td>Roanoke</td>\n",
       "      <td>VA</td>\n",
       "      <td>2017-09-29T21:45:00</td>\n",
       "      <td>unknown</td>\n",
       "      <td>[Occurred : 9/29/2017 21:45  (Entered as : 09/...</td>\n",
       "      <td>http://www.nuforc.org/webreports/136/S136499.html</td>\n",
       "      <td>light airport hover second took due north sigh...</td>\n",
       "      <td>2017-10-05T00:00:00</td>\n",
       "      <td>37.275004</td>\n",
       "      <td>-79.970725</td>\n",
       "      <td>seconds</td>\n",
       "      <td>[((anonymous report))]</td>\n",
       "      <td>[((NUFORC Note:  Witness elects to remain tota...</td>\n",
       "      <td>True</td>\n",
       "    </tr>\n",
       "    <tr>\n",
       "      <th>82748</th>\n",
       "      <td>82749</td>\n",
       "      <td>Friant</td>\n",
       "      <td>CA</td>\n",
       "      <td>2017-06-30T22:00:00</td>\n",
       "      <td>light</td>\n",
       "      <td>[Occurred : 6/30/2017 22:00  (Entered as : 22:...</td>\n",
       "      <td>http://www.nuforc.org/webreports/142/S142510.html</td>\n",
       "      <td>summer 2017 friant california… madera side mil...</td>\n",
       "      <td>2018-08-10T00:00:00</td>\n",
       "      <td>37.026200</td>\n",
       "      <td>-119.692400</td>\n",
       "      <td>seconds</td>\n",
       "      <td>[]</td>\n",
       "      <td>[((p.m.)), ((NUFORC Note:  Witness indicates t...</td>\n",
       "      <td>True</td>\n",
       "    </tr>\n",
       "    <tr>\n",
       "      <th>82749</th>\n",
       "      <td>82750</td>\n",
       "      <td>Friant</td>\n",
       "      <td>CA</td>\n",
       "      <td>2017-06-30T22:00:00</td>\n",
       "      <td>light</td>\n",
       "      <td>[Occurred : 6/30/2017 22:00  (Entered as : 22:...</td>\n",
       "      <td>http://www.nuforc.org/webreports/142/S142514.html</td>\n",
       "      <td>summer 2017 friant california… madera side mil...</td>\n",
       "      <td>2018-08-10T00:00:00</td>\n",
       "      <td>37.026200</td>\n",
       "      <td>-119.692400</td>\n",
       "      <td>seconds</td>\n",
       "      <td>[]</td>\n",
       "      <td>[((NUFORC Note:  Witness indicates that the da...</td>\n",
       "      <td>True</td>\n",
       "    </tr>\n",
       "    <tr>\n",
       "      <th>87600</th>\n",
       "      <td>87601</td>\n",
       "      <td>Albany</td>\n",
       "      <td>OR</td>\n",
       "      <td>2019-12-12T12:32:00</td>\n",
       "      <td>NaN</td>\n",
       "      <td>[Occurred : 12/12/2019 12:32  (Entered as : 12...</td>\n",
       "      <td>http://www.nuforc.org/webreports/151/S151587.html</td>\n",
       "      <td>saw white streak northeast moving southwest se...</td>\n",
       "      <td>2019-12-19T00:00:00</td>\n",
       "      <td>44.630837</td>\n",
       "      <td>-123.067743</td>\n",
       "      <td>seconds</td>\n",
       "      <td>[]</td>\n",
       "      <td>[]</td>\n",
       "      <td>True</td>\n",
       "    </tr>\n",
       "    <tr>\n",
       "      <th>87616</th>\n",
       "      <td>87617</td>\n",
       "      <td>Albany</td>\n",
       "      <td>OR</td>\n",
       "      <td>2019-12-12T12:32:00</td>\n",
       "      <td>NaN</td>\n",
       "      <td>[Occurred : 12/12/2019 12:32  (Entered as : 12...</td>\n",
       "      <td>http://www.nuforc.org/webreports/151/S151569.html</td>\n",
       "      <td>saw white streak northeast moving southwest se...</td>\n",
       "      <td>2019-12-19T00:00:00</td>\n",
       "      <td>44.630837</td>\n",
       "      <td>-123.067743</td>\n",
       "      <td>seconds</td>\n",
       "      <td>[]</td>\n",
       "      <td>[]</td>\n",
       "      <td>True</td>\n",
       "    </tr>\n",
       "    <tr>\n",
       "      <th>87637</th>\n",
       "      <td>87638</td>\n",
       "      <td>Livingston</td>\n",
       "      <td>TX</td>\n",
       "      <td>2019-12-12T18:44:00</td>\n",
       "      <td>light</td>\n",
       "      <td>[Occurred : 12/12/2019 18:44  (Entered as : 12...</td>\n",
       "      <td>http://www.nuforc.org/webreports/151/S151530.html</td>\n",
       "      <td>using satellite tracker app wife spotted pulsi...</td>\n",
       "      <td>2019-12-19T00:00:00</td>\n",
       "      <td>30.726818</td>\n",
       "      <td>-94.824048</td>\n",
       "      <td>minutes</td>\n",
       "      <td>[]</td>\n",
       "      <td>[]</td>\n",
       "      <td>True</td>\n",
       "    </tr>\n",
       "    <tr>\n",
       "      <th>87638</th>\n",
       "      <td>87639</td>\n",
       "      <td>Livingston</td>\n",
       "      <td>TX</td>\n",
       "      <td>2019-12-12T18:44:00</td>\n",
       "      <td>light</td>\n",
       "      <td>[Occurred : 12/12/2019 18:44  (Entered as : 12...</td>\n",
       "      <td>http://www.nuforc.org/webreports/151/S151574.html</td>\n",
       "      <td>using satellite tracker app wife spotted pulsi...</td>\n",
       "      <td>2019-12-19T00:00:00</td>\n",
       "      <td>30.726818</td>\n",
       "      <td>-94.824048</td>\n",
       "      <td>minutes</td>\n",
       "      <td>[]</td>\n",
       "      <td>[]</td>\n",
       "      <td>True</td>\n",
       "    </tr>\n",
       "  </tbody>\n",
       "</table>\n",
       "</div>"
      ],
      "text/plain": [
       "       Text_ID          city state            date_time     shape  \\\n",
       "15          16    Gray Court    SC  1975-07-17T00:00:00     light   \n",
       "1409      1410      Carlsbad    NM  2006-05-11T20:30:00     light   \n",
       "1410      1411      Carlsbad    NM  2006-05-11T20:30:00     light   \n",
       "2026      2027    Gray Court    SC  1975-07-17T00:00:00     light   \n",
       "2398      2399      Marietta    GA  2019-06-27T22:20:00  triangle   \n",
       "2399      2400      Marietta    GA  2019-06-27T22:20:00  triangle   \n",
       "3176      3177   Bloomington    MN  2019-04-17T21:30:00      oval   \n",
       "3177      3178   Bloomington    MN  2019-04-17T21:30:00      oval   \n",
       "34857    34858       Memphis    TN  2011-07-26T19:50:00     cigar   \n",
       "34858    34859       Memphis    TN  2011-07-26T19:50:00     cigar   \n",
       "41029    41030         Miami    FL  2012-11-02T07:00:00   unknown   \n",
       "41030    41031         Miami    FL  2012-11-02T07:00:00   unknown   \n",
       "56218    56219        Austin    TX  2014-06-19T23:00:00  cylinder   \n",
       "56219    56220        Austin    TX  2014-06-19T23:00:00  cylinder   \n",
       "64015    64016  Mastic Beach    NY  2015-07-10T21:00:00    circle   \n",
       "64016    64017  Mastic Beach    NY  2015-07-10T21:00:00    circle   \n",
       "65384    65385    Amissville    VA  2015-05-17T21:00:00      oval   \n",
       "65386    65387    Amissville    VA  2015-05-17T21:00:00      oval   \n",
       "80621    80622       Roanoke    VA  2017-09-29T21:45:00   unknown   \n",
       "80622    80623       Roanoke    VA  2017-09-29T21:45:00   unknown   \n",
       "82748    82749        Friant    CA  2017-06-30T22:00:00     light   \n",
       "82749    82750        Friant    CA  2017-06-30T22:00:00     light   \n",
       "87600    87601        Albany    OR  2019-12-12T12:32:00       NaN   \n",
       "87616    87617        Albany    OR  2019-12-12T12:32:00       NaN   \n",
       "87637    87638    Livingston    TX  2019-12-12T18:44:00     light   \n",
       "87638    87639    Livingston    TX  2019-12-12T18:44:00     light   \n",
       "\n",
       "                                                   stats  \\\n",
       "15     [Occurred : 7/17/1975 00:00  (Entered as : 07/...   \n",
       "1409   [Occurred : 5/11/2006 20:30  (Entered as : 05/...   \n",
       "1410   [Occurred : 5/11/2006 20:30  (Entered as : 05/...   \n",
       "2026   [Occurred : 7/17/1975 00:00  (Entered as : 07/...   \n",
       "2398   [Occurred : 6/27/2019 22:20  (Entered as : 06/...   \n",
       "2399   [Occurred : 6/27/2019 22:20  (Entered as : 06/...   \n",
       "3176   [Occurred : 4/17/2019 21:30  (Entered as : 04/...   \n",
       "3177   [Occurred : 4/17/2019 21:30  (Entered as : 04/...   \n",
       "34857  [Occurred : 7/26/2011 19:50  (Entered as : 07/...   \n",
       "34858  [Occurred : 7/26/2011 19:50  (Entered as : 07/...   \n",
       "41029  [Occurred : 11/2/2012 07:00  (Entered as : 11/...   \n",
       "41030  [Occurred : 11/2/2012 07:00  (Entered as : 11/...   \n",
       "56218  [Occurred : 6/19/2014 23:00  (Entered as : 06/...   \n",
       "56219  [Occurred : 6/19/2014 23:00  (Entered as : 06/...   \n",
       "64015  [Occurred : 7/10/2015 21:00  (Entered as : 07/...   \n",
       "64016  [Occurred : 7/10/2015 21:00  (Entered as : 07/...   \n",
       "65384  [Occurred : 5/17/2015 21:00  (Entered as : 05/...   \n",
       "65386  [Occurred : 5/17/2015 21:00  (Entered as : 05/...   \n",
       "80621  [Occurred : 9/29/2017 21:45  (Entered as : 09/...   \n",
       "80622  [Occurred : 9/29/2017 21:45  (Entered as : 09/...   \n",
       "82748  [Occurred : 6/30/2017 22:00  (Entered as : 22:...   \n",
       "82749  [Occurred : 6/30/2017 22:00  (Entered as : 22:...   \n",
       "87600  [Occurred : 12/12/2019 12:32  (Entered as : 12...   \n",
       "87616  [Occurred : 12/12/2019 12:32  (Entered as : 12...   \n",
       "87637  [Occurred : 12/12/2019 18:44  (Entered as : 12...   \n",
       "87638  [Occurred : 12/12/2019 18:44  (Entered as : 12...   \n",
       "\n",
       "                                             report_link  \\\n",
       "15     http://www.nuforc.org/webreports/147/S147117.html   \n",
       "1409    http://www.nuforc.org/webreports/050/S50526.html   \n",
       "1410    http://www.nuforc.org/webreports/050/S50524.html   \n",
       "2026   http://www.nuforc.org/webreports/147/S147119.html   \n",
       "2398   http://www.nuforc.org/webreports/147/S147118.html   \n",
       "2399   http://www.nuforc.org/webreports/147/S147116.html   \n",
       "3176   http://www.nuforc.org/webreports/145/S145813.html   \n",
       "3177   http://www.nuforc.org/webreports/145/S145829.html   \n",
       "34857   http://www.nuforc.org/webreports/082/S82738.html   \n",
       "34858   http://www.nuforc.org/webreports/082/S82737.html   \n",
       "41029   http://www.nuforc.org/webreports/094/S94041.html   \n",
       "41030   http://www.nuforc.org/webreports/094/S94029.html   \n",
       "56218  http://www.nuforc.org/webreports/110/S110645.html   \n",
       "56219  http://www.nuforc.org/webreports/110/S110629.html   \n",
       "64015  http://www.nuforc.org/webreports/120/S120298.html   \n",
       "64016  http://www.nuforc.org/webreports/120/S120302.html   \n",
       "65384  http://www.nuforc.org/webreports/119/S119011.html   \n",
       "65386  http://www.nuforc.org/webreports/119/S119010.html   \n",
       "80621  http://www.nuforc.org/webreports/136/S136466.html   \n",
       "80622  http://www.nuforc.org/webreports/136/S136499.html   \n",
       "82748  http://www.nuforc.org/webreports/142/S142510.html   \n",
       "82749  http://www.nuforc.org/webreports/142/S142514.html   \n",
       "87600  http://www.nuforc.org/webreports/151/S151587.html   \n",
       "87616  http://www.nuforc.org/webreports/151/S151569.html   \n",
       "87637  http://www.nuforc.org/webreports/151/S151530.html   \n",
       "87638  http://www.nuforc.org/webreports/151/S151574.html   \n",
       "\n",
       "                                                    text               posted  \\\n",
       "15     strange bright light hovered mobile home nufor...  2019-07-05T00:00:00   \n",
       "1409   strange light moving moon approx 830 pm evenin...  2006-05-15T00:00:00   \n",
       "1410   strange light moving moon approx 830 pm evenin...  2006-05-15T00:00:00   \n",
       "2026            strange bright light hovered mobile home  2019-07-05T00:00:00   \n",
       "2398   slowmoving triangle aircraft visible night sky...  2019-07-05T00:00:00   \n",
       "2399   slowmoving triangle aircraft visible night sky...  2019-07-05T00:00:00   \n",
       "3176   happened bloomington mn driving hwy 77 going n...  2019-04-25T00:00:00   \n",
       "3177   happened bloomington mn driving hwy 77 going n...  2019-04-25T00:00:00   \n",
       "34857  10 unknown object memphis saw 10 tonight 75082...  2011-08-07T00:00:00   \n",
       "34858  10 unknown object memphis saw 10 tonight 75082...  2011-08-07T00:00:00   \n",
       "41029  bright light couldnt real tell shape pretty co...  2012-11-04T00:00:00   \n",
       "41030  bright light couldnt real tell shape pretty co...  2012-11-04T00:00:00   \n",
       "56218  redbluegreen cylinder eggshaped craft directly...  2014-06-27T00:00:00   \n",
       "56219  redbluegreen cylinder eggshaped craft directly...  2014-06-27T00:00:00   \n",
       "64015  approximately 9pm spotted reddish orange ball ...  2015-07-17T00:00:00   \n",
       "64016  approximately 9 pm spotted reddish orange ball...  2015-07-17T00:00:00   \n",
       "65384  medium blue oval light covering large area nor...  2015-05-22T00:00:00   \n",
       "65386  medium blue oval light covering large area nor...  2015-05-22T00:00:00   \n",
       "80621  light airport hover second took due north sigh...  2017-10-05T00:00:00   \n",
       "80622  light airport hover second took due north sigh...  2017-10-05T00:00:00   \n",
       "82748  summer 2017 friant california… madera side mil...  2018-08-10T00:00:00   \n",
       "82749  summer 2017 friant california… madera side mil...  2018-08-10T00:00:00   \n",
       "87600  saw white streak northeast moving southwest se...  2019-12-19T00:00:00   \n",
       "87616  saw white streak northeast moving southwest se...  2019-12-19T00:00:00   \n",
       "87637  using satellite tracker app wife spotted pulsi...  2019-12-19T00:00:00   \n",
       "87638  using satellite tracker app wife spotted pulsi...  2019-12-19T00:00:00   \n",
       "\n",
       "       city_latitude  city_longitude Duration  \\\n",
       "15         34.578800      -82.114100  minutes   \n",
       "1409       32.301554     -104.286505  minutes   \n",
       "1410       32.301554     -104.286505  minutes   \n",
       "2026       34.578800      -82.114100  minutes   \n",
       "2398       33.961887      -84.510213  minutes   \n",
       "2399       33.961887      -84.510213  minutes   \n",
       "3176             NaN             NaN  seconds   \n",
       "3177             NaN             NaN  seconds   \n",
       "34857      35.125473      -89.926925  minutes   \n",
       "34858      35.125473      -89.926925  minutes   \n",
       "41029      25.774143      -80.289518  Unknown   \n",
       "41030      25.774143      -80.289518  Unknown   \n",
       "56218      30.308469      -97.760112  minutes   \n",
       "56219      30.308469      -97.760112  minutes   \n",
       "64015      40.766200      -72.837700  minutes   \n",
       "64016      40.766200      -72.837700  minutes   \n",
       "65384      38.701600      -78.000900  seconds   \n",
       "65386      38.701600      -78.000900  seconds   \n",
       "80621      37.275004      -79.970725  seconds   \n",
       "80622      37.275004      -79.970725  seconds   \n",
       "82748      37.026200     -119.692400  seconds   \n",
       "82749      37.026200     -119.692400  seconds   \n",
       "87600      44.630837     -123.067743  seconds   \n",
       "87616      44.630837     -123.067743  seconds   \n",
       "87637      30.726818      -94.824048  minutes   \n",
       "87638      30.726818      -94.824048  minutes   \n",
       "\n",
       "                                           summary_notes  \\\n",
       "15                                                    []   \n",
       "1409   [((NUFORC Note:  International Space Station s...   \n",
       "1410   [((NUFORC Note:  Space Station flew over Carls...   \n",
       "2026                                                  []   \n",
       "2398                                                  []   \n",
       "2399                              [((anonymous report))]   \n",
       "3176                                                  []   \n",
       "3177                                                  []   \n",
       "34857  [((NUFORC Note:  Student report.  One of sever...   \n",
       "34858  [((NUFORC Note:  Student report.  One of sever...   \n",
       "41029            [((HOAX??  Time and date are flawed.))]   \n",
       "41030                                       [((HOAX??))]   \n",
       "56218                                                 []   \n",
       "56219                                                 []   \n",
       "64015                                                 []   \n",
       "64016                                                 []   \n",
       "65384                                                 []   \n",
       "65386                                                 []   \n",
       "80621                             [((anonymous report))]   \n",
       "80622                             [((anonymous report))]   \n",
       "82748                                                 []   \n",
       "82749                                                 []   \n",
       "87600                                                 []   \n",
       "87616                                                 []   \n",
       "87637                                                 []   \n",
       "87638                                                 []   \n",
       "\n",
       "                                              text_notes  stats_duplicated  \n",
       "15                                                    []              True  \n",
       "1409   [((NUFORC Note:  International Space Station s...              True  \n",
       "1410   [((NUFORC Note:  Space Station flew over Carls...              True  \n",
       "2026                                                  []              True  \n",
       "2398                                                  []              True  \n",
       "2399   [((NUFORC Note:  Witness elects to remain tota...              True  \n",
       "3176                                                  []              True  \n",
       "3177                                                  []              True  \n",
       "34857  [((NUFORC Note:  Student report.  One of sever...              True  \n",
       "34858  [((NUFORC Note:  Student report.  One of sever...              True  \n",
       "41029  [((NUFORC Note:  Witness elects to remain tota...              True  \n",
       "41030  [((NUFORC Note:  We suspect a hoax because of ...              True  \n",
       "56218                                                 []              True  \n",
       "56219                                                 []              True  \n",
       "64015  [((NUFORC Note:  Witness elects to remain tota...              True  \n",
       "64016  [((NUFORC Note:  Witness elects to remain tota...              True  \n",
       "65384                                                 []              True  \n",
       "65386                                                 []              True  \n",
       "80621  [((NUFORC Note:  Witness elects to remain tota...              True  \n",
       "80622  [((NUFORC Note:  Witness elects to remain tota...              True  \n",
       "82748  [((p.m.)), ((NUFORC Note:  Witness indicates t...              True  \n",
       "82749  [((NUFORC Note:  Witness indicates that the da...              True  \n",
       "87600                                                 []              True  \n",
       "87616                                                 []              True  \n",
       "87637                                                 []              True  \n",
       "87638                                                 []              True  "
      ]
     },
     "execution_count": 47,
     "metadata": {},
     "output_type": "execute_result"
    }
   ],
   "source": [
    "df[df['stats_duplicated'] == True]"
   ]
  },
  {
   "cell_type": "code",
   "execution_count": 48,
   "metadata": {
    "colab": {
     "base_uri": "https://localhost:8080/",
     "height": 49
    },
    "id": "BrYocQK7t0dz",
    "outputId": "c18165b6-989d-4d13-c941-3fe57f4a18e2"
   },
   "outputs": [
    {
     "data": {
      "text/html": [
       "<div>\n",
       "<style scoped>\n",
       "    .dataframe tbody tr th:only-of-type {\n",
       "        vertical-align: middle;\n",
       "    }\n",
       "\n",
       "    .dataframe tbody tr th {\n",
       "        vertical-align: top;\n",
       "    }\n",
       "\n",
       "    .dataframe thead th {\n",
       "        text-align: right;\n",
       "    }\n",
       "</style>\n",
       "<table border=\"1\" class=\"dataframe\">\n",
       "  <thead>\n",
       "    <tr style=\"text-align: right;\">\n",
       "      <th></th>\n",
       "      <th>Text_ID</th>\n",
       "      <th>city</th>\n",
       "      <th>state</th>\n",
       "      <th>date_time</th>\n",
       "      <th>shape</th>\n",
       "      <th>stats</th>\n",
       "      <th>report_link</th>\n",
       "      <th>text</th>\n",
       "      <th>posted</th>\n",
       "      <th>city_latitude</th>\n",
       "      <th>city_longitude</th>\n",
       "      <th>Duration</th>\n",
       "      <th>summary_notes</th>\n",
       "      <th>text_notes</th>\n",
       "      <th>stats_duplicated</th>\n",
       "    </tr>\n",
       "  </thead>\n",
       "  <tbody>\n",
       "  </tbody>\n",
       "</table>\n",
       "</div>"
      ],
      "text/plain": [
       "Empty DataFrame\n",
       "Columns: [Text_ID, city, state, date_time, shape, stats, report_link, text, posted, city_latitude, city_longitude, Duration, summary_notes, text_notes, stats_duplicated]\n",
       "Index: []"
      ]
     },
     "execution_count": 48,
     "metadata": {},
     "output_type": "execute_result"
    }
   ],
   "source": [
    "df[df['stats'].isnull() == True]"
   ]
  },
  {
   "cell_type": "code",
   "execution_count": 49,
   "metadata": {
    "colab": {
     "base_uri": "https://localhost:8080/"
    },
    "id": "rZrZOATHtoI3",
    "outputId": "e64e8a26-a16d-4300-d0ea-e612e8a47ebf"
   },
   "outputs": [
    {
     "data": {
      "text/plain": [
       "['Occurred : 12/12/2019 12:32  (Entered as : 12/12/19 12:32)',\n",
       " 'Reported: 12/12/2019 10:45:11 PM 22:45',\n",
       " 'Posted: 12/19/2019',\n",
       " 'Location: Albany, OR',\n",
       " 'Shape: ',\n",
       " 'Duration: 1-2 seconds']"
      ]
     },
     "execution_count": 49,
     "metadata": {},
     "output_type": "execute_result"
    }
   ],
   "source": [
    "df['stats'][87600]"
   ]
  },
  {
   "cell_type": "code",
   "execution_count": 50,
   "metadata": {
    "colab": {
     "base_uri": "https://localhost:8080/"
    },
    "id": "NfueTAJZMTg6",
    "outputId": "78a73fd3-c01a-42df-d930-b78e3601db4d"
   },
   "outputs": [
    {
     "name": "stdout",
     "output_type": "stream",
     "text": [
      "<class 'pandas.core.frame.DataFrame'>\n",
      "Int64Index: 86714 entries, 0 to 88123\n",
      "Data columns (total 15 columns):\n",
      " #   Column            Non-Null Count  Dtype  \n",
      "---  ------            --------------  -----  \n",
      " 0   Text_ID           86714 non-null  int64  \n",
      " 1   city              86483 non-null  object \n",
      " 2   state             81577 non-null  object \n",
      " 3   date_time         85560 non-null  object \n",
      " 4   shape             84276 non-null  object \n",
      " 5   stats             86714 non-null  object \n",
      " 6   report_link       86714 non-null  object \n",
      " 7   text              86714 non-null  object \n",
      " 8   posted            85560 non-null  object \n",
      " 9   city_latitude     70907 non-null  float64\n",
      " 10  city_longitude    70907 non-null  float64\n",
      " 11  Duration          86714 non-null  object \n",
      " 12  summary_notes     86714 non-null  object \n",
      " 13  text_notes        86714 non-null  object \n",
      " 14  stats_duplicated  86714 non-null  bool   \n",
      "dtypes: bool(1), float64(2), int64(1), object(11)\n",
      "memory usage: 12.0+ MB\n"
     ]
    }
   ],
   "source": [
    "df.info()"
   ]
  },
  {
   "cell_type": "code",
   "execution_count": 51,
   "metadata": {
    "colab": {
     "base_uri": "https://localhost:8080/"
    },
    "id": "DPvJm9rNSJL4",
    "outputId": "08300868-baa1-4333-d7d2-35804e22818d"
   },
   "outputs": [
    {
     "name": "stdout",
     "output_type": "stream",
     "text": [
      "<class 'pandas.core.frame.DataFrame'>\n",
      "Int64Index: 86714 entries, 0 to 88123\n",
      "Data columns (total 15 columns):\n",
      " #   Column            Non-Null Count  Dtype  \n",
      "---  ------            --------------  -----  \n",
      " 0   Text_ID           86714 non-null  int64  \n",
      " 1   city              86483 non-null  object \n",
      " 2   state             81577 non-null  object \n",
      " 3   date_time         85560 non-null  object \n",
      " 4   shape             84276 non-null  object \n",
      " 5   stats             86714 non-null  object \n",
      " 6   report_link       86714 non-null  object \n",
      " 7   text              86714 non-null  object \n",
      " 8   posted            85560 non-null  object \n",
      " 9   city_latitude     70907 non-null  float64\n",
      " 10  city_longitude    70907 non-null  float64\n",
      " 11  Duration          86714 non-null  object \n",
      " 12  summary_notes     86714 non-null  object \n",
      " 13  text_notes        86714 non-null  object \n",
      " 14  stats_duplicated  86714 non-null  bool   \n",
      "dtypes: bool(1), float64(2), int64(1), object(11)\n",
      "memory usage: 10.0+ MB\n"
     ]
    }
   ],
   "source": [
    "df.dropna(subset=['stats'],inplace=True)\n",
    "df.info()"
   ]
  },
  {
   "cell_type": "code",
   "execution_count": 52,
   "metadata": {
    "id": "OFcqHaBsNaa5"
   },
   "outputs": [],
   "source": [
    "split_df = pd.DataFrame(df['stats'].to_list(), columns = ['Occurred_stats', 'Reported_stats', 'Posted_stats','Location_stats','Shape_stats','Duration_stats'])"
   ]
  },
  {
   "cell_type": "code",
   "execution_count": 53,
   "metadata": {
    "colab": {
     "base_uri": "https://localhost:8080/"
    },
    "id": "bnkOh7vVbSgQ",
    "outputId": "918db6de-8dd1-4a5c-e4ee-c651e19f49b2"
   },
   "outputs": [
    {
     "data": {
      "text/plain": [
       "0        Reported: 12/19/2019 7:19:31 PM 19:19\n",
       "1         Reported: 3/27/2019 4:10:19 PM 16:10\n",
       "2          Reported: 4/8/2019 9:42:31 PM 21:42\n",
       "3         Reported: 4/17/2019 8:41:25 AM 08:41\n",
       "4         Reported: 4/17/2019 6:30:52 PM 18:30\n",
       "                         ...                  \n",
       "86709    Reported: 10/3/2019 10:09:11 PM 22:09\n",
       "86710     Reported: 10/2/2019 7:35:17 AM 07:35\n",
       "86711     Reported: 10/2/2019 5:31:18 PM 17:31\n",
       "86712     Reported: 10/3/2019 7:00:19 AM 07:00\n",
       "86713     Reported: 10/3/2019 1:40:38 PM 13:40\n",
       "Name: Reported_stats, Length: 86714, dtype: object"
      ]
     },
     "execution_count": 53,
     "metadata": {},
     "output_type": "execute_result"
    }
   ],
   "source": [
    "split_df['Reported_stats']"
   ]
  },
  {
   "cell_type": "code",
   "execution_count": 54,
   "metadata": {
    "colab": {
     "base_uri": "https://localhost:8080/"
    },
    "id": "Ic_QPkMNS6Hv",
    "outputId": "a7d8e708-18b5-4f98-9cf8-19fca2aa779b"
   },
   "outputs": [
    {
     "name": "stdout",
     "output_type": "stream",
     "text": [
      "<class 'pandas.core.frame.DataFrame'>\n",
      "Int64Index: 88098 entries, 0 to 88123\n",
      "Data columns (total 16 columns):\n",
      " #   Column            Non-Null Count  Dtype  \n",
      "---  ------            --------------  -----  \n",
      " 0   Text_ID           86714 non-null  float64\n",
      " 1   city              86483 non-null  object \n",
      " 2   state             81577 non-null  object \n",
      " 3   date_time         85560 non-null  object \n",
      " 4   shape             84276 non-null  object \n",
      " 5   stats             86714 non-null  object \n",
      " 6   report_link       86714 non-null  object \n",
      " 7   text              86714 non-null  object \n",
      " 8   posted            85560 non-null  object \n",
      " 9   city_latitude     70907 non-null  float64\n",
      " 10  city_longitude    70907 non-null  float64\n",
      " 11  Duration          86714 non-null  object \n",
      " 12  summary_notes     86714 non-null  object \n",
      " 13  text_notes        86714 non-null  object \n",
      " 14  stats_duplicated  86714 non-null  object \n",
      " 15  Reported_stats    86714 non-null  object \n",
      "dtypes: float64(3), object(13)\n",
      "memory usage: 11.4+ MB\n"
     ]
    }
   ],
   "source": [
    "df = pd.concat([df, split_df['Reported_stats']], axis=1)\n",
    "df.info()"
   ]
  },
  {
   "cell_type": "code",
   "execution_count": 55,
   "metadata": {
    "colab": {
     "base_uri": "https://localhost:8080/"
    },
    "id": "4BoXtNcEbKCB",
    "outputId": "baadc5f0-65e3-454d-9c96-94b7d5b5eb97"
   },
   "outputs": [
    {
     "name": "stdout",
     "output_type": "stream",
     "text": [
      "<class 'pandas.core.frame.DataFrame'>\n",
      "Int64Index: 88098 entries, 0 to 88123\n",
      "Data columns (total 16 columns):\n",
      " #   Column            Non-Null Count  Dtype  \n",
      "---  ------            --------------  -----  \n",
      " 0   Text_ID           86714 non-null  float64\n",
      " 1   city              86483 non-null  object \n",
      " 2   state             81577 non-null  object \n",
      " 3   date_time         85560 non-null  object \n",
      " 4   shape             84276 non-null  object \n",
      " 5   stats             86714 non-null  object \n",
      " 6   report_link       86714 non-null  object \n",
      " 7   text              86714 non-null  object \n",
      " 8   posted            85560 non-null  object \n",
      " 9   city_latitude     70907 non-null  float64\n",
      " 10  city_longitude    70907 non-null  float64\n",
      " 11  Duration          86714 non-null  object \n",
      " 12  summary_notes     86714 non-null  object \n",
      " 13  text_notes        86714 non-null  object \n",
      " 14  stats_duplicated  86714 non-null  object \n",
      " 15  Reported_stats    86714 non-null  object \n",
      "dtypes: float64(3), object(13)\n",
      "memory usage: 11.4+ MB\n"
     ]
    }
   ],
   "source": [
    "df.info()"
   ]
  },
  {
   "cell_type": "code",
   "execution_count": 56,
   "metadata": {
    "colab": {
     "base_uri": "https://localhost:8080/"
    },
    "id": "n_xhfXZ7THhG",
    "outputId": "3df44f0b-8caa-4315-91c1-6566e9b071ad"
   },
   "outputs": [
    {
     "data": {
      "text/plain": [
       "False    85560\n",
       "True      2538\n",
       "Name: posted, dtype: int64"
      ]
     },
     "execution_count": 56,
     "metadata": {},
     "output_type": "execute_result"
    }
   ],
   "source": [
    "df['posted'].isnull().value_counts()"
   ]
  },
  {
   "cell_type": "code",
   "execution_count": 57,
   "metadata": {
    "id": "mysyRG5-eywJ"
   },
   "outputs": [],
   "source": [
    "def clean_reported_stats(arg):\n",
    "    arg = str(arg).replace(\"Reported: \",\"\")\n",
    "    arg = arg.split()\n",
    "    if len(arg) == 4:\n",
    "        del arg[-1]\n",
    "        arg = \" \".join(arg)\n",
    "        arg = datetime.strptime(arg, '%m/%d/%Y %I:%M:%S %p')\n",
    "        return arg\n",
    "    else:\n",
    "        arg = \" \".join(arg)\n",
    "        return arg"
   ]
  },
  {
   "cell_type": "code",
   "execution_count": 58,
   "metadata": {
    "id": "yIIs7_Bge9s0"
   },
   "outputs": [],
   "source": [
    "df['Reported_stats'] = df.apply(lambda row: clean_reported_stats(row['Reported_stats']), axis=1)"
   ]
  },
  {
   "cell_type": "code",
   "execution_count": 59,
   "metadata": {
    "colab": {
     "base_uri": "https://localhost:8080/"
    },
    "id": "uhvmppn_fWIu",
    "outputId": "1f82246f-12d6-4212-8118-ad2f1a988473"
   },
   "outputs": [
    {
     "data": {
      "text/plain": [
       "0        2019-12-19 19:19:31\n",
       "1        2019-03-27 16:10:19\n",
       "2        2019-04-08 21:42:31\n",
       "3        2019-04-17 08:41:25\n",
       "4        2019-04-17 18:30:52\n",
       "                ...         \n",
       "88119                    nan\n",
       "88120                    nan\n",
       "88121                    nan\n",
       "88122                    nan\n",
       "88123                    nan\n",
       "Name: Reported_stats, Length: 88098, dtype: object"
      ]
     },
     "execution_count": 59,
     "metadata": {},
     "output_type": "execute_result"
    }
   ],
   "source": [
    "df['Reported_stats']"
   ]
  },
  {
   "cell_type": "code",
   "execution_count": 60,
   "metadata": {},
   "outputs": [
    {
     "data": {
      "text/plain": [
       "datetime.datetime"
      ]
     },
     "execution_count": 60,
     "metadata": {},
     "output_type": "execute_result"
    }
   ],
   "source": [
    "type(df['Reported_stats'][0])"
   ]
  },
  {
   "cell_type": "markdown",
   "metadata": {
    "id": "74vuhuvHz1tW"
   },
   "source": [
    "# Geographic"
   ]
  },
  {
   "cell_type": "code",
   "execution_count": 61,
   "metadata": {
    "colab": {
     "base_uri": "https://localhost:8080/"
    },
    "id": "fcgaHomgz4XM",
    "outputId": "a43639d6-773e-43ee-9f6b-a628314169df"
   },
   "outputs": [
    {
     "name": "stdout",
     "output_type": "stream",
     "text": [
      "<class 'pandas.core.frame.DataFrame'>\n",
      "Int64Index: 88098 entries, 0 to 88123\n",
      "Data columns (total 16 columns):\n",
      " #   Column            Non-Null Count  Dtype  \n",
      "---  ------            --------------  -----  \n",
      " 0   Text_ID           86714 non-null  float64\n",
      " 1   city              86483 non-null  object \n",
      " 2   state             81577 non-null  object \n",
      " 3   date_time         85560 non-null  object \n",
      " 4   shape             84276 non-null  object \n",
      " 5   stats             86714 non-null  object \n",
      " 6   report_link       86714 non-null  object \n",
      " 7   text              86714 non-null  object \n",
      " 8   posted            85560 non-null  object \n",
      " 9   city_latitude     70907 non-null  float64\n",
      " 10  city_longitude    70907 non-null  float64\n",
      " 11  Duration          86714 non-null  object \n",
      " 12  summary_notes     86714 non-null  object \n",
      " 13  text_notes        86714 non-null  object \n",
      " 14  stats_duplicated  86714 non-null  object \n",
      " 15  Reported_stats    88098 non-null  object \n",
      "dtypes: float64(3), object(13)\n",
      "memory usage: 13.4+ MB\n"
     ]
    }
   ],
   "source": [
    "# let's take a look at this data\n",
    "df.info()"
   ]
  },
  {
   "cell_type": "code",
   "execution_count": 62,
   "metadata": {
    "colab": {
     "base_uri": "https://localhost:8080/"
    },
    "id": "QmXaCFie0Tnv",
    "outputId": "490003c7-1f1e-49cc-b949-b36705873c93"
   },
   "outputs": [
    {
     "name": "stdout",
     "output_type": "stream",
     "text": [
      "False    86483\n",
      "True      1615\n",
      "Name: city, dtype: int64\n",
      "False    81577\n",
      "True      6521\n",
      "Name: state, dtype: int64\n"
     ]
    }
   ],
   "source": [
    "# we have a couple of geographic info columns: city, state, long and lat\n",
    "# some of this is redundant information\n",
    "# what we have to determine first, is what data is missing and to fill it in\n",
    "print(df['city'].isnull().value_counts())\n",
    "print(df['state'].isnull().value_counts())"
   ]
  },
  {
   "cell_type": "code",
   "execution_count": 63,
   "metadata": {
    "colab": {
     "base_uri": "https://localhost:8080/"
    },
    "id": "z1Tj5ZYJ0xJ2",
    "outputId": "4332bc13-e873-4d42-d66b-64e964f05fa9"
   },
   "outputs": [
    {
     "name": "stdout",
     "output_type": "stream",
     "text": [
      "False    70907\n",
      "True     17191\n",
      "Name: city_latitude, dtype: int64\n",
      "False    70907\n",
      "True     17191\n",
      "Name: city_longitude, dtype: int64\n"
     ]
    }
   ],
   "source": [
    "print(df['city_latitude'].isnull().value_counts())\n",
    "print(df['city_longitude'].isnull().value_counts())"
   ]
  },
  {
   "cell_type": "code",
   "execution_count": 64,
   "metadata": {
    "id": "AColAhye1MbB"
   },
   "outputs": [],
   "source": [
    "# we are missing more lat and long data than city data\n",
    "# so one option is to use geopy and nominatim\n",
    "# the challenge here, is we are missing significant data, and we have a rate limit\n",
    "# of one request per second, so it may be better to find alternate data for this\n"
   ]
  },
  {
   "cell_type": "code",
   "execution_count": 65,
   "metadata": {
    "id": "y4DuWJhP55zY"
   },
   "outputs": [],
   "source": [
    "# doing some research, we can import a dataset with the canadian and us cities with long at lat data\n",
    "# we downloaded data from: https://simplemaps.com/data/us-cities and https://simplemaps.com/data/canada-cities\n",
    "# lets bring this data in\n",
    "#df_us_cities = pd.read_csv('C:/Users/abhis/Documents/feature-eng/data/UFO/uscities.csv')\n",
    "#df_canada_cities = pd.read_csv('C:/Users/abhis/Documents/feature-eng/data/UFO/canadacities.csv')\n",
    "df_us_cities = pd.read_csv('/Users/rahimjiwa/Documents/Github/feature-engineering/data/UFO/uscities.csv')\n",
    "df_canada_cities = pd.read_csv('/Users/rahimjiwa/Documents/Github/feature-engineering/data/UFO/canadacities.csv')"
   ]
  },
  {
   "cell_type": "code",
   "execution_count": 66,
   "metadata": {
    "colab": {
     "base_uri": "https://localhost:8080/"
    },
    "id": "pzIy1Ygy6HnQ",
    "outputId": "f0c7bce1-e7ef-4810-a43d-2effbf833885"
   },
   "outputs": [
    {
     "name": "stdout",
     "output_type": "stream",
     "text": [
      "<class 'pandas.core.frame.DataFrame'>\n",
      "RangeIndex: 28338 entries, 0 to 28337\n",
      "Data columns (total 17 columns):\n",
      " #   Column        Non-Null Count  Dtype  \n",
      "---  ------        --------------  -----  \n",
      " 0   city          28338 non-null  object \n",
      " 1   city_ascii    28338 non-null  object \n",
      " 2   state_id      28338 non-null  object \n",
      " 3   state_name    28338 non-null  object \n",
      " 4   county_fips   28338 non-null  int64  \n",
      " 5   county_name   28338 non-null  object \n",
      " 6   lat           28338 non-null  float64\n",
      " 7   lng           28338 non-null  float64\n",
      " 8   population    28338 non-null  int64  \n",
      " 9   density       28338 non-null  int64  \n",
      " 10  source        28338 non-null  object \n",
      " 11  military      28338 non-null  bool   \n",
      " 12  incorporated  28338 non-null  bool   \n",
      " 13  timezone      28338 non-null  object \n",
      " 14  ranking       28338 non-null  int64  \n",
      " 15  zips          28337 non-null  object \n",
      " 16  id            28338 non-null  int64  \n",
      "dtypes: bool(2), float64(2), int64(5), object(8)\n",
      "memory usage: 3.3+ MB\n"
     ]
    }
   ],
   "source": [
    "df_us_cities.info()"
   ]
  },
  {
   "cell_type": "code",
   "execution_count": 67,
   "metadata": {
    "colab": {
     "base_uri": "https://localhost:8080/",
     "height": 206
    },
    "id": "Dt5KVTvl_4Ze",
    "outputId": "a73e9f0d-7b47-4074-9f50-632eddea63ec"
   },
   "outputs": [
    {
     "data": {
      "text/html": [
       "<div>\n",
       "<style scoped>\n",
       "    .dataframe tbody tr th:only-of-type {\n",
       "        vertical-align: middle;\n",
       "    }\n",
       "\n",
       "    .dataframe tbody tr th {\n",
       "        vertical-align: top;\n",
       "    }\n",
       "\n",
       "    .dataframe thead th {\n",
       "        text-align: right;\n",
       "    }\n",
       "</style>\n",
       "<table border=\"1\" class=\"dataframe\">\n",
       "  <thead>\n",
       "    <tr style=\"text-align: right;\">\n",
       "      <th></th>\n",
       "      <th>city</th>\n",
       "      <th>city_ascii</th>\n",
       "      <th>state_id</th>\n",
       "      <th>state_name</th>\n",
       "      <th>county_fips</th>\n",
       "      <th>county_name</th>\n",
       "      <th>lat</th>\n",
       "      <th>lng</th>\n",
       "      <th>population</th>\n",
       "      <th>density</th>\n",
       "      <th>source</th>\n",
       "      <th>military</th>\n",
       "      <th>incorporated</th>\n",
       "      <th>timezone</th>\n",
       "      <th>ranking</th>\n",
       "      <th>zips</th>\n",
       "      <th>id</th>\n",
       "    </tr>\n",
       "  </thead>\n",
       "  <tbody>\n",
       "    <tr>\n",
       "      <th>0</th>\n",
       "      <td>New York</td>\n",
       "      <td>New York</td>\n",
       "      <td>NY</td>\n",
       "      <td>New York</td>\n",
       "      <td>36061</td>\n",
       "      <td>New York</td>\n",
       "      <td>40.6943</td>\n",
       "      <td>-73.9249</td>\n",
       "      <td>18713220</td>\n",
       "      <td>10715</td>\n",
       "      <td>polygon</td>\n",
       "      <td>False</td>\n",
       "      <td>True</td>\n",
       "      <td>America/New_York</td>\n",
       "      <td>1</td>\n",
       "      <td>11229 11226 11225 11224 11222 11221 11220 1138...</td>\n",
       "      <td>1840034016</td>\n",
       "    </tr>\n",
       "    <tr>\n",
       "      <th>1</th>\n",
       "      <td>Los Angeles</td>\n",
       "      <td>Los Angeles</td>\n",
       "      <td>CA</td>\n",
       "      <td>California</td>\n",
       "      <td>6037</td>\n",
       "      <td>Los Angeles</td>\n",
       "      <td>34.1139</td>\n",
       "      <td>-118.4068</td>\n",
       "      <td>12750807</td>\n",
       "      <td>3276</td>\n",
       "      <td>polygon</td>\n",
       "      <td>False</td>\n",
       "      <td>True</td>\n",
       "      <td>America/Los_Angeles</td>\n",
       "      <td>1</td>\n",
       "      <td>90291 90293 90292 91316 91311 90037 90031 9000...</td>\n",
       "      <td>1840020491</td>\n",
       "    </tr>\n",
       "    <tr>\n",
       "      <th>2</th>\n",
       "      <td>Chicago</td>\n",
       "      <td>Chicago</td>\n",
       "      <td>IL</td>\n",
       "      <td>Illinois</td>\n",
       "      <td>17031</td>\n",
       "      <td>Cook</td>\n",
       "      <td>41.8373</td>\n",
       "      <td>-87.6862</td>\n",
       "      <td>8604203</td>\n",
       "      <td>4574</td>\n",
       "      <td>polygon</td>\n",
       "      <td>False</td>\n",
       "      <td>True</td>\n",
       "      <td>America/Chicago</td>\n",
       "      <td>1</td>\n",
       "      <td>60018 60649 60641 60640 60643 60642 60645 6064...</td>\n",
       "      <td>1840000494</td>\n",
       "    </tr>\n",
       "    <tr>\n",
       "      <th>3</th>\n",
       "      <td>Miami</td>\n",
       "      <td>Miami</td>\n",
       "      <td>FL</td>\n",
       "      <td>Florida</td>\n",
       "      <td>12086</td>\n",
       "      <td>Miami-Dade</td>\n",
       "      <td>25.7839</td>\n",
       "      <td>-80.2102</td>\n",
       "      <td>6445545</td>\n",
       "      <td>5019</td>\n",
       "      <td>polygon</td>\n",
       "      <td>False</td>\n",
       "      <td>True</td>\n",
       "      <td>America/New_York</td>\n",
       "      <td>1</td>\n",
       "      <td>33129 33125 33126 33127 33128 33149 33144 3314...</td>\n",
       "      <td>1840015149</td>\n",
       "    </tr>\n",
       "    <tr>\n",
       "      <th>4</th>\n",
       "      <td>Dallas</td>\n",
       "      <td>Dallas</td>\n",
       "      <td>TX</td>\n",
       "      <td>Texas</td>\n",
       "      <td>48113</td>\n",
       "      <td>Dallas</td>\n",
       "      <td>32.7936</td>\n",
       "      <td>-96.7662</td>\n",
       "      <td>5743938</td>\n",
       "      <td>1526</td>\n",
       "      <td>polygon</td>\n",
       "      <td>False</td>\n",
       "      <td>True</td>\n",
       "      <td>America/Chicago</td>\n",
       "      <td>1</td>\n",
       "      <td>75287 75098 75233 75254 75251 75252 75253 7503...</td>\n",
       "      <td>1840019440</td>\n",
       "    </tr>\n",
       "  </tbody>\n",
       "</table>\n",
       "</div>"
      ],
      "text/plain": [
       "          city   city_ascii state_id  state_name  county_fips  county_name  \\\n",
       "0     New York     New York       NY    New York        36061     New York   \n",
       "1  Los Angeles  Los Angeles       CA  California         6037  Los Angeles   \n",
       "2      Chicago      Chicago       IL    Illinois        17031         Cook   \n",
       "3        Miami        Miami       FL     Florida        12086   Miami-Dade   \n",
       "4       Dallas       Dallas       TX       Texas        48113       Dallas   \n",
       "\n",
       "       lat       lng  population  density   source  military  incorporated  \\\n",
       "0  40.6943  -73.9249    18713220    10715  polygon     False          True   \n",
       "1  34.1139 -118.4068    12750807     3276  polygon     False          True   \n",
       "2  41.8373  -87.6862     8604203     4574  polygon     False          True   \n",
       "3  25.7839  -80.2102     6445545     5019  polygon     False          True   \n",
       "4  32.7936  -96.7662     5743938     1526  polygon     False          True   \n",
       "\n",
       "              timezone  ranking  \\\n",
       "0     America/New_York        1   \n",
       "1  America/Los_Angeles        1   \n",
       "2      America/Chicago        1   \n",
       "3     America/New_York        1   \n",
       "4      America/Chicago        1   \n",
       "\n",
       "                                                zips          id  \n",
       "0  11229 11226 11225 11224 11222 11221 11220 1138...  1840034016  \n",
       "1  90291 90293 90292 91316 91311 90037 90031 9000...  1840020491  \n",
       "2  60018 60649 60641 60640 60643 60642 60645 6064...  1840000494  \n",
       "3  33129 33125 33126 33127 33128 33149 33144 3314...  1840015149  \n",
       "4  75287 75098 75233 75254 75251 75252 75253 7503...  1840019440  "
      ]
     },
     "execution_count": 67,
     "metadata": {},
     "output_type": "execute_result"
    }
   ],
   "source": [
    "df_us_cities.head()"
   ]
  },
  {
   "cell_type": "code",
   "execution_count": 68,
   "metadata": {
    "colab": {
     "base_uri": "https://localhost:8080/"
    },
    "id": "mzdYrzx__6yt",
    "outputId": "ee083a78-4cb3-427b-944f-70e0adda00ab"
   },
   "outputs": [
    {
     "name": "stdout",
     "output_type": "stream",
     "text": [
      "<class 'pandas.core.frame.DataFrame'>\n",
      "RangeIndex: 1738 entries, 0 to 1737\n",
      "Data columns (total 12 columns):\n",
      " #   Column         Non-Null Count  Dtype  \n",
      "---  ------         --------------  -----  \n",
      " 0   city           1738 non-null   object \n",
      " 1   city_ascii     1738 non-null   object \n",
      " 2   province_id    1738 non-null   object \n",
      " 3   province_name  1738 non-null   object \n",
      " 4   lat            1738 non-null   float64\n",
      " 5   lng            1738 non-null   float64\n",
      " 6   population     1738 non-null   float64\n",
      " 7   density        1738 non-null   float64\n",
      " 8   timezone       1738 non-null   object \n",
      " 9   ranking        1738 non-null   int64  \n",
      " 10  postal         1738 non-null   object \n",
      " 11  id             1738 non-null   int64  \n",
      "dtypes: float64(4), int64(2), object(6)\n",
      "memory usage: 163.1+ KB\n"
     ]
    }
   ],
   "source": [
    "df_canada_cities.info()"
   ]
  },
  {
   "cell_type": "code",
   "execution_count": 69,
   "metadata": {
    "colab": {
     "base_uri": "https://localhost:8080/",
     "height": 206
    },
    "id": "335uomH5__iB",
    "outputId": "9453e1a3-5279-4d52-bdb2-04ecc55826e9"
   },
   "outputs": [
    {
     "data": {
      "text/html": [
       "<div>\n",
       "<style scoped>\n",
       "    .dataframe tbody tr th:only-of-type {\n",
       "        vertical-align: middle;\n",
       "    }\n",
       "\n",
       "    .dataframe tbody tr th {\n",
       "        vertical-align: top;\n",
       "    }\n",
       "\n",
       "    .dataframe thead th {\n",
       "        text-align: right;\n",
       "    }\n",
       "</style>\n",
       "<table border=\"1\" class=\"dataframe\">\n",
       "  <thead>\n",
       "    <tr style=\"text-align: right;\">\n",
       "      <th></th>\n",
       "      <th>city</th>\n",
       "      <th>city_ascii</th>\n",
       "      <th>province_id</th>\n",
       "      <th>province_name</th>\n",
       "      <th>lat</th>\n",
       "      <th>lng</th>\n",
       "      <th>population</th>\n",
       "      <th>density</th>\n",
       "      <th>timezone</th>\n",
       "      <th>ranking</th>\n",
       "      <th>postal</th>\n",
       "      <th>id</th>\n",
       "    </tr>\n",
       "  </thead>\n",
       "  <tbody>\n",
       "    <tr>\n",
       "      <th>0</th>\n",
       "      <td>Toronto</td>\n",
       "      <td>Toronto</td>\n",
       "      <td>ON</td>\n",
       "      <td>Ontario</td>\n",
       "      <td>43.7417</td>\n",
       "      <td>-79.3733</td>\n",
       "      <td>5429524.0</td>\n",
       "      <td>4334.4</td>\n",
       "      <td>America/Toronto</td>\n",
       "      <td>1</td>\n",
       "      <td>M5T M5V M5P M5S M5R M5E M5G M5A M5C M5B M5M M5...</td>\n",
       "      <td>1124279679</td>\n",
       "    </tr>\n",
       "    <tr>\n",
       "      <th>1</th>\n",
       "      <td>Montréal</td>\n",
       "      <td>Montreal</td>\n",
       "      <td>QC</td>\n",
       "      <td>Quebec</td>\n",
       "      <td>45.5089</td>\n",
       "      <td>-73.5617</td>\n",
       "      <td>3519595.0</td>\n",
       "      <td>3889.0</td>\n",
       "      <td>America/Montreal</td>\n",
       "      <td>1</td>\n",
       "      <td>H1X H1Y H1Z H1P H1R H1S H1T H1V H1W H1H H1J H1...</td>\n",
       "      <td>1124586170</td>\n",
       "    </tr>\n",
       "    <tr>\n",
       "      <th>2</th>\n",
       "      <td>Vancouver</td>\n",
       "      <td>Vancouver</td>\n",
       "      <td>BC</td>\n",
       "      <td>British Columbia</td>\n",
       "      <td>49.2500</td>\n",
       "      <td>-123.1000</td>\n",
       "      <td>2264823.0</td>\n",
       "      <td>5492.6</td>\n",
       "      <td>America/Vancouver</td>\n",
       "      <td>1</td>\n",
       "      <td>V6Z V6S V6R V6P V6N V6M V6L V6K V6J V6H V6G V6...</td>\n",
       "      <td>1124825478</td>\n",
       "    </tr>\n",
       "    <tr>\n",
       "      <th>3</th>\n",
       "      <td>Calgary</td>\n",
       "      <td>Calgary</td>\n",
       "      <td>AB</td>\n",
       "      <td>Alberta</td>\n",
       "      <td>51.0500</td>\n",
       "      <td>-114.0667</td>\n",
       "      <td>1239220.0</td>\n",
       "      <td>1501.1</td>\n",
       "      <td>America/Edmonton</td>\n",
       "      <td>1</td>\n",
       "      <td>T1Y T2H T2K T2J T2L T2N T2A T2C T2B T2E T2G T2...</td>\n",
       "      <td>1124690423</td>\n",
       "    </tr>\n",
       "    <tr>\n",
       "      <th>4</th>\n",
       "      <td>Edmonton</td>\n",
       "      <td>Edmonton</td>\n",
       "      <td>AB</td>\n",
       "      <td>Alberta</td>\n",
       "      <td>53.5344</td>\n",
       "      <td>-113.4903</td>\n",
       "      <td>1062643.0</td>\n",
       "      <td>1360.9</td>\n",
       "      <td>America/Edmonton</td>\n",
       "      <td>1</td>\n",
       "      <td>T5X T5Y T5Z T5P T5R T5S T5T T5V T5W T5H T5J T5...</td>\n",
       "      <td>1124290735</td>\n",
       "    </tr>\n",
       "  </tbody>\n",
       "</table>\n",
       "</div>"
      ],
      "text/plain": [
       "        city city_ascii province_id     province_name      lat       lng  \\\n",
       "0    Toronto    Toronto          ON           Ontario  43.7417  -79.3733   \n",
       "1   Montréal   Montreal          QC            Quebec  45.5089  -73.5617   \n",
       "2  Vancouver  Vancouver          BC  British Columbia  49.2500 -123.1000   \n",
       "3    Calgary    Calgary          AB           Alberta  51.0500 -114.0667   \n",
       "4   Edmonton   Edmonton          AB           Alberta  53.5344 -113.4903   \n",
       "\n",
       "   population  density           timezone  ranking  \\\n",
       "0   5429524.0   4334.4    America/Toronto        1   \n",
       "1   3519595.0   3889.0   America/Montreal        1   \n",
       "2   2264823.0   5492.6  America/Vancouver        1   \n",
       "3   1239220.0   1501.1   America/Edmonton        1   \n",
       "4   1062643.0   1360.9   America/Edmonton        1   \n",
       "\n",
       "                                              postal          id  \n",
       "0  M5T M5V M5P M5S M5R M5E M5G M5A M5C M5B M5M M5...  1124279679  \n",
       "1  H1X H1Y H1Z H1P H1R H1S H1T H1V H1W H1H H1J H1...  1124586170  \n",
       "2  V6Z V6S V6R V6P V6N V6M V6L V6K V6J V6H V6G V6...  1124825478  \n",
       "3  T1Y T2H T2K T2J T2L T2N T2A T2C T2B T2E T2G T2...  1124690423  \n",
       "4  T5X T5Y T5Z T5P T5R T5S T5T T5V T5W T5H T5J T5...  1124290735  "
      ]
     },
     "execution_count": 69,
     "metadata": {},
     "output_type": "execute_result"
    }
   ],
   "source": [
    "df_canada_cities.head()"
   ]
  },
  {
   "cell_type": "code",
   "execution_count": 70,
   "metadata": {
    "id": "cm41rR258mLK"
   },
   "outputs": [],
   "source": [
    "# we can combine the two, however, we should rename the columns for the province and state so they are the same. since there are more us, we will just call them state id, this will also match the ufo dataset\n",
    "df_canada_cities.rename(columns={\"province_id\":\"state_id\",\"province_name\":\"state_name\"}, inplace=True)"
   ]
  },
  {
   "cell_type": "code",
   "execution_count": 71,
   "metadata": {
    "colab": {
     "base_uri": "https://localhost:8080/"
    },
    "id": "qwRZLvUTABcC",
    "outputId": "db17d248-2886-45ff-c241-9f9209f7af8b"
   },
   "outputs": [
    {
     "name": "stdout",
     "output_type": "stream",
     "text": [
      "<class 'pandas.core.frame.DataFrame'>\n",
      "Int64Index: 30076 entries, 0 to 1737\n",
      "Data columns (total 11 columns):\n",
      " #   Column      Non-Null Count  Dtype  \n",
      "---  ------      --------------  -----  \n",
      " 0   city        30076 non-null  object \n",
      " 1   city_ascii  30076 non-null  object \n",
      " 2   state_id    30076 non-null  object \n",
      " 3   state_name  30076 non-null  object \n",
      " 4   lat         30076 non-null  float64\n",
      " 5   lng         30076 non-null  float64\n",
      " 6   population  30076 non-null  float64\n",
      " 7   density     30076 non-null  float64\n",
      " 8   timezone    30076 non-null  object \n",
      " 9   ranking     30076 non-null  int64  \n",
      " 10  id          30076 non-null  int64  \n",
      "dtypes: float64(4), int64(2), object(5)\n",
      "memory usage: 2.8+ MB\n"
     ]
    }
   ],
   "source": [
    "# okay, now we have some supporting data, we would now have to create a function to help us fill what is missing\n",
    "df_cities = pd.concat([df_us_cities,df_canada_cities], join='inner')\n",
    "df_cities.info()"
   ]
  },
  {
   "cell_type": "code",
   "execution_count": 72,
   "metadata": {
    "colab": {
     "base_uri": "https://localhost:8080/"
    },
    "id": "wMZGoL7D8gbE",
    "outputId": "2f4b3962-c921-4b5d-a379-55bcb9e2fc07"
   },
   "outputs": [
    {
     "name": "stdout",
     "output_type": "stream",
     "text": [
      "<class 'pandas.core.frame.DataFrame'>\n",
      "Int64Index: 88098 entries, 0 to 88123\n",
      "Data columns (total 16 columns):\n",
      " #   Column            Non-Null Count  Dtype  \n",
      "---  ------            --------------  -----  \n",
      " 0   Text_ID           86714 non-null  float64\n",
      " 1   city              86483 non-null  object \n",
      " 2   state             81577 non-null  object \n",
      " 3   date_time         85560 non-null  object \n",
      " 4   shape             84276 non-null  object \n",
      " 5   stats             86714 non-null  object \n",
      " 6   report_link       86714 non-null  object \n",
      " 7   text              86714 non-null  object \n",
      " 8   posted            85560 non-null  object \n",
      " 9   city_latitude     70907 non-null  float64\n",
      " 10  city_longitude    70907 non-null  float64\n",
      " 11  Duration          86714 non-null  object \n",
      " 12  summary_notes     86714 non-null  object \n",
      " 13  text_notes        86714 non-null  object \n",
      " 14  stats_duplicated  86714 non-null  object \n",
      " 15  Reported_stats    88098 non-null  object \n",
      "dtypes: float64(3), object(13)\n",
      "memory usage: 13.4+ MB\n"
     ]
    }
   ],
   "source": [
    "# okay, so we have data that we can use. now we need to essentially map the data so that all the data in our original df is correct and not missing\n",
    "df.info()"
   ]
  },
  {
   "cell_type": "code",
   "execution_count": 73,
   "metadata": {
    "id": "5_3azjG-UOBV"
   },
   "outputs": [],
   "source": [
    "#def impute_geographic(city, state, long, lat, reference_table):\n",
    "#  if city is None:\n",
    "    \n"
   ]
  },
  {
   "cell_type": "code",
   "execution_count": 74,
   "metadata": {
    "colab": {
     "base_uri": "https://localhost:8080/"
    },
    "id": "nmSOf6HyU7i5",
    "outputId": "879b882b-6e69-4d95-9bfc-b9c0f7316965"
   },
   "outputs": [
    {
     "data": {
      "text/plain": [
       "45.5333    13\n",
       "45.4500    11\n",
       "45.4833    10\n",
       "45.0833    10\n",
       "45.8500     9\n",
       "           ..\n",
       "41.8753     1\n",
       "39.8772     1\n",
       "41.5102     1\n",
       "34.8389     1\n",
       "51.3522     1\n",
       "Name: lat, Length: 27299, dtype: int64"
      ]
     },
     "execution_count": 74,
     "metadata": {},
     "output_type": "execute_result"
    }
   ],
   "source": [
    "df_cities['lat'].value_counts()"
   ]
  },
  {
   "cell_type": "code",
   "execution_count": 75,
   "metadata": {
    "colab": {
     "base_uri": "https://localhost:8080/",
     "height": 206
    },
    "id": "_56Kib-9V1UH",
    "outputId": "170e57ff-4c8e-454b-81fd-d12dd5843bde"
   },
   "outputs": [
    {
     "data": {
      "text/html": [
       "<div>\n",
       "<style scoped>\n",
       "    .dataframe tbody tr th:only-of-type {\n",
       "        vertical-align: middle;\n",
       "    }\n",
       "\n",
       "    .dataframe tbody tr th {\n",
       "        vertical-align: top;\n",
       "    }\n",
       "\n",
       "    .dataframe thead th {\n",
       "        text-align: right;\n",
       "    }\n",
       "</style>\n",
       "<table border=\"1\" class=\"dataframe\">\n",
       "  <thead>\n",
       "    <tr style=\"text-align: right;\">\n",
       "      <th></th>\n",
       "      <th>city</th>\n",
       "      <th>city_ascii</th>\n",
       "      <th>state_id</th>\n",
       "      <th>state_name</th>\n",
       "      <th>lat</th>\n",
       "      <th>lng</th>\n",
       "      <th>population</th>\n",
       "      <th>density</th>\n",
       "      <th>timezone</th>\n",
       "      <th>ranking</th>\n",
       "      <th>id</th>\n",
       "      <th>coord</th>\n",
       "    </tr>\n",
       "  </thead>\n",
       "  <tbody>\n",
       "    <tr>\n",
       "      <th>0</th>\n",
       "      <td>New York</td>\n",
       "      <td>New York</td>\n",
       "      <td>NY</td>\n",
       "      <td>New York</td>\n",
       "      <td>40.6943</td>\n",
       "      <td>-73.9249</td>\n",
       "      <td>18713220.0</td>\n",
       "      <td>10715.0</td>\n",
       "      <td>America/New_York</td>\n",
       "      <td>1</td>\n",
       "      <td>1840034016</td>\n",
       "      <td>(40.6943, -73.9249)</td>\n",
       "    </tr>\n",
       "    <tr>\n",
       "      <th>1</th>\n",
       "      <td>Los Angeles</td>\n",
       "      <td>Los Angeles</td>\n",
       "      <td>CA</td>\n",
       "      <td>California</td>\n",
       "      <td>34.1139</td>\n",
       "      <td>-118.4068</td>\n",
       "      <td>12750807.0</td>\n",
       "      <td>3276.0</td>\n",
       "      <td>America/Los_Angeles</td>\n",
       "      <td>1</td>\n",
       "      <td>1840020491</td>\n",
       "      <td>(34.1139, -118.4068)</td>\n",
       "    </tr>\n",
       "    <tr>\n",
       "      <th>2</th>\n",
       "      <td>Chicago</td>\n",
       "      <td>Chicago</td>\n",
       "      <td>IL</td>\n",
       "      <td>Illinois</td>\n",
       "      <td>41.8373</td>\n",
       "      <td>-87.6862</td>\n",
       "      <td>8604203.0</td>\n",
       "      <td>4574.0</td>\n",
       "      <td>America/Chicago</td>\n",
       "      <td>1</td>\n",
       "      <td>1840000494</td>\n",
       "      <td>(41.8373, -87.6862)</td>\n",
       "    </tr>\n",
       "    <tr>\n",
       "      <th>3</th>\n",
       "      <td>Miami</td>\n",
       "      <td>Miami</td>\n",
       "      <td>FL</td>\n",
       "      <td>Florida</td>\n",
       "      <td>25.7839</td>\n",
       "      <td>-80.2102</td>\n",
       "      <td>6445545.0</td>\n",
       "      <td>5019.0</td>\n",
       "      <td>America/New_York</td>\n",
       "      <td>1</td>\n",
       "      <td>1840015149</td>\n",
       "      <td>(25.7839, -80.2102)</td>\n",
       "    </tr>\n",
       "    <tr>\n",
       "      <th>4</th>\n",
       "      <td>Dallas</td>\n",
       "      <td>Dallas</td>\n",
       "      <td>TX</td>\n",
       "      <td>Texas</td>\n",
       "      <td>32.7936</td>\n",
       "      <td>-96.7662</td>\n",
       "      <td>5743938.0</td>\n",
       "      <td>1526.0</td>\n",
       "      <td>America/Chicago</td>\n",
       "      <td>1</td>\n",
       "      <td>1840019440</td>\n",
       "      <td>(32.7936, -96.7662)</td>\n",
       "    </tr>\n",
       "  </tbody>\n",
       "</table>\n",
       "</div>"
      ],
      "text/plain": [
       "          city   city_ascii state_id  state_name      lat       lng  \\\n",
       "0     New York     New York       NY    New York  40.6943  -73.9249   \n",
       "1  Los Angeles  Los Angeles       CA  California  34.1139 -118.4068   \n",
       "2      Chicago      Chicago       IL    Illinois  41.8373  -87.6862   \n",
       "3        Miami        Miami       FL     Florida  25.7839  -80.2102   \n",
       "4       Dallas       Dallas       TX       Texas  32.7936  -96.7662   \n",
       "\n",
       "   population  density             timezone  ranking          id  \\\n",
       "0  18713220.0  10715.0     America/New_York        1  1840034016   \n",
       "1  12750807.0   3276.0  America/Los_Angeles        1  1840020491   \n",
       "2   8604203.0   4574.0      America/Chicago        1  1840000494   \n",
       "3   6445545.0   5019.0     America/New_York        1  1840015149   \n",
       "4   5743938.0   1526.0      America/Chicago        1  1840019440   \n",
       "\n",
       "                  coord  \n",
       "0   (40.6943, -73.9249)  \n",
       "1  (34.1139, -118.4068)  \n",
       "2   (41.8373, -87.6862)  \n",
       "3   (25.7839, -80.2102)  \n",
       "4   (32.7936, -96.7662)  "
      ]
     },
     "execution_count": 75,
     "metadata": {},
     "output_type": "execute_result"
    }
   ],
   "source": [
    "def create_coord(arg1, arg2):\n",
    "  x = (arg1, arg2)\n",
    "  return x\n",
    "\n",
    "df_cities['coord'] = df_cities.apply(lambda row: create_coord(row['lat'], row['lng']), axis=1)\n",
    "df_cities.head()"
   ]
  },
  {
   "cell_type": "code",
   "execution_count": 76,
   "metadata": {
    "id": "bgQvDw-iXEJb"
   },
   "outputs": [],
   "source": [
    "df_cities['duplicate_coord'] = df_cities['coord'].duplicated(keep=False)"
   ]
  },
  {
   "cell_type": "code",
   "execution_count": 77,
   "metadata": {
    "colab": {
     "base_uri": "https://localhost:8080/",
     "height": 300
    },
    "id": "MCwiaM7HciJA",
    "outputId": "4e5ecb4c-7a99-4fae-eadd-72f26939afed"
   },
   "outputs": [
    {
     "data": {
      "text/html": [
       "<div>\n",
       "<style scoped>\n",
       "    .dataframe tbody tr th:only-of-type {\n",
       "        vertical-align: middle;\n",
       "    }\n",
       "\n",
       "    .dataframe tbody tr th {\n",
       "        vertical-align: top;\n",
       "    }\n",
       "\n",
       "    .dataframe thead th {\n",
       "        text-align: right;\n",
       "    }\n",
       "</style>\n",
       "<table border=\"1\" class=\"dataframe\">\n",
       "  <thead>\n",
       "    <tr style=\"text-align: right;\">\n",
       "      <th></th>\n",
       "      <th>city</th>\n",
       "      <th>city_ascii</th>\n",
       "      <th>state_id</th>\n",
       "      <th>state_name</th>\n",
       "      <th>lat</th>\n",
       "      <th>lng</th>\n",
       "      <th>population</th>\n",
       "      <th>density</th>\n",
       "      <th>timezone</th>\n",
       "      <th>ranking</th>\n",
       "      <th>id</th>\n",
       "      <th>coord</th>\n",
       "      <th>duplicate_coord</th>\n",
       "    </tr>\n",
       "  </thead>\n",
       "  <tbody>\n",
       "    <tr>\n",
       "      <th>99</th>\n",
       "      <td>Beloeil</td>\n",
       "      <td>Beloeil</td>\n",
       "      <td>QC</td>\n",
       "      <td>Quebec</td>\n",
       "      <td>45.5667</td>\n",
       "      <td>-73.2000</td>\n",
       "      <td>50796.0</td>\n",
       "      <td>862.8</td>\n",
       "      <td>America/Montreal</td>\n",
       "      <td>3</td>\n",
       "      <td>1124469084</td>\n",
       "      <td>(45.5667, -73.2)</td>\n",
       "      <td>True</td>\n",
       "    </tr>\n",
       "    <tr>\n",
       "      <th>125</th>\n",
       "      <td>Vaudreuil-Dorion</td>\n",
       "      <td>Vaudreuil-Dorion</td>\n",
       "      <td>QC</td>\n",
       "      <td>Quebec</td>\n",
       "      <td>45.4000</td>\n",
       "      <td>-74.0333</td>\n",
       "      <td>38117.0</td>\n",
       "      <td>524.1</td>\n",
       "      <td>America/Montreal</td>\n",
       "      <td>3</td>\n",
       "      <td>1124618618</td>\n",
       "      <td>(45.4, -74.0333)</td>\n",
       "      <td>True</td>\n",
       "    </tr>\n",
       "    <tr>\n",
       "      <th>760</th>\n",
       "      <td>De Salaberry</td>\n",
       "      <td>De Salaberry</td>\n",
       "      <td>MB</td>\n",
       "      <td>Manitoba</td>\n",
       "      <td>49.4403</td>\n",
       "      <td>-96.9844</td>\n",
       "      <td>3580.0</td>\n",
       "      <td>5.3</td>\n",
       "      <td>America/Winnipeg</td>\n",
       "      <td>3</td>\n",
       "      <td>1124001664</td>\n",
       "      <td>(49.4403, -96.9844)</td>\n",
       "      <td>True</td>\n",
       "    </tr>\n",
       "    <tr>\n",
       "      <th>864</th>\n",
       "      <td>Sainte-Marie-Madeleine</td>\n",
       "      <td>Sainte-Marie-Madeleine</td>\n",
       "      <td>QC</td>\n",
       "      <td>Quebec</td>\n",
       "      <td>45.6000</td>\n",
       "      <td>-73.1000</td>\n",
       "      <td>2935.0</td>\n",
       "      <td>57.7</td>\n",
       "      <td>America/Montreal</td>\n",
       "      <td>4</td>\n",
       "      <td>1124000666</td>\n",
       "      <td>(45.6, -73.1)</td>\n",
       "      <td>True</td>\n",
       "    </tr>\n",
       "    <tr>\n",
       "      <th>934</th>\n",
       "      <td>Saint-Mathieu-de-Beloeil</td>\n",
       "      <td>Saint-Mathieu-de-Beloeil</td>\n",
       "      <td>QC</td>\n",
       "      <td>Quebec</td>\n",
       "      <td>45.5667</td>\n",
       "      <td>-73.2000</td>\n",
       "      <td>2624.0</td>\n",
       "      <td>65.8</td>\n",
       "      <td>America/Montreal</td>\n",
       "      <td>3</td>\n",
       "      <td>1124000340</td>\n",
       "      <td>(45.5667, -73.2)</td>\n",
       "      <td>True</td>\n",
       "    </tr>\n",
       "    <tr>\n",
       "      <th>1003</th>\n",
       "      <td>Sainte-Madeleine</td>\n",
       "      <td>Sainte-Madeleine</td>\n",
       "      <td>QC</td>\n",
       "      <td>Quebec</td>\n",
       "      <td>45.6000</td>\n",
       "      <td>-73.1000</td>\n",
       "      <td>2356.0</td>\n",
       "      <td>439.8</td>\n",
       "      <td>America/Montreal</td>\n",
       "      <td>3</td>\n",
       "      <td>1124000679</td>\n",
       "      <td>(45.6, -73.1)</td>\n",
       "      <td>True</td>\n",
       "    </tr>\n",
       "    <tr>\n",
       "      <th>1450</th>\n",
       "      <td>Vaudreuil-sur-le-Lac</td>\n",
       "      <td>Vaudreuil-sur-le-Lac</td>\n",
       "      <td>QC</td>\n",
       "      <td>Quebec</td>\n",
       "      <td>45.4000</td>\n",
       "      <td>-74.0333</td>\n",
       "      <td>1359.0</td>\n",
       "      <td>989.2</td>\n",
       "      <td>America/Montreal</td>\n",
       "      <td>3</td>\n",
       "      <td>1124001806</td>\n",
       "      <td>(45.4, -74.0333)</td>\n",
       "      <td>True</td>\n",
       "    </tr>\n",
       "    <tr>\n",
       "      <th>1581</th>\n",
       "      <td>St-Pierre-Jolys</td>\n",
       "      <td>St-Pierre-Jolys</td>\n",
       "      <td>MB</td>\n",
       "      <td>Manitoba</td>\n",
       "      <td>49.4403</td>\n",
       "      <td>-96.9844</td>\n",
       "      <td>1170.0</td>\n",
       "      <td>440.5</td>\n",
       "      <td>America/Winnipeg</td>\n",
       "      <td>3</td>\n",
       "      <td>1124001013</td>\n",
       "      <td>(49.4403, -96.9844)</td>\n",
       "      <td>True</td>\n",
       "    </tr>\n",
       "  </tbody>\n",
       "</table>\n",
       "</div>"
      ],
      "text/plain": [
       "                          city                city_ascii state_id state_name  \\\n",
       "99                     Beloeil                   Beloeil       QC     Quebec   \n",
       "125           Vaudreuil-Dorion          Vaudreuil-Dorion       QC     Quebec   \n",
       "760               De Salaberry              De Salaberry       MB   Manitoba   \n",
       "864     Sainte-Marie-Madeleine    Sainte-Marie-Madeleine       QC     Quebec   \n",
       "934   Saint-Mathieu-de-Beloeil  Saint-Mathieu-de-Beloeil       QC     Quebec   \n",
       "1003          Sainte-Madeleine          Sainte-Madeleine       QC     Quebec   \n",
       "1450      Vaudreuil-sur-le-Lac      Vaudreuil-sur-le-Lac       QC     Quebec   \n",
       "1581           St-Pierre-Jolys           St-Pierre-Jolys       MB   Manitoba   \n",
       "\n",
       "          lat      lng  population  density          timezone  ranking  \\\n",
       "99    45.5667 -73.2000     50796.0    862.8  America/Montreal        3   \n",
       "125   45.4000 -74.0333     38117.0    524.1  America/Montreal        3   \n",
       "760   49.4403 -96.9844      3580.0      5.3  America/Winnipeg        3   \n",
       "864   45.6000 -73.1000      2935.0     57.7  America/Montreal        4   \n",
       "934   45.5667 -73.2000      2624.0     65.8  America/Montreal        3   \n",
       "1003  45.6000 -73.1000      2356.0    439.8  America/Montreal        3   \n",
       "1450  45.4000 -74.0333      1359.0    989.2  America/Montreal        3   \n",
       "1581  49.4403 -96.9844      1170.0    440.5  America/Winnipeg        3   \n",
       "\n",
       "              id                coord  duplicate_coord  \n",
       "99    1124469084     (45.5667, -73.2)             True  \n",
       "125   1124618618     (45.4, -74.0333)             True  \n",
       "760   1124001664  (49.4403, -96.9844)             True  \n",
       "864   1124000666        (45.6, -73.1)             True  \n",
       "934   1124000340     (45.5667, -73.2)             True  \n",
       "1003  1124000679        (45.6, -73.1)             True  \n",
       "1450  1124001806     (45.4, -74.0333)             True  \n",
       "1581  1124001013  (49.4403, -96.9844)             True  "
      ]
     },
     "execution_count": 77,
     "metadata": {},
     "output_type": "execute_result"
    }
   ],
   "source": [
    "df_cities[df_cities['duplicate_coord'] == True]"
   ]
  },
  {
   "cell_type": "code",
   "execution_count": 78,
   "metadata": {
    "id": "VWE8Tp_ceW1B"
   },
   "outputs": [],
   "source": [
    "# okay we can see some duplicated values, thankfully there aren't that many\n",
    "# having duplicated lat, lng would suggest that they are effectively the same\n",
    "# manually querying them in google maps, we can see that in our dataframe,\n",
    "# the first instance of each duplicate essentially encompasses the second instance\n",
    "# as some of of these are essentially municipalities. \n",
    "# saint-mathieu-de-beloeil is in/next to beloeil, st pierre jolys is in de salaberry,\n",
    "# vaudreuil-sur-le-lac is in vaudreuil-dorion, and sainte-marie-madeleine and saint-madeleine seem to be same on the map\n",
    "# that means for our purposes we can remove the duplicates giving us a each city haivng a unique lat lng pairing\n",
    "# that means, that even with a duplicate city name, we should be able to determine the instance\n",
    "# assuming that there are no duplicates with the same city name, state name in our df"
   ]
  },
  {
   "cell_type": "code",
   "execution_count": 79,
   "metadata": {
    "colab": {
     "base_uri": "https://localhost:8080/",
     "height": 175
    },
    "id": "3UtyGi3DfoX6",
    "outputId": "6e626929-25d8-4e07-d4ce-e0db5bd971ce"
   },
   "outputs": [
    {
     "data": {
      "text/html": [
       "<div>\n",
       "<style scoped>\n",
       "    .dataframe tbody tr th:only-of-type {\n",
       "        vertical-align: middle;\n",
       "    }\n",
       "\n",
       "    .dataframe tbody tr th {\n",
       "        vertical-align: top;\n",
       "    }\n",
       "\n",
       "    .dataframe thead th {\n",
       "        text-align: right;\n",
       "    }\n",
       "</style>\n",
       "<table border=\"1\" class=\"dataframe\">\n",
       "  <thead>\n",
       "    <tr style=\"text-align: right;\">\n",
       "      <th></th>\n",
       "      <th>city</th>\n",
       "      <th>city_ascii</th>\n",
       "      <th>state_id</th>\n",
       "      <th>state_name</th>\n",
       "      <th>lat</th>\n",
       "      <th>lng</th>\n",
       "      <th>population</th>\n",
       "      <th>density</th>\n",
       "      <th>timezone</th>\n",
       "      <th>ranking</th>\n",
       "      <th>id</th>\n",
       "      <th>coord</th>\n",
       "      <th>duplicate_coord</th>\n",
       "    </tr>\n",
       "  </thead>\n",
       "  <tbody>\n",
       "    <tr>\n",
       "      <th>934</th>\n",
       "      <td>Saint-Mathieu-de-Beloeil</td>\n",
       "      <td>Saint-Mathieu-de-Beloeil</td>\n",
       "      <td>QC</td>\n",
       "      <td>Quebec</td>\n",
       "      <td>45.5667</td>\n",
       "      <td>-73.2000</td>\n",
       "      <td>2624.0</td>\n",
       "      <td>65.8</td>\n",
       "      <td>America/Montreal</td>\n",
       "      <td>3</td>\n",
       "      <td>1124000340</td>\n",
       "      <td>(45.5667, -73.2)</td>\n",
       "      <td>True</td>\n",
       "    </tr>\n",
       "    <tr>\n",
       "      <th>1003</th>\n",
       "      <td>Sainte-Madeleine</td>\n",
       "      <td>Sainte-Madeleine</td>\n",
       "      <td>QC</td>\n",
       "      <td>Quebec</td>\n",
       "      <td>45.6000</td>\n",
       "      <td>-73.1000</td>\n",
       "      <td>2356.0</td>\n",
       "      <td>439.8</td>\n",
       "      <td>America/Montreal</td>\n",
       "      <td>3</td>\n",
       "      <td>1124000679</td>\n",
       "      <td>(45.6, -73.1)</td>\n",
       "      <td>True</td>\n",
       "    </tr>\n",
       "    <tr>\n",
       "      <th>1450</th>\n",
       "      <td>Vaudreuil-sur-le-Lac</td>\n",
       "      <td>Vaudreuil-sur-le-Lac</td>\n",
       "      <td>QC</td>\n",
       "      <td>Quebec</td>\n",
       "      <td>45.4000</td>\n",
       "      <td>-74.0333</td>\n",
       "      <td>1359.0</td>\n",
       "      <td>989.2</td>\n",
       "      <td>America/Montreal</td>\n",
       "      <td>3</td>\n",
       "      <td>1124001806</td>\n",
       "      <td>(45.4, -74.0333)</td>\n",
       "      <td>True</td>\n",
       "    </tr>\n",
       "    <tr>\n",
       "      <th>1581</th>\n",
       "      <td>St-Pierre-Jolys</td>\n",
       "      <td>St-Pierre-Jolys</td>\n",
       "      <td>MB</td>\n",
       "      <td>Manitoba</td>\n",
       "      <td>49.4403</td>\n",
       "      <td>-96.9844</td>\n",
       "      <td>1170.0</td>\n",
       "      <td>440.5</td>\n",
       "      <td>America/Winnipeg</td>\n",
       "      <td>3</td>\n",
       "      <td>1124001013</td>\n",
       "      <td>(49.4403, -96.9844)</td>\n",
       "      <td>True</td>\n",
       "    </tr>\n",
       "  </tbody>\n",
       "</table>\n",
       "</div>"
      ],
      "text/plain": [
       "                          city                city_ascii state_id state_name  \\\n",
       "934   Saint-Mathieu-de-Beloeil  Saint-Mathieu-de-Beloeil       QC     Quebec   \n",
       "1003          Sainte-Madeleine          Sainte-Madeleine       QC     Quebec   \n",
       "1450      Vaudreuil-sur-le-Lac      Vaudreuil-sur-le-Lac       QC     Quebec   \n",
       "1581           St-Pierre-Jolys           St-Pierre-Jolys       MB   Manitoba   \n",
       "\n",
       "          lat      lng  population  density          timezone  ranking  \\\n",
       "934   45.5667 -73.2000      2624.0     65.8  America/Montreal        3   \n",
       "1003  45.6000 -73.1000      2356.0    439.8  America/Montreal        3   \n",
       "1450  45.4000 -74.0333      1359.0    989.2  America/Montreal        3   \n",
       "1581  49.4403 -96.9844      1170.0    440.5  America/Winnipeg        3   \n",
       "\n",
       "              id                coord  duplicate_coord  \n",
       "934   1124000340     (45.5667, -73.2)             True  \n",
       "1003  1124000679        (45.6, -73.1)             True  \n",
       "1450  1124001806     (45.4, -74.0333)             True  \n",
       "1581  1124001013  (49.4403, -96.9844)             True  "
      ]
     },
     "execution_count": 79,
     "metadata": {},
     "output_type": "execute_result"
    }
   ],
   "source": [
    "df_cities['duplicate_coord'] = df_cities['coord'].duplicated(keep='first')\n",
    "df_cities[df_cities['duplicate_coord'] == True]"
   ]
  },
  {
   "cell_type": "code",
   "execution_count": 80,
   "metadata": {
    "colab": {
     "base_uri": "https://localhost:8080/",
     "height": 49
    },
    "id": "Ewpd31x8f5GP",
    "outputId": "8e4e3c5c-e7b0-4977-f74d-203926485894"
   },
   "outputs": [
    {
     "data": {
      "text/html": [
       "<div>\n",
       "<style scoped>\n",
       "    .dataframe tbody tr th:only-of-type {\n",
       "        vertical-align: middle;\n",
       "    }\n",
       "\n",
       "    .dataframe tbody tr th {\n",
       "        vertical-align: top;\n",
       "    }\n",
       "\n",
       "    .dataframe thead th {\n",
       "        text-align: right;\n",
       "    }\n",
       "</style>\n",
       "<table border=\"1\" class=\"dataframe\">\n",
       "  <thead>\n",
       "    <tr style=\"text-align: right;\">\n",
       "      <th></th>\n",
       "      <th>city</th>\n",
       "      <th>city_ascii</th>\n",
       "      <th>state_id</th>\n",
       "      <th>state_name</th>\n",
       "      <th>lat</th>\n",
       "      <th>lng</th>\n",
       "      <th>population</th>\n",
       "      <th>density</th>\n",
       "      <th>timezone</th>\n",
       "      <th>ranking</th>\n",
       "      <th>id</th>\n",
       "      <th>coord</th>\n",
       "      <th>duplicate_coord</th>\n",
       "    </tr>\n",
       "  </thead>\n",
       "  <tbody>\n",
       "  </tbody>\n",
       "</table>\n",
       "</div>"
      ],
      "text/plain": [
       "Empty DataFrame\n",
       "Columns: [city, city_ascii, state_id, state_name, lat, lng, population, density, timezone, ranking, id, coord, duplicate_coord]\n",
       "Index: []"
      ]
     },
     "execution_count": 80,
     "metadata": {},
     "output_type": "execute_result"
    }
   ],
   "source": [
    "# so the ones marked true are the instances we want to drop\n",
    "df_cities.drop([934,1003,1450,1581], inplace=True)\n",
    "df_cities[df_cities['duplicate_coord'] == True]"
   ]
  },
  {
   "cell_type": "code",
   "execution_count": 81,
   "metadata": {
    "id": "L9-uOfGCgSwj"
   },
   "outputs": [],
   "source": [
    "# our drop of observations worked, let's delete the column since we no longer need it\n",
    "df_cities.drop(columns=['duplicate_coord'], inplace=True)"
   ]
  },
  {
   "cell_type": "code",
   "execution_count": 82,
   "metadata": {
    "colab": {
     "base_uri": "https://localhost:8080/",
     "height": 990
    },
    "id": "B_APoHIzg-pm",
    "outputId": "b2c19ca5-42ab-4378-b825-0399be801f85"
   },
   "outputs": [
    {
     "data": {
      "text/html": [
       "<div>\n",
       "<style scoped>\n",
       "    .dataframe tbody tr th:only-of-type {\n",
       "        vertical-align: middle;\n",
       "    }\n",
       "\n",
       "    .dataframe tbody tr th {\n",
       "        vertical-align: top;\n",
       "    }\n",
       "\n",
       "    .dataframe thead th {\n",
       "        text-align: right;\n",
       "    }\n",
       "</style>\n",
       "<table border=\"1\" class=\"dataframe\">\n",
       "  <thead>\n",
       "    <tr style=\"text-align: right;\">\n",
       "      <th></th>\n",
       "      <th>city</th>\n",
       "      <th>city_ascii</th>\n",
       "      <th>state_id</th>\n",
       "      <th>state_name</th>\n",
       "      <th>lat</th>\n",
       "      <th>lng</th>\n",
       "      <th>population</th>\n",
       "      <th>density</th>\n",
       "      <th>timezone</th>\n",
       "      <th>ranking</th>\n",
       "      <th>id</th>\n",
       "      <th>coord</th>\n",
       "      <th>city_state</th>\n",
       "      <th>duplicate_city_state</th>\n",
       "    </tr>\n",
       "  </thead>\n",
       "  <tbody>\n",
       "    <tr>\n",
       "      <th>2652</th>\n",
       "      <td>Midway</td>\n",
       "      <td>Midway</td>\n",
       "      <td>FL</td>\n",
       "      <td>Florida</td>\n",
       "      <td>30.4138</td>\n",
       "      <td>-87.0261</td>\n",
       "      <td>17760.0</td>\n",
       "      <td>571.0</td>\n",
       "      <td>America/Chicago</td>\n",
       "      <td>3</td>\n",
       "      <td>1840143881</td>\n",
       "      <td>(30.4138, -87.0261)</td>\n",
       "      <td>(Midway, FL)</td>\n",
       "      <td>True</td>\n",
       "    </tr>\n",
       "    <tr>\n",
       "      <th>3871</th>\n",
       "      <td>Woodbury</td>\n",
       "      <td>Woodbury</td>\n",
       "      <td>NY</td>\n",
       "      <td>New York</td>\n",
       "      <td>41.3284</td>\n",
       "      <td>-74.1004</td>\n",
       "      <td>11089.0</td>\n",
       "      <td>120.0</td>\n",
       "      <td>America/New_York</td>\n",
       "      <td>3</td>\n",
       "      <td>1840004883</td>\n",
       "      <td>(41.3284, -74.1004)</td>\n",
       "      <td>(Woodbury, NY)</td>\n",
       "      <td>True</td>\n",
       "    </tr>\n",
       "    <tr>\n",
       "      <th>4290</th>\n",
       "      <td>Middletown</td>\n",
       "      <td>Middletown</td>\n",
       "      <td>PA</td>\n",
       "      <td>Pennsylvania</td>\n",
       "      <td>40.2010</td>\n",
       "      <td>-76.7289</td>\n",
       "      <td>9594.0</td>\n",
       "      <td>1824.0</td>\n",
       "      <td>America/New_York</td>\n",
       "      <td>3</td>\n",
       "      <td>1840001291</td>\n",
       "      <td>(40.201, -76.7289)</td>\n",
       "      <td>(Middletown, PA)</td>\n",
       "      <td>True</td>\n",
       "    </tr>\n",
       "    <tr>\n",
       "      <th>4525</th>\n",
       "      <td>Oakwood</td>\n",
       "      <td>Oakwood</td>\n",
       "      <td>OH</td>\n",
       "      <td>Ohio</td>\n",
       "      <td>39.7202</td>\n",
       "      <td>-84.1733</td>\n",
       "      <td>8936.0</td>\n",
       "      <td>1571.0</td>\n",
       "      <td>America/New_York</td>\n",
       "      <td>3</td>\n",
       "      <td>1840003785</td>\n",
       "      <td>(39.7202, -84.1733)</td>\n",
       "      <td>(Oakwood, OH)</td>\n",
       "      <td>True</td>\n",
       "    </tr>\n",
       "    <tr>\n",
       "      <th>4553</th>\n",
       "      <td>Woodbury</td>\n",
       "      <td>Woodbury</td>\n",
       "      <td>NY</td>\n",
       "      <td>New York</td>\n",
       "      <td>40.8177</td>\n",
       "      <td>-73.4703</td>\n",
       "      <td>8852.0</td>\n",
       "      <td>682.0</td>\n",
       "      <td>America/New_York</td>\n",
       "      <td>3</td>\n",
       "      <td>1840150821</td>\n",
       "      <td>(40.8177, -73.4703)</td>\n",
       "      <td>(Woodbury, NY)</td>\n",
       "      <td>True</td>\n",
       "    </tr>\n",
       "    <tr>\n",
       "      <th>4570</th>\n",
       "      <td>Franklin</td>\n",
       "      <td>Franklin</td>\n",
       "      <td>PA</td>\n",
       "      <td>Pennsylvania</td>\n",
       "      <td>41.3936</td>\n",
       "      <td>-79.8425</td>\n",
       "      <td>8802.0</td>\n",
       "      <td>496.0</td>\n",
       "      <td>America/New_York</td>\n",
       "      <td>3</td>\n",
       "      <td>1840003425</td>\n",
       "      <td>(41.3936, -79.8425)</td>\n",
       "      <td>(Franklin, PA)</td>\n",
       "      <td>True</td>\n",
       "    </tr>\n",
       "    <tr>\n",
       "      <th>5079</th>\n",
       "      <td>San Antonio</td>\n",
       "      <td>San Antonio</td>\n",
       "      <td>PR</td>\n",
       "      <td>Puerto Rico</td>\n",
       "      <td>18.4468</td>\n",
       "      <td>-66.3002</td>\n",
       "      <td>7655.0</td>\n",
       "      <td>1680.0</td>\n",
       "      <td>America/Puerto_Rico</td>\n",
       "      <td>3</td>\n",
       "      <td>1630023733</td>\n",
       "      <td>(18.4468, -66.3002)</td>\n",
       "      <td>(San Antonio, PR)</td>\n",
       "      <td>True</td>\n",
       "    </tr>\n",
       "    <tr>\n",
       "      <th>5301</th>\n",
       "      <td>Middletown</td>\n",
       "      <td>Middletown</td>\n",
       "      <td>PA</td>\n",
       "      <td>Pennsylvania</td>\n",
       "      <td>40.6441</td>\n",
       "      <td>-75.3244</td>\n",
       "      <td>7212.0</td>\n",
       "      <td>1063.0</td>\n",
       "      <td>America/New_York</td>\n",
       "      <td>3</td>\n",
       "      <td>1840145547</td>\n",
       "      <td>(40.6441, -75.3244)</td>\n",
       "      <td>(Middletown, PA)</td>\n",
       "      <td>True</td>\n",
       "    </tr>\n",
       "    <tr>\n",
       "      <th>6853</th>\n",
       "      <td>Chula Vista</td>\n",
       "      <td>Chula Vista</td>\n",
       "      <td>TX</td>\n",
       "      <td>Texas</td>\n",
       "      <td>28.6573</td>\n",
       "      <td>-100.4220</td>\n",
       "      <td>4722.0</td>\n",
       "      <td>550.0</td>\n",
       "      <td>America/Chicago</td>\n",
       "      <td>3</td>\n",
       "      <td>1840073267</td>\n",
       "      <td>(28.6573, -100.422)</td>\n",
       "      <td>(Chula Vista, TX)</td>\n",
       "      <td>True</td>\n",
       "    </tr>\n",
       "    <tr>\n",
       "      <th>8018</th>\n",
       "      <td>Oakwood</td>\n",
       "      <td>Oakwood</td>\n",
       "      <td>OH</td>\n",
       "      <td>Ohio</td>\n",
       "      <td>41.3668</td>\n",
       "      <td>-81.5036</td>\n",
       "      <td>3624.0</td>\n",
       "      <td>408.0</td>\n",
       "      <td>America/New_York</td>\n",
       "      <td>3</td>\n",
       "      <td>1840144439</td>\n",
       "      <td>(41.3668, -81.5036)</td>\n",
       "      <td>(Oakwood, OH)</td>\n",
       "      <td>True</td>\n",
       "    </tr>\n",
       "    <tr>\n",
       "      <th>8908</th>\n",
       "      <td>Midway</td>\n",
       "      <td>Midway</td>\n",
       "      <td>FL</td>\n",
       "      <td>Florida</td>\n",
       "      <td>30.4993</td>\n",
       "      <td>-84.4583</td>\n",
       "      <td>3000.0</td>\n",
       "      <td>118.0</td>\n",
       "      <td>America/New_York</td>\n",
       "      <td>3</td>\n",
       "      <td>1840015021</td>\n",
       "      <td>(30.4993, -84.4583)</td>\n",
       "      <td>(Midway, FL)</td>\n",
       "      <td>True</td>\n",
       "    </tr>\n",
       "    <tr>\n",
       "      <th>9868</th>\n",
       "      <td>Liberty</td>\n",
       "      <td>Liberty</td>\n",
       "      <td>PA</td>\n",
       "      <td>Pennsylvania</td>\n",
       "      <td>40.3244</td>\n",
       "      <td>-79.8589</td>\n",
       "      <td>2454.0</td>\n",
       "      <td>662.0</td>\n",
       "      <td>America/New_York</td>\n",
       "      <td>3</td>\n",
       "      <td>1840001241</td>\n",
       "      <td>(40.3244, -79.8589)</td>\n",
       "      <td>(Liberty, PA)</td>\n",
       "      <td>True</td>\n",
       "    </tr>\n",
       "    <tr>\n",
       "      <th>10276</th>\n",
       "      <td>Newtown</td>\n",
       "      <td>Newtown</td>\n",
       "      <td>PA</td>\n",
       "      <td>Pennsylvania</td>\n",
       "      <td>40.2290</td>\n",
       "      <td>-74.9324</td>\n",
       "      <td>2240.0</td>\n",
       "      <td>1562.0</td>\n",
       "      <td>America/New_York</td>\n",
       "      <td>3</td>\n",
       "      <td>1840001329</td>\n",
       "      <td>(40.229, -74.9324)</td>\n",
       "      <td>(Newtown, PA)</td>\n",
       "      <td>True</td>\n",
       "    </tr>\n",
       "    <tr>\n",
       "      <th>11041</th>\n",
       "      <td>Georgetown</td>\n",
       "      <td>Georgetown</td>\n",
       "      <td>PA</td>\n",
       "      <td>Pennsylvania</td>\n",
       "      <td>41.2267</td>\n",
       "      <td>-75.8719</td>\n",
       "      <td>1909.0</td>\n",
       "      <td>984.0</td>\n",
       "      <td>America/New_York</td>\n",
       "      <td>3</td>\n",
       "      <td>1840144823</td>\n",
       "      <td>(41.2267, -75.8719)</td>\n",
       "      <td>(Georgetown, PA)</td>\n",
       "      <td>True</td>\n",
       "    </tr>\n",
       "    <tr>\n",
       "      <th>11916</th>\n",
       "      <td>San Antonio</td>\n",
       "      <td>San Antonio</td>\n",
       "      <td>PR</td>\n",
       "      <td>Puerto Rico</td>\n",
       "      <td>18.4931</td>\n",
       "      <td>-67.0998</td>\n",
       "      <td>1625.0</td>\n",
       "      <td>1297.0</td>\n",
       "      <td>America/Puerto_Rico</td>\n",
       "      <td>3</td>\n",
       "      <td>1630149533</td>\n",
       "      <td>(18.4931, -67.0998)</td>\n",
       "      <td>(San Antonio, PR)</td>\n",
       "      <td>True</td>\n",
       "    </tr>\n",
       "    <tr>\n",
       "      <th>12023</th>\n",
       "      <td>Midway</td>\n",
       "      <td>Midway</td>\n",
       "      <td>FL</td>\n",
       "      <td>Florida</td>\n",
       "      <td>28.7924</td>\n",
       "      <td>-81.2314</td>\n",
       "      <td>1592.0</td>\n",
       "      <td>833.0</td>\n",
       "      <td>America/New_York</td>\n",
       "      <td>3</td>\n",
       "      <td>1840148976</td>\n",
       "      <td>(28.7924, -81.2314)</td>\n",
       "      <td>(Midway, FL)</td>\n",
       "      <td>True</td>\n",
       "    </tr>\n",
       "    <tr>\n",
       "      <th>12070</th>\n",
       "      <td>Oakland</td>\n",
       "      <td>Oakland</td>\n",
       "      <td>PA</td>\n",
       "      <td>Pennsylvania</td>\n",
       "      <td>40.9915</td>\n",
       "      <td>-80.3671</td>\n",
       "      <td>1579.0</td>\n",
       "      <td>664.0</td>\n",
       "      <td>America/New_York</td>\n",
       "      <td>3</td>\n",
       "      <td>1840149256</td>\n",
       "      <td>(40.9915, -80.3671)</td>\n",
       "      <td>(Oakland, PA)</td>\n",
       "      <td>True</td>\n",
       "    </tr>\n",
       "    <tr>\n",
       "      <th>12633</th>\n",
       "      <td>Oakland</td>\n",
       "      <td>Oakland</td>\n",
       "      <td>PA</td>\n",
       "      <td>Pennsylvania</td>\n",
       "      <td>40.3055</td>\n",
       "      <td>-78.8819</td>\n",
       "      <td>1422.0</td>\n",
       "      <td>387.0</td>\n",
       "      <td>America/New_York</td>\n",
       "      <td>3</td>\n",
       "      <td>1840144363</td>\n",
       "      <td>(40.3055, -78.8819)</td>\n",
       "      <td>(Oakland, PA)</td>\n",
       "      <td>True</td>\n",
       "    </tr>\n",
       "    <tr>\n",
       "      <th>12648</th>\n",
       "      <td>San Antonio</td>\n",
       "      <td>San Antonio</td>\n",
       "      <td>PR</td>\n",
       "      <td>Puerto Rico</td>\n",
       "      <td>18.4382</td>\n",
       "      <td>-66.9362</td>\n",
       "      <td>1419.0</td>\n",
       "      <td>839.0</td>\n",
       "      <td>America/Puerto_Rico</td>\n",
       "      <td>3</td>\n",
       "      <td>1630146624</td>\n",
       "      <td>(18.4382, -66.9362)</td>\n",
       "      <td>(San Antonio, PR)</td>\n",
       "      <td>True</td>\n",
       "    </tr>\n",
       "    <tr>\n",
       "      <th>13691</th>\n",
       "      <td>Georgetown</td>\n",
       "      <td>Georgetown</td>\n",
       "      <td>PA</td>\n",
       "      <td>Pennsylvania</td>\n",
       "      <td>39.9426</td>\n",
       "      <td>-76.0789</td>\n",
       "      <td>1182.0</td>\n",
       "      <td>111.0</td>\n",
       "      <td>America/New_York</td>\n",
       "      <td>3</td>\n",
       "      <td>1840146109</td>\n",
       "      <td>(39.9426, -76.0789)</td>\n",
       "      <td>(Georgetown, PA)</td>\n",
       "      <td>True</td>\n",
       "    </tr>\n",
       "    <tr>\n",
       "      <th>15813</th>\n",
       "      <td>Chula Vista</td>\n",
       "      <td>Chula Vista</td>\n",
       "      <td>TX</td>\n",
       "      <td>Texas</td>\n",
       "      <td>28.6563</td>\n",
       "      <td>-99.8077</td>\n",
       "      <td>829.0</td>\n",
       "      <td>604.0</td>\n",
       "      <td>America/Chicago</td>\n",
       "      <td>3</td>\n",
       "      <td>1840142314</td>\n",
       "      <td>(28.6563, -99.8077)</td>\n",
       "      <td>(Chula Vista, TX)</td>\n",
       "      <td>True</td>\n",
       "    </tr>\n",
       "    <tr>\n",
       "      <th>16599</th>\n",
       "      <td>Jefferson</td>\n",
       "      <td>Jefferson</td>\n",
       "      <td>PA</td>\n",
       "      <td>Pennsylvania</td>\n",
       "      <td>39.8156</td>\n",
       "      <td>-76.8410</td>\n",
       "      <td>732.0</td>\n",
       "      <td>466.0</td>\n",
       "      <td>America/New_York</td>\n",
       "      <td>3</td>\n",
       "      <td>1840001452</td>\n",
       "      <td>(39.8156, -76.841)</td>\n",
       "      <td>(Jefferson, PA)</td>\n",
       "      <td>True</td>\n",
       "    </tr>\n",
       "    <tr>\n",
       "      <th>17912</th>\n",
       "      <td>Oakwood</td>\n",
       "      <td>Oakwood</td>\n",
       "      <td>OH</td>\n",
       "      <td>Ohio</td>\n",
       "      <td>41.0927</td>\n",
       "      <td>-84.3747</td>\n",
       "      <td>587.0</td>\n",
       "      <td>322.0</td>\n",
       "      <td>America/New_York</td>\n",
       "      <td>3</td>\n",
       "      <td>1840144033</td>\n",
       "      <td>(41.0927, -84.3747)</td>\n",
       "      <td>(Oakwood, OH)</td>\n",
       "      <td>True</td>\n",
       "    </tr>\n",
       "    <tr>\n",
       "      <th>18157</th>\n",
       "      <td>Oakland</td>\n",
       "      <td>Oakland</td>\n",
       "      <td>PA</td>\n",
       "      <td>Pennsylvania</td>\n",
       "      <td>41.9506</td>\n",
       "      <td>-75.6095</td>\n",
       "      <td>562.0</td>\n",
       "      <td>486.0</td>\n",
       "      <td>America/New_York</td>\n",
       "      <td>3</td>\n",
       "      <td>1840003327</td>\n",
       "      <td>(41.9506, -75.6095)</td>\n",
       "      <td>(Oakland, PA)</td>\n",
       "      <td>True</td>\n",
       "    </tr>\n",
       "    <tr>\n",
       "      <th>21873</th>\n",
       "      <td>Franklin</td>\n",
       "      <td>Franklin</td>\n",
       "      <td>PA</td>\n",
       "      <td>Pennsylvania</td>\n",
       "      <td>40.3417</td>\n",
       "      <td>-78.8846</td>\n",
       "      <td>293.0</td>\n",
       "      <td>204.0</td>\n",
       "      <td>America/New_York</td>\n",
       "      <td>3</td>\n",
       "      <td>1840144444</td>\n",
       "      <td>(40.3417, -78.8846)</td>\n",
       "      <td>(Franklin, PA)</td>\n",
       "      <td>True</td>\n",
       "    </tr>\n",
       "    <tr>\n",
       "      <th>22175</th>\n",
       "      <td>Chula Vista</td>\n",
       "      <td>Chula Vista</td>\n",
       "      <td>TX</td>\n",
       "      <td>Texas</td>\n",
       "      <td>26.0739</td>\n",
       "      <td>-97.4397</td>\n",
       "      <td>276.0</td>\n",
       "      <td>582.0</td>\n",
       "      <td>America/Chicago</td>\n",
       "      <td>3</td>\n",
       "      <td>1840143770</td>\n",
       "      <td>(26.0739, -97.4397)</td>\n",
       "      <td>(Chula Vista, TX)</td>\n",
       "      <td>True</td>\n",
       "    </tr>\n",
       "    <tr>\n",
       "      <th>22614</th>\n",
       "      <td>Jefferson</td>\n",
       "      <td>Jefferson</td>\n",
       "      <td>PA</td>\n",
       "      <td>Pennsylvania</td>\n",
       "      <td>39.9305</td>\n",
       "      <td>-80.0578</td>\n",
       "      <td>253.0</td>\n",
       "      <td>519.0</td>\n",
       "      <td>America/New_York</td>\n",
       "      <td>3</td>\n",
       "      <td>1840146258</td>\n",
       "      <td>(39.9305, -80.0578)</td>\n",
       "      <td>(Jefferson, PA)</td>\n",
       "      <td>True</td>\n",
       "    </tr>\n",
       "    <tr>\n",
       "      <th>22935</th>\n",
       "      <td>Newtown</td>\n",
       "      <td>Newtown</td>\n",
       "      <td>PA</td>\n",
       "      <td>Pennsylvania</td>\n",
       "      <td>40.6529</td>\n",
       "      <td>-76.3461</td>\n",
       "      <td>236.0</td>\n",
       "      <td>142.0</td>\n",
       "      <td>America/New_York</td>\n",
       "      <td>3</td>\n",
       "      <td>1840151703</td>\n",
       "      <td>(40.6529, -76.3461)</td>\n",
       "      <td>(Newtown, PA)</td>\n",
       "      <td>True</td>\n",
       "    </tr>\n",
       "    <tr>\n",
       "      <th>22963</th>\n",
       "      <td>Liberty</td>\n",
       "      <td>Liberty</td>\n",
       "      <td>PA</td>\n",
       "      <td>Pennsylvania</td>\n",
       "      <td>41.5585</td>\n",
       "      <td>-77.1054</td>\n",
       "      <td>234.0</td>\n",
       "      <td>189.0</td>\n",
       "      <td>America/New_York</td>\n",
       "      <td>3</td>\n",
       "      <td>1840145063</td>\n",
       "      <td>(41.5585, -77.1054)</td>\n",
       "      <td>(Liberty, PA)</td>\n",
       "      <td>True</td>\n",
       "    </tr>\n",
       "    <tr>\n",
       "      <th>24586</th>\n",
       "      <td>Georgetown</td>\n",
       "      <td>Georgetown</td>\n",
       "      <td>PA</td>\n",
       "      <td>Pennsylvania</td>\n",
       "      <td>40.6417</td>\n",
       "      <td>-80.4994</td>\n",
       "      <td>162.0</td>\n",
       "      <td>357.0</td>\n",
       "      <td>America/New_York</td>\n",
       "      <td>3</td>\n",
       "      <td>1840001023</td>\n",
       "      <td>(40.6417, -80.4994)</td>\n",
       "      <td>(Georgetown, PA)</td>\n",
       "      <td>True</td>\n",
       "    </tr>\n",
       "  </tbody>\n",
       "</table>\n",
       "</div>"
      ],
      "text/plain": [
       "              city   city_ascii state_id    state_name      lat       lng  \\\n",
       "2652        Midway       Midway       FL       Florida  30.4138  -87.0261   \n",
       "3871      Woodbury     Woodbury       NY      New York  41.3284  -74.1004   \n",
       "4290    Middletown   Middletown       PA  Pennsylvania  40.2010  -76.7289   \n",
       "4525       Oakwood      Oakwood       OH          Ohio  39.7202  -84.1733   \n",
       "4553      Woodbury     Woodbury       NY      New York  40.8177  -73.4703   \n",
       "4570      Franklin     Franklin       PA  Pennsylvania  41.3936  -79.8425   \n",
       "5079   San Antonio  San Antonio       PR   Puerto Rico  18.4468  -66.3002   \n",
       "5301    Middletown   Middletown       PA  Pennsylvania  40.6441  -75.3244   \n",
       "6853   Chula Vista  Chula Vista       TX         Texas  28.6573 -100.4220   \n",
       "8018       Oakwood      Oakwood       OH          Ohio  41.3668  -81.5036   \n",
       "8908        Midway       Midway       FL       Florida  30.4993  -84.4583   \n",
       "9868       Liberty      Liberty       PA  Pennsylvania  40.3244  -79.8589   \n",
       "10276      Newtown      Newtown       PA  Pennsylvania  40.2290  -74.9324   \n",
       "11041   Georgetown   Georgetown       PA  Pennsylvania  41.2267  -75.8719   \n",
       "11916  San Antonio  San Antonio       PR   Puerto Rico  18.4931  -67.0998   \n",
       "12023       Midway       Midway       FL       Florida  28.7924  -81.2314   \n",
       "12070      Oakland      Oakland       PA  Pennsylvania  40.9915  -80.3671   \n",
       "12633      Oakland      Oakland       PA  Pennsylvania  40.3055  -78.8819   \n",
       "12648  San Antonio  San Antonio       PR   Puerto Rico  18.4382  -66.9362   \n",
       "13691   Georgetown   Georgetown       PA  Pennsylvania  39.9426  -76.0789   \n",
       "15813  Chula Vista  Chula Vista       TX         Texas  28.6563  -99.8077   \n",
       "16599    Jefferson    Jefferson       PA  Pennsylvania  39.8156  -76.8410   \n",
       "17912      Oakwood      Oakwood       OH          Ohio  41.0927  -84.3747   \n",
       "18157      Oakland      Oakland       PA  Pennsylvania  41.9506  -75.6095   \n",
       "21873     Franklin     Franklin       PA  Pennsylvania  40.3417  -78.8846   \n",
       "22175  Chula Vista  Chula Vista       TX         Texas  26.0739  -97.4397   \n",
       "22614    Jefferson    Jefferson       PA  Pennsylvania  39.9305  -80.0578   \n",
       "22935      Newtown      Newtown       PA  Pennsylvania  40.6529  -76.3461   \n",
       "22963      Liberty      Liberty       PA  Pennsylvania  41.5585  -77.1054   \n",
       "24586   Georgetown   Georgetown       PA  Pennsylvania  40.6417  -80.4994   \n",
       "\n",
       "       population  density             timezone  ranking          id  \\\n",
       "2652      17760.0    571.0      America/Chicago        3  1840143881   \n",
       "3871      11089.0    120.0     America/New_York        3  1840004883   \n",
       "4290       9594.0   1824.0     America/New_York        3  1840001291   \n",
       "4525       8936.0   1571.0     America/New_York        3  1840003785   \n",
       "4553       8852.0    682.0     America/New_York        3  1840150821   \n",
       "4570       8802.0    496.0     America/New_York        3  1840003425   \n",
       "5079       7655.0   1680.0  America/Puerto_Rico        3  1630023733   \n",
       "5301       7212.0   1063.0     America/New_York        3  1840145547   \n",
       "6853       4722.0    550.0      America/Chicago        3  1840073267   \n",
       "8018       3624.0    408.0     America/New_York        3  1840144439   \n",
       "8908       3000.0    118.0     America/New_York        3  1840015021   \n",
       "9868       2454.0    662.0     America/New_York        3  1840001241   \n",
       "10276      2240.0   1562.0     America/New_York        3  1840001329   \n",
       "11041      1909.0    984.0     America/New_York        3  1840144823   \n",
       "11916      1625.0   1297.0  America/Puerto_Rico        3  1630149533   \n",
       "12023      1592.0    833.0     America/New_York        3  1840148976   \n",
       "12070      1579.0    664.0     America/New_York        3  1840149256   \n",
       "12633      1422.0    387.0     America/New_York        3  1840144363   \n",
       "12648      1419.0    839.0  America/Puerto_Rico        3  1630146624   \n",
       "13691      1182.0    111.0     America/New_York        3  1840146109   \n",
       "15813       829.0    604.0      America/Chicago        3  1840142314   \n",
       "16599       732.0    466.0     America/New_York        3  1840001452   \n",
       "17912       587.0    322.0     America/New_York        3  1840144033   \n",
       "18157       562.0    486.0     America/New_York        3  1840003327   \n",
       "21873       293.0    204.0     America/New_York        3  1840144444   \n",
       "22175       276.0    582.0      America/Chicago        3  1840143770   \n",
       "22614       253.0    519.0     America/New_York        3  1840146258   \n",
       "22935       236.0    142.0     America/New_York        3  1840151703   \n",
       "22963       234.0    189.0     America/New_York        3  1840145063   \n",
       "24586       162.0    357.0     America/New_York        3  1840001023   \n",
       "\n",
       "                     coord         city_state  duplicate_city_state  \n",
       "2652   (30.4138, -87.0261)       (Midway, FL)                  True  \n",
       "3871   (41.3284, -74.1004)     (Woodbury, NY)                  True  \n",
       "4290    (40.201, -76.7289)   (Middletown, PA)                  True  \n",
       "4525   (39.7202, -84.1733)      (Oakwood, OH)                  True  \n",
       "4553   (40.8177, -73.4703)     (Woodbury, NY)                  True  \n",
       "4570   (41.3936, -79.8425)     (Franklin, PA)                  True  \n",
       "5079   (18.4468, -66.3002)  (San Antonio, PR)                  True  \n",
       "5301   (40.6441, -75.3244)   (Middletown, PA)                  True  \n",
       "6853   (28.6573, -100.422)  (Chula Vista, TX)                  True  \n",
       "8018   (41.3668, -81.5036)      (Oakwood, OH)                  True  \n",
       "8908   (30.4993, -84.4583)       (Midway, FL)                  True  \n",
       "9868   (40.3244, -79.8589)      (Liberty, PA)                  True  \n",
       "10276   (40.229, -74.9324)      (Newtown, PA)                  True  \n",
       "11041  (41.2267, -75.8719)   (Georgetown, PA)                  True  \n",
       "11916  (18.4931, -67.0998)  (San Antonio, PR)                  True  \n",
       "12023  (28.7924, -81.2314)       (Midway, FL)                  True  \n",
       "12070  (40.9915, -80.3671)      (Oakland, PA)                  True  \n",
       "12633  (40.3055, -78.8819)      (Oakland, PA)                  True  \n",
       "12648  (18.4382, -66.9362)  (San Antonio, PR)                  True  \n",
       "13691  (39.9426, -76.0789)   (Georgetown, PA)                  True  \n",
       "15813  (28.6563, -99.8077)  (Chula Vista, TX)                  True  \n",
       "16599   (39.8156, -76.841)    (Jefferson, PA)                  True  \n",
       "17912  (41.0927, -84.3747)      (Oakwood, OH)                  True  \n",
       "18157  (41.9506, -75.6095)      (Oakland, PA)                  True  \n",
       "21873  (40.3417, -78.8846)     (Franklin, PA)                  True  \n",
       "22175  (26.0739, -97.4397)  (Chula Vista, TX)                  True  \n",
       "22614  (39.9305, -80.0578)    (Jefferson, PA)                  True  \n",
       "22935  (40.6529, -76.3461)      (Newtown, PA)                  True  \n",
       "22963  (41.5585, -77.1054)      (Liberty, PA)                  True  \n",
       "24586  (40.6417, -80.4994)   (Georgetown, PA)                  True  "
      ]
     },
     "execution_count": 82,
     "metadata": {},
     "output_type": "execute_result"
    }
   ],
   "source": [
    "# we have an assumption that no city and state pairing is duplicate\n",
    "# lets test this quickly\n",
    "df_cities['city_state'] = df_cities.apply(lambda row: create_coord(row['city'], row['state_id']), axis=1)\n",
    "df_cities['duplicate_city_state'] = df_cities['city_state'].duplicated(keep=False)\n",
    "df_cities[df_cities['duplicate_city_state'] == True]"
   ]
  },
  {
   "cell_type": "code",
   "execution_count": 83,
   "metadata": {
    "id": "DsBXQ4_FiTFM"
   },
   "outputs": [],
   "source": [
    "# so this is possibly cause a problem, the best thing to do here, is to deal with it so we have only one instance\n",
    "# we could make a couple of decisions here, the first is we could just use the first instance\n",
    "# another would be to find another data source that we could use in order to overwrite\n",
    "# third would be, we could average out each of the instances\n",
    "# the reality is, within a close proximity, it should be okay if we just pick one, so let's keep the first instance with the highest population\n"
   ]
  },
  {
   "cell_type": "code",
   "execution_count": 84,
   "metadata": {
    "colab": {
     "base_uri": "https://localhost:8080/",
     "height": 49
    },
    "id": "_X6wAirqRNHt",
    "outputId": "23dcfe7b-b055-4dff-c7cd-1b92fe8ac309"
   },
   "outputs": [
    {
     "data": {
      "text/html": [
       "<div>\n",
       "<style scoped>\n",
       "    .dataframe tbody tr th:only-of-type {\n",
       "        vertical-align: middle;\n",
       "    }\n",
       "\n",
       "    .dataframe tbody tr th {\n",
       "        vertical-align: top;\n",
       "    }\n",
       "\n",
       "    .dataframe thead th {\n",
       "        text-align: right;\n",
       "    }\n",
       "</style>\n",
       "<table border=\"1\" class=\"dataframe\">\n",
       "  <thead>\n",
       "    <tr style=\"text-align: right;\">\n",
       "      <th></th>\n",
       "      <th>city</th>\n",
       "      <th>city_ascii</th>\n",
       "      <th>state_id</th>\n",
       "      <th>state_name</th>\n",
       "      <th>lat</th>\n",
       "      <th>lng</th>\n",
       "      <th>population</th>\n",
       "      <th>density</th>\n",
       "      <th>timezone</th>\n",
       "      <th>ranking</th>\n",
       "      <th>id</th>\n",
       "      <th>coord</th>\n",
       "      <th>city_state</th>\n",
       "      <th>duplicate_city_state</th>\n",
       "    </tr>\n",
       "  </thead>\n",
       "  <tbody>\n",
       "  </tbody>\n",
       "</table>\n",
       "</div>"
      ],
      "text/plain": [
       "Empty DataFrame\n",
       "Columns: [city, city_ascii, state_id, state_name, lat, lng, population, density, timezone, ranking, id, coord, city_state, duplicate_city_state]\n",
       "Index: []"
      ]
     },
     "execution_count": 84,
     "metadata": {},
     "output_type": "execute_result"
    }
   ],
   "source": [
    "df_cities.drop_duplicates(subset='city_state', keep='first', inplace=True)\n",
    "df_cities['duplicate_city_state'] = df_cities['city_state'].duplicated(keep=False)\n",
    "df_cities[df_cities['duplicate_city_state'] == True]"
   ]
  },
  {
   "cell_type": "code",
   "execution_count": 85,
   "metadata": {
    "colab": {
     "base_uri": "https://localhost:8080/"
    },
    "id": "ibdSsY4iR9VC",
    "outputId": "c0e580d1-66ad-416e-844e-b9833de2d066"
   },
   "outputs": [
    {
     "name": "stdout",
     "output_type": "stream",
     "text": [
      "<class 'pandas.core.frame.DataFrame'>\n",
      "Int64Index: 30050 entries, 0 to 1737\n",
      "Data columns (total 13 columns):\n",
      " #   Column      Non-Null Count  Dtype  \n",
      "---  ------      --------------  -----  \n",
      " 0   city        30050 non-null  object \n",
      " 1   city_ascii  30050 non-null  object \n",
      " 2   state_id    30050 non-null  object \n",
      " 3   state_name  30050 non-null  object \n",
      " 4   lat         30050 non-null  float64\n",
      " 5   lng         30050 non-null  float64\n",
      " 6   population  30050 non-null  float64\n",
      " 7   density     30050 non-null  float64\n",
      " 8   timezone    30050 non-null  object \n",
      " 9   ranking     30050 non-null  int64  \n",
      " 10  id          30050 non-null  int64  \n",
      " 11  coord       30050 non-null  object \n",
      " 12  city_state  30050 non-null  object \n",
      "dtypes: float64(4), int64(2), object(7)\n",
      "memory usage: 3.2+ MB\n"
     ]
    }
   ],
   "source": [
    "# looks like we've got this done, let's drop the extra columns\n",
    "df_cities.drop(columns='duplicate_city_state', inplace=True)\n",
    "df_cities.info()"
   ]
  },
  {
   "cell_type": "code",
   "execution_count": 86,
   "metadata": {
    "colab": {
     "base_uri": "https://localhost:8080/"
    },
    "id": "1ggDLA5jntwS",
    "outputId": "ac31e44f-c92d-4057-fd50-cf61dbbdde7f"
   },
   "outputs": [
    {
     "data": {
      "text/plain": [
       "False    86483\n",
       "True      1615\n",
       "Name: city, dtype: int64"
      ]
     },
     "execution_count": 86,
     "metadata": {},
     "output_type": "execute_result"
    }
   ],
   "source": [
    "df['city'].isnull().value_counts()"
   ]
  },
  {
   "cell_type": "code",
   "execution_count": 87,
   "metadata": {
    "colab": {
     "base_uri": "https://localhost:8080/"
    },
    "id": "5T-dORkvoBN-",
    "outputId": "9aa92fb2-f396-496c-86cd-c4e12f223fa5"
   },
   "outputs": [
    {
     "data": {
      "text/plain": [
       "False    81577\n",
       "True      6521\n",
       "Name: state, dtype: int64"
      ]
     },
     "execution_count": 87,
     "metadata": {},
     "output_type": "execute_result"
    }
   ],
   "source": [
    "df['state'].isnull().value_counts()"
   ]
  },
  {
   "cell_type": "code",
   "execution_count": 88,
   "metadata": {
    "id": "1Tz3KUhen9l-"
   },
   "outputs": [],
   "source": [
    "# so we have 234 cities that don't have names "
   ]
  },
  {
   "cell_type": "code",
   "execution_count": 89,
   "metadata": {
    "id": "KyagNJ4mtfM8"
   },
   "outputs": [],
   "source": [
    "df_test = df[df['city'].isnull() == True]"
   ]
  },
  {
   "cell_type": "code",
   "execution_count": 90,
   "metadata": {
    "colab": {
     "base_uri": "https://localhost:8080/"
    },
    "id": "f6Kc4Nw6xoGY",
    "outputId": "74952432-7a89-435c-a61e-4c046aa48f35"
   },
   "outputs": [
    {
     "data": {
      "text/plain": [
       "0"
      ]
     },
     "execution_count": 90,
     "metadata": {},
     "output_type": "execute_result"
    }
   ],
   "source": [
    "df_test['city_latitude'].nunique()"
   ]
  },
  {
   "cell_type": "code",
   "execution_count": 91,
   "metadata": {
    "colab": {
     "base_uri": "https://localhost:8080/"
    },
    "id": "tuIiG-Eix7CC",
    "outputId": "463066b6-c3b5-48f9-b653-214be33b99ea"
   },
   "outputs": [
    {
     "data": {
      "text/plain": [
       "0"
      ]
     },
     "execution_count": 91,
     "metadata": {},
     "output_type": "execute_result"
    }
   ],
   "source": [
    "df_test['city_longitude'].nunique()"
   ]
  },
  {
   "cell_type": "code",
   "execution_count": 92,
   "metadata": {
    "colab": {
     "base_uri": "https://localhost:8080/"
    },
    "id": "sY-G5jrAyB3w",
    "outputId": "aca2bca7-f918-45ea-84af-eba8e4feb6a5"
   },
   "outputs": [
    {
     "name": "stdout",
     "output_type": "stream",
     "text": [
      "<class 'pandas.core.frame.DataFrame'>\n",
      "Int64Index: 86483 entries, 0 to 88123\n",
      "Data columns (total 16 columns):\n",
      " #   Column            Non-Null Count  Dtype  \n",
      "---  ------            --------------  -----  \n",
      " 0   Text_ID           86483 non-null  float64\n",
      " 1   city              86483 non-null  object \n",
      " 2   state             81460 non-null  object \n",
      " 3   date_time         85355 non-null  object \n",
      " 4   shape             84140 non-null  object \n",
      " 5   stats             86483 non-null  object \n",
      " 6   report_link       86483 non-null  object \n",
      " 7   text              86483 non-null  object \n",
      " 8   posted            85355 non-null  object \n",
      " 9   city_latitude     70907 non-null  float64\n",
      " 10  city_longitude    70907 non-null  float64\n",
      " 11  Duration          86483 non-null  object \n",
      " 12  summary_notes     86483 non-null  object \n",
      " 13  text_notes        86483 non-null  object \n",
      " 14  stats_duplicated  86483 non-null  object \n",
      " 15  Reported_stats    86483 non-null  object \n",
      "dtypes: float64(3), object(13)\n",
      "memory usage: 11.2+ MB\n"
     ]
    }
   ],
   "source": [
    "# so, the ones with the city name as null, also have long and lat as null, these rows are useless, we don't have geographic data, which we have deemed is critical to our analysis\n",
    "# the lack of info also suggests this data is not reliable\n",
    "# let's drop this data\n",
    "df.dropna(subset=['city'],inplace=True)\n",
    "df.info()"
   ]
  },
  {
   "cell_type": "code",
   "execution_count": 93,
   "metadata": {
    "colab": {
     "base_uri": "https://localhost:8080/"
    },
    "id": "CiZbDbhWzkEF",
    "outputId": "7a1f752e-7a31-441f-d245-1ced1737c51d"
   },
   "outputs": [
    {
     "name": "stdout",
     "output_type": "stream",
     "text": [
      "<class 'pandas.core.frame.DataFrame'>\n",
      "Int64Index: 0 entries\n",
      "Data columns (total 16 columns):\n",
      " #   Column            Non-Null Count  Dtype  \n",
      "---  ------            --------------  -----  \n",
      " 0   Text_ID           0 non-null      float64\n",
      " 1   city              0 non-null      object \n",
      " 2   state             0 non-null      object \n",
      " 3   date_time         0 non-null      object \n",
      " 4   shape             0 non-null      object \n",
      " 5   stats             0 non-null      object \n",
      " 6   report_link       0 non-null      object \n",
      " 7   text              0 non-null      object \n",
      " 8   posted            0 non-null      object \n",
      " 9   city_latitude     0 non-null      float64\n",
      " 10  city_longitude    0 non-null      float64\n",
      " 11  Duration          0 non-null      object \n",
      " 12  summary_notes     0 non-null      object \n",
      " 13  text_notes        0 non-null      object \n",
      " 14  stats_duplicated  0 non-null      object \n",
      " 15  Reported_stats    0 non-null      object \n",
      "dtypes: float64(3), object(13)\n",
      "memory usage: 0.0+ bytes\n"
     ]
    }
   ],
   "source": [
    "df_test = df[df['city'].isnull() == True]\n",
    "df_test.info()"
   ]
  },
  {
   "cell_type": "code",
   "execution_count": 94,
   "metadata": {
    "id": "wRzfPYDKzqXN"
   },
   "outputs": [],
   "source": [
    "#okay, so we got rid of those values\n",
    "# now, we can use the city name, state, lat and long to fill out the rest\n",
    "# the most important is city, because we know that each of those values is there\n",
    "# so our function should take city, and check what others are missing and fill them if necessary"
   ]
  },
  {
   "cell_type": "code",
   "execution_count": 95,
   "metadata": {
    "colab": {
     "base_uri": "https://localhost:8080/"
    },
    "id": "7h5_6vdNz6c4",
    "outputId": "ab50ea3e-a13e-47aa-abb9-fc968a517323"
   },
   "outputs": [
    {
     "data": {
      "text/plain": [
       "False    81460\n",
       "True      5023\n",
       "Name: state, dtype: int64"
      ]
     },
     "execution_count": 95,
     "metadata": {},
     "output_type": "execute_result"
    }
   ],
   "source": [
    "df['state'].isnull().value_counts()"
   ]
  },
  {
   "cell_type": "code",
   "execution_count": 96,
   "metadata": {
    "id": "VkJFR3531M_2"
   },
   "outputs": [],
   "source": [
    "df_test = df[df['state'].isnull() == True]"
   ]
  },
  {
   "cell_type": "code",
   "execution_count": 97,
   "metadata": {
    "colab": {
     "base_uri": "https://localhost:8080/"
    },
    "id": "ROPyUZJX14vs",
    "outputId": "27f801ec-6363-4db7-86f4-4ddce7a02107"
   },
   "outputs": [
    {
     "data": {
      "text/plain": [
       "Series([], Name: city_latitude, dtype: int64)"
      ]
     },
     "execution_count": 97,
     "metadata": {},
     "output_type": "execute_result"
    }
   ],
   "source": [
    "df_test['city_latitude'].value_counts()"
   ]
  },
  {
   "cell_type": "code",
   "execution_count": 98,
   "metadata": {
    "colab": {
     "base_uri": "https://localhost:8080/"
    },
    "id": "ZHIbn1uN19dQ",
    "outputId": "2a00c3c7-6da5-4e43-946a-e7c21ccf2cb4"
   },
   "outputs": [
    {
     "data": {
      "text/plain": [
       "0"
      ]
     },
     "execution_count": 98,
     "metadata": {},
     "output_type": "execute_result"
    }
   ],
   "source": [
    "df_test['city_longitude'].nunique()\n"
   ]
  },
  {
   "cell_type": "code",
   "execution_count": 99,
   "metadata": {
    "colab": {
     "base_uri": "https://localhost:8080/"
    },
    "id": "Qvo7ozCH1roa",
    "outputId": "c21d3126-2e51-44ab-f73d-64cd958dbe64"
   },
   "outputs": [
    {
     "data": {
      "text/plain": [
       "9       NaN\n",
       "29      NaN\n",
       "34      NaN\n",
       "52      NaN\n",
       "66      NaN\n",
       "         ..\n",
       "88009   NaN\n",
       "88036   NaN\n",
       "88062   NaN\n",
       "88067   NaN\n",
       "88077   NaN\n",
       "Name: city_latitude, Length: 5023, dtype: float64"
      ]
     },
     "execution_count": 99,
     "metadata": {},
     "output_type": "execute_result"
    }
   ],
   "source": [
    "df_test['city_latitude']"
   ]
  },
  {
   "cell_type": "code",
   "execution_count": 100,
   "metadata": {
    "colab": {
     "base_uri": "https://localhost:8080/"
    },
    "id": "Ht258z-u2Bgs",
    "outputId": "f346055b-f9e8-47d0-ca6e-6e77b69c3b9f"
   },
   "outputs": [
    {
     "data": {
      "text/plain": [
       "Series([], Name: city_longitude, dtype: int64)"
      ]
     },
     "execution_count": 100,
     "metadata": {},
     "output_type": "execute_result"
    }
   ],
   "source": [
    "df_test['city_longitude'].value_counts()"
   ]
  },
  {
   "cell_type": "code",
   "execution_count": 101,
   "metadata": {
    "colab": {
     "base_uri": "https://localhost:8080/"
    },
    "id": "HmxuOo4O10Y4",
    "outputId": "379063b1-9ddc-4b0b-f9aa-ce0c617c6c10"
   },
   "outputs": [
    {
     "data": {
      "text/plain": [
       "0"
      ]
     },
     "execution_count": 101,
     "metadata": {},
     "output_type": "execute_result"
    }
   ],
   "source": [
    "df_test['city_longitude'].nunique()"
   ]
  },
  {
   "cell_type": "code",
   "execution_count": 102,
   "metadata": {
    "colab": {
     "base_uri": "https://localhost:8080/"
    },
    "id": "oHARm88u2Kne",
    "outputId": "6e073008-4b4e-4336-cfea-02b9d412e424"
   },
   "outputs": [
    {
     "data": {
      "text/plain": [
       "9       NaN\n",
       "29      NaN\n",
       "34      NaN\n",
       "52      NaN\n",
       "66      NaN\n",
       "         ..\n",
       "88009   NaN\n",
       "88036   NaN\n",
       "88062   NaN\n",
       "88067   NaN\n",
       "88077   NaN\n",
       "Name: city_longitude, Length: 5023, dtype: float64"
      ]
     },
     "execution_count": 102,
     "metadata": {},
     "output_type": "execute_result"
    }
   ],
   "source": [
    "df_test['city_longitude']"
   ]
  },
  {
   "cell_type": "code",
   "execution_count": 103,
   "metadata": {
    "id": "bZ80DkfL2NC3"
   },
   "outputs": [],
   "source": [
    "# this tells us that if the state is missing, we are also missing the lat and long\n",
    "# what this means, is for the geographic, we will have the pairing of city state to get the lat and long\n",
    "# we can also drop the instances if the state is missing\n",
    "# this is a shame because we are dropping a lot of data, but we can't do much about it at this point\n",
    "df.dropna(subset=['state'],inplace=True)"
   ]
  },
  {
   "cell_type": "code",
   "execution_count": 104,
   "metadata": {
    "colab": {
     "base_uri": "https://localhost:8080/"
    },
    "id": "27xyO35b2m6l",
    "outputId": "5776ec7b-48bc-4885-9c15-312a0ef04c08"
   },
   "outputs": [
    {
     "data": {
      "text/plain": [
       "False    81460\n",
       "Name: state, dtype: int64"
      ]
     },
     "execution_count": 104,
     "metadata": {},
     "output_type": "execute_result"
    }
   ],
   "source": [
    "df['state'].isnull().value_counts()"
   ]
  },
  {
   "cell_type": "code",
   "execution_count": 105,
   "metadata": {
    "colab": {
     "base_uri": "https://localhost:8080/"
    },
    "id": "JxS4Rh9E8ScR",
    "outputId": "d0fc788f-3a2f-4289-9fa4-5f99ea630ba4"
   },
   "outputs": [
    {
     "name": "stdout",
     "output_type": "stream",
     "text": [
      "<class 'pandas.core.frame.DataFrame'>\n",
      "Int64Index: 81460 entries, 0 to 88123\n",
      "Data columns (total 16 columns):\n",
      " #   Column            Non-Null Count  Dtype  \n",
      "---  ------            --------------  -----  \n",
      " 0   Text_ID           81460 non-null  float64\n",
      " 1   city              81460 non-null  object \n",
      " 2   state             81460 non-null  object \n",
      " 3   date_time         80429 non-null  object \n",
      " 4   shape             79313 non-null  object \n",
      " 5   stats             81460 non-null  object \n",
      " 6   report_link       81460 non-null  object \n",
      " 7   text              81460 non-null  object \n",
      " 8   posted            80429 non-null  object \n",
      " 9   city_latitude     70907 non-null  float64\n",
      " 10  city_longitude    70907 non-null  float64\n",
      " 11  Duration          81460 non-null  object \n",
      " 12  summary_notes     81460 non-null  object \n",
      " 13  text_notes        81460 non-null  object \n",
      " 14  stats_duplicated  81460 non-null  object \n",
      " 15  Reported_stats    81460 non-null  object \n",
      "dtypes: float64(3), object(13)\n",
      "memory usage: 10.6+ MB\n"
     ]
    }
   ],
   "source": [
    "df.info()"
   ]
  },
  {
   "cell_type": "code",
   "execution_count": 106,
   "metadata": {
    "colab": {
     "base_uri": "https://localhost:8080/",
     "height": 206
    },
    "id": "N_9FjtTn_Az4",
    "outputId": "c766f3b3-fa1b-4193-caed-609e56be856f"
   },
   "outputs": [
    {
     "data": {
      "text/html": [
       "<div>\n",
       "<style scoped>\n",
       "    .dataframe tbody tr th:only-of-type {\n",
       "        vertical-align: middle;\n",
       "    }\n",
       "\n",
       "    .dataframe tbody tr th {\n",
       "        vertical-align: top;\n",
       "    }\n",
       "\n",
       "    .dataframe thead th {\n",
       "        text-align: right;\n",
       "    }\n",
       "</style>\n",
       "<table border=\"1\" class=\"dataframe\">\n",
       "  <thead>\n",
       "    <tr style=\"text-align: right;\">\n",
       "      <th></th>\n",
       "      <th>city</th>\n",
       "      <th>city_ascii</th>\n",
       "      <th>state_id</th>\n",
       "      <th>state_name</th>\n",
       "      <th>lat</th>\n",
       "      <th>lng</th>\n",
       "      <th>population</th>\n",
       "      <th>density</th>\n",
       "      <th>timezone</th>\n",
       "      <th>ranking</th>\n",
       "      <th>id</th>\n",
       "      <th>coord</th>\n",
       "      <th>city_state</th>\n",
       "    </tr>\n",
       "  </thead>\n",
       "  <tbody>\n",
       "    <tr>\n",
       "      <th>0</th>\n",
       "      <td>New York</td>\n",
       "      <td>New York</td>\n",
       "      <td>NY</td>\n",
       "      <td>New York</td>\n",
       "      <td>40.6943</td>\n",
       "      <td>-73.9249</td>\n",
       "      <td>18713220.0</td>\n",
       "      <td>10715.0</td>\n",
       "      <td>America/New_York</td>\n",
       "      <td>1</td>\n",
       "      <td>1840034016</td>\n",
       "      <td>(40.6943, -73.9249)</td>\n",
       "      <td>(New York, NY)</td>\n",
       "    </tr>\n",
       "    <tr>\n",
       "      <th>1</th>\n",
       "      <td>Los Angeles</td>\n",
       "      <td>Los Angeles</td>\n",
       "      <td>CA</td>\n",
       "      <td>California</td>\n",
       "      <td>34.1139</td>\n",
       "      <td>-118.4068</td>\n",
       "      <td>12750807.0</td>\n",
       "      <td>3276.0</td>\n",
       "      <td>America/Los_Angeles</td>\n",
       "      <td>1</td>\n",
       "      <td>1840020491</td>\n",
       "      <td>(34.1139, -118.4068)</td>\n",
       "      <td>(Los Angeles, CA)</td>\n",
       "    </tr>\n",
       "    <tr>\n",
       "      <th>2</th>\n",
       "      <td>Chicago</td>\n",
       "      <td>Chicago</td>\n",
       "      <td>IL</td>\n",
       "      <td>Illinois</td>\n",
       "      <td>41.8373</td>\n",
       "      <td>-87.6862</td>\n",
       "      <td>8604203.0</td>\n",
       "      <td>4574.0</td>\n",
       "      <td>America/Chicago</td>\n",
       "      <td>1</td>\n",
       "      <td>1840000494</td>\n",
       "      <td>(41.8373, -87.6862)</td>\n",
       "      <td>(Chicago, IL)</td>\n",
       "    </tr>\n",
       "    <tr>\n",
       "      <th>3</th>\n",
       "      <td>Miami</td>\n",
       "      <td>Miami</td>\n",
       "      <td>FL</td>\n",
       "      <td>Florida</td>\n",
       "      <td>25.7839</td>\n",
       "      <td>-80.2102</td>\n",
       "      <td>6445545.0</td>\n",
       "      <td>5019.0</td>\n",
       "      <td>America/New_York</td>\n",
       "      <td>1</td>\n",
       "      <td>1840015149</td>\n",
       "      <td>(25.7839, -80.2102)</td>\n",
       "      <td>(Miami, FL)</td>\n",
       "    </tr>\n",
       "    <tr>\n",
       "      <th>4</th>\n",
       "      <td>Dallas</td>\n",
       "      <td>Dallas</td>\n",
       "      <td>TX</td>\n",
       "      <td>Texas</td>\n",
       "      <td>32.7936</td>\n",
       "      <td>-96.7662</td>\n",
       "      <td>5743938.0</td>\n",
       "      <td>1526.0</td>\n",
       "      <td>America/Chicago</td>\n",
       "      <td>1</td>\n",
       "      <td>1840019440</td>\n",
       "      <td>(32.7936, -96.7662)</td>\n",
       "      <td>(Dallas, TX)</td>\n",
       "    </tr>\n",
       "  </tbody>\n",
       "</table>\n",
       "</div>"
      ],
      "text/plain": [
       "          city   city_ascii state_id  state_name      lat       lng  \\\n",
       "0     New York     New York       NY    New York  40.6943  -73.9249   \n",
       "1  Los Angeles  Los Angeles       CA  California  34.1139 -118.4068   \n",
       "2      Chicago      Chicago       IL    Illinois  41.8373  -87.6862   \n",
       "3        Miami        Miami       FL     Florida  25.7839  -80.2102   \n",
       "4       Dallas       Dallas       TX       Texas  32.7936  -96.7662   \n",
       "\n",
       "   population  density             timezone  ranking          id  \\\n",
       "0  18713220.0  10715.0     America/New_York        1  1840034016   \n",
       "1  12750807.0   3276.0  America/Los_Angeles        1  1840020491   \n",
       "2   8604203.0   4574.0      America/Chicago        1  1840000494   \n",
       "3   6445545.0   5019.0     America/New_York        1  1840015149   \n",
       "4   5743938.0   1526.0      America/Chicago        1  1840019440   \n",
       "\n",
       "                  coord         city_state  \n",
       "0   (40.6943, -73.9249)     (New York, NY)  \n",
       "1  (34.1139, -118.4068)  (Los Angeles, CA)  \n",
       "2   (41.8373, -87.6862)      (Chicago, IL)  \n",
       "3   (25.7839, -80.2102)        (Miami, FL)  \n",
       "4   (32.7936, -96.7662)       (Dallas, TX)  "
      ]
     },
     "execution_count": 106,
     "metadata": {},
     "output_type": "execute_result"
    }
   ],
   "source": [
    "df_cities.head()"
   ]
  },
  {
   "cell_type": "code",
   "execution_count": 107,
   "metadata": {
    "id": "1QQhVl3w8X5n"
   },
   "outputs": [],
   "source": [
    "# okay, so now we are missing date_time, shape, some stats, some posted, city_lat and long\n",
    "# let's try to solve the city lat and long\n",
    "#df_coord_null = df[df['city_latitude'].isnull() == True]\n",
    "#df_coord_null"
   ]
  },
  {
   "cell_type": "code",
   "execution_count": 108,
   "metadata": {
    "id": "tKTk0vVC8wW4"
   },
   "outputs": [],
   "source": [
    "#df_coord_null['city_state'] = df_coord_null.apply(lambda row: create_coord(row['city'], row['state']), axis=1)\n",
    "#df_coord_null"
   ]
  },
  {
   "cell_type": "code",
   "execution_count": 109,
   "metadata": {
    "id": "dy3fxC6c99x4"
   },
   "outputs": [],
   "source": [
    "df_temp = df_cities[['city_state','coord']]"
   ]
  },
  {
   "cell_type": "code",
   "execution_count": 110,
   "metadata": {
    "id": "yaLL2-f5mRxJ"
   },
   "outputs": [],
   "source": [
    "#df_test"
   ]
  },
  {
   "cell_type": "code",
   "execution_count": 111,
   "metadata": {
    "id": "sJoif6eR_YiL"
   },
   "outputs": [],
   "source": [
    "city_lookup = df_temp.set_index('city_state').to_dict()\n",
    "#city_lookup['coord'][('Toronto','ON')]"
   ]
  },
  {
   "cell_type": "code",
   "execution_count": 112,
   "metadata": {
    "id": "H7ci_nlRnqgx"
   },
   "outputs": [],
   "source": [
    "#df_coord_null.head()"
   ]
  },
  {
   "cell_type": "code",
   "execution_count": 113,
   "metadata": {
    "id": "RTvvAhDEVqf-"
   },
   "outputs": [],
   "source": [
    "city_lookup = city_lookup['coord']"
   ]
  },
  {
   "cell_type": "code",
   "execution_count": 114,
   "metadata": {
    "id": "ZjP2QTkeVHbI"
   },
   "outputs": [],
   "source": [
    "def lookup(arg):\n",
    "  try:\n",
    "    coord = city_lookup[arg]\n",
    "    return coord\n",
    "  except KeyError:\n",
    "    return None"
   ]
  },
  {
   "cell_type": "code",
   "execution_count": 115,
   "metadata": {
    "id": "j9KEmAr5VnXh"
   },
   "outputs": [],
   "source": [
    "#lookup(('Marin County','CA'))"
   ]
  },
  {
   "cell_type": "code",
   "execution_count": 116,
   "metadata": {
    "id": "tpk9Q5O5WmrV"
   },
   "outputs": [],
   "source": [
    "#df_coord_null['coord'] = df_coord_null.apply(lambda row: lookup(row['city_state']), axis=1)"
   ]
  },
  {
   "cell_type": "code",
   "execution_count": 117,
   "metadata": {
    "id": "ueaMoUeWbqw1"
   },
   "outputs": [],
   "source": [
    "#df_coord_null[df_coord_null['coord'].isnull() == True]['city_state'].value_counts()"
   ]
  },
  {
   "cell_type": "code",
   "execution_count": 118,
   "metadata": {
    "id": "lELsjCrxh63a"
   },
   "outputs": [],
   "source": [
    "# okay, so we filled in less than we expected we would get\n",
    "# there are some noted errors:\n",
    "# saint catharines is in the canadian cities data, only as St. Catherines\n",
    "# we have instances of counties being useful rather than cities\n",
    "# there are instances where we could approximately closer West Hollywood could be subbed for hollywood\n",
    "# we have ones that the data is bad, for example with instance (Peoria, NY), is looks like it is actually talking about Peoria, AZ"
   ]
  },
  {
   "cell_type": "code",
   "execution_count": 119,
   "metadata": {
    "id": "sQQUs08JnewT"
   },
   "outputs": [],
   "source": [
    "def which_coord(lat, long, city_state):\n",
    "  if lat == None:\n",
    "    return lookup(city_state)\n",
    "  else:\n",
    "    return create_coord(lat, long)"
   ]
  },
  {
   "cell_type": "code",
   "execution_count": 120,
   "metadata": {
    "colab": {
     "base_uri": "https://localhost:8080/"
    },
    "id": "dLpuHClom5ma",
    "outputId": "773574f1-a032-4cc6-d040-32b6c8fc5373"
   },
   "outputs": [
    {
     "name": "stdout",
     "output_type": "stream",
     "text": [
      "<class 'pandas.core.frame.DataFrame'>\n",
      "Int64Index: 81460 entries, 0 to 88123\n",
      "Data columns (total 18 columns):\n",
      " #   Column            Non-Null Count  Dtype  \n",
      "---  ------            --------------  -----  \n",
      " 0   Text_ID           81460 non-null  float64\n",
      " 1   city              81460 non-null  object \n",
      " 2   state             81460 non-null  object \n",
      " 3   date_time         80429 non-null  object \n",
      " 4   shape             79313 non-null  object \n",
      " 5   stats             81460 non-null  object \n",
      " 6   report_link       81460 non-null  object \n",
      " 7   text              81460 non-null  object \n",
      " 8   posted            80429 non-null  object \n",
      " 9   city_latitude     70907 non-null  float64\n",
      " 10  city_longitude    70907 non-null  float64\n",
      " 11  Duration          81460 non-null  object \n",
      " 12  summary_notes     81460 non-null  object \n",
      " 13  text_notes        81460 non-null  object \n",
      " 14  stats_duplicated  81460 non-null  object \n",
      " 15  Reported_stats    81460 non-null  object \n",
      " 16  city_state        81460 non-null  object \n",
      " 17  coord             81460 non-null  object \n",
      "dtypes: float64(3), object(15)\n",
      "memory usage: 11.8+ MB\n"
     ]
    }
   ],
   "source": [
    "# okay let's apply this to our original dataframe and refactor some steps\n",
    "df['city_state'] = df.apply(lambda row: create_coord(row['city'], row['state']), axis=1)\n",
    "df['coord'] = df.apply(lambda row: which_coord(row['city_latitude'], row['city_longitude'],row['city_state']), axis=1)\n",
    "df.info()"
   ]
  },
  {
   "cell_type": "code",
   "execution_count": 121,
   "metadata": {
    "colab": {
     "base_uri": "https://localhost:8080/"
    },
    "id": "iaRYJLUAogaP",
    "outputId": "b2184a3e-e835-428a-fc89-19de1fac2ed4"
   },
   "outputs": [
    {
     "name": "stdout",
     "output_type": "stream",
     "text": [
      "<class 'pandas.core.frame.DataFrame'>\n",
      "Int64Index: 81460 entries, 0 to 88123\n",
      "Data columns (total 17 columns):\n",
      " #   Column          Non-Null Count  Dtype  \n",
      "---  ------          --------------  -----  \n",
      " 0   Text_ID         81460 non-null  float64\n",
      " 1   city            81460 non-null  object \n",
      " 2   state           81460 non-null  object \n",
      " 3   date_time       80429 non-null  object \n",
      " 4   shape           79313 non-null  object \n",
      " 5   stats           81460 non-null  object \n",
      " 6   report_link     81460 non-null  object \n",
      " 7   text            81460 non-null  object \n",
      " 8   posted          80429 non-null  object \n",
      " 9   city_latitude   70907 non-null  float64\n",
      " 10  city_longitude  70907 non-null  float64\n",
      " 11  Duration        81460 non-null  object \n",
      " 12  summary_notes   81460 non-null  object \n",
      " 13  text_notes      81460 non-null  object \n",
      " 14  Reported_stats  81460 non-null  object \n",
      " 15  city_state      81460 non-null  object \n",
      " 16  coord           81460 non-null  object \n",
      "dtypes: float64(3), object(14)\n",
      "memory usage: 11.2+ MB\n"
     ]
    }
   ],
   "source": [
    "# let's drop some columns that we don't need\n",
    "df.drop(columns='stats_duplicated', inplace=True)\n",
    "# we also are really focused on using the geographic data, so maybe we should also drop ones with a null coord\n",
    "df.dropna(subset=['coord'], inplace=True)\n",
    "df.info()"
   ]
  },
  {
   "cell_type": "code",
   "execution_count": 122,
   "metadata": {
    "colab": {
     "base_uri": "https://localhost:8080/"
    },
    "id": "GvyJH8A8pAve",
    "outputId": "4bb107b6-cbd5-41d5-848c-c650bb8b386b"
   },
   "outputs": [],
   "source": [
    "# for all intents are purposes, you could probably remove the city_latitude and city_longitude now as well\n",
    "# this we might have to undo later, pending on how the geographic detail needs to be parsed, but let's drop it and we can correct if need be\n",
    "#df.drop(columns=['city_latitude','city_longitude'], inplace=True)\n",
    "#df.info()"
   ]
  },
  {
   "cell_type": "code",
   "execution_count": 123,
   "metadata": {
    "id": "EratjVd_rInz"
   },
   "outputs": [],
   "source": [
    "# so we now are only missing info in date_time, shape, stats, and posted. some of this we should be able to parse out of stats"
   ]
  },
  {
   "cell_type": "markdown",
   "metadata": {},
   "source": [
    "# Time"
   ]
  },
  {
   "cell_type": "code",
   "execution_count": 124,
   "metadata": {},
   "outputs": [],
   "source": [
    "# one of the thing that we will need to do is format the times,\n",
    "# this way we can get the delta between the time occurred and the time reported\n",
    "# this will act as a proxy for reliability, because as time passes,\n",
    "# the reporters memory of the event will degrade\n",
    "# right now, the times are strings, so we need to get them into datetime"
   ]
  },
  {
   "cell_type": "code",
   "execution_count": 125,
   "metadata": {},
   "outputs": [],
   "source": [
    "# we can start by convert the date_time into a naive datetime category\n",
    "# we are going to use naive, because we don't really want to deal with\n",
    "# having to determine the time zones and shifting all of them to UTC\n",
    "# really, as long as we are comparing times within the same time zone\n",
    "# it shouldn't matter the difference between 12 am and 2 pm is the same\n",
    "# regardless if it is UTC or EST or PST"
   ]
  },
  {
   "cell_type": "code",
   "execution_count": 126,
   "metadata": {},
   "outputs": [
    {
     "data": {
      "text/plain": [
       "'2019-12-12T18:43:00'"
      ]
     },
     "execution_count": 126,
     "metadata": {},
     "output_type": "execute_result"
    }
   ],
   "source": [
    "df['date_time'][0]"
   ]
  },
  {
   "cell_type": "code",
   "execution_count": 127,
   "metadata": {},
   "outputs": [
    {
     "data": {
      "text/plain": [
       "datetime.datetime(2019, 12, 12, 18, 43)"
      ]
     },
     "execution_count": 127,
     "metadata": {},
     "output_type": "execute_result"
    }
   ],
   "source": [
    "arrow.get(df['date_time'][0], 'YYYY-M-DTHH:mm:ss').naive"
   ]
  },
  {
   "cell_type": "code",
   "execution_count": 128,
   "metadata": {},
   "outputs": [],
   "source": [
    "def get_datetime_naive(arg):\n",
    "    try:\n",
    "        arg = arrow.get(arg,'YYYY-M-DTHH:mm:ss').naive\n",
    "        return arg\n",
    "    except TypeError:\n",
    "        return None"
   ]
  },
  {
   "cell_type": "code",
   "execution_count": 129,
   "metadata": {},
   "outputs": [
    {
     "data": {
      "text/plain": [
       "0   2019-12-12 18:43:00\n",
       "1   2019-03-22 18:30:00\n",
       "3   2019-04-17 02:00:00\n",
       "4   2009-03-15 18:00:00\n",
       "5   2019-04-02 20:25:00\n",
       "Name: date_time_2, dtype: datetime64[ns]"
      ]
     },
     "execution_count": 129,
     "metadata": {},
     "output_type": "execute_result"
    }
   ],
   "source": [
    "df['date_time_2'] = df.apply(lambda row: get_datetime_naive(row['date_time']), axis=1)\n",
    "df['date_time_2'].head()"
   ]
  },
  {
   "cell_type": "code",
   "execution_count": 130,
   "metadata": {},
   "outputs": [
    {
     "data": {
      "text/plain": [
       "0    2019-12-19 19:19:31\n",
       "1    2019-03-27 16:10:19\n",
       "3    2019-04-17 08:41:25\n",
       "4    2019-04-17 18:30:52\n",
       "5    2019-04-03 18:36:52\n",
       "Name: Reported_stats, dtype: object"
      ]
     },
     "execution_count": 130,
     "metadata": {},
     "output_type": "execute_result"
    }
   ],
   "source": [
    "df['Reported_stats'].head()"
   ]
  },
  {
   "cell_type": "code",
   "execution_count": 131,
   "metadata": {},
   "outputs": [
    {
     "data": {
      "text/plain": [
       "Timedelta('7 days 00:36:31')"
      ]
     },
     "execution_count": 131,
     "metadata": {},
     "output_type": "execute_result"
    }
   ],
   "source": [
    "df['Reported_stats'][0] - df['date_time_2'][0]"
   ]
  },
  {
   "cell_type": "code",
   "execution_count": 132,
   "metadata": {},
   "outputs": [],
   "source": [
    "def get_time_difference(datetime, reported):\n",
    "    try:\n",
    "        # added in correction for negative values\n",
    "        x = abs(reported - datetime)\n",
    "        return x\n",
    "    except TypeError:\n",
    "        return None\n",
    "        "
   ]
  },
  {
   "cell_type": "code",
   "execution_count": 133,
   "metadata": {},
   "outputs": [],
   "source": [
    "df['time_difference'] = df.apply(lambda row: get_time_difference(row['date_time_2'],row['Reported_stats']), axis=1)"
   ]
  },
  {
   "cell_type": "code",
   "execution_count": 134,
   "metadata": {},
   "outputs": [
    {
     "data": {
      "text/html": [
       "<div>\n",
       "<style scoped>\n",
       "    .dataframe tbody tr th:only-of-type {\n",
       "        vertical-align: middle;\n",
       "    }\n",
       "\n",
       "    .dataframe tbody tr th {\n",
       "        vertical-align: top;\n",
       "    }\n",
       "\n",
       "    .dataframe thead th {\n",
       "        text-align: right;\n",
       "    }\n",
       "</style>\n",
       "<table border=\"1\" class=\"dataframe\">\n",
       "  <thead>\n",
       "    <tr style=\"text-align: right;\">\n",
       "      <th></th>\n",
       "      <th>Text_ID</th>\n",
       "      <th>city</th>\n",
       "      <th>state</th>\n",
       "      <th>date_time</th>\n",
       "      <th>shape</th>\n",
       "      <th>stats</th>\n",
       "      <th>report_link</th>\n",
       "      <th>text</th>\n",
       "      <th>posted</th>\n",
       "      <th>city_latitude</th>\n",
       "      <th>city_longitude</th>\n",
       "      <th>Duration</th>\n",
       "      <th>summary_notes</th>\n",
       "      <th>text_notes</th>\n",
       "      <th>Reported_stats</th>\n",
       "      <th>city_state</th>\n",
       "      <th>coord</th>\n",
       "      <th>date_time_2</th>\n",
       "      <th>time_difference</th>\n",
       "    </tr>\n",
       "  </thead>\n",
       "  <tbody>\n",
       "    <tr>\n",
       "      <th>0</th>\n",
       "      <td>1.0</td>\n",
       "      <td>Chester</td>\n",
       "      <td>VA</td>\n",
       "      <td>2019-12-12T18:43:00</td>\n",
       "      <td>light</td>\n",
       "      <td>[Occurred : 12/12/2019 18:43  (Entered as : 12...</td>\n",
       "      <td>http://www.nuforc.org/webreports/151/S151739.html</td>\n",
       "      <td>wife driving southeast fairly populated main s...</td>\n",
       "      <td>2019-12-22T00:00:00</td>\n",
       "      <td>37.343152</td>\n",
       "      <td>-77.408582</td>\n",
       "      <td>seconds</td>\n",
       "      <td>[]</td>\n",
       "      <td>[]</td>\n",
       "      <td>2019-12-19 19:19:31</td>\n",
       "      <td>(Chester, VA)</td>\n",
       "      <td>(37.34315152, -77.40858182)</td>\n",
       "      <td>2019-12-12 18:43:00</td>\n",
       "      <td>7 days 00:36:31</td>\n",
       "    </tr>\n",
       "    <tr>\n",
       "      <th>1</th>\n",
       "      <td>2.0</td>\n",
       "      <td>Rocky Hill</td>\n",
       "      <td>CT</td>\n",
       "      <td>2019-03-22T18:30:00</td>\n",
       "      <td>circle</td>\n",
       "      <td>[Occurred : 3/22/2019 18:30  (Entered as : 03/...</td>\n",
       "      <td>http://www.nuforc.org/webreports/145/S145297.html</td>\n",
       "      <td>think may caught ufo nbc nightly news aired ma...</td>\n",
       "      <td>2019-03-29T00:00:00</td>\n",
       "      <td>41.664800</td>\n",
       "      <td>-72.639300</td>\n",
       "      <td>seconds</td>\n",
       "      <td>[]</td>\n",
       "      <td>[]</td>\n",
       "      <td>2019-03-27 16:10:19</td>\n",
       "      <td>(Rocky Hill, CT)</td>\n",
       "      <td>(41.6648, -72.6393)</td>\n",
       "      <td>2019-03-22 18:30:00</td>\n",
       "      <td>4 days 21:40:19</td>\n",
       "    </tr>\n",
       "    <tr>\n",
       "      <th>3</th>\n",
       "      <td>4.0</td>\n",
       "      <td>Ottawa</td>\n",
       "      <td>ON</td>\n",
       "      <td>2019-04-17T02:00:00</td>\n",
       "      <td>teardrop</td>\n",
       "      <td>[Occurred : 4/17/2019 02:00  (Entered as : 04-...</td>\n",
       "      <td>http://www.nuforc.org/webreports/145/S145697.html</td>\n",
       "      <td>driving towards intersection fallowfield eagle...</td>\n",
       "      <td>2019-04-18T00:00:00</td>\n",
       "      <td>45.381383</td>\n",
       "      <td>-75.708501</td>\n",
       "      <td>seconds</td>\n",
       "      <td>[]</td>\n",
       "      <td>[]</td>\n",
       "      <td>2019-04-17 08:41:25</td>\n",
       "      <td>(Ottawa, ON)</td>\n",
       "      <td>(45.3813825, -75.70850071)</td>\n",
       "      <td>2019-04-17 02:00:00</td>\n",
       "      <td>0 days 06:41:25</td>\n",
       "    </tr>\n",
       "    <tr>\n",
       "      <th>4</th>\n",
       "      <td>5.0</td>\n",
       "      <td>Peoria</td>\n",
       "      <td>NY</td>\n",
       "      <td>2009-03-15T18:00:00</td>\n",
       "      <td>cigar</td>\n",
       "      <td>[Occurred : 3/15/2009 18:00  (Entered as : 03/...</td>\n",
       "      <td>http://www.nuforc.org/webreports/145/S145723.html</td>\n",
       "      <td>peoria arizona saw cigar shaped craft floating...</td>\n",
       "      <td>2019-04-18T00:00:00</td>\n",
       "      <td>NaN</td>\n",
       "      <td>NaN</td>\n",
       "      <td>minutes</td>\n",
       "      <td>[]</td>\n",
       "      <td>[]</td>\n",
       "      <td>2019-04-17 18:30:52</td>\n",
       "      <td>(Peoria, NY)</td>\n",
       "      <td>(nan, nan)</td>\n",
       "      <td>2009-03-15 18:00:00</td>\n",
       "      <td>3685 days 00:30:52</td>\n",
       "    </tr>\n",
       "    <tr>\n",
       "      <th>5</th>\n",
       "      <td>6.0</td>\n",
       "      <td>Kirbyville</td>\n",
       "      <td>TX</td>\n",
       "      <td>2019-04-02T20:25:00</td>\n",
       "      <td>disk</td>\n",
       "      <td>[Occurred : 4/2/2019 20:25  (Entered as : 04/0...</td>\n",
       "      <td>http://www.nuforc.org/webreports/145/S145476.html</td>\n",
       "      <td>object flashing light green blue red white lig...</td>\n",
       "      <td>2019-04-08T00:00:00</td>\n",
       "      <td>30.677200</td>\n",
       "      <td>-94.005200</td>\n",
       "      <td>minutes</td>\n",
       "      <td>[]</td>\n",
       "      <td>[((ADDENDUM FROM WITNESS)), ((END ADDENDUM)), ...</td>\n",
       "      <td>2019-04-03 18:36:52</td>\n",
       "      <td>(Kirbyville, TX)</td>\n",
       "      <td>(30.6772, -94.0052)</td>\n",
       "      <td>2019-04-02 20:25:00</td>\n",
       "      <td>0 days 22:11:52</td>\n",
       "    </tr>\n",
       "  </tbody>\n",
       "</table>\n",
       "</div>"
      ],
      "text/plain": [
       "   Text_ID        city state            date_time     shape  \\\n",
       "0      1.0     Chester    VA  2019-12-12T18:43:00     light   \n",
       "1      2.0  Rocky Hill    CT  2019-03-22T18:30:00    circle   \n",
       "3      4.0      Ottawa    ON  2019-04-17T02:00:00  teardrop   \n",
       "4      5.0      Peoria    NY  2009-03-15T18:00:00     cigar   \n",
       "5      6.0  Kirbyville    TX  2019-04-02T20:25:00      disk   \n",
       "\n",
       "                                               stats  \\\n",
       "0  [Occurred : 12/12/2019 18:43  (Entered as : 12...   \n",
       "1  [Occurred : 3/22/2019 18:30  (Entered as : 03/...   \n",
       "3  [Occurred : 4/17/2019 02:00  (Entered as : 04-...   \n",
       "4  [Occurred : 3/15/2009 18:00  (Entered as : 03/...   \n",
       "5  [Occurred : 4/2/2019 20:25  (Entered as : 04/0...   \n",
       "\n",
       "                                         report_link  \\\n",
       "0  http://www.nuforc.org/webreports/151/S151739.html   \n",
       "1  http://www.nuforc.org/webreports/145/S145297.html   \n",
       "3  http://www.nuforc.org/webreports/145/S145697.html   \n",
       "4  http://www.nuforc.org/webreports/145/S145723.html   \n",
       "5  http://www.nuforc.org/webreports/145/S145476.html   \n",
       "\n",
       "                                                text               posted  \\\n",
       "0  wife driving southeast fairly populated main s...  2019-12-22T00:00:00   \n",
       "1  think may caught ufo nbc nightly news aired ma...  2019-03-29T00:00:00   \n",
       "3  driving towards intersection fallowfield eagle...  2019-04-18T00:00:00   \n",
       "4  peoria arizona saw cigar shaped craft floating...  2019-04-18T00:00:00   \n",
       "5  object flashing light green blue red white lig...  2019-04-08T00:00:00   \n",
       "\n",
       "   city_latitude  city_longitude Duration summary_notes  \\\n",
       "0      37.343152      -77.408582  seconds            []   \n",
       "1      41.664800      -72.639300  seconds            []   \n",
       "3      45.381383      -75.708501  seconds            []   \n",
       "4            NaN             NaN  minutes            []   \n",
       "5      30.677200      -94.005200  minutes            []   \n",
       "\n",
       "                                          text_notes       Reported_stats  \\\n",
       "0                                                 []  2019-12-19 19:19:31   \n",
       "1                                                 []  2019-03-27 16:10:19   \n",
       "3                                                 []  2019-04-17 08:41:25   \n",
       "4                                                 []  2019-04-17 18:30:52   \n",
       "5  [((ADDENDUM FROM WITNESS)), ((END ADDENDUM)), ...  2019-04-03 18:36:52   \n",
       "\n",
       "         city_state                        coord         date_time_2  \\\n",
       "0     (Chester, VA)  (37.34315152, -77.40858182) 2019-12-12 18:43:00   \n",
       "1  (Rocky Hill, CT)          (41.6648, -72.6393) 2019-03-22 18:30:00   \n",
       "3      (Ottawa, ON)   (45.3813825, -75.70850071) 2019-04-17 02:00:00   \n",
       "4      (Peoria, NY)                   (nan, nan) 2009-03-15 18:00:00   \n",
       "5  (Kirbyville, TX)          (30.6772, -94.0052) 2019-04-02 20:25:00   \n",
       "\n",
       "     time_difference  \n",
       "0    7 days 00:36:31  \n",
       "1    4 days 21:40:19  \n",
       "3    0 days 06:41:25  \n",
       "4 3685 days 00:30:52  \n",
       "5    0 days 22:11:52  "
      ]
     },
     "execution_count": 134,
     "metadata": {},
     "output_type": "execute_result"
    }
   ],
   "source": [
    "df.head()"
   ]
  },
  {
   "cell_type": "code",
   "execution_count": 135,
   "metadata": {},
   "outputs": [],
   "source": [
    "# now we want to determine what bins we can put them in\n",
    "# the general idea is that the longer it takes, the less reliable\n",
    "# therefore, if it is less than a day its pretty good\n",
    "# if in a couple days good\n",
    "# if in a couple months okay\n",
    "# if in a couple years skeptical\n",
    "# "
   ]
  },
  {
   "cell_type": "code",
   "execution_count": 136,
   "metadata": {},
   "outputs": [
    {
     "data": {
      "text/plain": [
       "count                           79092\n",
       "mean      699 days 07:08:23.574735752\n",
       "std      2195 days 03:29:11.743303328\n",
       "min                   0 days 00:01:27\n",
       "25%           39 days 17:00:24.750000\n",
       "50%                 112 days 15:07:49\n",
       "75%          247 days 11:02:48.250000\n",
       "max               18391 days 06:38:02\n",
       "Name: time_difference, dtype: object"
      ]
     },
     "execution_count": 136,
     "metadata": {},
     "output_type": "execute_result"
    }
   ],
   "source": [
    "df['time_difference'].describe()"
   ]
  },
  {
   "cell_type": "code",
   "execution_count": 137,
   "metadata": {},
   "outputs": [],
   "source": [
    "# interesting, we have some that are below 0\n",
    "# this is odd because reported should be after the incident occurred\n",
    "# we also have some NaNs, maybe that is having an impact\n",
    "#df_time_difference = df['time_difference'].copy()\n",
    "#df_time_difference"
   ]
  },
  {
   "cell_type": "code",
   "execution_count": 138,
   "metadata": {},
   "outputs": [],
   "source": [
    "#df_time_difference.value_counts()"
   ]
  },
  {
   "cell_type": "code",
   "execution_count": 139,
   "metadata": {},
   "outputs": [
    {
     "data": {
      "text/html": [
       "<div>\n",
       "<style scoped>\n",
       "    .dataframe tbody tr th:only-of-type {\n",
       "        vertical-align: middle;\n",
       "    }\n",
       "\n",
       "    .dataframe tbody tr th {\n",
       "        vertical-align: top;\n",
       "    }\n",
       "\n",
       "    .dataframe thead th {\n",
       "        text-align: right;\n",
       "    }\n",
       "</style>\n",
       "<table border=\"1\" class=\"dataframe\">\n",
       "  <thead>\n",
       "    <tr style=\"text-align: right;\">\n",
       "      <th></th>\n",
       "      <th>Text_ID</th>\n",
       "      <th>city</th>\n",
       "      <th>state</th>\n",
       "      <th>date_time</th>\n",
       "      <th>shape</th>\n",
       "      <th>stats</th>\n",
       "      <th>report_link</th>\n",
       "      <th>text</th>\n",
       "      <th>posted</th>\n",
       "      <th>city_latitude</th>\n",
       "      <th>city_longitude</th>\n",
       "      <th>Duration</th>\n",
       "      <th>summary_notes</th>\n",
       "      <th>text_notes</th>\n",
       "      <th>Reported_stats</th>\n",
       "      <th>city_state</th>\n",
       "      <th>coord</th>\n",
       "      <th>date_time_2</th>\n",
       "      <th>time_difference</th>\n",
       "    </tr>\n",
       "  </thead>\n",
       "  <tbody>\n",
       "  </tbody>\n",
       "</table>\n",
       "</div>"
      ],
      "text/plain": [
       "Empty DataFrame\n",
       "Columns: [Text_ID, city, state, date_time, shape, stats, report_link, text, posted, city_latitude, city_longitude, Duration, summary_notes, text_notes, Reported_stats, city_state, coord, date_time_2, time_difference]\n",
       "Index: []"
      ]
     },
     "execution_count": 139,
     "metadata": {},
     "output_type": "execute_result"
    }
   ],
   "source": [
    "from datetime import timedelta\n",
    "df[df['time_difference'] <= timedelta(days=0,seconds=0,minutes=0,hours=0)]"
   ]
  },
  {
   "cell_type": "code",
   "execution_count": 140,
   "metadata": {},
   "outputs": [],
   "source": [
    "# okay, so looking at the instances, it is clearly possible that reported before datetime\n",
    "# we have a decision to make, we could either ignore those instances\n",
    "# or we can use the absolute value, this would give us time without direction\n",
    "# this could be helpful, because it guages the difference and allows for some errors in time entering\n",
    "# if say the difference between the occurred and reported is an hour and it's negative\n",
    "# then its hard to say that its automatically incorrect, for all we know the times could be entered in the wrong spot\n",
    "#df_time_difference = abs(df_time_difference)\n",
    "#df_time_difference.describe()"
   ]
  },
  {
   "cell_type": "code",
   "execution_count": 141,
   "metadata": {},
   "outputs": [],
   "source": [
    "bins = [\n",
    "    pd.Timedelta(hours=0),\n",
    "    pd.Timedelta(hours=24),\n",
    "    pd.Timedelta(days=7),\n",
    "    pd.Timedelta(days=31),\n",
    "    pd.Timedelta(days=365),\n",
    "    pd.Timedelta(days=20000)\n",
    "]\n"
   ]
  },
  {
   "cell_type": "code",
   "execution_count": 142,
   "metadata": {},
   "outputs": [],
   "source": [
    "labels = ['hours','days','weeks','months','years']"
   ]
  },
  {
   "cell_type": "code",
   "execution_count": 143,
   "metadata": {},
   "outputs": [
    {
     "data": {
      "text/plain": [
       "0        weeks\n",
       "1         days\n",
       "3        hours\n",
       "4        years\n",
       "5        hours\n",
       "         ...  \n",
       "88119      NaN\n",
       "88120      NaN\n",
       "88121      NaN\n",
       "88122      NaN\n",
       "88123      NaN\n",
       "Name: reporting_lag, Length: 81460, dtype: category\n",
       "Categories (5, object): ['hours' < 'days' < 'weeks' < 'months' < 'years']"
      ]
     },
     "execution_count": 143,
     "metadata": {},
     "output_type": "execute_result"
    }
   ],
   "source": [
    "df['reporting_lag'] = pd.cut(df['time_difference'], bins, labels=labels)\n",
    "df['reporting_lag']"
   ]
  },
  {
   "cell_type": "code",
   "execution_count": 144,
   "metadata": {},
   "outputs": [
    {
     "data": {
      "text/plain": [
       "0          7 days 00:36:31\n",
       "1          4 days 21:40:19\n",
       "3          0 days 06:41:25\n",
       "4       3685 days 00:30:52\n",
       "5          0 days 22:11:52\n",
       "               ...        \n",
       "88119                  NaT\n",
       "88120                  NaT\n",
       "88121                  NaT\n",
       "88122                  NaT\n",
       "88123                  NaT\n",
       "Name: time_difference, Length: 81460, dtype: timedelta64[ns]"
      ]
     },
     "execution_count": 144,
     "metadata": {},
     "output_type": "execute_result"
    }
   ],
   "source": [
    "df['time_difference']"
   ]
  },
  {
   "cell_type": "code",
   "execution_count": 145,
   "metadata": {},
   "outputs": [],
   "source": [
    "# we have our bins for reliability"
   ]
  },
  {
   "cell_type": "markdown",
   "metadata": {
    "id": "o3vW14mSc6q_"
   },
   "source": [
    "# Shape"
   ]
  },
  {
   "cell_type": "code",
   "execution_count": 146,
   "metadata": {
    "id": "yn63w4Hoc94Y"
   },
   "outputs": [],
   "source": [
    "df_explore = df[df['shape'].isnull() == True]"
   ]
  },
  {
   "cell_type": "code",
   "execution_count": 147,
   "metadata": {
    "colab": {
     "base_uri": "https://localhost:8080/",
     "height": 206
    },
    "id": "37VFy2VQdlyW",
    "outputId": "57e74084-951a-4117-afef-c81d37ea4a9f"
   },
   "outputs": [
    {
     "data": {
      "text/html": [
       "<div>\n",
       "<style scoped>\n",
       "    .dataframe tbody tr th:only-of-type {\n",
       "        vertical-align: middle;\n",
       "    }\n",
       "\n",
       "    .dataframe tbody tr th {\n",
       "        vertical-align: top;\n",
       "    }\n",
       "\n",
       "    .dataframe thead th {\n",
       "        text-align: right;\n",
       "    }\n",
       "</style>\n",
       "<table border=\"1\" class=\"dataframe\">\n",
       "  <thead>\n",
       "    <tr style=\"text-align: right;\">\n",
       "      <th></th>\n",
       "      <th>Text_ID</th>\n",
       "      <th>city</th>\n",
       "      <th>state</th>\n",
       "      <th>date_time</th>\n",
       "      <th>shape</th>\n",
       "      <th>stats</th>\n",
       "      <th>report_link</th>\n",
       "      <th>text</th>\n",
       "      <th>posted</th>\n",
       "      <th>city_latitude</th>\n",
       "      <th>city_longitude</th>\n",
       "      <th>Duration</th>\n",
       "      <th>summary_notes</th>\n",
       "      <th>text_notes</th>\n",
       "      <th>Reported_stats</th>\n",
       "      <th>city_state</th>\n",
       "      <th>coord</th>\n",
       "      <th>date_time_2</th>\n",
       "      <th>time_difference</th>\n",
       "      <th>reporting_lag</th>\n",
       "    </tr>\n",
       "  </thead>\n",
       "  <tbody>\n",
       "    <tr>\n",
       "      <th>25</th>\n",
       "      <td>26.0</td>\n",
       "      <td>Clarksville</td>\n",
       "      <td>TN</td>\n",
       "      <td>2019-07-25T19:06:00</td>\n",
       "      <td>NaN</td>\n",
       "      <td>[Occurred : 7/25/2019 19:06  (Entered as : 07/...</td>\n",
       "      <td>http://www.nuforc.org/webreports/147/S147963.html</td>\n",
       "      <td>madar node 138</td>\n",
       "      <td>2019-08-23T00:00:00</td>\n",
       "      <td>36.515158</td>\n",
       "      <td>-87.361034</td>\n",
       "      <td>Unknown</td>\n",
       "      <td>[]</td>\n",
       "      <td>[]</td>\n",
       "      <td>2019-08-01 07:52:28</td>\n",
       "      <td>(Clarksville, TN)</td>\n",
       "      <td>(36.51515837, -87.36103416)</td>\n",
       "      <td>2019-07-25 19:06:00</td>\n",
       "      <td>6 days 12:46:28</td>\n",
       "      <td>days</td>\n",
       "    </tr>\n",
       "    <tr>\n",
       "      <th>158</th>\n",
       "      <td>159.0</td>\n",
       "      <td>Hillsboro</td>\n",
       "      <td>OR</td>\n",
       "      <td>1994-07-15T12:00:00</td>\n",
       "      <td>NaN</td>\n",
       "      <td>[Occurred : 7/15/1994 12:00  (Entered as : 07/...</td>\n",
       "      <td>http://www.nuforc.org/webreports/049/S49581.html</td>\n",
       "      <td>driving busy street hillsboroan acorn shaped c...</td>\n",
       "      <td>2006-05-15T00:00:00</td>\n",
       "      <td>45.534644</td>\n",
       "      <td>-122.931191</td>\n",
       "      <td>minutes</td>\n",
       "      <td>[]</td>\n",
       "      <td>[((NUFORC Note:  Witness indicates that the da...</td>\n",
       "      <td>2006-03-12 14:05:13</td>\n",
       "      <td>(Hillsboro, OR)</td>\n",
       "      <td>(45.53464439, -122.9311911)</td>\n",
       "      <td>1994-07-15 12:00:00</td>\n",
       "      <td>4258 days 02:05:13</td>\n",
       "      <td>years</td>\n",
       "    </tr>\n",
       "    <tr>\n",
       "      <th>195</th>\n",
       "      <td>196.0</td>\n",
       "      <td>Concord</td>\n",
       "      <td>NH</td>\n",
       "      <td>2019-03-12T16:03:00</td>\n",
       "      <td>NaN</td>\n",
       "      <td>[Occurred : 3/12/2019 16:03  (Entered as : 03/...</td>\n",
       "      <td>http://www.nuforc.org/webreports/145/S145268.html</td>\n",
       "      <td>madar node 110</td>\n",
       "      <td>2019-03-21T00:00:00</td>\n",
       "      <td>43.256711</td>\n",
       "      <td>-71.571647</td>\n",
       "      <td>Unknown</td>\n",
       "      <td>[]</td>\n",
       "      <td>[]</td>\n",
       "      <td>2019-03-20 13:40:11</td>\n",
       "      <td>(Concord, NH)</td>\n",
       "      <td>(43.25671066, -71.57164713)</td>\n",
       "      <td>2019-03-12 16:03:00</td>\n",
       "      <td>7 days 21:37:11</td>\n",
       "      <td>weeks</td>\n",
       "    </tr>\n",
       "    <tr>\n",
       "      <th>196</th>\n",
       "      <td>197.0</td>\n",
       "      <td>Concord</td>\n",
       "      <td>NH</td>\n",
       "      <td>2019-03-13T17:02:00</td>\n",
       "      <td>NaN</td>\n",
       "      <td>[Occurred : 3/13/2019 17:02  (Entered as : 03/...</td>\n",
       "      <td>http://www.nuforc.org/webreports/145/S145267.html</td>\n",
       "      <td>madar node 110</td>\n",
       "      <td>2019-03-21T00:00:00</td>\n",
       "      <td>43.256711</td>\n",
       "      <td>-71.571647</td>\n",
       "      <td>Unknown</td>\n",
       "      <td>[]</td>\n",
       "      <td>[]</td>\n",
       "      <td>2019-03-14 01:41:34</td>\n",
       "      <td>(Concord, NH)</td>\n",
       "      <td>(43.25671066, -71.57164713)</td>\n",
       "      <td>2019-03-13 17:02:00</td>\n",
       "      <td>0 days 08:39:34</td>\n",
       "      <td>hours</td>\n",
       "    </tr>\n",
       "    <tr>\n",
       "      <th>198</th>\n",
       "      <td>199.0</td>\n",
       "      <td>Harrison</td>\n",
       "      <td>NJ</td>\n",
       "      <td>2019-03-14T08:51:00</td>\n",
       "      <td>NaN</td>\n",
       "      <td>[Occurred : 3/14/2019 08:51  (Entered as : 03/...</td>\n",
       "      <td>http://www.nuforc.org/webreports/145/S145271.html</td>\n",
       "      <td>madar node 121</td>\n",
       "      <td>2019-03-21T00:00:00</td>\n",
       "      <td>40.744100</td>\n",
       "      <td>-74.143500</td>\n",
       "      <td>Unknown</td>\n",
       "      <td>[]</td>\n",
       "      <td>[]</td>\n",
       "      <td>2019-03-20 13:31:36</td>\n",
       "      <td>(Harrison, NJ)</td>\n",
       "      <td>(40.7441, -74.1435)</td>\n",
       "      <td>2019-03-14 08:51:00</td>\n",
       "      <td>6 days 04:40:36</td>\n",
       "      <td>days</td>\n",
       "    </tr>\n",
       "  </tbody>\n",
       "</table>\n",
       "</div>"
      ],
      "text/plain": [
       "     Text_ID         city state            date_time shape  \\\n",
       "25      26.0  Clarksville    TN  2019-07-25T19:06:00   NaN   \n",
       "158    159.0    Hillsboro    OR  1994-07-15T12:00:00   NaN   \n",
       "195    196.0      Concord    NH  2019-03-12T16:03:00   NaN   \n",
       "196    197.0      Concord    NH  2019-03-13T17:02:00   NaN   \n",
       "198    199.0     Harrison    NJ  2019-03-14T08:51:00   NaN   \n",
       "\n",
       "                                                 stats  \\\n",
       "25   [Occurred : 7/25/2019 19:06  (Entered as : 07/...   \n",
       "158  [Occurred : 7/15/1994 12:00  (Entered as : 07/...   \n",
       "195  [Occurred : 3/12/2019 16:03  (Entered as : 03/...   \n",
       "196  [Occurred : 3/13/2019 17:02  (Entered as : 03/...   \n",
       "198  [Occurred : 3/14/2019 08:51  (Entered as : 03/...   \n",
       "\n",
       "                                           report_link  \\\n",
       "25   http://www.nuforc.org/webreports/147/S147963.html   \n",
       "158   http://www.nuforc.org/webreports/049/S49581.html   \n",
       "195  http://www.nuforc.org/webreports/145/S145268.html   \n",
       "196  http://www.nuforc.org/webreports/145/S145267.html   \n",
       "198  http://www.nuforc.org/webreports/145/S145271.html   \n",
       "\n",
       "                                                  text               posted  \\\n",
       "25                                      madar node 138  2019-08-23T00:00:00   \n",
       "158  driving busy street hillsboroan acorn shaped c...  2006-05-15T00:00:00   \n",
       "195                                     madar node 110  2019-03-21T00:00:00   \n",
       "196                                     madar node 110  2019-03-21T00:00:00   \n",
       "198                                     madar node 121  2019-03-21T00:00:00   \n",
       "\n",
       "     city_latitude  city_longitude Duration summary_notes  \\\n",
       "25       36.515158      -87.361034  Unknown            []   \n",
       "158      45.534644     -122.931191  minutes            []   \n",
       "195      43.256711      -71.571647  Unknown            []   \n",
       "196      43.256711      -71.571647  Unknown            []   \n",
       "198      40.744100      -74.143500  Unknown            []   \n",
       "\n",
       "                                            text_notes       Reported_stats  \\\n",
       "25                                                  []  2019-08-01 07:52:28   \n",
       "158  [((NUFORC Note:  Witness indicates that the da...  2006-03-12 14:05:13   \n",
       "195                                                 []  2019-03-20 13:40:11   \n",
       "196                                                 []  2019-03-14 01:41:34   \n",
       "198                                                 []  2019-03-20 13:31:36   \n",
       "\n",
       "            city_state                        coord         date_time_2  \\\n",
       "25   (Clarksville, TN)  (36.51515837, -87.36103416) 2019-07-25 19:06:00   \n",
       "158    (Hillsboro, OR)  (45.53464439, -122.9311911) 1994-07-15 12:00:00   \n",
       "195      (Concord, NH)  (43.25671066, -71.57164713) 2019-03-12 16:03:00   \n",
       "196      (Concord, NH)  (43.25671066, -71.57164713) 2019-03-13 17:02:00   \n",
       "198     (Harrison, NJ)          (40.7441, -74.1435) 2019-03-14 08:51:00   \n",
       "\n",
       "       time_difference reporting_lag  \n",
       "25     6 days 12:46:28          days  \n",
       "158 4258 days 02:05:13         years  \n",
       "195    7 days 21:37:11         weeks  \n",
       "196    0 days 08:39:34         hours  \n",
       "198    6 days 04:40:36          days  "
      ]
     },
     "execution_count": 147,
     "metadata": {},
     "output_type": "execute_result"
    }
   ],
   "source": [
    "df_explore.head()"
   ]
  },
  {
   "cell_type": "code",
   "execution_count": 148,
   "metadata": {
    "colab": {
     "base_uri": "https://localhost:8080/"
    },
    "id": "QgpLy_rxdOsZ",
    "outputId": "7c314fcd-42df-45b2-8307-416a21f318fa"
   },
   "outputs": [
    {
     "data": {
      "text/plain": [
       "['Occurred : 3/14/2019 08:51  (Entered as : 03/14/19 08:51)',\n",
       " 'Reported: 3/20/2019 1:26:05 PM 13:26',\n",
       " 'Posted: 3/21/2019',\n",
       " 'Location: Harrison, NJ',\n",
       " 'Shape: ',\n",
       " 'Duration: ']"
      ]
     },
     "execution_count": 148,
     "metadata": {},
     "output_type": "execute_result"
    }
   ],
   "source": [
    "df_explore['stats'][198]"
   ]
  },
  {
   "cell_type": "code",
   "execution_count": 149,
   "metadata": {
    "id": "fIwd9qXimOT3"
   },
   "outputs": [],
   "source": [
    "# looks like if we are missing the shape there isn't much we can do about it\n",
    "# one option is to see if the shape is in the text and pull it out?"
   ]
  },
  {
   "cell_type": "markdown",
   "metadata": {
    "id": "1zpZMUskp04c"
   },
   "source": [
    "# Air Bases"
   ]
  },
  {
   "cell_type": "code",
   "execution_count": 153,
   "metadata": {
    "id": "gHHsU9JM-CZd"
   },
   "outputs": [],
   "source": [
    "#Lets add some air base data for US\n",
    "#air_bases = pd.read_csv(\"C:/Users/abhis\\Documents/feature-eng/data/UFO/airforce_bases_usa.csv\")\n",
    "air_bases = pd.read_csv(\"/Users/rahimjiwa/Documents/Github/feature-engineering/data/UFO/airforce_bases_usa.csv\")\n",
    "# This data is for getting the state codes added to the air bases file\n",
    "#state_code_names = pd.read_csv(\"C:/Users/abhis/Documents/feature-eng/data/UFO/state_code_names.csv\")\n",
    "state_code_names = pd.read_csv(\"/Users/rahimjiwa/Documents/Github/feature-engineering/data/UFO/state_code_names.csv\")"
   ]
  },
  {
   "cell_type": "code",
   "execution_count": 154,
   "metadata": {
    "colab": {
     "base_uri": "https://localhost:8080/",
     "height": 206
    },
    "id": "o0vrHXBO-F6y",
    "outputId": "3743da2b-fe49-4016-a777-c6da66ea4b93"
   },
   "outputs": [
    {
     "data": {
      "text/html": [
       "<div>\n",
       "<style scoped>\n",
       "    .dataframe tbody tr th:only-of-type {\n",
       "        vertical-align: middle;\n",
       "    }\n",
       "\n",
       "    .dataframe tbody tr th {\n",
       "        vertical-align: top;\n",
       "    }\n",
       "\n",
       "    .dataframe thead th {\n",
       "        text-align: right;\n",
       "    }\n",
       "</style>\n",
       "<table border=\"1\" class=\"dataframe\">\n",
       "  <thead>\n",
       "    <tr style=\"text-align: right;\">\n",
       "      <th></th>\n",
       "      <th>NAME</th>\n",
       "      <th>LOCATION</th>\n",
       "      <th>STATE</th>\n",
       "      <th>COORDINATES</th>\n",
       "      <th>Unnamed: 4</th>\n",
       "    </tr>\n",
       "  </thead>\n",
       "  <tbody>\n",
       "    <tr>\n",
       "      <th>0</th>\n",
       "      <td>Abston Air National Guard Station</td>\n",
       "      <td>Montgomery</td>\n",
       "      <td>Alabama</td>\n",
       "      <td>32°21′22″N 086°20′48″W</td>\n",
       "      <td>NaN</td>\n",
       "    </tr>\n",
       "    <tr>\n",
       "      <th>1</th>\n",
       "      <td>Atlantic City Air National Guard Base</td>\n",
       "      <td>Atlantic City</td>\n",
       "      <td>New Jersey</td>\n",
       "      <td>39°26′53″N 074°34′54″W</td>\n",
       "      <td>NaN</td>\n",
       "    </tr>\n",
       "    <tr>\n",
       "      <th>2</th>\n",
       "      <td>Bangor Air National Guard Base</td>\n",
       "      <td>Bangor</td>\n",
       "      <td>Maine</td>\n",
       "      <td>44°48′51″N 068°49′51″W</td>\n",
       "      <td>NaN</td>\n",
       "    </tr>\n",
       "    <tr>\n",
       "      <th>3</th>\n",
       "      <td>Barnes Air National Guard Base</td>\n",
       "      <td>Westfield</td>\n",
       "      <td>Massachusetts</td>\n",
       "      <td>42°09′56″N 072°43′14″W</td>\n",
       "      <td>NaN</td>\n",
       "    </tr>\n",
       "    <tr>\n",
       "      <th>4</th>\n",
       "      <td>Battle Creek Air National Guard Base</td>\n",
       "      <td>Springfield</td>\n",
       "      <td>Michigan</td>\n",
       "      <td>42°18′26.2″N 85°15′05.3″W</td>\n",
       "      <td>NaN</td>\n",
       "    </tr>\n",
       "  </tbody>\n",
       "</table>\n",
       "</div>"
      ],
      "text/plain": [
       "                                    NAME       LOCATION          STATE  \\\n",
       "0      Abston Air National Guard Station     Montgomery        Alabama   \n",
       "1  Atlantic City Air National Guard Base  Atlantic City     New Jersey   \n",
       "2         Bangor Air National Guard Base         Bangor          Maine   \n",
       "3         Barnes Air National Guard Base      Westfield  Massachusetts   \n",
       "4   Battle Creek Air National Guard Base    Springfield       Michigan   \n",
       "\n",
       "                 COORDINATES  Unnamed: 4  \n",
       "0     32°21′22″N 086°20′48″W         NaN  \n",
       "1     39°26′53″N 074°34′54″W         NaN  \n",
       "2     44°48′51″N 068°49′51″W         NaN  \n",
       "3     42°09′56″N 072°43′14″W         NaN  \n",
       "4  42°18′26.2″N 85°15′05.3″W         NaN  "
      ]
     },
     "execution_count": 154,
     "metadata": {},
     "output_type": "execute_result"
    }
   ],
   "source": [
    "air_bases.head()"
   ]
  },
  {
   "cell_type": "code",
   "execution_count": 155,
   "metadata": {
    "colab": {
     "base_uri": "https://localhost:8080/",
     "height": 206
    },
    "id": "K18bw-lmAGgX",
    "outputId": "f5e3084d-80c0-4463-acdf-9858b7f5fdb7"
   },
   "outputs": [
    {
     "data": {
      "text/html": [
       "<div>\n",
       "<style scoped>\n",
       "    .dataframe tbody tr th:only-of-type {\n",
       "        vertical-align: middle;\n",
       "    }\n",
       "\n",
       "    .dataframe tbody tr th {\n",
       "        vertical-align: top;\n",
       "    }\n",
       "\n",
       "    .dataframe thead th {\n",
       "        text-align: right;\n",
       "    }\n",
       "</style>\n",
       "<table border=\"1\" class=\"dataframe\">\n",
       "  <thead>\n",
       "    <tr style=\"text-align: right;\">\n",
       "      <th></th>\n",
       "      <th>state_cd</th>\n",
       "      <th>name</th>\n",
       "    </tr>\n",
       "  </thead>\n",
       "  <tbody>\n",
       "    <tr>\n",
       "      <th>0</th>\n",
       "      <td>AA</td>\n",
       "      <td>Armed Forces America</td>\n",
       "    </tr>\n",
       "    <tr>\n",
       "      <th>1</th>\n",
       "      <td>AE</td>\n",
       "      <td>Armed Forces</td>\n",
       "    </tr>\n",
       "    <tr>\n",
       "      <th>2</th>\n",
       "      <td>AK</td>\n",
       "      <td>Alaska</td>\n",
       "    </tr>\n",
       "    <tr>\n",
       "      <th>3</th>\n",
       "      <td>AL</td>\n",
       "      <td>Alabama</td>\n",
       "    </tr>\n",
       "    <tr>\n",
       "      <th>4</th>\n",
       "      <td>AP</td>\n",
       "      <td>Armed Forces Pacific</td>\n",
       "    </tr>\n",
       "  </tbody>\n",
       "</table>\n",
       "</div>"
      ],
      "text/plain": [
       "  state_cd                  name\n",
       "0       AA  Armed Forces America\n",
       "1       AE          Armed Forces\n",
       "2       AK                Alaska\n",
       "3       AL               Alabama\n",
       "4       AP  Armed Forces Pacific"
      ]
     },
     "execution_count": 155,
     "metadata": {},
     "output_type": "execute_result"
    }
   ],
   "source": [
    "state_code_names.head()"
   ]
  },
  {
   "cell_type": "code",
   "execution_count": 156,
   "metadata": {
    "id": "NSW1mck_EFQG"
   },
   "outputs": [],
   "source": [
    "state_code_names = state_code_names.rename(columns={'name': 'state'})"
   ]
  },
  {
   "cell_type": "code",
   "execution_count": 157,
   "metadata": {
    "id": "v1IRawF1JmrY"
   },
   "outputs": [],
   "source": [
    "air_bases = air_bases.rename(columns={'STATE': 'state'})"
   ]
  },
  {
   "cell_type": "code",
   "execution_count": 158,
   "metadata": {
    "colab": {
     "base_uri": "https://localhost:8080/",
     "height": 206
    },
    "id": "3v_6wN2rJxt8",
    "outputId": "5accc4ad-4ad6-4846-e47a-cf12d34b407a"
   },
   "outputs": [
    {
     "data": {
      "text/html": [
       "<div>\n",
       "<style scoped>\n",
       "    .dataframe tbody tr th:only-of-type {\n",
       "        vertical-align: middle;\n",
       "    }\n",
       "\n",
       "    .dataframe tbody tr th {\n",
       "        vertical-align: top;\n",
       "    }\n",
       "\n",
       "    .dataframe thead th {\n",
       "        text-align: right;\n",
       "    }\n",
       "</style>\n",
       "<table border=\"1\" class=\"dataframe\">\n",
       "  <thead>\n",
       "    <tr style=\"text-align: right;\">\n",
       "      <th></th>\n",
       "      <th>NAME</th>\n",
       "      <th>LOCATION</th>\n",
       "      <th>state</th>\n",
       "      <th>COORDINATES</th>\n",
       "      <th>Unnamed: 4</th>\n",
       "    </tr>\n",
       "  </thead>\n",
       "  <tbody>\n",
       "    <tr>\n",
       "      <th>0</th>\n",
       "      <td>Abston Air National Guard Station</td>\n",
       "      <td>Montgomery</td>\n",
       "      <td>Alabama</td>\n",
       "      <td>32°21′22″N 086°20′48″W</td>\n",
       "      <td>NaN</td>\n",
       "    </tr>\n",
       "    <tr>\n",
       "      <th>1</th>\n",
       "      <td>Atlantic City Air National Guard Base</td>\n",
       "      <td>Atlantic City</td>\n",
       "      <td>New Jersey</td>\n",
       "      <td>39°26′53″N 074°34′54″W</td>\n",
       "      <td>NaN</td>\n",
       "    </tr>\n",
       "    <tr>\n",
       "      <th>2</th>\n",
       "      <td>Bangor Air National Guard Base</td>\n",
       "      <td>Bangor</td>\n",
       "      <td>Maine</td>\n",
       "      <td>44°48′51″N 068°49′51″W</td>\n",
       "      <td>NaN</td>\n",
       "    </tr>\n",
       "    <tr>\n",
       "      <th>3</th>\n",
       "      <td>Barnes Air National Guard Base</td>\n",
       "      <td>Westfield</td>\n",
       "      <td>Massachusetts</td>\n",
       "      <td>42°09′56″N 072°43′14″W</td>\n",
       "      <td>NaN</td>\n",
       "    </tr>\n",
       "    <tr>\n",
       "      <th>4</th>\n",
       "      <td>Battle Creek Air National Guard Base</td>\n",
       "      <td>Springfield</td>\n",
       "      <td>Michigan</td>\n",
       "      <td>42°18′26.2″N 85°15′05.3″W</td>\n",
       "      <td>NaN</td>\n",
       "    </tr>\n",
       "  </tbody>\n",
       "</table>\n",
       "</div>"
      ],
      "text/plain": [
       "                                    NAME       LOCATION          state  \\\n",
       "0      Abston Air National Guard Station     Montgomery        Alabama   \n",
       "1  Atlantic City Air National Guard Base  Atlantic City     New Jersey   \n",
       "2         Bangor Air National Guard Base         Bangor          Maine   \n",
       "3         Barnes Air National Guard Base      Westfield  Massachusetts   \n",
       "4   Battle Creek Air National Guard Base    Springfield       Michigan   \n",
       "\n",
       "                 COORDINATES  Unnamed: 4  \n",
       "0     32°21′22″N 086°20′48″W         NaN  \n",
       "1     39°26′53″N 074°34′54″W         NaN  \n",
       "2     44°48′51″N 068°49′51″W         NaN  \n",
       "3     42°09′56″N 072°43′14″W         NaN  \n",
       "4  42°18′26.2″N 85°15′05.3″W         NaN  "
      ]
     },
     "execution_count": 158,
     "metadata": {},
     "output_type": "execute_result"
    }
   ],
   "source": [
    "air_bases.head()"
   ]
  },
  {
   "cell_type": "code",
   "execution_count": 159,
   "metadata": {
    "colab": {
     "base_uri": "https://localhost:8080/",
     "height": 206
    },
    "id": "wQwXwvtUIoCy",
    "outputId": "70531944-ce65-42bc-8e0b-a6f3261236b8"
   },
   "outputs": [
    {
     "data": {
      "text/html": [
       "<div>\n",
       "<style scoped>\n",
       "    .dataframe tbody tr th:only-of-type {\n",
       "        vertical-align: middle;\n",
       "    }\n",
       "\n",
       "    .dataframe tbody tr th {\n",
       "        vertical-align: top;\n",
       "    }\n",
       "\n",
       "    .dataframe thead th {\n",
       "        text-align: right;\n",
       "    }\n",
       "</style>\n",
       "<table border=\"1\" class=\"dataframe\">\n",
       "  <thead>\n",
       "    <tr style=\"text-align: right;\">\n",
       "      <th></th>\n",
       "      <th>state_cd</th>\n",
       "      <th>state</th>\n",
       "    </tr>\n",
       "  </thead>\n",
       "  <tbody>\n",
       "    <tr>\n",
       "      <th>0</th>\n",
       "      <td>AA</td>\n",
       "      <td>Armed Forces America</td>\n",
       "    </tr>\n",
       "    <tr>\n",
       "      <th>1</th>\n",
       "      <td>AE</td>\n",
       "      <td>Armed Forces</td>\n",
       "    </tr>\n",
       "    <tr>\n",
       "      <th>2</th>\n",
       "      <td>AK</td>\n",
       "      <td>Alaska</td>\n",
       "    </tr>\n",
       "    <tr>\n",
       "      <th>3</th>\n",
       "      <td>AL</td>\n",
       "      <td>Alabama</td>\n",
       "    </tr>\n",
       "    <tr>\n",
       "      <th>4</th>\n",
       "      <td>AP</td>\n",
       "      <td>Armed Forces Pacific</td>\n",
       "    </tr>\n",
       "  </tbody>\n",
       "</table>\n",
       "</div>"
      ],
      "text/plain": [
       "  state_cd                 state\n",
       "0       AA  Armed Forces America\n",
       "1       AE          Armed Forces\n",
       "2       AK                Alaska\n",
       "3       AL               Alabama\n",
       "4       AP  Armed Forces Pacific"
      ]
     },
     "execution_count": 159,
     "metadata": {},
     "output_type": "execute_result"
    }
   ],
   "source": [
    "state_code_names.head()"
   ]
  },
  {
   "cell_type": "code",
   "execution_count": 160,
   "metadata": {
    "colab": {
     "base_uri": "https://localhost:8080/"
    },
    "id": "8rpPo0YCJHv3",
    "outputId": "3691117c-f2b9-4057-a439-d1fbd690b240"
   },
   "outputs": [
    {
     "data": {
      "text/plain": [
       "98"
      ]
     },
     "execution_count": 160,
     "metadata": {},
     "output_type": "execute_result"
    }
   ],
   "source": [
    "len(air_bases)"
   ]
  },
  {
   "cell_type": "code",
   "execution_count": 161,
   "metadata": {
    "id": "pMucnbn0EnJx"
   },
   "outputs": [],
   "source": [
    "air_bases_codes = pd.merge(air_bases,state_code_names,on='state',how='left')"
   ]
  },
  {
   "cell_type": "code",
   "execution_count": 162,
   "metadata": {
    "colab": {
     "base_uri": "https://localhost:8080/",
     "height": 206
    },
    "id": "EbDLzvmiJTW2",
    "outputId": "a65cd310-a241-4dd6-dfd5-061fe629367a"
   },
   "outputs": [
    {
     "data": {
      "text/html": [
       "<div>\n",
       "<style scoped>\n",
       "    .dataframe tbody tr th:only-of-type {\n",
       "        vertical-align: middle;\n",
       "    }\n",
       "\n",
       "    .dataframe tbody tr th {\n",
       "        vertical-align: top;\n",
       "    }\n",
       "\n",
       "    .dataframe thead th {\n",
       "        text-align: right;\n",
       "    }\n",
       "</style>\n",
       "<table border=\"1\" class=\"dataframe\">\n",
       "  <thead>\n",
       "    <tr style=\"text-align: right;\">\n",
       "      <th></th>\n",
       "      <th>NAME</th>\n",
       "      <th>LOCATION</th>\n",
       "      <th>state</th>\n",
       "      <th>COORDINATES</th>\n",
       "      <th>Unnamed: 4</th>\n",
       "      <th>state_cd</th>\n",
       "    </tr>\n",
       "  </thead>\n",
       "  <tbody>\n",
       "    <tr>\n",
       "      <th>0</th>\n",
       "      <td>Abston Air National Guard Station</td>\n",
       "      <td>Montgomery</td>\n",
       "      <td>Alabama</td>\n",
       "      <td>32°21′22″N 086°20′48″W</td>\n",
       "      <td>NaN</td>\n",
       "      <td>AL</td>\n",
       "    </tr>\n",
       "    <tr>\n",
       "      <th>1</th>\n",
       "      <td>Atlantic City Air National Guard Base</td>\n",
       "      <td>Atlantic City</td>\n",
       "      <td>New Jersey</td>\n",
       "      <td>39°26′53″N 074°34′54″W</td>\n",
       "      <td>NaN</td>\n",
       "      <td>NJ</td>\n",
       "    </tr>\n",
       "    <tr>\n",
       "      <th>2</th>\n",
       "      <td>Bangor Air National Guard Base</td>\n",
       "      <td>Bangor</td>\n",
       "      <td>Maine</td>\n",
       "      <td>44°48′51″N 068°49′51″W</td>\n",
       "      <td>NaN</td>\n",
       "      <td>ME</td>\n",
       "    </tr>\n",
       "    <tr>\n",
       "      <th>3</th>\n",
       "      <td>Barnes Air National Guard Base</td>\n",
       "      <td>Westfield</td>\n",
       "      <td>Massachusetts</td>\n",
       "      <td>42°09′56″N 072°43′14″W</td>\n",
       "      <td>NaN</td>\n",
       "      <td>MA</td>\n",
       "    </tr>\n",
       "    <tr>\n",
       "      <th>4</th>\n",
       "      <td>Battle Creek Air National Guard Base</td>\n",
       "      <td>Springfield</td>\n",
       "      <td>Michigan</td>\n",
       "      <td>42°18′26.2″N 85°15′05.3″W</td>\n",
       "      <td>NaN</td>\n",
       "      <td>MI</td>\n",
       "    </tr>\n",
       "  </tbody>\n",
       "</table>\n",
       "</div>"
      ],
      "text/plain": [
       "                                    NAME       LOCATION          state  \\\n",
       "0      Abston Air National Guard Station     Montgomery        Alabama   \n",
       "1  Atlantic City Air National Guard Base  Atlantic City     New Jersey   \n",
       "2         Bangor Air National Guard Base         Bangor          Maine   \n",
       "3         Barnes Air National Guard Base      Westfield  Massachusetts   \n",
       "4   Battle Creek Air National Guard Base    Springfield       Michigan   \n",
       "\n",
       "                 COORDINATES  Unnamed: 4 state_cd  \n",
       "0     32°21′22″N 086°20′48″W         NaN       AL  \n",
       "1     39°26′53″N 074°34′54″W         NaN       NJ  \n",
       "2     44°48′51″N 068°49′51″W         NaN       ME  \n",
       "3     42°09′56″N 072°43′14″W         NaN       MA  \n",
       "4  42°18′26.2″N 85°15′05.3″W         NaN       MI  "
      ]
     },
     "execution_count": 162,
     "metadata": {},
     "output_type": "execute_result"
    }
   ],
   "source": [
    "air_bases_codes.head()"
   ]
  },
  {
   "cell_type": "code",
   "execution_count": 163,
   "metadata": {
    "colab": {
     "base_uri": "https://localhost:8080/"
    },
    "id": "7Ma27MJ6KB90",
    "outputId": "be0c0032-7399-4fb5-be44-ef60eb9500f3"
   },
   "outputs": [
    {
     "data": {
      "text/plain": [
       "98"
      ]
     },
     "execution_count": 163,
     "metadata": {},
     "output_type": "execute_result"
    }
   ],
   "source": [
    "len(air_bases_codes)"
   ]
  },
  {
   "cell_type": "code",
   "execution_count": 164,
   "metadata": {
    "colab": {
     "base_uri": "https://localhost:8080/",
     "height": 206
    },
    "id": "vzO8kvbAK2TW",
    "outputId": "d060991d-51a0-4ba6-d478-886ea5bf320e"
   },
   "outputs": [
    {
     "data": {
      "text/html": [
       "<div>\n",
       "<style scoped>\n",
       "    .dataframe tbody tr th:only-of-type {\n",
       "        vertical-align: middle;\n",
       "    }\n",
       "\n",
       "    .dataframe tbody tr th {\n",
       "        vertical-align: top;\n",
       "    }\n",
       "\n",
       "    .dataframe thead th {\n",
       "        text-align: right;\n",
       "    }\n",
       "</style>\n",
       "<table border=\"1\" class=\"dataframe\">\n",
       "  <thead>\n",
       "    <tr style=\"text-align: right;\">\n",
       "      <th></th>\n",
       "      <th>NAME</th>\n",
       "      <th>LOCATION</th>\n",
       "      <th>state</th>\n",
       "      <th>COORDINATES</th>\n",
       "      <th>Unnamed: 4</th>\n",
       "      <th>state_cd</th>\n",
       "    </tr>\n",
       "  </thead>\n",
       "  <tbody>\n",
       "    <tr>\n",
       "      <th>0</th>\n",
       "      <td>Abston Air National Guard Station</td>\n",
       "      <td>Montgomery</td>\n",
       "      <td>Alabama</td>\n",
       "      <td>32°21′22″N 086°20′48″W</td>\n",
       "      <td>NaN</td>\n",
       "      <td>AL</td>\n",
       "    </tr>\n",
       "    <tr>\n",
       "      <th>1</th>\n",
       "      <td>Atlantic City Air National Guard Base</td>\n",
       "      <td>Atlantic City</td>\n",
       "      <td>New Jersey</td>\n",
       "      <td>39°26′53″N 074°34′54″W</td>\n",
       "      <td>NaN</td>\n",
       "      <td>NJ</td>\n",
       "    </tr>\n",
       "    <tr>\n",
       "      <th>2</th>\n",
       "      <td>Bangor Air National Guard Base</td>\n",
       "      <td>Bangor</td>\n",
       "      <td>Maine</td>\n",
       "      <td>44°48′51″N 068°49′51″W</td>\n",
       "      <td>NaN</td>\n",
       "      <td>ME</td>\n",
       "    </tr>\n",
       "    <tr>\n",
       "      <th>3</th>\n",
       "      <td>Barnes Air National Guard Base</td>\n",
       "      <td>Westfield</td>\n",
       "      <td>Massachusetts</td>\n",
       "      <td>42°09′56″N 072°43′14″W</td>\n",
       "      <td>NaN</td>\n",
       "      <td>MA</td>\n",
       "    </tr>\n",
       "    <tr>\n",
       "      <th>4</th>\n",
       "      <td>Battle Creek Air National Guard Base</td>\n",
       "      <td>Springfield</td>\n",
       "      <td>Michigan</td>\n",
       "      <td>42°18′26.2″N 85°15′05.3″W</td>\n",
       "      <td>NaN</td>\n",
       "      <td>MI</td>\n",
       "    </tr>\n",
       "  </tbody>\n",
       "</table>\n",
       "</div>"
      ],
      "text/plain": [
       "                                    NAME       LOCATION          state  \\\n",
       "0      Abston Air National Guard Station     Montgomery        Alabama   \n",
       "1  Atlantic City Air National Guard Base  Atlantic City     New Jersey   \n",
       "2         Bangor Air National Guard Base         Bangor          Maine   \n",
       "3         Barnes Air National Guard Base      Westfield  Massachusetts   \n",
       "4   Battle Creek Air National Guard Base    Springfield       Michigan   \n",
       "\n",
       "                 COORDINATES  Unnamed: 4 state_cd  \n",
       "0     32°21′22″N 086°20′48″W         NaN       AL  \n",
       "1     39°26′53″N 074°34′54″W         NaN       NJ  \n",
       "2     44°48′51″N 068°49′51″W         NaN       ME  \n",
       "3     42°09′56″N 072°43′14″W         NaN       MA  \n",
       "4  42°18′26.2″N 85°15′05.3″W         NaN       MI  "
      ]
     },
     "execution_count": 164,
     "metadata": {},
     "output_type": "execute_result"
    }
   ],
   "source": [
    "#Lets create a variable in our data for air bases.This will be a True False boolean variable.\n",
    "air_bases_codes.head()"
   ]
  },
  {
   "cell_type": "code",
   "execution_count": 165,
   "metadata": {
    "id": "Klh-VRgBs2Il"
   },
   "outputs": [],
   "source": [
    "air_bases_codes = air_bases_codes.drop(['Unnamed: 4'],axis=1)"
   ]
  },
  {
   "cell_type": "code",
   "execution_count": 166,
   "metadata": {
    "colab": {
     "base_uri": "https://localhost:8080/",
     "height": 677
    },
    "id": "rBbaebFTtC-p",
    "outputId": "72e6bbef-4fc9-43c0-8e2c-90a6e132b27d"
   },
   "outputs": [
    {
     "data": {
      "text/html": [
       "<div>\n",
       "<style scoped>\n",
       "    .dataframe tbody tr th:only-of-type {\n",
       "        vertical-align: middle;\n",
       "    }\n",
       "\n",
       "    .dataframe tbody tr th {\n",
       "        vertical-align: top;\n",
       "    }\n",
       "\n",
       "    .dataframe thead th {\n",
       "        text-align: right;\n",
       "    }\n",
       "</style>\n",
       "<table border=\"1\" class=\"dataframe\">\n",
       "  <thead>\n",
       "    <tr style=\"text-align: right;\">\n",
       "      <th></th>\n",
       "      <th>Text_ID</th>\n",
       "      <th>city</th>\n",
       "      <th>state</th>\n",
       "      <th>date_time</th>\n",
       "      <th>shape</th>\n",
       "      <th>stats</th>\n",
       "      <th>report_link</th>\n",
       "      <th>text</th>\n",
       "      <th>posted</th>\n",
       "      <th>city_latitude</th>\n",
       "      <th>city_longitude</th>\n",
       "      <th>Duration</th>\n",
       "      <th>summary_notes</th>\n",
       "      <th>text_notes</th>\n",
       "      <th>Reported_stats</th>\n",
       "      <th>city_state</th>\n",
       "      <th>coord</th>\n",
       "      <th>date_time_2</th>\n",
       "      <th>time_difference</th>\n",
       "      <th>reporting_lag</th>\n",
       "    </tr>\n",
       "  </thead>\n",
       "  <tbody>\n",
       "    <tr>\n",
       "      <th>0</th>\n",
       "      <td>1.0</td>\n",
       "      <td>Chester</td>\n",
       "      <td>VA</td>\n",
       "      <td>2019-12-12T18:43:00</td>\n",
       "      <td>light</td>\n",
       "      <td>[Occurred : 12/12/2019 18:43  (Entered as : 12...</td>\n",
       "      <td>http://www.nuforc.org/webreports/151/S151739.html</td>\n",
       "      <td>wife driving southeast fairly populated main s...</td>\n",
       "      <td>2019-12-22T00:00:00</td>\n",
       "      <td>37.343152</td>\n",
       "      <td>-77.408582</td>\n",
       "      <td>seconds</td>\n",
       "      <td>[]</td>\n",
       "      <td>[]</td>\n",
       "      <td>2019-12-19 19:19:31</td>\n",
       "      <td>(Chester, VA)</td>\n",
       "      <td>(37.34315152, -77.40858182)</td>\n",
       "      <td>2019-12-12 18:43:00</td>\n",
       "      <td>7 days 00:36:31</td>\n",
       "      <td>weeks</td>\n",
       "    </tr>\n",
       "    <tr>\n",
       "      <th>1</th>\n",
       "      <td>2.0</td>\n",
       "      <td>Rocky Hill</td>\n",
       "      <td>CT</td>\n",
       "      <td>2019-03-22T18:30:00</td>\n",
       "      <td>circle</td>\n",
       "      <td>[Occurred : 3/22/2019 18:30  (Entered as : 03/...</td>\n",
       "      <td>http://www.nuforc.org/webreports/145/S145297.html</td>\n",
       "      <td>think may caught ufo nbc nightly news aired ma...</td>\n",
       "      <td>2019-03-29T00:00:00</td>\n",
       "      <td>41.664800</td>\n",
       "      <td>-72.639300</td>\n",
       "      <td>seconds</td>\n",
       "      <td>[]</td>\n",
       "      <td>[]</td>\n",
       "      <td>2019-03-27 16:10:19</td>\n",
       "      <td>(Rocky Hill, CT)</td>\n",
       "      <td>(41.6648, -72.6393)</td>\n",
       "      <td>2019-03-22 18:30:00</td>\n",
       "      <td>4 days 21:40:19</td>\n",
       "      <td>days</td>\n",
       "    </tr>\n",
       "    <tr>\n",
       "      <th>3</th>\n",
       "      <td>4.0</td>\n",
       "      <td>Ottawa</td>\n",
       "      <td>ON</td>\n",
       "      <td>2019-04-17T02:00:00</td>\n",
       "      <td>teardrop</td>\n",
       "      <td>[Occurred : 4/17/2019 02:00  (Entered as : 04-...</td>\n",
       "      <td>http://www.nuforc.org/webreports/145/S145697.html</td>\n",
       "      <td>driving towards intersection fallowfield eagle...</td>\n",
       "      <td>2019-04-18T00:00:00</td>\n",
       "      <td>45.381383</td>\n",
       "      <td>-75.708501</td>\n",
       "      <td>seconds</td>\n",
       "      <td>[]</td>\n",
       "      <td>[]</td>\n",
       "      <td>2019-04-17 08:41:25</td>\n",
       "      <td>(Ottawa, ON)</td>\n",
       "      <td>(45.3813825, -75.70850071)</td>\n",
       "      <td>2019-04-17 02:00:00</td>\n",
       "      <td>0 days 06:41:25</td>\n",
       "      <td>hours</td>\n",
       "    </tr>\n",
       "    <tr>\n",
       "      <th>4</th>\n",
       "      <td>5.0</td>\n",
       "      <td>Peoria</td>\n",
       "      <td>NY</td>\n",
       "      <td>2009-03-15T18:00:00</td>\n",
       "      <td>cigar</td>\n",
       "      <td>[Occurred : 3/15/2009 18:00  (Entered as : 03/...</td>\n",
       "      <td>http://www.nuforc.org/webreports/145/S145723.html</td>\n",
       "      <td>peoria arizona saw cigar shaped craft floating...</td>\n",
       "      <td>2019-04-18T00:00:00</td>\n",
       "      <td>NaN</td>\n",
       "      <td>NaN</td>\n",
       "      <td>minutes</td>\n",
       "      <td>[]</td>\n",
       "      <td>[]</td>\n",
       "      <td>2019-04-17 18:30:52</td>\n",
       "      <td>(Peoria, NY)</td>\n",
       "      <td>(nan, nan)</td>\n",
       "      <td>2009-03-15 18:00:00</td>\n",
       "      <td>3685 days 00:30:52</td>\n",
       "      <td>years</td>\n",
       "    </tr>\n",
       "    <tr>\n",
       "      <th>5</th>\n",
       "      <td>6.0</td>\n",
       "      <td>Kirbyville</td>\n",
       "      <td>TX</td>\n",
       "      <td>2019-04-02T20:25:00</td>\n",
       "      <td>disk</td>\n",
       "      <td>[Occurred : 4/2/2019 20:25  (Entered as : 04/0...</td>\n",
       "      <td>http://www.nuforc.org/webreports/145/S145476.html</td>\n",
       "      <td>object flashing light green blue red white lig...</td>\n",
       "      <td>2019-04-08T00:00:00</td>\n",
       "      <td>30.677200</td>\n",
       "      <td>-94.005200</td>\n",
       "      <td>minutes</td>\n",
       "      <td>[]</td>\n",
       "      <td>[((ADDENDUM FROM WITNESS)), ((END ADDENDUM)), ...</td>\n",
       "      <td>2019-04-03 18:36:52</td>\n",
       "      <td>(Kirbyville, TX)</td>\n",
       "      <td>(30.6772, -94.0052)</td>\n",
       "      <td>2019-04-02 20:25:00</td>\n",
       "      <td>0 days 22:11:52</td>\n",
       "      <td>hours</td>\n",
       "    </tr>\n",
       "    <tr>\n",
       "      <th>6</th>\n",
       "      <td>7.0</td>\n",
       "      <td>Tucson</td>\n",
       "      <td>AZ</td>\n",
       "      <td>2019-05-01T11:00:00</td>\n",
       "      <td>unknown</td>\n",
       "      <td>[Occurred : 5/1/2019 11:00  (Entered as : 5/1/...</td>\n",
       "      <td>http://www.nuforc.org/webreports/145/S145947.html</td>\n",
       "      <td>description washington dc event 50 ’ glitter t...</td>\n",
       "      <td>2019-05-09T00:00:00</td>\n",
       "      <td>32.259941</td>\n",
       "      <td>-110.927542</td>\n",
       "      <td>minutes</td>\n",
       "      <td>[]</td>\n",
       "      <td>[]</td>\n",
       "      <td>2019-05-01 11:26:56</td>\n",
       "      <td>(Tucson, AZ)</td>\n",
       "      <td>(32.25994076, -110.9275423)</td>\n",
       "      <td>2019-05-01 11:00:00</td>\n",
       "      <td>0 days 00:26:56</td>\n",
       "      <td>hours</td>\n",
       "    </tr>\n",
       "    <tr>\n",
       "      <th>7</th>\n",
       "      <td>8.0</td>\n",
       "      <td>Gold Canyon</td>\n",
       "      <td>AZ</td>\n",
       "      <td>2019-04-10T17:00:00</td>\n",
       "      <td>circle</td>\n",
       "      <td>[Occurred : 4/10/2019 17:00  (Entered as : 04/...</td>\n",
       "      <td>http://www.nuforc.org/webreports/145/S145766.html</td>\n",
       "      <td>apr 10th witnessed bright silvery round object...</td>\n",
       "      <td>2019-04-25T00:00:00</td>\n",
       "      <td>33.371500</td>\n",
       "      <td>-111.436900</td>\n",
       "      <td>minutes</td>\n",
       "      <td>[]</td>\n",
       "      <td>[]</td>\n",
       "      <td>2019-04-20 17:28:10</td>\n",
       "      <td>(Gold Canyon, AZ)</td>\n",
       "      <td>(33.3715, -111.4369)</td>\n",
       "      <td>2019-04-10 17:00:00</td>\n",
       "      <td>10 days 00:28:10</td>\n",
       "      <td>weeks</td>\n",
       "    </tr>\n",
       "    <tr>\n",
       "      <th>8</th>\n",
       "      <td>9.0</td>\n",
       "      <td>Dallas</td>\n",
       "      <td>TX</td>\n",
       "      <td>1973-07-14T22:00:00</td>\n",
       "      <td>oval</td>\n",
       "      <td>[Occurred : 7/14/1973 22:00  (Entered as : 07/...</td>\n",
       "      <td>http://www.nuforc.org/webreports/145/S145751.html</td>\n",
       "      <td>ufo report irving texas 2200 hr july 1973 1974...</td>\n",
       "      <td>2019-04-25T00:00:00</td>\n",
       "      <td>32.835168</td>\n",
       "      <td>-96.808118</td>\n",
       "      <td>minutes</td>\n",
       "      <td>[]</td>\n",
       "      <td>[]</td>\n",
       "      <td>2019-04-20 02:21:04</td>\n",
       "      <td>(Dallas, TX)</td>\n",
       "      <td>(32.83516808, -96.80811786)</td>\n",
       "      <td>1973-07-14 22:00:00</td>\n",
       "      <td>16715 days 04:21:04</td>\n",
       "      <td>years</td>\n",
       "    </tr>\n",
       "    <tr>\n",
       "      <th>10</th>\n",
       "      <td>11.0</td>\n",
       "      <td>Brookville</td>\n",
       "      <td>IN</td>\n",
       "      <td>2019-06-18T21:00:00</td>\n",
       "      <td>sphere</td>\n",
       "      <td>[Occurred : 6/18/2019 21:00  (Entered as : 6/1...</td>\n",
       "      <td>http://www.nuforc.org/webreports/146/S146900.html</td>\n",
       "      <td>metal orb wire seen telescope noticing bright ...</td>\n",
       "      <td>2019-06-20T00:00:00</td>\n",
       "      <td>39.404700</td>\n",
       "      <td>-84.973600</td>\n",
       "      <td>hours</td>\n",
       "      <td>[((anonymous report))]</td>\n",
       "      <td>[((NUFORC Note:  Witness elects to remain tota...</td>\n",
       "      <td>2019-06-18 19:10:28</td>\n",
       "      <td>(Brookville, IN)</td>\n",
       "      <td>(39.4047, -84.9736)</td>\n",
       "      <td>2019-06-18 21:00:00</td>\n",
       "      <td>0 days 01:49:32</td>\n",
       "      <td>hours</td>\n",
       "    </tr>\n",
       "    <tr>\n",
       "      <th>11</th>\n",
       "      <td>12.0</td>\n",
       "      <td>Melbourne Beach</td>\n",
       "      <td>FL</td>\n",
       "      <td>2019-06-12T22:00:00</td>\n",
       "      <td>unknown</td>\n",
       "      <td>[Occurred : 6/12/2019 22:00  (Entered as : 06/...</td>\n",
       "      <td>http://www.nuforc.org/webreports/146/S146805.html</td>\n",
       "      <td>think 2 ufos2 tiny light recorded minute watch...</td>\n",
       "      <td>2019-06-20T00:00:00</td>\n",
       "      <td>27.966800</td>\n",
       "      <td>-80.509600</td>\n",
       "      <td>hours</td>\n",
       "      <td>[]</td>\n",
       "      <td>[]</td>\n",
       "      <td>2019-06-13 05:27:17</td>\n",
       "      <td>(Melbourne Beach, FL)</td>\n",
       "      <td>(27.9668, -80.5096)</td>\n",
       "      <td>2019-06-12 22:00:00</td>\n",
       "      <td>0 days 07:27:17</td>\n",
       "      <td>hours</td>\n",
       "    </tr>\n",
       "    <tr>\n",
       "      <th>12</th>\n",
       "      <td>13.0</td>\n",
       "      <td>Carrizozo</td>\n",
       "      <td>NM</td>\n",
       "      <td>2019-06-11T22:00:00</td>\n",
       "      <td>changing</td>\n",
       "      <td>[Occurred : 6/11/2019 22:00  (Entered as : Jun...</td>\n",
       "      <td>http://www.nuforc.org/webreports/146/S146759.html</td>\n",
       "      <td>driving saw three glowing orb best describe dr...</td>\n",
       "      <td>2019-06-20T00:00:00</td>\n",
       "      <td>33.784900</td>\n",
       "      <td>-105.833200</td>\n",
       "      <td>minutes</td>\n",
       "      <td>[]</td>\n",
       "      <td>[]</td>\n",
       "      <td>2019-06-11 22:18:14</td>\n",
       "      <td>(Carrizozo, NM)</td>\n",
       "      <td>(33.7849, -105.8332)</td>\n",
       "      <td>2019-06-11 22:00:00</td>\n",
       "      <td>0 days 00:18:14</td>\n",
       "      <td>hours</td>\n",
       "    </tr>\n",
       "    <tr>\n",
       "      <th>13</th>\n",
       "      <td>14.0</td>\n",
       "      <td>Waco</td>\n",
       "      <td>TX</td>\n",
       "      <td>2018-06-15T01:00:00</td>\n",
       "      <td>circle</td>\n",
       "      <td>[Occurred : 6/15/2018 01:00  (Entered as : 06/...</td>\n",
       "      <td>http://www.nuforc.org/webreports/146/S146740.html</td>\n",
       "      <td>pool wife sitting edge heard sound southwest s...</td>\n",
       "      <td>2019-06-20T00:00:00</td>\n",
       "      <td>31.573598</td>\n",
       "      <td>-97.135849</td>\n",
       "      <td>minutes</td>\n",
       "      <td>[]</td>\n",
       "      <td>[((NUFORC Note:  We spoke via telephone with t...</td>\n",
       "      <td>2019-06-10 13:23:41</td>\n",
       "      <td>(Waco, TX)</td>\n",
       "      <td>(31.57359751, -97.1358486)</td>\n",
       "      <td>2018-06-15 01:00:00</td>\n",
       "      <td>360 days 12:23:41</td>\n",
       "      <td>months</td>\n",
       "    </tr>\n",
       "    <tr>\n",
       "      <th>14</th>\n",
       "      <td>15.0</td>\n",
       "      <td>Centerville</td>\n",
       "      <td>IA</td>\n",
       "      <td>1999-08-15T02:30:00</td>\n",
       "      <td>circle</td>\n",
       "      <td>[Occurred : 8/15/1999 02:30  (Entered as : 08/...</td>\n",
       "      <td>http://www.nuforc.org/webreports/146/S146702.html</td>\n",
       "      <td>bright circle light followed oskaloosa ia cent...</td>\n",
       "      <td>2019-06-20T00:00:00</td>\n",
       "      <td>40.707400</td>\n",
       "      <td>-92.921300</td>\n",
       "      <td>hours</td>\n",
       "      <td>[]</td>\n",
       "      <td>[]</td>\n",
       "      <td>2019-06-08 01:55:19</td>\n",
       "      <td>(Centerville, IA)</td>\n",
       "      <td>(40.7074, -92.9213)</td>\n",
       "      <td>1999-08-15 02:30:00</td>\n",
       "      <td>7236 days 23:25:19</td>\n",
       "      <td>years</td>\n",
       "    </tr>\n",
       "    <tr>\n",
       "      <th>15</th>\n",
       "      <td>16.0</td>\n",
       "      <td>Gray Court</td>\n",
       "      <td>SC</td>\n",
       "      <td>1975-07-17T00:00:00</td>\n",
       "      <td>light</td>\n",
       "      <td>[Occurred : 7/17/1975 00:00  (Entered as : 07/...</td>\n",
       "      <td>http://www.nuforc.org/webreports/147/S147117.html</td>\n",
       "      <td>strange bright light hovered mobile home nufor...</td>\n",
       "      <td>2019-07-05T00:00:00</td>\n",
       "      <td>34.578800</td>\n",
       "      <td>-82.114100</td>\n",
       "      <td>minutes</td>\n",
       "      <td>[]</td>\n",
       "      <td>[]</td>\n",
       "      <td>2019-06-27 19:49:44</td>\n",
       "      <td>(Gray Court, SC)</td>\n",
       "      <td>(34.5788, -82.1141)</td>\n",
       "      <td>1975-07-17 00:00:00</td>\n",
       "      <td>16051 days 19:49:44</td>\n",
       "      <td>years</td>\n",
       "    </tr>\n",
       "    <tr>\n",
       "      <th>16</th>\n",
       "      <td>17.0</td>\n",
       "      <td>Yuba City</td>\n",
       "      <td>CA</td>\n",
       "      <td>2019-08-17T00:00:00</td>\n",
       "      <td>formation</td>\n",
       "      <td>[Occurred : 8/17/2019 00:00  (Entered as : 081...</td>\n",
       "      <td>http://www.nuforc.org/webreports/148/S148345.html</td>\n",
       "      <td>4 light diagonal formation moved side side sid...</td>\n",
       "      <td>2019-08-23T00:00:00</td>\n",
       "      <td>39.059811</td>\n",
       "      <td>-121.668256</td>\n",
       "      <td>minutes</td>\n",
       "      <td>[]</td>\n",
       "      <td>[]</td>\n",
       "      <td>2019-08-17 02:10:35</td>\n",
       "      <td>(Yuba City, CA)</td>\n",
       "      <td>(39.05981142, -121.6682562)</td>\n",
       "      <td>2019-08-17 00:00:00</td>\n",
       "      <td>0 days 02:10:35</td>\n",
       "      <td>hours</td>\n",
       "    </tr>\n",
       "    <tr>\n",
       "      <th>17</th>\n",
       "      <td>18.0</td>\n",
       "      <td>Abilene</td>\n",
       "      <td>TX</td>\n",
       "      <td>2019-08-14T01:00:00</td>\n",
       "      <td>light</td>\n",
       "      <td>[Occurred : 8/14/2019 01:00  (Entered as : 08/...</td>\n",
       "      <td>http://www.nuforc.org/webreports/148/S148373.html</td>\n",
       "      <td>starlike light started bouncing air disappeari...</td>\n",
       "      <td>2019-08-23T00:00:00</td>\n",
       "      <td>32.394351</td>\n",
       "      <td>-99.790044</td>\n",
       "      <td>seconds</td>\n",
       "      <td>[]</td>\n",
       "      <td>[]</td>\n",
       "      <td>2019-08-19 01:26:51</td>\n",
       "      <td>(Abilene, TX)</td>\n",
       "      <td>(32.39435138, -99.790044)</td>\n",
       "      <td>2019-08-14 01:00:00</td>\n",
       "      <td>5 days 00:26:51</td>\n",
       "      <td>days</td>\n",
       "    </tr>\n",
       "    <tr>\n",
       "      <th>18</th>\n",
       "      <td>19.0</td>\n",
       "      <td>Leyner</td>\n",
       "      <td>CO</td>\n",
       "      <td>2019-08-09T20:22:00</td>\n",
       "      <td>light</td>\n",
       "      <td>[Occurred : 8/9/2019 20:22  (Entered as : 08/0...</td>\n",
       "      <td>http://www.nuforc.org/webreports/148/S148205.html</td>\n",
       "      <td>4 bright light shape diamond moving slow took ...</td>\n",
       "      <td>2019-08-23T00:00:00</td>\n",
       "      <td>NaN</td>\n",
       "      <td>NaN</td>\n",
       "      <td>minutes</td>\n",
       "      <td>[]</td>\n",
       "      <td>[]</td>\n",
       "      <td>2019-08-10 15:06:11</td>\n",
       "      <td>(Leyner, CO)</td>\n",
       "      <td>(nan, nan)</td>\n",
       "      <td>2019-08-09 20:22:00</td>\n",
       "      <td>0 days 18:44:11</td>\n",
       "      <td>hours</td>\n",
       "    </tr>\n",
       "    <tr>\n",
       "      <th>19</th>\n",
       "      <td>20.0</td>\n",
       "      <td>Catalina</td>\n",
       "      <td>AZ</td>\n",
       "      <td>2019-08-09T20:30:00</td>\n",
       "      <td>cigar</td>\n",
       "      <td>[Occurred : 8/9/2019 20:30  (Entered as : 08/0...</td>\n",
       "      <td>http://www.nuforc.org/webreports/148/S148290.html</td>\n",
       "      <td>wife taking usual evening stroll approx 830 84...</td>\n",
       "      <td>2019-08-23T00:00:00</td>\n",
       "      <td>NaN</td>\n",
       "      <td>NaN</td>\n",
       "      <td>seconds</td>\n",
       "      <td>[]</td>\n",
       "      <td>[((NUFORC Note:  Witness elects to remain tota...</td>\n",
       "      <td>2019-08-15 11:16:08</td>\n",
       "      <td>(Catalina, AZ)</td>\n",
       "      <td>(nan, nan)</td>\n",
       "      <td>2019-08-09 20:30:00</td>\n",
       "      <td>5 days 14:46:08</td>\n",
       "      <td>days</td>\n",
       "    </tr>\n",
       "    <tr>\n",
       "      <th>20</th>\n",
       "      <td>21.0</td>\n",
       "      <td>Santa Barbara</td>\n",
       "      <td>CA</td>\n",
       "      <td>2019-08-06T20:45:00</td>\n",
       "      <td>flash</td>\n",
       "      <td>[Occurred : 8/6/2019 20:45  (Entered as : 08/0...</td>\n",
       "      <td>http://www.nuforc.org/webreports/148/S148122.html</td>\n",
       "      <td>abnormal flashing object socal avid skywatcher...</td>\n",
       "      <td>2019-08-23T00:00:00</td>\n",
       "      <td>34.317038</td>\n",
       "      <td>-119.720541</td>\n",
       "      <td>minutes</td>\n",
       "      <td>[]</td>\n",
       "      <td>[((NUFORC Note:  Witness elects to remain tota...</td>\n",
       "      <td>2019-08-07 20:56:43</td>\n",
       "      <td>(Santa Barbara, CA)</td>\n",
       "      <td>(34.3170381, -119.7205414)</td>\n",
       "      <td>2019-08-06 20:45:00</td>\n",
       "      <td>1 days 00:11:43</td>\n",
       "      <td>days</td>\n",
       "    </tr>\n",
       "    <tr>\n",
       "      <th>21</th>\n",
       "      <td>22.0</td>\n",
       "      <td>Charlestown</td>\n",
       "      <td>RI</td>\n",
       "      <td>2019-08-05T14:00:00</td>\n",
       "      <td>chevron</td>\n",
       "      <td>[Occurred : 8/5/2019 14:00  (Entered as : 08/0...</td>\n",
       "      <td>http://www.nuforc.org/webreports/148/S148130.html</td>\n",
       "      <td>unusual extreme chevronshaped aircraft observe...</td>\n",
       "      <td>2019-08-23T00:00:00</td>\n",
       "      <td>41.396000</td>\n",
       "      <td>-71.663100</td>\n",
       "      <td>seconds</td>\n",
       "      <td>[]</td>\n",
       "      <td>[]</td>\n",
       "      <td>2019-08-08 06:45:55</td>\n",
       "      <td>(Charlestown, RI)</td>\n",
       "      <td>(41.396, -71.6631)</td>\n",
       "      <td>2019-08-05 14:00:00</td>\n",
       "      <td>2 days 16:45:55</td>\n",
       "      <td>days</td>\n",
       "    </tr>\n",
       "  </tbody>\n",
       "</table>\n",
       "</div>"
      ],
      "text/plain": [
       "    Text_ID             city state            date_time      shape  \\\n",
       "0       1.0          Chester    VA  2019-12-12T18:43:00      light   \n",
       "1       2.0       Rocky Hill    CT  2019-03-22T18:30:00     circle   \n",
       "3       4.0           Ottawa    ON  2019-04-17T02:00:00   teardrop   \n",
       "4       5.0           Peoria    NY  2009-03-15T18:00:00      cigar   \n",
       "5       6.0       Kirbyville    TX  2019-04-02T20:25:00       disk   \n",
       "6       7.0           Tucson    AZ  2019-05-01T11:00:00    unknown   \n",
       "7       8.0      Gold Canyon    AZ  2019-04-10T17:00:00     circle   \n",
       "8       9.0           Dallas    TX  1973-07-14T22:00:00       oval   \n",
       "10     11.0       Brookville    IN  2019-06-18T21:00:00     sphere   \n",
       "11     12.0  Melbourne Beach    FL  2019-06-12T22:00:00    unknown   \n",
       "12     13.0        Carrizozo    NM  2019-06-11T22:00:00   changing   \n",
       "13     14.0             Waco    TX  2018-06-15T01:00:00     circle   \n",
       "14     15.0      Centerville    IA  1999-08-15T02:30:00     circle   \n",
       "15     16.0       Gray Court    SC  1975-07-17T00:00:00      light   \n",
       "16     17.0        Yuba City    CA  2019-08-17T00:00:00  formation   \n",
       "17     18.0          Abilene    TX  2019-08-14T01:00:00      light   \n",
       "18     19.0           Leyner    CO  2019-08-09T20:22:00      light   \n",
       "19     20.0         Catalina    AZ  2019-08-09T20:30:00      cigar   \n",
       "20     21.0    Santa Barbara    CA  2019-08-06T20:45:00      flash   \n",
       "21     22.0      Charlestown    RI  2019-08-05T14:00:00    chevron   \n",
       "\n",
       "                                                stats  \\\n",
       "0   [Occurred : 12/12/2019 18:43  (Entered as : 12...   \n",
       "1   [Occurred : 3/22/2019 18:30  (Entered as : 03/...   \n",
       "3   [Occurred : 4/17/2019 02:00  (Entered as : 04-...   \n",
       "4   [Occurred : 3/15/2009 18:00  (Entered as : 03/...   \n",
       "5   [Occurred : 4/2/2019 20:25  (Entered as : 04/0...   \n",
       "6   [Occurred : 5/1/2019 11:00  (Entered as : 5/1/...   \n",
       "7   [Occurred : 4/10/2019 17:00  (Entered as : 04/...   \n",
       "8   [Occurred : 7/14/1973 22:00  (Entered as : 07/...   \n",
       "10  [Occurred : 6/18/2019 21:00  (Entered as : 6/1...   \n",
       "11  [Occurred : 6/12/2019 22:00  (Entered as : 06/...   \n",
       "12  [Occurred : 6/11/2019 22:00  (Entered as : Jun...   \n",
       "13  [Occurred : 6/15/2018 01:00  (Entered as : 06/...   \n",
       "14  [Occurred : 8/15/1999 02:30  (Entered as : 08/...   \n",
       "15  [Occurred : 7/17/1975 00:00  (Entered as : 07/...   \n",
       "16  [Occurred : 8/17/2019 00:00  (Entered as : 081...   \n",
       "17  [Occurred : 8/14/2019 01:00  (Entered as : 08/...   \n",
       "18  [Occurred : 8/9/2019 20:22  (Entered as : 08/0...   \n",
       "19  [Occurred : 8/9/2019 20:30  (Entered as : 08/0...   \n",
       "20  [Occurred : 8/6/2019 20:45  (Entered as : 08/0...   \n",
       "21  [Occurred : 8/5/2019 14:00  (Entered as : 08/0...   \n",
       "\n",
       "                                          report_link  \\\n",
       "0   http://www.nuforc.org/webreports/151/S151739.html   \n",
       "1   http://www.nuforc.org/webreports/145/S145297.html   \n",
       "3   http://www.nuforc.org/webreports/145/S145697.html   \n",
       "4   http://www.nuforc.org/webreports/145/S145723.html   \n",
       "5   http://www.nuforc.org/webreports/145/S145476.html   \n",
       "6   http://www.nuforc.org/webreports/145/S145947.html   \n",
       "7   http://www.nuforc.org/webreports/145/S145766.html   \n",
       "8   http://www.nuforc.org/webreports/145/S145751.html   \n",
       "10  http://www.nuforc.org/webreports/146/S146900.html   \n",
       "11  http://www.nuforc.org/webreports/146/S146805.html   \n",
       "12  http://www.nuforc.org/webreports/146/S146759.html   \n",
       "13  http://www.nuforc.org/webreports/146/S146740.html   \n",
       "14  http://www.nuforc.org/webreports/146/S146702.html   \n",
       "15  http://www.nuforc.org/webreports/147/S147117.html   \n",
       "16  http://www.nuforc.org/webreports/148/S148345.html   \n",
       "17  http://www.nuforc.org/webreports/148/S148373.html   \n",
       "18  http://www.nuforc.org/webreports/148/S148205.html   \n",
       "19  http://www.nuforc.org/webreports/148/S148290.html   \n",
       "20  http://www.nuforc.org/webreports/148/S148122.html   \n",
       "21  http://www.nuforc.org/webreports/148/S148130.html   \n",
       "\n",
       "                                                 text               posted  \\\n",
       "0   wife driving southeast fairly populated main s...  2019-12-22T00:00:00   \n",
       "1   think may caught ufo nbc nightly news aired ma...  2019-03-29T00:00:00   \n",
       "3   driving towards intersection fallowfield eagle...  2019-04-18T00:00:00   \n",
       "4   peoria arizona saw cigar shaped craft floating...  2019-04-18T00:00:00   \n",
       "5   object flashing light green blue red white lig...  2019-04-08T00:00:00   \n",
       "6   description washington dc event 50 ’ glitter t...  2019-05-09T00:00:00   \n",
       "7   apr 10th witnessed bright silvery round object...  2019-04-25T00:00:00   \n",
       "8   ufo report irving texas 2200 hr july 1973 1974...  2019-04-25T00:00:00   \n",
       "10  metal orb wire seen telescope noticing bright ...  2019-06-20T00:00:00   \n",
       "11  think 2 ufos2 tiny light recorded minute watch...  2019-06-20T00:00:00   \n",
       "12  driving saw three glowing orb best describe dr...  2019-06-20T00:00:00   \n",
       "13  pool wife sitting edge heard sound southwest s...  2019-06-20T00:00:00   \n",
       "14  bright circle light followed oskaloosa ia cent...  2019-06-20T00:00:00   \n",
       "15  strange bright light hovered mobile home nufor...  2019-07-05T00:00:00   \n",
       "16  4 light diagonal formation moved side side sid...  2019-08-23T00:00:00   \n",
       "17  starlike light started bouncing air disappeari...  2019-08-23T00:00:00   \n",
       "18  4 bright light shape diamond moving slow took ...  2019-08-23T00:00:00   \n",
       "19  wife taking usual evening stroll approx 830 84...  2019-08-23T00:00:00   \n",
       "20  abnormal flashing object socal avid skywatcher...  2019-08-23T00:00:00   \n",
       "21  unusual extreme chevronshaped aircraft observe...  2019-08-23T00:00:00   \n",
       "\n",
       "    city_latitude  city_longitude Duration           summary_notes  \\\n",
       "0       37.343152      -77.408582  seconds                      []   \n",
       "1       41.664800      -72.639300  seconds                      []   \n",
       "3       45.381383      -75.708501  seconds                      []   \n",
       "4             NaN             NaN  minutes                      []   \n",
       "5       30.677200      -94.005200  minutes                      []   \n",
       "6       32.259941     -110.927542  minutes                      []   \n",
       "7       33.371500     -111.436900  minutes                      []   \n",
       "8       32.835168      -96.808118  minutes                      []   \n",
       "10      39.404700      -84.973600    hours  [((anonymous report))]   \n",
       "11      27.966800      -80.509600    hours                      []   \n",
       "12      33.784900     -105.833200  minutes                      []   \n",
       "13      31.573598      -97.135849  minutes                      []   \n",
       "14      40.707400      -92.921300    hours                      []   \n",
       "15      34.578800      -82.114100  minutes                      []   \n",
       "16      39.059811     -121.668256  minutes                      []   \n",
       "17      32.394351      -99.790044  seconds                      []   \n",
       "18            NaN             NaN  minutes                      []   \n",
       "19            NaN             NaN  seconds                      []   \n",
       "20      34.317038     -119.720541  minutes                      []   \n",
       "21      41.396000      -71.663100  seconds                      []   \n",
       "\n",
       "                                           text_notes       Reported_stats  \\\n",
       "0                                                  []  2019-12-19 19:19:31   \n",
       "1                                                  []  2019-03-27 16:10:19   \n",
       "3                                                  []  2019-04-17 08:41:25   \n",
       "4                                                  []  2019-04-17 18:30:52   \n",
       "5   [((ADDENDUM FROM WITNESS)), ((END ADDENDUM)), ...  2019-04-03 18:36:52   \n",
       "6                                                  []  2019-05-01 11:26:56   \n",
       "7                                                  []  2019-04-20 17:28:10   \n",
       "8                                                  []  2019-04-20 02:21:04   \n",
       "10  [((NUFORC Note:  Witness elects to remain tota...  2019-06-18 19:10:28   \n",
       "11                                                 []  2019-06-13 05:27:17   \n",
       "12                                                 []  2019-06-11 22:18:14   \n",
       "13  [((NUFORC Note:  We spoke via telephone with t...  2019-06-10 13:23:41   \n",
       "14                                                 []  2019-06-08 01:55:19   \n",
       "15                                                 []  2019-06-27 19:49:44   \n",
       "16                                                 []  2019-08-17 02:10:35   \n",
       "17                                                 []  2019-08-19 01:26:51   \n",
       "18                                                 []  2019-08-10 15:06:11   \n",
       "19  [((NUFORC Note:  Witness elects to remain tota...  2019-08-15 11:16:08   \n",
       "20  [((NUFORC Note:  Witness elects to remain tota...  2019-08-07 20:56:43   \n",
       "21                                                 []  2019-08-08 06:45:55   \n",
       "\n",
       "               city_state                        coord         date_time_2  \\\n",
       "0           (Chester, VA)  (37.34315152, -77.40858182) 2019-12-12 18:43:00   \n",
       "1        (Rocky Hill, CT)          (41.6648, -72.6393) 2019-03-22 18:30:00   \n",
       "3            (Ottawa, ON)   (45.3813825, -75.70850071) 2019-04-17 02:00:00   \n",
       "4            (Peoria, NY)                   (nan, nan) 2009-03-15 18:00:00   \n",
       "5        (Kirbyville, TX)          (30.6772, -94.0052) 2019-04-02 20:25:00   \n",
       "6            (Tucson, AZ)  (32.25994076, -110.9275423) 2019-05-01 11:00:00   \n",
       "7       (Gold Canyon, AZ)         (33.3715, -111.4369) 2019-04-10 17:00:00   \n",
       "8            (Dallas, TX)  (32.83516808, -96.80811786) 1973-07-14 22:00:00   \n",
       "10       (Brookville, IN)          (39.4047, -84.9736) 2019-06-18 21:00:00   \n",
       "11  (Melbourne Beach, FL)          (27.9668, -80.5096) 2019-06-12 22:00:00   \n",
       "12        (Carrizozo, NM)         (33.7849, -105.8332) 2019-06-11 22:00:00   \n",
       "13             (Waco, TX)   (31.57359751, -97.1358486) 2018-06-15 01:00:00   \n",
       "14      (Centerville, IA)          (40.7074, -92.9213) 1999-08-15 02:30:00   \n",
       "15       (Gray Court, SC)          (34.5788, -82.1141) 1975-07-17 00:00:00   \n",
       "16        (Yuba City, CA)  (39.05981142, -121.6682562) 2019-08-17 00:00:00   \n",
       "17          (Abilene, TX)    (32.39435138, -99.790044) 2019-08-14 01:00:00   \n",
       "18           (Leyner, CO)                   (nan, nan) 2019-08-09 20:22:00   \n",
       "19         (Catalina, AZ)                   (nan, nan) 2019-08-09 20:30:00   \n",
       "20    (Santa Barbara, CA)   (34.3170381, -119.7205414) 2019-08-06 20:45:00   \n",
       "21      (Charlestown, RI)           (41.396, -71.6631) 2019-08-05 14:00:00   \n",
       "\n",
       "       time_difference reporting_lag  \n",
       "0      7 days 00:36:31         weeks  \n",
       "1      4 days 21:40:19          days  \n",
       "3      0 days 06:41:25         hours  \n",
       "4   3685 days 00:30:52         years  \n",
       "5      0 days 22:11:52         hours  \n",
       "6      0 days 00:26:56         hours  \n",
       "7     10 days 00:28:10         weeks  \n",
       "8  16715 days 04:21:04         years  \n",
       "10     0 days 01:49:32         hours  \n",
       "11     0 days 07:27:17         hours  \n",
       "12     0 days 00:18:14         hours  \n",
       "13   360 days 12:23:41        months  \n",
       "14  7236 days 23:25:19         years  \n",
       "15 16051 days 19:49:44         years  \n",
       "16     0 days 02:10:35         hours  \n",
       "17     5 days 00:26:51          days  \n",
       "18     0 days 18:44:11         hours  \n",
       "19     5 days 14:46:08          days  \n",
       "20     1 days 00:11:43          days  \n",
       "21     2 days 16:45:55          days  "
      ]
     },
     "execution_count": 166,
     "metadata": {},
     "output_type": "execute_result"
    }
   ],
   "source": [
    "df.head(20)"
   ]
  },
  {
   "cell_type": "code",
   "execution_count": 167,
   "metadata": {
    "id": "yzrecVTvtFs_"
   },
   "outputs": [],
   "source": [
    "df_new = pd.merge(df,air_bases_codes,left_on=['city','state'],right_on=['LOCATION','state_cd'],how='left')"
   ]
  },
  {
   "cell_type": "code",
   "execution_count": 168,
   "metadata": {
    "id": "dGkHkw_6zsjB"
   },
   "outputs": [],
   "source": [
    "df_new = df_new.rename(columns={'NAME': 'airbase_name','state_x':'state','state_y':'state_name'})"
   ]
  },
  {
   "cell_type": "code",
   "execution_count": 169,
   "metadata": {
    "id": "77RWZ34Y15Px"
   },
   "outputs": [],
   "source": [
    "df_new = df_new.drop(['LOCATION','state_cd','COORDINATES'],axis=1)"
   ]
  },
  {
   "cell_type": "code",
   "execution_count": 170,
   "metadata": {
    "id": "kcFY-ys63nzH"
   },
   "outputs": [],
   "source": [
    "df_new['airbase'] = [0 if pd.isnull(x) else 1 for x in df_new['airbase_name']] "
   ]
  },
  {
   "cell_type": "code",
   "execution_count": 171,
   "metadata": {
    "colab": {
     "base_uri": "https://localhost:8080/"
    },
    "id": "gykhjSvI5hl_",
    "outputId": "f824c0ea-374d-48df-c98b-2ac9f9a64f66"
   },
   "outputs": [
    {
     "data": {
      "text/plain": [
       "81478"
      ]
     },
     "execution_count": 171,
     "metadata": {},
     "output_type": "execute_result"
    }
   ],
   "source": [
    "len(df_new)"
   ]
  },
  {
   "cell_type": "code",
   "execution_count": 172,
   "metadata": {
    "id": "R-sSjDGa5sJ9"
   },
   "outputs": [],
   "source": [
    "from sklearn.feature_extraction.text import TfidfVectorizer"
   ]
  },
  {
   "cell_type": "code",
   "execution_count": 173,
   "metadata": {
    "id": "0jAnf57QvW70"
   },
   "outputs": [],
   "source": [
    "#Just get the names and codes of the states\n",
    "state_names = air_bases_codes.drop(['NAME','LOCATION','COORDINATES'],axis=1)\n"
   ]
  },
  {
   "cell_type": "code",
   "execution_count": 174,
   "metadata": {
    "id": "-U6oUmEyQL-6"
   },
   "outputs": [],
   "source": [
    "state_names = state_names.rename(columns={'state':'state_name','state_cd':'state'})"
   ]
  },
  {
   "cell_type": "code",
   "execution_count": 175,
   "metadata": {
    "id": "BFf6iOaXQdC4"
   },
   "outputs": [],
   "source": [
    "state_names = state_names.drop_duplicates().reset_index()"
   ]
  },
  {
   "cell_type": "code",
   "execution_count": 176,
   "metadata": {
    "id": "iWQ2D4rFPPk-"
   },
   "outputs": [],
   "source": [
    "#Lets create some features out of text data. Start with word count\n",
    "df_new['text_word_count'] = df_new['text'].apply(lambda x:len(str(x).split(\" \")))"
   ]
  },
  {
   "cell_type": "code",
   "execution_count": 177,
   "metadata": {
    "colab": {
     "base_uri": "https://localhost:8080/",
     "height": 363
    },
    "id": "P6qjh8rzP8TY",
    "outputId": "f5a5a02a-37a0-4366-8752-0bdc8c16a8c7"
   },
   "outputs": [
    {
     "data": {
      "text/html": [
       "<div>\n",
       "<style scoped>\n",
       "    .dataframe tbody tr th:only-of-type {\n",
       "        vertical-align: middle;\n",
       "    }\n",
       "\n",
       "    .dataframe tbody tr th {\n",
       "        vertical-align: top;\n",
       "    }\n",
       "\n",
       "    .dataframe thead th {\n",
       "        text-align: right;\n",
       "    }\n",
       "</style>\n",
       "<table border=\"1\" class=\"dataframe\">\n",
       "  <thead>\n",
       "    <tr style=\"text-align: right;\">\n",
       "      <th></th>\n",
       "      <th>text</th>\n",
       "      <th>text_word_count</th>\n",
       "    </tr>\n",
       "  </thead>\n",
       "  <tbody>\n",
       "    <tr>\n",
       "      <th>56886</th>\n",
       "      <td>close encounter 5th kind ce5 completely true a...</td>\n",
       "      <td>2748</td>\n",
       "    </tr>\n",
       "    <tr>\n",
       "      <th>14233</th>\n",
       "      <td>go detail experience would like preface accoun...</td>\n",
       "      <td>2296</td>\n",
       "    </tr>\n",
       "    <tr>\n",
       "      <th>57038</th>\n",
       "      <td>lighted craft hovered 3minutes dove 1mile 5sec...</td>\n",
       "      <td>2208</td>\n",
       "    </tr>\n",
       "    <tr>\n",
       "      <th>16586</th>\n",
       "      <td>abducted child tampa fl 1960s sleeping element...</td>\n",
       "      <td>2106</td>\n",
       "    </tr>\n",
       "    <tr>\n",
       "      <th>12979</th>\n",
       "      <td>one ufo sighted west melbourn floirda feb 24 2...</td>\n",
       "      <td>1983</td>\n",
       "    </tr>\n",
       "    <tr>\n",
       "      <th>...</th>\n",
       "      <td>...</td>\n",
       "      <td>...</td>\n",
       "    </tr>\n",
       "    <tr>\n",
       "      <th>30552</th>\n",
       "      <td>ufo slow moving yellowish light report saturda...</td>\n",
       "      <td>814</td>\n",
       "    </tr>\n",
       "    <tr>\n",
       "      <th>19367</th>\n",
       "      <td>three separate sightins ocurred rural south te...</td>\n",
       "      <td>810</td>\n",
       "    </tr>\n",
       "    <tr>\n",
       "      <th>69451</th>\n",
       "      <td>sure original entry got sent duplicate read al...</td>\n",
       "      <td>809</td>\n",
       "    </tr>\n",
       "    <tr>\n",
       "      <th>53976</th>\n",
       "      <td>brilliantly lit cigar shaped vessel 40 foot lo...</td>\n",
       "      <td>806</td>\n",
       "    </tr>\n",
       "    <tr>\n",
       "      <th>72031</th>\n",
       "      <td>spotted black hovering ufo unusualhard disting...</td>\n",
       "      <td>798</td>\n",
       "    </tr>\n",
       "  </tbody>\n",
       "</table>\n",
       "<p>100 rows × 2 columns</p>\n",
       "</div>"
      ],
      "text/plain": [
       "                                                    text  text_word_count\n",
       "56886  close encounter 5th kind ce5 completely true a...             2748\n",
       "14233  go detail experience would like preface accoun...             2296\n",
       "57038  lighted craft hovered 3minutes dove 1mile 5sec...             2208\n",
       "16586  abducted child tampa fl 1960s sleeping element...             2106\n",
       "12979  one ufo sighted west melbourn floirda feb 24 2...             1983\n",
       "...                                                  ...              ...\n",
       "30552  ufo slow moving yellowish light report saturda...              814\n",
       "19367  three separate sightins ocurred rural south te...              810\n",
       "69451  sure original entry got sent duplicate read al...              809\n",
       "53976  brilliantly lit cigar shaped vessel 40 foot lo...              806\n",
       "72031  spotted black hovering ufo unusualhard disting...              798\n",
       "\n",
       "[100 rows x 2 columns]"
      ]
     },
     "execution_count": 177,
     "metadata": {},
     "output_type": "execute_result"
    }
   ],
   "source": [
    "df_new[['text','text_word_count']].sort_values(by='text_word_count', ascending= False).head(100)"
   ]
  },
  {
   "cell_type": "code",
   "execution_count": 180,
   "metadata": {
    "colab": {
     "base_uri": "https://localhost:8080/",
     "height": 49
    },
    "id": "y8ICM0voQvVw",
    "outputId": "d7005b06-68e3-4eb1-9193-3eee18302800"
   },
   "outputs": [
    {
     "data": {
      "text/plain": [
       "<matplotlib.axes._subplots.AxesSubplot at 0x7fd80764d9d0>"
      ]
     },
     "execution_count": 180,
     "metadata": {},
     "output_type": "execute_result"
    },
    {
     "data": {
      "image/png": "[encoded data removed]",
      "text/plain": [
       "<Figure size 432x288 with 1 Axes>"
      ]
     },
     "metadata": {
      "needs_background": "light"
     },
     "output_type": "display_data"
    }
   ],
   "source": [
    "#Looks like the data is skewed to the right. We can transform this data using log transformation techniques\n",
    "sns.distplot(df_new['text_word_count'])"
   ]
  },
  {
   "cell_type": "code",
   "execution_count": 181,
   "metadata": {
    "colab": {
     "base_uri": "https://localhost:8080/"
    },
    "id": "RD1m8FVtXHC1",
    "outputId": "c63db581-4bbf-4a9b-8cfd-863438838684"
   },
   "outputs": [],
   "source": [
    "df_new['text_word_count_log'] = np.log(df_new['text_word_count'])"
   ]
  },
  {
   "cell_type": "code",
   "execution_count": 182,
   "metadata": {
    "id": "HFbl4T7sa9Y5"
   },
   "outputs": [
    {
     "data": {
      "text/plain": [
       "<matplotlib.axes._subplots.AxesSubplot at 0x7fd7f421c0d0>"
      ]
     },
     "execution_count": 182,
     "metadata": {},
     "output_type": "execute_result"
    },
    {
     "data": {
      "image/png": "[encoded data removed]",
      "text/plain": [
       "<Figure size 432x288 with 1 Axes>"
      ]
     },
     "metadata": {
      "needs_background": "light"
     },
     "output_type": "display_data"
    }
   ],
   "source": [
    "#Data for word count looks much better and centered now\n",
    "sns.distplot(df_new['text_word_count_log'])"
   ]
  },
  {
   "cell_type": "code",
   "execution_count": 183,
   "metadata": {},
   "outputs": [
    {
     "name": "stderr",
     "output_type": "stream",
     "text": [
      "/opt/anaconda3/lib/python3.7/site-packages/pandas/core/arraylike.py:364: RuntimeWarning: divide by zero encountered in log\n",
      "  result = getattr(ufunc, method)(*inputs, **kwargs)\n"
     ]
    }
   ],
   "source": [
    "#Lets get how many characters we have for each text\n",
    "df_new['text_char_count'] = df_new['text'].apply(lambda x:sum(len(word) for word in str(x).split(\" \")))\n",
    "df_new['text_char_log'] = np.log(df_new['text_char_count'])"
   ]
  },
  {
   "cell_type": "code",
   "execution_count": 184,
   "metadata": {},
   "outputs": [
    {
     "data": {
      "text/plain": [
       "<matplotlib.axes._subplots.AxesSubplot at 0x7fd7f4309a90>"
      ]
     },
     "execution_count": 184,
     "metadata": {},
     "output_type": "execute_result"
    },
    {
     "data": {
      "image/png": "[encoded data removed]",
      "text/plain": [
       "<Figure size 432x288 with 1 Axes>"
      ]
     },
     "metadata": {
      "needs_background": "light"
     },
     "output_type": "display_data"
    }
   ],
   "source": [
    "# Right skewed data again in char count\n",
    "sns.distplot(df_new['text_char_count'])"
   ]
  },
  {
   "cell_type": "code",
   "execution_count": 186,
   "metadata": {},
   "outputs": [],
   "source": [
    "# Log transformation for the character count to center the data\n",
    "#sns.distplot(df_new['text_char_log'])"
   ]
  },
  {
   "cell_type": "code",
   "execution_count": 187,
   "metadata": {},
   "outputs": [],
   "source": [
    "#Average word count\n",
    "df_new['avg_word_cnt'] = df_new['text_char_count']/df_new['text_word_count']"
   ]
  },
  {
   "cell_type": "code",
   "execution_count": 188,
   "metadata": {},
   "outputs": [],
   "source": [
    "#Unique words\n",
    "df_new['unq_words'] = df_new['text'].str.lower().str.split().apply(set).str.len()"
   ]
  },
  {
   "cell_type": "code",
   "execution_count": 189,
   "metadata": {},
   "outputs": [
    {
     "data": {
      "text/plain": [
       "0    69\n",
       "1    38\n",
       "Name: unq_words, dtype: int64"
      ]
     },
     "execution_count": 189,
     "metadata": {},
     "output_type": "execute_result"
    }
   ],
   "source": [
    "df_new['unq_words'].head(2)"
   ]
  },
  {
   "cell_type": "markdown",
   "metadata": {},
   "source": [
    "# Satellites"
   ]
  },
  {
   "cell_type": "markdown",
   "metadata": {},
   "source": [
    "One of the interesting elements within this data is that some of the sightings are likely to be other objects such as: planes, meteors or satellites. Our group was interested in determining whether or not we could bring in data regarding satellites and meteors into our analysis. To do this, we focused on the International Space Station (ISS). Our preprocessing is within another notebook called Feature_Engineering_Project_ISS.ipynb.\n",
    "\n",
    "\n",
    "Our process to pull in the data was to obtain the TLE (Two Line Elements) data for the ISS and then to process that information using a package called Skyfield, which can be used to estimate the position of the ISS. Getting this data in, we can then identify whether or not the ISS is nearby for observations that are after 1998 (when the ISS was launched). The data for the TLEs was obtained via http://celestrak.com."
   ]
  },
  {
   "cell_type": "code",
   "execution_count": 190,
   "metadata": {},
   "outputs": [],
   "source": [
    "from skyfield.api import load, wgs84, EarthSatellite\n",
    "import pickle\n",
    "import timezonefinder\n",
    "import dateutil"
   ]
  },
  {
   "cell_type": "code",
   "execution_count": 191,
   "metadata": {},
   "outputs": [],
   "source": [
    "# here let's open the space station data\n",
    "with open('/Users/rahimjiwa/Documents/Github/feature-engineering/data/UFO/zarya.txt', 'rb') as file:\n",
    "    zarya = pickle.load(file)"
   ]
  },
  {
   "cell_type": "code",
   "execution_count": 192,
   "metadata": {},
   "outputs": [
    {
     "data": {
      "text/plain": [
       "['1 25544U 98067A   98324.28472222 -.00003657  11563-4  00000+0 0    10',\n",
       " '2 25544  51.5908 168.3788 0125362  86.4185 359.7454 16.05064833    05',\n",
       " '1 25544U 98067A   98324.33235038  .11839616  11568-4  57349-2 0    28',\n",
       " '2 25544  51.6173 168.1099 0123410  88.0187 273.4932 16.04971811    11',\n",
       " '1 25544U 98067A   98324.45674522 -.00043259  11566-4 -18040-4 0    32']"
      ]
     },
     "execution_count": 192,
     "metadata": {},
     "output_type": "execute_result"
    }
   ],
   "source": [
    "# we can take a look\n",
    "zarya[0:5]"
   ]
  },
  {
   "cell_type": "code",
   "execution_count": 193,
   "metadata": {},
   "outputs": [
    {
     "data": {
      "text/plain": [
       "[['1 25544U 98067A   98324.28472222 -.00003657  11563-4  00000+0 0    10',\n",
       "  '2 25544  51.5908 168.3788 0125362  86.4185 359.7454 16.05064833    05'],\n",
       " ['1 25544U 98067A   98324.33235038  .11839616  11568-4  57349-2 0    28',\n",
       "  '2 25544  51.6173 168.1099 0123410  88.0187 273.4932 16.04971811    11'],\n",
       " ['1 25544U 98067A   98324.45674522 -.00043259  11566-4 -18040-4 0    32',\n",
       "  '2 25544  51.5914 167.4317 0125858  91.3429 269.4598 16.05134416    30'],\n",
       " ['1 25544U 98067A   98324.51913017  .00713053  11562-4  34316-3 0    48',\n",
       "  '2 25544  51.5959 167.1152 0123861  87.8179 273.5890 16.05002967    44'],\n",
       " ['1 25544U 98067A   98324.58140904  .00632617  11564-4  30202-3 0    62',\n",
       "  '2 25544  51.5951 166.7799 0123964  88.1727 273.3425 16.05074568    54'],\n",
       " ['1 25544U 98067A   98324.64367013  .00537185  11565-4  25489-3 0    78',\n",
       "  '2 25544  51.5937 166.4421 0124158  88.3525 273.1690 16.05111828    65']]"
      ]
     },
     "execution_count": 193,
     "metadata": {},
     "output_type": "execute_result"
    }
   ],
   "source": [
    "# since we have tle, we need zarya to be split in the tle records\n",
    "N = 2\n",
    "zarya = [zarya[n:n+N] for n in range(0, len(zarya), N)]\n",
    "zarya[:6] "
   ]
  },
  {
   "cell_type": "code",
   "execution_count": 194,
   "metadata": {},
   "outputs": [
    {
     "data": {
      "text/html": [
       "<div>\n",
       "<style scoped>\n",
       "    .dataframe tbody tr th:only-of-type {\n",
       "        vertical-align: middle;\n",
       "    }\n",
       "\n",
       "    .dataframe tbody tr th {\n",
       "        vertical-align: top;\n",
       "    }\n",
       "\n",
       "    .dataframe thead th {\n",
       "        text-align: right;\n",
       "    }\n",
       "</style>\n",
       "<table border=\"1\" class=\"dataframe\">\n",
       "  <thead>\n",
       "    <tr style=\"text-align: right;\">\n",
       "      <th></th>\n",
       "      <th>Text_ID</th>\n",
       "      <th>city</th>\n",
       "      <th>state</th>\n",
       "      <th>date_time</th>\n",
       "      <th>shape</th>\n",
       "      <th>stats</th>\n",
       "      <th>report_link</th>\n",
       "      <th>text</th>\n",
       "      <th>posted</th>\n",
       "      <th>city_latitude</th>\n",
       "      <th>city_longitude</th>\n",
       "      <th>Duration</th>\n",
       "      <th>summary_notes</th>\n",
       "      <th>text_notes</th>\n",
       "      <th>Reported_stats</th>\n",
       "      <th>city_state</th>\n",
       "      <th>coord</th>\n",
       "      <th>date_time_2</th>\n",
       "      <th>time_difference</th>\n",
       "      <th>reporting_lag</th>\n",
       "    </tr>\n",
       "  </thead>\n",
       "  <tbody>\n",
       "    <tr>\n",
       "      <th>0</th>\n",
       "      <td>1.0</td>\n",
       "      <td>Chester</td>\n",
       "      <td>VA</td>\n",
       "      <td>2019-12-12T18:43:00</td>\n",
       "      <td>light</td>\n",
       "      <td>[Occurred : 12/12/2019 18:43  (Entered as : 12...</td>\n",
       "      <td>http://www.nuforc.org/webreports/151/S151739.html</td>\n",
       "      <td>wife driving southeast fairly populated main s...</td>\n",
       "      <td>2019-12-22T00:00:00</td>\n",
       "      <td>37.343152</td>\n",
       "      <td>-77.408582</td>\n",
       "      <td>seconds</td>\n",
       "      <td>[]</td>\n",
       "      <td>[]</td>\n",
       "      <td>2019-12-19 19:19:31</td>\n",
       "      <td>(Chester, VA)</td>\n",
       "      <td>(37.34315152, -77.40858182)</td>\n",
       "      <td>2019-12-12 18:43:00</td>\n",
       "      <td>7 days 00:36:31</td>\n",
       "      <td>weeks</td>\n",
       "    </tr>\n",
       "    <tr>\n",
       "      <th>1</th>\n",
       "      <td>2.0</td>\n",
       "      <td>Rocky Hill</td>\n",
       "      <td>CT</td>\n",
       "      <td>2019-03-22T18:30:00</td>\n",
       "      <td>circle</td>\n",
       "      <td>[Occurred : 3/22/2019 18:30  (Entered as : 03/...</td>\n",
       "      <td>http://www.nuforc.org/webreports/145/S145297.html</td>\n",
       "      <td>think may caught ufo nbc nightly news aired ma...</td>\n",
       "      <td>2019-03-29T00:00:00</td>\n",
       "      <td>41.664800</td>\n",
       "      <td>-72.639300</td>\n",
       "      <td>seconds</td>\n",
       "      <td>[]</td>\n",
       "      <td>[]</td>\n",
       "      <td>2019-03-27 16:10:19</td>\n",
       "      <td>(Rocky Hill, CT)</td>\n",
       "      <td>(41.6648, -72.6393)</td>\n",
       "      <td>2019-03-22 18:30:00</td>\n",
       "      <td>4 days 21:40:19</td>\n",
       "      <td>days</td>\n",
       "    </tr>\n",
       "    <tr>\n",
       "      <th>3</th>\n",
       "      <td>4.0</td>\n",
       "      <td>Ottawa</td>\n",
       "      <td>ON</td>\n",
       "      <td>2019-04-17T02:00:00</td>\n",
       "      <td>teardrop</td>\n",
       "      <td>[Occurred : 4/17/2019 02:00  (Entered as : 04-...</td>\n",
       "      <td>http://www.nuforc.org/webreports/145/S145697.html</td>\n",
       "      <td>driving towards intersection fallowfield eagle...</td>\n",
       "      <td>2019-04-18T00:00:00</td>\n",
       "      <td>45.381383</td>\n",
       "      <td>-75.708501</td>\n",
       "      <td>seconds</td>\n",
       "      <td>[]</td>\n",
       "      <td>[]</td>\n",
       "      <td>2019-04-17 08:41:25</td>\n",
       "      <td>(Ottawa, ON)</td>\n",
       "      <td>(45.3813825, -75.70850071)</td>\n",
       "      <td>2019-04-17 02:00:00</td>\n",
       "      <td>0 days 06:41:25</td>\n",
       "      <td>hours</td>\n",
       "    </tr>\n",
       "    <tr>\n",
       "      <th>4</th>\n",
       "      <td>5.0</td>\n",
       "      <td>Peoria</td>\n",
       "      <td>NY</td>\n",
       "      <td>2009-03-15T18:00:00</td>\n",
       "      <td>cigar</td>\n",
       "      <td>[Occurred : 3/15/2009 18:00  (Entered as : 03/...</td>\n",
       "      <td>http://www.nuforc.org/webreports/145/S145723.html</td>\n",
       "      <td>peoria arizona saw cigar shaped craft floating...</td>\n",
       "      <td>2019-04-18T00:00:00</td>\n",
       "      <td>NaN</td>\n",
       "      <td>NaN</td>\n",
       "      <td>minutes</td>\n",
       "      <td>[]</td>\n",
       "      <td>[]</td>\n",
       "      <td>2019-04-17 18:30:52</td>\n",
       "      <td>(Peoria, NY)</td>\n",
       "      <td>(nan, nan)</td>\n",
       "      <td>2009-03-15 18:00:00</td>\n",
       "      <td>3685 days 00:30:52</td>\n",
       "      <td>years</td>\n",
       "    </tr>\n",
       "    <tr>\n",
       "      <th>5</th>\n",
       "      <td>6.0</td>\n",
       "      <td>Kirbyville</td>\n",
       "      <td>TX</td>\n",
       "      <td>2019-04-02T20:25:00</td>\n",
       "      <td>disk</td>\n",
       "      <td>[Occurred : 4/2/2019 20:25  (Entered as : 04/0...</td>\n",
       "      <td>http://www.nuforc.org/webreports/145/S145476.html</td>\n",
       "      <td>object flashing light green blue red white lig...</td>\n",
       "      <td>2019-04-08T00:00:00</td>\n",
       "      <td>30.677200</td>\n",
       "      <td>-94.005200</td>\n",
       "      <td>minutes</td>\n",
       "      <td>[]</td>\n",
       "      <td>[((ADDENDUM FROM WITNESS)), ((END ADDENDUM)), ...</td>\n",
       "      <td>2019-04-03 18:36:52</td>\n",
       "      <td>(Kirbyville, TX)</td>\n",
       "      <td>(30.6772, -94.0052)</td>\n",
       "      <td>2019-04-02 20:25:00</td>\n",
       "      <td>0 days 22:11:52</td>\n",
       "      <td>hours</td>\n",
       "    </tr>\n",
       "  </tbody>\n",
       "</table>\n",
       "</div>"
      ],
      "text/plain": [
       "   Text_ID        city state            date_time     shape  \\\n",
       "0      1.0     Chester    VA  2019-12-12T18:43:00     light   \n",
       "1      2.0  Rocky Hill    CT  2019-03-22T18:30:00    circle   \n",
       "3      4.0      Ottawa    ON  2019-04-17T02:00:00  teardrop   \n",
       "4      5.0      Peoria    NY  2009-03-15T18:00:00     cigar   \n",
       "5      6.0  Kirbyville    TX  2019-04-02T20:25:00      disk   \n",
       "\n",
       "                                               stats  \\\n",
       "0  [Occurred : 12/12/2019 18:43  (Entered as : 12...   \n",
       "1  [Occurred : 3/22/2019 18:30  (Entered as : 03/...   \n",
       "3  [Occurred : 4/17/2019 02:00  (Entered as : 04-...   \n",
       "4  [Occurred : 3/15/2009 18:00  (Entered as : 03/...   \n",
       "5  [Occurred : 4/2/2019 20:25  (Entered as : 04/0...   \n",
       "\n",
       "                                         report_link  \\\n",
       "0  http://www.nuforc.org/webreports/151/S151739.html   \n",
       "1  http://www.nuforc.org/webreports/145/S145297.html   \n",
       "3  http://www.nuforc.org/webreports/145/S145697.html   \n",
       "4  http://www.nuforc.org/webreports/145/S145723.html   \n",
       "5  http://www.nuforc.org/webreports/145/S145476.html   \n",
       "\n",
       "                                                text               posted  \\\n",
       "0  wife driving southeast fairly populated main s...  2019-12-22T00:00:00   \n",
       "1  think may caught ufo nbc nightly news aired ma...  2019-03-29T00:00:00   \n",
       "3  driving towards intersection fallowfield eagle...  2019-04-18T00:00:00   \n",
       "4  peoria arizona saw cigar shaped craft floating...  2019-04-18T00:00:00   \n",
       "5  object flashing light green blue red white lig...  2019-04-08T00:00:00   \n",
       "\n",
       "   city_latitude  city_longitude Duration summary_notes  \\\n",
       "0      37.343152      -77.408582  seconds            []   \n",
       "1      41.664800      -72.639300  seconds            []   \n",
       "3      45.381383      -75.708501  seconds            []   \n",
       "4            NaN             NaN  minutes            []   \n",
       "5      30.677200      -94.005200  minutes            []   \n",
       "\n",
       "                                          text_notes       Reported_stats  \\\n",
       "0                                                 []  2019-12-19 19:19:31   \n",
       "1                                                 []  2019-03-27 16:10:19   \n",
       "3                                                 []  2019-04-17 08:41:25   \n",
       "4                                                 []  2019-04-17 18:30:52   \n",
       "5  [((ADDENDUM FROM WITNESS)), ((END ADDENDUM)), ...  2019-04-03 18:36:52   \n",
       "\n",
       "         city_state                        coord         date_time_2  \\\n",
       "0     (Chester, VA)  (37.34315152, -77.40858182) 2019-12-12 18:43:00   \n",
       "1  (Rocky Hill, CT)          (41.6648, -72.6393) 2019-03-22 18:30:00   \n",
       "3      (Ottawa, ON)   (45.3813825, -75.70850071) 2019-04-17 02:00:00   \n",
       "4      (Peoria, NY)                   (nan, nan) 2009-03-15 18:00:00   \n",
       "5  (Kirbyville, TX)          (30.6772, -94.0052) 2019-04-02 20:25:00   \n",
       "\n",
       "     time_difference reporting_lag  \n",
       "0    7 days 00:36:31         weeks  \n",
       "1    4 days 21:40:19          days  \n",
       "3    0 days 06:41:25         hours  \n",
       "4 3685 days 00:30:52         years  \n",
       "5    0 days 22:11:52         hours  "
      ]
     },
     "execution_count": 194,
     "metadata": {},
     "output_type": "execute_result"
    }
   ],
   "source": [
    "# lets make a copy of our dataframe\n",
    "df_iss = df.copy()\n",
    "df_iss.head()"
   ]
  },
  {
   "cell_type": "code",
   "execution_count": 195,
   "metadata": {},
   "outputs": [],
   "source": [
    "# for the purpose of our analysis, we won't need some of these columns\n",
    "df_iss.drop(columns=['shape','report_link','text','posted','Duration','summary_notes','text_notes'],inplace=True)"
   ]
  },
  {
   "cell_type": "code",
   "execution_count": 196,
   "metadata": {},
   "outputs": [
    {
     "name": "stdout",
     "output_type": "stream",
     "text": [
      "<class 'pandas.core.frame.DataFrame'>\n",
      "Int64Index: 81460 entries, 0 to 88123\n",
      "Data columns (total 13 columns):\n",
      " #   Column           Non-Null Count  Dtype          \n",
      "---  ------           --------------  -----          \n",
      " 0   Text_ID          81460 non-null  float64        \n",
      " 1   city             81460 non-null  object         \n",
      " 2   state            81460 non-null  object         \n",
      " 3   date_time        80429 non-null  object         \n",
      " 4   stats            81460 non-null  object         \n",
      " 5   city_latitude    70907 non-null  float64        \n",
      " 6   city_longitude   70907 non-null  float64        \n",
      " 7   Reported_stats   81460 non-null  object         \n",
      " 8   city_state       81460 non-null  object         \n",
      " 9   coord            81460 non-null  object         \n",
      " 10  date_time_2      80429 non-null  datetime64[ns] \n",
      " 11  time_difference  79092 non-null  timedelta64[ns]\n",
      " 12  reporting_lag    79092 non-null  category       \n",
      "dtypes: category(1), datetime64[ns](1), float64(3), object(7), timedelta64[ns](1)\n",
      "memory usage: 10.2+ MB\n"
     ]
    }
   ],
   "source": [
    "df_iss.info()"
   ]
  },
  {
   "cell_type": "code",
   "execution_count": 197,
   "metadata": {},
   "outputs": [
    {
     "name": "stdout",
     "output_type": "stream",
     "text": [
      "<class 'pandas.core.frame.DataFrame'>\n",
      "Int64Index: 68969 entries, 0 to 86713\n",
      "Data columns (total 13 columns):\n",
      " #   Column           Non-Null Count  Dtype          \n",
      "---  ------           --------------  -----          \n",
      " 0   Text_ID          68969 non-null  float64        \n",
      " 1   city             68969 non-null  object         \n",
      " 2   state            68969 non-null  object         \n",
      " 3   date_time        68969 non-null  object         \n",
      " 4   stats            68969 non-null  object         \n",
      " 5   city_latitude    68969 non-null  float64        \n",
      " 6   city_longitude   68969 non-null  float64        \n",
      " 7   Reported_stats   68969 non-null  object         \n",
      " 8   city_state       68969 non-null  object         \n",
      " 9   coord            68969 non-null  object         \n",
      " 10  date_time_2      68969 non-null  datetime64[ns] \n",
      " 11  time_difference  68969 non-null  timedelta64[ns]\n",
      " 12  reporting_lag    68969 non-null  category       \n",
      "dtypes: category(1), datetime64[ns](1), float64(3), object(7), timedelta64[ns](1)\n",
      "memory usage: 6.9+ MB\n"
     ]
    }
   ],
   "source": [
    "# for simplicity, let's get rid of the NaNs\n",
    "df_iss.dropna(inplace=True)\n",
    "df_iss.info()"
   ]
  },
  {
   "cell_type": "code",
   "execution_count": 198,
   "metadata": {},
   "outputs": [],
   "source": [
    "# let's start by adding in the timezone from the coordinates\n",
    "tf = timezonefinder.TimezoneFinder()\n",
    "def get_timezone(lat, lon):\n",
    "  timezone_str = tf.certain_timezone_at(lat=lat, lng=lon)\n",
    "  return timezone_str"
   ]
  },
  {
   "cell_type": "code",
   "execution_count": 199,
   "metadata": {},
   "outputs": [],
   "source": [
    "# this will get the timezones for all the instances\n",
    "df_iss['timezone'] = df_iss.apply(lambda row: get_timezone(row['city_latitude'], row['city_longitude']), axis=1)"
   ]
  },
  {
   "cell_type": "code",
   "execution_count": 200,
   "metadata": {},
   "outputs": [
    {
     "data": {
      "text/html": [
       "<div>\n",
       "<style scoped>\n",
       "    .dataframe tbody tr th:only-of-type {\n",
       "        vertical-align: middle;\n",
       "    }\n",
       "\n",
       "    .dataframe tbody tr th {\n",
       "        vertical-align: top;\n",
       "    }\n",
       "\n",
       "    .dataframe thead th {\n",
       "        text-align: right;\n",
       "    }\n",
       "</style>\n",
       "<table border=\"1\" class=\"dataframe\">\n",
       "  <thead>\n",
       "    <tr style=\"text-align: right;\">\n",
       "      <th></th>\n",
       "      <th>Text_ID</th>\n",
       "      <th>city</th>\n",
       "      <th>state</th>\n",
       "      <th>date_time</th>\n",
       "      <th>stats</th>\n",
       "      <th>city_latitude</th>\n",
       "      <th>city_longitude</th>\n",
       "      <th>Reported_stats</th>\n",
       "      <th>city_state</th>\n",
       "      <th>coord</th>\n",
       "      <th>date_time_2</th>\n",
       "      <th>time_difference</th>\n",
       "      <th>reporting_lag</th>\n",
       "      <th>timezone</th>\n",
       "    </tr>\n",
       "  </thead>\n",
       "  <tbody>\n",
       "    <tr>\n",
       "      <th>0</th>\n",
       "      <td>1.0</td>\n",
       "      <td>Chester</td>\n",
       "      <td>VA</td>\n",
       "      <td>2019-12-12T18:43:00</td>\n",
       "      <td>[Occurred : 12/12/2019 18:43  (Entered as : 12...</td>\n",
       "      <td>37.343152</td>\n",
       "      <td>-77.408582</td>\n",
       "      <td>2019-12-19 19:19:31</td>\n",
       "      <td>(Chester, VA)</td>\n",
       "      <td>(37.34315152, -77.40858182)</td>\n",
       "      <td>2019-12-12 18:43:00</td>\n",
       "      <td>7 days 00:36:31</td>\n",
       "      <td>weeks</td>\n",
       "      <td>America/New_York</td>\n",
       "    </tr>\n",
       "    <tr>\n",
       "      <th>1</th>\n",
       "      <td>2.0</td>\n",
       "      <td>Rocky Hill</td>\n",
       "      <td>CT</td>\n",
       "      <td>2019-03-22T18:30:00</td>\n",
       "      <td>[Occurred : 3/22/2019 18:30  (Entered as : 03/...</td>\n",
       "      <td>41.664800</td>\n",
       "      <td>-72.639300</td>\n",
       "      <td>2019-03-27 16:10:19</td>\n",
       "      <td>(Rocky Hill, CT)</td>\n",
       "      <td>(41.6648, -72.6393)</td>\n",
       "      <td>2019-03-22 18:30:00</td>\n",
       "      <td>4 days 21:40:19</td>\n",
       "      <td>days</td>\n",
       "      <td>America/New_York</td>\n",
       "    </tr>\n",
       "    <tr>\n",
       "      <th>3</th>\n",
       "      <td>4.0</td>\n",
       "      <td>Ottawa</td>\n",
       "      <td>ON</td>\n",
       "      <td>2019-04-17T02:00:00</td>\n",
       "      <td>[Occurred : 4/17/2019 02:00  (Entered as : 04-...</td>\n",
       "      <td>45.381383</td>\n",
       "      <td>-75.708501</td>\n",
       "      <td>2019-04-17 08:41:25</td>\n",
       "      <td>(Ottawa, ON)</td>\n",
       "      <td>(45.3813825, -75.70850071)</td>\n",
       "      <td>2019-04-17 02:00:00</td>\n",
       "      <td>0 days 06:41:25</td>\n",
       "      <td>hours</td>\n",
       "      <td>America/Toronto</td>\n",
       "    </tr>\n",
       "    <tr>\n",
       "      <th>5</th>\n",
       "      <td>6.0</td>\n",
       "      <td>Kirbyville</td>\n",
       "      <td>TX</td>\n",
       "      <td>2019-04-02T20:25:00</td>\n",
       "      <td>[Occurred : 4/2/2019 20:25  (Entered as : 04/0...</td>\n",
       "      <td>30.677200</td>\n",
       "      <td>-94.005200</td>\n",
       "      <td>2019-04-03 18:36:52</td>\n",
       "      <td>(Kirbyville, TX)</td>\n",
       "      <td>(30.6772, -94.0052)</td>\n",
       "      <td>2019-04-02 20:25:00</td>\n",
       "      <td>0 days 22:11:52</td>\n",
       "      <td>hours</td>\n",
       "      <td>America/Chicago</td>\n",
       "    </tr>\n",
       "    <tr>\n",
       "      <th>6</th>\n",
       "      <td>7.0</td>\n",
       "      <td>Tucson</td>\n",
       "      <td>AZ</td>\n",
       "      <td>2019-05-01T11:00:00</td>\n",
       "      <td>[Occurred : 5/1/2019 11:00  (Entered as : 5/1/...</td>\n",
       "      <td>32.259941</td>\n",
       "      <td>-110.927542</td>\n",
       "      <td>2019-05-01 11:26:56</td>\n",
       "      <td>(Tucson, AZ)</td>\n",
       "      <td>(32.25994076, -110.9275423)</td>\n",
       "      <td>2019-05-01 11:00:00</td>\n",
       "      <td>0 days 00:26:56</td>\n",
       "      <td>hours</td>\n",
       "      <td>America/Phoenix</td>\n",
       "    </tr>\n",
       "  </tbody>\n",
       "</table>\n",
       "</div>"
      ],
      "text/plain": [
       "   Text_ID        city state            date_time  \\\n",
       "0      1.0     Chester    VA  2019-12-12T18:43:00   \n",
       "1      2.0  Rocky Hill    CT  2019-03-22T18:30:00   \n",
       "3      4.0      Ottawa    ON  2019-04-17T02:00:00   \n",
       "5      6.0  Kirbyville    TX  2019-04-02T20:25:00   \n",
       "6      7.0      Tucson    AZ  2019-05-01T11:00:00   \n",
       "\n",
       "                                               stats  city_latitude  \\\n",
       "0  [Occurred : 12/12/2019 18:43  (Entered as : 12...      37.343152   \n",
       "1  [Occurred : 3/22/2019 18:30  (Entered as : 03/...      41.664800   \n",
       "3  [Occurred : 4/17/2019 02:00  (Entered as : 04-...      45.381383   \n",
       "5  [Occurred : 4/2/2019 20:25  (Entered as : 04/0...      30.677200   \n",
       "6  [Occurred : 5/1/2019 11:00  (Entered as : 5/1/...      32.259941   \n",
       "\n",
       "   city_longitude       Reported_stats        city_state  \\\n",
       "0      -77.408582  2019-12-19 19:19:31     (Chester, VA)   \n",
       "1      -72.639300  2019-03-27 16:10:19  (Rocky Hill, CT)   \n",
       "3      -75.708501  2019-04-17 08:41:25      (Ottawa, ON)   \n",
       "5      -94.005200  2019-04-03 18:36:52  (Kirbyville, TX)   \n",
       "6     -110.927542  2019-05-01 11:26:56      (Tucson, AZ)   \n",
       "\n",
       "                         coord         date_time_2 time_difference  \\\n",
       "0  (37.34315152, -77.40858182) 2019-12-12 18:43:00 7 days 00:36:31   \n",
       "1          (41.6648, -72.6393) 2019-03-22 18:30:00 4 days 21:40:19   \n",
       "3   (45.3813825, -75.70850071) 2019-04-17 02:00:00 0 days 06:41:25   \n",
       "5          (30.6772, -94.0052) 2019-04-02 20:25:00 0 days 22:11:52   \n",
       "6  (32.25994076, -110.9275423) 2019-05-01 11:00:00 0 days 00:26:56   \n",
       "\n",
       "  reporting_lag          timezone  \n",
       "0         weeks  America/New_York  \n",
       "1          days  America/New_York  \n",
       "3         hours   America/Toronto  \n",
       "5         hours   America/Chicago  \n",
       "6         hours   America/Phoenix  "
      ]
     },
     "execution_count": 200,
     "metadata": {},
     "output_type": "execute_result"
    }
   ],
   "source": [
    "df_iss.head()"
   ]
  },
  {
   "cell_type": "code",
   "execution_count": 201,
   "metadata": {},
   "outputs": [],
   "source": [
    "# we need to convert time to utc\n",
    "def time_to_utc(time, timezone):\n",
    "    x = arrow.get(time, 'YYYY-M-DTHH:mm:ss').replace(tzinfo=dateutil.tz.gettz(timezone))\n",
    "    x = x.to('utc')\n",
    "    #x = x.naive\n",
    "    x = x.datetime\n",
    "    return x"
   ]
  },
  {
   "cell_type": "code",
   "execution_count": 202,
   "metadata": {},
   "outputs": [
    {
     "data": {
      "text/html": [
       "<div>\n",
       "<style scoped>\n",
       "    .dataframe tbody tr th:only-of-type {\n",
       "        vertical-align: middle;\n",
       "    }\n",
       "\n",
       "    .dataframe tbody tr th {\n",
       "        vertical-align: top;\n",
       "    }\n",
       "\n",
       "    .dataframe thead th {\n",
       "        text-align: right;\n",
       "    }\n",
       "</style>\n",
       "<table border=\"1\" class=\"dataframe\">\n",
       "  <thead>\n",
       "    <tr style=\"text-align: right;\">\n",
       "      <th></th>\n",
       "      <th>Text_ID</th>\n",
       "      <th>city</th>\n",
       "      <th>state</th>\n",
       "      <th>date_time</th>\n",
       "      <th>stats</th>\n",
       "      <th>city_latitude</th>\n",
       "      <th>city_longitude</th>\n",
       "      <th>Reported_stats</th>\n",
       "      <th>city_state</th>\n",
       "      <th>coord</th>\n",
       "      <th>date_time_2</th>\n",
       "      <th>time_difference</th>\n",
       "      <th>reporting_lag</th>\n",
       "      <th>timezone</th>\n",
       "      <th>utc</th>\n",
       "    </tr>\n",
       "  </thead>\n",
       "  <tbody>\n",
       "    <tr>\n",
       "      <th>0</th>\n",
       "      <td>1.0</td>\n",
       "      <td>Chester</td>\n",
       "      <td>VA</td>\n",
       "      <td>2019-12-12T18:43:00</td>\n",
       "      <td>[Occurred : 12/12/2019 18:43  (Entered as : 12...</td>\n",
       "      <td>37.343152</td>\n",
       "      <td>-77.408582</td>\n",
       "      <td>2019-12-19 19:19:31</td>\n",
       "      <td>(Chester, VA)</td>\n",
       "      <td>(37.34315152, -77.40858182)</td>\n",
       "      <td>2019-12-12 18:43:00</td>\n",
       "      <td>7 days 00:36:31</td>\n",
       "      <td>weeks</td>\n",
       "      <td>America/New_York</td>\n",
       "      <td>2019-12-12 23:43:00+00:00</td>\n",
       "    </tr>\n",
       "    <tr>\n",
       "      <th>1</th>\n",
       "      <td>2.0</td>\n",
       "      <td>Rocky Hill</td>\n",
       "      <td>CT</td>\n",
       "      <td>2019-03-22T18:30:00</td>\n",
       "      <td>[Occurred : 3/22/2019 18:30  (Entered as : 03/...</td>\n",
       "      <td>41.664800</td>\n",
       "      <td>-72.639300</td>\n",
       "      <td>2019-03-27 16:10:19</td>\n",
       "      <td>(Rocky Hill, CT)</td>\n",
       "      <td>(41.6648, -72.6393)</td>\n",
       "      <td>2019-03-22 18:30:00</td>\n",
       "      <td>4 days 21:40:19</td>\n",
       "      <td>days</td>\n",
       "      <td>America/New_York</td>\n",
       "      <td>2019-03-22 22:30:00+00:00</td>\n",
       "    </tr>\n",
       "    <tr>\n",
       "      <th>3</th>\n",
       "      <td>4.0</td>\n",
       "      <td>Ottawa</td>\n",
       "      <td>ON</td>\n",
       "      <td>2019-04-17T02:00:00</td>\n",
       "      <td>[Occurred : 4/17/2019 02:00  (Entered as : 04-...</td>\n",
       "      <td>45.381383</td>\n",
       "      <td>-75.708501</td>\n",
       "      <td>2019-04-17 08:41:25</td>\n",
       "      <td>(Ottawa, ON)</td>\n",
       "      <td>(45.3813825, -75.70850071)</td>\n",
       "      <td>2019-04-17 02:00:00</td>\n",
       "      <td>0 days 06:41:25</td>\n",
       "      <td>hours</td>\n",
       "      <td>America/Toronto</td>\n",
       "      <td>2019-04-17 06:00:00+00:00</td>\n",
       "    </tr>\n",
       "    <tr>\n",
       "      <th>5</th>\n",
       "      <td>6.0</td>\n",
       "      <td>Kirbyville</td>\n",
       "      <td>TX</td>\n",
       "      <td>2019-04-02T20:25:00</td>\n",
       "      <td>[Occurred : 4/2/2019 20:25  (Entered as : 04/0...</td>\n",
       "      <td>30.677200</td>\n",
       "      <td>-94.005200</td>\n",
       "      <td>2019-04-03 18:36:52</td>\n",
       "      <td>(Kirbyville, TX)</td>\n",
       "      <td>(30.6772, -94.0052)</td>\n",
       "      <td>2019-04-02 20:25:00</td>\n",
       "      <td>0 days 22:11:52</td>\n",
       "      <td>hours</td>\n",
       "      <td>America/Chicago</td>\n",
       "      <td>2019-04-03 01:25:00+00:00</td>\n",
       "    </tr>\n",
       "    <tr>\n",
       "      <th>6</th>\n",
       "      <td>7.0</td>\n",
       "      <td>Tucson</td>\n",
       "      <td>AZ</td>\n",
       "      <td>2019-05-01T11:00:00</td>\n",
       "      <td>[Occurred : 5/1/2019 11:00  (Entered as : 5/1/...</td>\n",
       "      <td>32.259941</td>\n",
       "      <td>-110.927542</td>\n",
       "      <td>2019-05-01 11:26:56</td>\n",
       "      <td>(Tucson, AZ)</td>\n",
       "      <td>(32.25994076, -110.9275423)</td>\n",
       "      <td>2019-05-01 11:00:00</td>\n",
       "      <td>0 days 00:26:56</td>\n",
       "      <td>hours</td>\n",
       "      <td>America/Phoenix</td>\n",
       "      <td>2019-05-01 18:00:00+00:00</td>\n",
       "    </tr>\n",
       "  </tbody>\n",
       "</table>\n",
       "</div>"
      ],
      "text/plain": [
       "   Text_ID        city state            date_time  \\\n",
       "0      1.0     Chester    VA  2019-12-12T18:43:00   \n",
       "1      2.0  Rocky Hill    CT  2019-03-22T18:30:00   \n",
       "3      4.0      Ottawa    ON  2019-04-17T02:00:00   \n",
       "5      6.0  Kirbyville    TX  2019-04-02T20:25:00   \n",
       "6      7.0      Tucson    AZ  2019-05-01T11:00:00   \n",
       "\n",
       "                                               stats  city_latitude  \\\n",
       "0  [Occurred : 12/12/2019 18:43  (Entered as : 12...      37.343152   \n",
       "1  [Occurred : 3/22/2019 18:30  (Entered as : 03/...      41.664800   \n",
       "3  [Occurred : 4/17/2019 02:00  (Entered as : 04-...      45.381383   \n",
       "5  [Occurred : 4/2/2019 20:25  (Entered as : 04/0...      30.677200   \n",
       "6  [Occurred : 5/1/2019 11:00  (Entered as : 5/1/...      32.259941   \n",
       "\n",
       "   city_longitude       Reported_stats        city_state  \\\n",
       "0      -77.408582  2019-12-19 19:19:31     (Chester, VA)   \n",
       "1      -72.639300  2019-03-27 16:10:19  (Rocky Hill, CT)   \n",
       "3      -75.708501  2019-04-17 08:41:25      (Ottawa, ON)   \n",
       "5      -94.005200  2019-04-03 18:36:52  (Kirbyville, TX)   \n",
       "6     -110.927542  2019-05-01 11:26:56      (Tucson, AZ)   \n",
       "\n",
       "                         coord         date_time_2 time_difference  \\\n",
       "0  (37.34315152, -77.40858182) 2019-12-12 18:43:00 7 days 00:36:31   \n",
       "1          (41.6648, -72.6393) 2019-03-22 18:30:00 4 days 21:40:19   \n",
       "3   (45.3813825, -75.70850071) 2019-04-17 02:00:00 0 days 06:41:25   \n",
       "5          (30.6772, -94.0052) 2019-04-02 20:25:00 0 days 22:11:52   \n",
       "6  (32.25994076, -110.9275423) 2019-05-01 11:00:00 0 days 00:26:56   \n",
       "\n",
       "  reporting_lag          timezone                       utc  \n",
       "0         weeks  America/New_York 2019-12-12 23:43:00+00:00  \n",
       "1          days  America/New_York 2019-03-22 22:30:00+00:00  \n",
       "3         hours   America/Toronto 2019-04-17 06:00:00+00:00  \n",
       "5         hours   America/Chicago 2019-04-03 01:25:00+00:00  \n",
       "6         hours   America/Phoenix 2019-05-01 18:00:00+00:00  "
      ]
     },
     "execution_count": 202,
     "metadata": {},
     "output_type": "execute_result"
    }
   ],
   "source": [
    "df_iss['utc'] = df_iss.apply(lambda row: time_to_utc(row['date_time'], row['timezone']), axis=1)\n",
    "df_iss.head()"
   ]
  },
  {
   "cell_type": "code",
   "execution_count": 203,
   "metadata": {},
   "outputs": [
    {
     "data": {
      "text/html": [
       "<div>\n",
       "<style scoped>\n",
       "    .dataframe tbody tr th:only-of-type {\n",
       "        vertical-align: middle;\n",
       "    }\n",
       "\n",
       "    .dataframe tbody tr th {\n",
       "        vertical-align: top;\n",
       "    }\n",
       "\n",
       "    .dataframe thead th {\n",
       "        text-align: right;\n",
       "    }\n",
       "</style>\n",
       "<table border=\"1\" class=\"dataframe\">\n",
       "  <thead>\n",
       "    <tr style=\"text-align: right;\">\n",
       "      <th></th>\n",
       "      <th>tle</th>\n",
       "    </tr>\n",
       "  </thead>\n",
       "  <tbody>\n",
       "    <tr>\n",
       "      <th>0</th>\n",
       "      <td>[1 25544U 98067A   98324.28472222 -.00003657  ...</td>\n",
       "    </tr>\n",
       "    <tr>\n",
       "      <th>1</th>\n",
       "      <td>[1 25544U 98067A   98324.33235038  .11839616  ...</td>\n",
       "    </tr>\n",
       "    <tr>\n",
       "      <th>2</th>\n",
       "      <td>[1 25544U 98067A   98324.45674522 -.00043259  ...</td>\n",
       "    </tr>\n",
       "    <tr>\n",
       "      <th>3</th>\n",
       "      <td>[1 25544U 98067A   98324.51913017  .00713053  ...</td>\n",
       "    </tr>\n",
       "    <tr>\n",
       "      <th>4</th>\n",
       "      <td>[1 25544U 98067A   98324.58140904  .00632617  ...</td>\n",
       "    </tr>\n",
       "  </tbody>\n",
       "</table>\n",
       "</div>"
      ],
      "text/plain": [
       "                                                 tle\n",
       "0  [1 25544U 98067A   98324.28472222 -.00003657  ...\n",
       "1  [1 25544U 98067A   98324.33235038  .11839616  ...\n",
       "2  [1 25544U 98067A   98324.45674522 -.00043259  ...\n",
       "3  [1 25544U 98067A   98324.51913017  .00713053  ...\n",
       "4  [1 25544U 98067A   98324.58140904  .00632617  ..."
      ]
     },
     "execution_count": 203,
     "metadata": {},
     "output_type": "execute_result"
    }
   ],
   "source": [
    "# okay let's get the zarya epochs and figure out how to compare them\n",
    "df_zarya = pd.DataFrame({'tle':zarya})\n",
    "df_zarya.head()"
   ]
  },
  {
   "cell_type": "code",
   "execution_count": 204,
   "metadata": {},
   "outputs": [],
   "source": [
    "# this function will go through the tle data, and will return us with the data the epoch is for\n",
    "def get_time_epoch(tle):\n",
    "    ts = load.timescale()\n",
    "    line1 = tle[0]\n",
    "    line2 = tle[1]\n",
    "    satellite = EarthSatellite(line1, line2, 'ISS (ZARYA)', ts)\n",
    "    time = satellite.epoch.utc_datetime()\n",
    "    #time = time.replace(tzinfo=None)\n",
    "    return time"
   ]
  },
  {
   "cell_type": "code",
   "execution_count": 205,
   "metadata": {},
   "outputs": [
    {
     "data": {
      "text/html": [
       "<div>\n",
       "<style scoped>\n",
       "    .dataframe tbody tr th:only-of-type {\n",
       "        vertical-align: middle;\n",
       "    }\n",
       "\n",
       "    .dataframe tbody tr th {\n",
       "        vertical-align: top;\n",
       "    }\n",
       "\n",
       "    .dataframe thead th {\n",
       "        text-align: right;\n",
       "    }\n",
       "</style>\n",
       "<table border=\"1\" class=\"dataframe\">\n",
       "  <thead>\n",
       "    <tr style=\"text-align: right;\">\n",
       "      <th></th>\n",
       "      <th>tle</th>\n",
       "      <th>epoch_time</th>\n",
       "    </tr>\n",
       "  </thead>\n",
       "  <tbody>\n",
       "    <tr>\n",
       "      <th>0</th>\n",
       "      <td>[1 25544U 98067A   98324.28472222 -.00003657  ...</td>\n",
       "      <td>1998-11-20 06:49:59.999817+00:00</td>\n",
       "    </tr>\n",
       "    <tr>\n",
       "      <th>1</th>\n",
       "      <td>[1 25544U 98067A   98324.33235038  .11839616  ...</td>\n",
       "      <td>1998-11-20 07:58:35.072815+00:00</td>\n",
       "    </tr>\n",
       "    <tr>\n",
       "      <th>2</th>\n",
       "      <td>[1 25544U 98067A   98324.45674522 -.00043259  ...</td>\n",
       "      <td>1998-11-20 10:57:42.786987+00:00</td>\n",
       "    </tr>\n",
       "    <tr>\n",
       "      <th>3</th>\n",
       "      <td>[1 25544U 98067A   98324.51913017  .00713053  ...</td>\n",
       "      <td>1998-11-20 12:27:32.846680+00:00</td>\n",
       "    </tr>\n",
       "    <tr>\n",
       "      <th>4</th>\n",
       "      <td>[1 25544U 98067A   98324.58140904  .00632617  ...</td>\n",
       "      <td>1998-11-20 13:57:13.741058+00:00</td>\n",
       "    </tr>\n",
       "  </tbody>\n",
       "</table>\n",
       "</div>"
      ],
      "text/plain": [
       "                                                 tle  \\\n",
       "0  [1 25544U 98067A   98324.28472222 -.00003657  ...   \n",
       "1  [1 25544U 98067A   98324.33235038  .11839616  ...   \n",
       "2  [1 25544U 98067A   98324.45674522 -.00043259  ...   \n",
       "3  [1 25544U 98067A   98324.51913017  .00713053  ...   \n",
       "4  [1 25544U 98067A   98324.58140904  .00632617  ...   \n",
       "\n",
       "                        epoch_time  \n",
       "0 1998-11-20 06:49:59.999817+00:00  \n",
       "1 1998-11-20 07:58:35.072815+00:00  \n",
       "2 1998-11-20 10:57:42.786987+00:00  \n",
       "3 1998-11-20 12:27:32.846680+00:00  \n",
       "4 1998-11-20 13:57:13.741058+00:00  "
      ]
     },
     "execution_count": 205,
     "metadata": {},
     "output_type": "execute_result"
    }
   ],
   "source": [
    "# lets create a column with the times\n",
    "df_zarya['epoch_time'] = df_zarya.apply(lambda row: get_time_epoch(row ['tle']), axis=1)\n",
    "df_zarya.head()"
   ]
  },
  {
   "cell_type": "code",
   "execution_count": 206,
   "metadata": {},
   "outputs": [
    {
     "data": {
      "text/html": [
       "<div>\n",
       "<style scoped>\n",
       "    .dataframe tbody tr th:only-of-type {\n",
       "        vertical-align: middle;\n",
       "    }\n",
       "\n",
       "    .dataframe tbody tr th {\n",
       "        vertical-align: top;\n",
       "    }\n",
       "\n",
       "    .dataframe thead th {\n",
       "        text-align: right;\n",
       "    }\n",
       "</style>\n",
       "<table border=\"1\" class=\"dataframe\">\n",
       "  <thead>\n",
       "    <tr style=\"text-align: right;\">\n",
       "      <th></th>\n",
       "      <th>tle</th>\n",
       "      <th>epoch_time</th>\n",
       "      <th>date</th>\n",
       "    </tr>\n",
       "  </thead>\n",
       "  <tbody>\n",
       "    <tr>\n",
       "      <th>0</th>\n",
       "      <td>[1 25544U 98067A   98324.28472222 -.00003657  ...</td>\n",
       "      <td>1998-11-20 06:49:59.999817+00:00</td>\n",
       "      <td>1998-11-20</td>\n",
       "    </tr>\n",
       "    <tr>\n",
       "      <th>1</th>\n",
       "      <td>[1 25544U 98067A   98324.33235038  .11839616  ...</td>\n",
       "      <td>1998-11-20 07:58:35.072815+00:00</td>\n",
       "      <td>1998-11-20</td>\n",
       "    </tr>\n",
       "    <tr>\n",
       "      <th>2</th>\n",
       "      <td>[1 25544U 98067A   98324.45674522 -.00043259  ...</td>\n",
       "      <td>1998-11-20 10:57:42.786987+00:00</td>\n",
       "      <td>1998-11-20</td>\n",
       "    </tr>\n",
       "    <tr>\n",
       "      <th>3</th>\n",
       "      <td>[1 25544U 98067A   98324.51913017  .00713053  ...</td>\n",
       "      <td>1998-11-20 12:27:32.846680+00:00</td>\n",
       "      <td>1998-11-20</td>\n",
       "    </tr>\n",
       "    <tr>\n",
       "      <th>4</th>\n",
       "      <td>[1 25544U 98067A   98324.58140904  .00632617  ...</td>\n",
       "      <td>1998-11-20 13:57:13.741058+00:00</td>\n",
       "      <td>1998-11-20</td>\n",
       "    </tr>\n",
       "  </tbody>\n",
       "</table>\n",
       "</div>"
      ],
      "text/plain": [
       "                                                 tle  \\\n",
       "0  [1 25544U 98067A   98324.28472222 -.00003657  ...   \n",
       "1  [1 25544U 98067A   98324.33235038  .11839616  ...   \n",
       "2  [1 25544U 98067A   98324.45674522 -.00043259  ...   \n",
       "3  [1 25544U 98067A   98324.51913017  .00713053  ...   \n",
       "4  [1 25544U 98067A   98324.58140904  .00632617  ...   \n",
       "\n",
       "                        epoch_time        date  \n",
       "0 1998-11-20 06:49:59.999817+00:00  1998-11-20  \n",
       "1 1998-11-20 07:58:35.072815+00:00  1998-11-20  \n",
       "2 1998-11-20 10:57:42.786987+00:00  1998-11-20  \n",
       "3 1998-11-20 12:27:32.846680+00:00  1998-11-20  \n",
       "4 1998-11-20 13:57:13.741058+00:00  1998-11-20  "
      ]
     },
     "execution_count": 206,
     "metadata": {},
     "output_type": "execute_result"
    }
   ],
   "source": [
    "# lets get the date from the times\n",
    "df_zarya['date'] = df_zarya.apply(lambda row: row['epoch_time'].date(), axis=1)\n",
    "df_zarya.head()"
   ]
  },
  {
   "cell_type": "code",
   "execution_count": 207,
   "metadata": {},
   "outputs": [
    {
     "name": "stdout",
     "output_type": "stream",
     "text": [
      "<class 'pandas.core.frame.DataFrame'>\n",
      "Int64Index: 8399 entries, 6 to 41844\n",
      "Data columns (total 3 columns):\n",
      " #   Column      Non-Null Count  Dtype              \n",
      "---  ------      --------------  -----              \n",
      " 0   tle         8399 non-null   object             \n",
      " 1   epoch_time  8399 non-null   datetime64[ns, UTC]\n",
      " 2   date        8399 non-null   object             \n",
      "dtypes: datetime64[ns, UTC](1), object(2)\n",
      "memory usage: 262.5+ KB\n"
     ]
    }
   ],
   "source": [
    "# here, we are dropping the duplicate dates and only keeping the last one\n",
    "# the reason is, the dates can be used to estimate the epochs nearby,\n",
    "# we are assuming the last one is the most accurate\n",
    "# furthermore, it would be expensive to try to match, each instance with the epochs and find the closest one\n",
    "# by limiting to one per day, we'll speed this up\n",
    "df_zarya.drop_duplicates(subset='date', keep='last', inplace=True)\n",
    "df_zarya.info()"
   ]
  },
  {
   "cell_type": "code",
   "execution_count": 208,
   "metadata": {},
   "outputs": [],
   "source": [
    "# lets get the time of the first epoch\n",
    "first_epoch = df_zarya['epoch_time'].to_list()\n",
    "first_epoch = first_epoch[0]"
   ]
  },
  {
   "cell_type": "code",
   "execution_count": 209,
   "metadata": {},
   "outputs": [
    {
     "data": {
      "text/html": [
       "<div>\n",
       "<style scoped>\n",
       "    .dataframe tbody tr th:only-of-type {\n",
       "        vertical-align: middle;\n",
       "    }\n",
       "\n",
       "    .dataframe tbody tr th {\n",
       "        vertical-align: top;\n",
       "    }\n",
       "\n",
       "    .dataframe thead th {\n",
       "        text-align: right;\n",
       "    }\n",
       "</style>\n",
       "<table border=\"1\" class=\"dataframe\">\n",
       "  <thead>\n",
       "    <tr style=\"text-align: right;\">\n",
       "      <th></th>\n",
       "      <th>Text_ID</th>\n",
       "      <th>city</th>\n",
       "      <th>state</th>\n",
       "      <th>date_time</th>\n",
       "      <th>stats</th>\n",
       "      <th>city_latitude</th>\n",
       "      <th>city_longitude</th>\n",
       "      <th>Reported_stats</th>\n",
       "      <th>city_state</th>\n",
       "      <th>coord</th>\n",
       "      <th>date_time_2</th>\n",
       "      <th>time_difference</th>\n",
       "      <th>reporting_lag</th>\n",
       "      <th>timezone</th>\n",
       "      <th>utc</th>\n",
       "    </tr>\n",
       "  </thead>\n",
       "  <tbody>\n",
       "    <tr>\n",
       "      <th>58577</th>\n",
       "      <td>58578.0</td>\n",
       "      <td>Dillsburg</td>\n",
       "      <td>PA</td>\n",
       "      <td>1998-11-20T20:00:00</td>\n",
       "      <td>[Occurred : 11/20/1998 20:00  (Entered as : 11...</td>\n",
       "      <td>40.081100</td>\n",
       "      <td>-77.031400</td>\n",
       "      <td>2014-08-28 14:59:20</td>\n",
       "      <td>(Dillsburg, PA)</td>\n",
       "      <td>(40.0811, -77.0314)</td>\n",
       "      <td>1998-11-20 20:00:00</td>\n",
       "      <td>5759 days 18:59:20</td>\n",
       "      <td>years</td>\n",
       "      <td>America/New_York</td>\n",
       "      <td>1998-11-21 01:00:00+00:00</td>\n",
       "    </tr>\n",
       "    <tr>\n",
       "      <th>81934</th>\n",
       "      <td>81935.0</td>\n",
       "      <td>Point Pleasant</td>\n",
       "      <td>WV</td>\n",
       "      <td>1998-11-24T16:00:00</td>\n",
       "      <td>[Occurred : 11/24/1998 16:00  (Entered as : 11...</td>\n",
       "      <td>38.861900</td>\n",
       "      <td>-82.073000</td>\n",
       "      <td>2018-08-20 18:54:19</td>\n",
       "      <td>(Point Pleasant, WV)</td>\n",
       "      <td>(38.8619, -82.073)</td>\n",
       "      <td>1998-11-24 16:00:00</td>\n",
       "      <td>7209 days 02:54:19</td>\n",
       "      <td>years</td>\n",
       "      <td>America/New_York</td>\n",
       "      <td>1998-11-24 21:00:00+00:00</td>\n",
       "    </tr>\n",
       "    <tr>\n",
       "      <th>5538</th>\n",
       "      <td>5539.0</td>\n",
       "      <td>Waterford</td>\n",
       "      <td>WI</td>\n",
       "      <td>1998-12-15T00:00:00</td>\n",
       "      <td>[Occurred : 12/15/1998 00:00  (Entered as : 00...</td>\n",
       "      <td>42.787000</td>\n",
       "      <td>-88.209100</td>\n",
       "      <td>2007-06-26 17:12:52</td>\n",
       "      <td>(Waterford, WI)</td>\n",
       "      <td>(42.787, -88.2091)</td>\n",
       "      <td>1998-12-15 00:00:00</td>\n",
       "      <td>3115 days 17:12:52</td>\n",
       "      <td>years</td>\n",
       "      <td>America/Chicago</td>\n",
       "      <td>1998-12-15 06:00:00+00:00</td>\n",
       "    </tr>\n",
       "    <tr>\n",
       "      <th>15667</th>\n",
       "      <td>15668.0</td>\n",
       "      <td>Fairbanks</td>\n",
       "      <td>AK</td>\n",
       "      <td>1998-12-15T20:00:00</td>\n",
       "      <td>[Occurred : 12/15/1998 20:00  (Entered as : 98...</td>\n",
       "      <td>64.845276</td>\n",
       "      <td>-147.834739</td>\n",
       "      <td>2009-09-05 23:35:51</td>\n",
       "      <td>(Fairbanks, AK)</td>\n",
       "      <td>(64.84527636, -147.8347388)</td>\n",
       "      <td>1998-12-15 20:00:00</td>\n",
       "      <td>3917 days 03:35:51</td>\n",
       "      <td>years</td>\n",
       "      <td>America/Anchorage</td>\n",
       "      <td>1998-12-16 05:00:00+00:00</td>\n",
       "    </tr>\n",
       "    <tr>\n",
       "      <th>306</th>\n",
       "      <td>307.0</td>\n",
       "      <td>Boca Grande</td>\n",
       "      <td>FL</td>\n",
       "      <td>1998-12-18T22:00:00</td>\n",
       "      <td>[Occurred : 12/18/1998 22:00  (Entered as : 12...</td>\n",
       "      <td>26.764100</td>\n",
       "      <td>-82.264300</td>\n",
       "      <td>2006-03-17 19:29:11</td>\n",
       "      <td>(Boca Grande, FL)</td>\n",
       "      <td>(26.7641, -82.2643)</td>\n",
       "      <td>1998-12-18 22:00:00</td>\n",
       "      <td>2645 days 21:29:11</td>\n",
       "      <td>years</td>\n",
       "      <td>America/New_York</td>\n",
       "      <td>1998-12-19 03:00:00+00:00</td>\n",
       "    </tr>\n",
       "    <tr>\n",
       "      <th>...</th>\n",
       "      <td>...</td>\n",
       "      <td>...</td>\n",
       "      <td>...</td>\n",
       "      <td>...</td>\n",
       "      <td>...</td>\n",
       "      <td>...</td>\n",
       "      <td>...</td>\n",
       "      <td>...</td>\n",
       "      <td>...</td>\n",
       "      <td>...</td>\n",
       "      <td>...</td>\n",
       "      <td>...</td>\n",
       "      <td>...</td>\n",
       "      <td>...</td>\n",
       "      <td>...</td>\n",
       "    </tr>\n",
       "    <tr>\n",
       "      <th>3899</th>\n",
       "      <td>3900.0</td>\n",
       "      <td>Salinas</td>\n",
       "      <td>CA</td>\n",
       "      <td>2019-12-22T18:00:00</td>\n",
       "      <td>[Occurred : 12/22/2019 18:00  (Entered as : 12...</td>\n",
       "      <td>36.688525</td>\n",
       "      <td>-121.628455</td>\n",
       "      <td>2007-09-02 23:30:25</td>\n",
       "      <td>(Salinas, CA)</td>\n",
       "      <td>(36.68852458, -121.6284548)</td>\n",
       "      <td>2019-12-22 18:00:00</td>\n",
       "      <td>4493 days 18:29:35</td>\n",
       "      <td>years</td>\n",
       "      <td>America/Los_Angeles</td>\n",
       "      <td>2019-12-23 02:00:00+00:00</td>\n",
       "    </tr>\n",
       "    <tr>\n",
       "      <th>3900</th>\n",
       "      <td>3901.0</td>\n",
       "      <td>Castro Valley</td>\n",
       "      <td>CA</td>\n",
       "      <td>2019-12-22T18:10:00</td>\n",
       "      <td>[Occurred : 12/22/2019 18:10  (Entered as : 12...</td>\n",
       "      <td>37.705756</td>\n",
       "      <td>-122.069713</td>\n",
       "      <td>2007-08-19 13:25:49</td>\n",
       "      <td>(Castro Valley, CA)</td>\n",
       "      <td>(37.70575633, -122.0697127)</td>\n",
       "      <td>2019-12-22 18:10:00</td>\n",
       "      <td>4508 days 04:44:11</td>\n",
       "      <td>years</td>\n",
       "      <td>America/Los_Angeles</td>\n",
       "      <td>2019-12-23 02:10:00+00:00</td>\n",
       "    </tr>\n",
       "    <tr>\n",
       "      <th>3940</th>\n",
       "      <td>3941.0</td>\n",
       "      <td>Kennett Square</td>\n",
       "      <td>PA</td>\n",
       "      <td>2019-12-22T22:15:00</td>\n",
       "      <td>[Occurred : 12/22/2019 22:15  (Entered as : 12...</td>\n",
       "      <td>39.846800</td>\n",
       "      <td>-75.711600</td>\n",
       "      <td>2006-08-03 13:54:48</td>\n",
       "      <td>(Kennett Square, PA)</td>\n",
       "      <td>(39.8468, -75.7116)</td>\n",
       "      <td>2019-12-22 22:15:00</td>\n",
       "      <td>4889 days 08:20:12</td>\n",
       "      <td>years</td>\n",
       "      <td>America/New_York</td>\n",
       "      <td>2019-12-23 03:15:00+00:00</td>\n",
       "    </tr>\n",
       "    <tr>\n",
       "      <th>3941</th>\n",
       "      <td>3942.0</td>\n",
       "      <td>Clarkston</td>\n",
       "      <td>MI</td>\n",
       "      <td>2019-12-22T23:00:00</td>\n",
       "      <td>[Occurred : 12/22/2019 23:00  (Entered as : 12...</td>\n",
       "      <td>42.739865</td>\n",
       "      <td>-83.417150</td>\n",
       "      <td>2006-08-11 12:30:29</td>\n",
       "      <td>(Clarkston, MI)</td>\n",
       "      <td>(42.73986514, -83.41715029)</td>\n",
       "      <td>2019-12-22 23:00:00</td>\n",
       "      <td>4881 days 10:29:31</td>\n",
       "      <td>years</td>\n",
       "      <td>America/Detroit</td>\n",
       "      <td>2019-12-23 04:00:00+00:00</td>\n",
       "    </tr>\n",
       "    <tr>\n",
       "      <th>85713</th>\n",
       "      <td>85714.0</td>\n",
       "      <td>Wilmington</td>\n",
       "      <td>NC</td>\n",
       "      <td>2019-12-29T20:40:00</td>\n",
       "      <td>[Occurred : 11/29/2019 20:40  (Entered as : 12...</td>\n",
       "      <td>34.238375</td>\n",
       "      <td>-77.878468</td>\n",
       "      <td>2019-11-18 16:21:49</td>\n",
       "      <td>(Wilmington, NC)</td>\n",
       "      <td>(34.23837495, -77.87846769)</td>\n",
       "      <td>2019-12-29 20:40:00</td>\n",
       "      <td>41 days 04:18:11</td>\n",
       "      <td>months</td>\n",
       "      <td>America/New_York</td>\n",
       "      <td>2019-12-30 01:40:00+00:00</td>\n",
       "    </tr>\n",
       "  </tbody>\n",
       "</table>\n",
       "<p>65865 rows × 15 columns</p>\n",
       "</div>"
      ],
      "text/plain": [
       "       Text_ID            city state            date_time  \\\n",
       "58577  58578.0       Dillsburg    PA  1998-11-20T20:00:00   \n",
       "81934  81935.0  Point Pleasant    WV  1998-11-24T16:00:00   \n",
       "5538    5539.0       Waterford    WI  1998-12-15T00:00:00   \n",
       "15667  15668.0       Fairbanks    AK  1998-12-15T20:00:00   \n",
       "306      307.0     Boca Grande    FL  1998-12-18T22:00:00   \n",
       "...        ...             ...   ...                  ...   \n",
       "3899    3900.0         Salinas    CA  2019-12-22T18:00:00   \n",
       "3900    3901.0   Castro Valley    CA  2019-12-22T18:10:00   \n",
       "3940    3941.0  Kennett Square    PA  2019-12-22T22:15:00   \n",
       "3941    3942.0       Clarkston    MI  2019-12-22T23:00:00   \n",
       "85713  85714.0      Wilmington    NC  2019-12-29T20:40:00   \n",
       "\n",
       "                                                   stats  city_latitude  \\\n",
       "58577  [Occurred : 11/20/1998 20:00  (Entered as : 11...      40.081100   \n",
       "81934  [Occurred : 11/24/1998 16:00  (Entered as : 11...      38.861900   \n",
       "5538   [Occurred : 12/15/1998 00:00  (Entered as : 00...      42.787000   \n",
       "15667  [Occurred : 12/15/1998 20:00  (Entered as : 98...      64.845276   \n",
       "306    [Occurred : 12/18/1998 22:00  (Entered as : 12...      26.764100   \n",
       "...                                                  ...            ...   \n",
       "3899   [Occurred : 12/22/2019 18:00  (Entered as : 12...      36.688525   \n",
       "3900   [Occurred : 12/22/2019 18:10  (Entered as : 12...      37.705756   \n",
       "3940   [Occurred : 12/22/2019 22:15  (Entered as : 12...      39.846800   \n",
       "3941   [Occurred : 12/22/2019 23:00  (Entered as : 12...      42.739865   \n",
       "85713  [Occurred : 11/29/2019 20:40  (Entered as : 12...      34.238375   \n",
       "\n",
       "       city_longitude       Reported_stats            city_state  \\\n",
       "58577      -77.031400  2014-08-28 14:59:20       (Dillsburg, PA)   \n",
       "81934      -82.073000  2018-08-20 18:54:19  (Point Pleasant, WV)   \n",
       "5538       -88.209100  2007-06-26 17:12:52       (Waterford, WI)   \n",
       "15667     -147.834739  2009-09-05 23:35:51       (Fairbanks, AK)   \n",
       "306        -82.264300  2006-03-17 19:29:11     (Boca Grande, FL)   \n",
       "...               ...                  ...                   ...   \n",
       "3899      -121.628455  2007-09-02 23:30:25         (Salinas, CA)   \n",
       "3900      -122.069713  2007-08-19 13:25:49   (Castro Valley, CA)   \n",
       "3940       -75.711600  2006-08-03 13:54:48  (Kennett Square, PA)   \n",
       "3941       -83.417150  2006-08-11 12:30:29       (Clarkston, MI)   \n",
       "85713      -77.878468  2019-11-18 16:21:49      (Wilmington, NC)   \n",
       "\n",
       "                             coord         date_time_2    time_difference  \\\n",
       "58577          (40.0811, -77.0314) 1998-11-20 20:00:00 5759 days 18:59:20   \n",
       "81934           (38.8619, -82.073) 1998-11-24 16:00:00 7209 days 02:54:19   \n",
       "5538            (42.787, -88.2091) 1998-12-15 00:00:00 3115 days 17:12:52   \n",
       "15667  (64.84527636, -147.8347388) 1998-12-15 20:00:00 3917 days 03:35:51   \n",
       "306            (26.7641, -82.2643) 1998-12-18 22:00:00 2645 days 21:29:11   \n",
       "...                            ...                 ...                ...   \n",
       "3899   (36.68852458, -121.6284548) 2019-12-22 18:00:00 4493 days 18:29:35   \n",
       "3900   (37.70575633, -122.0697127) 2019-12-22 18:10:00 4508 days 04:44:11   \n",
       "3940           (39.8468, -75.7116) 2019-12-22 22:15:00 4889 days 08:20:12   \n",
       "3941   (42.73986514, -83.41715029) 2019-12-22 23:00:00 4881 days 10:29:31   \n",
       "85713  (34.23837495, -77.87846769) 2019-12-29 20:40:00   41 days 04:18:11   \n",
       "\n",
       "      reporting_lag             timezone                       utc  \n",
       "58577         years     America/New_York 1998-11-21 01:00:00+00:00  \n",
       "81934         years     America/New_York 1998-11-24 21:00:00+00:00  \n",
       "5538          years      America/Chicago 1998-12-15 06:00:00+00:00  \n",
       "15667         years    America/Anchorage 1998-12-16 05:00:00+00:00  \n",
       "306           years     America/New_York 1998-12-19 03:00:00+00:00  \n",
       "...             ...                  ...                       ...  \n",
       "3899          years  America/Los_Angeles 2019-12-23 02:00:00+00:00  \n",
       "3900          years  America/Los_Angeles 2019-12-23 02:10:00+00:00  \n",
       "3940          years     America/New_York 2019-12-23 03:15:00+00:00  \n",
       "3941          years      America/Detroit 2019-12-23 04:00:00+00:00  \n",
       "85713        months     America/New_York 2019-12-30 01:40:00+00:00  \n",
       "\n",
       "[65865 rows x 15 columns]"
      ]
     },
     "execution_count": 209,
     "metadata": {},
     "output_type": "execute_result"
    }
   ],
   "source": [
    "# now the iss information really doesn't help for instances where the\n",
    "df_iss = df_iss[df_iss['utc'] > first_epoch]\n",
    "df_iss.sort_values(by='utc')"
   ]
  },
  {
   "cell_type": "code",
   "execution_count": 210,
   "metadata": {},
   "outputs": [
    {
     "data": {
      "text/html": [
       "<div>\n",
       "<style scoped>\n",
       "    .dataframe tbody tr th:only-of-type {\n",
       "        vertical-align: middle;\n",
       "    }\n",
       "\n",
       "    .dataframe tbody tr th {\n",
       "        vertical-align: top;\n",
       "    }\n",
       "\n",
       "    .dataframe thead th {\n",
       "        text-align: right;\n",
       "    }\n",
       "</style>\n",
       "<table border=\"1\" class=\"dataframe\">\n",
       "  <thead>\n",
       "    <tr style=\"text-align: right;\">\n",
       "      <th></th>\n",
       "      <th>Text_ID</th>\n",
       "      <th>city</th>\n",
       "      <th>state</th>\n",
       "      <th>date_time</th>\n",
       "      <th>stats</th>\n",
       "      <th>city_latitude</th>\n",
       "      <th>city_longitude</th>\n",
       "      <th>Reported_stats</th>\n",
       "      <th>city_state</th>\n",
       "      <th>coord</th>\n",
       "      <th>date_time_2</th>\n",
       "      <th>time_difference</th>\n",
       "      <th>reporting_lag</th>\n",
       "      <th>timezone</th>\n",
       "      <th>utc</th>\n",
       "      <th>date</th>\n",
       "    </tr>\n",
       "  </thead>\n",
       "  <tbody>\n",
       "    <tr>\n",
       "      <th>0</th>\n",
       "      <td>1.0</td>\n",
       "      <td>Chester</td>\n",
       "      <td>VA</td>\n",
       "      <td>2019-12-12T18:43:00</td>\n",
       "      <td>[Occurred : 12/12/2019 18:43  (Entered as : 12...</td>\n",
       "      <td>37.343152</td>\n",
       "      <td>-77.408582</td>\n",
       "      <td>2019-12-19 19:19:31</td>\n",
       "      <td>(Chester, VA)</td>\n",
       "      <td>(37.34315152, -77.40858182)</td>\n",
       "      <td>2019-12-12 18:43:00</td>\n",
       "      <td>7 days 00:36:31</td>\n",
       "      <td>weeks</td>\n",
       "      <td>America/New_York</td>\n",
       "      <td>2019-12-12 23:43:00+00:00</td>\n",
       "      <td>2019-12-12</td>\n",
       "    </tr>\n",
       "    <tr>\n",
       "      <th>1</th>\n",
       "      <td>2.0</td>\n",
       "      <td>Rocky Hill</td>\n",
       "      <td>CT</td>\n",
       "      <td>2019-03-22T18:30:00</td>\n",
       "      <td>[Occurred : 3/22/2019 18:30  (Entered as : 03/...</td>\n",
       "      <td>41.664800</td>\n",
       "      <td>-72.639300</td>\n",
       "      <td>2019-03-27 16:10:19</td>\n",
       "      <td>(Rocky Hill, CT)</td>\n",
       "      <td>(41.6648, -72.6393)</td>\n",
       "      <td>2019-03-22 18:30:00</td>\n",
       "      <td>4 days 21:40:19</td>\n",
       "      <td>days</td>\n",
       "      <td>America/New_York</td>\n",
       "      <td>2019-03-22 22:30:00+00:00</td>\n",
       "      <td>2019-03-22</td>\n",
       "    </tr>\n",
       "    <tr>\n",
       "      <th>3</th>\n",
       "      <td>4.0</td>\n",
       "      <td>Ottawa</td>\n",
       "      <td>ON</td>\n",
       "      <td>2019-04-17T02:00:00</td>\n",
       "      <td>[Occurred : 4/17/2019 02:00  (Entered as : 04-...</td>\n",
       "      <td>45.381383</td>\n",
       "      <td>-75.708501</td>\n",
       "      <td>2019-04-17 08:41:25</td>\n",
       "      <td>(Ottawa, ON)</td>\n",
       "      <td>(45.3813825, -75.70850071)</td>\n",
       "      <td>2019-04-17 02:00:00</td>\n",
       "      <td>0 days 06:41:25</td>\n",
       "      <td>hours</td>\n",
       "      <td>America/Toronto</td>\n",
       "      <td>2019-04-17 06:00:00+00:00</td>\n",
       "      <td>2019-04-17</td>\n",
       "    </tr>\n",
       "    <tr>\n",
       "      <th>5</th>\n",
       "      <td>6.0</td>\n",
       "      <td>Kirbyville</td>\n",
       "      <td>TX</td>\n",
       "      <td>2019-04-02T20:25:00</td>\n",
       "      <td>[Occurred : 4/2/2019 20:25  (Entered as : 04/0...</td>\n",
       "      <td>30.677200</td>\n",
       "      <td>-94.005200</td>\n",
       "      <td>2019-04-03 18:36:52</td>\n",
       "      <td>(Kirbyville, TX)</td>\n",
       "      <td>(30.6772, -94.0052)</td>\n",
       "      <td>2019-04-02 20:25:00</td>\n",
       "      <td>0 days 22:11:52</td>\n",
       "      <td>hours</td>\n",
       "      <td>America/Chicago</td>\n",
       "      <td>2019-04-03 01:25:00+00:00</td>\n",
       "      <td>2019-04-03</td>\n",
       "    </tr>\n",
       "    <tr>\n",
       "      <th>6</th>\n",
       "      <td>7.0</td>\n",
       "      <td>Tucson</td>\n",
       "      <td>AZ</td>\n",
       "      <td>2019-05-01T11:00:00</td>\n",
       "      <td>[Occurred : 5/1/2019 11:00  (Entered as : 5/1/...</td>\n",
       "      <td>32.259941</td>\n",
       "      <td>-110.927542</td>\n",
       "      <td>2019-05-01 11:26:56</td>\n",
       "      <td>(Tucson, AZ)</td>\n",
       "      <td>(32.25994076, -110.9275423)</td>\n",
       "      <td>2019-05-01 11:00:00</td>\n",
       "      <td>0 days 00:26:56</td>\n",
       "      <td>hours</td>\n",
       "      <td>America/Phoenix</td>\n",
       "      <td>2019-05-01 18:00:00+00:00</td>\n",
       "      <td>2019-05-01</td>\n",
       "    </tr>\n",
       "  </tbody>\n",
       "</table>\n",
       "</div>"
      ],
      "text/plain": [
       "   Text_ID        city state            date_time  \\\n",
       "0      1.0     Chester    VA  2019-12-12T18:43:00   \n",
       "1      2.0  Rocky Hill    CT  2019-03-22T18:30:00   \n",
       "3      4.0      Ottawa    ON  2019-04-17T02:00:00   \n",
       "5      6.0  Kirbyville    TX  2019-04-02T20:25:00   \n",
       "6      7.0      Tucson    AZ  2019-05-01T11:00:00   \n",
       "\n",
       "                                               stats  city_latitude  \\\n",
       "0  [Occurred : 12/12/2019 18:43  (Entered as : 12...      37.343152   \n",
       "1  [Occurred : 3/22/2019 18:30  (Entered as : 03/...      41.664800   \n",
       "3  [Occurred : 4/17/2019 02:00  (Entered as : 04-...      45.381383   \n",
       "5  [Occurred : 4/2/2019 20:25  (Entered as : 04/0...      30.677200   \n",
       "6  [Occurred : 5/1/2019 11:00  (Entered as : 5/1/...      32.259941   \n",
       "\n",
       "   city_longitude       Reported_stats        city_state  \\\n",
       "0      -77.408582  2019-12-19 19:19:31     (Chester, VA)   \n",
       "1      -72.639300  2019-03-27 16:10:19  (Rocky Hill, CT)   \n",
       "3      -75.708501  2019-04-17 08:41:25      (Ottawa, ON)   \n",
       "5      -94.005200  2019-04-03 18:36:52  (Kirbyville, TX)   \n",
       "6     -110.927542  2019-05-01 11:26:56      (Tucson, AZ)   \n",
       "\n",
       "                         coord         date_time_2 time_difference  \\\n",
       "0  (37.34315152, -77.40858182) 2019-12-12 18:43:00 7 days 00:36:31   \n",
       "1          (41.6648, -72.6393) 2019-03-22 18:30:00 4 days 21:40:19   \n",
       "3   (45.3813825, -75.70850071) 2019-04-17 02:00:00 0 days 06:41:25   \n",
       "5          (30.6772, -94.0052) 2019-04-02 20:25:00 0 days 22:11:52   \n",
       "6  (32.25994076, -110.9275423) 2019-05-01 11:00:00 0 days 00:26:56   \n",
       "\n",
       "  reporting_lag          timezone                       utc        date  \n",
       "0         weeks  America/New_York 2019-12-12 23:43:00+00:00  2019-12-12  \n",
       "1          days  America/New_York 2019-03-22 22:30:00+00:00  2019-03-22  \n",
       "3         hours   America/Toronto 2019-04-17 06:00:00+00:00  2019-04-17  \n",
       "5         hours   America/Chicago 2019-04-03 01:25:00+00:00  2019-04-03  \n",
       "6         hours   America/Phoenix 2019-05-01 18:00:00+00:00  2019-05-01  "
      ]
     },
     "execution_count": 210,
     "metadata": {},
     "output_type": "execute_result"
    }
   ],
   "source": [
    "# lets get the date info here, we can then use this to join our data\n",
    "df_iss['date'] = df_iss.apply(lambda row: row['utc'].date(), axis=1)\n",
    "df_iss.head()"
   ]
  },
  {
   "cell_type": "code",
   "execution_count": 211,
   "metadata": {
    "scrolled": true
   },
   "outputs": [
    {
     "data": {
      "text/html": [
       "<div>\n",
       "<style scoped>\n",
       "    .dataframe tbody tr th:only-of-type {\n",
       "        vertical-align: middle;\n",
       "    }\n",
       "\n",
       "    .dataframe tbody tr th {\n",
       "        vertical-align: top;\n",
       "    }\n",
       "\n",
       "    .dataframe thead th {\n",
       "        text-align: right;\n",
       "    }\n",
       "</style>\n",
       "<table border=\"1\" class=\"dataframe\">\n",
       "  <thead>\n",
       "    <tr style=\"text-align: right;\">\n",
       "      <th></th>\n",
       "      <th>Text_ID</th>\n",
       "      <th>city</th>\n",
       "      <th>state</th>\n",
       "      <th>date_time</th>\n",
       "      <th>stats</th>\n",
       "      <th>city_latitude</th>\n",
       "      <th>city_longitude</th>\n",
       "      <th>Reported_stats</th>\n",
       "      <th>city_state</th>\n",
       "      <th>coord</th>\n",
       "      <th>date_time_2</th>\n",
       "      <th>time_difference</th>\n",
       "      <th>reporting_lag</th>\n",
       "      <th>timezone</th>\n",
       "      <th>utc</th>\n",
       "      <th>date</th>\n",
       "      <th>tle</th>\n",
       "      <th>epoch_time</th>\n",
       "    </tr>\n",
       "  </thead>\n",
       "  <tbody>\n",
       "    <tr>\n",
       "      <th>0</th>\n",
       "      <td>1.0</td>\n",
       "      <td>Chester</td>\n",
       "      <td>VA</td>\n",
       "      <td>2019-12-12T18:43:00</td>\n",
       "      <td>[Occurred : 12/12/2019 18:43  (Entered as : 12...</td>\n",
       "      <td>37.343152</td>\n",
       "      <td>-77.408582</td>\n",
       "      <td>2019-12-19 19:19:31</td>\n",
       "      <td>(Chester, VA)</td>\n",
       "      <td>(37.34315152, -77.40858182)</td>\n",
       "      <td>2019-12-12 18:43:00</td>\n",
       "      <td>7 days 00:36:31</td>\n",
       "      <td>weeks</td>\n",
       "      <td>America/New_York</td>\n",
       "      <td>2019-12-12 23:43:00+00:00</td>\n",
       "      <td>2019-12-12</td>\n",
       "      <td>[1 25544U 98067A   19346.93506944 -.00000088  ...</td>\n",
       "      <td>2019-12-12 22:26:29.999603+00:00</td>\n",
       "    </tr>\n",
       "    <tr>\n",
       "      <th>1</th>\n",
       "      <td>3824.0</td>\n",
       "      <td>Waldorf</td>\n",
       "      <td>MD</td>\n",
       "      <td>2019-12-12T18:30:00</td>\n",
       "      <td>[Occurred : 12/12/2019 18:30  (Entered as : 12...</td>\n",
       "      <td>38.611997</td>\n",
       "      <td>-76.906551</td>\n",
       "      <td>2019-12-21 18:11:11</td>\n",
       "      <td>(Waldorf, MD)</td>\n",
       "      <td>(38.61199693, -76.90655119)</td>\n",
       "      <td>2019-12-12 18:30:00</td>\n",
       "      <td>8 days 23:41:11</td>\n",
       "      <td>weeks</td>\n",
       "      <td>America/New_York</td>\n",
       "      <td>2019-12-12 23:30:00+00:00</td>\n",
       "      <td>2019-12-12</td>\n",
       "      <td>[1 25544U 98067A   19346.93506944 -.00000088  ...</td>\n",
       "      <td>2019-12-12 22:26:29.999603+00:00</td>\n",
       "    </tr>\n",
       "    <tr>\n",
       "      <th>2</th>\n",
       "      <td>2.0</td>\n",
       "      <td>Rocky Hill</td>\n",
       "      <td>CT</td>\n",
       "      <td>2019-03-22T18:30:00</td>\n",
       "      <td>[Occurred : 3/22/2019 18:30  (Entered as : 03/...</td>\n",
       "      <td>41.664800</td>\n",
       "      <td>-72.639300</td>\n",
       "      <td>2019-03-27 16:10:19</td>\n",
       "      <td>(Rocky Hill, CT)</td>\n",
       "      <td>(41.6648, -72.6393)</td>\n",
       "      <td>2019-03-22 18:30:00</td>\n",
       "      <td>4 days 21:40:19</td>\n",
       "      <td>days</td>\n",
       "      <td>America/New_York</td>\n",
       "      <td>2019-03-22 22:30:00+00:00</td>\n",
       "      <td>2019-03-22</td>\n",
       "      <td>[1 25544U 98067A   19081.91354657  .00001745  ...</td>\n",
       "      <td>2019-03-22 21:55:30.423645+00:00</td>\n",
       "    </tr>\n",
       "    <tr>\n",
       "      <th>3</th>\n",
       "      <td>3413.0</td>\n",
       "      <td>Windsor</td>\n",
       "      <td>CA</td>\n",
       "      <td>2019-03-21T23:00:00</td>\n",
       "      <td>[Occurred : 3/21/2019 23:00  (Entered as : 3/2...</td>\n",
       "      <td>38.536900</td>\n",
       "      <td>-122.812300</td>\n",
       "      <td>2019-03-31 08:34:56</td>\n",
       "      <td>(Windsor, CA)</td>\n",
       "      <td>(38.5369, -122.8123)</td>\n",
       "      <td>2019-03-21 23:00:00</td>\n",
       "      <td>9 days 09:34:56</td>\n",
       "      <td>weeks</td>\n",
       "      <td>America/Los_Angeles</td>\n",
       "      <td>2019-03-22 06:00:00+00:00</td>\n",
       "      <td>2019-03-22</td>\n",
       "      <td>[1 25544U 98067A   19081.91354657  .00001745  ...</td>\n",
       "      <td>2019-03-22 21:55:30.423645+00:00</td>\n",
       "    </tr>\n",
       "    <tr>\n",
       "      <th>4</th>\n",
       "      <td>3728.0</td>\n",
       "      <td>Nampa</td>\n",
       "      <td>ID</td>\n",
       "      <td>2019-03-21T19:30:00</td>\n",
       "      <td>[Occurred : 3/21/2019 19:30  (Entered as : 03/...</td>\n",
       "      <td>43.568919</td>\n",
       "      <td>-116.561976</td>\n",
       "      <td>2019-03-29 04:26:59</td>\n",
       "      <td>(Nampa, ID)</td>\n",
       "      <td>(43.56891901, -116.5619761)</td>\n",
       "      <td>2019-03-21 19:30:00</td>\n",
       "      <td>7 days 08:56:59</td>\n",
       "      <td>weeks</td>\n",
       "      <td>America/Boise</td>\n",
       "      <td>2019-03-22 01:30:00+00:00</td>\n",
       "      <td>2019-03-22</td>\n",
       "      <td>[1 25544U 98067A   19081.91354657  .00001745  ...</td>\n",
       "      <td>2019-03-22 21:55:30.423645+00:00</td>\n",
       "    </tr>\n",
       "  </tbody>\n",
       "</table>\n",
       "</div>"
      ],
      "text/plain": [
       "   Text_ID        city state            date_time  \\\n",
       "0      1.0     Chester    VA  2019-12-12T18:43:00   \n",
       "1   3824.0     Waldorf    MD  2019-12-12T18:30:00   \n",
       "2      2.0  Rocky Hill    CT  2019-03-22T18:30:00   \n",
       "3   3413.0     Windsor    CA  2019-03-21T23:00:00   \n",
       "4   3728.0       Nampa    ID  2019-03-21T19:30:00   \n",
       "\n",
       "                                               stats  city_latitude  \\\n",
       "0  [Occurred : 12/12/2019 18:43  (Entered as : 12...      37.343152   \n",
       "1  [Occurred : 12/12/2019 18:30  (Entered as : 12...      38.611997   \n",
       "2  [Occurred : 3/22/2019 18:30  (Entered as : 03/...      41.664800   \n",
       "3  [Occurred : 3/21/2019 23:00  (Entered as : 3/2...      38.536900   \n",
       "4  [Occurred : 3/21/2019 19:30  (Entered as : 03/...      43.568919   \n",
       "\n",
       "   city_longitude       Reported_stats        city_state  \\\n",
       "0      -77.408582  2019-12-19 19:19:31     (Chester, VA)   \n",
       "1      -76.906551  2019-12-21 18:11:11     (Waldorf, MD)   \n",
       "2      -72.639300  2019-03-27 16:10:19  (Rocky Hill, CT)   \n",
       "3     -122.812300  2019-03-31 08:34:56     (Windsor, CA)   \n",
       "4     -116.561976  2019-03-29 04:26:59       (Nampa, ID)   \n",
       "\n",
       "                         coord         date_time_2 time_difference  \\\n",
       "0  (37.34315152, -77.40858182) 2019-12-12 18:43:00 7 days 00:36:31   \n",
       "1  (38.61199693, -76.90655119) 2019-12-12 18:30:00 8 days 23:41:11   \n",
       "2          (41.6648, -72.6393) 2019-03-22 18:30:00 4 days 21:40:19   \n",
       "3         (38.5369, -122.8123) 2019-03-21 23:00:00 9 days 09:34:56   \n",
       "4  (43.56891901, -116.5619761) 2019-03-21 19:30:00 7 days 08:56:59   \n",
       "\n",
       "  reporting_lag             timezone                       utc        date  \\\n",
       "0         weeks     America/New_York 2019-12-12 23:43:00+00:00  2019-12-12   \n",
       "1         weeks     America/New_York 2019-12-12 23:30:00+00:00  2019-12-12   \n",
       "2          days     America/New_York 2019-03-22 22:30:00+00:00  2019-03-22   \n",
       "3         weeks  America/Los_Angeles 2019-03-22 06:00:00+00:00  2019-03-22   \n",
       "4         weeks        America/Boise 2019-03-22 01:30:00+00:00  2019-03-22   \n",
       "\n",
       "                                                 tle  \\\n",
       "0  [1 25544U 98067A   19346.93506944 -.00000088  ...   \n",
       "1  [1 25544U 98067A   19346.93506944 -.00000088  ...   \n",
       "2  [1 25544U 98067A   19081.91354657  .00001745  ...   \n",
       "3  [1 25544U 98067A   19081.91354657  .00001745  ...   \n",
       "4  [1 25544U 98067A   19081.91354657  .00001745  ...   \n",
       "\n",
       "                        epoch_time  \n",
       "0 2019-12-12 22:26:29.999603+00:00  \n",
       "1 2019-12-12 22:26:29.999603+00:00  \n",
       "2 2019-03-22 21:55:30.423645+00:00  \n",
       "3 2019-03-22 21:55:30.423645+00:00  \n",
       "4 2019-03-22 21:55:30.423645+00:00  "
      ]
     },
     "execution_count": 211,
     "metadata": {},
     "output_type": "execute_result"
    }
   ],
   "source": [
    "# merged df\n",
    "merged_df = pd.merge(df_iss, df_zarya, on='date')\n",
    "merged_df.head()"
   ]
  },
  {
   "cell_type": "code",
   "execution_count": 212,
   "metadata": {},
   "outputs": [
    {
     "name": "stdout",
     "output_type": "stream",
     "text": [
      "<class 'pandas.core.frame.DataFrame'>\n",
      "Int64Index: 65698 entries, 0 to 65697\n",
      "Data columns (total 18 columns):\n",
      " #   Column           Non-Null Count  Dtype                  \n",
      "---  ------           --------------  -----                  \n",
      " 0   Text_ID          65698 non-null  float64                \n",
      " 1   city             65698 non-null  object                 \n",
      " 2   state            65698 non-null  object                 \n",
      " 3   date_time        65698 non-null  object                 \n",
      " 4   stats            65698 non-null  object                 \n",
      " 5   city_latitude    65698 non-null  float64                \n",
      " 6   city_longitude   65698 non-null  float64                \n",
      " 7   Reported_stats   65698 non-null  object                 \n",
      " 8   city_state       65698 non-null  object                 \n",
      " 9   coord            65698 non-null  object                 \n",
      " 10  date_time_2      65698 non-null  datetime64[ns]         \n",
      " 11  time_difference  65698 non-null  timedelta64[ns]        \n",
      " 12  reporting_lag    65698 non-null  category               \n",
      " 13  timezone         65698 non-null  object                 \n",
      " 14  utc              65698 non-null  datetime64[ns, tzutc()]\n",
      " 15  date             65698 non-null  object                 \n",
      " 16  tle              65698 non-null  object                 \n",
      " 17  epoch_time       65698 non-null  datetime64[ns, UTC]    \n",
      "dtypes: category(1), datetime64[ns, UTC](1), datetime64[ns, tzutc()](1), datetime64[ns](1), float64(3), object(10), timedelta64[ns](1)\n",
      "memory usage: 9.1+ MB\n"
     ]
    }
   ],
   "source": [
    "merged_df.info()"
   ]
  },
  {
   "cell_type": "code",
   "execution_count": 213,
   "metadata": {},
   "outputs": [
    {
     "data": {
      "text/plain": [
       "['1 25544U 98067A   19346.93506944 -.00000088  00000-0  64965-5 0  9995',\n",
       " '2 25544  51.6425 195.1413 0007371  28.2970 176.8850 15.50119535202986']"
      ]
     },
     "execution_count": 213,
     "metadata": {},
     "output_type": "execute_result"
    }
   ],
   "source": [
    "# look at tle data\n",
    "merged_df['tle'][0]"
   ]
  },
  {
   "cell_type": "code",
   "execution_count": 214,
   "metadata": {},
   "outputs": [
    {
     "data": {
      "text/plain": [
       "Timestamp('2019-12-12 23:43:00+0000', tz='tzutc()')"
      ]
     },
     "execution_count": 214,
     "metadata": {},
     "output_type": "execute_result"
    }
   ],
   "source": [
    "# check the time\n",
    "merged_df['utc'][0]"
   ]
  },
  {
   "cell_type": "code",
   "execution_count": 215,
   "metadata": {},
   "outputs": [],
   "source": [
    "# function to get us the iss coord from the tle data\n",
    "def iss_cord(tle, utc):\n",
    "    ts=load.timescale()\n",
    "    line1 = tle[0]\n",
    "    line2 = tle[1]\n",
    "    satellite = EarthSatellite(line1, line2, 'ISS (ZARYA)', ts)\n",
    "    t = ts.from_datetime(utc)\n",
    "    geocentric = satellite.at(t)\n",
    "    lat, lon = wgs84.latlon_of(geocentric)\n",
    "    coord = ('{:.4f}'.format(lat.degrees),'{:.4f}'.format(lon.degrees))\n",
    "    return coord\n"
   ]
  },
  {
   "cell_type": "code",
   "execution_count": 216,
   "metadata": {},
   "outputs": [
    {
     "data": {
      "text/plain": [
       "('29.0182', '-88.1384')"
      ]
     },
     "execution_count": 216,
     "metadata": {},
     "output_type": "execute_result"
    }
   ],
   "source": [
    "#test\n",
    "iss_cord(merged_df['tle'][0], merged_df['utc'][0])"
   ]
  },
  {
   "cell_type": "code",
   "execution_count": 217,
   "metadata": {},
   "outputs": [],
   "source": [
    "# lets apply our function to the dataframe\n",
    "merged_df['iss_cord'] = merged_df.apply(lambda row: iss_cord(row['tle'], row['utc']), axis=1)"
   ]
  },
  {
   "cell_type": "code",
   "execution_count": 218,
   "metadata": {},
   "outputs": [],
   "source": [
    "#merged_df['coords'] = merged_df.apply(lambda row: create_coord(row['city_latitude'], row['city_longitude']), axis=1)\n",
    "#merged_df.head()"
   ]
  },
  {
   "cell_type": "code",
   "execution_count": 219,
   "metadata": {},
   "outputs": [],
   "source": [
    "# identify if the iss is flying overhead nearby\n",
    "# here we made assumptions about 3 degrees each way\n",
    "# the reality now that we have learned more about space is that it is a little more\n",
    "# complicated than that\n",
    "def iss_nearby(arg1, arg2):\n",
    "    if abs(float(arg1[0]) - float(arg2[0])) <= 3:\n",
    "        if abs(float(arg1[1]) - float(arg2[1])) <= 3:\n",
    "            return True\n",
    "        else:\n",
    "            return False\n",
    "    else:\n",
    "        return False"
   ]
  },
  {
   "cell_type": "code",
   "execution_count": 220,
   "metadata": {},
   "outputs": [
    {
     "data": {
      "text/html": [
       "<div>\n",
       "<style scoped>\n",
       "    .dataframe tbody tr th:only-of-type {\n",
       "        vertical-align: middle;\n",
       "    }\n",
       "\n",
       "    .dataframe tbody tr th {\n",
       "        vertical-align: top;\n",
       "    }\n",
       "\n",
       "    .dataframe thead th {\n",
       "        text-align: right;\n",
       "    }\n",
       "</style>\n",
       "<table border=\"1\" class=\"dataframe\">\n",
       "  <thead>\n",
       "    <tr style=\"text-align: right;\">\n",
       "      <th></th>\n",
       "      <th>Text_ID</th>\n",
       "      <th>city</th>\n",
       "      <th>state</th>\n",
       "      <th>date_time</th>\n",
       "      <th>stats</th>\n",
       "      <th>city_latitude</th>\n",
       "      <th>city_longitude</th>\n",
       "      <th>Reported_stats</th>\n",
       "      <th>city_state</th>\n",
       "      <th>coord</th>\n",
       "      <th>date_time_2</th>\n",
       "      <th>time_difference</th>\n",
       "      <th>reporting_lag</th>\n",
       "      <th>timezone</th>\n",
       "      <th>utc</th>\n",
       "      <th>date</th>\n",
       "      <th>tle</th>\n",
       "      <th>epoch_time</th>\n",
       "      <th>iss_cord</th>\n",
       "      <th>iss_nearby</th>\n",
       "    </tr>\n",
       "  </thead>\n",
       "  <tbody>\n",
       "    <tr>\n",
       "      <th>0</th>\n",
       "      <td>1.0</td>\n",
       "      <td>Chester</td>\n",
       "      <td>VA</td>\n",
       "      <td>2019-12-12T18:43:00</td>\n",
       "      <td>[Occurred : 12/12/2019 18:43  (Entered as : 12...</td>\n",
       "      <td>37.343152</td>\n",
       "      <td>-77.408582</td>\n",
       "      <td>2019-12-19 19:19:31</td>\n",
       "      <td>(Chester, VA)</td>\n",
       "      <td>(37.34315152, -77.40858182)</td>\n",
       "      <td>2019-12-12 18:43:00</td>\n",
       "      <td>7 days 00:36:31</td>\n",
       "      <td>weeks</td>\n",
       "      <td>America/New_York</td>\n",
       "      <td>2019-12-12 23:43:00+00:00</td>\n",
       "      <td>2019-12-12</td>\n",
       "      <td>[1 25544U 98067A   19346.93506944 -.00000088  ...</td>\n",
       "      <td>2019-12-12 22:26:29.999603+00:00</td>\n",
       "      <td>(29.0182, -88.1384)</td>\n",
       "      <td>False</td>\n",
       "    </tr>\n",
       "    <tr>\n",
       "      <th>1</th>\n",
       "      <td>3824.0</td>\n",
       "      <td>Waldorf</td>\n",
       "      <td>MD</td>\n",
       "      <td>2019-12-12T18:30:00</td>\n",
       "      <td>[Occurred : 12/12/2019 18:30  (Entered as : 12...</td>\n",
       "      <td>38.611997</td>\n",
       "      <td>-76.906551</td>\n",
       "      <td>2019-12-21 18:11:11</td>\n",
       "      <td>(Waldorf, MD)</td>\n",
       "      <td>(38.61199693, -76.90655119)</td>\n",
       "      <td>2019-12-12 18:30:00</td>\n",
       "      <td>8 days 23:41:11</td>\n",
       "      <td>weeks</td>\n",
       "      <td>America/New_York</td>\n",
       "      <td>2019-12-12 23:30:00+00:00</td>\n",
       "      <td>2019-12-12</td>\n",
       "      <td>[1 25544U 98067A   19346.93506944 -.00000088  ...</td>\n",
       "      <td>2019-12-12 22:26:29.999603+00:00</td>\n",
       "      <td>(51.7733, -146.5292)</td>\n",
       "      <td>False</td>\n",
       "    </tr>\n",
       "    <tr>\n",
       "      <th>2</th>\n",
       "      <td>2.0</td>\n",
       "      <td>Rocky Hill</td>\n",
       "      <td>CT</td>\n",
       "      <td>2019-03-22T18:30:00</td>\n",
       "      <td>[Occurred : 3/22/2019 18:30  (Entered as : 03/...</td>\n",
       "      <td>41.664800</td>\n",
       "      <td>-72.639300</td>\n",
       "      <td>2019-03-27 16:10:19</td>\n",
       "      <td>(Rocky Hill, CT)</td>\n",
       "      <td>(41.6648, -72.6393)</td>\n",
       "      <td>2019-03-22 18:30:00</td>\n",
       "      <td>4 days 21:40:19</td>\n",
       "      <td>days</td>\n",
       "      <td>America/New_York</td>\n",
       "      <td>2019-03-22 22:30:00+00:00</td>\n",
       "      <td>2019-03-22</td>\n",
       "      <td>[1 25544U 98067A   19081.91354657  .00001745  ...</td>\n",
       "      <td>2019-03-22 21:55:30.423645+00:00</td>\n",
       "      <td>(-38.9642, 131.8882)</td>\n",
       "      <td>False</td>\n",
       "    </tr>\n",
       "    <tr>\n",
       "      <th>3</th>\n",
       "      <td>3413.0</td>\n",
       "      <td>Windsor</td>\n",
       "      <td>CA</td>\n",
       "      <td>2019-03-21T23:00:00</td>\n",
       "      <td>[Occurred : 3/21/2019 23:00  (Entered as : 3/2...</td>\n",
       "      <td>38.536900</td>\n",
       "      <td>-122.812300</td>\n",
       "      <td>2019-03-31 08:34:56</td>\n",
       "      <td>(Windsor, CA)</td>\n",
       "      <td>(38.5369, -122.8123)</td>\n",
       "      <td>2019-03-21 23:00:00</td>\n",
       "      <td>9 days 09:34:56</td>\n",
       "      <td>weeks</td>\n",
       "      <td>America/Los_Angeles</td>\n",
       "      <td>2019-03-22 06:00:00+00:00</td>\n",
       "      <td>2019-03-22</td>\n",
       "      <td>[1 25544U 98067A   19081.91354657  .00001745  ...</td>\n",
       "      <td>2019-03-22 21:55:30.423645+00:00</td>\n",
       "      <td>(-10.2320, 155.7894)</td>\n",
       "      <td>False</td>\n",
       "    </tr>\n",
       "    <tr>\n",
       "      <th>4</th>\n",
       "      <td>3728.0</td>\n",
       "      <td>Nampa</td>\n",
       "      <td>ID</td>\n",
       "      <td>2019-03-21T19:30:00</td>\n",
       "      <td>[Occurred : 3/21/2019 19:30  (Entered as : 03/...</td>\n",
       "      <td>43.568919</td>\n",
       "      <td>-116.561976</td>\n",
       "      <td>2019-03-29 04:26:59</td>\n",
       "      <td>(Nampa, ID)</td>\n",
       "      <td>(43.56891901, -116.5619761)</td>\n",
       "      <td>2019-03-21 19:30:00</td>\n",
       "      <td>7 days 08:56:59</td>\n",
       "      <td>weeks</td>\n",
       "      <td>America/Boise</td>\n",
       "      <td>2019-03-22 01:30:00+00:00</td>\n",
       "      <td>2019-03-22</td>\n",
       "      <td>[1 25544U 98067A   19081.91354657  .00001745  ...</td>\n",
       "      <td>2019-03-22 21:55:30.423645+00:00</td>\n",
       "      <td>(14.1956, -115.9423)</td>\n",
       "      <td>False</td>\n",
       "    </tr>\n",
       "  </tbody>\n",
       "</table>\n",
       "</div>"
      ],
      "text/plain": [
       "   Text_ID        city state            date_time  \\\n",
       "0      1.0     Chester    VA  2019-12-12T18:43:00   \n",
       "1   3824.0     Waldorf    MD  2019-12-12T18:30:00   \n",
       "2      2.0  Rocky Hill    CT  2019-03-22T18:30:00   \n",
       "3   3413.0     Windsor    CA  2019-03-21T23:00:00   \n",
       "4   3728.0       Nampa    ID  2019-03-21T19:30:00   \n",
       "\n",
       "                                               stats  city_latitude  \\\n",
       "0  [Occurred : 12/12/2019 18:43  (Entered as : 12...      37.343152   \n",
       "1  [Occurred : 12/12/2019 18:30  (Entered as : 12...      38.611997   \n",
       "2  [Occurred : 3/22/2019 18:30  (Entered as : 03/...      41.664800   \n",
       "3  [Occurred : 3/21/2019 23:00  (Entered as : 3/2...      38.536900   \n",
       "4  [Occurred : 3/21/2019 19:30  (Entered as : 03/...      43.568919   \n",
       "\n",
       "   city_longitude       Reported_stats        city_state  \\\n",
       "0      -77.408582  2019-12-19 19:19:31     (Chester, VA)   \n",
       "1      -76.906551  2019-12-21 18:11:11     (Waldorf, MD)   \n",
       "2      -72.639300  2019-03-27 16:10:19  (Rocky Hill, CT)   \n",
       "3     -122.812300  2019-03-31 08:34:56     (Windsor, CA)   \n",
       "4     -116.561976  2019-03-29 04:26:59       (Nampa, ID)   \n",
       "\n",
       "                         coord         date_time_2 time_difference  \\\n",
       "0  (37.34315152, -77.40858182) 2019-12-12 18:43:00 7 days 00:36:31   \n",
       "1  (38.61199693, -76.90655119) 2019-12-12 18:30:00 8 days 23:41:11   \n",
       "2          (41.6648, -72.6393) 2019-03-22 18:30:00 4 days 21:40:19   \n",
       "3         (38.5369, -122.8123) 2019-03-21 23:00:00 9 days 09:34:56   \n",
       "4  (43.56891901, -116.5619761) 2019-03-21 19:30:00 7 days 08:56:59   \n",
       "\n",
       "  reporting_lag             timezone                       utc        date  \\\n",
       "0         weeks     America/New_York 2019-12-12 23:43:00+00:00  2019-12-12   \n",
       "1         weeks     America/New_York 2019-12-12 23:30:00+00:00  2019-12-12   \n",
       "2          days     America/New_York 2019-03-22 22:30:00+00:00  2019-03-22   \n",
       "3         weeks  America/Los_Angeles 2019-03-22 06:00:00+00:00  2019-03-22   \n",
       "4         weeks        America/Boise 2019-03-22 01:30:00+00:00  2019-03-22   \n",
       "\n",
       "                                                 tle  \\\n",
       "0  [1 25544U 98067A   19346.93506944 -.00000088  ...   \n",
       "1  [1 25544U 98067A   19346.93506944 -.00000088  ...   \n",
       "2  [1 25544U 98067A   19081.91354657  .00001745  ...   \n",
       "3  [1 25544U 98067A   19081.91354657  .00001745  ...   \n",
       "4  [1 25544U 98067A   19081.91354657  .00001745  ...   \n",
       "\n",
       "                        epoch_time              iss_cord  iss_nearby  \n",
       "0 2019-12-12 22:26:29.999603+00:00   (29.0182, -88.1384)       False  \n",
       "1 2019-12-12 22:26:29.999603+00:00  (51.7733, -146.5292)       False  \n",
       "2 2019-03-22 21:55:30.423645+00:00  (-38.9642, 131.8882)       False  \n",
       "3 2019-03-22 21:55:30.423645+00:00  (-10.2320, 155.7894)       False  \n",
       "4 2019-03-22 21:55:30.423645+00:00  (14.1956, -115.9423)       False  "
      ]
     },
     "execution_count": 220,
     "metadata": {},
     "output_type": "execute_result"
    }
   ],
   "source": [
    "# apply the iss nearby function\n",
    "merged_df['iss_nearby'] = merged_df.apply(lambda row: iss_nearby(row['coord'], row['iss_cord']), axis=1)\n",
    "merged_df.head()"
   ]
  },
  {
   "cell_type": "code",
   "execution_count": 221,
   "metadata": {},
   "outputs": [
    {
     "data": {
      "text/plain": [
       "False    65544\n",
       "True       154\n",
       "Name: iss_nearby, dtype: int64"
      ]
     },
     "execution_count": 221,
     "metadata": {},
     "output_type": "execute_result"
    }
   ],
   "source": [
    "# how many instances have the iss nearby\n",
    "merged_df['iss_nearby'].value_counts()"
   ]
  },
  {
   "cell_type": "code",
   "execution_count": 224,
   "metadata": {},
   "outputs": [],
   "source": [
    "merged_df.to_csv('/Users/rahimjiwa/Documents/Github/feature-engineering/data/UFO/data_with_iss.csv')"
   ]
  },
  {
   "cell_type": "code",
   "execution_count": 222,
   "metadata": {},
   "outputs": [],
   "source": [
    "# to not have to run all the above you can get the data using\n",
    "#df_iss = pd.read_csv('/Users/rahimjiwa/Documents/Github/feature-engineering/data/UFO/data_with_iss.csv')\n"
   ]
  },
  {
   "cell_type": "markdown",
   "metadata": {},
   "source": [
    "With our analysis, we can see that the ISS isn't nearby in many of the sightings. While this is disappointing as a results, as the expectation is that it would be able to explain more of the instances, it is possible that there are other space objects that could explain the sightings (ex: comets, meteors, stars, other satellites). We could extend what we have done here, to work with additional data from Celestrak containing other astrological phenomemon. This would be a next step. Another next step would be to take the sightings data and further it, by looking at visibility conditions, trying to determine a more precise estimation of location and come up with a better range for where it would be visibile nearby. Ideally, you would just like to have a column that identifies whether their are visible space objects near a given location, which we could then feed into a model."
   ]
  },
  {
   "cell_type": "markdown",
   "metadata": {},
   "source": [
    "# Model"
   ]
  }
 ],
 "metadata": {
  "colab": {
   "collapsed_sections": [],
   "name": "Feature_Engineering_Project.ipynb",
   "provenance": []
  },
  "kernelspec": {
   "display_name": "Python 3",
   "language": "python",
   "name": "python3"
  },
  "language_info": {
   "codemirror_mode": {
    "name": "ipython",
    "version": 3
   },
   "file_extension": ".py",
   "mimetype": "text/x-python",
   "name": "python",
   "nbconvert_exporter": "python",
   "pygments_lexer": "ipython3",
   "version": "3.7.4"
  },
  "toc": {
   "base_numbering": 1,
   "nav_menu": {},
   "number_sections": true,
   "sideBar": true,
   "skip_h1_title": false,
   "title_cell": "Table of Contents",
   "title_sidebar": "Contents",
   "toc_cell": false,
   "toc_position": {},
   "toc_section_display": true,
   "toc_window_display": false
  }
 },
 "nbformat": 4,
 "nbformat_minor": 1
}
